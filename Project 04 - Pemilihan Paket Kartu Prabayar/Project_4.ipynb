{
 "cells": [
  {
   "cell_type": "markdown",
   "metadata": {},
   "source": [
    "# Paket Prabayar Manakah yang Lebih Baik?\n",
    "\n",
    "Anda bekerja sebagai seorang analis di perusahaan operator telekomunikasi bernama Megaline. Perusahaan tersebut menawarkan kliennya dua jenis paket prabayar, yaitu paket Surf dan paket Ultimate. Departemen periklanan ingin mengetahui paket prabayar mana yang menghasilkan lebih banyak pendapatan, sehingga mereka bisa membuat anggaran iklan yang sesuai.\n",
    "\n",
    "Anda akan melakukan analisis awal untuk paket-paket prabayar tersebut berdasarkan sampel klien yang berukuran relatif kecil. Anda memiliki 500 data klien Megaline, yang berisi informasi seperti: siapa mereka, dari mana asalnya, jenis paket apa yang mereka gunakan, serta jumlah panggilan dan pesan yang mereka kirim di tahun 2018. Tugas Anda adalah untuk menganalisis perilaku para pengguna, lalu menentukan paket prabayar manakah yang lebih menguntungkan."
   ]
  },
  {
   "cell_type": "markdown",
   "metadata": {},
   "source": [
    "Dataset yang dimiliki perusahaan Megaline diantaranya berisi `calls`, `internet`, `messages`, `plans` dan `users` yang semuanya memiliki informasi yang penting untuk analisis projek ini. Tujuan dari projek ini adalah selain untuk mencari pendapatan terbanyak dari kedua paket prabayar tersebut namun juga menganalisis prilaku pengguna seperti durasi telepon, jumlah sms dan jumlah penggunaan data internet terhadap kedua paket prabayar tersebut. Beberapa hipotesis diajukan sebagai berikut:\n",
    "\n",
    "1. Benarkah untuk kategori durasi telepon terbanyak dalam satu bulan dimiliki oleh Paket Ultimate?\n",
    "2. Benarkah untuk kategori jumlah sms terbanyak dalam satu bulan dimiliki oleh Paket Ultimate?\n",
    "3. Berapakah rata-rata penggunaan kisaran jumlah data internet per bulan untuk kedua tipe Paket Prabayar?\n",
    "4. Benarkah jumlah pendapatan terbanyak dari pengguna per bulan dimiliki oleh Paket Ultimate?\n",
    "5. Benarkah Pendapatan Rata-rata dari Pengguna Paket Prabayar Ultimate dan Surf Berbeda?\n",
    "7. Benarkah Pendapatan Rata-rata dari Pengguna di Wilayah NY-NJ dengan Wilayah Lain adalah Berbeda?"
   ]
  },
  {
   "cell_type": "markdown",
   "metadata": {},
   "source": [
    "# Daftar Isi <a id='back'></a>\n",
    "* [Tahap 1 Inisialisasi](#inisial)\n",
    "    * [Tahap 1.1 Memuat Data](#load)\n",
    "* [Tahap 2 Mempersiapkan Data](#prep)\n",
    "    * [Tahap 2.1 Paket Prabayar](#paket)\n",
    "    * [Tahap 2.2 Pengguna](#user)\n",
    "    * [Tahap 2.3 Panggilan](#call)\n",
    "    * [Tahap 2.4 Pesan/SMS](#sms)\n",
    "    * [Tahap 2.5 Internet](#inter)\n",
    "* [Tahap 3 Syarat dan Kondisi paket](#snk)\n",
    "    * [Tahap 3.1 Agregasi Data](#agg)\n",
    "    * [Tahap 3.2 Perilaku Pengguna](#adj)\n",
    "    * [Tahap 3.3 Pendapatan Pengguna](#inc)\n",
    "* [Tahap 4 Menguji Hipotesis](#hipo)\n",
    "* [Tahap 5 Kesimpulan Umum](#conc)"
   ]
  },
  {
   "cell_type": "markdown",
   "metadata": {},
   "source": [
    "# Inisialisasi<a id='inisial'></a>"
   ]
  },
  {
   "cell_type": "markdown",
   "metadata": {},
   "source": [
    "Memuat semua library yang dibutuhkan:"
   ]
  },
  {
   "cell_type": "code",
   "execution_count": 1,
   "metadata": {},
   "outputs": [],
   "source": [
    "# Muat semua library\n",
    "import pandas as pd # memproses dataframe\n",
    "import numpy as np # memproses statistik deskriptif\n",
    "import matplotlib.pyplot as plt # memvisualisasikan data\n",
    "import seaborn as sns # memvisualisasikan data\n",
    "import math as mt # menambahkan fungsi matematika\n",
    "from scipy import stats as st # memproses hipotesis\n",
    "\n",
    "# set tema seaborn\n",
    "sns.set_theme(palette='bright')"
   ]
  },
  {
   "cell_type": "markdown",
   "metadata": {},
   "source": [
    "## Memuat Data<a id='load'></a>"
   ]
  },
  {
   "cell_type": "markdown",
   "metadata": {},
   "source": [
    "Memasukkan data:"
   ]
  },
  {
   "cell_type": "code",
   "execution_count": 2,
   "metadata": {},
   "outputs": [],
   "source": [
    "# Muat file data ke dalam DataFrame yang berbeda\n",
    "calls = pd.read_csv('/datasets/megaline_calls.csv')\n",
    "internet = pd.read_csv('/datasets/megaline_internet.csv')\n",
    "messages = pd.read_csv('/datasets/megaline_messages.csv')\n",
    "plans = pd.read_csv('/datasets/megaline_plans.csv')\n",
    "users = pd.read_csv('/datasets/megaline_users.csv')"
   ]
  },
  {
   "cell_type": "markdown",
   "metadata": {},
   "source": [
    "# Mempersiapkan Data<a id='prep'></a>"
   ]
  },
  {
   "cell_type": "markdown",
   "metadata": {},
   "source": [
    "Membagi Data untuk proyek ini dibagi menjadi beberapa tabel. Menjelajahi masing-masing tabel untuk mendapatkan pemahaman awal tentang data. Lakukan koreksi di setiap tabel jika memang diperlukan"
   ]
  },
  {
   "cell_type": "markdown",
   "metadata": {},
   "source": [
    "## Paket Prabayar<a id='paket'></a>"
   ]
  },
  {
   "cell_type": "code",
   "execution_count": 3,
   "metadata": {
    "collapsed": true
   },
   "outputs": [
    {
     "name": "stdout",
     "output_type": "stream",
     "text": [
      "<class 'pandas.core.frame.DataFrame'>\n",
      "RangeIndex: 2 entries, 0 to 1\n",
      "Data columns (total 8 columns):\n",
      " #   Column                 Non-Null Count  Dtype  \n",
      "---  ------                 --------------  -----  \n",
      " 0   messages_included      2 non-null      int64  \n",
      " 1   mb_per_month_included  2 non-null      int64  \n",
      " 2   minutes_included       2 non-null      int64  \n",
      " 3   usd_monthly_pay        2 non-null      int64  \n",
      " 4   usd_per_gb             2 non-null      int64  \n",
      " 5   usd_per_message        2 non-null      float64\n",
      " 6   usd_per_minute         2 non-null      float64\n",
      " 7   plan_name              2 non-null      object \n",
      "dtypes: float64(2), int64(5), object(1)\n",
      "memory usage: 256.0+ bytes\n"
     ]
    }
   ],
   "source": [
    "# Tampilkan informasi/rangkuman umum tentang DataFrame paket-paket prabayar\n",
    "plans.info()\n"
   ]
  },
  {
   "cell_type": "markdown",
   "metadata": {},
   "source": [
    "Dataframe berisi:\n",
    "* `plan_name` — nama paket telepon\n",
    "* `usd_monthly_fee` — biaya bulanan dalam dolar AS\n",
    "* `minutes_included` — alokasi menit panggilan bulanan\n",
    "* `messages_included` — alokasi SMS bulanan\n",
    "* `mb_per_month_included` — alokasi volume data bulanan (dalam megabyte)\n",
    "* `usd_per_minute` — harga per menit jika sudah melebihi batas alokasi paket (misalnya, jika paket memiliki alokasi 100 menit maka penggunaan mulai dari menit ke-101 akan dikenakan biaya)\n",
    "* `usd_per_message` — harga per SMS jika sudah melebihi batas alokasi paket\n",
    "*` usd_per_gb` — harga per gigabyte tambahan data jika sudah melebihi batas alokasi paket (1 GB = 1024 megabyte)"
   ]
  },
  {
   "cell_type": "code",
   "execution_count": 4,
   "metadata": {
    "collapsed": true
   },
   "outputs": [
    {
     "data": {
      "text/html": [
       "<div>\n",
       "<style scoped>\n",
       "    .dataframe tbody tr th:only-of-type {\n",
       "        vertical-align: middle;\n",
       "    }\n",
       "\n",
       "    .dataframe tbody tr th {\n",
       "        vertical-align: top;\n",
       "    }\n",
       "\n",
       "    .dataframe thead th {\n",
       "        text-align: right;\n",
       "    }\n",
       "</style>\n",
       "<table border=\"1\" class=\"dataframe\">\n",
       "  <thead>\n",
       "    <tr style=\"text-align: right;\">\n",
       "      <th></th>\n",
       "      <th>messages_included</th>\n",
       "      <th>mb_per_month_included</th>\n",
       "      <th>minutes_included</th>\n",
       "      <th>usd_monthly_pay</th>\n",
       "      <th>usd_per_gb</th>\n",
       "      <th>usd_per_message</th>\n",
       "      <th>usd_per_minute</th>\n",
       "      <th>plan_name</th>\n",
       "    </tr>\n",
       "  </thead>\n",
       "  <tbody>\n",
       "    <tr>\n",
       "      <th>0</th>\n",
       "      <td>50</td>\n",
       "      <td>15360</td>\n",
       "      <td>500</td>\n",
       "      <td>20</td>\n",
       "      <td>10</td>\n",
       "      <td>0.03</td>\n",
       "      <td>0.03</td>\n",
       "      <td>surf</td>\n",
       "    </tr>\n",
       "    <tr>\n",
       "      <th>1</th>\n",
       "      <td>1000</td>\n",
       "      <td>30720</td>\n",
       "      <td>3000</td>\n",
       "      <td>70</td>\n",
       "      <td>7</td>\n",
       "      <td>0.01</td>\n",
       "      <td>0.01</td>\n",
       "      <td>ultimate</td>\n",
       "    </tr>\n",
       "  </tbody>\n",
       "</table>\n",
       "</div>"
      ],
      "text/plain": [
       "   messages_included  mb_per_month_included  minutes_included  \\\n",
       "0                 50                  15360               500   \n",
       "1               1000                  30720              3000   \n",
       "\n",
       "   usd_monthly_pay  usd_per_gb  usd_per_message  usd_per_minute plan_name  \n",
       "0               20          10             0.03            0.03      surf  \n",
       "1               70           7             0.01            0.01  ultimate  "
      ]
     },
     "execution_count": 4,
     "metadata": {},
     "output_type": "execute_result"
    }
   ],
   "source": [
    "# Tampilkan sampel data untuk paket-paket tersebut\n",
    "plans\n"
   ]
  },
  {
   "cell_type": "markdown",
   "metadata": {},
   "source": [
    "DataFrame berisi\n",
    "* `message included` - paket pesan \n",
    "* `mb_per_month_included` - paket internet\n",
    "* `minutes_included` - paket telepon\n",
    "* `usd_monthly_pay` - harga per bulan (USD)\n",
    "* `usd_per_gb` - internet (non-paket)\n",
    "* `usd_per_message` - pesan (non-paket)\n",
    "* `usd_per_minute` - telepon (non-paket)\n",
    "* `plan_name` - nama paket"
   ]
  },
  {
   "cell_type": "markdown",
   "metadata": {},
   "source": [
    "**Kesimpulan**:\n",
    "terlihat bahwa tidak ada data yang hilang, data yang terduplikat, dan tipe data yang salah\n"
   ]
  },
  {
   "cell_type": "markdown",
   "metadata": {},
   "source": [
    "## Pengguna<a id='user'></a>"
   ]
  },
  {
   "cell_type": "code",
   "execution_count": 5,
   "metadata": {
    "collapsed": true
   },
   "outputs": [
    {
     "name": "stdout",
     "output_type": "stream",
     "text": [
      "<class 'pandas.core.frame.DataFrame'>\n",
      "RangeIndex: 500 entries, 0 to 499\n",
      "Data columns (total 8 columns):\n",
      " #   Column      Non-Null Count  Dtype \n",
      "---  ------      --------------  ----- \n",
      " 0   user_id     500 non-null    int64 \n",
      " 1   first_name  500 non-null    object\n",
      " 2   last_name   500 non-null    object\n",
      " 3   age         500 non-null    int64 \n",
      " 4   city        500 non-null    object\n",
      " 5   reg_date    500 non-null    object\n",
      " 6   plan        500 non-null    object\n",
      " 7   churn_date  34 non-null     object\n",
      "dtypes: int64(2), object(6)\n",
      "memory usage: 31.4+ KB\n"
     ]
    }
   ],
   "source": [
    "# Tampilkan informasi/rangkuman umum tentang DataFrame pengguna\n",
    "users.info()\n"
   ]
  },
  {
   "cell_type": "markdown",
   "metadata": {},
   "source": [
    "DataFrame berisi:\n",
    "\n",
    "1. `user_id` - kode pelanggan\n",
    "2. `first_name` - nama depan\n",
    "3. `last name` - nama belakang\n",
    "4. `age` - umur\n",
    "5. `city` - kota\n",
    "6. `reg_sate` - tanggal berlangganan\n",
    "7. `plan` - paket yang dipiilih\n",
    "8. `churn_date` - tanggal pengguna berhenti menggunakan layanan"
   ]
  },
  {
   "cell_type": "code",
   "execution_count": 6,
   "metadata": {
    "collapsed": true
   },
   "outputs": [
    {
     "data": {
      "text/plain": [
       "0"
      ]
     },
     "execution_count": 6,
     "metadata": {},
     "output_type": "execute_result"
    }
   ],
   "source": [
    "users.duplicated().sum()"
   ]
  },
  {
   "cell_type": "code",
   "execution_count": 7,
   "metadata": {
    "collapsed": true
   },
   "outputs": [
    {
     "data": {
      "text/html": [
       "<div>\n",
       "<style scoped>\n",
       "    .dataframe tbody tr th:only-of-type {\n",
       "        vertical-align: middle;\n",
       "    }\n",
       "\n",
       "    .dataframe tbody tr th {\n",
       "        vertical-align: top;\n",
       "    }\n",
       "\n",
       "    .dataframe thead th {\n",
       "        text-align: right;\n",
       "    }\n",
       "</style>\n",
       "<table border=\"1\" class=\"dataframe\">\n",
       "  <thead>\n",
       "    <tr style=\"text-align: right;\">\n",
       "      <th></th>\n",
       "      <th>user_id</th>\n",
       "      <th>first_name</th>\n",
       "      <th>last_name</th>\n",
       "      <th>age</th>\n",
       "      <th>city</th>\n",
       "      <th>reg_date</th>\n",
       "      <th>plan</th>\n",
       "      <th>churn_date</th>\n",
       "    </tr>\n",
       "  </thead>\n",
       "  <tbody>\n",
       "    <tr>\n",
       "      <th>133</th>\n",
       "      <td>1133</td>\n",
       "      <td>Larry</td>\n",
       "      <td>Barr</td>\n",
       "      <td>50</td>\n",
       "      <td>Cincinnati, OH-KY-IN MSA</td>\n",
       "      <td>2018-07-21</td>\n",
       "      <td>ultimate</td>\n",
       "      <td>NaN</td>\n",
       "    </tr>\n",
       "    <tr>\n",
       "      <th>467</th>\n",
       "      <td>1467</td>\n",
       "      <td>Nickolas</td>\n",
       "      <td>Deleon</td>\n",
       "      <td>64</td>\n",
       "      <td>Atlanta-Sandy Springs-Roswell, GA MSA</td>\n",
       "      <td>2018-01-31</td>\n",
       "      <td>ultimate</td>\n",
       "      <td>2018-11-18</td>\n",
       "    </tr>\n",
       "    <tr>\n",
       "      <th>103</th>\n",
       "      <td>1103</td>\n",
       "      <td>Moises</td>\n",
       "      <td>Weeks</td>\n",
       "      <td>28</td>\n",
       "      <td>Seattle-Tacoma-Bellevue, WA MSA</td>\n",
       "      <td>2018-07-01</td>\n",
       "      <td>surf</td>\n",
       "      <td>NaN</td>\n",
       "    </tr>\n",
       "    <tr>\n",
       "      <th>230</th>\n",
       "      <td>1230</td>\n",
       "      <td>Andre</td>\n",
       "      <td>Estes</td>\n",
       "      <td>38</td>\n",
       "      <td>New York-Newark-Jersey City, NY-NJ-PA MSA</td>\n",
       "      <td>2018-02-27</td>\n",
       "      <td>ultimate</td>\n",
       "      <td>NaN</td>\n",
       "    </tr>\n",
       "    <tr>\n",
       "      <th>292</th>\n",
       "      <td>1292</td>\n",
       "      <td>Cassey</td>\n",
       "      <td>French</td>\n",
       "      <td>42</td>\n",
       "      <td>Dallas-Fort Worth-Arlington, TX MSA</td>\n",
       "      <td>2018-01-27</td>\n",
       "      <td>surf</td>\n",
       "      <td>NaN</td>\n",
       "    </tr>\n",
       "    <tr>\n",
       "      <th>221</th>\n",
       "      <td>1221</td>\n",
       "      <td>Mckenzie</td>\n",
       "      <td>Wilkinson</td>\n",
       "      <td>18</td>\n",
       "      <td>Boston-Cambridge-Newton, MA-NH MSA</td>\n",
       "      <td>2018-12-17</td>\n",
       "      <td>surf</td>\n",
       "      <td>NaN</td>\n",
       "    </tr>\n",
       "    <tr>\n",
       "      <th>367</th>\n",
       "      <td>1367</td>\n",
       "      <td>Minh</td>\n",
       "      <td>Fischer</td>\n",
       "      <td>18</td>\n",
       "      <td>Baltimore-Columbia-Towson, MD MSA</td>\n",
       "      <td>2018-07-23</td>\n",
       "      <td>surf</td>\n",
       "      <td>NaN</td>\n",
       "    </tr>\n",
       "    <tr>\n",
       "      <th>306</th>\n",
       "      <td>1306</td>\n",
       "      <td>Darron</td>\n",
       "      <td>Craig</td>\n",
       "      <td>19</td>\n",
       "      <td>Washington-Arlington-Alexandria, DC-VA-MD-WV MSA</td>\n",
       "      <td>2018-11-26</td>\n",
       "      <td>surf</td>\n",
       "      <td>NaN</td>\n",
       "    </tr>\n",
       "    <tr>\n",
       "      <th>179</th>\n",
       "      <td>1179</td>\n",
       "      <td>Darcey</td>\n",
       "      <td>Baird</td>\n",
       "      <td>22</td>\n",
       "      <td>Dallas-Fort Worth-Arlington, TX MSA</td>\n",
       "      <td>2018-04-27</td>\n",
       "      <td>surf</td>\n",
       "      <td>NaN</td>\n",
       "    </tr>\n",
       "    <tr>\n",
       "      <th>497</th>\n",
       "      <td>1497</td>\n",
       "      <td>Donte</td>\n",
       "      <td>Barrera</td>\n",
       "      <td>49</td>\n",
       "      <td>Los Angeles-Long Beach-Anaheim, CA MSA</td>\n",
       "      <td>2018-12-10</td>\n",
       "      <td>ultimate</td>\n",
       "      <td>NaN</td>\n",
       "    </tr>\n",
       "  </tbody>\n",
       "</table>\n",
       "</div>"
      ],
      "text/plain": [
       "     user_id first_name  last_name  age  \\\n",
       "133     1133      Larry       Barr   50   \n",
       "467     1467   Nickolas     Deleon   64   \n",
       "103     1103     Moises      Weeks   28   \n",
       "230     1230      Andre      Estes   38   \n",
       "292     1292     Cassey     French   42   \n",
       "221     1221   Mckenzie  Wilkinson   18   \n",
       "367     1367       Minh    Fischer   18   \n",
       "306     1306     Darron      Craig   19   \n",
       "179     1179     Darcey      Baird   22   \n",
       "497     1497      Donte    Barrera   49   \n",
       "\n",
       "                                                 city    reg_date      plan  \\\n",
       "133                          Cincinnati, OH-KY-IN MSA  2018-07-21  ultimate   \n",
       "467             Atlanta-Sandy Springs-Roswell, GA MSA  2018-01-31  ultimate   \n",
       "103                   Seattle-Tacoma-Bellevue, WA MSA  2018-07-01      surf   \n",
       "230         New York-Newark-Jersey City, NY-NJ-PA MSA  2018-02-27  ultimate   \n",
       "292               Dallas-Fort Worth-Arlington, TX MSA  2018-01-27      surf   \n",
       "221                Boston-Cambridge-Newton, MA-NH MSA  2018-12-17      surf   \n",
       "367                 Baltimore-Columbia-Towson, MD MSA  2018-07-23      surf   \n",
       "306  Washington-Arlington-Alexandria, DC-VA-MD-WV MSA  2018-11-26      surf   \n",
       "179               Dallas-Fort Worth-Arlington, TX MSA  2018-04-27      surf   \n",
       "497            Los Angeles-Long Beach-Anaheim, CA MSA  2018-12-10  ultimate   \n",
       "\n",
       "     churn_date  \n",
       "133         NaN  \n",
       "467  2018-11-18  \n",
       "103         NaN  \n",
       "230         NaN  \n",
       "292         NaN  \n",
       "221         NaN  \n",
       "367         NaN  \n",
       "306         NaN  \n",
       "179         NaN  \n",
       "497         NaN  "
      ]
     },
     "execution_count": 7,
     "metadata": {},
     "output_type": "execute_result"
    }
   ],
   "source": [
    "# Tampilkan sampel data pengguna\n",
    "users.sample(10)\n"
   ]
  },
  {
   "cell_type": "markdown",
   "metadata": {},
   "source": [
    "**Kesimpulan**:\n",
    "\n",
    "terdapat beberapa permasalahan pada data tersebut:\n",
    "* `reg_date` memiliki type data yang slaah sehingga harus diubah menjadi tipe data tanggal\n",
    "* `churn_date` memiliki sejumlah data hilang"
   ]
  },
  {
   "cell_type": "markdown",
   "metadata": {},
   "source": [
    "### Memperbaiki Data"
   ]
  },
  {
   "cell_type": "markdown",
   "metadata": {},
   "source": [
    "Memperbaiki tipe data yang salah `reg_date` `object` menjadi `date_time`"
   ]
  },
  {
   "cell_type": "code",
   "execution_count": 8,
   "metadata": {
    "collapsed": true
   },
   "outputs": [
    {
     "name": "stdout",
     "output_type": "stream",
     "text": [
      "<class 'pandas.core.frame.DataFrame'>\n",
      "RangeIndex: 500 entries, 0 to 499\n",
      "Data columns (total 8 columns):\n",
      " #   Column      Non-Null Count  Dtype         \n",
      "---  ------      --------------  -----         \n",
      " 0   user_id     500 non-null    int64         \n",
      " 1   first_name  500 non-null    object        \n",
      " 2   last_name   500 non-null    object        \n",
      " 3   age         500 non-null    int64         \n",
      " 4   city        500 non-null    object        \n",
      " 5   reg_date    500 non-null    datetime64[ns]\n",
      " 6   plan        500 non-null    object        \n",
      " 7   churn_date  34 non-null     object        \n",
      "dtypes: datetime64[ns](1), int64(2), object(5)\n",
      "memory usage: 31.4+ KB\n"
     ]
    }
   ],
   "source": [
    "# memperbaiki tipe data yang salah pada kolom tanggal\n",
    "# merubah tipe data `objek` menjadi `datetime`\n",
    "users['reg_date'] = pd.to_datetime(users['reg_date'], format = '%Y-%m-%d')\n",
    "\n",
    "# menampilkan informasi `users`\n",
    "users.info()"
   ]
  },
  {
   "cell_type": "markdown",
   "metadata": {},
   "source": [
    "`reg_date` sudah diganti tipe menjadi `date_time`"
   ]
  },
  {
   "cell_type": "markdown",
   "metadata": {},
   "source": [
    "Selanjutnya mengisi nilai yang hilang pada kolom `churn_date`. Dikarenakan nilai yang hilang merupakan nasabah yang masih aktif hingga saat ini dan tanggal tercatat hanya sepanjang tahun 2018. Maka kita isi nilai tersebut dengan tanggal `2018-12-31`. Kemudian kita lanjutkan dengan mengubah tipe datanya ke `date_time`."
   ]
  },
  {
   "cell_type": "code",
   "execution_count": 9,
   "metadata": {
    "collapsed": true
   },
   "outputs": [
    {
     "name": "stdout",
     "output_type": "stream",
     "text": [
      "<class 'pandas.core.frame.DataFrame'>\n",
      "RangeIndex: 500 entries, 0 to 499\n",
      "Data columns (total 8 columns):\n",
      " #   Column      Non-Null Count  Dtype         \n",
      "---  ------      --------------  -----         \n",
      " 0   user_id     500 non-null    int64         \n",
      " 1   first_name  500 non-null    object        \n",
      " 2   last_name   500 non-null    object        \n",
      " 3   age         500 non-null    int64         \n",
      " 4   city        500 non-null    object        \n",
      " 5   reg_date    500 non-null    datetime64[ns]\n",
      " 6   plan        500 non-null    object        \n",
      " 7   churn_date  500 non-null    datetime64[ns]\n",
      "dtypes: datetime64[ns](2), int64(2), object(4)\n",
      "memory usage: 31.4+ KB\n"
     ]
    }
   ],
   "source": [
    "# mengisi nilai yang hilang \n",
    "users['churn_date'].fillna('2018-12-31', inplace = True)\n",
    "\n",
    "# mengubah tipe data `churn_date` menjadi `datetime`\n",
    "users['churn_date'] = pd.to_datetime(users['churn_date'], format = '%Y-%m-%d')\n",
    "\n",
    "# menampilkan informasi `users`\n",
    "users.info()"
   ]
  },
  {
   "cell_type": "markdown",
   "metadata": {},
   "source": [
    "`churn_date` telah diisi dan diganti menjadi `datetime`"
   ]
  },
  {
   "cell_type": "markdown",
   "metadata": {},
   "source": [
    "### Memperkaya Kualitas Data"
   ]
  },
  {
   "cell_type": "markdown",
   "metadata": {},
   "source": [
    "Untuk memudahkan analisis, diperlukan beberapa kolom tambahan seperti memisahkan `datetime` berdasarkan tanggal, bulan, tahun. Kemudian dilanjutkan pembuatan kolom region yang berisi apakah kota berasal dari wilayah `'NY-NJ`' atau bukan `'other'`."
   ]
  },
  {
   "cell_type": "code",
   "execution_count": 10,
   "metadata": {
    "collapsed": true
   },
   "outputs": [
    {
     "data": {
      "text/html": [
       "<div>\n",
       "<style scoped>\n",
       "    .dataframe tbody tr th:only-of-type {\n",
       "        vertical-align: middle;\n",
       "    }\n",
       "\n",
       "    .dataframe tbody tr th {\n",
       "        vertical-align: top;\n",
       "    }\n",
       "\n",
       "    .dataframe thead th {\n",
       "        text-align: right;\n",
       "    }\n",
       "</style>\n",
       "<table border=\"1\" class=\"dataframe\">\n",
       "  <thead>\n",
       "    <tr style=\"text-align: right;\">\n",
       "      <th></th>\n",
       "      <th>user_id</th>\n",
       "      <th>first_name</th>\n",
       "      <th>last_name</th>\n",
       "      <th>age</th>\n",
       "      <th>city</th>\n",
       "      <th>reg_date</th>\n",
       "      <th>plan</th>\n",
       "      <th>churn_date</th>\n",
       "      <th>tanggal</th>\n",
       "      <th>bulan</th>\n",
       "      <th>tahun</th>\n",
       "    </tr>\n",
       "  </thead>\n",
       "  <tbody>\n",
       "    <tr>\n",
       "      <th>0</th>\n",
       "      <td>1000</td>\n",
       "      <td>Anamaria</td>\n",
       "      <td>Bauer</td>\n",
       "      <td>45</td>\n",
       "      <td>Atlanta-Sandy Springs-Roswell, GA MSA</td>\n",
       "      <td>2018-12-24</td>\n",
       "      <td>ultimate</td>\n",
       "      <td>2018-12-31</td>\n",
       "      <td>24</td>\n",
       "      <td>12</td>\n",
       "      <td>2018</td>\n",
       "    </tr>\n",
       "    <tr>\n",
       "      <th>1</th>\n",
       "      <td>1001</td>\n",
       "      <td>Mickey</td>\n",
       "      <td>Wilkerson</td>\n",
       "      <td>28</td>\n",
       "      <td>Seattle-Tacoma-Bellevue, WA MSA</td>\n",
       "      <td>2018-08-13</td>\n",
       "      <td>surf</td>\n",
       "      <td>2018-12-31</td>\n",
       "      <td>13</td>\n",
       "      <td>8</td>\n",
       "      <td>2018</td>\n",
       "    </tr>\n",
       "    <tr>\n",
       "      <th>2</th>\n",
       "      <td>1002</td>\n",
       "      <td>Carlee</td>\n",
       "      <td>Hoffman</td>\n",
       "      <td>36</td>\n",
       "      <td>Las Vegas-Henderson-Paradise, NV MSA</td>\n",
       "      <td>2018-10-21</td>\n",
       "      <td>surf</td>\n",
       "      <td>2018-12-31</td>\n",
       "      <td>21</td>\n",
       "      <td>10</td>\n",
       "      <td>2018</td>\n",
       "    </tr>\n",
       "    <tr>\n",
       "      <th>3</th>\n",
       "      <td>1003</td>\n",
       "      <td>Reynaldo</td>\n",
       "      <td>Jenkins</td>\n",
       "      <td>52</td>\n",
       "      <td>Tulsa, OK MSA</td>\n",
       "      <td>2018-01-28</td>\n",
       "      <td>surf</td>\n",
       "      <td>2018-12-31</td>\n",
       "      <td>28</td>\n",
       "      <td>1</td>\n",
       "      <td>2018</td>\n",
       "    </tr>\n",
       "    <tr>\n",
       "      <th>4</th>\n",
       "      <td>1004</td>\n",
       "      <td>Leonila</td>\n",
       "      <td>Thompson</td>\n",
       "      <td>40</td>\n",
       "      <td>Seattle-Tacoma-Bellevue, WA MSA</td>\n",
       "      <td>2018-05-23</td>\n",
       "      <td>surf</td>\n",
       "      <td>2018-12-31</td>\n",
       "      <td>23</td>\n",
       "      <td>5</td>\n",
       "      <td>2018</td>\n",
       "    </tr>\n",
       "  </tbody>\n",
       "</table>\n",
       "</div>"
      ],
      "text/plain": [
       "   user_id first_name  last_name  age                                   city  \\\n",
       "0     1000   Anamaria      Bauer   45  Atlanta-Sandy Springs-Roswell, GA MSA   \n",
       "1     1001     Mickey  Wilkerson   28        Seattle-Tacoma-Bellevue, WA MSA   \n",
       "2     1002     Carlee    Hoffman   36   Las Vegas-Henderson-Paradise, NV MSA   \n",
       "3     1003   Reynaldo    Jenkins   52                          Tulsa, OK MSA   \n",
       "4     1004    Leonila   Thompson   40        Seattle-Tacoma-Bellevue, WA MSA   \n",
       "\n",
       "    reg_date      plan churn_date  tanggal  bulan  tahun  \n",
       "0 2018-12-24  ultimate 2018-12-31       24     12   2018  \n",
       "1 2018-08-13      surf 2018-12-31       13      8   2018  \n",
       "2 2018-10-21      surf 2018-12-31       21     10   2018  \n",
       "3 2018-01-28      surf 2018-12-31       28      1   2018  \n",
       "4 2018-05-23      surf 2018-12-31       23      5   2018  "
      ]
     },
     "execution_count": 10,
     "metadata": {},
     "output_type": "execute_result"
    }
   ],
   "source": [
    "# memisahkan kolom datetime\n",
    "\n",
    "# membuat kolom tanggal\n",
    "users['tanggal'] = users['reg_date'].dt.day\n",
    "\n",
    "# membuat kolom bulan\n",
    "users['bulan'] = users['reg_date'].dt.month\n",
    "\n",
    "# membuat kolom tahun\n",
    "users['tahun'] = users['reg_date'].dt.year\n",
    "\n",
    "# menampilkan sampel data\n",
    "users.head()"
   ]
  },
  {
   "cell_type": "markdown",
   "metadata": {},
   "source": [
    "Kolom baru `tanggal`, `bulan` dan `tahun` telah ditambahkan"
   ]
  },
  {
   "cell_type": "code",
   "execution_count": 11,
   "metadata": {
    "collapsed": true
   },
   "outputs": [
    {
     "data": {
      "text/plain": [
       "array(['Atlanta-Sandy Springs-Roswell, GA MSA',\n",
       "       'Seattle-Tacoma-Bellevue, WA MSA',\n",
       "       'Las Vegas-Henderson-Paradise, NV MSA', 'Tulsa, OK MSA',\n",
       "       'Dallas-Fort Worth-Arlington, TX MSA',\n",
       "       'San Francisco-Oakland-Berkeley, CA MSA',\n",
       "       'Grand Rapids-Kentwood, MI MSA',\n",
       "       'Orlando-Kissimmee-Sanford, FL MSA',\n",
       "       'San Jose-Sunnyvale-Santa Clara, CA MSA',\n",
       "       'Cleveland-Elyria, OH MSA',\n",
       "       'Chicago-Naperville-Elgin, IL-IN-WI MSA', 'Knoxville, TN MSA',\n",
       "       'New York-Newark-Jersey City, NY-NJ-PA MSA', 'Pittsburgh, PA MSA',\n",
       "       'Fresno, CA MSA',\n",
       "       'Washington-Arlington-Alexandria, DC-VA-MD-WV MSA',\n",
       "       'Indianapolis-Carmel-Anderson, IN MSA', 'Jacksonville, FL MSA',\n",
       "       'Los Angeles-Long Beach-Anaheim, CA MSA',\n",
       "       'Omaha-Council Bluffs, NE-IA MSA',\n",
       "       'Houston-The Woodlands-Sugar Land, TX MSA',\n",
       "       'Philadelphia-Camden-Wilmington, PA-NJ-DE-MD MSA',\n",
       "       'Tampa-St. Petersburg-Clearwater, FL MSA',\n",
       "       'Birmingham-Hoover, AL MSA', 'Oklahoma City, OK MSA',\n",
       "       'Charlotte-Concord-Gastonia, NC-SC MSA',\n",
       "       'Denver-Aurora-Lakewood, CO MSA',\n",
       "       'Nashville-Davidson–Murfreesboro–Franklin, TN MSA',\n",
       "       'Columbus, OH MSA', 'Albuquerque, NM MSA',\n",
       "       'Boston-Cambridge-Newton, MA-NH MSA',\n",
       "       'Miami-Fort Lauderdale-West Palm Beach, FL MSA',\n",
       "       'San Diego-Chula Vista-Carlsbad, CA MSA',\n",
       "       'Phoenix-Mesa-Chandler, AZ MSA',\n",
       "       'Portland-Vancouver-Hillsboro, OR-WA MSA',\n",
       "       'Cincinnati, OH-KY-IN MSA', 'Columbia, SC MSA',\n",
       "       'San Antonio-New Braunfels, TX MSA', 'Buffalo-Cheektowaga, NY MSA',\n",
       "       'Memphis, TN-MS-AR MSA',\n",
       "       'Riverside-San Bernardino-Ontario, CA MSA',\n",
       "       'Louisville/Jefferson County, KY-IN MSA',\n",
       "       'Albany-Schenectady-Troy, NY MSA', 'Providence-Warwick, RI-MA MSA',\n",
       "       'Salt Lake City, UT MSA', 'Urban Honolulu, HI MSA',\n",
       "       'El Paso, TX MSA', 'New Haven-Milford, CT MSA',\n",
       "       'North Port-Sarasota-Bradenton, FL MSA', 'Baton Rouge, LA MSA',\n",
       "       'New Orleans-Metairie, LA MSA',\n",
       "       'Bridgeport-Stamford-Norwalk, CT MSA',\n",
       "       'Virginia Beach-Norfolk-Newport News, VA-NC MSA',\n",
       "       'Baltimore-Columbia-Towson, MD MSA', 'Milwaukee-Waukesha, WI MSA',\n",
       "       'Oxnard-Thousand Oaks-Ventura, CA MSA',\n",
       "       'Sacramento–Roseville–Folsom, CA MSA',\n",
       "       'Austin-Round Rock-Georgetown, TX MSA', 'Richmond, VA MSA',\n",
       "       'St. Louis, MO-IL MSA',\n",
       "       'Minneapolis-St. Paul-Bloomington, MN-WI MSA',\n",
       "       'Dayton-Kettering, OH MSA', 'Bakersfield, CA MSA',\n",
       "       'Detroit-Warren-Dearborn, MI MSA', 'Kansas City, MO-KS MSA',\n",
       "       'Charleston-North Charleston, SC MSA', 'Rochester, NY MSA',\n",
       "       'Raleigh-Cary, NC MSA', 'Colorado Springs, CO MSA',\n",
       "       'Greensboro-High Point, NC MSA', 'Tucson, AZ MSA',\n",
       "       'Stockton, CA MSA', 'Cape Coral-Fort Myers, FL MSA'], dtype=object)"
      ]
     },
     "execution_count": 11,
     "metadata": {},
     "output_type": "execute_result"
    }
   ],
   "source": [
    "# mengecek nilai unik pada kolom `city`\n",
    "users['city'].unique()"
   ]
  },
  {
   "cell_type": "code",
   "execution_count": 12,
   "metadata": {
    "collapsed": true
   },
   "outputs": [
    {
     "data": {
      "text/plain": [
       "other    420\n",
       "NY-NJ     80\n",
       "Name: region, dtype: int64"
      ]
     },
     "execution_count": 12,
     "metadata": {},
     "output_type": "execute_result"
    }
   ],
   "source": [
    "# membuat fungsi pengecekan apakah berasal dari region `NY-NJ` atau bukan\n",
    "def split_region(data):\n",
    "    if ('NY-NJ' in data)|(data == 'NY')|(data == 'NJ'):\n",
    "        return 'NY-NJ'\n",
    "    else:\n",
    "        return 'other'\n",
    "\n",
    "# membuat kolom region menggunakan fungsi yang sudah dibuat\n",
    "users['region'] = users['city'].apply(split_region)\n",
    "\n",
    "# menampilkan value_counts dari kolom `region`\n",
    "users['region'].value_counts()"
   ]
  },
  {
   "cell_type": "markdown",
   "metadata": {},
   "source": [
    "Pengelompokkan berdasarkan kota `NY-NJ` telah dilakukan untuk mempermudah analisis selanjutnya"
   ]
  },
  {
   "cell_type": "markdown",
   "metadata": {},
   "source": [
    "## Panggilan<a id='call'></a>"
   ]
  },
  {
   "cell_type": "code",
   "execution_count": 13,
   "metadata": {},
   "outputs": [
    {
     "name": "stdout",
     "output_type": "stream",
     "text": [
      "<class 'pandas.core.frame.DataFrame'>\n",
      "RangeIndex: 137735 entries, 0 to 137734\n",
      "Data columns (total 4 columns):\n",
      " #   Column     Non-Null Count   Dtype  \n",
      "---  ------     --------------   -----  \n",
      " 0   id         137735 non-null  object \n",
      " 1   user_id    137735 non-null  int64  \n",
      " 2   call_date  137735 non-null  object \n",
      " 3   duration   137735 non-null  float64\n",
      "dtypes: float64(1), int64(1), object(2)\n",
      "memory usage: 4.2+ MB\n"
     ]
    }
   ],
   "source": [
    "# Tampilkan informasi/rangkuman umum tentang DataFrame panggilan\n",
    "calls.info()\n"
   ]
  },
  {
   "cell_type": "markdown",
   "metadata": {},
   "source": [
    "Dataframe berisi\n",
    "* `id` - ID\n",
    "* `user_id` - ID pengguna\n",
    "* `call_date` - tanggal panggilan\n",
    "* `duration` - durasi panggilan"
   ]
  },
  {
   "cell_type": "code",
   "execution_count": 14,
   "metadata": {},
   "outputs": [
    {
     "data": {
      "text/plain": [
       "0"
      ]
     },
     "execution_count": 14,
     "metadata": {},
     "output_type": "execute_result"
    }
   ],
   "source": [
    "calls.duplicated().sum()"
   ]
  },
  {
   "cell_type": "code",
   "execution_count": 15,
   "metadata": {},
   "outputs": [
    {
     "data": {
      "text/html": [
       "<div>\n",
       "<style scoped>\n",
       "    .dataframe tbody tr th:only-of-type {\n",
       "        vertical-align: middle;\n",
       "    }\n",
       "\n",
       "    .dataframe tbody tr th {\n",
       "        vertical-align: top;\n",
       "    }\n",
       "\n",
       "    .dataframe thead th {\n",
       "        text-align: right;\n",
       "    }\n",
       "</style>\n",
       "<table border=\"1\" class=\"dataframe\">\n",
       "  <thead>\n",
       "    <tr style=\"text-align: right;\">\n",
       "      <th></th>\n",
       "      <th>id</th>\n",
       "      <th>user_id</th>\n",
       "      <th>call_date</th>\n",
       "      <th>duration</th>\n",
       "    </tr>\n",
       "  </thead>\n",
       "  <tbody>\n",
       "    <tr>\n",
       "      <th>33145</th>\n",
       "      <td>1123_503</td>\n",
       "      <td>1123</td>\n",
       "      <td>2018-12-14</td>\n",
       "      <td>0.00</td>\n",
       "    </tr>\n",
       "    <tr>\n",
       "      <th>100755</th>\n",
       "      <td>1359_645</td>\n",
       "      <td>1359</td>\n",
       "      <td>2018-03-17</td>\n",
       "      <td>3.62</td>\n",
       "    </tr>\n",
       "    <tr>\n",
       "      <th>112942</th>\n",
       "      <td>1397_647</td>\n",
       "      <td>1397</td>\n",
       "      <td>2018-12-06</td>\n",
       "      <td>23.45</td>\n",
       "    </tr>\n",
       "    <tr>\n",
       "      <th>15044</th>\n",
       "      <td>1060_426</td>\n",
       "      <td>1060</td>\n",
       "      <td>2018-08-30</td>\n",
       "      <td>3.72</td>\n",
       "    </tr>\n",
       "    <tr>\n",
       "      <th>55907</th>\n",
       "      <td>1201_5</td>\n",
       "      <td>1201</td>\n",
       "      <td>2018-10-19</td>\n",
       "      <td>11.43</td>\n",
       "    </tr>\n",
       "    <tr>\n",
       "      <th>33142</th>\n",
       "      <td>1123_500</td>\n",
       "      <td>1123</td>\n",
       "      <td>2018-09-17</td>\n",
       "      <td>11.13</td>\n",
       "    </tr>\n",
       "    <tr>\n",
       "      <th>34456</th>\n",
       "      <td>1128_25</td>\n",
       "      <td>1128</td>\n",
       "      <td>2018-11-03</td>\n",
       "      <td>11.90</td>\n",
       "    </tr>\n",
       "    <tr>\n",
       "      <th>46347</th>\n",
       "      <td>1167_430</td>\n",
       "      <td>1167</td>\n",
       "      <td>2018-06-03</td>\n",
       "      <td>0.00</td>\n",
       "    </tr>\n",
       "    <tr>\n",
       "      <th>93074</th>\n",
       "      <td>1334_442</td>\n",
       "      <td>1334</td>\n",
       "      <td>2018-05-16</td>\n",
       "      <td>3.21</td>\n",
       "    </tr>\n",
       "    <tr>\n",
       "      <th>111101</th>\n",
       "      <td>1390_550</td>\n",
       "      <td>1390</td>\n",
       "      <td>2018-07-18</td>\n",
       "      <td>3.81</td>\n",
       "    </tr>\n",
       "  </tbody>\n",
       "</table>\n",
       "</div>"
      ],
      "text/plain": [
       "              id  user_id   call_date  duration\n",
       "33145   1123_503     1123  2018-12-14      0.00\n",
       "100755  1359_645     1359  2018-03-17      3.62\n",
       "112942  1397_647     1397  2018-12-06     23.45\n",
       "15044   1060_426     1060  2018-08-30      3.72\n",
       "55907     1201_5     1201  2018-10-19     11.43\n",
       "33142   1123_500     1123  2018-09-17     11.13\n",
       "34456    1128_25     1128  2018-11-03     11.90\n",
       "46347   1167_430     1167  2018-06-03      0.00\n",
       "93074   1334_442     1334  2018-05-16      3.21\n",
       "111101  1390_550     1390  2018-07-18      3.81"
      ]
     },
     "execution_count": 15,
     "metadata": {},
     "output_type": "execute_result"
    }
   ],
   "source": [
    "# Tampilkan sampel data berisi panggilan\n",
    "calls.sample(10)\n"
   ]
  },
  {
   "cell_type": "markdown",
   "metadata": {},
   "source": [
    "**Kesimpulan**:\n",
    "* `call_date` memiliki `type data` yang salah"
   ]
  },
  {
   "cell_type": "markdown",
   "metadata": {},
   "source": [
    "### Memperbaiki Data"
   ]
  },
  {
   "cell_type": "markdown",
   "metadata": {},
   "source": [
    "Mengubah tipe data `call_date` menjadi `date_time`"
   ]
  },
  {
   "cell_type": "code",
   "execution_count": 16,
   "metadata": {},
   "outputs": [
    {
     "name": "stdout",
     "output_type": "stream",
     "text": [
      "<class 'pandas.core.frame.DataFrame'>\n",
      "RangeIndex: 137735 entries, 0 to 137734\n",
      "Data columns (total 4 columns):\n",
      " #   Column     Non-Null Count   Dtype         \n",
      "---  ------     --------------   -----         \n",
      " 0   id         137735 non-null  object        \n",
      " 1   user_id    137735 non-null  int64         \n",
      " 2   call_date  137735 non-null  datetime64[ns]\n",
      " 3   duration   137735 non-null  float64       \n",
      "dtypes: datetime64[ns](1), float64(1), int64(1), object(1)\n",
      "memory usage: 4.2+ MB\n"
     ]
    }
   ],
   "source": [
    "# mengganti tipe data `objek` menjadi tipe `datetime`\n",
    "calls['call_date'] = pd.to_datetime(calls['call_date'], format = '%Y-%m-%d')\n",
    "\n",
    "# menampilkan informasi data\n",
    "calls.info()"
   ]
  },
  {
   "cell_type": "markdown",
   "metadata": {},
   "source": [
    "tipe data `call_date` sudah diperbaiki"
   ]
  },
  {
   "cell_type": "markdown",
   "metadata": {},
   "source": [
    "### Memperkaya Kualitas Data"
   ]
  },
  {
   "cell_type": "markdown",
   "metadata": {},
   "source": [
    "Memisahkan datetime berdasarkan tanggal, bulan, tahun untuk mempermudah analisis data"
   ]
  },
  {
   "cell_type": "code",
   "execution_count": 17,
   "metadata": {},
   "outputs": [
    {
     "data": {
      "text/html": [
       "<div>\n",
       "<style scoped>\n",
       "    .dataframe tbody tr th:only-of-type {\n",
       "        vertical-align: middle;\n",
       "    }\n",
       "\n",
       "    .dataframe tbody tr th {\n",
       "        vertical-align: top;\n",
       "    }\n",
       "\n",
       "    .dataframe thead th {\n",
       "        text-align: right;\n",
       "    }\n",
       "</style>\n",
       "<table border=\"1\" class=\"dataframe\">\n",
       "  <thead>\n",
       "    <tr style=\"text-align: right;\">\n",
       "      <th></th>\n",
       "      <th>id</th>\n",
       "      <th>user_id</th>\n",
       "      <th>call_date</th>\n",
       "      <th>duration</th>\n",
       "      <th>tanggal</th>\n",
       "      <th>bulan</th>\n",
       "      <th>tahun</th>\n",
       "    </tr>\n",
       "  </thead>\n",
       "  <tbody>\n",
       "    <tr>\n",
       "      <th>0</th>\n",
       "      <td>1000_93</td>\n",
       "      <td>1000</td>\n",
       "      <td>2018-12-27</td>\n",
       "      <td>8.52</td>\n",
       "      <td>27</td>\n",
       "      <td>12</td>\n",
       "      <td>2018</td>\n",
       "    </tr>\n",
       "    <tr>\n",
       "      <th>1</th>\n",
       "      <td>1000_145</td>\n",
       "      <td>1000</td>\n",
       "      <td>2018-12-27</td>\n",
       "      <td>13.66</td>\n",
       "      <td>27</td>\n",
       "      <td>12</td>\n",
       "      <td>2018</td>\n",
       "    </tr>\n",
       "    <tr>\n",
       "      <th>2</th>\n",
       "      <td>1000_247</td>\n",
       "      <td>1000</td>\n",
       "      <td>2018-12-27</td>\n",
       "      <td>14.48</td>\n",
       "      <td>27</td>\n",
       "      <td>12</td>\n",
       "      <td>2018</td>\n",
       "    </tr>\n",
       "    <tr>\n",
       "      <th>3</th>\n",
       "      <td>1000_309</td>\n",
       "      <td>1000</td>\n",
       "      <td>2018-12-28</td>\n",
       "      <td>5.76</td>\n",
       "      <td>28</td>\n",
       "      <td>12</td>\n",
       "      <td>2018</td>\n",
       "    </tr>\n",
       "    <tr>\n",
       "      <th>4</th>\n",
       "      <td>1000_380</td>\n",
       "      <td>1000</td>\n",
       "      <td>2018-12-30</td>\n",
       "      <td>4.22</td>\n",
       "      <td>30</td>\n",
       "      <td>12</td>\n",
       "      <td>2018</td>\n",
       "    </tr>\n",
       "  </tbody>\n",
       "</table>\n",
       "</div>"
      ],
      "text/plain": [
       "         id  user_id  call_date  duration  tanggal  bulan  tahun\n",
       "0   1000_93     1000 2018-12-27      8.52       27     12   2018\n",
       "1  1000_145     1000 2018-12-27     13.66       27     12   2018\n",
       "2  1000_247     1000 2018-12-27     14.48       27     12   2018\n",
       "3  1000_309     1000 2018-12-28      5.76       28     12   2018\n",
       "4  1000_380     1000 2018-12-30      4.22       30     12   2018"
      ]
     },
     "execution_count": 17,
     "metadata": {},
     "output_type": "execute_result"
    }
   ],
   "source": [
    "# memisahkan kolom datetime\n",
    "\n",
    "# membuat kolom tanggal\n",
    "calls['tanggal'] = calls['call_date'].dt.day\n",
    "\n",
    "# membuat kolom bulan\n",
    "calls['bulan'] = calls['call_date'].dt.month\n",
    "\n",
    "# membuat kolom tahun\n",
    "calls['tahun'] = calls['call_date'].dt.year\n",
    "\n",
    "# menampilkan sampel data\n",
    "calls.head()"
   ]
  },
  {
   "cell_type": "markdown",
   "metadata": {},
   "source": [
    "Kolom `tanggal`, `bulan`, dan `tahun` telah ditambahkan"
   ]
  },
  {
   "cell_type": "markdown",
   "metadata": {},
   "source": [
    "## Pesan/SMS<a id='sms'></a>"
   ]
  },
  {
   "cell_type": "code",
   "execution_count": 18,
   "metadata": {},
   "outputs": [
    {
     "name": "stdout",
     "output_type": "stream",
     "text": [
      "<class 'pandas.core.frame.DataFrame'>\n",
      "RangeIndex: 76051 entries, 0 to 76050\n",
      "Data columns (total 3 columns):\n",
      " #   Column        Non-Null Count  Dtype \n",
      "---  ------        --------------  ----- \n",
      " 0   id            76051 non-null  object\n",
      " 1   user_id       76051 non-null  int64 \n",
      " 2   message_date  76051 non-null  object\n",
      "dtypes: int64(1), object(2)\n",
      "memory usage: 1.7+ MB\n"
     ]
    }
   ],
   "source": [
    "# Tampilkan informasi/rangkuman umum tentang DataFrame SMS\n",
    "messages.info()"
   ]
  },
  {
   "cell_type": "markdown",
   "metadata": {},
   "source": [
    "Dataframe berisi:\n",
    "* `id` — ID SMS unik\n",
    "* `message_date` — tanggal SMS dikirim\n",
    "* `user_id` — ID pengguna yang mengirim SMS"
   ]
  },
  {
   "cell_type": "code",
   "execution_count": 19,
   "metadata": {},
   "outputs": [
    {
     "data": {
      "text/plain": [
       "0"
      ]
     },
     "execution_count": 19,
     "metadata": {},
     "output_type": "execute_result"
    }
   ],
   "source": [
    "messages.duplicated().sum()"
   ]
  },
  {
   "cell_type": "code",
   "execution_count": 20,
   "metadata": {},
   "outputs": [
    {
     "data": {
      "text/html": [
       "<div>\n",
       "<style scoped>\n",
       "    .dataframe tbody tr th:only-of-type {\n",
       "        vertical-align: middle;\n",
       "    }\n",
       "\n",
       "    .dataframe tbody tr th {\n",
       "        vertical-align: top;\n",
       "    }\n",
       "\n",
       "    .dataframe thead th {\n",
       "        text-align: right;\n",
       "    }\n",
       "</style>\n",
       "<table border=\"1\" class=\"dataframe\">\n",
       "  <thead>\n",
       "    <tr style=\"text-align: right;\">\n",
       "      <th></th>\n",
       "      <th>id</th>\n",
       "      <th>user_id</th>\n",
       "      <th>message_date</th>\n",
       "    </tr>\n",
       "  </thead>\n",
       "  <tbody>\n",
       "    <tr>\n",
       "      <th>33389</th>\n",
       "      <td>1211_65</td>\n",
       "      <td>1211</td>\n",
       "      <td>2018-09-21</td>\n",
       "    </tr>\n",
       "    <tr>\n",
       "      <th>19321</th>\n",
       "      <td>1124_208</td>\n",
       "      <td>1124</td>\n",
       "      <td>2018-12-27</td>\n",
       "    </tr>\n",
       "    <tr>\n",
       "      <th>3331</th>\n",
       "      <td>1036_166</td>\n",
       "      <td>1036</td>\n",
       "      <td>2018-08-10</td>\n",
       "    </tr>\n",
       "    <tr>\n",
       "      <th>55320</th>\n",
       "      <td>1347_357</td>\n",
       "      <td>1347</td>\n",
       "      <td>2018-08-04</td>\n",
       "    </tr>\n",
       "    <tr>\n",
       "      <th>12276</th>\n",
       "      <td>1081_15</td>\n",
       "      <td>1081</td>\n",
       "      <td>2018-11-09</td>\n",
       "    </tr>\n",
       "    <tr>\n",
       "      <th>51550</th>\n",
       "      <td>1335_139</td>\n",
       "      <td>1335</td>\n",
       "      <td>2018-08-23</td>\n",
       "    </tr>\n",
       "    <tr>\n",
       "      <th>28997</th>\n",
       "      <td>1176_138</td>\n",
       "      <td>1176</td>\n",
       "      <td>2018-10-20</td>\n",
       "    </tr>\n",
       "    <tr>\n",
       "      <th>20079</th>\n",
       "      <td>1128_48</td>\n",
       "      <td>1128</td>\n",
       "      <td>2018-08-11</td>\n",
       "    </tr>\n",
       "    <tr>\n",
       "      <th>57326</th>\n",
       "      <td>1362_405</td>\n",
       "      <td>1362</td>\n",
       "      <td>2018-09-18</td>\n",
       "    </tr>\n",
       "    <tr>\n",
       "      <th>52515</th>\n",
       "      <td>1336_514</td>\n",
       "      <td>1336</td>\n",
       "      <td>2018-09-17</td>\n",
       "    </tr>\n",
       "  </tbody>\n",
       "</table>\n",
       "</div>"
      ],
      "text/plain": [
       "             id  user_id message_date\n",
       "33389   1211_65     1211   2018-09-21\n",
       "19321  1124_208     1124   2018-12-27\n",
       "3331   1036_166     1036   2018-08-10\n",
       "55320  1347_357     1347   2018-08-04\n",
       "12276   1081_15     1081   2018-11-09\n",
       "51550  1335_139     1335   2018-08-23\n",
       "28997  1176_138     1176   2018-10-20\n",
       "20079   1128_48     1128   2018-08-11\n",
       "57326  1362_405     1362   2018-09-18\n",
       "52515  1336_514     1336   2018-09-17"
      ]
     },
     "execution_count": 20,
     "metadata": {},
     "output_type": "execute_result"
    }
   ],
   "source": [
    "# Tampilkan sampel data untuk SMS\n",
    "messages.sample(10)\n"
   ]
  },
  {
   "cell_type": "markdown",
   "metadata": {},
   "source": [
    "**Kesimpulan**:\n",
    "* `message_date` memiliki type data yang salah"
   ]
  },
  {
   "cell_type": "markdown",
   "metadata": {},
   "source": [
    "### Memperbaiki Data"
   ]
  },
  {
   "cell_type": "markdown",
   "metadata": {},
   "source": [
    "Mengubah tipe data `message_date` menjadi `date_time`"
   ]
  },
  {
   "cell_type": "code",
   "execution_count": 21,
   "metadata": {},
   "outputs": [
    {
     "name": "stdout",
     "output_type": "stream",
     "text": [
      "<class 'pandas.core.frame.DataFrame'>\n",
      "RangeIndex: 76051 entries, 0 to 76050\n",
      "Data columns (total 3 columns):\n",
      " #   Column        Non-Null Count  Dtype         \n",
      "---  ------        --------------  -----         \n",
      " 0   id            76051 non-null  object        \n",
      " 1   user_id       76051 non-null  int64         \n",
      " 2   message_date  76051 non-null  datetime64[ns]\n",
      "dtypes: datetime64[ns](1), int64(1), object(1)\n",
      "memory usage: 1.7+ MB\n"
     ]
    }
   ],
   "source": [
    "# mengubah tipe data dari `objek` menjadi `datetime`\n",
    "messages['message_date'] = pd.to_datetime(messages['message_date'], format = '%Y-%m-%d')\n",
    "\n",
    "# menampilkan informasi kolom `messages`\n",
    "messages.info()"
   ]
  },
  {
   "cell_type": "markdown",
   "metadata": {},
   "source": [
    "tipe data `message_date` sudah diubah"
   ]
  },
  {
   "cell_type": "markdown",
   "metadata": {},
   "source": [
    "### Memperkaya Kualitas Data"
   ]
  },
  {
   "cell_type": "markdown",
   "metadata": {},
   "source": [
    "Memisahkan datetime berdasarkan tanggal, bulan, tahun untuk mempermudah analisis data"
   ]
  },
  {
   "cell_type": "code",
   "execution_count": 22,
   "metadata": {},
   "outputs": [
    {
     "data": {
      "text/html": [
       "<div>\n",
       "<style scoped>\n",
       "    .dataframe tbody tr th:only-of-type {\n",
       "        vertical-align: middle;\n",
       "    }\n",
       "\n",
       "    .dataframe tbody tr th {\n",
       "        vertical-align: top;\n",
       "    }\n",
       "\n",
       "    .dataframe thead th {\n",
       "        text-align: right;\n",
       "    }\n",
       "</style>\n",
       "<table border=\"1\" class=\"dataframe\">\n",
       "  <thead>\n",
       "    <tr style=\"text-align: right;\">\n",
       "      <th></th>\n",
       "      <th>id</th>\n",
       "      <th>user_id</th>\n",
       "      <th>message_date</th>\n",
       "      <th>tanggal</th>\n",
       "      <th>bulan</th>\n",
       "      <th>tahun</th>\n",
       "    </tr>\n",
       "  </thead>\n",
       "  <tbody>\n",
       "    <tr>\n",
       "      <th>0</th>\n",
       "      <td>1000_125</td>\n",
       "      <td>1000</td>\n",
       "      <td>2018-12-27</td>\n",
       "      <td>27</td>\n",
       "      <td>12</td>\n",
       "      <td>2018</td>\n",
       "    </tr>\n",
       "    <tr>\n",
       "      <th>1</th>\n",
       "      <td>1000_160</td>\n",
       "      <td>1000</td>\n",
       "      <td>2018-12-31</td>\n",
       "      <td>31</td>\n",
       "      <td>12</td>\n",
       "      <td>2018</td>\n",
       "    </tr>\n",
       "    <tr>\n",
       "      <th>2</th>\n",
       "      <td>1000_223</td>\n",
       "      <td>1000</td>\n",
       "      <td>2018-12-31</td>\n",
       "      <td>31</td>\n",
       "      <td>12</td>\n",
       "      <td>2018</td>\n",
       "    </tr>\n",
       "    <tr>\n",
       "      <th>3</th>\n",
       "      <td>1000_251</td>\n",
       "      <td>1000</td>\n",
       "      <td>2018-12-27</td>\n",
       "      <td>27</td>\n",
       "      <td>12</td>\n",
       "      <td>2018</td>\n",
       "    </tr>\n",
       "    <tr>\n",
       "      <th>4</th>\n",
       "      <td>1000_255</td>\n",
       "      <td>1000</td>\n",
       "      <td>2018-12-26</td>\n",
       "      <td>26</td>\n",
       "      <td>12</td>\n",
       "      <td>2018</td>\n",
       "    </tr>\n",
       "  </tbody>\n",
       "</table>\n",
       "</div>"
      ],
      "text/plain": [
       "         id  user_id message_date  tanggal  bulan  tahun\n",
       "0  1000_125     1000   2018-12-27       27     12   2018\n",
       "1  1000_160     1000   2018-12-31       31     12   2018\n",
       "2  1000_223     1000   2018-12-31       31     12   2018\n",
       "3  1000_251     1000   2018-12-27       27     12   2018\n",
       "4  1000_255     1000   2018-12-26       26     12   2018"
      ]
     },
     "execution_count": 22,
     "metadata": {},
     "output_type": "execute_result"
    }
   ],
   "source": [
    "# memisahkan kolom datetime\n",
    "\n",
    "# membuat kolom tanggal\n",
    "messages['tanggal'] = messages['message_date'].dt.day\n",
    "\n",
    "# membuat kolom bulan\n",
    "messages['bulan'] = messages['message_date'].dt.month\n",
    "\n",
    "messages['tahun'] = messages['message_date'].dt.year\n",
    "\n",
    "# menampilkan sampel data\n",
    "messages.head()"
   ]
  },
  {
   "cell_type": "markdown",
   "metadata": {},
   "source": [
    "Kolom `tanggal`, `bulan`, dan `tahun` telah ditambahkan"
   ]
  },
  {
   "cell_type": "markdown",
   "metadata": {},
   "source": [
    "## Internet<a id='inter'></a>"
   ]
  },
  {
   "cell_type": "code",
   "execution_count": 23,
   "metadata": {},
   "outputs": [
    {
     "name": "stdout",
     "output_type": "stream",
     "text": [
      "<class 'pandas.core.frame.DataFrame'>\n",
      "RangeIndex: 104825 entries, 0 to 104824\n",
      "Data columns (total 4 columns):\n",
      " #   Column        Non-Null Count   Dtype  \n",
      "---  ------        --------------   -----  \n",
      " 0   id            104825 non-null  object \n",
      " 1   user_id       104825 non-null  int64  \n",
      " 2   session_date  104825 non-null  object \n",
      " 3   mb_used       104825 non-null  float64\n",
      "dtypes: float64(1), int64(1), object(2)\n",
      "memory usage: 3.2+ MB\n"
     ]
    }
   ],
   "source": [
    "# Tampilkan informasi/rangkuman umum tentang DataFrame internet\n",
    "internet.info()"
   ]
  },
  {
   "cell_type": "markdown",
   "metadata": {},
   "source": [
    "Dataframe berisi:\n",
    "* `id` — ID sesi web unik\n",
    "* `mb_used` — volume data yang dihabiskan selama sesi (dalam megabyte)\n",
    "* `session_date` — tanggal sesi web\n",
    "* `user_id` — ID pengguna"
   ]
  },
  {
   "cell_type": "code",
   "execution_count": 24,
   "metadata": {},
   "outputs": [
    {
     "data": {
      "text/plain": [
       "0"
      ]
     },
     "execution_count": 24,
     "metadata": {},
     "output_type": "execute_result"
    }
   ],
   "source": [
    "internet.duplicated().sum()"
   ]
  },
  {
   "cell_type": "code",
   "execution_count": 25,
   "metadata": {},
   "outputs": [
    {
     "data": {
      "text/html": [
       "<div>\n",
       "<style scoped>\n",
       "    .dataframe tbody tr th:only-of-type {\n",
       "        vertical-align: middle;\n",
       "    }\n",
       "\n",
       "    .dataframe tbody tr th {\n",
       "        vertical-align: top;\n",
       "    }\n",
       "\n",
       "    .dataframe thead th {\n",
       "        text-align: right;\n",
       "    }\n",
       "</style>\n",
       "<table border=\"1\" class=\"dataframe\">\n",
       "  <thead>\n",
       "    <tr style=\"text-align: right;\">\n",
       "      <th></th>\n",
       "      <th>id</th>\n",
       "      <th>user_id</th>\n",
       "      <th>session_date</th>\n",
       "      <th>mb_used</th>\n",
       "    </tr>\n",
       "  </thead>\n",
       "  <tbody>\n",
       "    <tr>\n",
       "      <th>62254</th>\n",
       "      <td>1284_106</td>\n",
       "      <td>1284</td>\n",
       "      <td>2018-09-18</td>\n",
       "      <td>903.85</td>\n",
       "    </tr>\n",
       "    <tr>\n",
       "      <th>21118</th>\n",
       "      <td>1098_151</td>\n",
       "      <td>1098</td>\n",
       "      <td>2018-11-20</td>\n",
       "      <td>499.62</td>\n",
       "    </tr>\n",
       "    <tr>\n",
       "      <th>62200</th>\n",
       "      <td>1283_98</td>\n",
       "      <td>1283</td>\n",
       "      <td>2018-12-06</td>\n",
       "      <td>51.34</td>\n",
       "    </tr>\n",
       "    <tr>\n",
       "      <th>16956</th>\n",
       "      <td>1077_76</td>\n",
       "      <td>1077</td>\n",
       "      <td>2018-03-02</td>\n",
       "      <td>443.84</td>\n",
       "    </tr>\n",
       "    <tr>\n",
       "      <th>44079</th>\n",
       "      <td>1196_78</td>\n",
       "      <td>1196</td>\n",
       "      <td>2018-03-19</td>\n",
       "      <td>649.88</td>\n",
       "    </tr>\n",
       "    <tr>\n",
       "      <th>26632</th>\n",
       "      <td>1123_127</td>\n",
       "      <td>1123</td>\n",
       "      <td>2018-08-21</td>\n",
       "      <td>141.03</td>\n",
       "    </tr>\n",
       "    <tr>\n",
       "      <th>24862</th>\n",
       "      <td>1114_209</td>\n",
       "      <td>1114</td>\n",
       "      <td>2018-08-07</td>\n",
       "      <td>290.89</td>\n",
       "    </tr>\n",
       "    <tr>\n",
       "      <th>35367</th>\n",
       "      <td>1160_71</td>\n",
       "      <td>1160</td>\n",
       "      <td>2018-06-04</td>\n",
       "      <td>256.69</td>\n",
       "    </tr>\n",
       "    <tr>\n",
       "      <th>58523</th>\n",
       "      <td>1263_327</td>\n",
       "      <td>1263</td>\n",
       "      <td>2018-07-31</td>\n",
       "      <td>0.00</td>\n",
       "    </tr>\n",
       "    <tr>\n",
       "      <th>74764</th>\n",
       "      <td>1352_187</td>\n",
       "      <td>1352</td>\n",
       "      <td>2018-12-16</td>\n",
       "      <td>343.64</td>\n",
       "    </tr>\n",
       "  </tbody>\n",
       "</table>\n",
       "</div>"
      ],
      "text/plain": [
       "             id  user_id session_date  mb_used\n",
       "62254  1284_106     1284   2018-09-18   903.85\n",
       "21118  1098_151     1098   2018-11-20   499.62\n",
       "62200   1283_98     1283   2018-12-06    51.34\n",
       "16956   1077_76     1077   2018-03-02   443.84\n",
       "44079   1196_78     1196   2018-03-19   649.88\n",
       "26632  1123_127     1123   2018-08-21   141.03\n",
       "24862  1114_209     1114   2018-08-07   290.89\n",
       "35367   1160_71     1160   2018-06-04   256.69\n",
       "58523  1263_327     1263   2018-07-31     0.00\n",
       "74764  1352_187     1352   2018-12-16   343.64"
      ]
     },
     "execution_count": 25,
     "metadata": {},
     "output_type": "execute_result"
    }
   ],
   "source": [
    "# Tampilkan sampel data untuk traffic internet\n",
    "internet.sample(10)"
   ]
  },
  {
   "cell_type": "markdown",
   "metadata": {},
   "source": [
    "**Kesimpulan**:\n",
    "* `session_date` memiliki tipe data yang salah"
   ]
  },
  {
   "cell_type": "markdown",
   "metadata": {},
   "source": [
    "### Memperbaiki Data"
   ]
  },
  {
   "cell_type": "markdown",
   "metadata": {},
   "source": [
    "Mengubah tipe data `session_date` menjadi `date_time`"
   ]
  },
  {
   "cell_type": "code",
   "execution_count": 26,
   "metadata": {},
   "outputs": [
    {
     "name": "stdout",
     "output_type": "stream",
     "text": [
      "<class 'pandas.core.frame.DataFrame'>\n",
      "RangeIndex: 104825 entries, 0 to 104824\n",
      "Data columns (total 4 columns):\n",
      " #   Column        Non-Null Count   Dtype         \n",
      "---  ------        --------------   -----         \n",
      " 0   id            104825 non-null  object        \n",
      " 1   user_id       104825 non-null  int64         \n",
      " 2   session_date  104825 non-null  datetime64[ns]\n",
      " 3   mb_used       104825 non-null  float64       \n",
      "dtypes: datetime64[ns](1), float64(1), int64(1), object(1)\n",
      "memory usage: 3.2+ MB\n"
     ]
    }
   ],
   "source": [
    "# mengubah tipe data dari `objek` menjadi `datetime`\n",
    "internet['session_date'] = pd.to_datetime(internet['session_date'], format = '%Y-%m-%d')\n",
    "\n",
    "# menampilkan informasi kolom `messages`\n",
    "internet.info()"
   ]
  },
  {
   "cell_type": "markdown",
   "metadata": {},
   "source": [
    "tipe data `session_date` sudah diubah"
   ]
  },
  {
   "cell_type": "markdown",
   "metadata": {},
   "source": [
    "### Memperkaya Kualitas Data"
   ]
  },
  {
   "cell_type": "markdown",
   "metadata": {},
   "source": [
    "Memisahkan datetime berdasarkan tanggal, bulan, tahun untuk mempermudah analisis data"
   ]
  },
  {
   "cell_type": "code",
   "execution_count": 27,
   "metadata": {},
   "outputs": [
    {
     "data": {
      "text/html": [
       "<div>\n",
       "<style scoped>\n",
       "    .dataframe tbody tr th:only-of-type {\n",
       "        vertical-align: middle;\n",
       "    }\n",
       "\n",
       "    .dataframe tbody tr th {\n",
       "        vertical-align: top;\n",
       "    }\n",
       "\n",
       "    .dataframe thead th {\n",
       "        text-align: right;\n",
       "    }\n",
       "</style>\n",
       "<table border=\"1\" class=\"dataframe\">\n",
       "  <thead>\n",
       "    <tr style=\"text-align: right;\">\n",
       "      <th></th>\n",
       "      <th>id</th>\n",
       "      <th>user_id</th>\n",
       "      <th>session_date</th>\n",
       "      <th>mb_used</th>\n",
       "      <th>tanggal</th>\n",
       "      <th>bulan</th>\n",
       "      <th>tahun</th>\n",
       "    </tr>\n",
       "  </thead>\n",
       "  <tbody>\n",
       "    <tr>\n",
       "      <th>0</th>\n",
       "      <td>1000_13</td>\n",
       "      <td>1000</td>\n",
       "      <td>2018-12-29</td>\n",
       "      <td>89.86</td>\n",
       "      <td>29</td>\n",
       "      <td>12</td>\n",
       "      <td>2018</td>\n",
       "    </tr>\n",
       "    <tr>\n",
       "      <th>1</th>\n",
       "      <td>1000_204</td>\n",
       "      <td>1000</td>\n",
       "      <td>2018-12-31</td>\n",
       "      <td>0.00</td>\n",
       "      <td>31</td>\n",
       "      <td>12</td>\n",
       "      <td>2018</td>\n",
       "    </tr>\n",
       "    <tr>\n",
       "      <th>2</th>\n",
       "      <td>1000_379</td>\n",
       "      <td>1000</td>\n",
       "      <td>2018-12-28</td>\n",
       "      <td>660.40</td>\n",
       "      <td>28</td>\n",
       "      <td>12</td>\n",
       "      <td>2018</td>\n",
       "    </tr>\n",
       "    <tr>\n",
       "      <th>3</th>\n",
       "      <td>1000_413</td>\n",
       "      <td>1000</td>\n",
       "      <td>2018-12-26</td>\n",
       "      <td>270.99</td>\n",
       "      <td>26</td>\n",
       "      <td>12</td>\n",
       "      <td>2018</td>\n",
       "    </tr>\n",
       "    <tr>\n",
       "      <th>4</th>\n",
       "      <td>1000_442</td>\n",
       "      <td>1000</td>\n",
       "      <td>2018-12-27</td>\n",
       "      <td>880.22</td>\n",
       "      <td>27</td>\n",
       "      <td>12</td>\n",
       "      <td>2018</td>\n",
       "    </tr>\n",
       "  </tbody>\n",
       "</table>\n",
       "</div>"
      ],
      "text/plain": [
       "         id  user_id session_date  mb_used  tanggal  bulan  tahun\n",
       "0   1000_13     1000   2018-12-29    89.86       29     12   2018\n",
       "1  1000_204     1000   2018-12-31     0.00       31     12   2018\n",
       "2  1000_379     1000   2018-12-28   660.40       28     12   2018\n",
       "3  1000_413     1000   2018-12-26   270.99       26     12   2018\n",
       "4  1000_442     1000   2018-12-27   880.22       27     12   2018"
      ]
     },
     "execution_count": 27,
     "metadata": {},
     "output_type": "execute_result"
    }
   ],
   "source": [
    "# memisahkan kolom datetime\n",
    "\n",
    "# membuat kolom tanggal\n",
    "internet['tanggal'] = internet['session_date'].dt.day\n",
    "\n",
    "# membuat kolom bulan\n",
    "internet['bulan'] = internet['session_date'].dt.month\n",
    "\n",
    "# membuat kolom tahun\n",
    "internet['tahun'] = internet['session_date'].dt.year\n",
    "\n",
    "# menampilkan sampel data\n",
    "internet.head()"
   ]
  },
  {
   "cell_type": "markdown",
   "metadata": {},
   "source": [
    "Kolom `tanggal`, `bulan` dan `tahun` telah ditambahkan"
   ]
  },
  {
   "cell_type": "markdown",
   "metadata": {},
   "source": [
    "# Mempelajari Syarat dan Kondisi Terkait Paket Prabayar<a id='snk'></a>"
   ]
  },
  {
   "cell_type": "markdown",
   "metadata": {},
   "source": [
    "Sangat penting untuk memahami cara kerja paket, bagaimana pengguna dikenakan biaya berdasarkan paket prabayar yang mereka pilih. Oleh karena itu, akan ditampilkan informasi paket guna memeriksa persyaratannya sekali lagi"
   ]
  },
  {
   "cell_type": "code",
   "execution_count": 28,
   "metadata": {},
   "outputs": [
    {
     "data": {
      "text/html": [
       "<div>\n",
       "<style scoped>\n",
       "    .dataframe tbody tr th:only-of-type {\n",
       "        vertical-align: middle;\n",
       "    }\n",
       "\n",
       "    .dataframe tbody tr th {\n",
       "        vertical-align: top;\n",
       "    }\n",
       "\n",
       "    .dataframe thead th {\n",
       "        text-align: right;\n",
       "    }\n",
       "</style>\n",
       "<table border=\"1\" class=\"dataframe\">\n",
       "  <thead>\n",
       "    <tr style=\"text-align: right;\">\n",
       "      <th></th>\n",
       "      <th>messages_included</th>\n",
       "      <th>mb_per_month_included</th>\n",
       "      <th>minutes_included</th>\n",
       "      <th>usd_monthly_pay</th>\n",
       "      <th>usd_per_gb</th>\n",
       "      <th>usd_per_message</th>\n",
       "      <th>usd_per_minute</th>\n",
       "      <th>plan_name</th>\n",
       "    </tr>\n",
       "  </thead>\n",
       "  <tbody>\n",
       "    <tr>\n",
       "      <th>0</th>\n",
       "      <td>50</td>\n",
       "      <td>15360</td>\n",
       "      <td>500</td>\n",
       "      <td>20</td>\n",
       "      <td>10</td>\n",
       "      <td>0.03</td>\n",
       "      <td>0.03</td>\n",
       "      <td>surf</td>\n",
       "    </tr>\n",
       "    <tr>\n",
       "      <th>1</th>\n",
       "      <td>1000</td>\n",
       "      <td>30720</td>\n",
       "      <td>3000</td>\n",
       "      <td>70</td>\n",
       "      <td>7</td>\n",
       "      <td>0.01</td>\n",
       "      <td>0.01</td>\n",
       "      <td>ultimate</td>\n",
       "    </tr>\n",
       "  </tbody>\n",
       "</table>\n",
       "</div>"
      ],
      "text/plain": [
       "   messages_included  mb_per_month_included  minutes_included  \\\n",
       "0                 50                  15360               500   \n",
       "1               1000                  30720              3000   \n",
       "\n",
       "   usd_monthly_pay  usd_per_gb  usd_per_message  usd_per_minute plan_name  \n",
       "0               20          10             0.03            0.03      surf  \n",
       "1               70           7             0.01            0.01  ultimate  "
      ]
     },
     "execution_count": 28,
     "metadata": {},
     "output_type": "execute_result"
    }
   ],
   "source": [
    "# Tampilkan persyaratan paket prabayar dan pastikan Anda memahaminya\n",
    "plans"
   ]
  },
  {
   "cell_type": "markdown",
   "metadata": {},
   "source": [
    "Dari data dapat dilihat:\n",
    "\n",
    "**Surf**\n",
    "1. Biaya bulanan: `$20`\n",
    "2. 500 menit durasi panggilan per bulan, 50 SMS, dan 15 GB data\n",
    "\n",
    "Setelah melebihi batas paket, akan dikenakan:\n",
    "* 1 menit: 3 sen\n",
    "* 1 SMS: 3 sen\n",
    "* 1 GB data: `$10`\n",
    "\n",
    "**Ultimate**\n",
    "1.  Biaya bulanan: `$70`\n",
    "2. 3000 menit durasi panggilan per bulan, 1000 SMS, dan 30 GB data\n",
    "\n",
    "Setelah melebihi batas paket, akan dikenakan:\n",
    "* 1 menit: 1 sen\n",
    "* 1 SMS: 1 sen\n",
    "* 1 GB data: `$7`"
   ]
  },
  {
   "cell_type": "markdown",
   "metadata": {},
   "source": [
    "Dari informasi diatas kita dapat simpulkan bahwa:\n",
    "\n",
    "1. Paket terdiri dari dua macam yaitu Paket `Surf` dan Paket `Ultimate`\n",
    "2. Masing-masing paket memilki fasilitas yang disediakan ketika kita membeli paket tersebut dan jika fasilitas tersebut habis maka akan dikenakan biaya tambahan yang dihitung berdasarkan biaya unit pemakaian dikalikan dengan jumlah penggunaan.\n",
    "3. fasilitas dan jumlah yang disediakan ketika kita memilih paket prabayar tercantum pada kolom `messages_included`, `mb_per_month_included` dan `minutes_included`.\n",
    "4. Biaya paket bulanan tercantum dalam kolom `usd_monthly_pay`.\n",
    "5. Biaya tambahan yang dikenakan jika fasilitas utama telah habis digunakan berdasarkan kategorinya dengan mengalikan jumlah penggunaan kategori dengan unit satuan kategori yang dikenakan tercantum dalam kolom `usd_per_gb`, `usd_per_message` dan `usd_per_minute`."
   ]
  },
  {
   "cell_type": "markdown",
   "metadata": {},
   "source": [
    "## Mengagregasi Data per Pengguna <a id='agg'></a>\n",
    "\n",
    "Karena data yang kita miliki telah bersih, agregasikan data setiap pengguna per periode agar kita hanya memiliki satu catatan per pengguna per periode. Hal ini akan memudahkan analisis lebih lanjut"
   ]
  },
  {
   "cell_type": "markdown",
   "metadata": {},
   "source": [
    "Untuk mempermudah analisis data akan dilakukan beberapa tahap:\n",
    "1. Menghitung jumlah panggilan yang dilakukan dan menit yang digunakan per bulan\n",
    "2. Menghitung jumlah SMS yang dikirim per bulan\n",
    "3. Menghitung volume data per bulan\n",
    "4. Menghitung pendapatan bulanan dari setiap pengguna "
   ]
  },
  {
   "cell_type": "markdown",
   "metadata": {},
   "source": [
    "**Menghitung jumlah Panggilan dan menit perbulan**"
   ]
  },
  {
   "cell_type": "code",
   "execution_count": 29,
   "metadata": {
    "collapsed": true
   },
   "outputs": [
    {
     "data": {
      "text/html": [
       "<div>\n",
       "<style scoped>\n",
       "    .dataframe tbody tr th:only-of-type {\n",
       "        vertical-align: middle;\n",
       "    }\n",
       "\n",
       "    .dataframe tbody tr th {\n",
       "        vertical-align: top;\n",
       "    }\n",
       "\n",
       "    .dataframe thead th {\n",
       "        text-align: right;\n",
       "    }\n",
       "</style>\n",
       "<table border=\"1\" class=\"dataframe\">\n",
       "  <thead>\n",
       "    <tr style=\"text-align: right;\">\n",
       "      <th></th>\n",
       "      <th>count_call</th>\n",
       "      <th>call_month</th>\n",
       "      <th>call_per_month</th>\n",
       "    </tr>\n",
       "    <tr>\n",
       "      <th>user_id</th>\n",
       "      <th></th>\n",
       "      <th></th>\n",
       "      <th></th>\n",
       "    </tr>\n",
       "  </thead>\n",
       "  <tbody>\n",
       "    <tr>\n",
       "      <th>1000</th>\n",
       "      <td>16</td>\n",
       "      <td>1</td>\n",
       "      <td>16</td>\n",
       "    </tr>\n",
       "    <tr>\n",
       "      <th>1001</th>\n",
       "      <td>261</td>\n",
       "      <td>5</td>\n",
       "      <td>53</td>\n",
       "    </tr>\n",
       "    <tr>\n",
       "      <th>1002</th>\n",
       "      <td>113</td>\n",
       "      <td>3</td>\n",
       "      <td>38</td>\n",
       "    </tr>\n",
       "    <tr>\n",
       "      <th>1003</th>\n",
       "      <td>149</td>\n",
       "      <td>1</td>\n",
       "      <td>149</td>\n",
       "    </tr>\n",
       "    <tr>\n",
       "      <th>1004</th>\n",
       "      <td>370</td>\n",
       "      <td>8</td>\n",
       "      <td>47</td>\n",
       "    </tr>\n",
       "  </tbody>\n",
       "</table>\n",
       "</div>"
      ],
      "text/plain": [
       "         count_call  call_month  call_per_month\n",
       "user_id                                        \n",
       "1000             16           1              16\n",
       "1001            261           5              53\n",
       "1002            113           3              38\n",
       "1003            149           1             149\n",
       "1004            370           8              47"
      ]
     },
     "execution_count": 29,
     "metadata": {},
     "output_type": "execute_result"
    }
   ],
   "source": [
    "# Hitung jumlah panggilan yang dilakukan oleh setiap pengguna per bulan. Simpan hasilnya.\n",
    "\n",
    "# membuat pivot_table untuk jumlah panggilan yang dilakukan pengguna di tahun 2018\n",
    "call_count = pd.pivot_table(calls, index = 'user_id', values = 'call_date', aggfunc = 'count').reset_index()\n",
    "\n",
    "# membuat fungsi untuk menghitung jumlah bulan-bulan yang aktif per pengguna\n",
    "def month_calls(user):\n",
    "    slicer = calls.query('user_id == @user')\n",
    "    total = len(slicer['bulan'].unique())\n",
    "    return total\n",
    "\n",
    "# menerapkan fungsi menghitung jumlah bulan-bulan yang aktif setiap pengguna ke dalam kolom baru\n",
    "call_count['call_month'] = call_count['user_id'].apply(month_calls)\n",
    "\n",
    "# menghitung jumlah panggilan pengguna selama satu bulan\n",
    "call_count['call_per_month'] = call_count['call_date']/call_count['call_month']\n",
    "\n",
    "# membulatkan jumlah panggilan pengguna selama satu bulan\n",
    "call_count['call_per_month'] = call_count['call_per_month'].apply(lambda x: mt.ceil(x))\n",
    "\n",
    "# mengubah nama kolom `call_date` menjadi nama kolom `count_call`\n",
    "call_count.rename(columns={'call_date':'count_call'},inplace=True)\n",
    "\n",
    "# menjadikan kolom `user_id` sebagai index\n",
    "call_count.set_index('user_id',inplace = True)\n",
    "\n",
    "# menampilkan sampel data\n",
    "call_count.head()"
   ]
  },
  {
   "cell_type": "code",
   "execution_count": 30,
   "metadata": {
    "collapsed": true
   },
   "outputs": [
    {
     "data": {
      "text/html": [
       "<div>\n",
       "<style scoped>\n",
       "    .dataframe tbody tr th:only-of-type {\n",
       "        vertical-align: middle;\n",
       "    }\n",
       "\n",
       "    .dataframe tbody tr th {\n",
       "        vertical-align: top;\n",
       "    }\n",
       "\n",
       "    .dataframe thead th {\n",
       "        text-align: right;\n",
       "    }\n",
       "</style>\n",
       "<table border=\"1\" class=\"dataframe\">\n",
       "  <thead>\n",
       "    <tr style=\"text-align: right;\">\n",
       "      <th></th>\n",
       "      <th>sum_duration</th>\n",
       "      <th>count_month</th>\n",
       "      <th>min_per_month</th>\n",
       "    </tr>\n",
       "    <tr>\n",
       "      <th>user_id</th>\n",
       "      <th></th>\n",
       "      <th></th>\n",
       "      <th></th>\n",
       "    </tr>\n",
       "  </thead>\n",
       "  <tbody>\n",
       "    <tr>\n",
       "      <th>1000</th>\n",
       "      <td>116.83</td>\n",
       "      <td>1</td>\n",
       "      <td>116.830000</td>\n",
       "    </tr>\n",
       "    <tr>\n",
       "      <th>1001</th>\n",
       "      <td>1640.46</td>\n",
       "      <td>5</td>\n",
       "      <td>328.092000</td>\n",
       "    </tr>\n",
       "    <tr>\n",
       "      <th>1002</th>\n",
       "      <td>777.13</td>\n",
       "      <td>3</td>\n",
       "      <td>259.043333</td>\n",
       "    </tr>\n",
       "    <tr>\n",
       "      <th>1003</th>\n",
       "      <td>1041.00</td>\n",
       "      <td>1</td>\n",
       "      <td>1041.000000</td>\n",
       "    </tr>\n",
       "    <tr>\n",
       "      <th>1004</th>\n",
       "      <td>2618.95</td>\n",
       "      <td>8</td>\n",
       "      <td>327.368750</td>\n",
       "    </tr>\n",
       "  </tbody>\n",
       "</table>\n",
       "</div>"
      ],
      "text/plain": [
       "         sum_duration  count_month  min_per_month\n",
       "user_id                                          \n",
       "1000           116.83            1     116.830000\n",
       "1001          1640.46            5     328.092000\n",
       "1002           777.13            3     259.043333\n",
       "1003          1041.00            1    1041.000000\n",
       "1004          2618.95            8     327.368750"
      ]
     },
     "execution_count": 30,
     "metadata": {},
     "output_type": "execute_result"
    }
   ],
   "source": [
    "# Hitung jumlah menit yang dihabiskan oleh setiap pengguna untuk melakukan panggilan per bulan. Simpan hasilnya.\n",
    "# membuat pivot_table untuk durasi panggilan yang dilakukan pengguna di tahun 2018\n",
    "call_min = pd.pivot_table(calls, index = 'user_id', values = 'duration', aggfunc = 'sum').reset_index()\n",
    "\n",
    "# menerapkan fungsi menghitung jumlah bulan-bulan yang aktif setiap pengguna ke dalam kolom baru\n",
    "call_min['count_month'] = call_min['user_id'].apply(month_calls)\n",
    "\n",
    "# menghitung durasi panggilan pengguna selama satu bulan\n",
    "call_min['min_per_month'] = call_min['duration']/call_min['count_month']\n",
    "\n",
    "# mengubah nama kolom `duration` menjadi nama kolom `sum_duration`\n",
    "call_min.rename(columns={'duration':'sum_duration'},inplace = True)\n",
    "\n",
    "# menjadikan kolom `user_id` sebagai index\n",
    "call_min.set_index('user_id', inplace = True)\n",
    "\n",
    "# menampilkan sampel data\n",
    "call_min.head()\n"
   ]
  },
  {
   "cell_type": "markdown",
   "metadata": {},
   "source": [
    "**Menghitung Jumlah sms yang dilakukan perbulan**"
   ]
  },
  {
   "cell_type": "code",
   "execution_count": 31,
   "metadata": {
    "collapsed": true
   },
   "outputs": [
    {
     "data": {
      "text/html": [
       "<div>\n",
       "<style scoped>\n",
       "    .dataframe tbody tr th:only-of-type {\n",
       "        vertical-align: middle;\n",
       "    }\n",
       "\n",
       "    .dataframe tbody tr th {\n",
       "        vertical-align: top;\n",
       "    }\n",
       "\n",
       "    .dataframe thead th {\n",
       "        text-align: right;\n",
       "    }\n",
       "</style>\n",
       "<table border=\"1\" class=\"dataframe\">\n",
       "  <thead>\n",
       "    <tr style=\"text-align: right;\">\n",
       "      <th></th>\n",
       "      <th>count_sms</th>\n",
       "      <th>count_month</th>\n",
       "      <th>sms_per_month</th>\n",
       "    </tr>\n",
       "    <tr>\n",
       "      <th>user_id</th>\n",
       "      <th></th>\n",
       "      <th></th>\n",
       "      <th></th>\n",
       "    </tr>\n",
       "  </thead>\n",
       "  <tbody>\n",
       "    <tr>\n",
       "      <th>1000</th>\n",
       "      <td>11</td>\n",
       "      <td>1</td>\n",
       "      <td>11</td>\n",
       "    </tr>\n",
       "    <tr>\n",
       "      <th>1001</th>\n",
       "      <td>207</td>\n",
       "      <td>5</td>\n",
       "      <td>42</td>\n",
       "    </tr>\n",
       "    <tr>\n",
       "      <th>1002</th>\n",
       "      <td>88</td>\n",
       "      <td>3</td>\n",
       "      <td>30</td>\n",
       "    </tr>\n",
       "    <tr>\n",
       "      <th>1003</th>\n",
       "      <td>50</td>\n",
       "      <td>1</td>\n",
       "      <td>50</td>\n",
       "    </tr>\n",
       "    <tr>\n",
       "      <th>1004</th>\n",
       "      <td>177</td>\n",
       "      <td>8</td>\n",
       "      <td>23</td>\n",
       "    </tr>\n",
       "  </tbody>\n",
       "</table>\n",
       "</div>"
      ],
      "text/plain": [
       "         count_sms  count_month  sms_per_month\n",
       "user_id                                       \n",
       "1000            11            1             11\n",
       "1001           207            5             42\n",
       "1002            88            3             30\n",
       "1003            50            1             50\n",
       "1004           177            8             23"
      ]
     },
     "execution_count": 31,
     "metadata": {},
     "output_type": "execute_result"
    }
   ],
   "source": [
    "# Hitung jumlah SMS yang dikirim oleh setiap pengguna per bulan. Simpan hasilnya.\n",
    "# membuat pivot_table untuk jumlah sms yang dilakukan pengguna di tahun 2018\n",
    "message_count = pd.pivot_table(messages, index = 'user_id', values = 'message_date', aggfunc = 'count').reset_index()\n",
    "\n",
    "# membuat fungsi untuk menghitung jumlah bulan-bulan yang aktif per pengguna\n",
    "def month_sms(user):\n",
    "    slice = messages.query('user_id == @user')\n",
    "    total = len(slice['bulan'].unique())\n",
    "    return total\n",
    "\n",
    "# menerapkan fungsi menghitung jumlah bulan-bulan yang aktif setiap pengguna ke dalam kolom baru\n",
    "message_count['count_month'] = message_count['user_id'].apply(month_sms)\n",
    "\n",
    "# menghitung jumlah sms pengguna selama satu bulan\n",
    "message_count['sms_per_month'] = message_count['message_date']/message_count['count_month']\n",
    "\n",
    "# membulatkan jumlah sms pengguna selama satu bulan\n",
    "message_count['sms_per_month'] = message_count['sms_per_month'].apply(lambda x: mt.ceil(x))\n",
    "\n",
    "# mengubah nama kolom `message_date` menjadi nama kolom `count_sms`\n",
    "message_count.rename(columns = {'message_date':'count_sms'}, inplace = True)\n",
    "\n",
    "# menjadikan kolom `user_id` sebagai index\n",
    "message_count.set_index('user_id', inplace = True)\n",
    "\n",
    "# menampilkan sampel data\n",
    "message_count.head()\n",
    "\n"
   ]
  },
  {
   "cell_type": "markdown",
   "metadata": {},
   "source": [
    "**Menghitung volume data per bulan**"
   ]
  },
  {
   "cell_type": "code",
   "execution_count": 32,
   "metadata": {
    "collapsed": true
   },
   "outputs": [
    {
     "data": {
      "text/html": [
       "<div>\n",
       "<style scoped>\n",
       "    .dataframe tbody tr th:only-of-type {\n",
       "        vertical-align: middle;\n",
       "    }\n",
       "\n",
       "    .dataframe tbody tr th {\n",
       "        vertical-align: top;\n",
       "    }\n",
       "\n",
       "    .dataframe thead th {\n",
       "        text-align: right;\n",
       "    }\n",
       "</style>\n",
       "<table border=\"1\" class=\"dataframe\">\n",
       "  <thead>\n",
       "    <tr style=\"text-align: right;\">\n",
       "      <th></th>\n",
       "      <th>mb_used</th>\n",
       "      <th>count_month</th>\n",
       "      <th>mb_per_month</th>\n",
       "    </tr>\n",
       "    <tr>\n",
       "      <th>user_id</th>\n",
       "      <th></th>\n",
       "      <th></th>\n",
       "      <th></th>\n",
       "    </tr>\n",
       "  </thead>\n",
       "  <tbody>\n",
       "    <tr>\n",
       "      <th>1000</th>\n",
       "      <td>1901.47</td>\n",
       "      <td>1</td>\n",
       "      <td>1901.47000</td>\n",
       "    </tr>\n",
       "    <tr>\n",
       "      <th>1001</th>\n",
       "      <td>80437.94</td>\n",
       "      <td>5</td>\n",
       "      <td>16087.58800</td>\n",
       "    </tr>\n",
       "    <tr>\n",
       "      <th>1002</th>\n",
       "      <td>40293.33</td>\n",
       "      <td>3</td>\n",
       "      <td>13431.11000</td>\n",
       "    </tr>\n",
       "    <tr>\n",
       "      <th>1003</th>\n",
       "      <td>27044.14</td>\n",
       "      <td>1</td>\n",
       "      <td>27044.14000</td>\n",
       "    </tr>\n",
       "    <tr>\n",
       "      <th>1004</th>\n",
       "      <td>156352.81</td>\n",
       "      <td>8</td>\n",
       "      <td>19544.10125</td>\n",
       "    </tr>\n",
       "  </tbody>\n",
       "</table>\n",
       "</div>"
      ],
      "text/plain": [
       "           mb_used  count_month  mb_per_month\n",
       "user_id                                      \n",
       "1000       1901.47            1    1901.47000\n",
       "1001      80437.94            5   16087.58800\n",
       "1002      40293.33            3   13431.11000\n",
       "1003      27044.14            1   27044.14000\n",
       "1004     156352.81            8   19544.10125"
      ]
     },
     "execution_count": 32,
     "metadata": {},
     "output_type": "execute_result"
    }
   ],
   "source": [
    "# Hitung volume traffic internet yang digunakan oleh setiap pengguna per bulan. Simpan hasilnya.\n",
    "# menghitung volume traffic internet yang digunakan oleh setiap pengguna per bulan.\n",
    "\n",
    "# membuat pivot_table untuk jumlah data internet yang dilakukan pengguna di tahun 2018\n",
    "internet_count = pd.pivot_table(internet, index = 'user_id', values = 'mb_used', aggfunc = 'sum').reset_index()\n",
    "\n",
    "# membuat fungsi untuk menghitung jumlah bulan-bulan yang aktif per pengguna\n",
    "def month_internet(user):\n",
    "    slice = internet.query('user_id == @user')\n",
    "    total = len(slice['bulan'].unique())\n",
    "    return total\n",
    "\n",
    "# menerapkan fungsi menghitung jumlah bulan-bulan yang aktif setiap pengguna ke dalam kolom baru\n",
    "internet_count['count_month'] = internet_count['user_id'].apply(month_internet)\n",
    "\n",
    "# menghitung jumlah data internet pengguna selama satu bulan\n",
    "internet_count['mb_per_month'] = internet_count['mb_used']/internet_count['count_month']\n",
    "\n",
    "# menjadikan kolom `user_id` sebagai index\n",
    "internet_count.set_index('user_id', inplace = True)\n",
    "\n",
    "# menampilkan sampel data\n",
    "internet_count.head()\n",
    "\n"
   ]
  },
  {
   "cell_type": "markdown",
   "metadata": {},
   "source": [
    "Satukan data agregat tersebut ke dalam satu DataFrame sehingga satu catatan di dalamnya akan menunjukkan tingkat konsumsi seorang pengguna unik dalam satu bulan tertentu"
   ]
  },
  {
   "cell_type": "code",
   "execution_count": 33,
   "metadata": {
    "collapsed": true
   },
   "outputs": [
    {
     "data": {
      "text/html": [
       "<div>\n",
       "<style scoped>\n",
       "    .dataframe tbody tr th:only-of-type {\n",
       "        vertical-align: middle;\n",
       "    }\n",
       "\n",
       "    .dataframe tbody tr th {\n",
       "        vertical-align: top;\n",
       "    }\n",
       "\n",
       "    .dataframe thead th {\n",
       "        text-align: right;\n",
       "    }\n",
       "</style>\n",
       "<table border=\"1\" class=\"dataframe\">\n",
       "  <thead>\n",
       "    <tr style=\"text-align: right;\">\n",
       "      <th></th>\n",
       "      <th>user_id</th>\n",
       "      <th>region</th>\n",
       "      <th>call_per_month</th>\n",
       "      <th>min_per_month</th>\n",
       "      <th>sms_per_month</th>\n",
       "      <th>mb_per_month</th>\n",
       "    </tr>\n",
       "  </thead>\n",
       "  <tbody>\n",
       "    <tr>\n",
       "      <th>0</th>\n",
       "      <td>1000</td>\n",
       "      <td>other</td>\n",
       "      <td>16.0</td>\n",
       "      <td>116.830000</td>\n",
       "      <td>11.0</td>\n",
       "      <td>1901.47000</td>\n",
       "    </tr>\n",
       "    <tr>\n",
       "      <th>1</th>\n",
       "      <td>1001</td>\n",
       "      <td>other</td>\n",
       "      <td>53.0</td>\n",
       "      <td>328.092000</td>\n",
       "      <td>42.0</td>\n",
       "      <td>16087.58800</td>\n",
       "    </tr>\n",
       "    <tr>\n",
       "      <th>2</th>\n",
       "      <td>1002</td>\n",
       "      <td>other</td>\n",
       "      <td>38.0</td>\n",
       "      <td>259.043333</td>\n",
       "      <td>30.0</td>\n",
       "      <td>13431.11000</td>\n",
       "    </tr>\n",
       "    <tr>\n",
       "      <th>3</th>\n",
       "      <td>1003</td>\n",
       "      <td>other</td>\n",
       "      <td>149.0</td>\n",
       "      <td>1041.000000</td>\n",
       "      <td>50.0</td>\n",
       "      <td>27044.14000</td>\n",
       "    </tr>\n",
       "    <tr>\n",
       "      <th>4</th>\n",
       "      <td>1004</td>\n",
       "      <td>other</td>\n",
       "      <td>47.0</td>\n",
       "      <td>327.368750</td>\n",
       "      <td>23.0</td>\n",
       "      <td>19544.10125</td>\n",
       "    </tr>\n",
       "  </tbody>\n",
       "</table>\n",
       "</div>"
      ],
      "text/plain": [
       "   user_id region  call_per_month  min_per_month  sms_per_month  mb_per_month\n",
       "0     1000  other            16.0     116.830000           11.0    1901.47000\n",
       "1     1001  other            53.0     328.092000           42.0   16087.58800\n",
       "2     1002  other            38.0     259.043333           30.0   13431.11000\n",
       "3     1003  other           149.0    1041.000000           50.0   27044.14000\n",
       "4     1004  other            47.0     327.368750           23.0   19544.10125"
      ]
     },
     "execution_count": 33,
     "metadata": {},
     "output_type": "execute_result"
    }
   ],
   "source": [
    "# Gabungkan data panggilan, menit, SMS, dan internet berdasarkan user_id dan month (bulan)\n",
    "\n",
    "# membuat dataframe baru berdasarkan dataframe semua pengguna dataframe `users`\n",
    "user_usage = pd.DataFrame(users)\n",
    "\n",
    "# memfilter datasets yang dipilih yaitu `user_id` dan `region`\n",
    "user_usage = user_usage[['user_id','region']]\n",
    "\n",
    "# menjadikan kolom `user_id` sebagai index\n",
    "user_usage.set_index('user_id',inplace = True)\n",
    "\n",
    "# melakukan penggabungan dataset yang dipilih dari dataframe lain kedalam dataframe yang baru \n",
    "user_usage['call_per_month'] = call_count['call_per_month']\n",
    "user_usage['min_per_month'] = call_min['min_per_month']\n",
    "user_usage['sms_per_month'] = message_count['sms_per_month']\n",
    "user_usage['mb_per_month'] = internet_count['mb_per_month']\n",
    "\n",
    "# mereset index pada dataframe yang baru\n",
    "user_usage.reset_index(inplace = True)\n",
    "\n",
    "# menampilkan sampel dataframe baru\n",
    "user_usage.head()\n"
   ]
  },
  {
   "cell_type": "markdown",
   "metadata": {},
   "source": [
    "Menambahkan informasi paket prabayar untuk mempermudah pengelompokkan"
   ]
  },
  {
   "cell_type": "code",
   "execution_count": 34,
   "metadata": {
    "collapsed": true
   },
   "outputs": [
    {
     "data": {
      "text/html": [
       "<div>\n",
       "<style scoped>\n",
       "    .dataframe tbody tr th:only-of-type {\n",
       "        vertical-align: middle;\n",
       "    }\n",
       "\n",
       "    .dataframe tbody tr th {\n",
       "        vertical-align: top;\n",
       "    }\n",
       "\n",
       "    .dataframe thead th {\n",
       "        text-align: right;\n",
       "    }\n",
       "</style>\n",
       "<table border=\"1\" class=\"dataframe\">\n",
       "  <thead>\n",
       "    <tr style=\"text-align: right;\">\n",
       "      <th></th>\n",
       "      <th>region</th>\n",
       "      <th>call_per_month</th>\n",
       "      <th>min_per_month</th>\n",
       "      <th>sms_per_month</th>\n",
       "      <th>mb_per_month</th>\n",
       "      <th>user_id_index</th>\n",
       "      <th>plan</th>\n",
       "    </tr>\n",
       "    <tr>\n",
       "      <th>user_id</th>\n",
       "      <th></th>\n",
       "      <th></th>\n",
       "      <th></th>\n",
       "      <th></th>\n",
       "      <th></th>\n",
       "      <th></th>\n",
       "      <th></th>\n",
       "    </tr>\n",
       "  </thead>\n",
       "  <tbody>\n",
       "    <tr>\n",
       "      <th>1000</th>\n",
       "      <td>other</td>\n",
       "      <td>16.0</td>\n",
       "      <td>116.830000</td>\n",
       "      <td>11.0</td>\n",
       "      <td>1901.47000</td>\n",
       "      <td>1000</td>\n",
       "      <td>ultimate</td>\n",
       "    </tr>\n",
       "    <tr>\n",
       "      <th>1001</th>\n",
       "      <td>other</td>\n",
       "      <td>53.0</td>\n",
       "      <td>328.092000</td>\n",
       "      <td>42.0</td>\n",
       "      <td>16087.58800</td>\n",
       "      <td>1001</td>\n",
       "      <td>surf</td>\n",
       "    </tr>\n",
       "    <tr>\n",
       "      <th>1002</th>\n",
       "      <td>other</td>\n",
       "      <td>38.0</td>\n",
       "      <td>259.043333</td>\n",
       "      <td>30.0</td>\n",
       "      <td>13431.11000</td>\n",
       "      <td>1002</td>\n",
       "      <td>surf</td>\n",
       "    </tr>\n",
       "    <tr>\n",
       "      <th>1003</th>\n",
       "      <td>other</td>\n",
       "      <td>149.0</td>\n",
       "      <td>1041.000000</td>\n",
       "      <td>50.0</td>\n",
       "      <td>27044.14000</td>\n",
       "      <td>1003</td>\n",
       "      <td>surf</td>\n",
       "    </tr>\n",
       "    <tr>\n",
       "      <th>1004</th>\n",
       "      <td>other</td>\n",
       "      <td>47.0</td>\n",
       "      <td>327.368750</td>\n",
       "      <td>23.0</td>\n",
       "      <td>19544.10125</td>\n",
       "      <td>1004</td>\n",
       "      <td>surf</td>\n",
       "    </tr>\n",
       "  </tbody>\n",
       "</table>\n",
       "</div>"
      ],
      "text/plain": [
       "        region  call_per_month  min_per_month  sms_per_month  mb_per_month  \\\n",
       "user_id                                                                      \n",
       "1000     other            16.0     116.830000           11.0    1901.47000   \n",
       "1001     other            53.0     328.092000           42.0   16087.58800   \n",
       "1002     other            38.0     259.043333           30.0   13431.11000   \n",
       "1003     other           149.0    1041.000000           50.0   27044.14000   \n",
       "1004     other            47.0     327.368750           23.0   19544.10125   \n",
       "\n",
       "         user_id_index      plan  \n",
       "user_id                           \n",
       "1000              1000  ultimate  \n",
       "1001              1001      surf  \n",
       "1002              1002      surf  \n",
       "1003              1003      surf  \n",
       "1004              1004      surf  "
      ]
     },
     "execution_count": 34,
     "metadata": {},
     "output_type": "execute_result"
    }
   ],
   "source": [
    "# Tambahkan informasi paket prabayarnya\n",
    "# menduplikasi dataset 'user_id' yang akan dijadikan sebagai indeks\n",
    "user_usage['user_id_index'] = user_usage['user_id']\n",
    "\n",
    "# menjadikan kolom `user_id` sebagai index pada dataframe `users` dan `user_usage`\n",
    "users.set_index('user_id',inplace = True)\n",
    "user_usage.set_index('user_id',inplace = True)\n",
    "\n",
    "# melakukan penggabungan dataset yang dipilih dari dataframe lain kedalam dataframe yang baru \n",
    "user_usage['plan'] = users['plan']\n",
    "\n",
    "# menampilkan sampel dataframe baru\n",
    "user_usage.head()"
   ]
  },
  {
   "cell_type": "code",
   "execution_count": 35,
   "metadata": {
    "collapsed": true
   },
   "outputs": [
    {
     "data": {
      "text/plain": [
       "region             0\n",
       "call_per_month    19\n",
       "min_per_month     19\n",
       "sms_per_month     98\n",
       "mb_per_month      11\n",
       "user_id_index      0\n",
       "plan               0\n",
       "dtype: int64"
      ]
     },
     "execution_count": 35,
     "metadata": {},
     "output_type": "execute_result"
    }
   ],
   "source": [
    "# mengecek nilai hilang\n",
    "user_usage.isna().sum()"
   ]
  },
  {
   "cell_type": "markdown",
   "metadata": {},
   "source": [
    "Memperbaiki nilai yang hilang dengan menggantinya menjadi `0`"
   ]
  },
  {
   "cell_type": "code",
   "execution_count": 36,
   "metadata": {
    "collapsed": true
   },
   "outputs": [
    {
     "data": {
      "text/html": [
       "<div>\n",
       "<style scoped>\n",
       "    .dataframe tbody tr th:only-of-type {\n",
       "        vertical-align: middle;\n",
       "    }\n",
       "\n",
       "    .dataframe tbody tr th {\n",
       "        vertical-align: top;\n",
       "    }\n",
       "\n",
       "    .dataframe thead th {\n",
       "        text-align: right;\n",
       "    }\n",
       "</style>\n",
       "<table border=\"1\" class=\"dataframe\">\n",
       "  <thead>\n",
       "    <tr style=\"text-align: right;\">\n",
       "      <th></th>\n",
       "      <th>region</th>\n",
       "      <th>call_per_month</th>\n",
       "      <th>min_per_month</th>\n",
       "      <th>sms_per_month</th>\n",
       "      <th>mb_per_month</th>\n",
       "      <th>user_id_index</th>\n",
       "      <th>plan</th>\n",
       "    </tr>\n",
       "    <tr>\n",
       "      <th>user_id</th>\n",
       "      <th></th>\n",
       "      <th></th>\n",
       "      <th></th>\n",
       "      <th></th>\n",
       "      <th></th>\n",
       "      <th></th>\n",
       "      <th></th>\n",
       "    </tr>\n",
       "  </thead>\n",
       "  <tbody>\n",
       "    <tr>\n",
       "      <th>1000</th>\n",
       "      <td>other</td>\n",
       "      <td>16</td>\n",
       "      <td>116.830000</td>\n",
       "      <td>11</td>\n",
       "      <td>1901.47000</td>\n",
       "      <td>1000</td>\n",
       "      <td>ultimate</td>\n",
       "    </tr>\n",
       "    <tr>\n",
       "      <th>1001</th>\n",
       "      <td>other</td>\n",
       "      <td>53</td>\n",
       "      <td>328.092000</td>\n",
       "      <td>42</td>\n",
       "      <td>16087.58800</td>\n",
       "      <td>1001</td>\n",
       "      <td>surf</td>\n",
       "    </tr>\n",
       "    <tr>\n",
       "      <th>1002</th>\n",
       "      <td>other</td>\n",
       "      <td>38</td>\n",
       "      <td>259.043333</td>\n",
       "      <td>30</td>\n",
       "      <td>13431.11000</td>\n",
       "      <td>1002</td>\n",
       "      <td>surf</td>\n",
       "    </tr>\n",
       "    <tr>\n",
       "      <th>1003</th>\n",
       "      <td>other</td>\n",
       "      <td>149</td>\n",
       "      <td>1041.000000</td>\n",
       "      <td>50</td>\n",
       "      <td>27044.14000</td>\n",
       "      <td>1003</td>\n",
       "      <td>surf</td>\n",
       "    </tr>\n",
       "    <tr>\n",
       "      <th>1004</th>\n",
       "      <td>other</td>\n",
       "      <td>47</td>\n",
       "      <td>327.368750</td>\n",
       "      <td>23</td>\n",
       "      <td>19544.10125</td>\n",
       "      <td>1004</td>\n",
       "      <td>surf</td>\n",
       "    </tr>\n",
       "  </tbody>\n",
       "</table>\n",
       "</div>"
      ],
      "text/plain": [
       "        region  call_per_month  min_per_month  sms_per_month  mb_per_month  \\\n",
       "user_id                                                                      \n",
       "1000     other              16     116.830000             11    1901.47000   \n",
       "1001     other              53     328.092000             42   16087.58800   \n",
       "1002     other              38     259.043333             30   13431.11000   \n",
       "1003     other             149    1041.000000             50   27044.14000   \n",
       "1004     other              47     327.368750             23   19544.10125   \n",
       "\n",
       "         user_id_index      plan  \n",
       "user_id                           \n",
       "1000              1000  ultimate  \n",
       "1001              1001      surf  \n",
       "1002              1002      surf  \n",
       "1003              1003      surf  \n",
       "1004              1004      surf  "
      ]
     },
     "execution_count": 36,
     "metadata": {},
     "output_type": "execute_result"
    }
   ],
   "source": [
    "# memperbaiki nilai yang hilang\n",
    "user_usage.fillna(0,inplace = True)\n",
    "\n",
    "# mengubah tipe data dari `float` menjadi `integer` untuk sms dan jumlah panggilan\n",
    "user_usage['call_per_month'] = user_usage['call_per_month'].astype('int')\n",
    "user_usage['sms_per_month'] = user_usage['sms_per_month'].astype('int')\n",
    "\n",
    "# menampilkan sampel data\n",
    "user_usage.head()"
   ]
  },
  {
   "cell_type": "markdown",
   "metadata": {},
   "source": [
    "**Menghitung pendapatan bulanan dari setiap pengguna** (caranya, kurangi batas paket gratis dari jumlah total panggilan, pesan teks, dan data; kalikan hasilnya dengan nilai paket panggilan; tambahkan biaya bulanan berdasarkan pada jenis paket panggilan)."
   ]
  },
  {
   "cell_type": "code",
   "execution_count": 37,
   "metadata": {
    "collapsed": true
   },
   "outputs": [
    {
     "data": {
      "text/html": [
       "<div>\n",
       "<style scoped>\n",
       "    .dataframe tbody tr th:only-of-type {\n",
       "        vertical-align: middle;\n",
       "    }\n",
       "\n",
       "    .dataframe tbody tr th {\n",
       "        vertical-align: top;\n",
       "    }\n",
       "\n",
       "    .dataframe thead th {\n",
       "        text-align: right;\n",
       "    }\n",
       "</style>\n",
       "<table border=\"1\" class=\"dataframe\">\n",
       "  <thead>\n",
       "    <tr style=\"text-align: right;\">\n",
       "      <th></th>\n",
       "      <th>region</th>\n",
       "      <th>call_per_month</th>\n",
       "      <th>min_per_month</th>\n",
       "      <th>sms_per_month</th>\n",
       "      <th>mb_per_month</th>\n",
       "      <th>plan</th>\n",
       "      <th>minutes_included</th>\n",
       "      <th>messages_included</th>\n",
       "      <th>mb_per_month_included</th>\n",
       "      <th>usd_monthly_pay</th>\n",
       "      <th>usd_per_minute</th>\n",
       "      <th>usd_per_message</th>\n",
       "      <th>usd_per_gb</th>\n",
       "    </tr>\n",
       "    <tr>\n",
       "      <th>user_id</th>\n",
       "      <th></th>\n",
       "      <th></th>\n",
       "      <th></th>\n",
       "      <th></th>\n",
       "      <th></th>\n",
       "      <th></th>\n",
       "      <th></th>\n",
       "      <th></th>\n",
       "      <th></th>\n",
       "      <th></th>\n",
       "      <th></th>\n",
       "      <th></th>\n",
       "      <th></th>\n",
       "    </tr>\n",
       "  </thead>\n",
       "  <tbody>\n",
       "    <tr>\n",
       "      <th>1000</th>\n",
       "      <td>other</td>\n",
       "      <td>16</td>\n",
       "      <td>116.830000</td>\n",
       "      <td>11</td>\n",
       "      <td>1901.47000</td>\n",
       "      <td>ultimate</td>\n",
       "      <td>3000</td>\n",
       "      <td>1000</td>\n",
       "      <td>30720</td>\n",
       "      <td>70</td>\n",
       "      <td>0.01</td>\n",
       "      <td>0.01</td>\n",
       "      <td>7</td>\n",
       "    </tr>\n",
       "    <tr>\n",
       "      <th>1001</th>\n",
       "      <td>other</td>\n",
       "      <td>53</td>\n",
       "      <td>328.092000</td>\n",
       "      <td>42</td>\n",
       "      <td>16087.58800</td>\n",
       "      <td>surf</td>\n",
       "      <td>500</td>\n",
       "      <td>50</td>\n",
       "      <td>15360</td>\n",
       "      <td>20</td>\n",
       "      <td>0.03</td>\n",
       "      <td>0.03</td>\n",
       "      <td>10</td>\n",
       "    </tr>\n",
       "    <tr>\n",
       "      <th>1002</th>\n",
       "      <td>other</td>\n",
       "      <td>38</td>\n",
       "      <td>259.043333</td>\n",
       "      <td>30</td>\n",
       "      <td>13431.11000</td>\n",
       "      <td>surf</td>\n",
       "      <td>500</td>\n",
       "      <td>50</td>\n",
       "      <td>15360</td>\n",
       "      <td>20</td>\n",
       "      <td>0.03</td>\n",
       "      <td>0.03</td>\n",
       "      <td>10</td>\n",
       "    </tr>\n",
       "    <tr>\n",
       "      <th>1003</th>\n",
       "      <td>other</td>\n",
       "      <td>149</td>\n",
       "      <td>1041.000000</td>\n",
       "      <td>50</td>\n",
       "      <td>27044.14000</td>\n",
       "      <td>surf</td>\n",
       "      <td>500</td>\n",
       "      <td>50</td>\n",
       "      <td>15360</td>\n",
       "      <td>20</td>\n",
       "      <td>0.03</td>\n",
       "      <td>0.03</td>\n",
       "      <td>10</td>\n",
       "    </tr>\n",
       "    <tr>\n",
       "      <th>1004</th>\n",
       "      <td>other</td>\n",
       "      <td>47</td>\n",
       "      <td>327.368750</td>\n",
       "      <td>23</td>\n",
       "      <td>19544.10125</td>\n",
       "      <td>surf</td>\n",
       "      <td>500</td>\n",
       "      <td>50</td>\n",
       "      <td>15360</td>\n",
       "      <td>20</td>\n",
       "      <td>0.03</td>\n",
       "      <td>0.03</td>\n",
       "      <td>10</td>\n",
       "    </tr>\n",
       "  </tbody>\n",
       "</table>\n",
       "</div>"
      ],
      "text/plain": [
       "        region  call_per_month  min_per_month  sms_per_month  mb_per_month  \\\n",
       "user_id                                                                      \n",
       "1000     other              16     116.830000             11    1901.47000   \n",
       "1001     other              53     328.092000             42   16087.58800   \n",
       "1002     other              38     259.043333             30   13431.11000   \n",
       "1003     other             149    1041.000000             50   27044.14000   \n",
       "1004     other              47     327.368750             23   19544.10125   \n",
       "\n",
       "             plan  minutes_included  messages_included  mb_per_month_included  \\\n",
       "user_id                                                                         \n",
       "1000     ultimate              3000               1000                  30720   \n",
       "1001         surf               500                 50                  15360   \n",
       "1002         surf               500                 50                  15360   \n",
       "1003         surf               500                 50                  15360   \n",
       "1004         surf               500                 50                  15360   \n",
       "\n",
       "         usd_monthly_pay  usd_per_minute  usd_per_message  usd_per_gb  \n",
       "user_id                                                                \n",
       "1000                  70            0.01             0.01           7  \n",
       "1001                  20            0.03             0.03          10  \n",
       "1002                  20            0.03             0.03          10  \n",
       "1003                  20            0.03             0.03          10  \n",
       "1004                  20            0.03             0.03          10  "
      ]
     },
     "execution_count": 37,
     "metadata": {},
     "output_type": "execute_result"
    }
   ],
   "source": [
    "# Hitung pendapatan bulanan untuk setiap pengguna\n",
    "# membuat duplikasi kolom 'plan' untuk mencegah kehilangan kolom akibat dari set_index\n",
    "user_usage['plan_index'] = user_usage['plan']\n",
    "\n",
    "# mengubah indeks pada dataset user_usage dan plans\n",
    "user_usage.set_index('plan', inplace = True)\n",
    "plans.set_index('plan_name', inplace = True)\n",
    "\n",
    "# menggabungkan durasi panggilan, sms dan data gratis dari paket yang tersedia ke dalam dataframe baru\n",
    "user_usage['minutes_included'] = plans['minutes_included']\n",
    "user_usage['messages_included'] = plans['messages_included']\n",
    "user_usage['mb_per_month_included'] = plans['mb_per_month_included']\n",
    "\n",
    "# menggabungkan biaya tambahan untuk durasi panggilan, sms dan data ke dalam dataframe baru\n",
    "user_usage['usd_monthly_pay'] = plans['usd_monthly_pay']\n",
    "user_usage['usd_per_minute'] = plans['usd_per_minute']\n",
    "user_usage['usd_per_message'] = plans['usd_per_message']\n",
    "user_usage['usd_per_gb'] = plans['usd_per_gb']\n",
    "\n",
    "# mengubah nama kolom dari 'user_id_index' menjadi 'user_id' dan 'plan_index' menjadi 'plan'\n",
    "user_usage.rename(columns={\n",
    "    'user_id_index':'user_id',\n",
    "    'plan_index':'plan'\n",
    "    },inplace = True)\n",
    "\n",
    "# menjadikan kolom `user_id` sebagai index\n",
    "user_usage.set_index('user_id',inplace = True)\n",
    "\n",
    "# menampilkan sampel data\n",
    "user_usage.head()\n"
   ]
  },
  {
   "cell_type": "code",
   "execution_count": 38,
   "metadata": {
    "collapsed": true
   },
   "outputs": [
    {
     "data": {
      "text/html": [
       "<div>\n",
       "<style scoped>\n",
       "    .dataframe tbody tr th:only-of-type {\n",
       "        vertical-align: middle;\n",
       "    }\n",
       "\n",
       "    .dataframe tbody tr th {\n",
       "        vertical-align: top;\n",
       "    }\n",
       "\n",
       "    .dataframe thead th {\n",
       "        text-align: right;\n",
       "    }\n",
       "</style>\n",
       "<table border=\"1\" class=\"dataframe\">\n",
       "  <thead>\n",
       "    <tr style=\"text-align: right;\">\n",
       "      <th></th>\n",
       "      <th>region</th>\n",
       "      <th>call_per_month</th>\n",
       "      <th>min_per_month</th>\n",
       "      <th>sms_per_month</th>\n",
       "      <th>mb_per_month</th>\n",
       "      <th>plan</th>\n",
       "      <th>minutes_included</th>\n",
       "      <th>messages_included</th>\n",
       "      <th>mb_per_month_included</th>\n",
       "      <th>usd_monthly_pay</th>\n",
       "      <th>usd_per_minute</th>\n",
       "      <th>usd_per_message</th>\n",
       "      <th>usd_per_gb</th>\n",
       "      <th>add_price_call</th>\n",
       "      <th>add_price_message</th>\n",
       "      <th>add_price_internet</th>\n",
       "      <th>gb_per_month</th>\n",
       "    </tr>\n",
       "    <tr>\n",
       "      <th>user_id</th>\n",
       "      <th></th>\n",
       "      <th></th>\n",
       "      <th></th>\n",
       "      <th></th>\n",
       "      <th></th>\n",
       "      <th></th>\n",
       "      <th></th>\n",
       "      <th></th>\n",
       "      <th></th>\n",
       "      <th></th>\n",
       "      <th></th>\n",
       "      <th></th>\n",
       "      <th></th>\n",
       "      <th></th>\n",
       "      <th></th>\n",
       "      <th></th>\n",
       "      <th></th>\n",
       "    </tr>\n",
       "  </thead>\n",
       "  <tbody>\n",
       "    <tr>\n",
       "      <th>1000</th>\n",
       "      <td>other</td>\n",
       "      <td>16</td>\n",
       "      <td>117</td>\n",
       "      <td>11</td>\n",
       "      <td>1901.47000</td>\n",
       "      <td>ultimate</td>\n",
       "      <td>3000</td>\n",
       "      <td>1000</td>\n",
       "      <td>30720</td>\n",
       "      <td>70</td>\n",
       "      <td>0.01</td>\n",
       "      <td>0.01</td>\n",
       "      <td>7</td>\n",
       "      <td>0.00</td>\n",
       "      <td>0.0</td>\n",
       "      <td>0</td>\n",
       "      <td>2</td>\n",
       "    </tr>\n",
       "    <tr>\n",
       "      <th>1001</th>\n",
       "      <td>other</td>\n",
       "      <td>53</td>\n",
       "      <td>329</td>\n",
       "      <td>42</td>\n",
       "      <td>16087.58800</td>\n",
       "      <td>surf</td>\n",
       "      <td>500</td>\n",
       "      <td>50</td>\n",
       "      <td>15360</td>\n",
       "      <td>20</td>\n",
       "      <td>0.03</td>\n",
       "      <td>0.03</td>\n",
       "      <td>10</td>\n",
       "      <td>0.00</td>\n",
       "      <td>0.0</td>\n",
       "      <td>10</td>\n",
       "      <td>16</td>\n",
       "    </tr>\n",
       "    <tr>\n",
       "      <th>1002</th>\n",
       "      <td>other</td>\n",
       "      <td>38</td>\n",
       "      <td>260</td>\n",
       "      <td>30</td>\n",
       "      <td>13431.11000</td>\n",
       "      <td>surf</td>\n",
       "      <td>500</td>\n",
       "      <td>50</td>\n",
       "      <td>15360</td>\n",
       "      <td>20</td>\n",
       "      <td>0.03</td>\n",
       "      <td>0.03</td>\n",
       "      <td>10</td>\n",
       "      <td>0.00</td>\n",
       "      <td>0.0</td>\n",
       "      <td>0</td>\n",
       "      <td>14</td>\n",
       "    </tr>\n",
       "    <tr>\n",
       "      <th>1003</th>\n",
       "      <td>other</td>\n",
       "      <td>149</td>\n",
       "      <td>1041</td>\n",
       "      <td>50</td>\n",
       "      <td>27044.14000</td>\n",
       "      <td>surf</td>\n",
       "      <td>500</td>\n",
       "      <td>50</td>\n",
       "      <td>15360</td>\n",
       "      <td>20</td>\n",
       "      <td>0.03</td>\n",
       "      <td>0.03</td>\n",
       "      <td>10</td>\n",
       "      <td>16.23</td>\n",
       "      <td>0.0</td>\n",
       "      <td>120</td>\n",
       "      <td>27</td>\n",
       "    </tr>\n",
       "    <tr>\n",
       "      <th>1004</th>\n",
       "      <td>other</td>\n",
       "      <td>47</td>\n",
       "      <td>328</td>\n",
       "      <td>23</td>\n",
       "      <td>19544.10125</td>\n",
       "      <td>surf</td>\n",
       "      <td>500</td>\n",
       "      <td>50</td>\n",
       "      <td>15360</td>\n",
       "      <td>20</td>\n",
       "      <td>0.03</td>\n",
       "      <td>0.03</td>\n",
       "      <td>10</td>\n",
       "      <td>0.00</td>\n",
       "      <td>0.0</td>\n",
       "      <td>50</td>\n",
       "      <td>20</td>\n",
       "    </tr>\n",
       "  </tbody>\n",
       "</table>\n",
       "</div>"
      ],
      "text/plain": [
       "        region  call_per_month  min_per_month  sms_per_month  mb_per_month  \\\n",
       "user_id                                                                      \n",
       "1000     other              16            117             11    1901.47000   \n",
       "1001     other              53            329             42   16087.58800   \n",
       "1002     other              38            260             30   13431.11000   \n",
       "1003     other             149           1041             50   27044.14000   \n",
       "1004     other              47            328             23   19544.10125   \n",
       "\n",
       "             plan  minutes_included  messages_included  mb_per_month_included  \\\n",
       "user_id                                                                         \n",
       "1000     ultimate              3000               1000                  30720   \n",
       "1001         surf               500                 50                  15360   \n",
       "1002         surf               500                 50                  15360   \n",
       "1003         surf               500                 50                  15360   \n",
       "1004         surf               500                 50                  15360   \n",
       "\n",
       "         usd_monthly_pay  usd_per_minute  usd_per_message  usd_per_gb  \\\n",
       "user_id                                                                 \n",
       "1000                  70            0.01             0.01           7   \n",
       "1001                  20            0.03             0.03          10   \n",
       "1002                  20            0.03             0.03          10   \n",
       "1003                  20            0.03             0.03          10   \n",
       "1004                  20            0.03             0.03          10   \n",
       "\n",
       "         add_price_call  add_price_message  add_price_internet  gb_per_month  \n",
       "user_id                                                                       \n",
       "1000               0.00                0.0                   0             2  \n",
       "1001               0.00                0.0                  10            16  \n",
       "1002               0.00                0.0                   0            14  \n",
       "1003              16.23                0.0                 120            27  \n",
       "1004               0.00                0.0                  50            20  "
      ]
     },
     "execution_count": 38,
     "metadata": {},
     "output_type": "execute_result"
    }
   ],
   "source": [
    "# membuat rincian biaya tambahan diluar paket\n",
    "\n",
    "# biaya tambahan untuk durasi panggilan per pengguna per bulan\n",
    "user_usage['add_price_call'] = (user_usage['min_per_month'] - user_usage['minutes_included']) * user_usage['usd_per_minute']\n",
    "\n",
    "# biaya tambahan untuk jumlah sms per pengguna per bulan\n",
    "user_usage['add_price_message'] = (user_usage['sms_per_month'] - user_usage['messages_included']) * user_usage['usd_per_message']\n",
    "\n",
    "# biaya tambahan untuk jumlah data internet per pengguna per bulan\n",
    "# menghitung selisih dan mengkonversi jumlah data dari MB ke GB\n",
    "# 1 GB = 1024 MB\n",
    "user_usage['add_price_internet'] = (user_usage['mb_per_month'] - user_usage['mb_per_month_included'])/1024\n",
    "# pembulatan jumlah data internet pengguna per bulan\n",
    "user_usage['add_price_internet'] = user_usage['add_price_internet'].apply(lambda x: mt.ceil(x))\n",
    "# menghitung biaya tambahan data internet pengguna per bulan\n",
    "user_usage['add_price_internet'] = user_usage['add_price_internet'] * user_usage['usd_per_gb']\n",
    "\n",
    "# menghilangkan biaya negatif menjadi 0, kita mengambil biaya positif\n",
    "user_usage.loc[user_usage['add_price_call'] < 0,'add_price_call'] = 0\n",
    "user_usage.loc[user_usage['add_price_message'] < 0, 'add_price_message'] = 0\n",
    "user_usage.loc[user_usage['add_price_internet'] < 0, 'add_price_internet'] = 0\n",
    "\n",
    "# membuat kolom data internet 'gb_per_month'\n",
    "# 1 GB = 1024 MB\n",
    "user_usage['gb_per_month'] = user_usage['mb_per_month']/1024\n",
    "user_usage['gb_per_month'] = user_usage['gb_per_month'].apply(lambda x: mt.ceil(x))\n",
    "\n",
    "# membulatkan durasi panggilan 'min_per_month'\n",
    "user_usage['min_per_month'] = user_usage['min_per_month'].apply(lambda x: mt.ceil(x))\n",
    "\n",
    "user_usage.head()"
   ]
  },
  {
   "cell_type": "markdown",
   "metadata": {},
   "source": [
    "Selanjutnya kita jumlahkan seluruh pendapatan dari masing-masing pengguna berdasarkan kebutuhanya per bulan. Kemudian dilanjutkan dengan memfilter kolom dataframe berdasarkan kolom yang diperlukan untuk analisis lebih lanjut."
   ]
  },
  {
   "cell_type": "code",
   "execution_count": 39,
   "metadata": {
    "collapsed": true
   },
   "outputs": [
    {
     "data": {
      "text/html": [
       "<div>\n",
       "<style scoped>\n",
       "    .dataframe tbody tr th:only-of-type {\n",
       "        vertical-align: middle;\n",
       "    }\n",
       "\n",
       "    .dataframe tbody tr th {\n",
       "        vertical-align: top;\n",
       "    }\n",
       "\n",
       "    .dataframe thead th {\n",
       "        text-align: right;\n",
       "    }\n",
       "</style>\n",
       "<table border=\"1\" class=\"dataframe\">\n",
       "  <thead>\n",
       "    <tr style=\"text-align: right;\">\n",
       "      <th></th>\n",
       "      <th>region</th>\n",
       "      <th>call_per_month</th>\n",
       "      <th>min_per_month</th>\n",
       "      <th>sms_per_month</th>\n",
       "      <th>gb_per_month</th>\n",
       "      <th>plan</th>\n",
       "      <th>user_amount</th>\n",
       "    </tr>\n",
       "    <tr>\n",
       "      <th>user_id</th>\n",
       "      <th></th>\n",
       "      <th></th>\n",
       "      <th></th>\n",
       "      <th></th>\n",
       "      <th></th>\n",
       "      <th></th>\n",
       "      <th></th>\n",
       "    </tr>\n",
       "  </thead>\n",
       "  <tbody>\n",
       "    <tr>\n",
       "      <th>1000</th>\n",
       "      <td>other</td>\n",
       "      <td>16</td>\n",
       "      <td>117</td>\n",
       "      <td>11</td>\n",
       "      <td>2</td>\n",
       "      <td>ultimate</td>\n",
       "      <td>70.00</td>\n",
       "    </tr>\n",
       "    <tr>\n",
       "      <th>1001</th>\n",
       "      <td>other</td>\n",
       "      <td>53</td>\n",
       "      <td>329</td>\n",
       "      <td>42</td>\n",
       "      <td>16</td>\n",
       "      <td>surf</td>\n",
       "      <td>30.00</td>\n",
       "    </tr>\n",
       "    <tr>\n",
       "      <th>1002</th>\n",
       "      <td>other</td>\n",
       "      <td>38</td>\n",
       "      <td>260</td>\n",
       "      <td>30</td>\n",
       "      <td>14</td>\n",
       "      <td>surf</td>\n",
       "      <td>20.00</td>\n",
       "    </tr>\n",
       "    <tr>\n",
       "      <th>1003</th>\n",
       "      <td>other</td>\n",
       "      <td>149</td>\n",
       "      <td>1041</td>\n",
       "      <td>50</td>\n",
       "      <td>27</td>\n",
       "      <td>surf</td>\n",
       "      <td>156.23</td>\n",
       "    </tr>\n",
       "    <tr>\n",
       "      <th>1004</th>\n",
       "      <td>other</td>\n",
       "      <td>47</td>\n",
       "      <td>328</td>\n",
       "      <td>23</td>\n",
       "      <td>20</td>\n",
       "      <td>surf</td>\n",
       "      <td>70.00</td>\n",
       "    </tr>\n",
       "  </tbody>\n",
       "</table>\n",
       "</div>"
      ],
      "text/plain": [
       "        region  call_per_month  min_per_month  sms_per_month  gb_per_month  \\\n",
       "user_id                                                                      \n",
       "1000     other              16            117             11             2   \n",
       "1001     other              53            329             42            16   \n",
       "1002     other              38            260             30            14   \n",
       "1003     other             149           1041             50            27   \n",
       "1004     other              47            328             23            20   \n",
       "\n",
       "             plan  user_amount  \n",
       "user_id                         \n",
       "1000     ultimate        70.00  \n",
       "1001         surf        30.00  \n",
       "1002         surf        20.00  \n",
       "1003         surf       156.23  \n",
       "1004         surf        70.00  "
      ]
     },
     "execution_count": 39,
     "metadata": {},
     "output_type": "execute_result"
    }
   ],
   "source": [
    "# menjumlahkan semua pendapatan total dari pengguna per bulanya\n",
    "user_usage['user_amount'] = user_usage['usd_monthly_pay'] + user_usage['add_price_call'] + user_usage['add_price_message'] + user_usage['add_price_internet']\n",
    "\n",
    "# memfilter dataframe untuk kolom yang dibutuhkan untuk analisis lebih lanjut\n",
    "user_usage = user_usage[['region','call_per_month','min_per_month','sms_per_month','gb_per_month','plan','user_amount']]\n",
    "\n",
    "# menampilkan sampel data\n",
    "user_usage.head()"
   ]
  },
  {
   "cell_type": "markdown",
   "metadata": {},
   "source": [
    "Dataframe yang baru sudah sangat baik untuk melihat kebutuhan pengguna perbulan beserta pendapatan yang kita terima perbulanya dari masing-masing pengguna. Namun kita tidak bisa melihat perilaku pengguna serta menentukan Paket Prabayar mana yang lebih baik. Mari kita analisis lebih lanjut."
   ]
  },
  {
   "cell_type": "markdown",
   "metadata": {},
   "source": [
    "## Mempelajari Perilaku Pengguna<a id='adj'></a>"
   ]
  },
  {
   "cell_type": "markdown",
   "metadata": {},
   "source": [
    "Hitung beberapa perhitungan statistika deskriptif yang berguna untuk data yang telah diagregasi dan digabungkan. Hal ini biasanya mampu mengungkapkan gambaran keseluruhan yang ditangkap oleh data tersebut. Buatlah beberapa grafik yang berguna untuk membantu pemahaman Anda. Mengingat bahwa tugas utamanya adalah membandingkan paket-paket prabayar dan memutuskan paket prabayar manakah yang lebih menguntungkan, maka perhitungan statistika dan grafik harus dilakukan berdasarkan tiap paket"
   ]
  },
  {
   "cell_type": "markdown",
   "metadata": {},
   "source": [
    "### Panggilan"
   ]
  },
  {
   "cell_type": "code",
   "execution_count": 40,
   "metadata": {},
   "outputs": [
    {
     "data": {
      "image/png": "[encoded data removed]",
      "text/plain": [
       "<Figure size 504x360 with 1 Axes>"
      ]
     },
     "metadata": {},
     "output_type": "display_data"
    }
   ],
   "source": [
    "# Bandingkan durasi rata-rata panggilan setiap paket per bulannya. Buatlah sebuah diagram batang untuk memvisualisasikannya.\n",
    "# membuat pivot table untuk merangkum rata-rata dataset durasi panggilan berdasarkan jenis paket yang digunakan\n",
    "package_call = pd.pivot_table(user_usage, index = 'plan', values = 'min_per_month', aggfunc = 'mean')\n",
    "\n",
    "# membuat bar chart dari pivot table\n",
    "package_call.plot(kind = 'bar',rot = 0,figsize=(7,5))\n",
    "\n",
    "# menentukan batas limit sumbu-y\n",
    "plt.ylim(350,390)\n",
    "\n",
    "# mendefinisikan label sumbu-x dan sumbu-y\n",
    "plt.xlabel('Plans')\n",
    "plt.ylabel('rata-rata panggilan (min)')\n",
    "\n",
    "# membuat label pada bar chart\n",
    "plt.text(x=0.01,y=380,s='379.69')\n",
    "plt.text(x=0.95,y=377.5,s='377.20')\n",
    "\n",
    "# menampilkan bar chart\n",
    "plt.show()"
   ]
  },
  {
   "cell_type": "markdown",
   "metadata": {},
   "source": [
    "Terlihat bahwa `user` dengan paket `surf` lebih banyak menghabiskan waktu dalam panggilan daripada `user` dengan paket `ultimate`"
   ]
  },
  {
   "cell_type": "code",
   "execution_count": 41,
   "metadata": {},
   "outputs": [],
   "source": [
    "# mengelompokan jenis paket untuk kategori 'min_per_call' untuk jenis paket `surf` dan `ultimate`\n",
    "surf = user_usage[user_usage['plan'] == 'surf']\n",
    "ultimate = user_usage[user_usage['plan'] == 'ultimate']"
   ]
  },
  {
   "cell_type": "code",
   "execution_count": 42,
   "metadata": {},
   "outputs": [
    {
     "data": {
      "image/png": "[encoded data removed]",
      "text/plain": [
       "<Figure size 576x360 with 1 Axes>"
      ]
     },
     "metadata": {},
     "output_type": "display_data"
    }
   ],
   "source": [
    "# Bandingkan jumlah menit yang dibutuhkan pengguna tiap paket per bulannya. Buatlah sebuah histogram.\n",
    "# membuat histogram dari paket `surf` dan paket 'ultimate'\n",
    "surf['min_per_month'].hist(bins=15, label = 'Paket Surf',figsize=(8,5))\n",
    "ultimate['min_per_month'].hist(bins=15, label = 'Paket Ultimate')\n",
    "\n",
    "# mendefinisikan title histogram\n",
    "plt.title('Distribusi Durasi Menit Pengguna (min)')\n",
    "\n",
    "# mendefinisikan letak legend\n",
    "plt.legend(loc='upper right')\n",
    "\n",
    "# menampilkan histogram chart\n",
    "plt.show()\n"
   ]
  },
  {
   "cell_type": "markdown",
   "metadata": {},
   "source": [
    "Terihat pada grafik:\n",
    "1. Pengguna dengan paket `Surf` lebih banyak menghabiskan waktu panggilan dibandingkan dengan pelanggan paket `Ultimate`\n",
    "2. Pengguna dengan paket `Surf` menggunakan panggilan pada rentang `200-500 menit`\n",
    "3. Pengguna denga paket `Ultimate` menggunakan panggilan pada kisaran `370-470 menit`\n",
    "4. puncak panggilan paket `surf` berada pada `300 menit`\n",
    "5. puncak panggilan paket `ultimate` berada pada `400 menit`"
   ]
  },
  {
   "cell_type": "markdown",
   "metadata": {},
   "source": [
    "Menghitung rata-rata dan variabel durasi panggilan untuk mempertimbangkan apakah pengguna pada paket yang berbeda memiliki perilaku penggunaan panggilan yang berbeda pula"
   ]
  },
  {
   "cell_type": "code",
   "execution_count": 43,
   "metadata": {},
   "outputs": [
    {
     "name": "stdout",
     "output_type": "stream",
     "text": [
      "Rata-rata Durasi Panggilan Pengguna Paket Surf\t   : 379.69 menit\n",
      "Rata-rata Durasi Panggilan Pengguna Paket Ultimate : 377.20 menit\n"
     ]
    }
   ],
   "source": [
    "# Hitung rata-rata dan varians dari durasi panggilan bulanan\n",
    "# menghitung rata-rata \n",
    "mean_surf_calls = surf['min_per_month'].mean()\n",
    "mean_ultimate_calls = ultimate['min_per_month'].mean()\n",
    "\n",
    "# menampilkan output\n",
    "print('Rata-rata Durasi Panggilan Pengguna Paket Surf\\t   :',f'{mean_surf_calls:.2f}','menit')\n",
    "print('Rata-rata Durasi Panggilan Pengguna Paket Ultimate :',f'{mean_ultimate_calls:.2f}','menit')"
   ]
  },
  {
   "cell_type": "code",
   "execution_count": 44,
   "metadata": {},
   "outputs": [
    {
     "name": "stdout",
     "output_type": "stream",
     "text": [
      "Varians Durasi Panggilan Pengguna Paket Surf\t : 37357.58 menit kuadrat\n",
      "Varians Durasi Panggilan Pengguna Paket Ultimate : 38073.64 menit kuadrat\n"
     ]
    }
   ],
   "source": [
    "# menghitung varians\n",
    "varians_surf_calls = np.var(surf[['min_per_month']])\n",
    "varians_ultimate_calls = np.var(ultimate[['min_per_month']])\n",
    "\n",
    "# ekstraksi value dari varians\n",
    "tmp_surf = varians_surf_calls['min_per_month']\n",
    "tmp_ultimate = varians_ultimate_calls['min_per_month']\n",
    "\n",
    "# menampilkan output\n",
    "print('Varians Durasi Panggilan Pengguna Paket Surf\\t :',f'{tmp_surf:.2f}','menit kuadrat')\n",
    "print('Varians Durasi Panggilan Pengguna Paket Ultimate :',f'{tmp_ultimate:.2f}','menit kuadrat')"
   ]
  },
  {
   "cell_type": "code",
   "execution_count": 45,
   "metadata": {
    "collapsed": true
   },
   "outputs": [
    {
     "data": {
      "image/png": "[encoded data removed]",
      "text/plain": [
       "<Figure size 504x360 with 1 Axes>"
      ]
     },
     "metadata": {},
     "output_type": "display_data"
    }
   ],
   "source": [
    "# Buatlah grafik boxplot untuk memvisualisasikan distribusi durasi panggilan bulanan\n",
    "# menggabungkan dua dataframe `surf` dan `ultimate` kedalam satu dataframe menggunakan metode join\n",
    "merging_package = surf.join(ultimate,how='outer',lsuffix='_surf', rsuffix='_ultimate')\n",
    "\n",
    "# menampilkan boxplot durasi waktu berdasarkan paket-paketnya\n",
    "plt.figure(figsize=(7,5))\n",
    "sns.boxplot(data=merging_package[['min_per_month_surf','min_per_month_ultimate']])\n",
    "\n",
    "# mendefinisikan title histogram\n",
    "plt.title('Distribusi Durasi Menit Pengguna (min)')\n",
    "\n",
    "# menampilkan boxplot\n",
    "plt.show()"
   ]
  },
  {
   "cell_type": "markdown",
   "metadata": {},
   "source": [
    "Dilihat dari perilaku pengguna paket berdasarkan panggilan dapat disimpulkan:\n",
    "Perilaku pengguna paket `Surf` dan `Ultimate` dalam penggunaan fitur panggilan tidak jauh berbeda, akan tetapi pengguna paket `Surf` cenderung lebih sering menggunakan fitur panggilan dibandingkan dengan pengguna paket `Ultimate`"
   ]
  },
  {
   "cell_type": "markdown",
   "metadata": {},
   "source": [
    " "
   ]
  },
  {
   "cell_type": "markdown",
   "metadata": {},
   "source": [
    "### Pesan/SMS"
   ]
  },
  {
   "cell_type": "code",
   "execution_count": 46,
   "metadata": {
    "collapsed": true
   },
   "outputs": [
    {
     "data": {
      "image/png": "[encoded data removed]",
      "text/plain": [
       "<Figure size 504x360 with 1 Axes>"
      ]
     },
     "metadata": {},
     "output_type": "display_data"
    }
   ],
   "source": [
    "# Bandingkan jumlah SMS yang cenderung dikirim pengguna tiap paket per bulannya\n",
    "# membuat pivot table untuk merangkum rata-rata dataset jumlah sms berdasarkan jenis paket yang digunakan\n",
    "package_sms = pd.pivot_table(user_usage, index = 'plan', values = 'sms_per_month', aggfunc = 'mean')\n",
    "\n",
    "# membuat bar chart dari pivot table\n",
    "package_sms.plot(kind = 'bar',rot = 0,figsize=(7,5),color='orange')\n",
    "\n",
    "# menentukan batas limit sumbu-y\n",
    "plt.ylim(0,50)\n",
    "\n",
    "# mendefinisikan label sumbu-x dan sumbu-y\n",
    "plt.xlabel('Plans')\n",
    "plt.ylabel('rata-rata sms (qty)')\n",
    "\n",
    "# membuat label pada bar chart\n",
    "plt.text(x=0.01,y=32.5,s='32')\n",
    "plt.text(x=0.95,y=38,s='38')\n",
    "\n",
    "# menampilkan bar chart\n",
    "plt.show()"
   ]
  },
  {
   "cell_type": "markdown",
   "metadata": {},
   "source": [
    "dapat dilihat bahwa pengguna paket `Ultimate` lebih sering menggunakan fitur sms dibandingkan pengguna paket `surf`"
   ]
  },
  {
   "cell_type": "code",
   "execution_count": 47,
   "metadata": {
    "collapsed": true
   },
   "outputs": [
    {
     "data": {
      "image/png": "[encoded data removed]",
      "text/plain": [
       "<Figure size 576x360 with 1 Axes>"
      ]
     },
     "metadata": {},
     "output_type": "display_data"
    }
   ],
   "source": [
    "# Bandingkan jumlah traffic internet yang dihabiskan oleh pengguna per paket\n",
    "# kita akan membuat sebuah histogram.\n",
    "\n",
    "# membuat histogram dari paket `surf` dan paket 'ultimate'\n",
    "surf['sms_per_month'].hist(bins=15, label = 'Paket Surf',figsize=(8,5))\n",
    "ultimate['sms_per_month'].hist(bins=15, label = 'Paket Ultimate')\n",
    "\n",
    "# mendefinisikan title histogram\n",
    "plt.title('Distribusi Jumlah SMS Pengguna (qty)')\n",
    "\n",
    "# mendefinisikan letak legend\n",
    "plt.legend(loc='upper right')\n",
    "\n",
    "# menampilkan histogram chart\n",
    "plt.show()"
   ]
  },
  {
   "cell_type": "markdown",
   "metadata": {},
   "source": [
    "Pengguna yang menggunakan paket `Surf` terlihat jarang menggunakan fitur sms jika dibandingkan dengan pengguna paket `ultimate` tetapi puncak penggunaaannya sama-sama berada pada `0-10 sms`, akan tetapi penggunakan fitur sms pada paket `Ultimate` cenderung terlihat merata dibandingkan dengan pengguna paket `surf`, terlihat bahwa fitur ini termasuk jarang digunakan karena grafik semakin landai ke kanan."
   ]
  },
  {
   "cell_type": "code",
   "execution_count": 48,
   "metadata": {
    "collapsed": true
   },
   "outputs": [
    {
     "name": "stdout",
     "output_type": "stream",
     "text": [
      "Rata-rata SMS Pengguna Paket Surf     : 32.11 sms\n",
      "Rata-rata SMS Pengguna Paket Ultimate : 37.70 sms\n"
     ]
    }
   ],
   "source": [
    "# menghitung rata-rata dan varians dari jumlah sms bulanan\n",
    "\n",
    "# menghitung rata-rata \n",
    "mean_surf_sms = surf['sms_per_month'].mean()\n",
    "mean_ultimate_sms = ultimate['sms_per_month'].mean()\n",
    "\n",
    "# menampilkan output\n",
    "print('Rata-rata SMS Pengguna Paket Surf     :',f'{mean_surf_sms:.2f}','sms')\n",
    "print('Rata-rata SMS Pengguna Paket Ultimate :',f'{mean_ultimate_sms:.2f}','sms')"
   ]
  },
  {
   "cell_type": "code",
   "execution_count": 49,
   "metadata": {
    "collapsed": true
   },
   "outputs": [
    {
     "name": "stdout",
     "output_type": "stream",
     "text": [
      "Varians SMS Pengguna Paket Surf     : 963.40 qty kuadrat\n",
      "Varians SMS Pengguna Paket Ultimate : 1086.56 qty kuadrat\n"
     ]
    }
   ],
   "source": [
    "# menghitung varians\n",
    "varians_surf_sms = np.var(surf[['sms_per_month']])\n",
    "varians_ultimate_sms = np.var(ultimate[['sms_per_month']])\n",
    "\n",
    "# ekstraksi value dari varians\n",
    "tmp_surf = varians_surf_sms['sms_per_month']\n",
    "tmp_ultimate = varians_ultimate_sms['sms_per_month']\n",
    "\n",
    "# menampilkan output\n",
    "print('Varians SMS Pengguna Paket Surf     :',f'{tmp_surf:.2f}','qty kuadrat')\n",
    "print('Varians SMS Pengguna Paket Ultimate :',f'{tmp_ultimate:.2f}','qty kuadrat')"
   ]
  },
  {
   "cell_type": "code",
   "execution_count": 50,
   "metadata": {
    "collapsed": true
   },
   "outputs": [
    {
     "data": {
      "image/png": "[encoded data removed]",
      "text/plain": [
       "<Figure size 504x360 with 1 Axes>"
      ]
     },
     "metadata": {},
     "output_type": "display_data"
    }
   ],
   "source": [
    "# membuat grafik boxplot untuk memvisualisasikan distribusi jumlah sms bulanan\n",
    "\n",
    "# menampilkan boxplot jumlah sms berdasarkan paket-paketnya\n",
    "plt.figure(figsize=(7,5))\n",
    "sns.boxplot(data=merging_package[['sms_per_month_surf','sms_per_month_ultimate']])\n",
    "\n",
    "# mendefinisikan title boxplot\n",
    "plt.title('Distribusi Jumlah SMS Pengguna (qty)')\n",
    "\n",
    "# menampilkan boxplot\n",
    "plt.show()"
   ]
  },
  {
   "cell_type": "markdown",
   "metadata": {},
   "source": [
    "Dilihat dari perilaku pengguna paket berdasarkan sms dapat disimpulkan:\n",
    "Perilaku pengguna paket `Surf` dan `Ultimate` dalam penggunaan fitur sms tidak jauh berbeda, akan tetapi pengguna paket `Ultimate` cenderung lebih sering menggunakan fitur sms dibandingkan dengan pengguna paket `Surf`"
   ]
  },
  {
   "cell_type": "markdown",
   "metadata": {},
   "source": [
    "### Internet"
   ]
  },
  {
   "cell_type": "code",
   "execution_count": 51,
   "metadata": {
    "collapsed": true
   },
   "outputs": [
    {
     "data": {
      "image/png": "[encoded data removed]",
      "text/plain": [
       "<Figure size 504x360 with 1 Axes>"
      ]
     },
     "metadata": {},
     "output_type": "display_data"
    }
   ],
   "source": [
    "# membandingkan jumlah data yang cenderung dikirim pengguna tiap paket per bulannya\n",
    "\n",
    "# membuat pivot table untuk merangkum rata-rata dataset jumlah data berdasarkan jenis paket yang digunakan\n",
    "package_internet = pd.pivot_table(user_usage, index = 'plan', values = 'gb_per_month', aggfunc = 'mean')\n",
    "\n",
    "# membuat bar chart dari pivot table\n",
    "package_internet.plot(kind = 'bar',rot = 0,figsize=(7,5),color='orange')\n",
    "\n",
    "# menentukan batas limit sumbu-y\n",
    "plt.ylim(15,16.2)\n",
    "\n",
    "# mendefinisikan label sumbu-x dan sumbu-y\n",
    "plt.xlabel('Plans')\n",
    "plt.ylabel('rata-rata data (gb)')\n",
    "\n",
    "# membuat label pada bar chart\n",
    "plt.text(x=0.01,y=15.77,s='15.76')\n",
    "plt.text(x=0.95,y=15.83,s='15.82')\n",
    "\n",
    "# menampilkan bar chart\n",
    "plt.show()"
   ]
  },
  {
   "cell_type": "markdown",
   "metadata": {},
   "source": [
    "terlihat bahwa penggunaan paket data pada paket `surf` dan `ultimate` tidak jauh berbeda akan tetapi pengguna dengan paket `ultimate` terlihat lebih banyak menghabiskan paket data perbulan"
   ]
  },
  {
   "cell_type": "code",
   "execution_count": 52,
   "metadata": {
    "collapsed": true
   },
   "outputs": [
    {
     "data": {
      "image/png": "[encoded data removed]",
      "text/plain": [
       "<Figure size 576x360 with 1 Axes>"
      ]
     },
     "metadata": {},
     "output_type": "display_data"
    }
   ],
   "source": [
    "# membandingkan jumlah data yang dibutuhkan pengguna tiap paket per bulannya. \n",
    "# kita akan membuat sebuah histogram.\n",
    "\n",
    "# membuat histogram dari paket `surf` dan paket 'ultimate'\n",
    "surf['gb_per_month'].hist(bins=15, label = 'Paket Surf', figsize=(8,5))\n",
    "ultimate['gb_per_month'].hist(bins=15, label = 'Paket Ultimate')\n",
    "\n",
    "# mendefinisikan title histogram\n",
    "plt.title('Distribusi Jumlah Data (Gb) Pengguna')\n",
    "\n",
    "# mendefinisikan letak legend\n",
    "plt.legend(loc='upper right')\n",
    "\n",
    "# menampilkan histogram chart\n",
    "plt.show()"
   ]
  },
  {
   "cell_type": "markdown",
   "metadata": {},
   "source": [
    "Terlihat bahwa pengguna dengan paket `Surf` lebih banyak menghabiskan paket internet dibandingkan dengan pengguna paket `Ultimate` puncaknya pun berdekatan, akan tetapi secara distribusi pengguna dengan paket `ultimate` cenderung lwbih rata dalam penggunaan internet.\n",
    "\n",
    "Mengingat bahwa paket `Surf` memiliki internet bawaan lebih sedikit dibandingkan `Ultimate` maka kemungkinan pengguna dengan paket ini kemungkinan cenderung lebih sering menambah biaya untuk menutupi kekurangan kebutuhan."
   ]
  },
  {
   "cell_type": "code",
   "execution_count": 53,
   "metadata": {
    "collapsed": true
   },
   "outputs": [
    {
     "name": "stdout",
     "output_type": "stream",
     "text": [
      "Rata-rata Jumlah Data Internet Pengguna Paket Surf     : 15.76 gb\n",
      "Rata-rata Jumlah Data Internet Pengguna Paket Ultimate : 15.82 gb\n"
     ]
    }
   ],
   "source": [
    "# menghitung rata-rata dan varians dari jumlah data (gb) bulanan\n",
    "\n",
    "# menghitung rata-rata \n",
    "mean_surf_internet = surf['gb_per_month'].mean()\n",
    "mean_ultimate_internet = ultimate['gb_per_month'].mean()\n",
    "\n",
    "# menampilkan output\n",
    "print('Rata-rata Jumlah Data Internet Pengguna Paket Surf     :',f'{mean_surf_internet:.2f}','gb')\n",
    "print('Rata-rata Jumlah Data Internet Pengguna Paket Ultimate :',f'{mean_ultimate_internet:.2f}','gb')"
   ]
  },
  {
   "cell_type": "code",
   "execution_count": 54,
   "metadata": {
    "collapsed": true
   },
   "outputs": [
    {
     "name": "stdout",
     "output_type": "stream",
     "text": [
      "Varians Jumlah Data Internet Pengguna Paket Surf     : 40.72 gb kuadrat\n",
      "Varians Jumlah Data Internet Pengguna Paket Ultimate : 38.64 gb kuadrat\n"
     ]
    }
   ],
   "source": [
    "# menghitung varians\n",
    "varians_surf_gb = np.var(surf[['gb_per_month']])\n",
    "varians_ultimate_gb = np.var(ultimate[['gb_per_month']])\n",
    "\n",
    "# ekstraksi value dari varians\n",
    "tmp_surf = varians_surf_gb['gb_per_month']\n",
    "tmp_ultimate = varians_ultimate_gb['gb_per_month']\n",
    "\n",
    "# menampilkan output\n",
    "print('Varians Jumlah Data Internet Pengguna Paket Surf     :',f'{tmp_surf:.2f}','gb kuadrat')\n",
    "print('Varians Jumlah Data Internet Pengguna Paket Ultimate :',f'{tmp_ultimate:.2f}','gb kuadrat')"
   ]
  },
  {
   "cell_type": "code",
   "execution_count": 55,
   "metadata": {
    "collapsed": true
   },
   "outputs": [
    {
     "data": {
      "image/png": "[encoded data removed]",
      "text/plain": [
       "<Figure size 504x360 with 1 Axes>"
      ]
     },
     "metadata": {},
     "output_type": "display_data"
    }
   ],
   "source": [
    "# membuat grafik boxplot untuk memvisualisasikan distribusi jumlah data (gb) bulanan\n",
    "\n",
    "# menampilkan boxplot jumlah sms berdasarkan paket-paketnya\n",
    "plt.figure(figsize=(7,5))\n",
    "sns.boxplot(data=merging_package[['gb_per_month_surf','gb_per_month_ultimate']])\n",
    "\n",
    "# mendefinisikan title boxplot\n",
    "plt.title('Distribusi Jumlah Data (Gb) Pengguna')\n",
    "\n",
    "# menampilkan boxplot\n",
    "plt.show()"
   ]
  },
  {
   "cell_type": "markdown",
   "metadata": {},
   "source": [
    "dilihat dari grafik boxplot dapat diketahui bahwa: Pengguna paket `Surf` dan `Ultimate` cenderung menghabiskan jumlah internet yang hampir sama."
   ]
  },
  {
   "cell_type": "markdown",
   "metadata": {},
   "source": [
    "## Pendapatan<a id='inc'></a>"
   ]
  },
  {
   "cell_type": "code",
   "execution_count": 56,
   "metadata": {
    "collapsed": true
   },
   "outputs": [
    {
     "data": {
      "image/png": "[encoded data removed]",
      "text/plain": [
       "<Figure size 504x360 with 1 Axes>"
      ]
     },
     "metadata": {},
     "output_type": "display_data"
    }
   ],
   "source": [
    "# membandingkan jumlah pendapatan dari pengguna tiap paket per bulannya\n",
    "\n",
    "# membuat pivot table untuk merangkum rata-rata dataset jumlah pendapatan berdasarkan jenis paket yang digunakan\n",
    "package_amount = pd.pivot_table(user_usage, index = 'plan', values = 'user_amount', aggfunc = 'mean')\n",
    "\n",
    "# membuat bar chart dari pivot table\n",
    "package_amount.plot(kind = 'bar',rot = 0, figsize=(7,5))\n",
    "\n",
    "# menentukan batas limit sumbu-y\n",
    "plt.ylim(0,100)\n",
    "\n",
    "# mendefinisikan label sumbu-x dan sumbu-y\n",
    "plt.xlabel('Plans')\n",
    "plt.ylabel('rata-rata user_amount (USD)')\n",
    "\n",
    "# membuat label pada bar chart\n",
    "plt.text(x=0.01,y=49,s='48.16')\n",
    "plt.text(x=0.95,y=72,s='70.52')\n",
    "\n",
    "# menampilkan bar chart\n",
    "plt.show()"
   ]
  },
  {
   "cell_type": "markdown",
   "metadata": {},
   "source": [
    "dapat dilihat bahwa pengguna dengan paket `ultimate` cenderung memiliki pendapatan lebih tinggi daripada pengguna dengan paket `surf`"
   ]
  },
  {
   "cell_type": "code",
   "execution_count": 57,
   "metadata": {
    "collapsed": true
   },
   "outputs": [
    {
     "data": {
      "image/png": "[encoded data removed]",
      "text/plain": [
       "<Figure size 576x360 with 1 Axes>"
      ]
     },
     "metadata": {},
     "output_type": "display_data"
    }
   ],
   "source": [
    "# membandingkan jumlah pendapatan dari pengguna tiap paket per bulannya. \n",
    "# kita akan membuat sebuah histogram.\n",
    "\n",
    "# membuat histogram dari paket `surf` dan paket 'ultimate'\n",
    "surf['user_amount'].hist(bins=15, label = 'Paket Surf',figsize=(8,5))\n",
    "ultimate['user_amount'].hist(bins=3, label = 'Paket Ultimate', alpha = 0.7)\n",
    "\n",
    "# mendefinisikan title histogram\n",
    "plt.title('Distribusi Jumlah Pendapatan (USD) Pengguna')\n",
    "\n",
    "# mendefinisikan letak legend\n",
    "plt.legend(loc='upper right')\n",
    "\n",
    "# menampilkan histogram chart\n",
    "plt.show()"
   ]
  },
  {
   "cell_type": "markdown",
   "metadata": {},
   "source": [
    "dari grafik dapat dilihat bahwa pengguna dengan paket `Surf` cenderung lebih banyak dengan penghasilan di bawah `50 USD` sedangkan pengguna dengan paket `Ultimate` memuncak pada kisaran `70-80 USD`, akan tetapi distribusi pengguna paket `surf` lebih banyak vaiasi dibandingkan dengan pengguna paket `Ultimate`"
   ]
  },
  {
   "cell_type": "code",
   "execution_count": 58,
   "metadata": {},
   "outputs": [
    {
     "name": "stdout",
     "output_type": "stream",
     "text": [
      "Rata-rata Jumlah Pendapatan dari Pengguna Paket Surf     : 48.16 USD\n",
      "Rata-rata Jumlah Pendapatan dari Pengguna Paket Ultimate : 70.52 USD\n"
     ]
    }
   ],
   "source": [
    "# menghitung rata-rata dan varians dari jumlah pendapatan dari pelanggan bulanan\n",
    "\n",
    "# menghitung rata-rata \n",
    "mean_surf_amount = surf['user_amount'].mean()\n",
    "mean_ultimate_amount = ultimate['user_amount'].mean()\n",
    "\n",
    "# menampilkan output\n",
    "print('Rata-rata Jumlah Pendapatan dari Pengguna Paket Surf     :',f'{mean_surf_amount:.2f}','USD')\n",
    "print('Rata-rata Jumlah Pendapatan dari Pengguna Paket Ultimate :',f'{mean_ultimate_amount:.2f}','USD')"
   ]
  },
  {
   "cell_type": "code",
   "execution_count": 59,
   "metadata": {},
   "outputs": [
    {
     "name": "stdout",
     "output_type": "stream",
     "text": [
      "Varians Jumlah Pendapatan dari Pengguna Paket Surf     : 1777.84 USD kuadrat\n",
      "Varians Jumlah Pendapatan dari Pengguna Paket Ultimate : 16.16 USD kuadrat\n"
     ]
    }
   ],
   "source": [
    "# menghitung varians\n",
    "varians_surf_amount = np.var(surf[['user_amount']])\n",
    "varians_ultimate_amount = np.var(ultimate[['user_amount']])\n",
    "\n",
    "# ekstraksi value dari varians\n",
    "tmp_surf = varians_surf_amount['user_amount']\n",
    "tmp_ultimate = varians_ultimate_amount['user_amount']\n",
    "\n",
    "# menampilkan output\n",
    "print('Varians Jumlah Pendapatan dari Pengguna Paket Surf     :',f'{tmp_surf:.2f}','USD kuadrat')\n",
    "print('Varians Jumlah Pendapatan dari Pengguna Paket Ultimate :',f'{tmp_ultimate:.2f}','USD kuadrat')"
   ]
  },
  {
   "cell_type": "code",
   "execution_count": 60,
   "metadata": {
    "collapsed": true
   },
   "outputs": [
    {
     "data": {
      "image/png": "[encoded data removed]",
      "text/plain": [
       "<Figure size 504x360 with 1 Axes>"
      ]
     },
     "metadata": {},
     "output_type": "display_data"
    }
   ],
   "source": [
    "# membuat grafik boxplot untuk memvisualisasikan distribusi jumlah pendapatan dari pelanggan bulanan\n",
    "\n",
    "# menampilkan boxplot jumlah sms berdasarkan paket-paketnya\n",
    "plt.figure(figsize=(7,5))\n",
    "sns.boxplot(data=merging_package[['user_amount_surf','user_amount_ultimate']])\n",
    "\n",
    "# mendefinisikan title boxplot\n",
    "plt.title('Distribusi Jumlah Pendapatan (USD) Pengguna')\n",
    "\n",
    "# menampilkan boxplot\n",
    "plt.show()"
   ]
  },
  {
   "cell_type": "markdown",
   "metadata": {},
   "source": [
    "Dari grafik boxplot dapat disimpulkan bahwa pengguna dengan paket `Surf` cenderung memiliki pendapatan lebih rendah dengan varians yang lebih beragam dibandingkan dengan pengguna paket `Ultimate`"
   ]
  },
  {
   "cell_type": "markdown",
   "metadata": {},
   "source": [
    "# Menguji Hipotesis Statistik<a id='hipo'></a>"
   ]
  },
  {
   "cell_type": "markdown",
   "metadata": {},
   "source": [
    "## Hipotesis 1"
   ]
  },
  {
   "cell_type": "markdown",
   "metadata": {},
   "source": [
    "Ujilah hipotesis yang menyatakan bahwa pendapatan rata-rata dari pengguna paket prabayar Ultimate dan Surf berbeda"
   ]
  },
  {
   "cell_type": "markdown",
   "metadata": {},
   "source": [
    "Selanjutnya kita akan menguji suatu hipotesis yang menyatakan bahwa `Pendapatan Rata-rata dari Pengguna Paket Prabayar Ultimate dan Surf Berbeda`. Mari kita rangkum hipotesisnya sebagai berikut:\n",
    "\n",
    "* Hipotesis Nol: `Pendapatan Rata-rata dari Pengguna Paket Prabayar Ultimate dan Surf Sama`\n",
    "* Hipotesis Alternatif: `Pendapatan Rata-rata dari Pengguna Paket Prabayar Ultimate dan Surf Berbeda`\n",
    "\n",
    "Mari kita uji menggunakan library scipy."
   ]
  },
  {
   "cell_type": "code",
   "execution_count": 61,
   "metadata": {},
   "outputs": [
    {
     "name": "stdout",
     "output_type": "stream",
     "text": [
      "p-value 9.973982812516747e-20\n",
      "Kita menolak hipotesis nol\n"
     ]
    }
   ],
   "source": [
    "# Uji hipotesisnya\n",
    "# menguji hipotesis 1:\n",
    "# mendefinisikan signifikasi sebesar 5%\n",
    "alpha = 0.05\n",
    "\n",
    "# menguji apakah pendapatan pada paket `surf` dan paket `ultimate` memiliki kesamaan menggunakan `ttest_ind`\n",
    "results = st.ttest_ind(surf['user_amount'],ultimate['user_amount'],equal_var=False)\n",
    "\n",
    "# menampilkan p-value\n",
    "print('p-value',results.pvalue)\n",
    "\n",
    "# pengujian hipotesis\n",
    "if results.pvalue < alpha:\n",
    "    # hipotesis alternatif = \"Pendapatan Rata-rata dari Pengguna Paket Prabayar Ultimate dan Surf Berbeda\" \n",
    "    print('Kita menolak hipotesis nol')\n",
    "else:\n",
    "    # hipotesis nol = \"Pendapatan Rata-rata dari Pengguna Paket Prabayar Ultimate dan Surf Sama\"\n",
    "    print('Kita tidak dapat menolak hipotesis nol')"
   ]
  },
  {
   "cell_type": "markdown",
   "metadata": {},
   "source": [
    "Dari hasil pengujian hipotesis menunjukan `Penolakan terhadap Hipotesis Nol` dimana `Hipotesis Alternatif yang Disetujui` yang berarti bahwa `\"Pendapatan Rata-rata dari Pengguna Paket Prabayar Ultimate dan Surf Berbeda\"`. Hal ini sesuai dengan analisis pendapatan dari pengguna pada pembahasan sebelumnya bahwa `Pendapatan dari Paket Ultimate Lebih Besar dari Paket Surf`."
   ]
  },
  {
   "cell_type": "markdown",
   "metadata": {},
   "source": [
    "## Hipotesis 2"
   ]
  },
  {
   "cell_type": "markdown",
   "metadata": {},
   "source": [
    "Ujilah hipotesis bahwa pendapatan rata-rata dari pengguna di wilayah NY-NJ berbeda dengan pendapatan pengguna dari wilayah lain"
   ]
  },
  {
   "cell_type": "markdown",
   "metadata": {},
   "source": [
    "Selanjutnya kita akan menguji suatu hipotesis yang menyatakan bahwa `Pendapatan Rata-rata dari Pengguna di Wilayah NY-NJ Berbeda dengan Pendapatan Pengguna dari Wilayah Lain`. Mari kita rangkum hipotesisnya sebagai berikut:\n",
    "\n",
    "* Hipotesis Nol: `Pendapatan Rata-rata dari Pengguna di Wilayah NY-NJ dengan Wilayah Lain adalah Sama`\n",
    "* Hipotesis Alternatif: `Pendapatan Rata-rata dari Pengguna di Wilayah NY-NJ dengan Wilayah Lain adalah Berbeda`\n",
    "\n",
    "\n",
    "Mari kita uji menggunakan library scipy."
   ]
  },
  {
   "cell_type": "code",
   "execution_count": 62,
   "metadata": {},
   "outputs": [],
   "source": [
    "# membuat filter pendapatan berdasarkan region 'NY-NJ' dengan region 'other'\n",
    "ny_nj_amount = user_usage[user_usage['region'] == 'NY-NJ']\n",
    "other_amount = user_usage[user_usage['region'] == 'other']"
   ]
  },
  {
   "cell_type": "code",
   "execution_count": 63,
   "metadata": {
    "collapsed": true
   },
   "outputs": [
    {
     "name": "stdout",
     "output_type": "stream",
     "text": [
      "p-value 0.4268835575367236\n",
      "Kita tidak dapat menolak hipotesis nol\n"
     ]
    }
   ],
   "source": [
    "# Uji hipotesisnya\n",
    "# menguji hipotesis 2:\n",
    "# mendefinisikan signifikasi sebesar 5%\n",
    "alpha = 0.05\n",
    "\n",
    "# menguji apakah pendapatan pada region `NY-NJ` dan region `Other` memiliki kesamaan menggunakan `ttest_ind`\n",
    "results = st.ttest_ind(ny_nj_amount['user_amount'],other_amount['user_amount'],equal_var=False)\n",
    "\n",
    "# menampilkan p-value\n",
    "print('p-value',results.pvalue)\n",
    "\n",
    "# pengujian hipotesis\n",
    "if results.pvalue < alpha:\n",
    "    # hipotesis alternatif = \"Pendapatan Rata-rata dari Pengguna di Wilayah NY-NJ dengan Wilayah Lain adalah Berbeda\" \n",
    "    print('Kita menolak hipotesis nol')\n",
    "else:\n",
    "    # hipotesis nol = \"Pendapatan Rata-rata dari Pengguna di Wilayah NY-NJ dengan Wilayah Lain adalah Sama\"\n",
    "    print('Kita tidak dapat menolak hipotesis nol')"
   ]
  },
  {
   "cell_type": "markdown",
   "metadata": {},
   "source": [
    "Dari hasil pengujian hipotesis menunjukan `Penolakan terhadap Hipotesis Nol` dimana `Hipotesis Alternatif yang Disetujui` yang berarti bahwa `\"Pendapatan Rata-rata dari Pengguna di Wilayah NY-NJ Berbeda dengan Pendapatan Pengguna dari Wilayah Lain\"`. yang berarti `Pendapatan Rata-rata dari Pengguna di Wilayah NY-NJ sama dengan Pendapatan Pengguna dari Wilayah Lain`"
   ]
  },
  {
   "cell_type": "markdown",
   "metadata": {},
   "source": [
    "# Kesimpulan Umum<a id='conc'></a>\n",
    "\n",
    "1. Untuk kategori durasi telepon terbanyak dalam satu bulan dimiliki oleh Paket `Surf` dengan durasi panggilan `379.69 menit` sedangkan paket `Ultimate` `377.20 menit`\n",
    "2. Untuk kategori jumlah sms terbanyak dalam satu bulan dimiliki oleh Paket `Ultimate` dengan jumlah pesan `37.70 sms` sedangkan paket `Surf` `32.11 sms`\n",
    "3. Rata-rata penggunaan kisaran jumlah data internet per bulan untuk kedua tipe Paket Prabayar berkisar pada `15-16 GB` dimana paket `Surf` `15.76 GB` dan paket `Ultimate` `15.82 GB`\n",
    "4. Jumlah pendapatan terbanyak dari pengguna per bulan dimiliki oleh Paket `Ultimate` yaitu `70.52 USD` sedangkan pengguna dengan paket `Surf` memiliki pendapatan `48.16 USD`\n",
    "5. Dilihat dari `Hipotesis 1` dapat diketahui bahwa Pendapatan Rata-rata dari Pengguna Paket Prabayar Ultimate dan Surf Berbeda\n",
    "6. Dilihat dari `Hipotesis 2` dapat diketahui bahwa  Pengguna di Wilayah NY-NJ dengan Wilayah Lain adalah sama\n",
    "7. Pengguna dengan paket `Surf` terlihat lebih sering menggunakan fitur telepon dibandingkan dengan pengguna dengan paket `Ultimate`\n",
    "8. Pengguna dengan paket `Ultimate` lebih sering menggunakan fitur `message` dan `internet` serta memiliki `pendapatan` lebih tinggi daripada pengguna dengan paket `Surf`\n",
    "9. Melihat dari penggunaan yang digunakan `user` berdasarkan paket yang dipilih kecenderungan pengguna dengan paket `Surf` adalah membeli tambahan karna dilihat dari rata-rata penggunaan `calls`, `message` dan `internet` mendekati paket `Ultimate` yang mana limit dari paket `Ultimate` jauh lebih banyak dibandingkan paket `Surf`"
   ]
  },
  {
   "cell_type": "markdown",
   "metadata": {},
   "source": [
    "## Temuan\n",
    "1. data `user`, `calls` `message` dan `internet` terdapat kolom dengan `type data` yang salah terutama yang berhubungan dengan tanggal\n",
    "2. pengelompokkan `user` berdasarkan `region` terbukti membantu dalam melakukan analisa terhadap `hipotesis 2`\n",
    "3. Penghitungan `hipotesis` menggunakan ibrary `scipy` membantu dalam analisa\n",
    "4. Pengguna dengan paket `Surf` cenderung lebih sering membeli tambahan paket"
   ]
  },
  {
   "cell_type": "markdown",
   "metadata": {},
   "source": [
    "## Rekomendasi\n",
    "\n",
    "Berdasarkan kecenderungan sifat pengguna pada paket `Surf` dan `Ultimate` akan lebih baik jika kedua paket ini dijadikan satu paket baru yang memiliki kriteria berbeda. Penggunaan fitur `calls` memiliki rata-rata `300-400 menit` perbulannya sehinggan pemberian paket telepon `500 menit` sudah dirasa tepat. Penggunaan `message` secara rata-rata berkisar dari `30-40 sms` perbulannya maka pemberian paket data `50 sms` dirasa sudah cukup tepat. Pada fitur `internet` terlihat bahwa rata-rata penggunaannya berkisar pada `15-16 GB` pemberian paket internet `Surf` masih tergolong kurang sedangkan paket `Ultimate` membuat pengguna merasa rugi karna kelebihan lebih dari `14 GB` untuk mengatasi masalah ini penambahan paket `internet` hingga `20 GB` dirasa dapat menjadi solusi. Karena terjadinya penambahan maka harga perpaket juga akan berubah. Mengingat bahwa pendapatan rata-rata pengguna paket `Surf` adalah `48.16 GB` dengan harga paket `Surf` lama adalah `20 USD` maka penambahan sehingga `30 USD` dirasa sudah paling tepat. Untuk itu harga penambahan apabila dibutuhkan yang lain kira-kira bisa ditambahkan menjadi: 1 menit: `2 sen`, 1 SMS: `2 sen`, 1 GB data: `10 USD`.\n",
    "\n",
    "**Premium**\n",
    "1. Biaya bulanan: 30 USD\n",
    "2. 500 menit durasi panggilan per bulan, 50 SMS, dan 20 GB data\n",
    "\n",
    "Setelah melebihi batas paket, akan dikenakan:\n",
    "* 1 menit: 2 sen\n",
    "* 1 SMS: 2 sen\n",
    "* 1 GB data: 12 USD"
   ]
  },
  {
   "cell_type": "markdown",
   "metadata": {},
   "source": [
    "[Kembali](#back)"
   ]
  },
  {
   "cell_type": "markdown",
   "metadata": {},
   "source": [
    " "
   ]
  }
 ],
 "metadata": {
  "ExecuteTimeLog": [
   {
    "duration": 828,
    "start_time": "2021-11-16T09:21:11.304Z"
   },
   {
    "duration": 893,
    "start_time": "2021-11-16T09:21:17.728Z"
   },
   {
    "duration": 1150,
    "start_time": "2021-11-16T09:21:29.568Z"
   },
   {
    "duration": 3,
    "start_time": "2021-11-16T09:24:14.495Z"
   },
   {
    "duration": 120,
    "start_time": "2021-11-16T09:24:46.630Z"
   },
   {
    "duration": 3,
    "start_time": "2021-11-16T09:28:27.882Z"
   },
   {
    "duration": 4,
    "start_time": "2021-11-16T09:29:54.281Z"
   },
   {
    "duration": 3,
    "start_time": "2021-11-16T09:30:45.936Z"
   },
   {
    "duration": 4,
    "start_time": "2021-11-16T09:31:06.300Z"
   },
   {
    "duration": 113,
    "start_time": "2021-11-16T09:31:37.208Z"
   },
   {
    "duration": 143,
    "start_time": "2021-11-16T09:31:48.656Z"
   },
   {
    "duration": 98,
    "start_time": "2021-11-16T09:31:55.678Z"
   },
   {
    "duration": 3,
    "start_time": "2021-11-16T09:32:08.535Z"
   },
   {
    "duration": 111,
    "start_time": "2021-11-16T09:32:10.120Z"
   },
   {
    "duration": 3,
    "start_time": "2021-11-16T09:32:15.732Z"
   },
   {
    "duration": 4,
    "start_time": "2021-11-16T09:32:29.423Z"
   },
   {
    "duration": 3,
    "start_time": "2021-11-16T10:03:03.074Z"
   },
   {
    "duration": 3,
    "start_time": "2021-11-16T10:10:01.288Z"
   },
   {
    "duration": 3,
    "start_time": "2021-11-16T10:10:46.923Z"
   },
   {
    "duration": 121,
    "start_time": "2021-11-16T10:37:46.494Z"
   },
   {
    "duration": 125,
    "start_time": "2021-11-16T10:38:20.632Z"
   },
   {
    "duration": 112,
    "start_time": "2021-11-16T10:46:53.001Z"
   },
   {
    "duration": 110,
    "start_time": "2021-11-16T10:48:25.775Z"
   },
   {
    "duration": 3,
    "start_time": "2021-11-16T10:50:18.720Z"
   },
   {
    "duration": 4,
    "start_time": "2021-11-16T10:50:37.649Z"
   },
   {
    "duration": 2,
    "start_time": "2021-11-16T10:50:51.884Z"
   },
   {
    "duration": 3,
    "start_time": "2021-11-16T10:51:56.237Z"
   },
   {
    "duration": 101,
    "start_time": "2021-11-16T10:53:13.791Z"
   },
   {
    "duration": 3,
    "start_time": "2021-11-16T10:55:59.186Z"
   },
   {
    "duration": 3,
    "start_time": "2021-11-16T10:56:10.751Z"
   },
   {
    "duration": 3,
    "start_time": "2021-11-16T10:56:49.038Z"
   },
   {
    "duration": 3,
    "start_time": "2021-11-16T10:56:49.174Z"
   },
   {
    "duration": 4,
    "start_time": "2021-11-16T10:56:49.414Z"
   },
   {
    "duration": 3,
    "start_time": "2021-11-16T10:56:49.680Z"
   },
   {
    "duration": 3,
    "start_time": "2021-11-16T10:56:50.370Z"
   },
   {
    "duration": 114,
    "start_time": "2021-11-16T10:59:34.518Z"
   },
   {
    "duration": 3,
    "start_time": "2021-11-16T11:01:41.201Z"
   },
   {
    "duration": 116,
    "start_time": "2021-11-16T11:01:48.754Z"
   },
   {
    "duration": 3,
    "start_time": "2021-11-16T11:02:16.685Z"
   },
   {
    "duration": 3,
    "start_time": "2021-11-16T11:02:19.479Z"
   },
   {
    "duration": 3,
    "start_time": "2021-11-16T11:02:47.067Z"
   },
   {
    "duration": 3,
    "start_time": "2021-11-16T11:02:49.353Z"
   },
   {
    "duration": 3,
    "start_time": "2021-11-16T11:03:07.835Z"
   },
   {
    "duration": 3,
    "start_time": "2021-11-16T11:03:07.953Z"
   },
   {
    "duration": 112,
    "start_time": "2021-11-16T11:07:52.072Z"
   },
   {
    "duration": 187,
    "start_time": "2021-11-16T11:09:23.468Z"
   },
   {
    "duration": 4,
    "start_time": "2021-11-16T11:10:01.455Z"
   },
   {
    "duration": 3,
    "start_time": "2021-11-16T11:10:05.069Z"
   },
   {
    "duration": 4,
    "start_time": "2021-11-16T11:10:13.376Z"
   },
   {
    "duration": 3,
    "start_time": "2021-11-16T11:10:14.434Z"
   },
   {
    "duration": 3,
    "start_time": "2021-11-16T11:10:22.853Z"
   },
   {
    "duration": 4,
    "start_time": "2021-11-16T11:27:29.279Z"
   },
   {
    "duration": 4,
    "start_time": "2021-11-16T11:29:08.919Z"
   },
   {
    "duration": 118,
    "start_time": "2021-11-16T11:29:46.703Z"
   },
   {
    "duration": 437,
    "start_time": "2021-11-16T11:36:02.181Z"
   },
   {
    "duration": 157,
    "start_time": "2021-11-16T11:36:14.388Z"
   },
   {
    "duration": 207,
    "start_time": "2021-11-16T11:47:15.898Z"
   },
   {
    "duration": 3,
    "start_time": "2021-11-16T11:53:52.092Z"
   },
   {
    "duration": 3,
    "start_time": "2021-11-16T11:53:52.236Z"
   },
   {
    "duration": 3,
    "start_time": "2021-11-16T11:59:12.005Z"
   },
   {
    "duration": 112,
    "start_time": "2021-11-16T12:00:33.446Z"
   },
   {
    "duration": 3,
    "start_time": "2021-11-16T12:02:14.453Z"
   },
   {
    "duration": 3,
    "start_time": "2021-11-16T12:02:39.512Z"
   },
   {
    "duration": 106,
    "start_time": "2021-11-16T12:03:03.460Z"
   },
   {
    "duration": 3,
    "start_time": "2021-11-17T20:37:21.139Z"
   },
   {
    "duration": 3,
    "start_time": "2021-11-17T20:37:22.229Z"
   },
   {
    "duration": 3,
    "start_time": "2021-11-17T20:38:38.806Z"
   },
   {
    "duration": 3,
    "start_time": "2021-11-17T20:38:41.958Z"
   },
   {
    "duration": 3,
    "start_time": "2021-11-17T20:43:46.551Z"
   },
   {
    "duration": 4,
    "start_time": "2021-11-17T20:58:21.835Z"
   },
   {
    "duration": 3,
    "start_time": "2021-11-17T20:59:21.872Z"
   },
   {
    "duration": 4,
    "start_time": "2021-11-17T20:59:45.352Z"
   },
   {
    "duration": 4,
    "start_time": "2021-11-17T20:59:49.646Z"
   },
   {
    "duration": 159,
    "start_time": "2021-11-17T21:02:26.949Z"
   },
   {
    "duration": 3,
    "start_time": "2021-11-17T21:03:53.461Z"
   },
   {
    "duration": 3,
    "start_time": "2021-11-17T21:03:53.694Z"
   },
   {
    "duration": 3,
    "start_time": "2021-11-17T21:05:28.145Z"
   },
   {
    "duration": 116,
    "start_time": "2021-11-17T21:05:57.787Z"
   },
   {
    "duration": 3,
    "start_time": "2021-11-17T21:06:37.993Z"
   },
   {
    "duration": 3,
    "start_time": "2021-11-17T21:06:38.261Z"
   },
   {
    "duration": 3,
    "start_time": "2021-11-17T21:11:54.358Z"
   },
   {
    "duration": 3,
    "start_time": "2021-11-17T21:12:43.846Z"
   },
   {
    "duration": 4,
    "start_time": "2021-11-17T21:13:08.773Z"
   },
   {
    "duration": 3,
    "start_time": "2021-11-17T21:14:44.441Z"
   },
   {
    "duration": 3,
    "start_time": "2021-11-17T21:15:42.059Z"
   },
   {
    "duration": 4,
    "start_time": "2021-11-17T21:15:51.995Z"
   },
   {
    "duration": 3,
    "start_time": "2021-11-17T21:15:53.923Z"
   },
   {
    "duration": 3,
    "start_time": "2021-11-17T21:15:55.282Z"
   },
   {
    "duration": 3,
    "start_time": "2021-11-17T21:16:28.492Z"
   },
   {
    "duration": 3,
    "start_time": "2021-11-17T21:16:32.603Z"
   },
   {
    "duration": 3,
    "start_time": "2021-11-17T21:17:06.941Z"
   },
   {
    "duration": 98,
    "start_time": "2021-11-17T21:18:05.733Z"
   },
   {
    "duration": 4,
    "start_time": "2021-11-17T21:21:35.255Z"
   },
   {
    "duration": 3,
    "start_time": "2021-11-17T21:21:37.804Z"
   },
   {
    "duration": 4,
    "start_time": "2021-11-17T21:23:06.071Z"
   },
   {
    "duration": 3,
    "start_time": "2021-11-17T21:23:24.799Z"
   },
   {
    "duration": 3,
    "start_time": "2021-11-17T21:23:32.591Z"
   },
   {
    "duration": 98,
    "start_time": "2021-11-17T21:28:31.559Z"
   },
   {
    "duration": 3,
    "start_time": "2021-11-17T21:28:45.448Z"
   },
   {
    "duration": 3,
    "start_time": "2021-11-17T21:29:17.303Z"
   },
   {
    "duration": 3,
    "start_time": "2021-11-17T21:29:29.617Z"
   },
   {
    "duration": 3,
    "start_time": "2021-11-17T21:29:32.681Z"
   },
   {
    "duration": 3,
    "start_time": "2021-11-17T21:36:11.474Z"
   },
   {
    "duration": 3,
    "start_time": "2021-11-17T21:36:14.791Z"
   },
   {
    "duration": 3,
    "start_time": "2021-11-17T21:36:53.943Z"
   },
   {
    "duration": 3,
    "start_time": "2021-11-17T21:36:56.165Z"
   },
   {
    "duration": 4,
    "start_time": "2021-11-17T21:37:16.590Z"
   },
   {
    "duration": 3,
    "start_time": "2021-11-17T21:37:22.702Z"
   },
   {
    "duration": 4,
    "start_time": "2021-11-17T21:38:03.479Z"
   },
   {
    "duration": 3,
    "start_time": "2021-11-17T21:38:08.601Z"
   },
   {
    "duration": 3,
    "start_time": "2021-11-17T21:38:12.928Z"
   },
   {
    "duration": 3,
    "start_time": "2021-11-17T21:38:48.896Z"
   },
   {
    "duration": 2,
    "start_time": "2021-11-17T21:38:49.171Z"
   },
   {
    "duration": 4,
    "start_time": "2021-11-17T21:39:57.889Z"
   },
   {
    "duration": 3,
    "start_time": "2021-11-17T21:39:58.057Z"
   },
   {
    "duration": 3,
    "start_time": "2021-11-17T21:41:20.108Z"
   },
   {
    "duration": 3,
    "start_time": "2021-11-17T21:41:20.629Z"
   },
   {
    "duration": 3,
    "start_time": "2021-11-17T21:42:49.136Z"
   },
   {
    "duration": 3,
    "start_time": "2021-11-17T21:43:15.137Z"
   },
   {
    "duration": 4,
    "start_time": "2021-11-17T21:43:16.766Z"
   },
   {
    "duration": 4,
    "start_time": "2021-11-17T21:43:31.711Z"
   },
   {
    "duration": 3,
    "start_time": "2021-11-17T21:43:36.312Z"
   },
   {
    "duration": 4,
    "start_time": "2021-11-17T21:45:08.825Z"
   },
   {
    "duration": 4,
    "start_time": "2021-11-17T21:45:10.119Z"
   },
   {
    "duration": 4,
    "start_time": "2021-11-17T21:45:13.748Z"
   },
   {
    "duration": 3,
    "start_time": "2021-11-17T21:45:22.219Z"
   },
   {
    "duration": 3,
    "start_time": "2021-11-17T21:45:33.412Z"
   },
   {
    "duration": 2,
    "start_time": "2021-11-17T21:46:01.885Z"
   },
   {
    "duration": 3,
    "start_time": "2021-11-17T21:46:03.628Z"
   },
   {
    "duration": 107,
    "start_time": "2021-11-17T21:47:32.512Z"
   },
   {
    "duration": 103,
    "start_time": "2021-11-17T21:50:36.243Z"
   },
   {
    "duration": 3,
    "start_time": "2021-11-18T06:28:31.440Z"
   },
   {
    "duration": 3,
    "start_time": "2021-11-18T06:29:00.168Z"
   },
   {
    "duration": 3,
    "start_time": "2021-11-18T06:31:27.008Z"
   },
   {
    "duration": 2,
    "start_time": "2021-11-18T06:35:34.288Z"
   },
   {
    "duration": 2,
    "start_time": "2021-11-18T06:38:04.527Z"
   }
  ],
  "kernelspec": {
   "display_name": "Python 3 (ipykernel)",
   "language": "python",
   "name": "python3"
  },
  "language_info": {
   "codemirror_mode": {
    "name": "ipython",
    "version": 3
   },
   "file_extension": ".py",
   "mimetype": "text/x-python",
   "name": "python",
   "nbconvert_exporter": "python",
   "pygments_lexer": "ipython3",
   "version": "3.9.19"
  },
  "toc": {
   "base_numbering": 1,
   "nav_menu": {},
   "number_sections": true,
   "sideBar": true,
   "skip_h1_title": false,
   "title_cell": "Table of Contents",
   "title_sidebar": "Contents",
   "toc_cell": false,
   "toc_position": {
    "height": "calc(100% - 180px)",
    "left": "10px",
    "top": "150px",
    "width": "240px"
   },
   "toc_section_display": true,
   "toc_window_display": true
  }
 },
 "nbformat": 4,
 "nbformat_minor": 2
}
