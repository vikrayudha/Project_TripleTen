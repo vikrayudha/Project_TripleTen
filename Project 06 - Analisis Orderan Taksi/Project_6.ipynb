{
 "cells": [
  {
   "cell_type": "markdown",
   "metadata": {},
   "source": [
    "\n",
    "\n",
    "# Analisis Preferensi Pengguna Perusahaan Zuber"
   ]
  },
  {
   "cell_type": "markdown",
   "metadata": {},
   "source": [
    "## Konten<a id='back'></a>\n",
    "\n",
    "* [Pendahuluan](#intro)\n",
    "* [Tahap 1. Inisialisasi data](#inisial)\n",
    "* [Tahap 2. Mempersiapkan data data](#prepare)\n",
    "* [Tahap 3. Analisa Data](#analyze)\n",
    "* [Tahap 4. Hipotesis](#hypothesis)\n",
    "* [Kesimpulan Umum](#conclusion)\n",
    "    * [Temuan](#end)\n",
    "    * [Rekomendasi](#recom)"
   ]
  },
  {
   "cell_type": "markdown",
   "metadata": {},
   "source": [
    "## Pendahuluan<a id='intro'></a>"
   ]
  },
  {
   "cell_type": "markdown",
   "metadata": {},
   "source": [
    "Kamu bekerja sebagai seorang analyst untuk Zuber, sebuah perusahaan berbagi tumpangan (ride-sharing) baru yang diluncurkan di Chicago. Tugasmu adalah untuk menemukan pola pada informasi yang tersedia. Kamu ingin memahami preferensi penumpang dan dampak faktor eksternal terhadap perjalanan.\n",
    "\n",
    "Kamu akan mempelajari database, menganalisis data dari kompetitor, dan menguji hipotesis tentang pengaruh cuaca terhadap frekuensi perjalanan. \n",
    "\n",
    "Deskripsi data\n",
    "Database yang memuat informasi perjalanan taksi di Chicago:\n",
    "\n",
    "Tabel `neighborhoods`: data terkait wilayah di kota Chicago\n",
    "* name: nama wilayah\n",
    "* neighborhood_id: kode wilayah\n",
    "\n",
    "Tabel `cabs`: data terkait taksi\n",
    "* cab_id: kode kendaraan\n",
    "* vehicle_id: ID teknis kendaraan\n",
    "* company_name: nama perusahaan yang memiliki kendaraan\n",
    "\n",
    "Tabel `trips`: data terkait perjalanan\n",
    "* trip_id: kode perjalanan\n",
    "* cab_id: kode kendaraan yang beroperasi\n",
    "* start_ts: tanggal dan waktu perjalanan dimulai (waktu dibulatkan dalam satuan jam)\n",
    "* end_ts: tanggal dan waktu perjalanan berakhir (waktu dibulatkan dalam satuan jam)\n",
    "* duration_seconds: durasi perjalanan dalam satuan detik\n",
    "* distance_miles: jarak perjalanan dalam satuan mil\n",
    "* pickup_location_id: kode wilayah penjemputan\n",
    "* dropoff_location_id: kode wilayah pengantaran\n",
    "\n",
    "Tabel `weather_records`: data terkait cuaca\n",
    "* record_id: kode catatan cuaca\n",
    "* ts: tanggal dan waktu saat pencatatan cuaca dilakukan (waktu dibulatkan dalam satuan jam)\n",
    "* temperature: suhu saat pencatatan cuaca dilakukan\n",
    "description: deskripsi singkat tentang kondisi cuaca, seperti \"light rain\" (hujan ringan) atau \"scattered clouds\" (berawan)\n",
    "\n",
    "Catatan: tidak ada hubungan langsung antara tabel trips dan weather_records di database. Namun, kamu tetap bisa menggunakan JOIN dan menghubungkan kedua tabel menggunakan data waktu perjalanan dimulai (trips.start_ts) dan waktu pencatatan cuaca (weather_records.ts).\n",
    "\n",
    "Selain data di atas, ada lagi data lainnya yaitu:\n",
    "project_sql_result_01.csv. File ini memuat data berikut:\n",
    "- company_name: nama perusahaan taksi\n",
    "- trips_amount: jumlah perjalanan untuk setiap perusahaan taksi pada tanggal 15-16 November 2017\n",
    "\n",
    "project_sql_result_04.csv. File ini memuat data berikut:\n",
    "- dropoff_location_name: nama wilayah di Chicago tempat perjalanan berakhir\n",
    "- average_trips: jumlah rata-rata perjalanan yang berakhir di setiap wilayah pada bulan November 2017\n",
    "\n",
    "project_sql_result_07.csv — hasil dari kueri terakhir. File ini memuat data perjalanan dari Loop ke Bandara Internasional O'Hare dengan kolom-kolom yang ada di tabel ini:\n",
    "- start_ts -- tanggal dan waktu penjemputan\n",
    "- weather_conditions -- kondisi cuaca saat perjalanan dimulai\n",
    "- duration_seconds -- durasi perjalanan dalam satuan detik\n"
   ]
  },
  {
   "cell_type": "markdown",
   "metadata": {},
   "source": [
    "## Inisialisasi<a id='inisial'></a>"
   ]
  },
  {
   "cell_type": "markdown",
   "metadata": {},
   "source": [
    "Memuat semua library yang dibutuhkan:"
   ]
  },
  {
   "cell_type": "code",
   "execution_count": 200,
   "metadata": {},
   "outputs": [],
   "source": [
    "# Memuat semua library\n",
    "import pandas as pd\n",
    "from scipy import stats as st\n",
    "import numpy as np\n",
    "import math as mt\n",
    "from matplotlib import pyplot as plt\n",
    "from math import factorial\n",
    "from scipy.stats import norm\n",
    "import seaborn as sns\n",
    "from dateutil.relativedelta import relativedelta\n",
    "from datetime import datetime\n",
    "from scipy.stats import ttest_ind\n",
    "import scipy.stats as stats\n",
    "from scipy.stats import levene"
   ]
  },
  {
   "cell_type": "markdown",
   "metadata": {},
   "source": [
    "## Mempersiapkan Data<a id='prepare'></a>"
   ]
  },
  {
   "cell_type": "markdown",
   "metadata": {},
   "source": [
    "memasukkan semua data:"
   ]
  },
  {
   "cell_type": "code",
   "execution_count": 201,
   "metadata": {},
   "outputs": [],
   "source": [
    "# Memuat file data ke dalam DataFrame \n",
    "sql1 = pd.read_csv('/datasets/project_sql_result_01.csv') \n",
    "sql4 = pd.read_csv('/datasets/project_sql_result_04.csv') \n",
    "sql7 = pd.read_csv('/datasets/project_sql_result_07.csv')"
   ]
  },
  {
   "cell_type": "markdown",
   "metadata": {},
   "source": []
  },
  {
   "cell_type": "markdown",
   "metadata": {},
   "source": [
    "### Memeriksa file  `/datasets/project_sql_result_01.csv`"
   ]
  },
  {
   "cell_type": "code",
   "execution_count": 202,
   "metadata": {},
   "outputs": [
    {
     "data": {
      "text/html": [
       "<div>\n",
       "<style scoped>\n",
       "    .dataframe tbody tr th:only-of-type {\n",
       "        vertical-align: middle;\n",
       "    }\n",
       "\n",
       "    .dataframe tbody tr th {\n",
       "        vertical-align: top;\n",
       "    }\n",
       "\n",
       "    .dataframe thead th {\n",
       "        text-align: right;\n",
       "    }\n",
       "</style>\n",
       "<table border=\"1\" class=\"dataframe\">\n",
       "  <thead>\n",
       "    <tr style=\"text-align: right;\">\n",
       "      <th></th>\n",
       "      <th>company_name</th>\n",
       "      <th>trips_amount</th>\n",
       "    </tr>\n",
       "  </thead>\n",
       "  <tbody>\n",
       "    <tr>\n",
       "      <th>0</th>\n",
       "      <td>Flash Cab</td>\n",
       "      <td>19558</td>\n",
       "    </tr>\n",
       "    <tr>\n",
       "      <th>1</th>\n",
       "      <td>Taxi Affiliation Services</td>\n",
       "      <td>11422</td>\n",
       "    </tr>\n",
       "    <tr>\n",
       "      <th>2</th>\n",
       "      <td>Medallion Leasing</td>\n",
       "      <td>10367</td>\n",
       "    </tr>\n",
       "    <tr>\n",
       "      <th>3</th>\n",
       "      <td>Yellow Cab</td>\n",
       "      <td>9888</td>\n",
       "    </tr>\n",
       "    <tr>\n",
       "      <th>4</th>\n",
       "      <td>Taxi Affiliation Service Yellow</td>\n",
       "      <td>9299</td>\n",
       "    </tr>\n",
       "    <tr>\n",
       "      <th>5</th>\n",
       "      <td>Chicago Carriage Cab Corp</td>\n",
       "      <td>9181</td>\n",
       "    </tr>\n",
       "    <tr>\n",
       "      <th>6</th>\n",
       "      <td>City Service</td>\n",
       "      <td>8448</td>\n",
       "    </tr>\n",
       "    <tr>\n",
       "      <th>7</th>\n",
       "      <td>Sun Taxi</td>\n",
       "      <td>7701</td>\n",
       "    </tr>\n",
       "    <tr>\n",
       "      <th>8</th>\n",
       "      <td>Star North Management LLC</td>\n",
       "      <td>7455</td>\n",
       "    </tr>\n",
       "    <tr>\n",
       "      <th>9</th>\n",
       "      <td>Blue Ribbon Taxi Association Inc.</td>\n",
       "      <td>5953</td>\n",
       "    </tr>\n",
       "  </tbody>\n",
       "</table>\n",
       "</div>"
      ],
      "text/plain": [
       "                        company_name  trips_amount\n",
       "0                          Flash Cab         19558\n",
       "1          Taxi Affiliation Services         11422\n",
       "2                  Medallion Leasing         10367\n",
       "3                         Yellow Cab          9888\n",
       "4    Taxi Affiliation Service Yellow          9299\n",
       "5          Chicago Carriage Cab Corp          9181\n",
       "6                       City Service          8448\n",
       "7                           Sun Taxi          7701\n",
       "8          Star North Management LLC          7455\n",
       "9  Blue Ribbon Taxi Association Inc.          5953"
      ]
     },
     "execution_count": 202,
     "metadata": {},
     "output_type": "execute_result"
    }
   ],
   "source": [
    "#memuat data\n",
    "sql1.head(10)"
   ]
  },
  {
   "cell_type": "code",
   "execution_count": 203,
   "metadata": {},
   "outputs": [
    {
     "name": "stdout",
     "output_type": "stream",
     "text": [
      "<class 'pandas.core.frame.DataFrame'>\n",
      "RangeIndex: 64 entries, 0 to 63\n",
      "Data columns (total 2 columns):\n",
      " #   Column        Non-Null Count  Dtype \n",
      "---  ------        --------------  ----- \n",
      " 0   company_name  64 non-null     object\n",
      " 1   trips_amount  64 non-null     int64 \n",
      "dtypes: int64(1), object(1)\n",
      "memory usage: 1.1+ KB\n"
     ]
    }
   ],
   "source": [
    "#memuat informasi umum\n",
    "sql1.info()"
   ]
  },
  {
   "cell_type": "markdown",
   "metadata": {},
   "source": [
    "terlihat bahwa data hanya berisi 2 kolom `company_name` dan `trips_amount` sebanyak 64 data, dan tidak memiliki data yang hilang. serta tipe data yang sudah sesuai."
   ]
  },
  {
   "cell_type": "code",
   "execution_count": 204,
   "metadata": {},
   "outputs": [
    {
     "data": {
      "text/plain": [
       "0"
      ]
     },
     "execution_count": 204,
     "metadata": {},
     "output_type": "execute_result"
    }
   ],
   "source": [
    "#memeriksa duplicate\n",
    "sql1.duplicated().sum()"
   ]
  },
  {
   "cell_type": "markdown",
   "metadata": {},
   "source": [
    "terlihat bahwa data tersebut tidak memiliki duplikasi sehingga tidak diperlukan penanganan lebih lanjut"
   ]
  },
  {
   "cell_type": "code",
   "execution_count": 205,
   "metadata": {},
   "outputs": [
    {
     "data": {
      "text/html": [
       "<div>\n",
       "<style scoped>\n",
       "    .dataframe tbody tr th:only-of-type {\n",
       "        vertical-align: middle;\n",
       "    }\n",
       "\n",
       "    .dataframe tbody tr th {\n",
       "        vertical-align: top;\n",
       "    }\n",
       "\n",
       "    .dataframe thead th {\n",
       "        text-align: right;\n",
       "    }\n",
       "</style>\n",
       "<table border=\"1\" class=\"dataframe\">\n",
       "  <thead>\n",
       "    <tr style=\"text-align: right;\">\n",
       "      <th></th>\n",
       "      <th>trips_amount</th>\n",
       "    </tr>\n",
       "  </thead>\n",
       "  <tbody>\n",
       "    <tr>\n",
       "      <th>count</th>\n",
       "      <td>64.000000</td>\n",
       "    </tr>\n",
       "    <tr>\n",
       "      <th>mean</th>\n",
       "      <td>2145.484375</td>\n",
       "    </tr>\n",
       "    <tr>\n",
       "      <th>std</th>\n",
       "      <td>3812.310186</td>\n",
       "    </tr>\n",
       "    <tr>\n",
       "      <th>min</th>\n",
       "      <td>2.000000</td>\n",
       "    </tr>\n",
       "    <tr>\n",
       "      <th>25%</th>\n",
       "      <td>20.750000</td>\n",
       "    </tr>\n",
       "    <tr>\n",
       "      <th>50%</th>\n",
       "      <td>178.500000</td>\n",
       "    </tr>\n",
       "    <tr>\n",
       "      <th>75%</th>\n",
       "      <td>2106.500000</td>\n",
       "    </tr>\n",
       "    <tr>\n",
       "      <th>max</th>\n",
       "      <td>19558.000000</td>\n",
       "    </tr>\n",
       "  </tbody>\n",
       "</table>\n",
       "</div>"
      ],
      "text/plain": [
       "       trips_amount\n",
       "count     64.000000\n",
       "mean    2145.484375\n",
       "std     3812.310186\n",
       "min        2.000000\n",
       "25%       20.750000\n",
       "50%      178.500000\n",
       "75%     2106.500000\n",
       "max    19558.000000"
      ]
     },
     "execution_count": 205,
     "metadata": {},
     "output_type": "execute_result"
    }
   ],
   "source": [
    "#memuat informasi umum tambahan\n",
    "sql1.describe()"
   ]
  },
  {
   "cell_type": "markdown",
   "metadata": {},
   "source": [
    "### Memeriksa file `/datasets/project_sql_result_04.csv`"
   ]
  },
  {
   "cell_type": "code",
   "execution_count": 206,
   "metadata": {},
   "outputs": [
    {
     "data": {
      "text/html": [
       "<div>\n",
       "<style scoped>\n",
       "    .dataframe tbody tr th:only-of-type {\n",
       "        vertical-align: middle;\n",
       "    }\n",
       "\n",
       "    .dataframe tbody tr th {\n",
       "        vertical-align: top;\n",
       "    }\n",
       "\n",
       "    .dataframe thead th {\n",
       "        text-align: right;\n",
       "    }\n",
       "</style>\n",
       "<table border=\"1\" class=\"dataframe\">\n",
       "  <thead>\n",
       "    <tr style=\"text-align: right;\">\n",
       "      <th></th>\n",
       "      <th>dropoff_location_name</th>\n",
       "      <th>average_trips</th>\n",
       "    </tr>\n",
       "  </thead>\n",
       "  <tbody>\n",
       "    <tr>\n",
       "      <th>0</th>\n",
       "      <td>Loop</td>\n",
       "      <td>10727.466667</td>\n",
       "    </tr>\n",
       "    <tr>\n",
       "      <th>1</th>\n",
       "      <td>River North</td>\n",
       "      <td>9523.666667</td>\n",
       "    </tr>\n",
       "    <tr>\n",
       "      <th>2</th>\n",
       "      <td>Streeterville</td>\n",
       "      <td>6664.666667</td>\n",
       "    </tr>\n",
       "    <tr>\n",
       "      <th>3</th>\n",
       "      <td>West Loop</td>\n",
       "      <td>5163.666667</td>\n",
       "    </tr>\n",
       "    <tr>\n",
       "      <th>4</th>\n",
       "      <td>O'Hare</td>\n",
       "      <td>2546.900000</td>\n",
       "    </tr>\n",
       "    <tr>\n",
       "      <th>5</th>\n",
       "      <td>Lake View</td>\n",
       "      <td>2420.966667</td>\n",
       "    </tr>\n",
       "    <tr>\n",
       "      <th>6</th>\n",
       "      <td>Grant Park</td>\n",
       "      <td>2068.533333</td>\n",
       "    </tr>\n",
       "    <tr>\n",
       "      <th>7</th>\n",
       "      <td>Museum Campus</td>\n",
       "      <td>1510.000000</td>\n",
       "    </tr>\n",
       "    <tr>\n",
       "      <th>8</th>\n",
       "      <td>Gold Coast</td>\n",
       "      <td>1364.233333</td>\n",
       "    </tr>\n",
       "    <tr>\n",
       "      <th>9</th>\n",
       "      <td>Sheffield &amp; DePaul</td>\n",
       "      <td>1259.766667</td>\n",
       "    </tr>\n",
       "  </tbody>\n",
       "</table>\n",
       "</div>"
      ],
      "text/plain": [
       "  dropoff_location_name  average_trips\n",
       "0                  Loop   10727.466667\n",
       "1           River North    9523.666667\n",
       "2         Streeterville    6664.666667\n",
       "3             West Loop    5163.666667\n",
       "4                O'Hare    2546.900000\n",
       "5             Lake View    2420.966667\n",
       "6            Grant Park    2068.533333\n",
       "7         Museum Campus    1510.000000\n",
       "8            Gold Coast    1364.233333\n",
       "9    Sheffield & DePaul    1259.766667"
      ]
     },
     "execution_count": 206,
     "metadata": {},
     "output_type": "execute_result"
    }
   ],
   "source": [
    "#memuat data\n",
    "sql4.head(10)"
   ]
  },
  {
   "cell_type": "code",
   "execution_count": 207,
   "metadata": {},
   "outputs": [
    {
     "name": "stdout",
     "output_type": "stream",
     "text": [
      "<class 'pandas.core.frame.DataFrame'>\n",
      "RangeIndex: 94 entries, 0 to 93\n",
      "Data columns (total 2 columns):\n",
      " #   Column                 Non-Null Count  Dtype  \n",
      "---  ------                 --------------  -----  \n",
      " 0   dropoff_location_name  94 non-null     object \n",
      " 1   average_trips          94 non-null     float64\n",
      "dtypes: float64(1), object(1)\n",
      "memory usage: 1.6+ KB\n"
     ]
    }
   ],
   "source": [
    "#memuat informasi umum\n",
    "sql4.info()"
   ]
  },
  {
   "cell_type": "markdown",
   "metadata": {},
   "source": [
    "terlihat bahwa data hanya berisi 2 kolom `dropoff_location_name` dan `average_trips` sebanyak 94 data, dan tidak memiliki data yang hilang. serta tipe data yang sudah sesuai."
   ]
  },
  {
   "cell_type": "code",
   "execution_count": 208,
   "metadata": {},
   "outputs": [
    {
     "data": {
      "text/plain": [
       "0"
      ]
     },
     "execution_count": 208,
     "metadata": {},
     "output_type": "execute_result"
    }
   ],
   "source": [
    "#memeriksa duplicate\n",
    "sql4.duplicated().sum()"
   ]
  },
  {
   "cell_type": "markdown",
   "metadata": {},
   "source": [
    "terlihat bahwa data tersebut tidak memiliki duplikasi sehingga tidak diperlukan penanganan lebih lanjut"
   ]
  },
  {
   "cell_type": "code",
   "execution_count": 209,
   "metadata": {},
   "outputs": [
    {
     "data": {
      "text/html": [
       "<div>\n",
       "<style scoped>\n",
       "    .dataframe tbody tr th:only-of-type {\n",
       "        vertical-align: middle;\n",
       "    }\n",
       "\n",
       "    .dataframe tbody tr th {\n",
       "        vertical-align: top;\n",
       "    }\n",
       "\n",
       "    .dataframe thead th {\n",
       "        text-align: right;\n",
       "    }\n",
       "</style>\n",
       "<table border=\"1\" class=\"dataframe\">\n",
       "  <thead>\n",
       "    <tr style=\"text-align: right;\">\n",
       "      <th></th>\n",
       "      <th>average_trips</th>\n",
       "    </tr>\n",
       "  </thead>\n",
       "  <tbody>\n",
       "    <tr>\n",
       "      <th>count</th>\n",
       "      <td>94.000000</td>\n",
       "    </tr>\n",
       "    <tr>\n",
       "      <th>mean</th>\n",
       "      <td>599.953728</td>\n",
       "    </tr>\n",
       "    <tr>\n",
       "      <th>std</th>\n",
       "      <td>1714.591098</td>\n",
       "    </tr>\n",
       "    <tr>\n",
       "      <th>min</th>\n",
       "      <td>1.800000</td>\n",
       "    </tr>\n",
       "    <tr>\n",
       "      <th>25%</th>\n",
       "      <td>14.266667</td>\n",
       "    </tr>\n",
       "    <tr>\n",
       "      <th>50%</th>\n",
       "      <td>52.016667</td>\n",
       "    </tr>\n",
       "    <tr>\n",
       "      <th>75%</th>\n",
       "      <td>298.858333</td>\n",
       "    </tr>\n",
       "    <tr>\n",
       "      <th>max</th>\n",
       "      <td>10727.466667</td>\n",
       "    </tr>\n",
       "  </tbody>\n",
       "</table>\n",
       "</div>"
      ],
      "text/plain": [
       "       average_trips\n",
       "count      94.000000\n",
       "mean      599.953728\n",
       "std      1714.591098\n",
       "min         1.800000\n",
       "25%        14.266667\n",
       "50%        52.016667\n",
       "75%       298.858333\n",
       "max     10727.466667"
      ]
     },
     "execution_count": 209,
     "metadata": {},
     "output_type": "execute_result"
    }
   ],
   "source": [
    "#memuat informasi umum tambahan\n",
    "sql4.describe()"
   ]
  },
  {
   "cell_type": "markdown",
   "metadata": {},
   "source": [
    "### Memeriksa file `/datasets/project_sql_result_07.csv`"
   ]
  },
  {
   "cell_type": "code",
   "execution_count": 210,
   "metadata": {},
   "outputs": [
    {
     "data": {
      "text/html": [
       "<div>\n",
       "<style scoped>\n",
       "    .dataframe tbody tr th:only-of-type {\n",
       "        vertical-align: middle;\n",
       "    }\n",
       "\n",
       "    .dataframe tbody tr th {\n",
       "        vertical-align: top;\n",
       "    }\n",
       "\n",
       "    .dataframe thead th {\n",
       "        text-align: right;\n",
       "    }\n",
       "</style>\n",
       "<table border=\"1\" class=\"dataframe\">\n",
       "  <thead>\n",
       "    <tr style=\"text-align: right;\">\n",
       "      <th></th>\n",
       "      <th>start_ts</th>\n",
       "      <th>weather_conditions</th>\n",
       "      <th>duration_seconds</th>\n",
       "    </tr>\n",
       "  </thead>\n",
       "  <tbody>\n",
       "    <tr>\n",
       "      <th>0</th>\n",
       "      <td>2017-11-25 16:00:00</td>\n",
       "      <td>Good</td>\n",
       "      <td>2410.0</td>\n",
       "    </tr>\n",
       "    <tr>\n",
       "      <th>1</th>\n",
       "      <td>2017-11-25 14:00:00</td>\n",
       "      <td>Good</td>\n",
       "      <td>1920.0</td>\n",
       "    </tr>\n",
       "    <tr>\n",
       "      <th>2</th>\n",
       "      <td>2017-11-25 12:00:00</td>\n",
       "      <td>Good</td>\n",
       "      <td>1543.0</td>\n",
       "    </tr>\n",
       "    <tr>\n",
       "      <th>3</th>\n",
       "      <td>2017-11-04 10:00:00</td>\n",
       "      <td>Good</td>\n",
       "      <td>2512.0</td>\n",
       "    </tr>\n",
       "    <tr>\n",
       "      <th>4</th>\n",
       "      <td>2017-11-11 07:00:00</td>\n",
       "      <td>Good</td>\n",
       "      <td>1440.0</td>\n",
       "    </tr>\n",
       "    <tr>\n",
       "      <th>5</th>\n",
       "      <td>2017-11-11 04:00:00</td>\n",
       "      <td>Good</td>\n",
       "      <td>1320.0</td>\n",
       "    </tr>\n",
       "    <tr>\n",
       "      <th>6</th>\n",
       "      <td>2017-11-04 16:00:00</td>\n",
       "      <td>Bad</td>\n",
       "      <td>2969.0</td>\n",
       "    </tr>\n",
       "    <tr>\n",
       "      <th>7</th>\n",
       "      <td>2017-11-18 11:00:00</td>\n",
       "      <td>Good</td>\n",
       "      <td>2280.0</td>\n",
       "    </tr>\n",
       "    <tr>\n",
       "      <th>8</th>\n",
       "      <td>2017-11-11 14:00:00</td>\n",
       "      <td>Good</td>\n",
       "      <td>2460.0</td>\n",
       "    </tr>\n",
       "    <tr>\n",
       "      <th>9</th>\n",
       "      <td>2017-11-11 12:00:00</td>\n",
       "      <td>Good</td>\n",
       "      <td>2040.0</td>\n",
       "    </tr>\n",
       "  </tbody>\n",
       "</table>\n",
       "</div>"
      ],
      "text/plain": [
       "              start_ts weather_conditions  duration_seconds\n",
       "0  2017-11-25 16:00:00               Good            2410.0\n",
       "1  2017-11-25 14:00:00               Good            1920.0\n",
       "2  2017-11-25 12:00:00               Good            1543.0\n",
       "3  2017-11-04 10:00:00               Good            2512.0\n",
       "4  2017-11-11 07:00:00               Good            1440.0\n",
       "5  2017-11-11 04:00:00               Good            1320.0\n",
       "6  2017-11-04 16:00:00                Bad            2969.0\n",
       "7  2017-11-18 11:00:00               Good            2280.0\n",
       "8  2017-11-11 14:00:00               Good            2460.0\n",
       "9  2017-11-11 12:00:00               Good            2040.0"
      ]
     },
     "execution_count": 210,
     "metadata": {},
     "output_type": "execute_result"
    }
   ],
   "source": [
    "#memuat data\n",
    "sql7.head(10)"
   ]
  },
  {
   "cell_type": "code",
   "execution_count": 211,
   "metadata": {},
   "outputs": [
    {
     "name": "stdout",
     "output_type": "stream",
     "text": [
      "<class 'pandas.core.frame.DataFrame'>\n",
      "RangeIndex: 1068 entries, 0 to 1067\n",
      "Data columns (total 3 columns):\n",
      " #   Column              Non-Null Count  Dtype  \n",
      "---  ------              --------------  -----  \n",
      " 0   start_ts            1068 non-null   object \n",
      " 1   weather_conditions  1068 non-null   object \n",
      " 2   duration_seconds    1068 non-null   float64\n",
      "dtypes: float64(1), object(2)\n",
      "memory usage: 25.2+ KB\n"
     ]
    }
   ],
   "source": [
    "#memuat informasi umum\n",
    "sql7.info()"
   ]
  },
  {
   "cell_type": "markdown",
   "metadata": {},
   "source": [
    "terlihat bahwa data hanya berisi 3 kolom `start_ts`, `weather_conditions` dan `duration_seconds` sebanyak 1068 data, dan tidak memiliki data yang hilang. akan tetapi kolom `starts_ts` memiliki tipe data yang salah sehingga harus diubah menjadi datetime."
   ]
  },
  {
   "cell_type": "code",
   "execution_count": 212,
   "metadata": {},
   "outputs": [],
   "source": [
    "#Merubah data start_ts menjadi datetime\n",
    "sql7['start_ts'] = pd.to_datetime(sql7['start_ts'], format='%Y-%m-%d %H:%M:%S')"
   ]
  },
  {
   "cell_type": "code",
   "execution_count": 213,
   "metadata": {},
   "outputs": [
    {
     "name": "stdout",
     "output_type": "stream",
     "text": [
      "<class 'pandas.core.frame.DataFrame'>\n",
      "RangeIndex: 1068 entries, 0 to 1067\n",
      "Data columns (total 3 columns):\n",
      " #   Column              Non-Null Count  Dtype         \n",
      "---  ------              --------------  -----         \n",
      " 0   start_ts            1068 non-null   datetime64[ns]\n",
      " 1   weather_conditions  1068 non-null   object        \n",
      " 2   duration_seconds    1068 non-null   float64       \n",
      "dtypes: datetime64[ns](1), float64(1), object(1)\n",
      "memory usage: 25.2+ KB\n"
     ]
    }
   ],
   "source": [
    "#memuat informasi umum\n",
    "sql7.info()"
   ]
  },
  {
   "cell_type": "markdown",
   "metadata": {},
   "source": [
    "sekarang kolom `start_ts` sudah memiliki tipe data datetime"
   ]
  },
  {
   "cell_type": "code",
   "execution_count": 214,
   "metadata": {},
   "outputs": [
    {
     "data": {
      "text/plain": [
       "197"
      ]
     },
     "execution_count": 214,
     "metadata": {},
     "output_type": "execute_result"
    }
   ],
   "source": [
    "#memeriksa duplicate\n",
    "sql7.duplicated().sum()"
   ]
  },
  {
   "cell_type": "markdown",
   "metadata": {},
   "source": [
    "terlihat banyak sekali data yang terduplikat mari kita periksa apa kemungkinan penyebab ini terjadi sebelum melanjutkan ke tahap selanjutnya"
   ]
  },
  {
   "cell_type": "code",
   "execution_count": 215,
   "metadata": {},
   "outputs": [
    {
     "data": {
      "text/plain": [
       "array(['Good', 'Bad'], dtype=object)"
      ]
     },
     "execution_count": 215,
     "metadata": {},
     "output_type": "execute_result"
    }
   ],
   "source": [
    "#memeriksa kolom kualitatif\n",
    "sql7['weather_conditions'].unique()"
   ]
  },
  {
   "cell_type": "markdown",
   "metadata": {},
   "source": [
    "sepertinya banyaknya duplikasi disebabkan oleh nilai kualitatif pada kolom `weather_conditions` yang hanya memiliki 2 variabel. diputuskan untuk memangkas kolom yang terduplicate"
   ]
  },
  {
   "cell_type": "code",
   "execution_count": 216,
   "metadata": {},
   "outputs": [],
   "source": [
    "#menghapus duplikat\n",
    "sql7.drop_duplicates(inplace=True)"
   ]
  },
  {
   "cell_type": "code",
   "execution_count": 217,
   "metadata": {},
   "outputs": [
    {
     "data": {
      "text/plain": [
       "0"
      ]
     },
     "execution_count": 217,
     "metadata": {},
     "output_type": "execute_result"
    }
   ],
   "source": [
    "#memeriksa duplicate\n",
    "sql7.duplicated().sum()"
   ]
  },
  {
   "cell_type": "code",
   "execution_count": 218,
   "metadata": {},
   "outputs": [
    {
     "name": "stdout",
     "output_type": "stream",
     "text": [
      "<class 'pandas.core.frame.DataFrame'>\n",
      "Int64Index: 871 entries, 0 to 1067\n",
      "Data columns (total 3 columns):\n",
      " #   Column              Non-Null Count  Dtype         \n",
      "---  ------              --------------  -----         \n",
      " 0   start_ts            871 non-null    datetime64[ns]\n",
      " 1   weather_conditions  871 non-null    object        \n",
      " 2   duration_seconds    871 non-null    float64       \n",
      "dtypes: datetime64[ns](1), float64(1), object(1)\n",
      "memory usage: 27.2+ KB\n"
     ]
    }
   ],
   "source": [
    "#memuat informasi umum\n",
    "sql7.info()"
   ]
  },
  {
   "cell_type": "markdown",
   "metadata": {},
   "source": [
    "sekarang dataframe `sql7` hanya memiliki 871 data"
   ]
  },
  {
   "cell_type": "code",
   "execution_count": 219,
   "metadata": {},
   "outputs": [
    {
     "data": {
      "text/html": [
       "<div>\n",
       "<style scoped>\n",
       "    .dataframe tbody tr th:only-of-type {\n",
       "        vertical-align: middle;\n",
       "    }\n",
       "\n",
       "    .dataframe tbody tr th {\n",
       "        vertical-align: top;\n",
       "    }\n",
       "\n",
       "    .dataframe thead th {\n",
       "        text-align: right;\n",
       "    }\n",
       "</style>\n",
       "<table border=\"1\" class=\"dataframe\">\n",
       "  <thead>\n",
       "    <tr style=\"text-align: right;\">\n",
       "      <th></th>\n",
       "      <th>duration_seconds</th>\n",
       "    </tr>\n",
       "  </thead>\n",
       "  <tbody>\n",
       "    <tr>\n",
       "      <th>count</th>\n",
       "      <td>871.000000</td>\n",
       "    </tr>\n",
       "    <tr>\n",
       "      <th>mean</th>\n",
       "      <td>2096.308840</td>\n",
       "    </tr>\n",
       "    <tr>\n",
       "      <th>std</th>\n",
       "      <td>782.274717</td>\n",
       "    </tr>\n",
       "    <tr>\n",
       "      <th>min</th>\n",
       "      <td>0.000000</td>\n",
       "    </tr>\n",
       "    <tr>\n",
       "      <th>25%</th>\n",
       "      <td>1440.000000</td>\n",
       "    </tr>\n",
       "    <tr>\n",
       "      <th>50%</th>\n",
       "      <td>2015.000000</td>\n",
       "    </tr>\n",
       "    <tr>\n",
       "      <th>75%</th>\n",
       "      <td>2584.000000</td>\n",
       "    </tr>\n",
       "    <tr>\n",
       "      <th>max</th>\n",
       "      <td>7440.000000</td>\n",
       "    </tr>\n",
       "  </tbody>\n",
       "</table>\n",
       "</div>"
      ],
      "text/plain": [
       "       duration_seconds\n",
       "count        871.000000\n",
       "mean        2096.308840\n",
       "std          782.274717\n",
       "min            0.000000\n",
       "25%         1440.000000\n",
       "50%         2015.000000\n",
       "75%         2584.000000\n",
       "max         7440.000000"
      ]
     },
     "execution_count": 219,
     "metadata": {},
     "output_type": "execute_result"
    }
   ],
   "source": [
    "#memuat informasi umum tambahan\n",
    "sql7.describe()"
   ]
  },
  {
   "cell_type": "markdown",
   "metadata": {},
   "source": [
    "**Kesimpulan:** hampir semua data sudah memiliki informasi yang jelas, hanya saja pada dataframe `sql7` ada kolom yang memiliki tipe data yang salah dan memiliki duplikasi data sehingga diputuskan untuk menghapusnya"
   ]
  },
  {
   "cell_type": "markdown",
   "metadata": {},
   "source": [
    "## Analisa Data<a id='analyze'></a>"
   ]
  },
  {
   "cell_type": "markdown",
   "metadata": {},
   "source": [
    "### mengidentifikasi 10 wilayah teratas yang dijadikan sebagai titik pengantaran"
   ]
  },
  {
   "cell_type": "code",
   "execution_count": 220,
   "metadata": {},
   "outputs": [
    {
     "data": {
      "text/html": [
       "<div>\n",
       "<style scoped>\n",
       "    .dataframe tbody tr th:only-of-type {\n",
       "        vertical-align: middle;\n",
       "    }\n",
       "\n",
       "    .dataframe tbody tr th {\n",
       "        vertical-align: top;\n",
       "    }\n",
       "\n",
       "    .dataframe thead th {\n",
       "        text-align: right;\n",
       "    }\n",
       "</style>\n",
       "<table border=\"1\" class=\"dataframe\">\n",
       "  <thead>\n",
       "    <tr style=\"text-align: right;\">\n",
       "      <th></th>\n",
       "      <th>index</th>\n",
       "      <th>dropoff_location_name</th>\n",
       "      <th>average_trips</th>\n",
       "    </tr>\n",
       "  </thead>\n",
       "  <tbody>\n",
       "    <tr>\n",
       "      <th>0</th>\n",
       "      <td>0</td>\n",
       "      <td>Loop</td>\n",
       "      <td>10727.466667</td>\n",
       "    </tr>\n",
       "    <tr>\n",
       "      <th>1</th>\n",
       "      <td>1</td>\n",
       "      <td>River North</td>\n",
       "      <td>9523.666667</td>\n",
       "    </tr>\n",
       "    <tr>\n",
       "      <th>2</th>\n",
       "      <td>2</td>\n",
       "      <td>Streeterville</td>\n",
       "      <td>6664.666667</td>\n",
       "    </tr>\n",
       "    <tr>\n",
       "      <th>3</th>\n",
       "      <td>3</td>\n",
       "      <td>West Loop</td>\n",
       "      <td>5163.666667</td>\n",
       "    </tr>\n",
       "    <tr>\n",
       "      <th>4</th>\n",
       "      <td>4</td>\n",
       "      <td>O'Hare</td>\n",
       "      <td>2546.900000</td>\n",
       "    </tr>\n",
       "    <tr>\n",
       "      <th>5</th>\n",
       "      <td>5</td>\n",
       "      <td>Lake View</td>\n",
       "      <td>2420.966667</td>\n",
       "    </tr>\n",
       "    <tr>\n",
       "      <th>6</th>\n",
       "      <td>6</td>\n",
       "      <td>Grant Park</td>\n",
       "      <td>2068.533333</td>\n",
       "    </tr>\n",
       "    <tr>\n",
       "      <th>7</th>\n",
       "      <td>7</td>\n",
       "      <td>Museum Campus</td>\n",
       "      <td>1510.000000</td>\n",
       "    </tr>\n",
       "    <tr>\n",
       "      <th>8</th>\n",
       "      <td>8</td>\n",
       "      <td>Gold Coast</td>\n",
       "      <td>1364.233333</td>\n",
       "    </tr>\n",
       "    <tr>\n",
       "      <th>9</th>\n",
       "      <td>9</td>\n",
       "      <td>Sheffield &amp; DePaul</td>\n",
       "      <td>1259.766667</td>\n",
       "    </tr>\n",
       "  </tbody>\n",
       "</table>\n",
       "</div>"
      ],
      "text/plain": [
       "   index dropoff_location_name  average_trips\n",
       "0      0                  Loop   10727.466667\n",
       "1      1           River North    9523.666667\n",
       "2      2         Streeterville    6664.666667\n",
       "3      3             West Loop    5163.666667\n",
       "4      4                O'Hare    2546.900000\n",
       "5      5             Lake View    2420.966667\n",
       "6      6            Grant Park    2068.533333\n",
       "7      7         Museum Campus    1510.000000\n",
       "8      8            Gold Coast    1364.233333\n",
       "9      9    Sheffield & DePaul    1259.766667"
      ]
     },
     "execution_count": 220,
     "metadata": {},
     "output_type": "execute_result"
    }
   ],
   "source": [
    "# mengidentifikasi 10 wilayah teratas yang dijadikan sebagai titik pengantaran\n",
    "dropoff = sql4.sort_values(by='average_trips', ascending=False).reset_index()\n",
    "\n",
    "#memotong tabel hanya 10 besar\n",
    "topten_dropoff = dropoff.query('index < 10')   \n",
    "topten_dropoff"
   ]
  },
  {
   "cell_type": "markdown",
   "metadata": {},
   "source": [
    "10 wilayah teratas yang dijadikan sebagai titik pengantaran adalah `Loop`, `River North`, `Streeterville`, `West Loop`, `O'Hare`, `Lake View`, `Grant Park`, `Museum Campus`, `Gold Coast` dan `Sheffiled & DePaul`. "
   ]
  },
  {
   "cell_type": "code",
   "execution_count": 221,
   "metadata": {},
   "outputs": [
    {
     "data": {
      "image/png": "[encoded data removed]",
      "text/plain": [
       "<Figure size 640x480 with 1 Axes>"
      ]
     },
     "metadata": {},
     "output_type": "display_data"
    }
   ],
   "source": [
    "sns.barplot(data=topten_dropoff, x=\"dropoff_location_name\", y=\"average_trips\")\n",
    "plt.title('10 Wilayah Teratas sebagai Titik Pengantaran')\n",
    "plt.xticks(rotation=45, ha='right', fontsize=12)\n",
    "plt.show()"
   ]
  },
  {
   "cell_type": "markdown",
   "metadata": {},
   "source": [
    "### 10 teratas Perusahaan taksi dan jumlah perjalanannya"
   ]
  },
  {
   "cell_type": "code",
   "execution_count": 222,
   "metadata": {},
   "outputs": [
    {
     "data": {
      "text/html": [
       "<div>\n",
       "<style scoped>\n",
       "    .dataframe tbody tr th:only-of-type {\n",
       "        vertical-align: middle;\n",
       "    }\n",
       "\n",
       "    .dataframe tbody tr th {\n",
       "        vertical-align: top;\n",
       "    }\n",
       "\n",
       "    .dataframe thead th {\n",
       "        text-align: right;\n",
       "    }\n",
       "</style>\n",
       "<table border=\"1\" class=\"dataframe\">\n",
       "  <thead>\n",
       "    <tr style=\"text-align: right;\">\n",
       "      <th></th>\n",
       "      <th>company_name</th>\n",
       "      <th>trips_amount</th>\n",
       "    </tr>\n",
       "  </thead>\n",
       "  <tbody>\n",
       "    <tr>\n",
       "      <th>0</th>\n",
       "      <td>Flash Cab</td>\n",
       "      <td>19558</td>\n",
       "    </tr>\n",
       "    <tr>\n",
       "      <th>1</th>\n",
       "      <td>Taxi Affiliation Services</td>\n",
       "      <td>11422</td>\n",
       "    </tr>\n",
       "    <tr>\n",
       "      <th>2</th>\n",
       "      <td>Medallion Leasing</td>\n",
       "      <td>10367</td>\n",
       "    </tr>\n",
       "    <tr>\n",
       "      <th>3</th>\n",
       "      <td>Yellow Cab</td>\n",
       "      <td>9888</td>\n",
       "    </tr>\n",
       "    <tr>\n",
       "      <th>4</th>\n",
       "      <td>Taxi Affiliation Service Yellow</td>\n",
       "      <td>9299</td>\n",
       "    </tr>\n",
       "    <tr>\n",
       "      <th>5</th>\n",
       "      <td>Chicago Carriage Cab Corp</td>\n",
       "      <td>9181</td>\n",
       "    </tr>\n",
       "    <tr>\n",
       "      <th>6</th>\n",
       "      <td>City Service</td>\n",
       "      <td>8448</td>\n",
       "    </tr>\n",
       "    <tr>\n",
       "      <th>7</th>\n",
       "      <td>Sun Taxi</td>\n",
       "      <td>7701</td>\n",
       "    </tr>\n",
       "    <tr>\n",
       "      <th>8</th>\n",
       "      <td>Star North Management LLC</td>\n",
       "      <td>7455</td>\n",
       "    </tr>\n",
       "    <tr>\n",
       "      <th>9</th>\n",
       "      <td>Blue Ribbon Taxi Association Inc.</td>\n",
       "      <td>5953</td>\n",
       "    </tr>\n",
       "  </tbody>\n",
       "</table>\n",
       "</div>"
      ],
      "text/plain": [
       "                        company_name  trips_amount\n",
       "0                          Flash Cab         19558\n",
       "1          Taxi Affiliation Services         11422\n",
       "2                  Medallion Leasing         10367\n",
       "3                         Yellow Cab          9888\n",
       "4    Taxi Affiliation Service Yellow          9299\n",
       "5          Chicago Carriage Cab Corp          9181\n",
       "6                       City Service          8448\n",
       "7                           Sun Taxi          7701\n",
       "8          Star North Management LLC          7455\n",
       "9  Blue Ribbon Taxi Association Inc.          5953"
      ]
     },
     "execution_count": 222,
     "metadata": {},
     "output_type": "execute_result"
    }
   ],
   "source": [
    "# Perusahaan taksi dan jumlah perjalanannya\n",
    "top_taxicompany = sql1.sort_values(by='trips_amount', ascending=False)\n",
    "\n",
    "#memotong tabel hanya 10 besar\n",
    "topten_taxicompany = top_taxicompany.head(10)   \n",
    "topten_taxicompany"
   ]
  },
  {
   "cell_type": "markdown",
   "metadata": {},
   "source": [
    "10 perusahaan teratas  adalah `Flash Cab`, `Taxi Affiliation Services`, `Medallion Leasing`, `Yellow Cab`, `Taxi Affiliation Service Yellow`, `Chicago Carriage Cab Corp`, `City Service`, `Sun Taxi`, `Star North Management LLC` dan `Blue Ribbon Taxi Association Inc.`. "
   ]
  },
  {
   "cell_type": "code",
   "execution_count": 223,
   "metadata": {},
   "outputs": [
    {
     "data": {
      "image/png": "[encoded data removed]",
      "text/plain": [
       "<Figure size 900x800 with 1 Axes>"
      ]
     },
     "metadata": {},
     "output_type": "display_data"
    }
   ],
   "source": [
    "# Membuat pie chart\n",
    "plt.figure(figsize=(9, 8))  # Mengatur ukuran gambar\n",
    "\n",
    "# Data untuk pie chart\n",
    "labels = topten_taxicompany['company_name']\n",
    "sizes = topten_taxicompany['trips_amount']\n",
    "\n",
    "# Membuat pie chart\n",
    "plt.pie(sizes, labels=labels, autopct='%1.1f%%', startangle=140)\n",
    "\n",
    "# Menambahkan judul\n",
    "plt.title('Persentase Perjalanan Per Perusahaan (Top 10)')\n",
    "\n",
    "# Menampilkan pie chart\n",
    "plt.show()"
   ]
  },
  {
   "cell_type": "markdown",
   "metadata": {},
   "source": []
  },
  {
   "cell_type": "markdown",
   "metadata": {},
   "source": [
    "## Hipotesis<a id='hypotheses'></a>"
   ]
  },
  {
   "cell_type": "markdown",
   "metadata": {},
   "source": [
    "### Hipotesis 1"
   ]
  },
  {
   "cell_type": "markdown",
   "metadata": {},
   "source": [
    "Hipotesis:\n",
    "Durasi rata-rata perjalanan dari Loop ke Bandara Internasional O'Hare berubah saat hujan di hari Sabtu.\n",
    "\n",
    "- <font color='blue'>H0 : Durasi rata-rata perjalanan dari Loop ke Bandara Internasional O'Hare SAMA saat hujan ataupun cerah pada hari Sabtu.</font>\n",
    "- <font color='red'>H1 : Durasi rata-rata perjalanan dari Loop ke Bandara Internasional O'Hare TIDAK SAMA saat hujan ataupun cerah pada hari Sabtu.</font>\n",
    "\n",
    "`Alpha : 0.05`"
   ]
  },
  {
   "cell_type": "code",
   "execution_count": 224,
   "metadata": {},
   "outputs": [
    {
     "data": {
      "text/html": [
       "<div>\n",
       "<style scoped>\n",
       "    .dataframe tbody tr th:only-of-type {\n",
       "        vertical-align: middle;\n",
       "    }\n",
       "\n",
       "    .dataframe tbody tr th {\n",
       "        vertical-align: top;\n",
       "    }\n",
       "\n",
       "    .dataframe thead th {\n",
       "        text-align: right;\n",
       "    }\n",
       "</style>\n",
       "<table border=\"1\" class=\"dataframe\">\n",
       "  <thead>\n",
       "    <tr style=\"text-align: right;\">\n",
       "      <th></th>\n",
       "      <th>start_ts</th>\n",
       "      <th>weather_conditions</th>\n",
       "      <th>duration_seconds</th>\n",
       "    </tr>\n",
       "  </thead>\n",
       "  <tbody>\n",
       "    <tr>\n",
       "      <th>0</th>\n",
       "      <td>2017-11-25 16:00:00</td>\n",
       "      <td>Good</td>\n",
       "      <td>2410.0</td>\n",
       "    </tr>\n",
       "    <tr>\n",
       "      <th>1</th>\n",
       "      <td>2017-11-25 14:00:00</td>\n",
       "      <td>Good</td>\n",
       "      <td>1920.0</td>\n",
       "    </tr>\n",
       "    <tr>\n",
       "      <th>2</th>\n",
       "      <td>2017-11-25 12:00:00</td>\n",
       "      <td>Good</td>\n",
       "      <td>1543.0</td>\n",
       "    </tr>\n",
       "    <tr>\n",
       "      <th>3</th>\n",
       "      <td>2017-11-04 10:00:00</td>\n",
       "      <td>Good</td>\n",
       "      <td>2512.0</td>\n",
       "    </tr>\n",
       "    <tr>\n",
       "      <th>4</th>\n",
       "      <td>2017-11-11 07:00:00</td>\n",
       "      <td>Good</td>\n",
       "      <td>1440.0</td>\n",
       "    </tr>\n",
       "    <tr>\n",
       "      <th>5</th>\n",
       "      <td>2017-11-11 04:00:00</td>\n",
       "      <td>Good</td>\n",
       "      <td>1320.0</td>\n",
       "    </tr>\n",
       "    <tr>\n",
       "      <th>6</th>\n",
       "      <td>2017-11-04 16:00:00</td>\n",
       "      <td>Bad</td>\n",
       "      <td>2969.0</td>\n",
       "    </tr>\n",
       "    <tr>\n",
       "      <th>7</th>\n",
       "      <td>2017-11-18 11:00:00</td>\n",
       "      <td>Good</td>\n",
       "      <td>2280.0</td>\n",
       "    </tr>\n",
       "    <tr>\n",
       "      <th>8</th>\n",
       "      <td>2017-11-11 14:00:00</td>\n",
       "      <td>Good</td>\n",
       "      <td>2460.0</td>\n",
       "    </tr>\n",
       "    <tr>\n",
       "      <th>9</th>\n",
       "      <td>2017-11-11 12:00:00</td>\n",
       "      <td>Good</td>\n",
       "      <td>2040.0</td>\n",
       "    </tr>\n",
       "  </tbody>\n",
       "</table>\n",
       "</div>"
      ],
      "text/plain": [
       "             start_ts weather_conditions  duration_seconds\n",
       "0 2017-11-25 16:00:00               Good            2410.0\n",
       "1 2017-11-25 14:00:00               Good            1920.0\n",
       "2 2017-11-25 12:00:00               Good            1543.0\n",
       "3 2017-11-04 10:00:00               Good            2512.0\n",
       "4 2017-11-11 07:00:00               Good            1440.0\n",
       "5 2017-11-11 04:00:00               Good            1320.0\n",
       "6 2017-11-04 16:00:00                Bad            2969.0\n",
       "7 2017-11-18 11:00:00               Good            2280.0\n",
       "8 2017-11-11 14:00:00               Good            2460.0\n",
       "9 2017-11-11 12:00:00               Good            2040.0"
      ]
     },
     "execution_count": 224,
     "metadata": {},
     "output_type": "execute_result"
    }
   ],
   "source": [
    "#memuat data\n",
    "sql7.head(10)"
   ]
  },
  {
   "cell_type": "code",
   "execution_count": 225,
   "metadata": {},
   "outputs": [
    {
     "name": "stdout",
     "output_type": "stream",
     "text": [
      "Nilai p-value Uji Levene: 0.9806770360671218\n",
      "Nilai p-value t-test: 7.397770692813658e-08\n",
      "Hipotesis Nol Ditolak\n"
     ]
    }
   ],
   "source": [
    "# memfilter dataset weather untuk cuaca yang baik dan cuaca yang buruk\n",
    "good_weather = sql7.query('weather_conditions == \"Good\"')\n",
    "bad_weather = sql7.query('weather_conditions == \"Bad\"')\n",
    "\n",
    "# besarnya signifikan level\n",
    "alpha = 0.05\n",
    "\n",
    "# Uji Levene untuk memeriksa kesamaan varians\n",
    "levene_stat, levene_pvalue = st.levene(good_weather['duration_seconds'], bad_weather['duration_seconds'])\n",
    "print(f'Nilai p-value Uji Levene: {levene_pvalue}')\n",
    "\n",
    "# Uji hipotesis berdasarkan hasil Uji Levene\n",
    "if levene_pvalue < alpha:\n",
    "    # Varians tidak sama, menggunakan t-test dengan equal_var=False\n",
    "    result = st.ttest_ind(good_weather['duration_seconds'], bad_weather['duration_seconds'], equal_var=False)\n",
    "else:\n",
    "    # Varians sama, menggunakan t-test standar\n",
    "    result = st.ttest_ind(good_weather['duration_seconds'], bad_weather['duration_seconds'], equal_var=True)\n",
    "\n",
    "pvalue = result.pvalue\n",
    "print(f'Nilai p-value t-test: {pvalue}')\n",
    "\n",
    "if pvalue < alpha:\n",
    "    print('Hipotesis Nol Ditolak')\n",
    "else:\n",
    "    print('Tidak Bisa Menolak Hipotesis Nol')"
   ]
  },
  {
   "cell_type": "markdown",
   "metadata": {},
   "source": [
    "Karena berdasarkan uji hipotesis yang telah dilakukan Hipotesis Nol di tolak, berarti Hipotesis 1 di terima sehingga disimpulkan `\"Durasi rata-rata perjalanan dari Loop ke Bandara Internasional O'Hare tidak sama saat hujan ataupun cerah pada hari Sabtu.\"`"
   ]
  },
  {
   "cell_type": "markdown",
   "metadata": {},
   "source": [
    "## Kesimpulan<a id='conclusion'></a>"
   ]
  },
  {
   "cell_type": "markdown",
   "metadata": {},
   "source": [
    "1. 10 wilayah teratas yang dijadikan sebagai titik pengantaran adalah `Loop`, `River North`, `Streeterville`, `West Loop`, `O'Hare`, `Lake View`, `Grant Park`, `Museum Campus`, `Gold Coast` dan `Sheffiled & DePaul`. \n",
    "2. 10 perusahaan teratas  adalah `Flash Cab`, `Taxi Affiliation Services`, `Medallion Leasing`, `Yellow Cab`, `Taxi Affiliation Service Yellow`, `Chicago Carriage Cab Corp`, `City Service`, `Sun Taxi`, `Star North Management LLC` dan `Blue Ribbon Taxi Association Inc.`. \n",
    "3. Hipotesis 1 di terima sehingga disimpulkan `\"Durasi rata-rata perjalanan dari Loop ke Bandara Internasional O'Hare tidak sama saat hujan ataupun cerah pada hari Sabtu.\"`"
   ]
  },
  {
   "cell_type": "markdown",
   "metadata": {},
   "source": [
    "### Temuan<a id='end'></a>"
   ]
  },
  {
   "cell_type": "markdown",
   "metadata": {},
   "source": [
    "1. Ditemukan beberapa data yang terduplikasi pada `sql7` diputuskan untuk dipangkas karena dirasa tidak akan mempengaruhi analisa selanjutnya\n",
    "2. kolom `start_ts` memiliki tipe data yang salah sehingga harus dibubah menjadi `datetime`"
   ]
  },
  {
   "cell_type": "markdown",
   "metadata": {},
   "source": [
    "### Rekomendasi<a id='recom'></a>"
   ]
  },
  {
   "cell_type": "markdown",
   "metadata": {},
   "source": [
    "1. Untuk selanjutnya disarankan untuk menambah jumlah taxi yang beroperasi pada wilayah-wilayah yang terdapat dalam 10 besar wilayah dengan titik pengantaran tertinggi\n",
    "2. disarankan untuk menambahkan jumlah taxi sehingga dapat bersaing dengan 10 perusahaan lainnya dalam pengantaran.\n",
    "3. cuaca sudah diketahui dapat mempengaruhi durasi pengantaran, jika terjadi hujan kemungkinan durasi akan menjadi lebih lama, dan kebutuhan pengantaranpun akan bertambah, sehingga disarankan untuk menambahkan jumlah taxi yang beroperasi pada cuaca yang kemungkinan buruk"
   ]
  },
  {
   "cell_type": "markdown",
   "metadata": {},
   "source": [
    "[Kembali](#back)"
   ]
  },
  {
   "cell_type": "code",
   "execution_count": null,
   "metadata": {},
   "outputs": [],
   "source": []
  }
 ],
 "metadata": {
  "ExecuteTimeLog": [
   {
    "duration": 4962,
    "start_time": "2024-05-31T06:40:54.544Z"
   },
   {
    "duration": 28,
    "start_time": "2024-05-31T06:42:48.874Z"
   },
   {
    "duration": 5,
    "start_time": "2024-05-31T06:44:01.374Z"
   },
   {
    "duration": 18,
    "start_time": "2024-05-31T06:44:01.385Z"
   },
   {
    "duration": 14,
    "start_time": "2024-05-31T06:45:53.659Z"
   },
   {
    "duration": 13,
    "start_time": "2024-05-31T06:46:15.922Z"
   },
   {
    "duration": 7,
    "start_time": "2024-05-31T06:47:50.964Z"
   },
   {
    "duration": 10,
    "start_time": "2024-05-31T06:49:49.934Z"
   },
   {
    "duration": 13,
    "start_time": "2024-05-31T06:50:13.698Z"
   },
   {
    "duration": 9,
    "start_time": "2024-05-31T06:51:04.448Z"
   },
   {
    "duration": 13,
    "start_time": "2024-05-31T06:51:50.743Z"
   },
   {
    "duration": 13,
    "start_time": "2024-05-31T06:52:02.692Z"
   },
   {
    "duration": 7,
    "start_time": "2024-05-31T06:52:10.805Z"
   },
   {
    "duration": 13,
    "start_time": "2024-05-31T06:52:15.784Z"
   },
   {
    "duration": 7,
    "start_time": "2024-05-31T06:52:25.854Z"
   },
   {
    "duration": 9,
    "start_time": "2024-05-31T06:53:23.079Z"
   },
   {
    "duration": 7,
    "start_time": "2024-05-31T06:57:44.611Z"
   },
   {
    "duration": 13,
    "start_time": "2024-05-31T06:57:48.584Z"
   },
   {
    "duration": 8,
    "start_time": "2024-05-31T06:58:47.760Z"
   },
   {
    "duration": 6,
    "start_time": "2024-05-31T07:00:56.995Z"
   },
   {
    "duration": 5,
    "start_time": "2024-05-31T07:06:05.022Z"
   },
   {
    "duration": 16,
    "start_time": "2024-05-31T07:06:05.031Z"
   },
   {
    "duration": 10,
    "start_time": "2024-05-31T07:06:05.050Z"
   },
   {
    "duration": 14,
    "start_time": "2024-05-31T07:06:05.064Z"
   },
   {
    "duration": 7,
    "start_time": "2024-05-31T07:06:05.109Z"
   },
   {
    "duration": 10,
    "start_time": "2024-05-31T07:06:05.119Z"
   },
   {
    "duration": 14,
    "start_time": "2024-05-31T07:06:05.132Z"
   },
   {
    "duration": 7,
    "start_time": "2024-05-31T07:06:05.149Z"
   },
   {
    "duration": 57,
    "start_time": "2024-05-31T07:06:05.160Z"
   },
   {
    "duration": 13,
    "start_time": "2024-05-31T07:06:05.220Z"
   },
   {
    "duration": 6,
    "start_time": "2024-05-31T07:06:05.236Z"
   },
   {
    "duration": 15,
    "start_time": "2024-05-31T07:06:05.245Z"
   },
   {
    "duration": 8,
    "start_time": "2024-05-31T07:06:05.309Z"
   },
   {
    "duration": 7,
    "start_time": "2024-05-31T07:06:05.320Z"
   },
   {
    "duration": 18,
    "start_time": "2024-05-31T07:08:29.460Z"
   },
   {
    "duration": 8,
    "start_time": "2024-05-31T07:08:43.809Z"
   },
   {
    "duration": 18,
    "start_time": "2024-05-31T07:09:30.067Z"
   },
   {
    "duration": 7,
    "start_time": "2024-05-31T07:09:37.559Z"
   },
   {
    "duration": 14,
    "start_time": "2024-05-31T07:09:42.829Z"
   },
   {
    "duration": 15,
    "start_time": "2024-05-31T07:14:40.874Z"
   },
   {
    "duration": 14,
    "start_time": "2024-05-31T07:17:04.740Z"
   },
   {
    "duration": 23,
    "start_time": "2024-05-31T07:18:06.827Z"
   },
   {
    "duration": 262,
    "start_time": "2024-05-31T07:19:52.689Z"
   },
   {
    "duration": 378,
    "start_time": "2024-05-31T07:21:29.060Z"
   },
   {
    "duration": 269,
    "start_time": "2024-05-31T07:21:56.951Z"
   },
   {
    "duration": 281,
    "start_time": "2024-05-31T07:22:14.287Z"
   },
   {
    "duration": 10,
    "start_time": "2024-05-31T07:24:12.979Z"
   },
   {
    "duration": 21,
    "start_time": "2024-05-31T07:25:07.902Z"
   },
   {
    "duration": 13,
    "start_time": "2024-05-31T07:30:52.674Z"
   },
   {
    "duration": 317,
    "start_time": "2024-05-31T07:31:12.406Z"
   },
   {
    "duration": 1500,
    "start_time": "2024-05-31T07:31:54.848Z"
   },
   {
    "duration": 13,
    "start_time": "2024-05-31T07:33:10.740Z"
   },
   {
    "duration": 13,
    "start_time": "2024-05-31T07:34:00.909Z"
   },
   {
    "duration": 12,
    "start_time": "2024-05-31T07:34:49.408Z"
   },
   {
    "duration": 11,
    "start_time": "2024-05-31T07:36:45.365Z"
   },
   {
    "duration": 14,
    "start_time": "2024-05-31T07:37:19.832Z"
   },
   {
    "duration": 11,
    "start_time": "2024-05-31T07:39:05.930Z"
   },
   {
    "duration": 10,
    "start_time": "2024-05-31T07:39:10.317Z"
   },
   {
    "duration": 14,
    "start_time": "2024-05-31T07:39:16.343Z"
   },
   {
    "duration": 285,
    "start_time": "2024-05-31T07:39:36.071Z"
   },
   {
    "duration": 281,
    "start_time": "2024-05-31T07:41:37.128Z"
   },
   {
    "duration": 318,
    "start_time": "2024-05-31T07:42:55.225Z"
   },
   {
    "duration": 298,
    "start_time": "2024-05-31T07:44:08.228Z"
   },
   {
    "duration": 7,
    "start_time": "2024-05-31T07:44:22.883Z"
   },
   {
    "duration": 17,
    "start_time": "2024-05-31T07:44:22.894Z"
   },
   {
    "duration": 10,
    "start_time": "2024-05-31T07:44:22.914Z"
   },
   {
    "duration": 15,
    "start_time": "2024-05-31T07:44:22.927Z"
   },
   {
    "duration": 8,
    "start_time": "2024-05-31T07:44:22.946Z"
   },
   {
    "duration": 50,
    "start_time": "2024-05-31T07:44:22.956Z"
   },
   {
    "duration": 14,
    "start_time": "2024-05-31T07:44:23.009Z"
   },
   {
    "duration": 10,
    "start_time": "2024-05-31T07:44:23.026Z"
   },
   {
    "duration": 14,
    "start_time": "2024-05-31T07:44:23.039Z"
   },
   {
    "duration": 56,
    "start_time": "2024-05-31T07:44:23.057Z"
   },
   {
    "duration": 6,
    "start_time": "2024-05-31T07:44:23.116Z"
   },
   {
    "duration": 14,
    "start_time": "2024-05-31T07:44:23.126Z"
   },
   {
    "duration": 7,
    "start_time": "2024-05-31T07:44:23.144Z"
   },
   {
    "duration": 50,
    "start_time": "2024-05-31T07:44:23.157Z"
   },
   {
    "duration": 18,
    "start_time": "2024-05-31T07:44:23.211Z"
   },
   {
    "duration": 10,
    "start_time": "2024-05-31T07:44:23.231Z"
   },
   {
    "duration": 13,
    "start_time": "2024-05-31T07:44:23.244Z"
   },
   {
    "duration": 56,
    "start_time": "2024-05-31T07:44:23.260Z"
   },
   {
    "duration": 285,
    "start_time": "2024-05-31T07:44:23.319Z"
   },
   {
    "duration": 11,
    "start_time": "2024-05-31T07:44:23.607Z"
   },
   {
    "duration": 15,
    "start_time": "2024-05-31T07:44:23.621Z"
   },
   {
    "duration": 4,
    "start_time": "2024-05-31T07:44:23.639Z"
   },
   {
    "duration": 317,
    "start_time": "2024-05-31T07:44:23.646Z"
   },
   {
    "duration": 352,
    "start_time": "2024-05-31T07:44:23.966Z"
   },
   {
    "duration": 10,
    "start_time": "2024-05-31T07:46:20.900Z"
   },
   {
    "duration": 282,
    "start_time": "2024-05-31T07:46:25.300Z"
   },
   {
    "duration": 5,
    "start_time": "2024-05-31T07:46:42.268Z"
   },
   {
    "duration": 18,
    "start_time": "2024-05-31T07:46:42.277Z"
   },
   {
    "duration": 11,
    "start_time": "2024-05-31T07:46:42.298Z"
   },
   {
    "duration": 14,
    "start_time": "2024-05-31T07:46:42.314Z"
   },
   {
    "duration": 7,
    "start_time": "2024-05-31T07:46:42.331Z"
   },
   {
    "duration": 10,
    "start_time": "2024-05-31T07:46:42.341Z"
   },
   {
    "duration": 51,
    "start_time": "2024-05-31T07:46:42.355Z"
   },
   {
    "duration": 7,
    "start_time": "2024-05-31T07:46:42.409Z"
   },
   {
    "duration": 12,
    "start_time": "2024-05-31T07:46:42.422Z"
   },
   {
    "duration": 13,
    "start_time": "2024-05-31T07:46:42.437Z"
   },
   {
    "duration": 6,
    "start_time": "2024-05-31T07:46:42.453Z"
   },
   {
    "duration": 19,
    "start_time": "2024-05-31T07:46:42.511Z"
   },
   {
    "duration": 13,
    "start_time": "2024-05-31T07:46:42.533Z"
   },
   {
    "duration": 12,
    "start_time": "2024-05-31T07:46:42.550Z"
   },
   {
    "duration": 45,
    "start_time": "2024-05-31T07:46:42.564Z"
   },
   {
    "duration": 9,
    "start_time": "2024-05-31T07:46:42.612Z"
   },
   {
    "duration": 14,
    "start_time": "2024-05-31T07:46:42.625Z"
   },
   {
    "duration": 17,
    "start_time": "2024-05-31T07:46:42.642Z"
   },
   {
    "duration": 313,
    "start_time": "2024-05-31T07:46:42.663Z"
   },
   {
    "duration": 28,
    "start_time": "2024-05-31T07:46:42.979Z"
   },
   {
    "duration": 11,
    "start_time": "2024-05-31T07:46:43.010Z"
   },
   {
    "duration": 4,
    "start_time": "2024-05-31T07:46:43.024Z"
   },
   {
    "duration": 398,
    "start_time": "2024-05-31T07:46:43.031Z"
   },
   {
    "duration": 349,
    "start_time": "2024-05-31T07:46:43.436Z"
   },
   {
    "duration": 289,
    "start_time": "2024-05-31T07:47:23.149Z"
   },
   {
    "duration": 6,
    "start_time": "2024-05-31T07:47:30.007Z"
   },
   {
    "duration": 16,
    "start_time": "2024-05-31T07:47:30.017Z"
   },
   {
    "duration": 10,
    "start_time": "2024-05-31T07:47:30.036Z"
   },
   {
    "duration": 56,
    "start_time": "2024-05-31T07:47:30.050Z"
   },
   {
    "duration": 7,
    "start_time": "2024-05-31T07:47:30.109Z"
   },
   {
    "duration": 10,
    "start_time": "2024-05-31T07:47:30.120Z"
   },
   {
    "duration": 13,
    "start_time": "2024-05-31T07:47:30.133Z"
   },
   {
    "duration": 56,
    "start_time": "2024-05-31T07:47:30.150Z"
   },
   {
    "duration": 13,
    "start_time": "2024-05-31T07:47:30.208Z"
   },
   {
    "duration": 13,
    "start_time": "2024-05-31T07:47:30.227Z"
   },
   {
    "duration": 6,
    "start_time": "2024-05-31T07:47:30.243Z"
   },
   {
    "duration": 15,
    "start_time": "2024-05-31T07:47:30.252Z"
   },
   {
    "duration": 9,
    "start_time": "2024-05-31T07:47:30.307Z"
   },
   {
    "duration": 6,
    "start_time": "2024-05-31T07:47:30.319Z"
   },
   {
    "duration": 17,
    "start_time": "2024-05-31T07:47:30.328Z"
   },
   {
    "duration": 9,
    "start_time": "2024-05-31T07:47:30.348Z"
   },
   {
    "duration": 13,
    "start_time": "2024-05-31T07:47:30.407Z"
   },
   {
    "duration": 15,
    "start_time": "2024-05-31T07:47:30.424Z"
   },
   {
    "duration": 312,
    "start_time": "2024-05-31T07:47:30.442Z"
   },
   {
    "duration": 11,
    "start_time": "2024-05-31T07:47:30.757Z"
   },
   {
    "duration": 36,
    "start_time": "2024-05-31T07:47:30.772Z"
   },
   {
    "duration": 4,
    "start_time": "2024-05-31T07:47:30.811Z"
   },
   {
    "duration": 296,
    "start_time": "2024-05-31T07:47:30.819Z"
   },
   {
    "duration": 277,
    "start_time": "2024-05-31T07:48:07.049Z"
   },
   {
    "duration": 11,
    "start_time": "2024-05-31T07:49:27.559Z"
   },
   {
    "duration": 7,
    "start_time": "2024-05-31T07:56:00.577Z"
   },
   {
    "duration": 16,
    "start_time": "2024-05-31T07:56:00.587Z"
   },
   {
    "duration": 10,
    "start_time": "2024-05-31T07:56:00.605Z"
   },
   {
    "duration": 14,
    "start_time": "2024-05-31T07:56:00.619Z"
   },
   {
    "duration": 8,
    "start_time": "2024-05-31T07:56:00.635Z"
   },
   {
    "duration": 11,
    "start_time": "2024-05-31T07:56:00.645Z"
   },
   {
    "duration": 54,
    "start_time": "2024-05-31T07:56:00.659Z"
   },
   {
    "duration": 7,
    "start_time": "2024-05-31T07:56:00.716Z"
   },
   {
    "duration": 11,
    "start_time": "2024-05-31T07:56:00.726Z"
   },
   {
    "duration": 14,
    "start_time": "2024-05-31T07:56:00.743Z"
   },
   {
    "duration": 48,
    "start_time": "2024-05-31T07:56:00.760Z"
   },
   {
    "duration": 14,
    "start_time": "2024-05-31T07:56:00.812Z"
   },
   {
    "duration": 9,
    "start_time": "2024-05-31T07:56:00.829Z"
   },
   {
    "duration": 6,
    "start_time": "2024-05-31T07:56:00.841Z"
   },
   {
    "duration": 62,
    "start_time": "2024-05-31T07:56:00.850Z"
   },
   {
    "duration": 8,
    "start_time": "2024-05-31T07:56:00.915Z"
   },
   {
    "duration": 14,
    "start_time": "2024-05-31T07:56:00.926Z"
   },
   {
    "duration": 16,
    "start_time": "2024-05-31T07:56:00.943Z"
   },
   {
    "duration": 330,
    "start_time": "2024-05-31T07:56:00.962Z"
   },
   {
    "duration": 25,
    "start_time": "2024-05-31T07:56:01.296Z"
   },
   {
    "duration": 303,
    "start_time": "2024-05-31T07:56:01.325Z"
   },
   {
    "duration": 13,
    "start_time": "2024-05-31T07:59:39.502Z"
   },
   {
    "duration": 480,
    "start_time": "2024-05-31T08:05:33.579Z"
   },
   {
    "duration": 6,
    "start_time": "2024-05-31T08:05:39.736Z"
   },
   {
    "duration": 8,
    "start_time": "2024-05-31T08:05:42.819Z"
   },
   {
    "duration": 13,
    "start_time": "2024-05-31T08:05:47.369Z"
   },
   {
    "duration": 12,
    "start_time": "2024-05-31T08:11:23.200Z"
   },
   {
    "duration": 15,
    "start_time": "2024-05-31T08:13:51.908Z"
   },
   {
    "duration": 15,
    "start_time": "2024-05-31T08:22:00.459Z"
   },
   {
    "duration": 14,
    "start_time": "2024-05-31T08:22:34.210Z"
   },
   {
    "duration": 15,
    "start_time": "2024-05-31T08:23:02.131Z"
   },
   {
    "duration": 9,
    "start_time": "2024-05-31T08:24:48.293Z"
   },
   {
    "duration": 15,
    "start_time": "2024-05-31T08:24:51.029Z"
   },
   {
    "duration": 12,
    "start_time": "2024-05-31T08:25:16.159Z"
   },
   {
    "duration": 5,
    "start_time": "2024-05-31T08:25:20.830Z"
   },
   {
    "duration": 18,
    "start_time": "2024-05-31T08:25:20.842Z"
   },
   {
    "duration": 11,
    "start_time": "2024-05-31T08:25:20.863Z"
   },
   {
    "duration": 29,
    "start_time": "2024-05-31T08:25:20.877Z"
   },
   {
    "duration": 8,
    "start_time": "2024-05-31T08:25:20.909Z"
   },
   {
    "duration": 14,
    "start_time": "2024-05-31T08:25:20.923Z"
   },
   {
    "duration": 11,
    "start_time": "2024-05-31T08:25:20.940Z"
   },
   {
    "duration": 58,
    "start_time": "2024-05-31T08:25:20.954Z"
   },
   {
    "duration": 7,
    "start_time": "2024-05-31T08:25:21.015Z"
   },
   {
    "duration": 16,
    "start_time": "2024-05-31T08:25:21.025Z"
   },
   {
    "duration": 12,
    "start_time": "2024-05-31T08:25:21.044Z"
   },
   {
    "duration": 56,
    "start_time": "2024-05-31T08:25:21.059Z"
   },
   {
    "duration": 7,
    "start_time": "2024-05-31T08:25:21.118Z"
   },
   {
    "duration": 14,
    "start_time": "2024-05-31T08:25:21.128Z"
   },
   {
    "duration": 9,
    "start_time": "2024-05-31T08:25:21.148Z"
   },
   {
    "duration": 51,
    "start_time": "2024-05-31T08:25:21.159Z"
   },
   {
    "duration": 7,
    "start_time": "2024-05-31T08:25:21.213Z"
   },
   {
    "duration": 8,
    "start_time": "2024-05-31T08:25:21.223Z"
   },
   {
    "duration": 14,
    "start_time": "2024-05-31T08:25:21.234Z"
   },
   {
    "duration": 60,
    "start_time": "2024-05-31T08:25:21.251Z"
   },
   {
    "duration": 16,
    "start_time": "2024-05-31T08:25:21.314Z"
   },
   {
    "duration": 288,
    "start_time": "2024-05-31T08:25:21.332Z"
   },
   {
    "duration": 13,
    "start_time": "2024-05-31T08:25:21.624Z"
   },
   {
    "duration": 306,
    "start_time": "2024-05-31T08:25:21.640Z"
   },
   {
    "duration": 12,
    "start_time": "2024-05-31T08:25:21.949Z"
   },
   {
    "duration": 44,
    "start_time": "2024-05-31T08:25:21.964Z"
   },
   {
    "duration": 5,
    "start_time": "2024-05-31T08:44:59.381Z"
   },
   {
    "duration": 18,
    "start_time": "2024-05-31T08:44:59.394Z"
   },
   {
    "duration": 11,
    "start_time": "2024-05-31T08:44:59.416Z"
   },
   {
    "duration": 14,
    "start_time": "2024-05-31T08:44:59.431Z"
   },
   {
    "duration": 8,
    "start_time": "2024-05-31T08:44:59.447Z"
   },
   {
    "duration": 52,
    "start_time": "2024-05-31T08:44:59.460Z"
   },
   {
    "duration": 10,
    "start_time": "2024-05-31T08:44:59.515Z"
   },
   {
    "duration": 13,
    "start_time": "2024-05-31T08:44:59.528Z"
   },
   {
    "duration": 8,
    "start_time": "2024-05-31T08:44:59.545Z"
   },
   {
    "duration": 62,
    "start_time": "2024-05-31T08:44:59.556Z"
   },
   {
    "duration": 12,
    "start_time": "2024-05-31T08:44:59.621Z"
   },
   {
    "duration": 15,
    "start_time": "2024-05-31T08:44:59.636Z"
   },
   {
    "duration": 7,
    "start_time": "2024-05-31T08:44:59.654Z"
   },
   {
    "duration": 15,
    "start_time": "2024-05-31T08:44:59.707Z"
   },
   {
    "duration": 7,
    "start_time": "2024-05-31T08:44:59.729Z"
   },
   {
    "duration": 7,
    "start_time": "2024-05-31T08:44:59.739Z"
   },
   {
    "duration": 7,
    "start_time": "2024-05-31T08:44:59.749Z"
   },
   {
    "duration": 8,
    "start_time": "2024-05-31T08:44:59.806Z"
   },
   {
    "duration": 14,
    "start_time": "2024-05-31T08:44:59.817Z"
   },
   {
    "duration": 15,
    "start_time": "2024-05-31T08:44:59.834Z"
   },
   {
    "duration": 56,
    "start_time": "2024-05-31T08:44:59.852Z"
   },
   {
    "duration": 280,
    "start_time": "2024-05-31T08:44:59.914Z"
   },
   {
    "duration": 19,
    "start_time": "2024-05-31T08:45:00.197Z"
   },
   {
    "duration": 304,
    "start_time": "2024-05-31T08:45:00.219Z"
   },
   {
    "duration": 13,
    "start_time": "2024-05-31T08:45:00.526Z"
   },
   {
    "duration": 22,
    "start_time": "2024-05-31T08:45:00.542Z"
   },
   {
    "duration": 4,
    "start_time": "2024-06-01T04:10:19.535Z"
   }
  ],
  "kernelspec": {
   "display_name": "Python 3 (ipykernel)",
   "language": "python",
   "name": "python3"
  },
  "language_info": {
   "codemirror_mode": {
    "name": "ipython",
    "version": 3
   },
   "file_extension": ".py",
   "mimetype": "text/x-python",
   "name": "python",
   "nbconvert_exporter": "python",
   "pygments_lexer": "ipython3",
   "version": "3.9.19"
  },
  "toc": {
   "base_numbering": 1,
   "nav_menu": {},
   "number_sections": true,
   "sideBar": true,
   "skip_h1_title": true,
   "title_cell": "Table of Contents",
   "title_sidebar": "Contents",
   "toc_cell": false,
   "toc_position": {},
   "toc_section_display": true,
   "toc_window_display": false
  }
 },
 "nbformat": 4,
 "nbformat_minor": 2
}
