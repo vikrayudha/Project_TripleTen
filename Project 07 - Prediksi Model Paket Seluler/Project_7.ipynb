{
 "cells": [
  {
   "cell_type": "markdown",
   "metadata": {},
   "source": [
    "\n",
    "\n",
    "# ANALISIS PERILAKU KONSUMEN MEGALINE"
   ]
  },
  {
   "cell_type": "markdown",
   "metadata": {},
   "source": [
    "## Konten<a id='back'></a>\n",
    "\n",
    "* [Pendahuluan](#intro)\n",
    "* [Tahap 1. Inisialisasi data](#inisial)\n",
    "* [Tahap 2. Mempersiapkan data](#prepare)\n",
    "* [Tahap 3. Analisa Data](#analyze)\n",
    "* [Tahap 4. Hipotesis](#hypothesis)\n",
    "* [Kesimpulan Umum](#conclusion)\n",
    "    * [Temuan](#end)\n",
    "    * [Rekomendasi](#recom)"
   ]
  },
  {
   "cell_type": "markdown",
   "metadata": {},
   "source": [
    "## Pendahuluan<a id='intro'></a>"
   ]
  },
  {
   "cell_type": "markdown",
   "metadata": {},
   "source": [
    "Operator seluler Megaline merasa tidak puas karena sebagian besar pelanggan mereka masih menggunakan paket lama. Perusahaan tersebut ingin mengembangkan sebuah model yang bisa menganalisis perilaku konsumen dan merekomendasikan salah satu dari kedua paket terbaru Megaline: Smart atau Ultra.\n",
    "\n",
    "Kamu punya akses untuk data perilaku para pelanggan yang sudah beralih ke paket terbaru (dari proyek kursus Analisis Data Statistik). Dalam tugas klasifikasi ini, kamu perlu mengembangkan sebuah model yang mampu memilih paket dengan tepat. Nah, karena kamu sudah menyelesaikan langkah pra-pemrosesan data, kamu bisa langsung lanjut ke tahapan pembuatan model.\n",
    "\n",
    "Kembangkan sebuah model dengan tingkat accuracy yang setinggi-tingginya. Di proyek ini, ambang batas untuk tingkat accuracy adalah 0,75. Jangan lupa untuk memeriksa tingkat accuracy modelmu menggunakan test dataset, ya.\n",
    "\n",
    "Instruksi proyek\n",
    "1. Buka dan periksa file data secara teliti. File path: `/datasets/users_behavior.csv`.\n",
    "2. Pisahkan data sumber menjadi `training set`, `validation set`, dan `test set`.\n",
    "3. Periksa kualitas model yang berbeda dengan mengubah hyperparameter. \n",
    "4. Periksa kualitas model menggunakan test set.\n",
    "\n",
    "Tugas tambahan: lakukan sanity check terhadap model. Data ini lebih kompleks dari data-data yang pernah dikerjakan sebelumnya. Jadi, ini memang bukan tugas yang mudah.\n",
    "\n",
    "Deskripsi data\n",
    "Setiap observasi dalam dataset yang kita miliki memuat informasi perilaku bulanan tentang satu pengguna. Informasi tersebut mencakup: \n",
    "* сalls — jumlah panggilan\n",
    "* minutes — total durasi panggilan dalam satuan menit\n",
    "* messages — jumlah pesan teks\n",
    "* mb_used — traffic penggunaan internet dalam satuan MB\n",
    "* is_ultimate — paket untuk bulan yang sedang berjalan (Ultimate - 1, Surf - 0)"
   ]
  },
  {
   "cell_type": "markdown",
   "metadata": {},
   "source": [
    "## Inisialisasi Data<a id='inisial'></a>"
   ]
  },
  {
   "cell_type": "markdown",
   "metadata": {},
   "source": [
    "memuat semua library yang diperlukan"
   ]
  },
  {
   "cell_type": "code",
   "execution_count": 37,
   "metadata": {},
   "outputs": [],
   "source": [
    "import pandas as pd\n",
    "import numpy as np\n",
    "from sklearn.tree import DecisionTreeClassifier \n",
    "from sklearn.metrics import accuracy_score\n",
    "from joblib import dump\n",
    "import joblib\n",
    "from sklearn.model_selection import train_test_split \n",
    "from sklearn.metrics import mean_squared_error\n",
    "from sklearn.ensemble import RandomForestRegressor\n",
    "from sklearn.linear_model import LinearRegression\n",
    "from sklearn.ensemble import RandomForestClassifier \n",
    "from sklearn.linear_model import LogisticRegression\n"
   ]
  },
  {
   "cell_type": "markdown",
   "metadata": {},
   "source": [
    "## Mempersiapkan Data<a id='prepare'></a>"
   ]
  },
  {
   "cell_type": "code",
   "execution_count": 38,
   "metadata": {},
   "outputs": [
    {
     "data": {
      "text/html": [
       "<div>\n",
       "<style scoped>\n",
       "    .dataframe tbody tr th:only-of-type {\n",
       "        vertical-align: middle;\n",
       "    }\n",
       "\n",
       "    .dataframe tbody tr th {\n",
       "        vertical-align: top;\n",
       "    }\n",
       "\n",
       "    .dataframe thead th {\n",
       "        text-align: right;\n",
       "    }\n",
       "</style>\n",
       "<table border=\"1\" class=\"dataframe\">\n",
       "  <thead>\n",
       "    <tr style=\"text-align: right;\">\n",
       "      <th></th>\n",
       "      <th>calls</th>\n",
       "      <th>minutes</th>\n",
       "      <th>messages</th>\n",
       "      <th>mb_used</th>\n",
       "      <th>is_ultra</th>\n",
       "    </tr>\n",
       "  </thead>\n",
       "  <tbody>\n",
       "    <tr>\n",
       "      <th>0</th>\n",
       "      <td>40.0</td>\n",
       "      <td>311.90</td>\n",
       "      <td>83.0</td>\n",
       "      <td>19915.42</td>\n",
       "      <td>0</td>\n",
       "    </tr>\n",
       "    <tr>\n",
       "      <th>1</th>\n",
       "      <td>85.0</td>\n",
       "      <td>516.75</td>\n",
       "      <td>56.0</td>\n",
       "      <td>22696.96</td>\n",
       "      <td>0</td>\n",
       "    </tr>\n",
       "    <tr>\n",
       "      <th>2</th>\n",
       "      <td>77.0</td>\n",
       "      <td>467.66</td>\n",
       "      <td>86.0</td>\n",
       "      <td>21060.45</td>\n",
       "      <td>0</td>\n",
       "    </tr>\n",
       "    <tr>\n",
       "      <th>3</th>\n",
       "      <td>106.0</td>\n",
       "      <td>745.53</td>\n",
       "      <td>81.0</td>\n",
       "      <td>8437.39</td>\n",
       "      <td>1</td>\n",
       "    </tr>\n",
       "    <tr>\n",
       "      <th>4</th>\n",
       "      <td>66.0</td>\n",
       "      <td>418.74</td>\n",
       "      <td>1.0</td>\n",
       "      <td>14502.75</td>\n",
       "      <td>0</td>\n",
       "    </tr>\n",
       "    <tr>\n",
       "      <th>5</th>\n",
       "      <td>58.0</td>\n",
       "      <td>344.56</td>\n",
       "      <td>21.0</td>\n",
       "      <td>15823.37</td>\n",
       "      <td>0</td>\n",
       "    </tr>\n",
       "    <tr>\n",
       "      <th>6</th>\n",
       "      <td>57.0</td>\n",
       "      <td>431.64</td>\n",
       "      <td>20.0</td>\n",
       "      <td>3738.90</td>\n",
       "      <td>1</td>\n",
       "    </tr>\n",
       "    <tr>\n",
       "      <th>7</th>\n",
       "      <td>15.0</td>\n",
       "      <td>132.40</td>\n",
       "      <td>6.0</td>\n",
       "      <td>21911.60</td>\n",
       "      <td>0</td>\n",
       "    </tr>\n",
       "    <tr>\n",
       "      <th>8</th>\n",
       "      <td>7.0</td>\n",
       "      <td>43.39</td>\n",
       "      <td>3.0</td>\n",
       "      <td>2538.67</td>\n",
       "      <td>1</td>\n",
       "    </tr>\n",
       "    <tr>\n",
       "      <th>9</th>\n",
       "      <td>90.0</td>\n",
       "      <td>665.41</td>\n",
       "      <td>38.0</td>\n",
       "      <td>17358.61</td>\n",
       "      <td>0</td>\n",
       "    </tr>\n",
       "  </tbody>\n",
       "</table>\n",
       "</div>"
      ],
      "text/plain": [
       "   calls  minutes  messages   mb_used  is_ultra\n",
       "0   40.0   311.90      83.0  19915.42         0\n",
       "1   85.0   516.75      56.0  22696.96         0\n",
       "2   77.0   467.66      86.0  21060.45         0\n",
       "3  106.0   745.53      81.0   8437.39         1\n",
       "4   66.0   418.74       1.0  14502.75         0\n",
       "5   58.0   344.56      21.0  15823.37         0\n",
       "6   57.0   431.64      20.0   3738.90         1\n",
       "7   15.0   132.40       6.0  21911.60         0\n",
       "8    7.0    43.39       3.0   2538.67         1\n",
       "9   90.0   665.41      38.0  17358.61         0"
      ]
     },
     "execution_count": 38,
     "metadata": {},
     "output_type": "execute_result"
    }
   ],
   "source": [
    "# Mengunduh dan memeriksa data\n",
    "data = pd.read_csv('/datasets/users_behavior.csv')\n",
    "data.head(10)"
   ]
  },
  {
   "cell_type": "code",
   "execution_count": 39,
   "metadata": {},
   "outputs": [
    {
     "name": "stdout",
     "output_type": "stream",
     "text": [
      "<class 'pandas.core.frame.DataFrame'>\n",
      "RangeIndex: 3214 entries, 0 to 3213\n",
      "Data columns (total 5 columns):\n",
      " #   Column    Non-Null Count  Dtype  \n",
      "---  ------    --------------  -----  \n",
      " 0   calls     3214 non-null   float64\n",
      " 1   minutes   3214 non-null   float64\n",
      " 2   messages  3214 non-null   float64\n",
      " 3   mb_used   3214 non-null   float64\n",
      " 4   is_ultra  3214 non-null   int64  \n",
      "dtypes: float64(4), int64(1)\n",
      "memory usage: 125.7 KB\n"
     ]
    }
   ],
   "source": [
    "#memeriksa informasi umum\n",
    "data.info()"
   ]
  },
  {
   "cell_type": "markdown",
   "metadata": {},
   "source": [
    "terlihat bahwa data yang dimiliki terdiri dari kolom `calls`, `minutes`, `messages`, `mb_used`, dan `is_ultra`. data teridiri dari 3214 data, dan tidak ada nilai yang hilang. akan tetapi kolom `calls` dan `messages` memiliki tipe data yang salah sehingga perlu diperbaiki."
   ]
  },
  {
   "cell_type": "code",
   "execution_count": 40,
   "metadata": {},
   "outputs": [
    {
     "data": {
      "text/plain": [
       "0"
      ]
     },
     "execution_count": 40,
     "metadata": {},
     "output_type": "execute_result"
    }
   ],
   "source": [
    "#memeriksa duplicate\n",
    "data.duplicated().sum()"
   ]
  },
  {
   "cell_type": "markdown",
   "metadata": {},
   "source": [
    "terlihat bahwa tidak ada data yang terduplikasi"
   ]
  },
  {
   "cell_type": "code",
   "execution_count": 41,
   "metadata": {},
   "outputs": [
    {
     "name": "stdout",
     "output_type": "stream",
     "text": [
      "<class 'pandas.core.frame.DataFrame'>\n",
      "RangeIndex: 3214 entries, 0 to 3213\n",
      "Data columns (total 5 columns):\n",
      " #   Column    Non-Null Count  Dtype  \n",
      "---  ------    --------------  -----  \n",
      " 0   calls     3214 non-null   int64  \n",
      " 1   minutes   3214 non-null   float64\n",
      " 2   messages  3214 non-null   int64  \n",
      " 3   mb_used   3214 non-null   float64\n",
      " 4   is_ultra  3214 non-null   int64  \n",
      "dtypes: float64(2), int64(3)\n",
      "memory usage: 125.7 KB\n"
     ]
    }
   ],
   "source": [
    "# mengubah tipe data kolom calls menjadi integer\n",
    "data['calls'] = data['calls'].astype('int')\n",
    "\n",
    "# mengubah tipe data kolom messages menjadi integer\n",
    "data['messages'] = data['messages'].astype('int')\n",
    "\n",
    "# mengecek tipe data yang baru\n",
    "data.info()"
   ]
  },
  {
   "cell_type": "markdown",
   "metadata": {},
   "source": [
    "sekarang terlihat bahwa `calls` dan `messages` sudah berganti tipe data menjadi int"
   ]
  },
  {
   "cell_type": "code",
   "execution_count": 42,
   "metadata": {},
   "outputs": [
    {
     "data": {
      "text/html": [
       "<div>\n",
       "<style scoped>\n",
       "    .dataframe tbody tr th:only-of-type {\n",
       "        vertical-align: middle;\n",
       "    }\n",
       "\n",
       "    .dataframe tbody tr th {\n",
       "        vertical-align: top;\n",
       "    }\n",
       "\n",
       "    .dataframe thead th {\n",
       "        text-align: right;\n",
       "    }\n",
       "</style>\n",
       "<table border=\"1\" class=\"dataframe\">\n",
       "  <thead>\n",
       "    <tr style=\"text-align: right;\">\n",
       "      <th></th>\n",
       "      <th>calls</th>\n",
       "      <th>minutes</th>\n",
       "      <th>messages</th>\n",
       "      <th>mb_used</th>\n",
       "      <th>is_ultra</th>\n",
       "    </tr>\n",
       "  </thead>\n",
       "  <tbody>\n",
       "    <tr>\n",
       "      <th>count</th>\n",
       "      <td>3214.000000</td>\n",
       "      <td>3214.000000</td>\n",
       "      <td>3214.000000</td>\n",
       "      <td>3214.000000</td>\n",
       "      <td>3214.000000</td>\n",
       "    </tr>\n",
       "    <tr>\n",
       "      <th>mean</th>\n",
       "      <td>63.038892</td>\n",
       "      <td>438.208787</td>\n",
       "      <td>38.281269</td>\n",
       "      <td>17207.673836</td>\n",
       "      <td>0.306472</td>\n",
       "    </tr>\n",
       "    <tr>\n",
       "      <th>std</th>\n",
       "      <td>33.236368</td>\n",
       "      <td>234.569872</td>\n",
       "      <td>36.148326</td>\n",
       "      <td>7570.968246</td>\n",
       "      <td>0.461100</td>\n",
       "    </tr>\n",
       "    <tr>\n",
       "      <th>min</th>\n",
       "      <td>0.000000</td>\n",
       "      <td>0.000000</td>\n",
       "      <td>0.000000</td>\n",
       "      <td>0.000000</td>\n",
       "      <td>0.000000</td>\n",
       "    </tr>\n",
       "    <tr>\n",
       "      <th>25%</th>\n",
       "      <td>40.000000</td>\n",
       "      <td>274.575000</td>\n",
       "      <td>9.000000</td>\n",
       "      <td>12491.902500</td>\n",
       "      <td>0.000000</td>\n",
       "    </tr>\n",
       "    <tr>\n",
       "      <th>50%</th>\n",
       "      <td>62.000000</td>\n",
       "      <td>430.600000</td>\n",
       "      <td>30.000000</td>\n",
       "      <td>16943.235000</td>\n",
       "      <td>0.000000</td>\n",
       "    </tr>\n",
       "    <tr>\n",
       "      <th>75%</th>\n",
       "      <td>82.000000</td>\n",
       "      <td>571.927500</td>\n",
       "      <td>57.000000</td>\n",
       "      <td>21424.700000</td>\n",
       "      <td>1.000000</td>\n",
       "    </tr>\n",
       "    <tr>\n",
       "      <th>max</th>\n",
       "      <td>244.000000</td>\n",
       "      <td>1632.060000</td>\n",
       "      <td>224.000000</td>\n",
       "      <td>49745.730000</td>\n",
       "      <td>1.000000</td>\n",
       "    </tr>\n",
       "  </tbody>\n",
       "</table>\n",
       "</div>"
      ],
      "text/plain": [
       "             calls      minutes     messages       mb_used     is_ultra\n",
       "count  3214.000000  3214.000000  3214.000000   3214.000000  3214.000000\n",
       "mean     63.038892   438.208787    38.281269  17207.673836     0.306472\n",
       "std      33.236368   234.569872    36.148326   7570.968246     0.461100\n",
       "min       0.000000     0.000000     0.000000      0.000000     0.000000\n",
       "25%      40.000000   274.575000     9.000000  12491.902500     0.000000\n",
       "50%      62.000000   430.600000    30.000000  16943.235000     0.000000\n",
       "75%      82.000000   571.927500    57.000000  21424.700000     1.000000\n",
       "max     244.000000  1632.060000   224.000000  49745.730000     1.000000"
      ]
     },
     "execution_count": 42,
     "metadata": {},
     "output_type": "execute_result"
    }
   ],
   "source": [
    "#memuat informasi umum tambahan\n",
    "data.describe()"
   ]
  },
  {
   "cell_type": "markdown",
   "metadata": {},
   "source": [
    "terlihat bahwa data yang dimiliki terdiri dari kolom `calls`, `minutes`, `messages`, dan `mb_used` merupakan data kuantitatif yang sangat bervariasi sedangkan `is_ultra` hanya berisi data biner `0` dan `1`."
   ]
  },
  {
   "cell_type": "markdown",
   "metadata": {},
   "source": [
    "## Membuat model machine learning<a id='machine'></a>"
   ]
  },
  {
   "cell_type": "markdown",
   "metadata": {},
   "source": [
    "Membuat model machine learning yang terbaik diperlukan beberapa tahapan diantaranya: pemisahan dataset, memilih algoritma, menguji algoritma, tuning hyperparamater."
   ]
  },
  {
   "cell_type": "markdown",
   "metadata": {},
   "source": [
    "### Memisahkan dataset"
   ]
  },
  {
   "cell_type": "markdown",
   "metadata": {},
   "source": [
    "Pisahkan data sumber menjadi `training set`, `validation set`, dan `test set`.\n",
    "Disini kita akan menentukan paket apa yang direkomendasikan sebagai target berdasarkan beberapa fitur yang berkaitan. Fitur-fitur tersebut diantaranya `calls`, `minutes`, `messages` dan `mb_used`.\n",
    "\n",
    "Karena kita hanya memilki satu buah dataset, kita akan membaginya kedalam beberapa kelompok untuk membuat model machine learning. Pembagian dipecah menjadi 60% dataset untuk training, 20% dataset untuk validasi dan 20% untuk testing."
   ]
  },
  {
   "cell_type": "code",
   "execution_count": 43,
   "metadata": {},
   "outputs": [],
   "source": [
    "# membagi dataset menjadi 60% training, 20% validasi dan 20% test\n",
    "\n",
    "# membagi dataset megaline menjadi 60% untuk training dan 40% untuk (validasi + test)\n",
    "df_train, df_temp = train_test_split(data, test_size=0.6, random_state=147)\n",
    "\n",
    "# membagi dataset temporary menjadi 50% untuk validation dan 50% untuk test (dari 40% data asli)\n",
    "df_validation, df_test = train_test_split(df_temp, test_size=0.5, random_state=147)"
   ]
  },
  {
   "cell_type": "code",
   "execution_count": 44,
   "metadata": {},
   "outputs": [
    {
     "name": "stdout",
     "output_type": "stream",
     "text": [
      "features_train: (1285, 4)\n",
      "target_train: (1285,) \n",
      "\n",
      "features_valid: (964, 4)\n",
      "target_valid: (964,) \n",
      "\n",
      "features_test: (965, 4)\n",
      "target_test: (965,)\n"
     ]
    }
   ],
   "source": [
    "# memisahkan kolom is_ultra dari dataset\n",
    "# membagi dataset training menjadi fitur dan target\n",
    "features_train = df_train.drop(['is_ultra'],axis=1)\n",
    "target_train = df_train['is_ultra']\n",
    "\n",
    "# membagi dataset validation menjadi fitur dan target\n",
    "features_valid = df_validation.drop(['is_ultra'],axis=1)\n",
    "target_valid = df_validation['is_ultra']\n",
    "\n",
    "# membagi dataset test menjadi fitur dan target\n",
    "features_test = df_test.drop(['is_ultra'],axis=1)\n",
    "target_test = df_test['is_ultra']\n",
    "\n",
    "# menampilkan shape dari training dan validation\n",
    "print('features_train:',features_train.shape)\n",
    "print('target_train:',target_train.shape,'\\n')\n",
    "\n",
    "print('features_valid:',features_valid.shape)\n",
    "print('target_valid:',target_valid.shape,'\\n')\n",
    "\n",
    "print('features_test:',features_test.shape)\n",
    "print('target_test:',target_test.shape)"
   ]
  },
  {
   "cell_type": "markdown",
   "metadata": {},
   "source": [
    "dari `features_train` terlihat bahwa diperlukan 1285 data untuk dijadikan `training set`, yang berarti sekitar 60% dari jumlah data yang ada. sementara `validation set` diperlukan sekitar 964 data dan `features_test` terlihat bahwa diperlukan 965 data."
   ]
  },
  {
   "cell_type": "markdown",
   "metadata": {},
   "source": [
    "## Memeriksa kualitas model<a id='quality'></a>"
   ]
  },
  {
   "cell_type": "markdown",
   "metadata": {},
   "source": [
    "### Periksa kualitas model yang berbeda dengan mengubah hyperparameter. "
   ]
  },
  {
   "cell_type": "markdown",
   "metadata": {},
   "source": []
  },
  {
   "cell_type": "code",
   "execution_count": 45,
   "metadata": {},
   "outputs": [
    {
     "name": "stdout",
     "output_type": "stream",
     "text": [
      "Akurasi Model Terbaik (Decision Tree)\n",
      "Akurasi\t: 0.79876\n",
      "Depth\t: 3\n"
     ]
    }
   ],
   "source": [
    "# Membuat temporary variabel untuk tuning hyperparameters\n",
    "best_result = 0\n",
    "best_depth = 0\n",
    "\n",
    "# Pengujian kedalaman model decision tree (depth -> 1 ~ 15)\n",
    "for depth in range(1, 15):\n",
    "    # Membuat model decision tree\n",
    "    model = DecisionTreeClassifier(random_state=12345, max_depth=depth)\n",
    "    # Melatih model menggunakan features dan target train\n",
    "    model.fit(features_train, target_train)\n",
    "    # Menghitung akurasi menggunakan features dan target validation\n",
    "    result = model.score(features_valid, target_valid)\n",
    "    if result > best_result:\n",
    "        best_model = model\n",
    "        best_result = result\n",
    "        best_depth = depth\n",
    "\n",
    "# Menampilkan hasil tuning hyperparameters\n",
    "print(\"Akurasi Model Terbaik (Decision Tree)\")\n",
    "print(f\"Akurasi\\t: {best_result:.5f}\")\n",
    "print(f\"Depth\\t: {best_depth}\")"
   ]
  },
  {
   "cell_type": "markdown",
   "metadata": {},
   "source": [
    "Berdasarkan hasil di atas terlihat kualitas nilai yang dimasukkan untuk `validation test`, terlihat bahwa nilai akurasi tertinggi adalah pada kedalaman `3` yaitu sekitar `0.798`."
   ]
  },
  {
   "cell_type": "markdown",
   "metadata": {},
   "source": []
  },
  {
   "cell_type": "markdown",
   "metadata": {},
   "source": [
    "### Periksa Kualitas Model Menggunakan Test Set"
   ]
  },
  {
   "cell_type": "code",
   "execution_count": 46,
   "metadata": {},
   "outputs": [
    {
     "name": "stdout",
     "output_type": "stream",
     "text": [
      "Akurasi Akhir\n",
      "Training set: 0.7937743190661478\n",
      "Test set: 0.7989637305699482\n"
     ]
    }
   ],
   "source": [
    "# Evaluasi model terbaik pada test set\n",
    "prediction_test = best_model.predict(features_test)\n",
    "result_test = accuracy_score(target_test, prediction_test)\n",
    "\n",
    "# Evaluasi model terbaik pada training set\n",
    "prediction_train = best_model.predict(features_train)\n",
    "result_train = accuracy_score(target_train, prediction_train)\n",
    "\n",
    "# Menampilkan hasil evaluasi pada training set dan test set\n",
    "print('Akurasi Akhir')\n",
    "print('Training set:', result_train)\n",
    "print('Test set:', result_test)"
   ]
  },
  {
   "cell_type": "markdown",
   "metadata": {},
   "source": [
    "terlihat bahwa akurasi akhir yang di dapatkan dengan `training set` adalah `0.793` sedangkan menggunakan `test set` adalah `0.798`"
   ]
  },
  {
   "cell_type": "code",
   "execution_count": 47,
   "metadata": {},
   "outputs": [
    {
     "name": "stdout",
     "output_type": "stream",
     "text": [
      "Akurasi Model Terbaik (Random Forest)\n",
      "Akurasi\t\t: 0.79357\n",
      "Depth\t\t: 3\n",
      "N_Estimators\t: 14\n"
     ]
    }
   ],
   "source": [
    "# Mencari accuracy model terbaik\n",
    "best_score = 0\n",
    "best_est = 0\n",
    "for est in range(1, 15):\n",
    "    model = RandomForestClassifier(random_state=54321, n_estimators=est)\n",
    "    model.fit(features_train, target_train)\n",
    "    score = model.score(features_valid, target_valid)\n",
    "    if score > best_score:\n",
    "        best_score = score\n",
    "        best_est = est\n",
    "\n",
    "final_model = RandomForestClassifier(random_state=54321, n_estimators=10)\n",
    "final_model.fit(features_train, target_train)\n",
    "\n",
    "# menampilkan output        \n",
    "print(\"Akurasi Model Terbaik (Random Forest)\")\n",
    "print(f\"Akurasi\\t\\t: {best_score:.5f}\")\n",
    "print(f\"Depth\\t\\t: {best_depth}\")\n",
    "print(f\"N_Estimators\\t: {best_est}\")"
   ]
  },
  {
   "cell_type": "markdown",
   "metadata": {},
   "source": [
    "akurasi model `random forest` adalah `0.793` dengan `depth` 3 dan `n_estimator` 14"
   ]
  },
  {
   "cell_type": "markdown",
   "metadata": {},
   "source": [
    "## Sanity Check<a id='sanity'></a>"
   ]
  },
  {
   "cell_type": "code",
   "execution_count": 48,
   "metadata": {},
   "outputs": [
    {
     "name": "stdout",
     "output_type": "stream",
     "text": [
      "RMSE dari model terbaik pada validation set: 0.3863799176844318\n",
      "n_estimators: 10\n",
      "best_depth: 10\n"
     ]
    }
   ],
   "source": [
    "# Sanity Check dengan menggunakan mean squarred error\n",
    "best_model = None\n",
    "best_result = 1\n",
    "best_est = 0\n",
    "best_depth = 0\n",
    "for est in range(10, 30, 50):\n",
    "    for depth in range (1, 11):\n",
    "        model = RandomForestRegressor(random_state=12345, n_estimators=est, max_depth=depth)\n",
    "        model.fit(features_train, target_train)\n",
    "        prediction_valid = model.predict(features_valid)\n",
    "        result = mean_squared_error(target_valid, prediction_valid)**0.5\n",
    "        if result < best_result:\n",
    "            best_model = model\n",
    "            best_result = result\n",
    "            best_est = est\n",
    "            best_depth = depth\n",
    "\n",
    "print(\"RMSE dari model terbaik pada validation set:\", best_result)\n",
    "print(\"n_estimators:\", best_est)\n",
    "print(\"best_depth:\", depth)\n"
   ]
  },
  {
   "cell_type": "markdown",
   "metadata": {},
   "source": [
    "terlihat bahwa RMSE validation set adalah `0.386` dengan `n_estimators` 10 dan `best_depth` 10"
   ]
  },
  {
   "cell_type": "code",
   "execution_count": 49,
   "metadata": {},
   "outputs": [
    {
     "name": "stdout",
     "output_type": "stream",
     "text": [
      "RMSE dari model regresi linier pada validation set: 0.44428262267721674\n"
     ]
    }
   ],
   "source": [
    "model = LinearRegression()\n",
    "model.fit(features_train, target_train)\n",
    "prediction_valid = model.predict(features_valid)\n",
    "\n",
    "result = mean_squared_error(target_valid, prediction_valid)**0.5\n",
    "print(\"RMSE dari model regresi linier pada validation set:\", result)"
   ]
  },
  {
   "cell_type": "markdown",
   "metadata": {},
   "source": [
    "RSME dari model regresi linier pada validation set adalah senilai `0.444`. Nilai RMSE pada model linier berbeda (lebih besar) dengan nilai random forest regression sehingga kemungkinan model ini overfitting."
   ]
  },
  {
   "cell_type": "code",
   "execution_count": 50,
   "metadata": {},
   "outputs": [
    {
     "name": "stdout",
     "output_type": "stream",
     "text": [
      "Accuracy model regresi logistik berdasarkan training set: 0.7167315175097276\n",
      "Accuracy model regresi logistik berdasarkan validation set: 0.6939834024896265\n"
     ]
    }
   ],
   "source": [
    "model = LogisticRegression(random_state=54321, solver='liblinear') \n",
    "model.fit(features_train, target_train)\n",
    "score_train = model.score(features_train, target_train) \n",
    "score_valid = model.score(features_valid, target_valid) \n",
    "\n",
    "print(\"Accuracy model regresi logistik berdasarkan training set:\", score_train)\n",
    "print(\"Accuracy model regresi logistik berdasarkan validation set:\", score_valid)"
   ]
  },
  {
   "cell_type": "markdown",
   "metadata": {},
   "source": [
    "Skor akurasi pada training set lebih tinggi dari akurasi pada validation. Hal ini sesuai dengan sebelumnya mengindikasikan adanya adanya overfitting."
   ]
  },
  {
   "cell_type": "code",
   "execution_count": 51,
   "metadata": {},
   "outputs": [
    {
     "name": "stdout",
     "output_type": "stream",
     "text": [
      "New Dataset: (2249, 5)\n"
     ]
    },
    {
     "data": {
      "text/plain": [
       "RandomForestClassifier(max_depth=3, n_estimators=14, random_state=12345)"
      ]
     },
     "execution_count": 51,
     "metadata": {},
     "output_type": "execute_result"
    }
   ],
   "source": [
    "# Final model\n",
    "# melatih model menggunakan dataset training dan validasi untuk mendapatkan hasil yang lebih akurat menggunakan random forest\n",
    "\n",
    "# menggabungkan dataset training dan validasi\n",
    "merge_df = pd.concat([df_train,df_validation],axis=0)\n",
    "print('New Dataset:',merge_df.shape)\n",
    "\n",
    "# membagi dataset akhir menjadi fitur dan target\n",
    "features = merge_df.drop(['is_ultra'],axis=1)\n",
    "target = merge_df['is_ultra']\n",
    "\n",
    "# max_depth = 3\n",
    "# n_estimators = 14\n",
    "best_model = RandomForestClassifier(random_state=12345, n_estimators=14, max_depth=3)\n",
    "\n",
    "# melatih model terbaik\n",
    "best_model.fit(features,target)"
   ]
  },
  {
   "cell_type": "markdown",
   "metadata": {},
   "source": []
  },
  {
   "cell_type": "code",
   "execution_count": 52,
   "metadata": {},
   "outputs": [
    {
     "name": "stdout",
     "output_type": "stream",
     "text": [
      "Akurasi best_model: 0.7958549222797927\n"
     ]
    }
   ],
   "source": [
    "# uji kelayakan model (sanity check)\n",
    "accuracy = best_model.score(features_test,target_test)\n",
    "\n",
    "# menampilkan output\n",
    "print(\"Akurasi best_model:\",accuracy)"
   ]
  },
  {
   "cell_type": "markdown",
   "metadata": {},
   "source": [
    "Bisa dilihat ternyata akurasinya masih berada disekitar 79% dan masih diatas ambang batas akurasi skor 75%."
   ]
  },
  {
   "cell_type": "markdown",
   "metadata": {},
   "source": [
    "## Kesimpulan<a id='conclusion'></a>"
   ]
  },
  {
   "cell_type": "markdown",
   "metadata": {},
   "source": [
    "1. jumlah training set 60% adalah `1285` data, validation set 20% adalah `964` data, dan testing set `965` data.\n",
    "2. Berdasarkan hasil di atas terlihat kualitas nilai yang dimasukkan untuk `validation test`, terlihat bahwa nilai akurasi tertinggi adalah pada kedalaman 3 yaitu sekitar `0.798` menggunakan `decision tree`.\n",
    "3. akurasi akhir yang di dapatkan dengan `training set` adalah `0.793` sedangkan menggunakan `test set` adalah `0.798`\n",
    "4. akurasi model `random forest` adalah `0.793` dengan `depth` 3 dan `n_estimator` 14.\n",
    "5. terlihat bahwa RMSE validation set adalah `0.386` dengan `n_estimators` 10 dan `best_depth` 10.\n",
    "6. Bisa dilihat ternyata akurasinya `sanity check` masih berada disekitar 79% dan masih diatas ambang batas akurasi skor 75%."
   ]
  },
  {
   "cell_type": "markdown",
   "metadata": {},
   "source": [
    "### Temuan<a id='end'></a>"
   ]
  },
  {
   "cell_type": "markdown",
   "metadata": {},
   "source": [
    "1. memisahkan data set menjadi 3 bagian, `training set`, `validation set`, dan `testing set` dengan persentase 60:20:20\n",
    "2. RSME dari model regresi linier pada validation set adalah senilai `0.444`. Nilai RMSE pada model linier berbeda (lebih besar) dengan nilai random forest regression sehingga kemungkinan model ini overfitting."
   ]
  },
  {
   "cell_type": "markdown",
   "metadata": {},
   "source": [
    "### Rekomendasi<a id='recom'></a>"
   ]
  },
  {
   "cell_type": "markdown",
   "metadata": {},
   "source": [
    "Berdasarkan hasil analisis model, rekomendasi yang diberikan adalah untuk menggunakan model yang dikembangkan dalam memilih paket untuk pelanggan. Karena model memiliki akurasi yang baik dan konsisten, pelanggan yang diidentifikasi melalui model ini kemungkinan besar akan mendapatkan paket yang paling sesuai dengan kebutuhan mereka.\n",
    "\n",
    "Untuk lebih spesifik:\n",
    "* Pelanggan yang diprediksi oleh model untuk beralih ke paket \"Ultra\" sebaiknya ditawari paket \"Ultra\".\n",
    "* Pelanggan yang diprediksi oleh model untuk beralih ke paket \"Smart\" sebaiknya ditawari paket \"Smart\".\n",
    "\n",
    "Keputusan ini didukung oleh analisis akurasi dan keandalan model dalam memprediksi pilihan paket yang tepat berdasarkan data perilaku pelanggan. Menggunakan pendekatan ini akan membantu Megaline dalam meningkatkan kepuasan pelanggan dengan menawarkan paket yang lebih sesuai dengan kebutuhan individu pelanggan."
   ]
  },
  {
   "cell_type": "markdown",
   "metadata": {},
   "source": [
    "[Kembali](#back)"
   ]
  },
  {
   "cell_type": "code",
   "execution_count": null,
   "metadata": {},
   "outputs": [],
   "source": []
  }
 ],
 "metadata": {
  "ExecuteTimeLog": [
   {
    "duration": 1244,
    "start_time": "2024-06-02T05:00:36.485Z"
   },
   {
    "duration": 40,
    "start_time": "2024-06-02T05:01:57.295Z"
   },
   {
    "duration": 21,
    "start_time": "2024-06-02T05:02:08.716Z"
   },
   {
    "duration": 15,
    "start_time": "2024-06-02T05:02:40.214Z"
   },
   {
    "duration": 9,
    "start_time": "2024-06-02T05:04:59.351Z"
   },
   {
    "duration": 32,
    "start_time": "2024-06-02T05:05:32.453Z"
   },
   {
    "duration": 424,
    "start_time": "2024-06-02T05:11:04.153Z"
   },
   {
    "duration": 11,
    "start_time": "2024-06-02T05:11:18.121Z"
   },
   {
    "duration": 11,
    "start_time": "2024-06-02T05:11:25.684Z"
   },
   {
    "duration": 9,
    "start_time": "2024-06-02T05:16:22.392Z"
   },
   {
    "duration": 33,
    "start_time": "2024-06-02T05:17:44.441Z"
   },
   {
    "duration": 166,
    "start_time": "2024-06-02T05:19:36.093Z"
   },
   {
    "duration": 28,
    "start_time": "2024-06-02T05:27:50.682Z"
   },
   {
    "duration": 19,
    "start_time": "2024-06-02T05:28:12.034Z"
   },
   {
    "duration": 29,
    "start_time": "2024-06-02T05:28:46.462Z"
   },
   {
    "duration": 8,
    "start_time": "2024-06-02T05:38:19.001Z"
   },
   {
    "duration": 11,
    "start_time": "2024-06-02T05:38:55.981Z"
   },
   {
    "duration": 8,
    "start_time": "2024-06-02T05:39:28.783Z"
   },
   {
    "duration": 13,
    "start_time": "2024-06-02T05:39:31.091Z"
   },
   {
    "duration": 9,
    "start_time": "2024-06-02T05:39:51.723Z"
   },
   {
    "duration": 11,
    "start_time": "2024-06-02T05:39:53.351Z"
   },
   {
    "duration": 8,
    "start_time": "2024-06-02T05:41:40.254Z"
   },
   {
    "duration": 10,
    "start_time": "2024-06-02T05:41:43.141Z"
   },
   {
    "duration": 9,
    "start_time": "2024-06-02T05:41:57.597Z"
   },
   {
    "duration": 10,
    "start_time": "2024-06-02T05:42:03.551Z"
   },
   {
    "duration": 40,
    "start_time": "2024-06-02T05:43:44.061Z"
   },
   {
    "duration": 5,
    "start_time": "2024-06-02T05:44:19.565Z"
   },
   {
    "duration": 23,
    "start_time": "2024-06-02T05:44:19.574Z"
   },
   {
    "duration": 15,
    "start_time": "2024-06-02T05:44:19.600Z"
   },
   {
    "duration": 15,
    "start_time": "2024-06-02T05:44:19.619Z"
   },
   {
    "duration": 17,
    "start_time": "2024-06-02T05:44:19.637Z"
   },
   {
    "duration": 29,
    "start_time": "2024-06-02T05:44:19.658Z"
   },
   {
    "duration": 36,
    "start_time": "2024-06-02T05:44:19.699Z"
   },
   {
    "duration": 11,
    "start_time": "2024-06-02T05:44:19.738Z"
   },
   {
    "duration": 11,
    "start_time": "2024-06-02T05:44:19.753Z"
   },
   {
    "duration": 8,
    "start_time": "2024-06-02T05:44:19.768Z"
   },
   {
    "duration": 78,
    "start_time": "2024-06-02T05:44:19.779Z"
   },
   {
    "duration": 191,
    "start_time": "2024-06-02T05:44:19.860Z"
   },
   {
    "duration": 12,
    "start_time": "2024-06-02T05:44:42.088Z"
   },
   {
    "duration": 42,
    "start_time": "2024-06-02T05:44:46.521Z"
   },
   {
    "duration": 317,
    "start_time": "2024-06-02T06:40:46.159Z"
   },
   {
    "duration": 1204,
    "start_time": "2024-06-02T06:40:52.310Z"
   },
   {
    "duration": 37,
    "start_time": "2024-06-02T06:40:53.517Z"
   },
   {
    "duration": 14,
    "start_time": "2024-06-02T06:40:53.558Z"
   },
   {
    "duration": 9,
    "start_time": "2024-06-02T06:40:53.578Z"
   },
   {
    "duration": 50,
    "start_time": "2024-06-02T06:40:53.591Z"
   },
   {
    "duration": 35,
    "start_time": "2024-06-02T06:40:53.644Z"
   },
   {
    "duration": 16,
    "start_time": "2024-06-02T06:40:53.682Z"
   },
   {
    "duration": 63,
    "start_time": "2024-06-02T06:40:53.701Z"
   },
   {
    "duration": 200,
    "start_time": "2024-06-02T06:40:53.767Z"
   },
   {
    "duration": 887,
    "start_time": "2024-06-02T06:43:01.663Z"
   },
   {
    "duration": 5060,
    "start_time": "2024-06-02T06:49:40.350Z"
   },
   {
    "duration": 7963,
    "start_time": "2024-06-02T06:50:17.151Z"
   },
   {
    "duration": 7015,
    "start_time": "2024-06-02T06:50:36.983Z"
   },
   {
    "duration": 7097,
    "start_time": "2024-06-02T06:50:50.342Z"
   },
   {
    "duration": 124,
    "start_time": "2024-06-02T06:52:25.165Z"
   },
   {
    "duration": 205,
    "start_time": "2024-06-02T06:53:31.830Z"
   },
   {
    "duration": 1333,
    "start_time": "2024-06-02T06:55:48.039Z"
   },
   {
    "duration": 30,
    "start_time": "2024-06-02T06:56:03.220Z"
   },
   {
    "duration": 111,
    "start_time": "2024-06-02T06:56:27.597Z"
   },
   {
    "duration": 320,
    "start_time": "2024-06-02T06:58:06.421Z"
   },
   {
    "duration": 11,
    "start_time": "2024-06-02T06:58:27.653Z"
   },
   {
    "duration": 161,
    "start_time": "2024-06-02T06:59:09.701Z"
   },
   {
    "duration": 315,
    "start_time": "2024-06-02T08:01:27.489Z"
   },
   {
    "duration": 1205,
    "start_time": "2024-06-02T08:01:36.173Z"
   },
   {
    "duration": 32,
    "start_time": "2024-06-02T08:01:37.382Z"
   },
   {
    "duration": 27,
    "start_time": "2024-06-02T08:01:37.417Z"
   },
   {
    "duration": 9,
    "start_time": "2024-06-02T08:01:37.447Z"
   },
   {
    "duration": 18,
    "start_time": "2024-06-02T08:01:37.459Z"
   },
   {
    "duration": 69,
    "start_time": "2024-06-02T08:01:37.480Z"
   },
   {
    "duration": 17,
    "start_time": "2024-06-02T08:01:37.552Z"
   },
   {
    "duration": 72,
    "start_time": "2024-06-02T08:01:37.572Z"
   },
   {
    "duration": 196,
    "start_time": "2024-06-02T08:01:37.647Z"
   },
   {
    "duration": 339,
    "start_time": "2024-06-02T08:01:37.847Z"
   },
   {
    "duration": 11,
    "start_time": "2024-06-02T08:01:38.188Z"
   },
   {
    "duration": 188,
    "start_time": "2024-06-02T08:01:38.202Z"
   },
   {
    "duration": 347,
    "start_time": "2024-06-02T08:01:38.393Z"
   },
   {
    "duration": 10,
    "start_time": "2024-06-02T08:01:59.788Z"
   },
   {
    "duration": 116,
    "start_time": "2024-06-02T08:09:07.259Z"
   },
   {
    "duration": 7,
    "start_time": "2024-06-02T08:09:20.759Z"
   },
   {
    "duration": 10,
    "start_time": "2024-06-02T08:11:27.240Z"
   },
   {
    "duration": 28,
    "start_time": "2024-06-02T08:13:04.258Z"
   },
   {
    "duration": 553,
    "start_time": "2024-06-02T08:13:35.192Z"
   },
   {
    "duration": 544,
    "start_time": "2024-06-02T08:16:55.978Z"
   },
   {
    "duration": 532,
    "start_time": "2024-06-02T08:17:26.408Z"
   },
   {
    "duration": 541,
    "start_time": "2024-06-02T08:17:55.609Z"
   },
   {
    "duration": 12,
    "start_time": "2024-06-02T08:19:07.243Z"
   },
   {
    "duration": 536,
    "start_time": "2024-06-02T08:19:31.388Z"
   },
   {
    "duration": 5,
    "start_time": "2024-06-02T08:20:21.657Z"
   },
   {
    "duration": 22,
    "start_time": "2024-06-02T08:20:21.666Z"
   },
   {
    "duration": 15,
    "start_time": "2024-06-02T08:20:21.691Z"
   },
   {
    "duration": 24,
    "start_time": "2024-06-02T08:20:21.711Z"
   },
   {
    "duration": 20,
    "start_time": "2024-06-02T08:20:21.738Z"
   },
   {
    "duration": 47,
    "start_time": "2024-06-02T08:20:21.761Z"
   },
   {
    "duration": 9,
    "start_time": "2024-06-02T08:20:21.830Z"
   },
   {
    "duration": 11,
    "start_time": "2024-06-02T08:20:21.842Z"
   },
   {
    "duration": 12,
    "start_time": "2024-06-02T08:20:21.856Z"
   },
   {
    "duration": 595,
    "start_time": "2024-06-02T08:20:21.874Z"
   },
   {
    "duration": 551,
    "start_time": "2024-06-02T08:20:22.472Z"
   },
   {
    "duration": 13,
    "start_time": "2024-06-02T08:20:23.030Z"
   },
   {
    "duration": 10,
    "start_time": "2024-06-02T08:20:23.046Z"
   },
   {
    "duration": 142,
    "start_time": "2024-06-02T08:20:23.060Z"
   },
   {
    "duration": 347,
    "start_time": "2024-06-02T08:20:23.205Z"
   },
   {
    "duration": 11,
    "start_time": "2024-06-02T08:20:23.555Z"
   },
   {
    "duration": 526,
    "start_time": "2024-06-02T08:21:13.019Z"
   },
   {
    "duration": 13,
    "start_time": "2024-06-02T08:21:23.597Z"
   },
   {
    "duration": 5,
    "start_time": "2024-06-02T08:22:59.757Z"
   },
   {
    "duration": 21,
    "start_time": "2024-06-02T08:22:59.767Z"
   },
   {
    "duration": 14,
    "start_time": "2024-06-02T08:22:59.791Z"
   },
   {
    "duration": 21,
    "start_time": "2024-06-02T08:22:59.810Z"
   },
   {
    "duration": 18,
    "start_time": "2024-06-02T08:22:59.835Z"
   },
   {
    "duration": 31,
    "start_time": "2024-06-02T08:22:59.856Z"
   },
   {
    "duration": 47,
    "start_time": "2024-06-02T08:22:59.890Z"
   },
   {
    "duration": 10,
    "start_time": "2024-06-02T08:22:59.939Z"
   },
   {
    "duration": 13,
    "start_time": "2024-06-02T08:22:59.952Z"
   },
   {
    "duration": 562,
    "start_time": "2024-06-02T08:22:59.970Z"
   },
   {
    "duration": 14,
    "start_time": "2024-06-02T08:23:00.536Z"
   },
   {
    "duration": 11,
    "start_time": "2024-06-02T08:23:00.553Z"
   },
   {
    "duration": 154,
    "start_time": "2024-06-02T08:23:00.567Z"
   },
   {
    "duration": 332,
    "start_time": "2024-06-02T08:23:00.724Z"
   },
   {
    "duration": 10,
    "start_time": "2024-06-02T08:23:01.059Z"
   },
   {
    "duration": 518,
    "start_time": "2024-06-02T08:28:17.737Z"
   },
   {
    "duration": 126,
    "start_time": "2024-06-02T08:28:36.412Z"
   },
   {
    "duration": 126,
    "start_time": "2024-06-02T08:29:40.720Z"
   },
   {
    "duration": 323,
    "start_time": "2024-06-02T08:33:20.331Z"
   },
   {
    "duration": 5,
    "start_time": "2024-06-02T08:33:35.621Z"
   },
   {
    "duration": 30,
    "start_time": "2024-06-02T08:33:35.632Z"
   },
   {
    "duration": 16,
    "start_time": "2024-06-02T08:33:35.666Z"
   },
   {
    "duration": 9,
    "start_time": "2024-06-02T08:33:35.685Z"
   },
   {
    "duration": 16,
    "start_time": "2024-06-02T08:33:35.732Z"
   },
   {
    "duration": 28,
    "start_time": "2024-06-02T08:33:35.751Z"
   },
   {
    "duration": 8,
    "start_time": "2024-06-02T08:33:35.782Z"
   },
   {
    "duration": 10,
    "start_time": "2024-06-02T08:33:35.831Z"
   },
   {
    "duration": 12,
    "start_time": "2024-06-02T08:33:35.845Z"
   },
   {
    "duration": 160,
    "start_time": "2024-06-02T08:33:35.859Z"
   },
   {
    "duration": 125,
    "start_time": "2024-06-02T08:33:36.030Z"
   },
   {
    "duration": 12,
    "start_time": "2024-06-02T08:33:36.158Z"
   },
   {
    "duration": 349,
    "start_time": "2024-06-02T08:33:36.174Z"
   },
   {
    "duration": 10,
    "start_time": "2024-06-02T08:33:36.531Z"
   },
   {
    "duration": 126,
    "start_time": "2024-06-02T08:33:36.546Z"
   },
   {
    "duration": 338,
    "start_time": "2024-06-02T08:33:36.675Z"
   },
   {
    "duration": 16,
    "start_time": "2024-06-02T08:33:37.016Z"
   },
   {
    "duration": 553,
    "start_time": "2024-06-02T08:35:48.857Z"
   },
   {
    "duration": 47,
    "start_time": "2024-06-02T08:36:45.206Z"
   },
   {
    "duration": 230,
    "start_time": "2024-06-02T08:37:02.368Z"
   },
   {
    "duration": 9,
    "start_time": "2024-06-02T08:44:41.020Z"
   },
   {
    "duration": 10,
    "start_time": "2024-06-02T08:44:43.386Z"
   },
   {
    "duration": 12,
    "start_time": "2024-06-02T08:44:55.546Z"
   },
   {
    "duration": 145,
    "start_time": "2024-06-02T08:45:07.744Z"
   },
   {
    "duration": 156,
    "start_time": "2024-06-02T08:45:20.939Z"
   },
   {
    "duration": 14,
    "start_time": "2024-06-02T08:45:48.146Z"
   },
   {
    "duration": 8,
    "start_time": "2024-06-02T08:47:43.105Z"
   },
   {
    "duration": 10,
    "start_time": "2024-06-02T08:47:45.357Z"
   },
   {
    "duration": 123,
    "start_time": "2024-06-02T08:48:02.378Z"
   },
   {
    "duration": 13,
    "start_time": "2024-06-02T08:48:23.725Z"
   },
   {
    "duration": 4110,
    "start_time": "2024-06-02T08:52:49.747Z"
   },
   {
    "duration": 6,
    "start_time": "2024-06-02T08:55:06.039Z"
   },
   {
    "duration": 25,
    "start_time": "2024-06-02T08:55:06.049Z"
   },
   {
    "duration": 16,
    "start_time": "2024-06-02T08:55:06.078Z"
   },
   {
    "duration": 40,
    "start_time": "2024-06-02T08:55:06.098Z"
   },
   {
    "duration": 16,
    "start_time": "2024-06-02T08:55:06.141Z"
   },
   {
    "duration": 37,
    "start_time": "2024-06-02T08:55:06.159Z"
   },
   {
    "duration": 13,
    "start_time": "2024-06-02T08:55:06.233Z"
   },
   {
    "duration": 13,
    "start_time": "2024-06-02T08:55:06.249Z"
   },
   {
    "duration": 154,
    "start_time": "2024-06-02T08:55:06.265Z"
   },
   {
    "duration": 22,
    "start_time": "2024-06-02T08:55:06.424Z"
   },
   {
    "duration": 4021,
    "start_time": "2024-06-02T08:55:06.450Z"
   },
   {
    "duration": 117,
    "start_time": "2024-06-02T09:05:54.945Z"
   },
   {
    "duration": 146,
    "start_time": "2024-06-02T09:06:12.025Z"
   },
   {
    "duration": 6,
    "start_time": "2024-06-02T09:09:01.320Z"
   },
   {
    "duration": 24,
    "start_time": "2024-06-02T09:09:01.330Z"
   },
   {
    "duration": 14,
    "start_time": "2024-06-02T09:09:01.357Z"
   },
   {
    "duration": 9,
    "start_time": "2024-06-02T09:09:01.374Z"
   },
   {
    "duration": 53,
    "start_time": "2024-06-02T09:09:01.387Z"
   },
   {
    "duration": 29,
    "start_time": "2024-06-02T09:09:01.443Z"
   },
   {
    "duration": 9,
    "start_time": "2024-06-02T09:09:01.476Z"
   },
   {
    "duration": 46,
    "start_time": "2024-06-02T09:09:01.488Z"
   },
   {
    "duration": 141,
    "start_time": "2024-06-02T09:09:01.538Z"
   },
   {
    "duration": 13,
    "start_time": "2024-06-02T09:09:01.682Z"
   },
   {
    "duration": 149,
    "start_time": "2024-06-02T09:09:01.699Z"
   },
   {
    "duration": 122,
    "start_time": "2024-06-02T09:09:22.563Z"
   },
   {
    "duration": 533,
    "start_time": "2024-06-02T09:10:38.652Z"
   },
   {
    "duration": 42,
    "start_time": "2024-06-02T09:11:22.312Z"
   },
   {
    "duration": 57,
    "start_time": "2024-06-02T09:11:58.436Z"
   },
   {
    "duration": 51,
    "start_time": "2024-06-02T09:13:11.349Z"
   },
   {
    "duration": 353,
    "start_time": "2024-06-02T09:16:08.057Z"
   },
   {
    "duration": 491,
    "start_time": "2024-06-02T11:56:53.248Z"
   },
   {
    "duration": 1161,
    "start_time": "2024-06-02T11:57:02.547Z"
   },
   {
    "duration": 37,
    "start_time": "2024-06-02T11:57:03.711Z"
   },
   {
    "duration": 15,
    "start_time": "2024-06-02T11:57:03.750Z"
   },
   {
    "duration": 10,
    "start_time": "2024-06-02T11:57:03.769Z"
   },
   {
    "duration": 18,
    "start_time": "2024-06-02T11:57:03.781Z"
   },
   {
    "duration": 28,
    "start_time": "2024-06-02T11:57:03.834Z"
   },
   {
    "duration": 9,
    "start_time": "2024-06-02T11:57:03.865Z"
   },
   {
    "duration": 11,
    "start_time": "2024-06-02T11:57:03.877Z"
   },
   {
    "duration": 168,
    "start_time": "2024-06-02T11:57:03.891Z"
   },
   {
    "duration": 13,
    "start_time": "2024-06-02T11:57:04.063Z"
   },
   {
    "duration": 568,
    "start_time": "2024-06-02T11:57:04.079Z"
   },
   {
    "duration": 377,
    "start_time": "2024-06-02T11:57:04.650Z"
   },
   {
    "duration": 13,
    "start_time": "2024-06-02T11:57:41.289Z"
   },
   {
    "duration": 17,
    "start_time": "2024-06-02T11:57:54.698Z"
   },
   {
    "duration": 124,
    "start_time": "2024-06-02T11:58:36.195Z"
   },
   {
    "duration": 9,
    "start_time": "2024-06-02T12:00:29.020Z"
   },
   {
    "duration": 53,
    "start_time": "2024-06-02T12:03:26.686Z"
   },
   {
    "duration": 58,
    "start_time": "2024-06-02T12:04:40.614Z"
   },
   {
    "duration": 12,
    "start_time": "2024-06-02T12:05:24.378Z"
   },
   {
    "duration": 6,
    "start_time": "2024-06-02T12:06:56.797Z"
   },
   {
    "duration": 23,
    "start_time": "2024-06-02T12:06:56.808Z"
   },
   {
    "duration": 15,
    "start_time": "2024-06-02T12:06:56.834Z"
   },
   {
    "duration": 9,
    "start_time": "2024-06-02T12:06:56.853Z"
   },
   {
    "duration": 17,
    "start_time": "2024-06-02T12:06:56.864Z"
   },
   {
    "duration": 72,
    "start_time": "2024-06-02T12:06:56.884Z"
   },
   {
    "duration": 9,
    "start_time": "2024-06-02T12:06:56.959Z"
   },
   {
    "duration": 11,
    "start_time": "2024-06-02T12:06:56.970Z"
   },
   {
    "duration": 171,
    "start_time": "2024-06-02T12:06:56.984Z"
   },
   {
    "duration": 16,
    "start_time": "2024-06-02T12:06:57.161Z"
   },
   {
    "duration": 557,
    "start_time": "2024-06-02T12:06:57.182Z"
   },
   {
    "duration": 375,
    "start_time": "2024-06-02T12:06:57.742Z"
   },
   {
    "duration": 19,
    "start_time": "2024-06-02T12:06:58.132Z"
   },
   {
    "duration": 22,
    "start_time": "2024-06-02T12:06:58.154Z"
   },
   {
    "duration": 79,
    "start_time": "2024-06-02T12:06:58.180Z"
   },
   {
    "duration": 11,
    "start_time": "2024-06-02T12:06:58.263Z"
   },
   {
    "duration": 4,
    "start_time": "2024-06-02T12:30:49.971Z"
   },
   {
    "duration": 22,
    "start_time": "2024-06-02T12:30:49.980Z"
   },
   {
    "duration": 14,
    "start_time": "2024-06-02T12:30:50.005Z"
   },
   {
    "duration": 12,
    "start_time": "2024-06-02T12:30:50.022Z"
   },
   {
    "duration": 17,
    "start_time": "2024-06-02T12:30:50.037Z"
   },
   {
    "duration": 28,
    "start_time": "2024-06-02T12:30:50.057Z"
   },
   {
    "duration": 44,
    "start_time": "2024-06-02T12:30:50.088Z"
   },
   {
    "duration": 14,
    "start_time": "2024-06-02T12:30:50.135Z"
   },
   {
    "duration": 141,
    "start_time": "2024-06-02T12:30:50.151Z"
   },
   {
    "duration": 15,
    "start_time": "2024-06-02T12:30:50.296Z"
   },
   {
    "duration": 554,
    "start_time": "2024-06-02T12:30:50.314Z"
   },
   {
    "duration": 369,
    "start_time": "2024-06-02T12:30:50.871Z"
   },
   {
    "duration": 11,
    "start_time": "2024-06-02T12:30:51.243Z"
   },
   {
    "duration": 17,
    "start_time": "2024-06-02T12:30:51.258Z"
   },
   {
    "duration": 97,
    "start_time": "2024-06-02T12:30:51.278Z"
   },
   {
    "duration": 11,
    "start_time": "2024-06-02T12:30:51.378Z"
   },
   {
    "duration": 4,
    "start_time": "2024-06-03T02:19:01.843Z"
   }
  ],
  "kernelspec": {
   "display_name": "Python 3 (ipykernel)",
   "language": "python",
   "name": "python3"
  },
  "language_info": {
   "codemirror_mode": {
    "name": "ipython",
    "version": 3
   },
   "file_extension": ".py",
   "mimetype": "text/x-python",
   "name": "python",
   "nbconvert_exporter": "python",
   "pygments_lexer": "ipython3",
   "version": "3.9.19"
  },
  "toc": {
   "base_numbering": 1,
   "nav_menu": {},
   "number_sections": true,
   "sideBar": true,
   "skip_h1_title": true,
   "title_cell": "Table of Contents",
   "title_sidebar": "Contents",
   "toc_cell": false,
   "toc_position": {},
   "toc_section_display": true,
   "toc_window_display": false
  }
 },
 "nbformat": 4,
 "nbformat_minor": 2
}
