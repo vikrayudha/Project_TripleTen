{
 "cells": [
  {
   "cell_type": "markdown",
   "metadata": {},
   "source": [
    "# Pengembangan titik tambang OilyGiant"
   ]
  },
  {
   "cell_type": "markdown",
   "metadata": {},
   "source": [
    "## Konten<a id='back'></a>\n",
    "\n",
    "* [Pendahuluan](#intro)\n",
    "* [Tahap 1. Inisialisasi data](#inisial)\n",
    "* [Tahap 2. Mempersiapkan data data](#prepare)\n",
    "* [Tahap 3. Melatih dan menguji model](#traintest)\n",
    "* [Tahap 4. Menghitung laba](#laba)\n",
    "* [Tahap 5. Estimasi Margin Profit](#profit)\n",
    "* [Tahap 6. Hitung Resiko dan keuntungan](#risk)\n",
    "* [Kesimpulan Umum](#conclusion)\n",
    "    * [Temuan](#end)\n",
    "    * [Rekomendasi](#recom)\n"
   ]
  },
  {
   "cell_type": "markdown",
   "metadata": {},
   "source": [
    "## Pendahuluan<a id='intro'></a>\n",
    "OilyGiant adalah perusahaan tambang dan sedang mencari tempat terbaik untuk mengembangkan 200 titik sumur minyak baru. Untuk menyelesaikan tugas ini, langkah-langkah yang harus dilakukan adalah sebagai berikut:\n",
    "1. Baca file dengan parameter yang dikumpulkan dari sumur-sumur minyak di wilayah terpilih: kualitas minyak dan volume cadangannya;\n",
    "2. Buat sebuah model untuk memprediksi volume cadangan di sumur-sumur baru;\n",
    "3. Pilih sumur minyak yang memiliki nilai estimasi tertinggi;\n",
    "4. Pilih wilayah dengan total keuntungan tertinggi dari sumur minyak yang dipilih,\n",
    "5. Ada data sampel minyak dari tiga wilayah dan parameter setiap sumur minyak di wilayah tersebut sudah diketahui. Buat sebuah model yang akan membantu memilih wilayah dengan margin keuntungan tertinggi. Gunakan teknik bootstrapping untuk menganalisis potensi keuntungan dan risiko.\n",
    "\n",
    "Instruksi Proyek\n",
    "1. Unduh dan siapkan datanya. Jelaskan prosedur yang kamu lakukan.\n",
    "2. Latih dan uji model untuk setiap wilayah di `'geo_data_0.csv'`:\n",
    "    * Pisahkan data menjadi training set dan validation set dengan rasio 75:25.\n",
    "    * Latih model dan buat prediksi untuk validation set.\n",
    "    * Simpan prediksi dan jawaban yang benar untuk validation set.\n",
    "    * Tampilkan prediksi volume rata-rata pemesanan dan RMSE dari model.\n",
    "    * Analisis hasilnya.\n",
    "    * Lakukan dan jalankan langkah 1-5 untuk file `'geo_data_1.csv'` dan `'geo_data_2.csv'`.\n",
    "3. Lakukan persiapan untuk menghitung laba:\n",
    "    * Simpan semua nilai yang dibutuhkan untuk perhitungan laba pada variabel terpisah.\n",
    "    * Dengan investasi 100 juta untuk 200 sumur minyak, sebuah sumur minyak rata-rata harus menghasilkan setidaknya 500 ribu USD untuk menghindari kerugian (ini setara dengan 111,1 unit). Bandingkan jumlah ini dengan jumlah rata-rata pemesanan di setiap wilayah.\n",
    "    * Berikan kesimpulan terkait persiapan yang kamu lakukan dalam langkah penghitungan laba.\n",
    "\n",
    "4. Buat sebuah fungsi untuk menghitung laba dari kumpulan sumur minyak terpilih dan prediksi model:\n",
    "    * Tuliskan sebuah fungsi untuk menghitung keuntungan dari sekumpulan sumur minyak terpilih dan prediksi modelnya: Pilih 200 sumur dengan nilai prediksi tertinggi dari masing-masing 3 wilayah (file 'csv').\n",
    "    * Buat rangkuman tentang target volume pemesanan berdasarkan prediksi ini. Simpan prediksi untuk 200 sumur di masing-masing dari 3 wilayah.\n",
    "    * Sampaikan kesimpulanmu: sarankan sebuah wilayah yang cocok untuk pengembangan sumur minyak dan berikan alasan atas pilihanmu. \n",
    "    \n",
    "5. Hitung keuntungan untuk volume pemesanan yang diterima.\n",
    "    * Hitung risiko dan keuntungan untuk setiap wilayah: Dengan menggunakan prediksi yang kamu simpan pada langkah 2 di atas, gunakan teknik bootstrapping dengan 1.000 sampel untuk menemukan distribusi profit.\n",
    "    * Temukan rata-rata profit, interval kepercayaan 95%, dan risiko kerugian. Kerugian adalah keuntungan negatif, hitung sebagai probabilitas dan kemudian nyatakan sebagai persentase.\n",
    "    * Sampaikan kesimpulanmu: sarankan sebuah wilayah yang cocok untuk pengembangan sumur minyak dan berikan alasan atas pilihanmu.\n",
    "    \n",
    "Deskripsi Data\n",
    "\n",
    "Data eksplorasi geologi untuk ketiga wilayah disimpan dalam beberapa file:\n",
    "`geo_data_0.csv`. unduh dataset\n",
    "`geo_data_1.csv`. unduh dataset\n",
    "`geo_data_2.csv`. unduh dataset\n",
    "id — ID unik sumur minyak\n",
    "f0, f1, f2 — tiga fitur titik wilayah (makna spesifiknya sebenarnya tidak penting, tetapi fitur itu sendiri sangat penting) product — volume cadangan di dalam sumur minyak (1 unit = 1.000 barel).\n",
    "\n",
    "Kondisi:\n",
    "1. Hanya regresi linear yang bisa digunakan untuk pelatihan model (sisanya tidak cukup mudah diprediksi).\n",
    "2. Anggaran untuk pengembangan 200 sumur minyak ini adalah 100 juta dolar.\n",
    "3. Satu barel minyak mentah menghasilkan pendapatan sebesar 4,5 dolar. Nah, pendapatan dari satu unit produk adalah $4.500 (volume cadangan ditulis dalam ribuan barel).\n",
    "\n",
    "Setelah kamu menganalisis risiko yang ada, pertahankan hanya wilayah yang memiliki risiko kerugian kurang dari 2,5%. Di antara semua yang sesuai dengan kriteria, kamu harus memilih wilayah dengan keuntungan rata-rata tertinggi."
   ]
  },
  {
   "cell_type": "markdown",
   "metadata": {},
   "source": [
    "## Inisialisasi Data<a id='inisial'></a>"
   ]
  },
  {
   "cell_type": "markdown",
   "metadata": {},
   "source": [
    "memasukkan semua library yang dibutuhkan:"
   ]
  },
  {
   "cell_type": "code",
   "execution_count": 1,
   "metadata": {},
   "outputs": [],
   "source": [
    "# memuat library yang dibutuhkan\n",
    "import pandas as pd\n",
    "import numpy as np\n",
    "import seaborn as sns\n",
    "import matplotlib.pyplot as plt\n",
    "from sklearn.model_selection import train_test_split\n",
    "from sklearn.linear_model import LinearRegression\n",
    "from sklearn.metrics import mean_squared_error\n",
    "\n",
    "# set tema seaborn\n",
    "sns.set_theme(palette='bright')"
   ]
  },
  {
   "cell_type": "markdown",
   "metadata": {},
   "source": [
    "## Mempersiapkan data<a id='prepare'></a>"
   ]
  },
  {
   "cell_type": "markdown",
   "metadata": {},
   "source": [
    "### Dataset `'/datasets/geo_data_0.csv'`"
   ]
  },
  {
   "cell_type": "code",
   "execution_count": 2,
   "metadata": {},
   "outputs": [
    {
     "data": {
      "text/html": [
       "<div>\n",
       "<style scoped>\n",
       "    .dataframe tbody tr th:only-of-type {\n",
       "        vertical-align: middle;\n",
       "    }\n",
       "\n",
       "    .dataframe tbody tr th {\n",
       "        vertical-align: top;\n",
       "    }\n",
       "\n",
       "    .dataframe thead th {\n",
       "        text-align: right;\n",
       "    }\n",
       "</style>\n",
       "<table border=\"1\" class=\"dataframe\">\n",
       "  <thead>\n",
       "    <tr style=\"text-align: right;\">\n",
       "      <th></th>\n",
       "      <th>id</th>\n",
       "      <th>f0</th>\n",
       "      <th>f1</th>\n",
       "      <th>f2</th>\n",
       "      <th>product</th>\n",
       "    </tr>\n",
       "  </thead>\n",
       "  <tbody>\n",
       "    <tr>\n",
       "      <th>0</th>\n",
       "      <td>txEyH</td>\n",
       "      <td>0.705745</td>\n",
       "      <td>-0.497823</td>\n",
       "      <td>1.221170</td>\n",
       "      <td>105.280062</td>\n",
       "    </tr>\n",
       "    <tr>\n",
       "      <th>1</th>\n",
       "      <td>2acmU</td>\n",
       "      <td>1.334711</td>\n",
       "      <td>-0.340164</td>\n",
       "      <td>4.365080</td>\n",
       "      <td>73.037750</td>\n",
       "    </tr>\n",
       "    <tr>\n",
       "      <th>2</th>\n",
       "      <td>409Wp</td>\n",
       "      <td>1.022732</td>\n",
       "      <td>0.151990</td>\n",
       "      <td>1.419926</td>\n",
       "      <td>85.265647</td>\n",
       "    </tr>\n",
       "    <tr>\n",
       "      <th>3</th>\n",
       "      <td>iJLyR</td>\n",
       "      <td>-0.032172</td>\n",
       "      <td>0.139033</td>\n",
       "      <td>2.978566</td>\n",
       "      <td>168.620776</td>\n",
       "    </tr>\n",
       "    <tr>\n",
       "      <th>4</th>\n",
       "      <td>Xdl7t</td>\n",
       "      <td>1.988431</td>\n",
       "      <td>0.155413</td>\n",
       "      <td>4.751769</td>\n",
       "      <td>154.036647</td>\n",
       "    </tr>\n",
       "    <tr>\n",
       "      <th>5</th>\n",
       "      <td>wX4Hy</td>\n",
       "      <td>0.969570</td>\n",
       "      <td>0.489775</td>\n",
       "      <td>-0.735383</td>\n",
       "      <td>64.741541</td>\n",
       "    </tr>\n",
       "    <tr>\n",
       "      <th>6</th>\n",
       "      <td>tL6pL</td>\n",
       "      <td>0.645075</td>\n",
       "      <td>0.530656</td>\n",
       "      <td>1.780266</td>\n",
       "      <td>49.055285</td>\n",
       "    </tr>\n",
       "    <tr>\n",
       "      <th>7</th>\n",
       "      <td>BYPU6</td>\n",
       "      <td>-0.400648</td>\n",
       "      <td>0.808337</td>\n",
       "      <td>-5.624670</td>\n",
       "      <td>72.943292</td>\n",
       "    </tr>\n",
       "    <tr>\n",
       "      <th>8</th>\n",
       "      <td>j9Oui</td>\n",
       "      <td>0.643105</td>\n",
       "      <td>-0.551583</td>\n",
       "      <td>2.372141</td>\n",
       "      <td>113.356160</td>\n",
       "    </tr>\n",
       "    <tr>\n",
       "      <th>9</th>\n",
       "      <td>OLuZU</td>\n",
       "      <td>2.173381</td>\n",
       "      <td>0.563698</td>\n",
       "      <td>9.441852</td>\n",
       "      <td>127.910945</td>\n",
       "    </tr>\n",
       "  </tbody>\n",
       "</table>\n",
       "</div>"
      ],
      "text/plain": [
       "      id        f0        f1        f2     product\n",
       "0  txEyH  0.705745 -0.497823  1.221170  105.280062\n",
       "1  2acmU  1.334711 -0.340164  4.365080   73.037750\n",
       "2  409Wp  1.022732  0.151990  1.419926   85.265647\n",
       "3  iJLyR -0.032172  0.139033  2.978566  168.620776\n",
       "4  Xdl7t  1.988431  0.155413  4.751769  154.036647\n",
       "5  wX4Hy  0.969570  0.489775 -0.735383   64.741541\n",
       "6  tL6pL  0.645075  0.530656  1.780266   49.055285\n",
       "7  BYPU6 -0.400648  0.808337 -5.624670   72.943292\n",
       "8  j9Oui  0.643105 -0.551583  2.372141  113.356160\n",
       "9  OLuZU  2.173381  0.563698  9.441852  127.910945"
      ]
     },
     "execution_count": 2,
     "metadata": {},
     "output_type": "execute_result"
    }
   ],
   "source": [
    "# Mengunduh dan memeriksa data '/datasets/geo_data_0.csv'\n",
    "geo0 = pd.read_csv('/datasets/geo_data_0.csv')\n",
    "geo0.head(10)"
   ]
  },
  {
   "cell_type": "code",
   "execution_count": 3,
   "metadata": {},
   "outputs": [
    {
     "name": "stdout",
     "output_type": "stream",
     "text": [
      "<class 'pandas.core.frame.DataFrame'>\n",
      "RangeIndex: 100000 entries, 0 to 99999\n",
      "Data columns (total 5 columns):\n",
      " #   Column   Non-Null Count   Dtype  \n",
      "---  ------   --------------   -----  \n",
      " 0   id       100000 non-null  object \n",
      " 1   f0       100000 non-null  float64\n",
      " 2   f1       100000 non-null  float64\n",
      " 3   f2       100000 non-null  float64\n",
      " 4   product  100000 non-null  float64\n",
      "dtypes: float64(4), object(1)\n",
      "memory usage: 3.8+ MB\n"
     ]
    }
   ],
   "source": [
    "#memeriksa info umum\n",
    "geo0.info()"
   ]
  },
  {
   "cell_type": "code",
   "execution_count": 4,
   "metadata": {},
   "outputs": [
    {
     "data": {
      "text/plain": [
       "id         0\n",
       "f0         0\n",
       "f1         0\n",
       "f2         0\n",
       "product    0\n",
       "dtype: int64"
      ]
     },
     "execution_count": 4,
     "metadata": {},
     "output_type": "execute_result"
    }
   ],
   "source": [
    "# mengecek nilai yang hilang pada dataset\n",
    "geo0.isna().sum()"
   ]
  },
  {
   "cell_type": "code",
   "execution_count": 5,
   "metadata": {},
   "outputs": [
    {
     "data": {
      "text/plain": [
       "0"
      ]
     },
     "execution_count": 5,
     "metadata": {},
     "output_type": "execute_result"
    }
   ],
   "source": [
    "# mengecek duplikasi pada dataset\n",
    "geo0.duplicated().sum()"
   ]
  },
  {
   "cell_type": "markdown",
   "metadata": {},
   "source": [
    "dataset terdiri dari 5 kolom, `id`, `f0`, `f1`, `f2`, dan `product` dan 100000 data, tipe data sudah benar, tidak ada nilai hilang dan tidak ada duplikasi data.\n",
    "* `id` — ID unik sumur minyak\n",
    "* `f0`, `f1`, `f2` — tiga fitur titik wilayah.\n",
    "* `product` — volume cadangan di dalam sumur minyak (1 unit = 1.000 barel).\n"
   ]
  },
  {
   "cell_type": "code",
   "execution_count": 6,
   "metadata": {},
   "outputs": [
    {
     "data": {
      "text/html": [
       "<div>\n",
       "<style scoped>\n",
       "    .dataframe tbody tr th:only-of-type {\n",
       "        vertical-align: middle;\n",
       "    }\n",
       "\n",
       "    .dataframe tbody tr th {\n",
       "        vertical-align: top;\n",
       "    }\n",
       "\n",
       "    .dataframe thead th {\n",
       "        text-align: right;\n",
       "    }\n",
       "</style>\n",
       "<table border=\"1\" class=\"dataframe\">\n",
       "  <thead>\n",
       "    <tr style=\"text-align: right;\">\n",
       "      <th></th>\n",
       "      <th>f0</th>\n",
       "      <th>f1</th>\n",
       "      <th>f2</th>\n",
       "      <th>product</th>\n",
       "    </tr>\n",
       "  </thead>\n",
       "  <tbody>\n",
       "    <tr>\n",
       "      <th>count</th>\n",
       "      <td>100000.000000</td>\n",
       "      <td>100000.000000</td>\n",
       "      <td>100000.000000</td>\n",
       "      <td>100000.000000</td>\n",
       "    </tr>\n",
       "    <tr>\n",
       "      <th>mean</th>\n",
       "      <td>0.500419</td>\n",
       "      <td>0.250143</td>\n",
       "      <td>2.502647</td>\n",
       "      <td>92.500000</td>\n",
       "    </tr>\n",
       "    <tr>\n",
       "      <th>std</th>\n",
       "      <td>0.871832</td>\n",
       "      <td>0.504433</td>\n",
       "      <td>3.248248</td>\n",
       "      <td>44.288691</td>\n",
       "    </tr>\n",
       "    <tr>\n",
       "      <th>min</th>\n",
       "      <td>-1.408605</td>\n",
       "      <td>-0.848218</td>\n",
       "      <td>-12.088328</td>\n",
       "      <td>0.000000</td>\n",
       "    </tr>\n",
       "    <tr>\n",
       "      <th>25%</th>\n",
       "      <td>-0.072580</td>\n",
       "      <td>-0.200881</td>\n",
       "      <td>0.287748</td>\n",
       "      <td>56.497507</td>\n",
       "    </tr>\n",
       "    <tr>\n",
       "      <th>50%</th>\n",
       "      <td>0.502360</td>\n",
       "      <td>0.250252</td>\n",
       "      <td>2.515969</td>\n",
       "      <td>91.849972</td>\n",
       "    </tr>\n",
       "    <tr>\n",
       "      <th>75%</th>\n",
       "      <td>1.073581</td>\n",
       "      <td>0.700646</td>\n",
       "      <td>4.715088</td>\n",
       "      <td>128.564089</td>\n",
       "    </tr>\n",
       "    <tr>\n",
       "      <th>max</th>\n",
       "      <td>2.362331</td>\n",
       "      <td>1.343769</td>\n",
       "      <td>16.003790</td>\n",
       "      <td>185.364347</td>\n",
       "    </tr>\n",
       "  </tbody>\n",
       "</table>\n",
       "</div>"
      ],
      "text/plain": [
       "                  f0             f1             f2        product\n",
       "count  100000.000000  100000.000000  100000.000000  100000.000000\n",
       "mean        0.500419       0.250143       2.502647      92.500000\n",
       "std         0.871832       0.504433       3.248248      44.288691\n",
       "min        -1.408605      -0.848218     -12.088328       0.000000\n",
       "25%        -0.072580      -0.200881       0.287748      56.497507\n",
       "50%         0.502360       0.250252       2.515969      91.849972\n",
       "75%         1.073581       0.700646       4.715088     128.564089\n",
       "max         2.362331       1.343769      16.003790     185.364347"
      ]
     },
     "execution_count": 6,
     "metadata": {},
     "output_type": "execute_result"
    }
   ],
   "source": [
    "#informasi umum tambahan\n",
    "geo0.describe()"
   ]
  },
  {
   "cell_type": "markdown",
   "metadata": {},
   "source": [
    "### Dataset `'/datasets/geo_data_1.csv'`"
   ]
  },
  {
   "cell_type": "code",
   "execution_count": 7,
   "metadata": {},
   "outputs": [
    {
     "data": {
      "text/html": [
       "<div>\n",
       "<style scoped>\n",
       "    .dataframe tbody tr th:only-of-type {\n",
       "        vertical-align: middle;\n",
       "    }\n",
       "\n",
       "    .dataframe tbody tr th {\n",
       "        vertical-align: top;\n",
       "    }\n",
       "\n",
       "    .dataframe thead th {\n",
       "        text-align: right;\n",
       "    }\n",
       "</style>\n",
       "<table border=\"1\" class=\"dataframe\">\n",
       "  <thead>\n",
       "    <tr style=\"text-align: right;\">\n",
       "      <th></th>\n",
       "      <th>id</th>\n",
       "      <th>f0</th>\n",
       "      <th>f1</th>\n",
       "      <th>f2</th>\n",
       "      <th>product</th>\n",
       "    </tr>\n",
       "  </thead>\n",
       "  <tbody>\n",
       "    <tr>\n",
       "      <th>0</th>\n",
       "      <td>kBEdx</td>\n",
       "      <td>-15.001348</td>\n",
       "      <td>-8.276000</td>\n",
       "      <td>-0.005876</td>\n",
       "      <td>3.179103</td>\n",
       "    </tr>\n",
       "    <tr>\n",
       "      <th>1</th>\n",
       "      <td>62mP7</td>\n",
       "      <td>14.272088</td>\n",
       "      <td>-3.475083</td>\n",
       "      <td>0.999183</td>\n",
       "      <td>26.953261</td>\n",
       "    </tr>\n",
       "    <tr>\n",
       "      <th>2</th>\n",
       "      <td>vyE1P</td>\n",
       "      <td>6.263187</td>\n",
       "      <td>-5.948386</td>\n",
       "      <td>5.001160</td>\n",
       "      <td>134.766305</td>\n",
       "    </tr>\n",
       "    <tr>\n",
       "      <th>3</th>\n",
       "      <td>KcrkZ</td>\n",
       "      <td>-13.081196</td>\n",
       "      <td>-11.506057</td>\n",
       "      <td>4.999415</td>\n",
       "      <td>137.945408</td>\n",
       "    </tr>\n",
       "    <tr>\n",
       "      <th>4</th>\n",
       "      <td>AHL4O</td>\n",
       "      <td>12.702195</td>\n",
       "      <td>-8.147433</td>\n",
       "      <td>5.004363</td>\n",
       "      <td>134.766305</td>\n",
       "    </tr>\n",
       "    <tr>\n",
       "      <th>5</th>\n",
       "      <td>HHckp</td>\n",
       "      <td>-3.327590</td>\n",
       "      <td>-2.205276</td>\n",
       "      <td>3.003647</td>\n",
       "      <td>84.038886</td>\n",
       "    </tr>\n",
       "    <tr>\n",
       "      <th>6</th>\n",
       "      <td>h5Ujo</td>\n",
       "      <td>-11.142655</td>\n",
       "      <td>-10.133399</td>\n",
       "      <td>4.002382</td>\n",
       "      <td>110.992147</td>\n",
       "    </tr>\n",
       "    <tr>\n",
       "      <th>7</th>\n",
       "      <td>muH9x</td>\n",
       "      <td>4.234715</td>\n",
       "      <td>-0.001354</td>\n",
       "      <td>2.004588</td>\n",
       "      <td>53.906522</td>\n",
       "    </tr>\n",
       "    <tr>\n",
       "      <th>8</th>\n",
       "      <td>YiRkx</td>\n",
       "      <td>13.355129</td>\n",
       "      <td>-0.332068</td>\n",
       "      <td>4.998647</td>\n",
       "      <td>134.766305</td>\n",
       "    </tr>\n",
       "    <tr>\n",
       "      <th>9</th>\n",
       "      <td>jG6Gi</td>\n",
       "      <td>1.069227</td>\n",
       "      <td>-11.025667</td>\n",
       "      <td>4.997844</td>\n",
       "      <td>137.945408</td>\n",
       "    </tr>\n",
       "  </tbody>\n",
       "</table>\n",
       "</div>"
      ],
      "text/plain": [
       "      id         f0         f1        f2     product\n",
       "0  kBEdx -15.001348  -8.276000 -0.005876    3.179103\n",
       "1  62mP7  14.272088  -3.475083  0.999183   26.953261\n",
       "2  vyE1P   6.263187  -5.948386  5.001160  134.766305\n",
       "3  KcrkZ -13.081196 -11.506057  4.999415  137.945408\n",
       "4  AHL4O  12.702195  -8.147433  5.004363  134.766305\n",
       "5  HHckp  -3.327590  -2.205276  3.003647   84.038886\n",
       "6  h5Ujo -11.142655 -10.133399  4.002382  110.992147\n",
       "7  muH9x   4.234715  -0.001354  2.004588   53.906522\n",
       "8  YiRkx  13.355129  -0.332068  4.998647  134.766305\n",
       "9  jG6Gi   1.069227 -11.025667  4.997844  137.945408"
      ]
     },
     "execution_count": 7,
     "metadata": {},
     "output_type": "execute_result"
    }
   ],
   "source": [
    "# Mengunduh dan memeriksa data '/datasets/geo_data_1.csv'\n",
    "geo1 = pd.read_csv('/datasets/geo_data_1.csv')\n",
    "geo1.head(10)"
   ]
  },
  {
   "cell_type": "code",
   "execution_count": 8,
   "metadata": {},
   "outputs": [
    {
     "name": "stdout",
     "output_type": "stream",
     "text": [
      "<class 'pandas.core.frame.DataFrame'>\n",
      "RangeIndex: 100000 entries, 0 to 99999\n",
      "Data columns (total 5 columns):\n",
      " #   Column   Non-Null Count   Dtype  \n",
      "---  ------   --------------   -----  \n",
      " 0   id       100000 non-null  object \n",
      " 1   f0       100000 non-null  float64\n",
      " 2   f1       100000 non-null  float64\n",
      " 3   f2       100000 non-null  float64\n",
      " 4   product  100000 non-null  float64\n",
      "dtypes: float64(4), object(1)\n",
      "memory usage: 3.8+ MB\n"
     ]
    }
   ],
   "source": [
    "#memeriksa info umum\n",
    "geo1.info()"
   ]
  },
  {
   "cell_type": "code",
   "execution_count": 9,
   "metadata": {},
   "outputs": [
    {
     "data": {
      "text/plain": [
       "id         0\n",
       "f0         0\n",
       "f1         0\n",
       "f2         0\n",
       "product    0\n",
       "dtype: int64"
      ]
     },
     "execution_count": 9,
     "metadata": {},
     "output_type": "execute_result"
    }
   ],
   "source": [
    "# mengecek nilai yang hilang pada dataset\n",
    "geo1.isna().sum()"
   ]
  },
  {
   "cell_type": "code",
   "execution_count": 10,
   "metadata": {},
   "outputs": [
    {
     "data": {
      "text/plain": [
       "0"
      ]
     },
     "execution_count": 10,
     "metadata": {},
     "output_type": "execute_result"
    }
   ],
   "source": [
    "# mengecek duplikasi pada dataset\n",
    "geo1.duplicated().sum()"
   ]
  },
  {
   "cell_type": "markdown",
   "metadata": {},
   "source": [
    "dataset terdiri dari 5 kolom, `id`, `f0`, `f1`, `f2`, dan `product` dan 100000 data, tipe data sudah benar, tidak ada nilai hilang dan tidak ada duplikasi data.\n",
    "* `id` — ID unik sumur minyak\n",
    "* `f0`, `f1`, `f2` — tiga fitur titik wilayah.\n",
    "* `product` — volume cadangan di dalam sumur minyak (1 unit = 1.000 barel).\n"
   ]
  },
  {
   "cell_type": "code",
   "execution_count": 11,
   "metadata": {},
   "outputs": [
    {
     "data": {
      "text/html": [
       "<div>\n",
       "<style scoped>\n",
       "    .dataframe tbody tr th:only-of-type {\n",
       "        vertical-align: middle;\n",
       "    }\n",
       "\n",
       "    .dataframe tbody tr th {\n",
       "        vertical-align: top;\n",
       "    }\n",
       "\n",
       "    .dataframe thead th {\n",
       "        text-align: right;\n",
       "    }\n",
       "</style>\n",
       "<table border=\"1\" class=\"dataframe\">\n",
       "  <thead>\n",
       "    <tr style=\"text-align: right;\">\n",
       "      <th></th>\n",
       "      <th>f0</th>\n",
       "      <th>f1</th>\n",
       "      <th>f2</th>\n",
       "      <th>product</th>\n",
       "    </tr>\n",
       "  </thead>\n",
       "  <tbody>\n",
       "    <tr>\n",
       "      <th>count</th>\n",
       "      <td>100000.000000</td>\n",
       "      <td>100000.000000</td>\n",
       "      <td>100000.000000</td>\n",
       "      <td>100000.000000</td>\n",
       "    </tr>\n",
       "    <tr>\n",
       "      <th>mean</th>\n",
       "      <td>1.141296</td>\n",
       "      <td>-4.796579</td>\n",
       "      <td>2.494541</td>\n",
       "      <td>68.825000</td>\n",
       "    </tr>\n",
       "    <tr>\n",
       "      <th>std</th>\n",
       "      <td>8.965932</td>\n",
       "      <td>5.119872</td>\n",
       "      <td>1.703572</td>\n",
       "      <td>45.944423</td>\n",
       "    </tr>\n",
       "    <tr>\n",
       "      <th>min</th>\n",
       "      <td>-31.609576</td>\n",
       "      <td>-26.358598</td>\n",
       "      <td>-0.018144</td>\n",
       "      <td>0.000000</td>\n",
       "    </tr>\n",
       "    <tr>\n",
       "      <th>25%</th>\n",
       "      <td>-6.298551</td>\n",
       "      <td>-8.267985</td>\n",
       "      <td>1.000021</td>\n",
       "      <td>26.953261</td>\n",
       "    </tr>\n",
       "    <tr>\n",
       "      <th>50%</th>\n",
       "      <td>1.153055</td>\n",
       "      <td>-4.813172</td>\n",
       "      <td>2.011479</td>\n",
       "      <td>57.085625</td>\n",
       "    </tr>\n",
       "    <tr>\n",
       "      <th>75%</th>\n",
       "      <td>8.621015</td>\n",
       "      <td>-1.332816</td>\n",
       "      <td>3.999904</td>\n",
       "      <td>107.813044</td>\n",
       "    </tr>\n",
       "    <tr>\n",
       "      <th>max</th>\n",
       "      <td>29.421755</td>\n",
       "      <td>18.734063</td>\n",
       "      <td>5.019721</td>\n",
       "      <td>137.945408</td>\n",
       "    </tr>\n",
       "  </tbody>\n",
       "</table>\n",
       "</div>"
      ],
      "text/plain": [
       "                  f0             f1             f2        product\n",
       "count  100000.000000  100000.000000  100000.000000  100000.000000\n",
       "mean        1.141296      -4.796579       2.494541      68.825000\n",
       "std         8.965932       5.119872       1.703572      45.944423\n",
       "min       -31.609576     -26.358598      -0.018144       0.000000\n",
       "25%        -6.298551      -8.267985       1.000021      26.953261\n",
       "50%         1.153055      -4.813172       2.011479      57.085625\n",
       "75%         8.621015      -1.332816       3.999904     107.813044\n",
       "max        29.421755      18.734063       5.019721     137.945408"
      ]
     },
     "execution_count": 11,
     "metadata": {},
     "output_type": "execute_result"
    }
   ],
   "source": [
    "#informasi umum tambahan\n",
    "geo1.describe()"
   ]
  },
  {
   "cell_type": "markdown",
   "metadata": {},
   "source": [
    "### Dataset `'/datasets/geo_data_2.csv'`"
   ]
  },
  {
   "cell_type": "code",
   "execution_count": 12,
   "metadata": {},
   "outputs": [
    {
     "data": {
      "text/html": [
       "<div>\n",
       "<style scoped>\n",
       "    .dataframe tbody tr th:only-of-type {\n",
       "        vertical-align: middle;\n",
       "    }\n",
       "\n",
       "    .dataframe tbody tr th {\n",
       "        vertical-align: top;\n",
       "    }\n",
       "\n",
       "    .dataframe thead th {\n",
       "        text-align: right;\n",
       "    }\n",
       "</style>\n",
       "<table border=\"1\" class=\"dataframe\">\n",
       "  <thead>\n",
       "    <tr style=\"text-align: right;\">\n",
       "      <th></th>\n",
       "      <th>id</th>\n",
       "      <th>f0</th>\n",
       "      <th>f1</th>\n",
       "      <th>f2</th>\n",
       "      <th>product</th>\n",
       "    </tr>\n",
       "  </thead>\n",
       "  <tbody>\n",
       "    <tr>\n",
       "      <th>0</th>\n",
       "      <td>fwXo0</td>\n",
       "      <td>-1.146987</td>\n",
       "      <td>0.963328</td>\n",
       "      <td>-0.828965</td>\n",
       "      <td>27.758673</td>\n",
       "    </tr>\n",
       "    <tr>\n",
       "      <th>1</th>\n",
       "      <td>WJtFt</td>\n",
       "      <td>0.262778</td>\n",
       "      <td>0.269839</td>\n",
       "      <td>-2.530187</td>\n",
       "      <td>56.069697</td>\n",
       "    </tr>\n",
       "    <tr>\n",
       "      <th>2</th>\n",
       "      <td>ovLUW</td>\n",
       "      <td>0.194587</td>\n",
       "      <td>0.289035</td>\n",
       "      <td>-5.586433</td>\n",
       "      <td>62.871910</td>\n",
       "    </tr>\n",
       "    <tr>\n",
       "      <th>3</th>\n",
       "      <td>q6cA6</td>\n",
       "      <td>2.236060</td>\n",
       "      <td>-0.553760</td>\n",
       "      <td>0.930038</td>\n",
       "      <td>114.572842</td>\n",
       "    </tr>\n",
       "    <tr>\n",
       "      <th>4</th>\n",
       "      <td>WPMUX</td>\n",
       "      <td>-0.515993</td>\n",
       "      <td>1.716266</td>\n",
       "      <td>5.899011</td>\n",
       "      <td>149.600746</td>\n",
       "    </tr>\n",
       "    <tr>\n",
       "      <th>5</th>\n",
       "      <td>LzZXx</td>\n",
       "      <td>-0.758092</td>\n",
       "      <td>0.710691</td>\n",
       "      <td>2.585887</td>\n",
       "      <td>90.222465</td>\n",
       "    </tr>\n",
       "    <tr>\n",
       "      <th>6</th>\n",
       "      <td>WBHRv</td>\n",
       "      <td>-0.574891</td>\n",
       "      <td>0.317727</td>\n",
       "      <td>1.773745</td>\n",
       "      <td>45.641478</td>\n",
       "    </tr>\n",
       "    <tr>\n",
       "      <th>7</th>\n",
       "      <td>XO8fn</td>\n",
       "      <td>-1.906649</td>\n",
       "      <td>-2.458350</td>\n",
       "      <td>-0.177097</td>\n",
       "      <td>72.480640</td>\n",
       "    </tr>\n",
       "    <tr>\n",
       "      <th>8</th>\n",
       "      <td>ybmQ5</td>\n",
       "      <td>1.776292</td>\n",
       "      <td>-0.279356</td>\n",
       "      <td>3.004156</td>\n",
       "      <td>106.616832</td>\n",
       "    </tr>\n",
       "    <tr>\n",
       "      <th>9</th>\n",
       "      <td>OilcN</td>\n",
       "      <td>-1.214452</td>\n",
       "      <td>-0.439314</td>\n",
       "      <td>5.922514</td>\n",
       "      <td>52.954532</td>\n",
       "    </tr>\n",
       "  </tbody>\n",
       "</table>\n",
       "</div>"
      ],
      "text/plain": [
       "      id        f0        f1        f2     product\n",
       "0  fwXo0 -1.146987  0.963328 -0.828965   27.758673\n",
       "1  WJtFt  0.262778  0.269839 -2.530187   56.069697\n",
       "2  ovLUW  0.194587  0.289035 -5.586433   62.871910\n",
       "3  q6cA6  2.236060 -0.553760  0.930038  114.572842\n",
       "4  WPMUX -0.515993  1.716266  5.899011  149.600746\n",
       "5  LzZXx -0.758092  0.710691  2.585887   90.222465\n",
       "6  WBHRv -0.574891  0.317727  1.773745   45.641478\n",
       "7  XO8fn -1.906649 -2.458350 -0.177097   72.480640\n",
       "8  ybmQ5  1.776292 -0.279356  3.004156  106.616832\n",
       "9  OilcN -1.214452 -0.439314  5.922514   52.954532"
      ]
     },
     "execution_count": 12,
     "metadata": {},
     "output_type": "execute_result"
    }
   ],
   "source": [
    "# Mengunduh dan memeriksa data '/datasets/geo_data_2.csv'\n",
    "geo2 = pd.read_csv('/datasets/geo_data_2.csv')\n",
    "geo2.head(10)"
   ]
  },
  {
   "cell_type": "code",
   "execution_count": 13,
   "metadata": {},
   "outputs": [
    {
     "name": "stdout",
     "output_type": "stream",
     "text": [
      "<class 'pandas.core.frame.DataFrame'>\n",
      "RangeIndex: 100000 entries, 0 to 99999\n",
      "Data columns (total 5 columns):\n",
      " #   Column   Non-Null Count   Dtype  \n",
      "---  ------   --------------   -----  \n",
      " 0   id       100000 non-null  object \n",
      " 1   f0       100000 non-null  float64\n",
      " 2   f1       100000 non-null  float64\n",
      " 3   f2       100000 non-null  float64\n",
      " 4   product  100000 non-null  float64\n",
      "dtypes: float64(4), object(1)\n",
      "memory usage: 3.8+ MB\n"
     ]
    }
   ],
   "source": [
    "#memeriksa info umum\n",
    "geo2.info()"
   ]
  },
  {
   "cell_type": "code",
   "execution_count": 14,
   "metadata": {},
   "outputs": [
    {
     "data": {
      "text/plain": [
       "id         0\n",
       "f0         0\n",
       "f1         0\n",
       "f2         0\n",
       "product    0\n",
       "dtype: int64"
      ]
     },
     "execution_count": 14,
     "metadata": {},
     "output_type": "execute_result"
    }
   ],
   "source": [
    "# mengecek nilai yang hilang pada dataset\n",
    "geo2.isna().sum()"
   ]
  },
  {
   "cell_type": "code",
   "execution_count": 15,
   "metadata": {},
   "outputs": [
    {
     "data": {
      "text/plain": [
       "0"
      ]
     },
     "execution_count": 15,
     "metadata": {},
     "output_type": "execute_result"
    }
   ],
   "source": [
    "# mengecek duplikasi pada dataset\n",
    "geo2.duplicated().sum()"
   ]
  },
  {
   "cell_type": "markdown",
   "metadata": {},
   "source": [
    "dataset terdiri dari 5 kolom, `id`, `f0`, `f1`, `f2`, dan `product` dan 100000 data, tipe data sudah benar, tidak ada nilai hilang dan tidak ada duplikasi data.\n",
    "* `id` — ID unik sumur minyak\n",
    "* `f0`, `f1`, `f2` — tiga fitur titik wilayah.\n",
    "* `product` — volume cadangan di dalam sumur minyak (1 unit = 1.000 barel).\n"
   ]
  },
  {
   "cell_type": "code",
   "execution_count": 16,
   "metadata": {},
   "outputs": [
    {
     "data": {
      "text/html": [
       "<div>\n",
       "<style scoped>\n",
       "    .dataframe tbody tr th:only-of-type {\n",
       "        vertical-align: middle;\n",
       "    }\n",
       "\n",
       "    .dataframe tbody tr th {\n",
       "        vertical-align: top;\n",
       "    }\n",
       "\n",
       "    .dataframe thead th {\n",
       "        text-align: right;\n",
       "    }\n",
       "</style>\n",
       "<table border=\"1\" class=\"dataframe\">\n",
       "  <thead>\n",
       "    <tr style=\"text-align: right;\">\n",
       "      <th></th>\n",
       "      <th>f0</th>\n",
       "      <th>f1</th>\n",
       "      <th>f2</th>\n",
       "      <th>product</th>\n",
       "    </tr>\n",
       "  </thead>\n",
       "  <tbody>\n",
       "    <tr>\n",
       "      <th>count</th>\n",
       "      <td>100000.000000</td>\n",
       "      <td>100000.000000</td>\n",
       "      <td>100000.000000</td>\n",
       "      <td>100000.000000</td>\n",
       "    </tr>\n",
       "    <tr>\n",
       "      <th>mean</th>\n",
       "      <td>0.002023</td>\n",
       "      <td>-0.002081</td>\n",
       "      <td>2.495128</td>\n",
       "      <td>95.000000</td>\n",
       "    </tr>\n",
       "    <tr>\n",
       "      <th>std</th>\n",
       "      <td>1.732045</td>\n",
       "      <td>1.730417</td>\n",
       "      <td>3.473445</td>\n",
       "      <td>44.749921</td>\n",
       "    </tr>\n",
       "    <tr>\n",
       "      <th>min</th>\n",
       "      <td>-8.760004</td>\n",
       "      <td>-7.084020</td>\n",
       "      <td>-11.970335</td>\n",
       "      <td>0.000000</td>\n",
       "    </tr>\n",
       "    <tr>\n",
       "      <th>25%</th>\n",
       "      <td>-1.162288</td>\n",
       "      <td>-1.174820</td>\n",
       "      <td>0.130359</td>\n",
       "      <td>59.450441</td>\n",
       "    </tr>\n",
       "    <tr>\n",
       "      <th>50%</th>\n",
       "      <td>0.009424</td>\n",
       "      <td>-0.009482</td>\n",
       "      <td>2.484236</td>\n",
       "      <td>94.925613</td>\n",
       "    </tr>\n",
       "    <tr>\n",
       "      <th>75%</th>\n",
       "      <td>1.158535</td>\n",
       "      <td>1.163678</td>\n",
       "      <td>4.858794</td>\n",
       "      <td>130.595027</td>\n",
       "    </tr>\n",
       "    <tr>\n",
       "      <th>max</th>\n",
       "      <td>7.238262</td>\n",
       "      <td>7.844801</td>\n",
       "      <td>16.739402</td>\n",
       "      <td>190.029838</td>\n",
       "    </tr>\n",
       "  </tbody>\n",
       "</table>\n",
       "</div>"
      ],
      "text/plain": [
       "                  f0             f1             f2        product\n",
       "count  100000.000000  100000.000000  100000.000000  100000.000000\n",
       "mean        0.002023      -0.002081       2.495128      95.000000\n",
       "std         1.732045       1.730417       3.473445      44.749921\n",
       "min        -8.760004      -7.084020     -11.970335       0.000000\n",
       "25%        -1.162288      -1.174820       0.130359      59.450441\n",
       "50%         0.009424      -0.009482       2.484236      94.925613\n",
       "75%         1.158535       1.163678       4.858794     130.595027\n",
       "max         7.238262       7.844801      16.739402     190.029838"
      ]
     },
     "execution_count": 16,
     "metadata": {},
     "output_type": "execute_result"
    }
   ],
   "source": [
    "#informasi umum tambahan\n",
    "geo2.describe()"
   ]
  },
  {
   "cell_type": "markdown",
   "metadata": {},
   "source": [
    "**Kesimpulan:**\n",
    "ketiga dataset terdiri dari 5 kolom, `id`, `f0`, `f1`, `f2`, dan `product` dan 100000 data, tipe data sudah benar, tidak ada nilai hilang dan tidak ada duplikasi data. jadi tidak perlu penanganan lanjutan dan bisa langsung ke proses selanjutnya."
   ]
  },
  {
   "cell_type": "markdown",
   "metadata": {},
   "source": [
    "## Melatih dan menguji model<a id='traintest'></a>"
   ]
  },
  {
   "cell_type": "markdown",
   "metadata": {},
   "source": [
    "### Memisahkan dataset"
   ]
  },
  {
   "cell_type": "markdown",
   "metadata": {},
   "source": [
    "dataset akan dipisahkan menjadi `75:25` antara `training set` dan `validation set`"
   ]
  },
  {
   "cell_type": "code",
   "execution_count": 17,
   "metadata": {},
   "outputs": [],
   "source": [
    "#fungsi pemisahan dataset\n",
    "def prepare_datasets(geo_df):\n",
    "    features = geo_df.drop(['product', 'id'], axis=1)\n",
    "    target = geo_df['product']\n",
    "    features_train, features_valid, target_train, target_valid = train_test_split(features, target, test_size=0.25, random_state=12345)\n",
    "    return features_train, features_valid, target_train, target_valid"
   ]
  },
  {
   "cell_type": "markdown",
   "metadata": {},
   "source": [
    "fungsi ini akan membantu untuk memisahkan dataset selanjutnya"
   ]
  },
  {
   "cell_type": "markdown",
   "metadata": {},
   "source": [
    "### Model `geo0`"
   ]
  },
  {
   "cell_type": "code",
   "execution_count": 18,
   "metadata": {},
   "outputs": [
    {
     "name": "stdout",
     "output_type": "stream",
     "text": [
      "Training set (Geo0): (75000, 3) (75000,)\n",
      "Validation set (Geo0): (25000, 3) (25000,)\n"
     ]
    }
   ],
   "source": [
    "# memisahkan dataset geo0\n",
    "features_train_geo0, features_valid_geo0, target_train_geo0, target_valid_geo0 = prepare_datasets(geo0)\n",
    "\n",
    "# Menampilkan bentuk dari masing-masing set untuk geo0\n",
    "print('Training set (Geo0):', features_train_geo0.shape, target_train_geo0.shape)\n",
    "print('Validation set (Geo0):', features_valid_geo0.shape, target_valid_geo0.shape)"
   ]
  },
  {
   "cell_type": "markdown",
   "metadata": {},
   "source": [
    "dataset `geo0` sudah dibagi menjadi `75:25` antara `training set` dan `validation set`"
   ]
  },
  {
   "cell_type": "code",
   "execution_count": 19,
   "metadata": {},
   "outputs": [],
   "source": [
    "# membuat fungsi untuk menghitung rata-rata prediksi volume minyak beserta RMSE model\n",
    "def oil_pred(feature_train,feature_valid,target_train,target_valid):\n",
    "    # membuat model regresi linier\n",
    "    model = LinearRegression()\n",
    "    # melatih model menggunakan dataset training\n",
    "    model.fit(feature_train,target_train)\n",
    "    # memprediksi rata-rata volume minyak\n",
    "    vol = model.predict(feature_valid)\n",
    "    # menghitung RMSE\n",
    "    rmse = mean_squared_error(target_valid,vol)**0.5\n",
    "    # mengembalikan nilai volume minyak dan nilai RMSE\n",
    "    return vol, rmse"
   ]
  },
  {
   "cell_type": "code",
   "execution_count": 20,
   "metadata": {},
   "outputs": [
    {
     "name": "stdout",
     "output_type": "stream",
     "text": [
      "Rata-rata volume minyak --> 92.59 ribu barel\n",
      "RMSE --> 37.58 ribu barel\n"
     ]
    }
   ],
   "source": [
    "# menghitung estimasi prediksi rata-rata volume minyak dan nilai RMSEnya untuk dataset geo0\n",
    "vol_0, rmse_0 = oil_pred(features_train_geo0, features_valid_geo0, target_train_geo0, target_valid_geo0)\n",
    "print('Rata-rata volume minyak -->', round(vol_0.mean(),2),'ribu barel')\n",
    "print('RMSE -->', round(rmse_0,2),'ribu barel')"
   ]
  },
  {
   "cell_type": "markdown",
   "metadata": {},
   "source": [
    "Rata-rata volume minyak pada wilayah `geo0` adalah `92.59` ribu barel dengan `RSME` `37.58` ribu barel"
   ]
  },
  {
   "cell_type": "markdown",
   "metadata": {},
   "source": [
    "### Model `geo1`"
   ]
  },
  {
   "cell_type": "code",
   "execution_count": 21,
   "metadata": {},
   "outputs": [
    {
     "name": "stdout",
     "output_type": "stream",
     "text": [
      "Training set (Geo1): (75000, 3) (75000,)\n",
      "Validation set (Geo1): (25000, 3) (25000,)\n"
     ]
    }
   ],
   "source": [
    "# memisahkan dataset geo1\n",
    "features_train_geo1, features_valid_geo1, target_train_geo1, target_valid_geo1 = prepare_datasets(geo1)\n",
    "\n",
    "# Menampilkan bentuk dari masing-masing set untuk geo0\n",
    "print('Training set (Geo1):', features_train_geo1.shape, target_train_geo1.shape)\n",
    "print('Validation set (Geo1):', features_valid_geo1.shape, target_valid_geo1.shape)"
   ]
  },
  {
   "cell_type": "markdown",
   "metadata": {},
   "source": [
    "dataset `geo1` sudah dibagi menjadi `75:25` antara `training set` dan `validation set`"
   ]
  },
  {
   "cell_type": "code",
   "execution_count": 22,
   "metadata": {},
   "outputs": [
    {
     "name": "stdout",
     "output_type": "stream",
     "text": [
      "Rata-rata volume minyak --> 68.73 ribu barel\n",
      "RMSE --> 0.89 ribu barel\n"
     ]
    }
   ],
   "source": [
    "# menghitung estimasi prediksi rata-rata volume minyak dan nilai RMSEnya untuk dataset geo1\n",
    "vol_1, rmse_1 = oil_pred(features_train_geo1, features_valid_geo1, target_train_geo1, target_valid_geo1)\n",
    "print('Rata-rata volume minyak -->', round(vol_1.mean(),2),'ribu barel')\n",
    "print('RMSE -->', round(rmse_1,2),'ribu barel')"
   ]
  },
  {
   "cell_type": "markdown",
   "metadata": {},
   "source": [
    "Rata-rata volume minyak pada wilayah `geo1` adalah `68.73` ribu barel dengan `RSME` `0.89` ribu barel. wilayah ini memberikan nilai `RSME` terbaik dan terendah dibandingkan dengan wilayah lain."
   ]
  },
  {
   "cell_type": "markdown",
   "metadata": {},
   "source": [
    "### Model `geo2`"
   ]
  },
  {
   "cell_type": "code",
   "execution_count": 23,
   "metadata": {},
   "outputs": [
    {
     "name": "stdout",
     "output_type": "stream",
     "text": [
      "Training set (Geo2): (75000, 3) (75000,)\n",
      "Validation set (Geo2): (25000, 3) (25000,)\n"
     ]
    }
   ],
   "source": [
    "# memisahkan dataset geo2\n",
    "features_train_geo2, features_valid_geo2, target_train_geo2, target_valid_geo2 = prepare_datasets(geo2)\n",
    "\n",
    "# Menampilkan bentuk dari masing-masing set untuk geo0\n",
    "print('Training set (Geo2):', features_train_geo2.shape, target_train_geo2.shape)\n",
    "print('Validation set (Geo2):', features_valid_geo2.shape, target_valid_geo2.shape)"
   ]
  },
  {
   "cell_type": "markdown",
   "metadata": {},
   "source": [
    "dataset `geo2` sudah dibagi menjadi `75:25` antara `training set` dan `validation set`"
   ]
  },
  {
   "cell_type": "code",
   "execution_count": 24,
   "metadata": {},
   "outputs": [
    {
     "name": "stdout",
     "output_type": "stream",
     "text": [
      "Rata-rata volume minyak --> 94.97 ribu barel\n",
      "RMSE --> 40.03 ribu barel\n"
     ]
    }
   ],
   "source": [
    "# menghitung estimasi prediksi rata-rata volume minyak dan nilai RMSEnya untuk dataset geo2\n",
    "vol_2, rmse_2 = oil_pred(features_train_geo2, features_valid_geo2, target_train_geo2, target_valid_geo2)\n",
    "print('Rata-rata volume minyak -->', round(vol_2.mean(),2),'ribu barel')\n",
    "print('RMSE -->', round(rmse_2,2),'ribu barel')"
   ]
  },
  {
   "cell_type": "markdown",
   "metadata": {},
   "source": [
    "Rata-rata volume minyak pada wilayah `geo2` adalah `94.97` ribu barel dengan `RSME` `40.03` ribu barel. ini adalah wilayah  dengan rata-rata volume minyak tertinggi dibandingkan dengan wilayah lainnya. akan tetapi nilai `RSME` nya juga paling tinggi."
   ]
  },
  {
   "cell_type": "markdown",
   "metadata": {},
   "source": [
    "**Kesimpulan:**\n",
    "wilayah `geo2` memiliki rata-rata volume minyak terbanyak dan `RSME` tertinggi berarti akurasi wilayah ini cukup rendah walaupunmenghasilkan produksi yang banyak. akan tetapi wilayah `geo1` memiliki rata-rata volume terendah dan `RSME` terendah pula, berarti tingkat akurasinya lebih baik dibandingkan dengan `geo2`"
   ]
  },
  {
   "cell_type": "markdown",
   "metadata": {},
   "source": [
    "## Menghitung Laba<a id='laba'></a>"
   ]
  },
  {
   "cell_type": "markdown",
   "metadata": {},
   "source": [
    "Berikut ini merupakan variabel penting dalam bisnis `OilyGiant` yaitu modal `investasi`, `jumlah target lokasi titik`, `harga minyak per barel`. Kita akan memperjelasnya kedalam beberapa poin:\n",
    "* Berapa produksi dalam ribuan barel tiap sumur (titik) agar tidak mengalami kerugian?\n",
    "* Membandingkan revenue tanpa kerugian dan revenue dari masing-masing wilayah."
   ]
  },
  {
   "cell_type": "code",
   "execution_count": 25,
   "metadata": {},
   "outputs": [
    {
     "name": "stdout",
     "output_type": "stream",
     "text": [
      "Besarnya Unit Produk Tanpa Rugi 111.11 ribu barel\n"
     ]
    }
   ],
   "source": [
    "# beberapa rangkuman data bisnis\n",
    "# jumlah lokasi point terbaik\n",
    "n_best = 200\n",
    "\n",
    "# modal investasi (USD)\n",
    "invest = 100000000\n",
    "\n",
    "# harga per barel (USD/barel)\n",
    "price_vol = 4.5\n",
    "\n",
    "# harga per unit produk (USD/1000barel)\n",
    "price_prod = 4.5*1000\n",
    "\n",
    "# mengetahui berapa unit produk yang bisa dihasilkan dari modal investasi untuk 200 lokasi\n",
    "n_prod = invest/(price_prod*n_best)\n",
    "\n",
    "print('Besarnya Unit Produk Tanpa Rugi',round(n_prod,2),'ribu barel')"
   ]
  },
  {
   "cell_type": "markdown",
   "metadata": {},
   "source": [
    "Besarnya Unit Produk Tanpa Rugi 111.11 ribu barel akan dibandingkan dengan nilai rata-rata volume minyak yang sbelumnya di dapatkan."
   ]
  },
  {
   "cell_type": "code",
   "execution_count": 26,
   "metadata": {},
   "outputs": [
    {
     "name": "stdout",
     "output_type": "stream",
     "text": [
      "Besarnya Unit Produk Region-1 92.59 ribu barel\n",
      "Besarnya Unit Produk Region-2 68.73 ribu barel\n",
      "Besarnya Unit Produk Region-3 94.97 ribu barel\n"
     ]
    }
   ],
   "source": [
    "# menampilkan kembali perhitungan sebelumnya\n",
    "print('Besarnya Unit Produk Region-1',round(vol_0.mean(),2),'ribu barel')\n",
    "print('Besarnya Unit Produk Region-2',round(vol_1.mean(),2),'ribu barel')\n",
    "print('Besarnya Unit Produk Region-3',round(vol_2.mean(),2),'ribu barel')"
   ]
  },
  {
   "cell_type": "code",
   "execution_count": 27,
   "metadata": {},
   "outputs": [
    {
     "name": "stdout",
     "output_type": "stream",
     "text": [
      "Wilayah geo0 rata-rata produksi: 92.50\n",
      "Wilayah geo0 tidak memenuhi ambang batas produksi minimal (111.11 unit).\n",
      "Wilayah geo1 rata-rata produksi: 68.83\n",
      "Wilayah geo1 tidak memenuhi ambang batas produksi minimal (111.11 unit).\n",
      "Wilayah geo2 rata-rata produksi: 95.00\n",
      "Wilayah geo2 tidak memenuhi ambang batas produksi minimal (111.11 unit).\n"
     ]
    }
   ],
   "source": [
    "# Menghitung rata-rata produksi untuk setiap wilayah\n",
    "mean_production_geo0 = geo0['product'].mean()\n",
    "mean_production_geo1 = geo1['product'].mean()\n",
    "mean_production_geo2 = geo2['product'].mean()\n",
    "\n",
    "# Menyimpan rata-rata produksi ke dalam variabel\n",
    "mean_productions = {\n",
    "    'geo0': mean_production_geo0,\n",
    "    'geo1': mean_production_geo1,\n",
    "    'geo2': mean_production_geo2\n",
    "}\n",
    "# Membandingkan rata-rata produksi dengan minimum produksi rata-rata per sumur\n",
    "for region, mean_production in mean_productions.items():\n",
    "    print(f\"Wilayah {region} rata-rata produksi: {mean_production:.2f}\")\n",
    "    if mean_production >= n_prod:\n",
    "        print(f\"Wilayah {region} memenuhi atau melebihi ambang batas produksi minimal ({n_prod:.2f} unit).\")\n",
    "    else:\n",
    "        print(f\"Wilayah {region} tidak memenuhi ambang batas produksi minimal ({n_prod:.2f} unit).\")"
   ]
  },
  {
   "cell_type": "markdown",
   "metadata": {},
   "source": [
    "terlihat bahwa semuanya tidak memenuhi ambang batas produksi minimal yaitu `111.11` unit, dan yang paling mendekati adalah wilayah `geo2`"
   ]
  },
  {
   "cell_type": "markdown",
   "metadata": {},
   "source": [
    "## Estimasi Margin Profit<a id='profit'></a>"
   ]
  },
  {
   "cell_type": "markdown",
   "metadata": {},
   "source": [
    "### Estimasi Margin Profit tanpa teknik Bootstrap"
   ]
  },
  {
   "cell_type": "code",
   "execution_count": 28,
   "metadata": {},
   "outputs": [],
   "source": [
    "# membuat fungsi untuk menghitung margin profit antara prediksi model dan revenue tanpa kerugian\n",
    "# data dari prediksi model(predict) dan data target validasi(target) untuk n_best=200\n",
    "def margin_profit(predict,target):\n",
    "    # membuat series untuk data dari prediksi\n",
    "    pred = pd.Series(predict)\n",
    "    # mereset index pada data target agar sesuai dengan index prediksi\n",
    "    tar = target.reset_index(drop=True)\n",
    "    # mengurutkan data prediksi dari yang terbesar\n",
    "    pred.sort_values(ascending=False,inplace=True)\n",
    "    # mengeluarkan nilai target berdasarkan index prediksi yang sudah diurutkan\n",
    "    tar = tar[pred.index]\n",
    "    # menghitung selisih revenue antara model prediksi dan revenue tanpa kerugian\n",
    "    # margin = [jumlah revenue prediksi] - [jumlah revenue tanpa kerugian]\n",
    "    # mengambil data terbaik sebanyak `n_best=200`\n",
    "    margin = price_prod*(tar[:n_best].sum() - n_prod*n_best)\n",
    "\n",
    "    # mengembalikan margin profit\n",
    "    return margin"
   ]
  },
  {
   "cell_type": "code",
   "execution_count": 29,
   "metadata": {},
   "outputs": [
    {
     "name": "stdout",
     "output_type": "stream",
     "text": [
      "Margin Profit [Region-1] --> 33208260.43 USD\n",
      "Margin Profit [Region-2] --> 24150866.97 USD\n",
      "Margin Profit [Region-3] --> 27103499.64 USD\n"
     ]
    }
   ],
   "source": [
    "# menghitung margin profit menggunakan 200 titik terbaik untuk tiap dataset\n",
    "rev_geo0 = margin_profit(vol_0,target_valid_geo0)\n",
    "rev_geo1 = margin_profit(vol_1,target_valid_geo1)\n",
    "rev_geo2 = margin_profit(vol_2,target_valid_geo2)\n",
    "\n",
    "# menampilkan revenue 200 titik lokasi terbaik\n",
    "print('Margin Profit [Region-1] -->',round(rev_geo0,2),'USD')\n",
    "print('Margin Profit [Region-2] -->',round(rev_geo1,2),'USD')\n",
    "print('Margin Profit [Region-3] -->',round(rev_geo2,2),'USD')"
   ]
  },
  {
   "cell_type": "markdown",
   "metadata": {},
   "source": [
    "Ternyata ketika kita mengambil 200 lokasi terbaik dari dataset kita tidak mengalami kerugian, bahkan menunjukan keuntungan (nilai positif margin). Berbeda dengan perhitungan sebelumnya ketika menggunakan rata-rata unit produk. keuntungan terbaik terdapat pada wilayah `geo0`, `geo2` dan `geo1`"
   ]
  },
  {
   "cell_type": "markdown",
   "metadata": {},
   "source": [
    "### Margin profit menggunakan teknik Bootstrap"
   ]
  },
  {
   "cell_type": "markdown",
   "metadata": {},
   "source": [
    "Pembahasanya sudah bagus bahwa kita tidak mengalami kerugian bahkan meningkat. Namun kita apakah bisa memprediksi resiko kerugian dengan menggunakan fungsi sebelumnya? kita tidak tahu apakah mungkin terjadi kerugian atau tidak, kecuali dengan teknik bootstrapping seperti berikut untuk melihat distribusi margin profit untuk masing-masing wilayah. Kita akan membuat `1000` sampel bootsrap dengan pengambilan sebanyak `500` sampel untuk menentukan `200` lokasi."
   ]
  },
  {
   "cell_type": "code",
   "execution_count": 30,
   "metadata": {},
   "outputs": [],
   "source": [
    "# jumlah sampel bootstrap\n",
    "n_boot = 1000\n",
    "\n",
    "# jumlah sampel point\n",
    "n_point = 500\n",
    "\n",
    "# membuat fungsi untuk menghitung margin profit menggunakan teknik bootstrap\n",
    "def margin_bootsrap(predict,target):\n",
    "    # tempat penampungan nilai margin untuk sampel bootstrap ke-i\n",
    "    margin = []\n",
    "    # mengubah data dari predict menjadi series\n",
    "    predict = pd.Series(predict)\n",
    "    # mereset index pada data target\n",
    "    target = target.reset_index(drop=True)\n",
    "    # membuat randomstate dari numpy\n",
    "    random = np.random.RandomState(12345)\n",
    "\n",
    "    # membuat bootstrap untuk sebanyak `n_boot=1000` untuk menghitung revenue\n",
    "    for i in range(n_boot):\n",
    "        # mengambil sampel sebanyak `n_point=500` dari data target\n",
    "        tar_sample = target.sample(n_point,replace=True,random_state=random)\n",
    "        # mengambil nilai prediksi yang sesuai dengan indeks target sampel\n",
    "        predict_sample = predict[tar_sample.index]\n",
    "        # mereset indeks taget sampel\n",
    "        tar_sample.reset_index(drop=True,inplace=True)\n",
    "        # mereset indeks prediksi sampel\n",
    "        predict_sample.reset_index(drop=True,inplace=True)\n",
    "        # menghitung besarnya margin profit dan menambahkanya ke tempat penampungan `margin`\n",
    "        margin.append(margin_profit(predict_sample,tar_sample))\n",
    "\n",
    "    # mengembalikan nilai margin\n",
    "    return margin"
   ]
  },
  {
   "cell_type": "code",
   "execution_count": 31,
   "metadata": {},
   "outputs": [
    {
     "name": "stdout",
     "output_type": "stream",
     "text": [
      "Rata-rata Profit Margin [Region-1] --> 3961649.85 USD\n",
      "Rata-rata Profit Margin [Region-2] --> 4560451.06 USD\n",
      "Rata-rata Profit Margin [Region-3] --> 4044038.67 USD\n"
     ]
    }
   ],
   "source": [
    "# menghitung profit margin menggunakan teknik bootstrap untuk tiap dataset\n",
    "rev_geo0_boot = margin_bootsrap(vol_0,target_valid_geo0)\n",
    "rev_geo1_boot = margin_bootsrap(vol_1,target_valid_geo1)\n",
    "rev_geo2_boot = margin_bootsrap(vol_2,target_valid_geo2)\n",
    "\n",
    "# menampilkan rata-rata margin profit menggunakan bootstrap\n",
    "print('Rata-rata Profit Margin [Region-1] -->',round(np.mean(rev_geo0_boot),2),'USD')\n",
    "print('Rata-rata Profit Margin [Region-2] -->',round(np.mean(rev_geo1_boot),2),'USD')\n",
    "print('Rata-rata Profit Margin [Region-3] -->',round(np.mean(rev_geo2_boot),2),'USD')"
   ]
  },
  {
   "cell_type": "markdown",
   "metadata": {},
   "source": [
    "setelah dilakukan metode `bootsrap` dapat dilihat bahwa terjadi peningkatan jumlah profit dan semakin positif. wilayah dengan profit tertinggi adalah wilayah `geo1` dengan profit `4.5` juta USD"
   ]
  },
  {
   "cell_type": "code",
   "execution_count": 35,
   "metadata": {},
   "outputs": [],
   "source": [
    "# Menggabungkan hasil perhitungan bootstrapping\n",
    "geo0_new = pd.Series(rev_geo0_boot, name='Region-1') / 1000000\n",
    "geo1_new = pd.Series(rev_geo1_boot, name='Region-2') / 1000000\n",
    "geo2_new = pd.Series(rev_geo2_boot, name='Region-3') / 1000000\n",
    "combine = pd.concat([geo0_new, geo1_new, geo2_new], axis=1)"
   ]
  },
  {
   "cell_type": "markdown",
   "metadata": {},
   "source": [
    "## Hitung Resiko dan keuntungan<a id='risk'></a>"
   ]
  },
  {
   "cell_type": "markdown",
   "metadata": {},
   "source": [
    "Penting untuk mengetahui risiko dari masing-masing wilayah, kita akan memilih wilayah yang memiliki risiko paling rendah dengan ambang batas di bawah `2.5%` dan memilih rata-rata margin profit paling tinggi. Kita akan mencari selang kepercayaan berdasarkan tingkat keyakinan sebesar `95%`."
   ]
  },
  {
   "cell_type": "code",
   "execution_count": 32,
   "metadata": {},
   "outputs": [],
   "source": [
    "# selang kepercayaan 95%\n",
    "cfd_interval = 0.95\n",
    "\n",
    "# ambang batas kerugian 2.5%\n",
    "risk_threshold = 0.25"
   ]
  },
  {
   "cell_type": "code",
   "execution_count": 33,
   "metadata": {},
   "outputs": [],
   "source": [
    "# Fungsi untuk menghitung selang kepercayaan dan risiko\n",
    "def cfd_risk(dif_rev, sample):\n",
    "    low = dif_rev.quantile(0.025) * 1000000\n",
    "    high = dif_rev.quantile(0.975) * 1000000\n",
    "    negative = [neg for neg in dif_rev if neg < 0]\n",
    "    risk = len(negative) / sample * 100\n",
    "    return low, high, risk\n"
   ]
  },
  {
   "cell_type": "code",
   "execution_count": 36,
   "metadata": {},
   "outputs": [
    {
     "name": "stdout",
     "output_type": "stream",
     "text": [
      "Selang Kepercayaan [Region-1]: (-1112155.46 sampai 9097669.42) USD\n",
      "Risiko [Region-1]: 6.90%\n",
      "Selang Kepercayaan [Region-2]: (338205.09 sampai 8522894.54) USD\n",
      "Risiko [Region-2]: 1.50%\n",
      "Selang Kepercayaan [Region-3]: (-1633504.13 sampai 9503595.75) USD\n",
      "Risiko [Region-3]: 7.60%\n"
     ]
    }
   ],
   "source": [
    "# Menghitung selang kepercayaan dan risiko\n",
    "low1, high1, risk1 = cfd_risk(geo0_new, n_boot)\n",
    "low2, high2, risk2 = cfd_risk(geo1_new, n_boot)\n",
    "low3, high3, risk3 = cfd_risk(geo2_new, n_boot)\n",
    "\n",
    "# Menampilkan hasil selang kepercayaan dan risiko\n",
    "print(f'Selang Kepercayaan [Region-1]: ({low1:.2f} sampai {high1:.2f}) USD')\n",
    "print(f'Risiko [Region-1]: {risk1:.2f}%')\n",
    "print(f'Selang Kepercayaan [Region-2]: ({low2:.2f} sampai {high2:.2f}) USD')\n",
    "print(f'Risiko [Region-2]: {risk2:.2f}%')\n",
    "print(f'Selang Kepercayaan [Region-3]: ({low3:.2f} sampai {high3:.2f}) USD')\n",
    "print(f'Risiko [Region-3]: {risk3:.2f}%')"
   ]
  },
  {
   "cell_type": "markdown",
   "metadata": {},
   "source": [
    "selang kepercayaan pada wilayah `geo3` memiliki rentang paling tinggi dan resiko paling tinggi yaitu `7.60%` sedangkan paling rendah adalah wilayah `geo2` dengan resiko `1.5%`"
   ]
  },
  {
   "cell_type": "markdown",
   "metadata": {},
   "source": [
    "## Kesimpulan<a id='conclusion'></a>"
   ]
  },
  {
   "cell_type": "markdown",
   "metadata": {},
   "source": [
    "1. Rata-rata volume minyak pada wilayah `geo0` adalah `92.59` ribu barel dengan `RSME` `37.58` ribu barel\n",
    "2. Rata-rata volume minyak pada wilayah `geo1` adalah `68.73` ribu barel dengan `RSME` `0.89` ribu barel. wilayah ini memberikan nilai `RSME` terbaik dan terendah dibandingkan dengan wilayah lain.\n",
    "3. Rata-rata volume minyak pada wilayah `geo2` adalah `94.97` ribu barel dengan `RSME` `40.03` ribu barel. ini adalah wilayah  dengan rata-rata volume minyak tertinggi dibandingkan dengan wilayah lainnya. akan tetapi nilai `RSME` nya juga paling tinggi.\n",
    "4. terlihat bahwa semuanya tidak memenuhi ambang batas produksi minimal yaitu `111.11` unit, dan yang paling mendekati adalah wilayah `geo2`\n",
    "5. Ternyata ketika kita mengambil 200 lokasi terbaik dari dataset kita tidak mengalami kerugian, bahkan menunjukan keuntungan (nilai positif margin). \n",
    "6. setelah dilakukan metode `bootsrap` dapat dilihat bahwa terjadi peningkatan jumlah profit dan semakin positif. wilayah dengan profit tertinggi adalah wilayah `geo1` dengan profit `4.5` juta USD\n",
    "7. selang kepercayaan pada wilayah `geo3` memiliki rentang paling tinggi dan resiko paling tinggi yaitu `7.60%` sedangkan paling rendah adalah wilayah `geo2` dengan resiko `1.5%`\n"
   ]
  },
  {
   "cell_type": "markdown",
   "metadata": {},
   "source": [
    "### Temuan<a id='end'></a>"
   ]
  },
  {
   "cell_type": "markdown",
   "metadata": {},
   "source": [
    "1. ketiga dataset terdiri dari 5 kolom, `id`, `f0`, `f1`, `f2`, dan `product` dan 100000 data, tipe data sudah benar, tidak ada nilai hilang dan tidak ada duplikasi data. jadi tidak perlu penanganan lanjutan dan bisa langsung ke proses selanjutnya.\n",
    "2. dataset akan dipisahkan menjadi `75:25` antara `training set` dan `validation set`\n",
    "3. semua dataset tidak memenuhi ambang batas produksi minimal\n",
    "4. untuk mengetahui tingkat resiko an selang kepercayaan diperlukan teknik `bootstrap`"
   ]
  },
  {
   "cell_type": "markdown",
   "metadata": {},
   "source": [
    "### Rekomendasi<a id='recom'></a>"
   ]
  },
  {
   "cell_type": "markdown",
   "metadata": {},
   "source": [
    "Wilayah `geo1` adalah pilihan terbaik untuk pengembangan 200 sumur minyak baru berdasarkan analisis keuntungan, risiko, dan akurasi prediksi. Dengan keuntungan tertinggi dan risiko kerugian yang terkelola, wilayah ini memberikan potensi terbaik untuk investasi OilyGiant. Namun, wilayah `geo2` tetap menjadi alternatif yang layak dipertimbangkan mengingat volume minyak yang lebih tinggi dan risiko yang rendah. Hindari pengembangan di wilayah `geo0` pada tahap awal karena performa yang kurang optimal dibandingkan dua wilayah lainnya."
   ]
  },
  {
   "cell_type": "markdown",
   "metadata": {},
   "source": [
    "[Kembali](#back)"
   ]
  }
 ],
 "metadata": {
  "ExecuteTimeLog": [
   {
    "duration": 5747,
    "start_time": "2024-06-06T02:13:35.309Z"
   },
   {
    "duration": 7,
    "start_time": "2024-06-06T02:15:30.739Z"
   },
   {
    "duration": 6,
    "start_time": "2024-06-06T02:17:19.780Z"
   },
   {
    "duration": 704,
    "start_time": "2024-06-06T02:20:54.349Z"
   },
   {
    "duration": 164,
    "start_time": "2024-06-06T02:21:02.033Z"
   },
   {
    "duration": 24,
    "start_time": "2024-06-06T02:22:17.751Z"
   },
   {
    "duration": 4,
    "start_time": "2024-06-06T02:25:25.461Z"
   },
   {
    "duration": 45,
    "start_time": "2024-06-06T02:25:36.631Z"
   },
   {
    "duration": 191,
    "start_time": "2024-06-06T02:26:04.031Z"
   },
   {
    "duration": 23,
    "start_time": "2024-06-06T02:26:48.858Z"
   },
   {
    "duration": 45,
    "start_time": "2024-06-06T02:27:50.999Z"
   },
   {
    "duration": 196,
    "start_time": "2024-06-06T02:28:21.782Z"
   },
   {
    "duration": 61,
    "start_time": "2024-06-06T02:29:41.930Z"
   },
   {
    "duration": 24,
    "start_time": "2024-06-06T02:31:23.930Z"
   },
   {
    "duration": 4,
    "start_time": "2024-06-06T02:37:07.499Z"
   },
   {
    "duration": 93,
    "start_time": "2024-06-06T02:37:53.266Z"
   },
   {
    "duration": 17,
    "start_time": "2024-06-06T02:38:20.788Z"
   },
   {
    "duration": 18,
    "start_time": "2024-06-06T02:38:49.328Z"
   },
   {
    "duration": 64,
    "start_time": "2024-06-06T02:39:12.388Z"
   },
   {
    "duration": 94,
    "start_time": "2024-06-06T02:39:27.129Z"
   },
   {
    "duration": 75,
    "start_time": "2024-06-06T02:40:12.521Z"
   },
   {
    "duration": 19,
    "start_time": "2024-06-06T02:40:47.970Z"
   },
   {
    "duration": 13,
    "start_time": "2024-06-06T02:42:20.598Z"
   },
   {
    "duration": 17,
    "start_time": "2024-06-06T02:42:27.658Z"
   },
   {
    "duration": 11,
    "start_time": "2024-06-06T02:42:57.586Z"
   },
   {
    "duration": 203,
    "start_time": "2024-06-06T02:42:57.601Z"
   },
   {
    "duration": 20,
    "start_time": "2024-06-06T02:42:57.807Z"
   },
   {
    "duration": 16,
    "start_time": "2024-06-06T02:42:57.831Z"
   },
   {
    "duration": 100,
    "start_time": "2024-06-06T02:42:57.853Z"
   },
   {
    "duration": 63,
    "start_time": "2024-06-06T02:42:57.957Z"
   },
   {
    "duration": 159,
    "start_time": "2024-06-06T02:42:58.023Z"
   },
   {
    "duration": 36,
    "start_time": "2024-06-06T02:42:58.186Z"
   },
   {
    "duration": 14,
    "start_time": "2024-06-06T02:42:58.226Z"
   },
   {
    "duration": 84,
    "start_time": "2024-06-06T02:42:58.243Z"
   },
   {
    "duration": 56,
    "start_time": "2024-06-06T02:42:58.330Z"
   },
   {
    "duration": 186,
    "start_time": "2024-06-06T02:42:58.389Z"
   },
   {
    "duration": 36,
    "start_time": "2024-06-06T02:42:58.578Z"
   },
   {
    "duration": 21,
    "start_time": "2024-06-06T02:42:58.620Z"
   },
   {
    "duration": 90,
    "start_time": "2024-06-06T02:42:58.644Z"
   },
   {
    "duration": 53,
    "start_time": "2024-06-06T02:42:58.738Z"
   },
   {
    "duration": 7,
    "start_time": "2024-06-06T02:44:20.137Z"
   },
   {
    "duration": 165,
    "start_time": "2024-06-06T02:44:20.148Z"
   },
   {
    "duration": 23,
    "start_time": "2024-06-06T02:44:20.317Z"
   },
   {
    "duration": 19,
    "start_time": "2024-06-06T02:44:20.344Z"
   },
   {
    "duration": 104,
    "start_time": "2024-06-06T02:44:20.366Z"
   },
   {
    "duration": 62,
    "start_time": "2024-06-06T02:44:20.474Z"
   },
   {
    "duration": 176,
    "start_time": "2024-06-06T02:44:20.540Z"
   },
   {
    "duration": 21,
    "start_time": "2024-06-06T02:44:20.720Z"
   },
   {
    "duration": 15,
    "start_time": "2024-06-06T02:44:20.744Z"
   },
   {
    "duration": 99,
    "start_time": "2024-06-06T02:44:20.766Z"
   },
   {
    "duration": 70,
    "start_time": "2024-06-06T02:44:20.872Z"
   },
   {
    "duration": 189,
    "start_time": "2024-06-06T02:44:20.946Z"
   },
   {
    "duration": 20,
    "start_time": "2024-06-06T02:44:21.143Z"
   },
   {
    "duration": 17,
    "start_time": "2024-06-06T02:44:21.166Z"
   },
   {
    "duration": 101,
    "start_time": "2024-06-06T02:44:21.213Z"
   },
   {
    "duration": 52,
    "start_time": "2024-06-06T02:44:21.317Z"
   },
   {
    "duration": 5156,
    "start_time": "2024-06-06T03:20:11.378Z"
   },
   {
    "duration": 210,
    "start_time": "2024-06-06T03:20:16.538Z"
   },
   {
    "duration": 20,
    "start_time": "2024-06-06T03:20:16.751Z"
   },
   {
    "duration": 12,
    "start_time": "2024-06-06T03:20:16.775Z"
   },
   {
    "duration": 92,
    "start_time": "2024-06-06T03:20:16.790Z"
   },
   {
    "duration": 71,
    "start_time": "2024-06-06T03:20:16.885Z"
   },
   {
    "duration": 194,
    "start_time": "2024-06-06T03:20:16.959Z"
   },
   {
    "duration": 21,
    "start_time": "2024-06-06T03:20:17.156Z"
   },
   {
    "duration": 41,
    "start_time": "2024-06-06T03:20:17.181Z"
   },
   {
    "duration": 62,
    "start_time": "2024-06-06T03:20:17.228Z"
   },
   {
    "duration": 63,
    "start_time": "2024-06-06T03:20:17.293Z"
   },
   {
    "duration": 174,
    "start_time": "2024-06-06T03:20:17.359Z"
   },
   {
    "duration": 24,
    "start_time": "2024-06-06T03:20:17.536Z"
   },
   {
    "duration": 14,
    "start_time": "2024-06-06T03:20:17.563Z"
   },
   {
    "duration": 90,
    "start_time": "2024-06-06T03:20:17.579Z"
   },
   {
    "duration": 61,
    "start_time": "2024-06-06T03:20:17.671Z"
   },
   {
    "duration": 426,
    "start_time": "2024-06-06T03:23:43.536Z"
   },
   {
    "duration": 5,
    "start_time": "2024-06-06T03:24:02.056Z"
   },
   {
    "duration": 23,
    "start_time": "2024-06-06T03:26:28.722Z"
   },
   {
    "duration": 7,
    "start_time": "2024-06-06T03:29:07.113Z"
   },
   {
    "duration": 20,
    "start_time": "2024-06-06T03:30:38.825Z"
   },
   {
    "duration": 5,
    "start_time": "2024-06-06T03:35:36.486Z"
   },
   {
    "duration": 40,
    "start_time": "2024-06-06T03:36:23.219Z"
   },
   {
    "duration": 6,
    "start_time": "2024-06-06T03:37:58.814Z"
   },
   {
    "duration": 102,
    "start_time": "2024-06-06T03:38:05.743Z"
   },
   {
    "duration": 5,
    "start_time": "2024-06-06T03:38:52.064Z"
   },
   {
    "duration": 84,
    "start_time": "2024-06-06T03:38:59.243Z"
   },
   {
    "duration": 33,
    "start_time": "2024-06-06T03:39:09.716Z"
   },
   {
    "duration": 22,
    "start_time": "2024-06-06T03:40:44.177Z"
   },
   {
    "duration": 16,
    "start_time": "2024-06-06T03:41:23.270Z"
   },
   {
    "duration": 25,
    "start_time": "2024-06-06T03:42:43.123Z"
   },
   {
    "duration": 18,
    "start_time": "2024-06-06T03:42:46.443Z"
   },
   {
    "duration": 5,
    "start_time": "2024-06-06T03:47:47.707Z"
   },
   {
    "duration": 162,
    "start_time": "2024-06-06T03:47:47.716Z"
   },
   {
    "duration": 19,
    "start_time": "2024-06-06T03:47:47.882Z"
   },
   {
    "duration": 31,
    "start_time": "2024-06-06T03:47:47.904Z"
   },
   {
    "duration": 99,
    "start_time": "2024-06-06T03:47:47.939Z"
   },
   {
    "duration": 56,
    "start_time": "2024-06-06T03:47:48.042Z"
   },
   {
    "duration": 170,
    "start_time": "2024-06-06T03:47:48.101Z"
   },
   {
    "duration": 23,
    "start_time": "2024-06-06T03:47:48.274Z"
   },
   {
    "duration": 31,
    "start_time": "2024-06-06T03:47:48.301Z"
   },
   {
    "duration": 93,
    "start_time": "2024-06-06T03:47:48.336Z"
   },
   {
    "duration": 45,
    "start_time": "2024-06-06T03:47:48.433Z"
   },
   {
    "duration": 172,
    "start_time": "2024-06-06T03:47:48.483Z"
   },
   {
    "duration": 20,
    "start_time": "2024-06-06T03:47:48.659Z"
   },
   {
    "duration": 41,
    "start_time": "2024-06-06T03:47:48.687Z"
   },
   {
    "duration": 67,
    "start_time": "2024-06-06T03:47:48.731Z"
   },
   {
    "duration": 61,
    "start_time": "2024-06-06T03:47:48.801Z"
   },
   {
    "duration": 10,
    "start_time": "2024-06-06T03:47:48.865Z"
   },
   {
    "duration": 48,
    "start_time": "2024-06-06T03:47:48.879Z"
   },
   {
    "duration": 5,
    "start_time": "2024-06-06T03:47:48.930Z"
   },
   {
    "duration": 20,
    "start_time": "2024-06-06T03:47:48.939Z"
   },
   {
    "duration": 78,
    "start_time": "2024-06-06T03:47:48.962Z"
   },
   {
    "duration": 90,
    "start_time": "2024-06-06T03:47:49.043Z"
   },
   {
    "duration": 88,
    "start_time": "2024-06-06T03:47:49.136Z"
   },
   {
    "duration": 19,
    "start_time": "2024-06-06T03:47:49.227Z"
   },
   {
    "duration": 5,
    "start_time": "2024-06-06T03:53:45.748Z"
   },
   {
    "duration": 6,
    "start_time": "2024-06-06T03:54:39.386Z"
   },
   {
    "duration": 9,
    "start_time": "2024-06-06T03:58:12.577Z"
   },
   {
    "duration": 10,
    "start_time": "2024-06-06T03:58:49.844Z"
   },
   {
    "duration": 10,
    "start_time": "2024-06-06T03:59:00.916Z"
   },
   {
    "duration": 32,
    "start_time": "2024-06-06T03:59:14.625Z"
   },
   {
    "duration": 6,
    "start_time": "2024-06-06T04:01:41.467Z"
   },
   {
    "duration": 8,
    "start_time": "2024-06-06T04:03:25.719Z"
   },
   {
    "duration": 8,
    "start_time": "2024-06-06T04:03:45.574Z"
   },
   {
    "duration": 6,
    "start_time": "2024-06-06T04:04:28.516Z"
   },
   {
    "duration": 160,
    "start_time": "2024-06-06T04:04:28.531Z"
   },
   {
    "duration": 31,
    "start_time": "2024-06-06T04:04:28.695Z"
   },
   {
    "duration": 15,
    "start_time": "2024-06-06T04:04:28.729Z"
   },
   {
    "duration": 92,
    "start_time": "2024-06-06T04:04:28.748Z"
   },
   {
    "duration": 47,
    "start_time": "2024-06-06T04:04:28.843Z"
   },
   {
    "duration": 165,
    "start_time": "2024-06-06T04:04:28.893Z"
   },
   {
    "duration": 21,
    "start_time": "2024-06-06T04:04:29.062Z"
   },
   {
    "duration": 40,
    "start_time": "2024-06-06T04:04:29.087Z"
   },
   {
    "duration": 69,
    "start_time": "2024-06-06T04:04:29.130Z"
   },
   {
    "duration": 49,
    "start_time": "2024-06-06T04:04:29.226Z"
   },
   {
    "duration": 168,
    "start_time": "2024-06-06T04:04:29.279Z"
   },
   {
    "duration": 20,
    "start_time": "2024-06-06T04:04:29.450Z"
   },
   {
    "duration": 15,
    "start_time": "2024-06-06T04:04:29.474Z"
   },
   {
    "duration": 74,
    "start_time": "2024-06-06T04:04:29.523Z"
   },
   {
    "duration": 71,
    "start_time": "2024-06-06T04:04:29.601Z"
   },
   {
    "duration": 14,
    "start_time": "2024-06-06T04:04:29.676Z"
   },
   {
    "duration": 53,
    "start_time": "2024-06-06T04:04:29.694Z"
   },
   {
    "duration": 6,
    "start_time": "2024-06-06T04:04:29.750Z"
   },
   {
    "duration": 66,
    "start_time": "2024-06-06T04:04:29.759Z"
   },
   {
    "duration": 96,
    "start_time": "2024-06-06T04:04:29.828Z"
   },
   {
    "duration": 17,
    "start_time": "2024-06-06T04:04:29.928Z"
   },
   {
    "duration": 90,
    "start_time": "2024-06-06T04:04:29.948Z"
   },
   {
    "duration": 88,
    "start_time": "2024-06-06T04:04:30.041Z"
   },
   {
    "duration": 7,
    "start_time": "2024-06-06T04:04:30.132Z"
   },
   {
    "duration": 84,
    "start_time": "2024-06-06T04:04:30.143Z"
   },
   {
    "duration": 9,
    "start_time": "2024-06-06T04:04:30.231Z"
   },
   {
    "duration": 15,
    "start_time": "2024-06-06T04:06:06.248Z"
   },
   {
    "duration": 8,
    "start_time": "2024-06-06T04:06:46.997Z"
   },
   {
    "duration": 43,
    "start_time": "2024-06-06T04:06:56.421Z"
   },
   {
    "duration": 20,
    "start_time": "2024-06-06T04:07:09.447Z"
   },
   {
    "duration": 102,
    "start_time": "2024-06-06T04:08:48.563Z"
   },
   {
    "duration": 6,
    "start_time": "2024-06-06T04:08:57.643Z"
   },
   {
    "duration": 8,
    "start_time": "2024-06-06T04:11:11.317Z"
   },
   {
    "duration": 11,
    "start_time": "2024-06-06T04:11:40.048Z"
   },
   {
    "duration": 25,
    "start_time": "2024-06-06T04:14:05.324Z"
   },
   {
    "duration": 6,
    "start_time": "2024-06-06T04:14:10.493Z"
   },
   {
    "duration": 33,
    "start_time": "2024-06-06T04:14:13.306Z"
   },
   {
    "duration": 6,
    "start_time": "2024-06-06T04:28:46.834Z"
   },
   {
    "duration": 38,
    "start_time": "2024-06-06T04:29:05.874Z"
   },
   {
    "duration": 27,
    "start_time": "2024-06-06T04:29:39.733Z"
   },
   {
    "duration": 26,
    "start_time": "2024-06-06T04:31:26.230Z"
   },
   {
    "duration": 7,
    "start_time": "2024-06-06T04:32:58.714Z"
   },
   {
    "duration": 4285,
    "start_time": "2024-06-06T04:33:48.004Z"
   },
   {
    "duration": 49,
    "start_time": "2024-06-06T04:34:43.703Z"
   },
   {
    "duration": 1146,
    "start_time": "2024-06-06T04:34:49.492Z"
   },
   {
    "duration": 380,
    "start_time": "2024-06-06T04:35:43.043Z"
   },
   {
    "duration": 6,
    "start_time": "2024-06-06T04:37:08.599Z"
   },
   {
    "duration": 205,
    "start_time": "2024-06-06T04:37:08.611Z"
   },
   {
    "duration": 25,
    "start_time": "2024-06-06T04:37:08.825Z"
   },
   {
    "duration": 15,
    "start_time": "2024-06-06T04:37:08.853Z"
   },
   {
    "duration": 117,
    "start_time": "2024-06-06T04:37:08.872Z"
   },
   {
    "duration": 60,
    "start_time": "2024-06-06T04:37:08.992Z"
   },
   {
    "duration": 162,
    "start_time": "2024-06-06T04:37:09.056Z"
   },
   {
    "duration": 19,
    "start_time": "2024-06-06T04:37:09.228Z"
   },
   {
    "duration": 14,
    "start_time": "2024-06-06T04:37:09.250Z"
   },
   {
    "duration": 95,
    "start_time": "2024-06-06T04:37:09.267Z"
   },
   {
    "duration": 56,
    "start_time": "2024-06-06T04:37:09.368Z"
   },
   {
    "duration": 174,
    "start_time": "2024-06-06T04:37:09.428Z"
   },
   {
    "duration": 49,
    "start_time": "2024-06-06T04:37:09.605Z"
   },
   {
    "duration": 17,
    "start_time": "2024-06-06T04:37:09.658Z"
   },
   {
    "duration": 95,
    "start_time": "2024-06-06T04:37:09.679Z"
   },
   {
    "duration": 67,
    "start_time": "2024-06-06T04:37:09.778Z"
   },
   {
    "duration": 7,
    "start_time": "2024-06-06T04:37:09.849Z"
   },
   {
    "duration": 24,
    "start_time": "2024-06-06T04:37:09.859Z"
   },
   {
    "duration": 35,
    "start_time": "2024-06-06T04:37:09.889Z"
   },
   {
    "duration": 26,
    "start_time": "2024-06-06T04:37:09.927Z"
   },
   {
    "duration": 166,
    "start_time": "2024-06-06T04:37:09.956Z"
   },
   {
    "duration": 17,
    "start_time": "2024-06-06T04:37:10.126Z"
   },
   {
    "duration": 87,
    "start_time": "2024-06-06T04:37:10.146Z"
   },
   {
    "duration": 88,
    "start_time": "2024-06-06T04:37:10.237Z"
   },
   {
    "duration": 13,
    "start_time": "2024-06-06T04:37:10.330Z"
   },
   {
    "duration": 82,
    "start_time": "2024-06-06T04:37:10.346Z"
   },
   {
    "duration": 11,
    "start_time": "2024-06-06T04:37:10.433Z"
   },
   {
    "duration": 82,
    "start_time": "2024-06-06T04:37:10.447Z"
   },
   {
    "duration": 6,
    "start_time": "2024-06-06T04:37:10.539Z"
   },
   {
    "duration": 4662,
    "start_time": "2024-06-06T04:37:10.549Z"
   },
   {
    "duration": 205,
    "start_time": "2024-06-06T04:37:15.214Z"
   },
   {
    "duration": 184,
    "start_time": "2024-06-06T04:38:53.343Z"
   },
   {
    "duration": 4447,
    "start_time": "2024-06-06T04:40:51.730Z"
   },
   {
    "duration": 33,
    "start_time": "2024-06-06T04:44:34.522Z"
   },
   {
    "duration": 46,
    "start_time": "2024-06-06T04:45:36.221Z"
   },
   {
    "duration": 217,
    "start_time": "2024-06-06T04:45:56.807Z"
   },
   {
    "duration": 186,
    "start_time": "2024-06-06T04:48:51.105Z"
   },
   {
    "duration": 171,
    "start_time": "2024-06-06T04:49:23.566Z"
   },
   {
    "duration": 29,
    "start_time": "2024-06-06T05:04:01.820Z"
   },
   {
    "duration": 3,
    "start_time": "2024-06-06T05:04:06.929Z"
   },
   {
    "duration": 7,
    "start_time": "2024-06-06T05:04:10.132Z"
   },
   {
    "duration": 6,
    "start_time": "2024-06-06T05:04:20.372Z"
   },
   {
    "duration": 10,
    "start_time": "2024-06-06T05:04:23.130Z"
   },
   {
    "duration": 9,
    "start_time": "2024-06-06T05:04:46.080Z"
   },
   {
    "duration": 30,
    "start_time": "2024-06-06T05:04:55.751Z"
   },
   {
    "duration": 6,
    "start_time": "2024-06-06T05:05:54.640Z"
   },
   {
    "duration": 161,
    "start_time": "2024-06-06T05:05:54.652Z"
   },
   {
    "duration": 25,
    "start_time": "2024-06-06T05:05:54.816Z"
   },
   {
    "duration": 14,
    "start_time": "2024-06-06T05:05:54.844Z"
   },
   {
    "duration": 107,
    "start_time": "2024-06-06T05:05:54.863Z"
   },
   {
    "duration": 64,
    "start_time": "2024-06-06T05:05:54.974Z"
   },
   {
    "duration": 158,
    "start_time": "2024-06-06T05:05:55.042Z"
   },
   {
    "duration": 30,
    "start_time": "2024-06-06T05:05:55.204Z"
   },
   {
    "duration": 13,
    "start_time": "2024-06-06T05:05:55.237Z"
   },
   {
    "duration": 84,
    "start_time": "2024-06-06T05:05:55.253Z"
   },
   {
    "duration": 42,
    "start_time": "2024-06-06T05:05:55.343Z"
   },
   {
    "duration": 169,
    "start_time": "2024-06-06T05:05:55.388Z"
   },
   {
    "duration": 18,
    "start_time": "2024-06-06T05:05:55.560Z"
   },
   {
    "duration": 42,
    "start_time": "2024-06-06T05:05:55.580Z"
   },
   {
    "duration": 62,
    "start_time": "2024-06-06T05:05:55.625Z"
   },
   {
    "duration": 63,
    "start_time": "2024-06-06T05:05:55.690Z"
   },
   {
    "duration": 6,
    "start_time": "2024-06-06T05:05:55.756Z"
   },
   {
    "duration": 19,
    "start_time": "2024-06-06T05:05:55.765Z"
   },
   {
    "duration": 39,
    "start_time": "2024-06-06T05:05:55.787Z"
   },
   {
    "duration": 20,
    "start_time": "2024-06-06T05:05:55.830Z"
   },
   {
    "duration": 79,
    "start_time": "2024-06-06T05:05:55.853Z"
   },
   {
    "duration": 98,
    "start_time": "2024-06-06T05:05:55.935Z"
   },
   {
    "duration": 95,
    "start_time": "2024-06-06T05:05:56.042Z"
   },
   {
    "duration": 93,
    "start_time": "2024-06-06T05:05:56.146Z"
   },
   {
    "duration": 16,
    "start_time": "2024-06-06T05:05:56.242Z"
   },
   {
    "duration": 17,
    "start_time": "2024-06-06T05:05:56.329Z"
   },
   {
    "duration": 75,
    "start_time": "2024-06-06T05:05:56.350Z"
   },
   {
    "duration": 28,
    "start_time": "2024-06-06T05:05:56.430Z"
   },
   {
    "duration": 8,
    "start_time": "2024-06-06T05:05:56.465Z"
   },
   {
    "duration": 4726,
    "start_time": "2024-06-06T05:05:56.477Z"
   },
   {
    "duration": 15,
    "start_time": "2024-06-06T05:06:01.207Z"
   },
   {
    "duration": 7,
    "start_time": "2024-06-06T05:06:01.226Z"
   },
   {
    "duration": 114,
    "start_time": "2024-06-06T05:06:01.238Z"
   },
   {
    "duration": 0,
    "start_time": "2024-06-06T05:06:01.356Z"
   },
   {
    "duration": 0,
    "start_time": "2024-06-06T05:06:01.360Z"
   },
   {
    "duration": 75,
    "start_time": "2024-06-06T05:06:35.252Z"
   },
   {
    "duration": 6,
    "start_time": "2024-06-06T05:07:46.104Z"
   },
   {
    "duration": 84,
    "start_time": "2024-06-06T05:07:59.874Z"
   },
   {
    "duration": 8,
    "start_time": "2024-06-06T05:10:34.570Z"
   },
   {
    "duration": 80,
    "start_time": "2024-06-06T05:11:16.040Z"
   },
   {
    "duration": 6,
    "start_time": "2024-06-06T05:11:21.263Z"
   },
   {
    "duration": 7,
    "start_time": "2024-06-06T05:25:45.439Z"
   },
   {
    "duration": 7,
    "start_time": "2024-06-06T05:25:53.718Z"
   },
   {
    "duration": 197,
    "start_time": "2024-06-06T05:25:53.731Z"
   },
   {
    "duration": 22,
    "start_time": "2024-06-06T05:25:53.931Z"
   },
   {
    "duration": 17,
    "start_time": "2024-06-06T05:25:53.958Z"
   },
   {
    "duration": 114,
    "start_time": "2024-06-06T05:25:53.978Z"
   },
   {
    "duration": 63,
    "start_time": "2024-06-06T05:25:54.096Z"
   },
   {
    "duration": 174,
    "start_time": "2024-06-06T05:25:54.162Z"
   },
   {
    "duration": 22,
    "start_time": "2024-06-06T05:25:54.340Z"
   },
   {
    "duration": 13,
    "start_time": "2024-06-06T05:25:54.368Z"
   },
   {
    "duration": 179,
    "start_time": "2024-06-06T05:25:54.387Z"
   },
   {
    "duration": 62,
    "start_time": "2024-06-06T05:25:54.572Z"
   },
   {
    "duration": 169,
    "start_time": "2024-06-06T05:25:54.637Z"
   },
   {
    "duration": 31,
    "start_time": "2024-06-06T05:25:54.810Z"
   },
   {
    "duration": 19,
    "start_time": "2024-06-06T05:25:54.844Z"
   },
   {
    "duration": 109,
    "start_time": "2024-06-06T05:25:54.866Z"
   },
   {
    "duration": 69,
    "start_time": "2024-06-06T05:25:54.979Z"
   },
   {
    "duration": 8,
    "start_time": "2024-06-06T05:25:55.052Z"
   },
   {
    "duration": 23,
    "start_time": "2024-06-06T05:25:55.063Z"
   },
   {
    "duration": 40,
    "start_time": "2024-06-06T05:25:55.090Z"
   },
   {
    "duration": 19,
    "start_time": "2024-06-06T05:25:55.133Z"
   },
   {
    "duration": 74,
    "start_time": "2024-06-06T05:25:55.155Z"
   },
   {
    "duration": 89,
    "start_time": "2024-06-06T05:25:55.238Z"
   },
   {
    "duration": 98,
    "start_time": "2024-06-06T05:25:55.333Z"
   },
   {
    "duration": 15,
    "start_time": "2024-06-06T05:25:55.438Z"
   },
   {
    "duration": 6,
    "start_time": "2024-06-06T05:25:55.457Z"
   },
   {
    "duration": 11,
    "start_time": "2024-06-06T05:25:55.523Z"
   },
   {
    "duration": 7,
    "start_time": "2024-06-06T05:25:55.537Z"
   },
   {
    "duration": 31,
    "start_time": "2024-06-06T05:25:55.624Z"
   },
   {
    "duration": 11,
    "start_time": "2024-06-06T05:25:55.659Z"
   },
   {
    "duration": 5155,
    "start_time": "2024-06-06T05:25:55.675Z"
   },
   {
    "duration": 6,
    "start_time": "2024-06-06T05:26:00.833Z"
   },
   {
    "duration": 93,
    "start_time": "2024-06-06T05:26:00.844Z"
   },
   {
    "duration": 0,
    "start_time": "2024-06-06T05:26:00.941Z"
   },
   {
    "duration": 31,
    "start_time": "2024-06-06T05:27:33.395Z"
   },
   {
    "duration": 6,
    "start_time": "2024-06-06T05:27:42.554Z"
   },
   {
    "duration": 7,
    "start_time": "2024-06-06T05:28:22.467Z"
   },
   {
    "duration": 26,
    "start_time": "2024-06-06T05:28:25.026Z"
   },
   {
    "duration": 9,
    "start_time": "2024-06-06T05:28:30.725Z"
   },
   {
    "duration": 4353,
    "start_time": "2024-06-06T05:28:33.775Z"
   },
   {
    "duration": 33,
    "start_time": "2024-06-06T05:28:55.387Z"
   },
   {
    "duration": 204,
    "start_time": "2024-06-06T05:29:15.793Z"
   },
   {
    "duration": 11,
    "start_time": "2024-06-06T10:32:43.472Z"
   },
   {
    "duration": 5343,
    "start_time": "2024-06-06T10:32:47.325Z"
   },
   {
    "duration": 205,
    "start_time": "2024-06-06T10:32:52.673Z"
   },
   {
    "duration": 18,
    "start_time": "2024-06-06T10:32:52.882Z"
   },
   {
    "duration": 30,
    "start_time": "2024-06-06T10:32:52.904Z"
   },
   {
    "duration": 58,
    "start_time": "2024-06-06T10:32:52.945Z"
   },
   {
    "duration": 63,
    "start_time": "2024-06-06T10:32:53.007Z"
   },
   {
    "duration": 179,
    "start_time": "2024-06-06T10:32:53.073Z"
   },
   {
    "duration": 21,
    "start_time": "2024-06-06T10:32:53.260Z"
   },
   {
    "duration": 13,
    "start_time": "2024-06-06T10:32:53.285Z"
   },
   {
    "duration": 86,
    "start_time": "2024-06-06T10:32:53.306Z"
   },
   {
    "duration": 64,
    "start_time": "2024-06-06T10:32:53.396Z"
   },
   {
    "duration": 208,
    "start_time": "2024-06-06T10:32:53.463Z"
   },
   {
    "duration": 19,
    "start_time": "2024-06-06T10:32:53.674Z"
   },
   {
    "duration": 14,
    "start_time": "2024-06-06T10:32:53.696Z"
   },
   {
    "duration": 80,
    "start_time": "2024-06-06T10:32:53.716Z"
   },
   {
    "duration": 59,
    "start_time": "2024-06-06T10:32:53.799Z"
   },
   {
    "duration": 6,
    "start_time": "2024-06-06T10:32:53.863Z"
   },
   {
    "duration": 511,
    "start_time": "2024-06-06T10:32:53.872Z"
   },
   {
    "duration": 0,
    "start_time": "2024-06-06T10:32:54.387Z"
   },
   {
    "duration": 0,
    "start_time": "2024-06-06T10:32:54.390Z"
   },
   {
    "duration": 0,
    "start_time": "2024-06-06T10:32:54.392Z"
   },
   {
    "duration": 0,
    "start_time": "2024-06-06T10:32:54.395Z"
   },
   {
    "duration": 0,
    "start_time": "2024-06-06T10:32:54.398Z"
   },
   {
    "duration": 0,
    "start_time": "2024-06-06T10:32:54.400Z"
   },
   {
    "duration": 0,
    "start_time": "2024-06-06T10:32:54.402Z"
   },
   {
    "duration": 0,
    "start_time": "2024-06-06T10:32:54.404Z"
   },
   {
    "duration": 0,
    "start_time": "2024-06-06T10:32:54.406Z"
   },
   {
    "duration": 0,
    "start_time": "2024-06-06T10:32:54.407Z"
   },
   {
    "duration": 0,
    "start_time": "2024-06-06T10:32:54.433Z"
   },
   {
    "duration": 0,
    "start_time": "2024-06-06T10:32:54.443Z"
   },
   {
    "duration": 0,
    "start_time": "2024-06-06T10:32:54.445Z"
   },
   {
    "duration": 0,
    "start_time": "2024-06-06T10:32:54.448Z"
   },
   {
    "duration": 0,
    "start_time": "2024-06-06T10:32:54.449Z"
   },
   {
    "duration": 0,
    "start_time": "2024-06-06T10:32:54.450Z"
   },
   {
    "duration": 0,
    "start_time": "2024-06-06T10:32:54.451Z"
   },
   {
    "duration": 32,
    "start_time": "2024-06-06T10:34:18.618Z"
   },
   {
    "duration": 44,
    "start_time": "2024-06-06T10:34:36.646Z"
   },
   {
    "duration": 22,
    "start_time": "2024-06-06T10:35:58.307Z"
   },
   {
    "duration": 18,
    "start_time": "2024-06-06T10:36:51.005Z"
   },
   {
    "duration": 22,
    "start_time": "2024-06-06T10:37:58.874Z"
   },
   {
    "duration": 22,
    "start_time": "2024-06-06T10:38:53.554Z"
   },
   {
    "duration": 11,
    "start_time": "2024-06-06T10:39:11.955Z"
   },
   {
    "duration": 149,
    "start_time": "2024-06-06T10:39:11.970Z"
   },
   {
    "duration": 32,
    "start_time": "2024-06-06T10:39:12.122Z"
   },
   {
    "duration": 14,
    "start_time": "2024-06-06T10:39:12.169Z"
   },
   {
    "duration": 91,
    "start_time": "2024-06-06T10:39:12.187Z"
   },
   {
    "duration": 60,
    "start_time": "2024-06-06T10:39:12.283Z"
   },
   {
    "duration": 152,
    "start_time": "2024-06-06T10:39:12.346Z"
   },
   {
    "duration": 40,
    "start_time": "2024-06-06T10:39:12.502Z"
   },
   {
    "duration": 13,
    "start_time": "2024-06-06T10:39:12.557Z"
   },
   {
    "duration": 55,
    "start_time": "2024-06-06T10:39:12.573Z"
   },
   {
    "duration": 51,
    "start_time": "2024-06-06T10:39:12.636Z"
   },
   {
    "duration": 175,
    "start_time": "2024-06-06T10:39:12.690Z"
   },
   {
    "duration": 18,
    "start_time": "2024-06-06T10:39:12.868Z"
   },
   {
    "duration": 13,
    "start_time": "2024-06-06T10:39:12.892Z"
   },
   {
    "duration": 79,
    "start_time": "2024-06-06T10:39:12.907Z"
   },
   {
    "duration": 52,
    "start_time": "2024-06-06T10:39:12.988Z"
   },
   {
    "duration": 9,
    "start_time": "2024-06-06T10:39:13.042Z"
   },
   {
    "duration": 18,
    "start_time": "2024-06-06T10:39:13.065Z"
   },
   {
    "duration": 5,
    "start_time": "2024-06-06T10:39:13.086Z"
   },
   {
    "duration": 52,
    "start_time": "2024-06-06T10:39:13.094Z"
   },
   {
    "duration": 91,
    "start_time": "2024-06-06T10:39:13.151Z"
   },
   {
    "duration": 28,
    "start_time": "2024-06-06T10:39:13.249Z"
   },
   {
    "duration": 101,
    "start_time": "2024-06-06T10:39:13.336Z"
   },
   {
    "duration": 23,
    "start_time": "2024-06-06T10:39:13.440Z"
   },
   {
    "duration": 5,
    "start_time": "2024-06-06T10:39:13.472Z"
   },
   {
    "duration": 57,
    "start_time": "2024-06-06T10:39:13.480Z"
   },
   {
    "duration": 17,
    "start_time": "2024-06-06T10:39:13.541Z"
   },
   {
    "duration": 93,
    "start_time": "2024-06-06T10:39:13.562Z"
   },
   {
    "duration": 11,
    "start_time": "2024-06-06T10:39:13.658Z"
   },
   {
    "duration": 4387,
    "start_time": "2024-06-06T10:39:13.672Z"
   },
   {
    "duration": 1118,
    "start_time": "2024-06-06T10:39:18.066Z"
   },
   {
    "duration": 0,
    "start_time": "2024-06-06T10:39:19.187Z"
   },
   {
    "duration": 0,
    "start_time": "2024-06-06T10:39:19.190Z"
   },
   {
    "duration": 0,
    "start_time": "2024-06-06T10:39:19.192Z"
   },
   {
    "duration": 180,
    "start_time": "2024-06-06T10:39:53.860Z"
   },
   {
    "duration": 30,
    "start_time": "2024-06-06T10:41:23.525Z"
   },
   {
    "duration": 5,
    "start_time": "2024-06-06T10:43:31.124Z"
   },
   {
    "duration": 5,
    "start_time": "2024-06-06T10:43:43.164Z"
   },
   {
    "duration": 144,
    "start_time": "2024-06-06T10:43:43.177Z"
   },
   {
    "duration": 19,
    "start_time": "2024-06-06T10:43:43.346Z"
   },
   {
    "duration": 14,
    "start_time": "2024-06-06T10:43:43.368Z"
   },
   {
    "duration": 79,
    "start_time": "2024-06-06T10:43:43.388Z"
   },
   {
    "duration": 47,
    "start_time": "2024-06-06T10:43:43.471Z"
   },
   {
    "duration": 153,
    "start_time": "2024-06-06T10:43:43.532Z"
   },
   {
    "duration": 18,
    "start_time": "2024-06-06T10:43:43.688Z"
   },
   {
    "duration": 42,
    "start_time": "2024-06-06T10:43:43.708Z"
   },
   {
    "duration": 54,
    "start_time": "2024-06-06T10:43:43.755Z"
   },
   {
    "duration": 56,
    "start_time": "2024-06-06T10:43:43.812Z"
   },
   {
    "duration": 148,
    "start_time": "2024-06-06T10:43:43.870Z"
   },
   {
    "duration": 22,
    "start_time": "2024-06-06T10:43:44.021Z"
   },
   {
    "duration": 13,
    "start_time": "2024-06-06T10:43:44.061Z"
   },
   {
    "duration": 85,
    "start_time": "2024-06-06T10:43:44.083Z"
   },
   {
    "duration": 45,
    "start_time": "2024-06-06T10:43:44.182Z"
   },
   {
    "duration": 5,
    "start_time": "2024-06-06T10:43:44.230Z"
   },
   {
    "duration": 19,
    "start_time": "2024-06-06T10:43:44.238Z"
   },
   {
    "duration": 12,
    "start_time": "2024-06-06T10:43:44.259Z"
   },
   {
    "duration": 16,
    "start_time": "2024-06-06T10:43:44.275Z"
   },
   {
    "duration": 69,
    "start_time": "2024-06-06T10:43:44.293Z"
   },
   {
    "duration": 89,
    "start_time": "2024-06-06T10:43:44.365Z"
   },
   {
    "duration": 84,
    "start_time": "2024-06-06T10:43:44.459Z"
   },
   {
    "duration": 18,
    "start_time": "2024-06-06T10:43:44.552Z"
   },
   {
    "duration": 65,
    "start_time": "2024-06-06T10:43:44.573Z"
   },
   {
    "duration": 10,
    "start_time": "2024-06-06T10:43:44.646Z"
   },
   {
    "duration": 10,
    "start_time": "2024-06-06T10:43:44.660Z"
   },
   {
    "duration": 80,
    "start_time": "2024-06-06T10:43:44.676Z"
   },
   {
    "duration": 7,
    "start_time": "2024-06-06T10:43:44.759Z"
   },
   {
    "duration": 4202,
    "start_time": "2024-06-06T10:43:44.769Z"
   },
   {
    "duration": 190,
    "start_time": "2024-06-06T10:43:48.974Z"
   },
   {
    "duration": 0,
    "start_time": "2024-06-06T10:43:49.168Z"
   },
   {
    "duration": 0,
    "start_time": "2024-06-06T10:43:49.171Z"
   },
   {
    "duration": 0,
    "start_time": "2024-06-06T10:43:49.174Z"
   },
   {
    "duration": 3,
    "start_time": "2024-06-06T10:46:35.264Z"
   },
   {
    "duration": 5,
    "start_time": "2024-06-06T10:46:37.494Z"
   },
   {
    "duration": 73,
    "start_time": "2024-06-06T10:46:40.510Z"
   },
   {
    "duration": 12,
    "start_time": "2024-06-06T10:47:21.244Z"
   },
   {
    "duration": 5,
    "start_time": "2024-06-06T10:47:44.571Z"
   },
   {
    "duration": 155,
    "start_time": "2024-06-06T10:47:44.580Z"
   },
   {
    "duration": 18,
    "start_time": "2024-06-06T10:47:44.753Z"
   },
   {
    "duration": 14,
    "start_time": "2024-06-06T10:47:44.774Z"
   },
   {
    "duration": 67,
    "start_time": "2024-06-06T10:47:44.792Z"
   },
   {
    "duration": 41,
    "start_time": "2024-06-06T10:47:44.861Z"
   },
   {
    "duration": 161,
    "start_time": "2024-06-06T10:47:44.905Z"
   },
   {
    "duration": 18,
    "start_time": "2024-06-06T10:47:45.069Z"
   },
   {
    "duration": 12,
    "start_time": "2024-06-06T10:47:45.089Z"
   },
   {
    "duration": 78,
    "start_time": "2024-06-06T10:47:45.105Z"
   },
   {
    "duration": 61,
    "start_time": "2024-06-06T10:47:45.187Z"
   },
   {
    "duration": 146,
    "start_time": "2024-06-06T10:47:45.250Z"
   },
   {
    "duration": 34,
    "start_time": "2024-06-06T10:47:45.399Z"
   },
   {
    "duration": 27,
    "start_time": "2024-06-06T10:47:45.439Z"
   },
   {
    "duration": 58,
    "start_time": "2024-06-06T10:47:45.469Z"
   },
   {
    "duration": 45,
    "start_time": "2024-06-06T10:47:45.529Z"
   },
   {
    "duration": 5,
    "start_time": "2024-06-06T10:47:45.579Z"
   },
   {
    "duration": 55,
    "start_time": "2024-06-06T10:47:45.587Z"
   },
   {
    "duration": 15,
    "start_time": "2024-06-06T10:47:45.646Z"
   },
   {
    "duration": 24,
    "start_time": "2024-06-06T10:47:45.664Z"
   },
   {
    "duration": 70,
    "start_time": "2024-06-06T10:47:45.690Z"
   },
   {
    "duration": 89,
    "start_time": "2024-06-06T10:47:45.763Z"
   },
   {
    "duration": 78,
    "start_time": "2024-06-06T10:47:45.857Z"
   },
   {
    "duration": 24,
    "start_time": "2024-06-06T10:47:45.939Z"
   },
   {
    "duration": 26,
    "start_time": "2024-06-06T10:47:46.033Z"
   },
   {
    "duration": 8,
    "start_time": "2024-06-06T10:47:46.072Z"
   },
   {
    "duration": 52,
    "start_time": "2024-06-06T10:47:46.083Z"
   },
   {
    "duration": 26,
    "start_time": "2024-06-06T10:47:46.141Z"
   },
   {
    "duration": 7,
    "start_time": "2024-06-06T10:47:46.170Z"
   },
   {
    "duration": 4197,
    "start_time": "2024-06-06T10:47:46.181Z"
   },
   {
    "duration": 4,
    "start_time": "2024-06-06T10:47:50.380Z"
   },
   {
    "duration": 5,
    "start_time": "2024-06-06T10:47:50.387Z"
   },
   {
    "duration": 43,
    "start_time": "2024-06-06T10:47:50.396Z"
   },
   {
    "duration": 71,
    "start_time": "2024-06-06T10:47:50.442Z"
   },
   {
    "duration": 0,
    "start_time": "2024-06-06T10:47:50.516Z"
   },
   {
    "duration": 44,
    "start_time": "2024-06-06T11:02:02.204Z"
   },
   {
    "duration": 10,
    "start_time": "2024-06-06T11:02:35.284Z"
   },
   {
    "duration": 21,
    "start_time": "2024-06-06T11:07:35.022Z"
   },
   {
    "duration": 13,
    "start_time": "2024-06-06T11:07:44.268Z"
   },
   {
    "duration": 15,
    "start_time": "2024-06-06T11:07:54.424Z"
   },
   {
    "duration": 5,
    "start_time": "2024-06-06T11:32:57.086Z"
   },
   {
    "duration": 170,
    "start_time": "2024-06-06T11:32:57.097Z"
   },
   {
    "duration": 17,
    "start_time": "2024-06-06T11:32:57.271Z"
   },
   {
    "duration": 14,
    "start_time": "2024-06-06T11:32:57.291Z"
   },
   {
    "duration": 85,
    "start_time": "2024-06-06T11:32:57.308Z"
   },
   {
    "duration": 67,
    "start_time": "2024-06-06T11:32:57.398Z"
   },
   {
    "duration": 146,
    "start_time": "2024-06-06T11:32:57.467Z"
   },
   {
    "duration": 30,
    "start_time": "2024-06-06T11:32:57.616Z"
   },
   {
    "duration": 12,
    "start_time": "2024-06-06T11:32:57.663Z"
   },
   {
    "duration": 58,
    "start_time": "2024-06-06T11:32:57.678Z"
   },
   {
    "duration": 43,
    "start_time": "2024-06-06T11:32:57.738Z"
   },
   {
    "duration": 157,
    "start_time": "2024-06-06T11:32:57.784Z"
   },
   {
    "duration": 17,
    "start_time": "2024-06-06T11:32:57.944Z"
   },
   {
    "duration": 13,
    "start_time": "2024-06-06T11:32:57.963Z"
   },
   {
    "duration": 92,
    "start_time": "2024-06-06T11:32:57.982Z"
   },
   {
    "duration": 41,
    "start_time": "2024-06-06T11:32:58.077Z"
   },
   {
    "duration": 18,
    "start_time": "2024-06-06T11:32:58.122Z"
   },
   {
    "duration": 22,
    "start_time": "2024-06-06T11:32:58.141Z"
   },
   {
    "duration": 6,
    "start_time": "2024-06-06T11:32:58.165Z"
   },
   {
    "duration": 19,
    "start_time": "2024-06-06T11:32:58.174Z"
   },
   {
    "duration": 98,
    "start_time": "2024-06-06T11:32:58.237Z"
   },
   {
    "duration": 30,
    "start_time": "2024-06-06T11:32:58.339Z"
   },
   {
    "duration": 78,
    "start_time": "2024-06-06T11:32:58.375Z"
   },
   {
    "duration": 77,
    "start_time": "2024-06-06T11:32:58.464Z"
   },
   {
    "duration": 9,
    "start_time": "2024-06-06T11:32:58.544Z"
   },
   {
    "duration": 11,
    "start_time": "2024-06-06T11:32:58.555Z"
   },
   {
    "duration": 63,
    "start_time": "2024-06-06T11:32:58.569Z"
   },
   {
    "duration": 20,
    "start_time": "2024-06-06T11:32:58.636Z"
   },
   {
    "duration": 79,
    "start_time": "2024-06-06T11:32:58.660Z"
   },
   {
    "duration": 9,
    "start_time": "2024-06-06T11:32:58.742Z"
   },
   {
    "duration": 4166,
    "start_time": "2024-06-06T11:32:58.755Z"
   },
   {
    "duration": 10,
    "start_time": "2024-06-06T11:33:02.925Z"
   },
   {
    "duration": 9,
    "start_time": "2024-06-06T11:33:02.949Z"
   },
   {
    "duration": 15,
    "start_time": "2024-06-06T11:33:02.961Z"
   },
   {
    "duration": 5087,
    "start_time": "2024-06-07T01:35:09.641Z"
   },
   {
    "duration": 174,
    "start_time": "2024-06-07T01:35:14.731Z"
   },
   {
    "duration": 21,
    "start_time": "2024-06-07T01:35:14.907Z"
   },
   {
    "duration": 14,
    "start_time": "2024-06-07T01:35:14.933Z"
   },
   {
    "duration": 90,
    "start_time": "2024-06-07T01:35:14.950Z"
   },
   {
    "duration": 66,
    "start_time": "2024-06-07T01:35:15.043Z"
   },
   {
    "duration": 181,
    "start_time": "2024-06-07T01:35:15.111Z"
   },
   {
    "duration": 18,
    "start_time": "2024-06-07T01:35:15.301Z"
   },
   {
    "duration": 14,
    "start_time": "2024-06-07T01:35:15.321Z"
   },
   {
    "duration": 88,
    "start_time": "2024-06-07T01:35:15.341Z"
   },
   {
    "duration": 42,
    "start_time": "2024-06-07T01:35:15.432Z"
   },
   {
    "duration": 191,
    "start_time": "2024-06-07T01:35:15.477Z"
   },
   {
    "duration": 18,
    "start_time": "2024-06-07T01:35:15.671Z"
   },
   {
    "duration": 23,
    "start_time": "2024-06-07T01:35:15.692Z"
   },
   {
    "duration": 98,
    "start_time": "2024-06-07T01:35:15.718Z"
   },
   {
    "duration": 42,
    "start_time": "2024-06-07T01:35:15.820Z"
   },
   {
    "duration": 6,
    "start_time": "2024-06-07T01:35:15.865Z"
   },
   {
    "duration": 46,
    "start_time": "2024-06-07T01:35:15.874Z"
   },
   {
    "duration": 5,
    "start_time": "2024-06-07T01:35:15.924Z"
   },
   {
    "duration": 69,
    "start_time": "2024-06-07T01:35:15.933Z"
   },
   {
    "duration": 98,
    "start_time": "2024-06-07T01:35:16.005Z"
   },
   {
    "duration": 18,
    "start_time": "2024-06-07T01:35:16.106Z"
   },
   {
    "duration": 81,
    "start_time": "2024-06-07T01:35:16.127Z"
   },
   {
    "duration": 94,
    "start_time": "2024-06-07T01:35:16.211Z"
   },
   {
    "duration": 9,
    "start_time": "2024-06-07T01:35:16.310Z"
   },
   {
    "duration": 79,
    "start_time": "2024-06-07T01:35:16.327Z"
   },
   {
    "duration": 18,
    "start_time": "2024-06-07T01:35:16.411Z"
   },
   {
    "duration": 9,
    "start_time": "2024-06-07T01:35:16.501Z"
   },
   {
    "duration": 23,
    "start_time": "2024-06-07T01:35:16.516Z"
   },
   {
    "duration": 8,
    "start_time": "2024-06-07T01:35:16.542Z"
   },
   {
    "duration": 4261,
    "start_time": "2024-06-07T01:35:16.553Z"
   },
   {
    "duration": 4,
    "start_time": "2024-06-07T01:35:20.816Z"
   },
   {
    "duration": 5,
    "start_time": "2024-06-07T01:35:20.824Z"
   },
   {
    "duration": 512,
    "start_time": "2024-06-07T01:35:20.832Z"
   },
   {
    "duration": 21,
    "start_time": "2024-06-07T01:39:02.891Z"
   },
   {
    "duration": 16,
    "start_time": "2024-06-07T01:39:06.212Z"
   },
   {
    "duration": 1079,
    "start_time": "2024-06-07T01:40:11.451Z"
   }
  ],
  "kernelspec": {
   "display_name": "Python 3 (ipykernel)",
   "language": "python",
   "name": "python3"
  },
  "language_info": {
   "codemirror_mode": {
    "name": "ipython",
    "version": 3
   },
   "file_extension": ".py",
   "mimetype": "text/x-python",
   "name": "python",
   "nbconvert_exporter": "python",
   "pygments_lexer": "ipython3",
   "version": "3.9.19"
  },
  "toc": {
   "base_numbering": 1,
   "nav_menu": {},
   "number_sections": true,
   "sideBar": true,
   "skip_h1_title": true,
   "title_cell": "Table of Contents",
   "title_sidebar": "Contents",
   "toc_cell": false,
   "toc_position": {},
   "toc_section_display": true,
   "toc_window_display": false
  }
 },
 "nbformat": 4,
 "nbformat_minor": 2
}
