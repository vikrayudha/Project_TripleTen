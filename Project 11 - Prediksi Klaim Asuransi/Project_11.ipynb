{
 "cells": [
  {
   "cell_type": "markdown",
   "metadata": {},
   "source": [
    "# Pernyataan"
   ]
  },
  {
   "cell_type": "markdown",
   "metadata": {},
   "source": [
    "Perusahaan asuransi bernama \"Sure Tomorrow\" ingin menyelesaikan beberapa masalah dengan bantuan *machine learning*. Anda pun diminta untuk mengevaluasi kemungkinan tersebut.\n",
    "\n",
    "- Tugas 1: Temukan klien yang mirip dengan kriteria klien tertentu. Tugas ini akan memudahkan perusahaan untuk melakukan pemasaran.\n",
    "- Tugas 2: Prediksi apakah klien baru kemungkinan akan mengambil klaim asuransi. Apakah prediksi model lebih baik daripada prediksi model *dummy*?\n",
    "- Tugas 3: Prediksi besaran klaim asuransi yang mungkin diterima klien baru menggunakan model regresi linear.\n",
    "- Tugas 4: Lindungi data pribadi klien tanpa merusak model dari tugas sebelumnya. Sangatlah penting untuk mengembangkan algoritme transformasi data yang dapat mencegah penyalahgunaan informasi pribadi klien jika data tersebut jatuh ke tangan yang salah. Hal ini disebut penyembunyian data atau pengaburan data. Namun, prosedur perlindungan datanya pun perlu diperhatikan agar kualitas *model machine* learning tidak menurun. Di sini, Anda tidak perlu memilih model yang terbaik, cukup buktikan bahwa algoritme Anda bekerja secara akurat."
   ]
  },
  {
   "cell_type": "markdown",
   "metadata": {},
   "source": [
    "## Pra-pemrosesan & Eksplorasi Data\n",
    "\n",
    "### Inisialisasi"
   ]
  },
  {
   "cell_type": "code",
   "execution_count": 1,
   "metadata": {},
   "outputs": [
    {
     "name": "stdout",
     "output_type": "stream",
     "text": [
      "\u001b[33mWARNING: Ignoring invalid distribution -ikit-learn (/opt/conda/envs/python3/lib/python3.9/site-packages)\u001b[0m\u001b[33m\n",
      "\u001b[0m\u001b[33mWARNING: Ignoring invalid distribution - (/opt/conda/envs/python3/lib/python3.9/site-packages)\u001b[0m\u001b[33m\n",
      "\u001b[0m\u001b[33mWARNING: Ignoring invalid distribution -ikit-learn (/opt/conda/envs/python3/lib/python3.9/site-packages)\u001b[0m\u001b[33m\n",
      "\u001b[0m\u001b[33mWARNING: Ignoring invalid distribution -0ikit-learn (/opt/conda/envs/python3/lib/python3.9/site-packages)\u001b[0m\u001b[33m\n",
      "\u001b[0m\u001b[33mWARNING: Ignoring invalid distribution -cikit-learn (/opt/conda/envs/python3/lib/python3.9/site-packages)\u001b[0m\u001b[33m\n",
      "\u001b[0mRequirement already satisfied: scikit-learn in /opt/conda/envs/python3/lib/python3.9/site-packages (0.24.1)\n",
      "Collecting scikit-learn\n",
      "  Using cached scikit_learn-1.5.0-cp39-cp39-manylinux_2_17_x86_64.manylinux2014_x86_64.whl.metadata (11 kB)\n",
      "Requirement already satisfied: numpy>=1.19.5 in /opt/conda/envs/python3/lib/python3.9/site-packages (from scikit-learn) (1.21.2)\n",
      "Requirement already satisfied: scipy>=1.6.0 in /opt/conda/envs/python3/lib/python3.9/site-packages (from scikit-learn) (1.10.1)\n",
      "Requirement already satisfied: joblib>=1.2.0 in /opt/conda/envs/python3/lib/python3.9/site-packages (from scikit-learn) (1.4.2)\n",
      "Requirement already satisfied: threadpoolctl>=3.1.0 in /opt/conda/envs/python3/lib/python3.9/site-packages (from scikit-learn) (3.5.0)\n",
      "Using cached scikit_learn-1.5.0-cp39-cp39-manylinux_2_17_x86_64.manylinux2014_x86_64.whl (13.4 MB)\n",
      "\u001b[33mWARNING: Ignoring invalid distribution -ikit-learn (/opt/conda/envs/python3/lib/python3.9/site-packages)\u001b[0m\u001b[33m\n",
      "\u001b[0m\u001b[33mWARNING: Ignoring invalid distribution - (/opt/conda/envs/python3/lib/python3.9/site-packages)\u001b[0m\u001b[33m\n",
      "\u001b[0m\u001b[33mWARNING: Ignoring invalid distribution -ikit-learn (/opt/conda/envs/python3/lib/python3.9/site-packages)\u001b[0m\u001b[33m\n",
      "\u001b[0m\u001b[33mWARNING: Ignoring invalid distribution -0ikit-learn (/opt/conda/envs/python3/lib/python3.9/site-packages)\u001b[0m\u001b[33m\n",
      "\u001b[0m\u001b[33mWARNING: Ignoring invalid distribution -cikit-learn (/opt/conda/envs/python3/lib/python3.9/site-packages)\u001b[0m\u001b[33m\n",
      "\u001b[0mInstalling collected packages: scikit-learn\n",
      "  Attempting uninstall: scikit-learn\n",
      "    Found existing installation: scikit-learn 0.24.1\n",
      "    Uninstalling scikit-learn-0.24.1:\n",
      "\u001b[31mERROR: Could not install packages due to an OSError: [Errno 13] Permission denied: 'COPYING'\n",
      "Consider using the `--user` option or check the permissions.\n",
      "\u001b[0m\u001b[31m\n",
      "\u001b[0mNote: you may need to restart the kernel to use updated packages.\n"
     ]
    }
   ],
   "source": [
    "pip install scikit-learn --upgrade"
   ]
  },
  {
   "cell_type": "code",
   "execution_count": 2,
   "metadata": {},
   "outputs": [],
   "source": [
    "#memasukkan semua library\n",
    "import numpy as np\n",
    "import pandas as pd\n",
    "import matplotlib.pyplot as plt\n",
    "import seaborn as sns\n",
    "import math\n",
    "import sklearn.linear_model\n",
    "import sklearn.metrics\n",
    "import sklearn.neighbors\n",
    "from sklearn.neighbors import kneighbors_graph\n",
    "import sklearn.preprocessing\n",
    "\n",
    "from sklearn.model_selection import train_test_split\n",
    "\n",
    "from IPython.display import display"
   ]
  },
  {
   "cell_type": "markdown",
   "metadata": {},
   "source": [
    "### Muat Data"
   ]
  },
  {
   "cell_type": "markdown",
   "metadata": {},
   "source": [
    "Muat data dan lakukan pemeriksaan untuk memastikan data bebas dari permasalahan."
   ]
  },
  {
   "cell_type": "code",
   "execution_count": 3,
   "metadata": {},
   "outputs": [],
   "source": [
    "df = pd.read_csv('/datasets/insurance_us.csv')"
   ]
  },
  {
   "cell_type": "markdown",
   "metadata": {},
   "source": [
    "Kami mengganti nama kolom untuk membuat kode terlihat lebih konsisten dengan gayanya."
   ]
  },
  {
   "cell_type": "code",
   "execution_count": 4,
   "metadata": {},
   "outputs": [],
   "source": [
    "df = df.rename(columns={'Gender': 'gender', 'Age': 'age', 'Salary': 'income', 'Family members': 'family_members', 'Insurance benefits': 'insurance_benefits'})"
   ]
  },
  {
   "cell_type": "code",
   "execution_count": 5,
   "metadata": {},
   "outputs": [
    {
     "data": {
      "text/html": [
       "<div>\n",
       "<style scoped>\n",
       "    .dataframe tbody tr th:only-of-type {\n",
       "        vertical-align: middle;\n",
       "    }\n",
       "\n",
       "    .dataframe tbody tr th {\n",
       "        vertical-align: top;\n",
       "    }\n",
       "\n",
       "    .dataframe thead th {\n",
       "        text-align: right;\n",
       "    }\n",
       "</style>\n",
       "<table border=\"1\" class=\"dataframe\">\n",
       "  <thead>\n",
       "    <tr style=\"text-align: right;\">\n",
       "      <th></th>\n",
       "      <th>gender</th>\n",
       "      <th>age</th>\n",
       "      <th>income</th>\n",
       "      <th>family_members</th>\n",
       "      <th>insurance_benefits</th>\n",
       "    </tr>\n",
       "  </thead>\n",
       "  <tbody>\n",
       "    <tr>\n",
       "      <th>2769</th>\n",
       "      <td>1</td>\n",
       "      <td>23.0</td>\n",
       "      <td>32800.0</td>\n",
       "      <td>4</td>\n",
       "      <td>0</td>\n",
       "    </tr>\n",
       "    <tr>\n",
       "      <th>4781</th>\n",
       "      <td>1</td>\n",
       "      <td>40.0</td>\n",
       "      <td>37400.0</td>\n",
       "      <td>2</td>\n",
       "      <td>0</td>\n",
       "    </tr>\n",
       "    <tr>\n",
       "      <th>1151</th>\n",
       "      <td>0</td>\n",
       "      <td>32.0</td>\n",
       "      <td>38300.0</td>\n",
       "      <td>2</td>\n",
       "      <td>0</td>\n",
       "    </tr>\n",
       "    <tr>\n",
       "      <th>862</th>\n",
       "      <td>1</td>\n",
       "      <td>36.0</td>\n",
       "      <td>34600.0</td>\n",
       "      <td>1</td>\n",
       "      <td>0</td>\n",
       "    </tr>\n",
       "    <tr>\n",
       "      <th>1584</th>\n",
       "      <td>1</td>\n",
       "      <td>19.0</td>\n",
       "      <td>51800.0</td>\n",
       "      <td>1</td>\n",
       "      <td>0</td>\n",
       "    </tr>\n",
       "    <tr>\n",
       "      <th>461</th>\n",
       "      <td>0</td>\n",
       "      <td>42.0</td>\n",
       "      <td>58400.0</td>\n",
       "      <td>1</td>\n",
       "      <td>1</td>\n",
       "    </tr>\n",
       "    <tr>\n",
       "      <th>2652</th>\n",
       "      <td>0</td>\n",
       "      <td>31.0</td>\n",
       "      <td>37600.0</td>\n",
       "      <td>0</td>\n",
       "      <td>0</td>\n",
       "    </tr>\n",
       "    <tr>\n",
       "      <th>3632</th>\n",
       "      <td>1</td>\n",
       "      <td>26.0</td>\n",
       "      <td>45300.0</td>\n",
       "      <td>3</td>\n",
       "      <td>0</td>\n",
       "    </tr>\n",
       "    <tr>\n",
       "      <th>2961</th>\n",
       "      <td>1</td>\n",
       "      <td>22.0</td>\n",
       "      <td>41500.0</td>\n",
       "      <td>1</td>\n",
       "      <td>0</td>\n",
       "    </tr>\n",
       "    <tr>\n",
       "      <th>2274</th>\n",
       "      <td>1</td>\n",
       "      <td>41.0</td>\n",
       "      <td>30200.0</td>\n",
       "      <td>0</td>\n",
       "      <td>0</td>\n",
       "    </tr>\n",
       "  </tbody>\n",
       "</table>\n",
       "</div>"
      ],
      "text/plain": [
       "      gender   age   income  family_members  insurance_benefits\n",
       "2769       1  23.0  32800.0               4                   0\n",
       "4781       1  40.0  37400.0               2                   0\n",
       "1151       0  32.0  38300.0               2                   0\n",
       "862        1  36.0  34600.0               1                   0\n",
       "1584       1  19.0  51800.0               1                   0\n",
       "461        0  42.0  58400.0               1                   1\n",
       "2652       0  31.0  37600.0               0                   0\n",
       "3632       1  26.0  45300.0               3                   0\n",
       "2961       1  22.0  41500.0               1                   0\n",
       "2274       1  41.0  30200.0               0                   0"
      ]
     },
     "execution_count": 5,
     "metadata": {},
     "output_type": "execute_result"
    }
   ],
   "source": [
    "df.sample(10)"
   ]
  },
  {
   "cell_type": "code",
   "execution_count": 6,
   "metadata": {},
   "outputs": [
    {
     "name": "stdout",
     "output_type": "stream",
     "text": [
      "<class 'pandas.core.frame.DataFrame'>\n",
      "RangeIndex: 5000 entries, 0 to 4999\n",
      "Data columns (total 5 columns):\n",
      " #   Column              Non-Null Count  Dtype  \n",
      "---  ------              --------------  -----  \n",
      " 0   gender              5000 non-null   int64  \n",
      " 1   age                 5000 non-null   float64\n",
      " 2   income              5000 non-null   float64\n",
      " 3   family_members      5000 non-null   int64  \n",
      " 4   insurance_benefits  5000 non-null   int64  \n",
      "dtypes: float64(2), int64(3)\n",
      "memory usage: 195.4 KB\n"
     ]
    }
   ],
   "source": [
    "df.info()"
   ]
  },
  {
   "cell_type": "markdown",
   "metadata": {},
   "source": [
    "data berisikan 5 kolom dan memiliki 5000 data, kolom `age` memiliki tipe data yang salah, diputuskan untuk mengubahnya terlebih dahulu, tidak terdapat data hilang pada dataset"
   ]
  },
  {
   "cell_type": "code",
   "execution_count": 7,
   "metadata": {},
   "outputs": [],
   "source": [
    "# Anda mungkin ingin mengganti tipe data untuk kolom age (dari float ke int), tetapi ini tidak terlalu penting untuk dilakukan\n",
    "# ketik kode untuk mengubah tipe data di sini jika Anda memilih untuk melakukannya:\n",
    "df['age'] = df['age'].astype('int64')"
   ]
  },
  {
   "cell_type": "code",
   "execution_count": 8,
   "metadata": {},
   "outputs": [
    {
     "data": {
      "text/plain": [
       "dtype('int64')"
      ]
     },
     "execution_count": 8,
     "metadata": {},
     "output_type": "execute_result"
    }
   ],
   "source": [
    "# periksa apakah proses pengubahannya sudah berhasil\n",
    "df['age'].dtypes"
   ]
  },
  {
   "cell_type": "code",
   "execution_count": 9,
   "metadata": {},
   "outputs": [
    {
     "data": {
      "text/html": [
       "<div>\n",
       "<style scoped>\n",
       "    .dataframe tbody tr th:only-of-type {\n",
       "        vertical-align: middle;\n",
       "    }\n",
       "\n",
       "    .dataframe tbody tr th {\n",
       "        vertical-align: top;\n",
       "    }\n",
       "\n",
       "    .dataframe thead th {\n",
       "        text-align: right;\n",
       "    }\n",
       "</style>\n",
       "<table border=\"1\" class=\"dataframe\">\n",
       "  <thead>\n",
       "    <tr style=\"text-align: right;\">\n",
       "      <th></th>\n",
       "      <th>gender</th>\n",
       "      <th>age</th>\n",
       "      <th>income</th>\n",
       "      <th>family_members</th>\n",
       "      <th>insurance_benefits</th>\n",
       "    </tr>\n",
       "  </thead>\n",
       "  <tbody>\n",
       "    <tr>\n",
       "      <th>count</th>\n",
       "      <td>5000.000000</td>\n",
       "      <td>5000.000000</td>\n",
       "      <td>5000.000000</td>\n",
       "      <td>5000.000000</td>\n",
       "      <td>5000.000000</td>\n",
       "    </tr>\n",
       "    <tr>\n",
       "      <th>mean</th>\n",
       "      <td>0.499000</td>\n",
       "      <td>30.952800</td>\n",
       "      <td>39916.360000</td>\n",
       "      <td>1.194200</td>\n",
       "      <td>0.148000</td>\n",
       "    </tr>\n",
       "    <tr>\n",
       "      <th>std</th>\n",
       "      <td>0.500049</td>\n",
       "      <td>8.440807</td>\n",
       "      <td>9900.083569</td>\n",
       "      <td>1.091387</td>\n",
       "      <td>0.463183</td>\n",
       "    </tr>\n",
       "    <tr>\n",
       "      <th>min</th>\n",
       "      <td>0.000000</td>\n",
       "      <td>18.000000</td>\n",
       "      <td>5300.000000</td>\n",
       "      <td>0.000000</td>\n",
       "      <td>0.000000</td>\n",
       "    </tr>\n",
       "    <tr>\n",
       "      <th>25%</th>\n",
       "      <td>0.000000</td>\n",
       "      <td>24.000000</td>\n",
       "      <td>33300.000000</td>\n",
       "      <td>0.000000</td>\n",
       "      <td>0.000000</td>\n",
       "    </tr>\n",
       "    <tr>\n",
       "      <th>50%</th>\n",
       "      <td>0.000000</td>\n",
       "      <td>30.000000</td>\n",
       "      <td>40200.000000</td>\n",
       "      <td>1.000000</td>\n",
       "      <td>0.000000</td>\n",
       "    </tr>\n",
       "    <tr>\n",
       "      <th>75%</th>\n",
       "      <td>1.000000</td>\n",
       "      <td>37.000000</td>\n",
       "      <td>46600.000000</td>\n",
       "      <td>2.000000</td>\n",
       "      <td>0.000000</td>\n",
       "    </tr>\n",
       "    <tr>\n",
       "      <th>max</th>\n",
       "      <td>1.000000</td>\n",
       "      <td>65.000000</td>\n",
       "      <td>79000.000000</td>\n",
       "      <td>6.000000</td>\n",
       "      <td>5.000000</td>\n",
       "    </tr>\n",
       "  </tbody>\n",
       "</table>\n",
       "</div>"
      ],
      "text/plain": [
       "            gender          age        income  family_members  \\\n",
       "count  5000.000000  5000.000000   5000.000000     5000.000000   \n",
       "mean      0.499000    30.952800  39916.360000        1.194200   \n",
       "std       0.500049     8.440807   9900.083569        1.091387   \n",
       "min       0.000000    18.000000   5300.000000        0.000000   \n",
       "25%       0.000000    24.000000  33300.000000        0.000000   \n",
       "50%       0.000000    30.000000  40200.000000        1.000000   \n",
       "75%       1.000000    37.000000  46600.000000        2.000000   \n",
       "max       1.000000    65.000000  79000.000000        6.000000   \n",
       "\n",
       "       insurance_benefits  \n",
       "count         5000.000000  \n",
       "mean             0.148000  \n",
       "std              0.463183  \n",
       "min              0.000000  \n",
       "25%              0.000000  \n",
       "50%              0.000000  \n",
       "75%              0.000000  \n",
       "max              5.000000  "
      ]
     },
     "execution_count": 9,
     "metadata": {},
     "output_type": "execute_result"
    }
   ],
   "source": [
    "# Sekarang, amati statistika deskriptif dari data kita. \n",
    "# Apakah semuanya sudah benar?\n",
    "df.describe()"
   ]
  },
  {
   "cell_type": "code",
   "execution_count": 10,
   "metadata": {},
   "outputs": [
    {
     "data": {
      "text/plain": [
       "153"
      ]
     },
     "execution_count": 10,
     "metadata": {},
     "output_type": "execute_result"
    }
   ],
   "source": [
    "# mengecek duplikasi pada dataset\n",
    "df.duplicated().sum()"
   ]
  },
  {
   "cell_type": "markdown",
   "metadata": {},
   "source": [
    "disini terlihat bahwa terdapat banyak data yang terduplikasi, akan tetapi tidak bisa dipastikan karena data tidak memiliki kode unik dan hanya data umum, maka diputuskan untuk membiarkannya terlebih dahulu"
   ]
  },
  {
   "cell_type": "markdown",
   "metadata": {},
   "source": [
    "**Kesimpulan:** dataset berisikan 5 kolom dan 5000 data, kolom `age` berisikan tipe data yang salah sehingga harus diubah terlebih dahulu, terdapat beberapa data yang terduplikasi akan tetapi tidak dapat dipastikan pengaruhnya karena tidak ada kode unik per kolomnya sehingga diputuskan dibiarkan terlebih dahulu"
   ]
  },
  {
   "cell_type": "markdown",
   "metadata": {},
   "source": [
    "### EDA"
   ]
  },
  {
   "cell_type": "markdown",
   "metadata": {},
   "source": [
    "Mari kita periksa dengan cepat, apakah ada kelompok pelanggan tertentu dengan melihat plot pasangan?"
   ]
  },
  {
   "cell_type": "code",
   "execution_count": 11,
   "metadata": {},
   "outputs": [
    {
     "data": {
      "image/png": "[encoded data removed]",
      "text/plain": [
       "<Figure size 1200x1200 with 30 Axes>"
      ]
     },
     "metadata": {},
     "output_type": "display_data"
    }
   ],
   "source": [
    "g = sns.pairplot(df, kind='hist')\n",
    "g.fig.set_size_inches(12, 12)"
   ]
  },
  {
   "cell_type": "markdown",
   "metadata": {},
   "source": [
    "Baiklah, sepertinya agak sulit untuk melihat kelompok (klaster) yang jelas mengingat sulitnya menggabungkan beberapa variabel secara bersamaan (untuk menganalisis distribusi multivariat). Namun, itulah gunanya LA dan ML di sini."
   ]
  },
  {
   "cell_type": "code",
   "execution_count": 12,
   "metadata": {},
   "outputs": [
    {
     "data": {
      "image/png": "[encoded data removed]",
      "text/plain": [
       "<Figure size 800x500 with 2 Axes>"
      ]
     },
     "metadata": {},
     "output_type": "display_data"
    }
   ],
   "source": [
    "# mengecek korelasi menggunakan tabel korelasi\n",
    "plt.figure(figsize=(8,5))\n",
    "sns.heatmap(df.corr(),annot=True,cmap='viridis')\n",
    "plt.xticks(rotation=10)\n",
    "plt.show()"
   ]
  },
  {
   "cell_type": "markdown",
   "metadata": {},
   "source": [
    "dapat dilihat bahwa kolom `insurance_benefits` memiliki korelasi yang tinggi dengan `age`"
   ]
  },
  {
   "cell_type": "markdown",
   "metadata": {},
   "source": [
    "## Tugas 1. Klien yang Mirip"
   ]
  },
  {
   "cell_type": "markdown",
   "metadata": {},
   "source": [
    "Dalam bahasa pemrograman ML, penting untuk mengembangkan prosedur yang bisa menentukan *k-nearest neighbors* (objek) pada objek tertentu berdasarkan jarak antar objek.\n",
    "\n",
    "Anda mungkin ingin mengulas kembali pelajaran berikut (bab -> pelajaran)\n",
    "- Jarak Antar Vektor -> Jarak Euklides\n",
    "- Jarak Antar Vektor -> Jarak Manhattan\n",
    "\n",
    "Untuk menyelesaikan tugas ini, kita bisa mencoba beberapa metrik jarak."
   ]
  },
  {
   "cell_type": "markdown",
   "metadata": {},
   "source": [
    "Buatlah sebuah fungsi yang menampilkan *k-nearest neighbors* terdekat untuk objek ke-n berdasarkan metrik jarak tertentu.  Besarnya klaim asuransi yang diterima tidak perlu diperhitungkan dalam tugas ini.\n",
    "\n",
    "Anda bisa menggunakan implementasi algoritme kNN yang sudah tersedia di Scikit-learn  (periksa [tautan](https://scikit-learn.org/stable/modules/generated/sklearn.neighbors.NearestNeighbors.html#sklearn.neighbors.NearestNeighbors) ini) atau menggunakan punya Anda sendiri.\n",
    "\n",
    "Uji algoritme tersebut untuk empat kombinasi dari dua kasus\n",
    "- Penskalaan\n",
    "  - data tidak diskalakan\n",
    "  - data diskalakan dengan [MaxAbsScaler](https://scikit-learn.org/stable/modules/generated/sklearn.preprocessing.MaxAbsScaler.html) \n",
    "- Metrik Jarak\n",
    "  - Euklides\n",
    "  - Manhattan\n",
    "\n",
    "Jawablah pertanyaan-pertanyaan berikut:\n",
    "- Apakah data yang tidak berskala memengaruhi algoritme kNN? Jika berpengaruh, lalu bagaimanakah bentuknya?\n",
    "- Seberapa mirip hasil yang Anda dapatkan dari metrik Euklides dengan saat Anda menggunakan metrik jarak Manhattan (abaikan ada atau tidaknya skala)?"
   ]
  },
  {
   "cell_type": "code",
   "execution_count": 13,
   "metadata": {},
   "outputs": [],
   "source": [
    "feature_names = ['gender', 'age', 'income', 'family_members']"
   ]
  },
  {
   "cell_type": "code",
   "execution_count": 14,
   "metadata": {},
   "outputs": [],
   "source": [
    "def get_knn(df, n, k, metric):\n",
    "    \n",
    "    \"\"\"\n",
    "    Menampilkan k nearest neighbors\n",
    "\n",
    "    :param df: DataFrame Pandas digunakan untuk menemukan objek-objek yang mirip di dalamnya\n",
    "    :param n: nomor objek yang dicari k nearest neighbors\n",
    "    :param k: jumlah k nearest neighbors yang ditampilkan\n",
    "    :param metric: nama metrik jarak\n",
    "    \"\"\"\n",
    "\n",
    "    nbrs = sklearn.neighbors.NearestNeighbors(n_neighbors=k, metric=metric) \n",
    "    nbrs.fit(df[feature_names])\n",
    "    nbrs_distances, nbrs_indices = nbrs.kneighbors([df.iloc[n][feature_names]], k, return_distance=True)\n",
    "    \n",
    "    df_res = pd.concat([\n",
    "        df.iloc[nbrs_indices[0]], \n",
    "        pd.DataFrame(nbrs_distances.T, index=nbrs_indices[0], columns=['distance'])\n",
    "        ], axis=1)\n",
    "    \n",
    "    return df_res"
   ]
  },
  {
   "cell_type": "markdown",
   "metadata": {},
   "source": [
    "selanjutnya kita perlu mengatur skala data."
   ]
  },
  {
   "cell_type": "code",
   "execution_count": 15,
   "metadata": {},
   "outputs": [],
   "source": [
    "feature_names = ['gender', 'age', 'income', 'family_members']\n",
    "\n",
    "transformer_mas = sklearn.preprocessing.MaxAbsScaler().fit(df[feature_names].to_numpy())\n",
    "\n",
    "df_scaled = df.copy()\n",
    "df_scaled.loc[:, feature_names] = transformer_mas.transform(df[feature_names].to_numpy())"
   ]
  },
  {
   "cell_type": "code",
   "execution_count": 16,
   "metadata": {},
   "outputs": [
    {
     "data": {
      "text/html": [
       "<div>\n",
       "<style scoped>\n",
       "    .dataframe tbody tr th:only-of-type {\n",
       "        vertical-align: middle;\n",
       "    }\n",
       "\n",
       "    .dataframe tbody tr th {\n",
       "        vertical-align: top;\n",
       "    }\n",
       "\n",
       "    .dataframe thead th {\n",
       "        text-align: right;\n",
       "    }\n",
       "</style>\n",
       "<table border=\"1\" class=\"dataframe\">\n",
       "  <thead>\n",
       "    <tr style=\"text-align: right;\">\n",
       "      <th></th>\n",
       "      <th>gender</th>\n",
       "      <th>age</th>\n",
       "      <th>income</th>\n",
       "      <th>family_members</th>\n",
       "      <th>insurance_benefits</th>\n",
       "    </tr>\n",
       "  </thead>\n",
       "  <tbody>\n",
       "    <tr>\n",
       "      <th>438</th>\n",
       "      <td>0.0</td>\n",
       "      <td>0.553846</td>\n",
       "      <td>0.459494</td>\n",
       "      <td>0.166667</td>\n",
       "      <td>0</td>\n",
       "    </tr>\n",
       "    <tr>\n",
       "      <th>4075</th>\n",
       "      <td>0.0</td>\n",
       "      <td>0.292308</td>\n",
       "      <td>0.598734</td>\n",
       "      <td>0.333333</td>\n",
       "      <td>0</td>\n",
       "    </tr>\n",
       "    <tr>\n",
       "      <th>2186</th>\n",
       "      <td>1.0</td>\n",
       "      <td>0.523077</td>\n",
       "      <td>0.425316</td>\n",
       "      <td>0.166667</td>\n",
       "      <td>0</td>\n",
       "    </tr>\n",
       "    <tr>\n",
       "      <th>2989</th>\n",
       "      <td>1.0</td>\n",
       "      <td>0.615385</td>\n",
       "      <td>0.486076</td>\n",
       "      <td>0.000000</td>\n",
       "      <td>0</td>\n",
       "    </tr>\n",
       "    <tr>\n",
       "      <th>1321</th>\n",
       "      <td>1.0</td>\n",
       "      <td>0.507692</td>\n",
       "      <td>0.311392</td>\n",
       "      <td>0.166667</td>\n",
       "      <td>0</td>\n",
       "    </tr>\n",
       "  </tbody>\n",
       "</table>\n",
       "</div>"
      ],
      "text/plain": [
       "      gender       age    income  family_members  insurance_benefits\n",
       "438      0.0  0.553846  0.459494        0.166667                   0\n",
       "4075     0.0  0.292308  0.598734        0.333333                   0\n",
       "2186     1.0  0.523077  0.425316        0.166667                   0\n",
       "2989     1.0  0.615385  0.486076        0.000000                   0\n",
       "1321     1.0  0.507692  0.311392        0.166667                   0"
      ]
     },
     "execution_count": 16,
     "metadata": {},
     "output_type": "execute_result"
    }
   ],
   "source": [
    "df_scaled.sample(5)"
   ]
  },
  {
   "cell_type": "markdown",
   "metadata": {},
   "source": [
    "Sekarang, mari kita dapatkan catatan yang mirip untuk setiap kombinasi yang ada"
   ]
  },
  {
   "cell_type": "markdown",
   "metadata": {},
   "source": [
    "### Membandingkan Hasil KNN Menggunakan Dataset Asli dan Dataset Skala"
   ]
  },
  {
   "cell_type": "code",
   "execution_count": 17,
   "metadata": {},
   "outputs": [
    {
     "data": {
      "text/html": [
       "<div>\n",
       "<style scoped>\n",
       "    .dataframe tbody tr th:only-of-type {\n",
       "        vertical-align: middle;\n",
       "    }\n",
       "\n",
       "    .dataframe tbody tr th {\n",
       "        vertical-align: top;\n",
       "    }\n",
       "\n",
       "    .dataframe thead th {\n",
       "        text-align: right;\n",
       "    }\n",
       "</style>\n",
       "<table border=\"1\" class=\"dataframe\">\n",
       "  <thead>\n",
       "    <tr style=\"text-align: right;\">\n",
       "      <th></th>\n",
       "      <th>gender</th>\n",
       "      <th>age</th>\n",
       "      <th>income</th>\n",
       "      <th>family_members</th>\n",
       "      <th>insurance_benefits</th>\n",
       "      <th>distance</th>\n",
       "    </tr>\n",
       "  </thead>\n",
       "  <tbody>\n",
       "    <tr>\n",
       "      <th>100</th>\n",
       "      <td>0</td>\n",
       "      <td>19</td>\n",
       "      <td>37300.0</td>\n",
       "      <td>1</td>\n",
       "      <td>0</td>\n",
       "      <td>0.000000</td>\n",
       "    </tr>\n",
       "    <tr>\n",
       "      <th>4278</th>\n",
       "      <td>1</td>\n",
       "      <td>19</td>\n",
       "      <td>37300.0</td>\n",
       "      <td>2</td>\n",
       "      <td>0</td>\n",
       "      <td>1.414214</td>\n",
       "    </tr>\n",
       "    <tr>\n",
       "      <th>1831</th>\n",
       "      <td>0</td>\n",
       "      <td>20</td>\n",
       "      <td>37300.0</td>\n",
       "      <td>2</td>\n",
       "      <td>0</td>\n",
       "      <td>1.414214</td>\n",
       "    </tr>\n",
       "    <tr>\n",
       "      <th>2624</th>\n",
       "      <td>1</td>\n",
       "      <td>19</td>\n",
       "      <td>37300.0</td>\n",
       "      <td>0</td>\n",
       "      <td>0</td>\n",
       "      <td>1.414214</td>\n",
       "    </tr>\n",
       "    <tr>\n",
       "      <th>1086</th>\n",
       "      <td>0</td>\n",
       "      <td>22</td>\n",
       "      <td>37300.0</td>\n",
       "      <td>3</td>\n",
       "      <td>0</td>\n",
       "      <td>3.605551</td>\n",
       "    </tr>\n",
       "    <tr>\n",
       "      <th>1806</th>\n",
       "      <td>1</td>\n",
       "      <td>23</td>\n",
       "      <td>37300.0</td>\n",
       "      <td>0</td>\n",
       "      <td>0</td>\n",
       "      <td>4.242641</td>\n",
       "    </tr>\n",
       "    <tr>\n",
       "      <th>3447</th>\n",
       "      <td>1</td>\n",
       "      <td>25</td>\n",
       "      <td>37300.0</td>\n",
       "      <td>0</td>\n",
       "      <td>0</td>\n",
       "      <td>6.164414</td>\n",
       "    </tr>\n",
       "    <tr>\n",
       "      <th>568</th>\n",
       "      <td>1</td>\n",
       "      <td>27</td>\n",
       "      <td>37300.0</td>\n",
       "      <td>0</td>\n",
       "      <td>0</td>\n",
       "      <td>8.124038</td>\n",
       "    </tr>\n",
       "    <tr>\n",
       "      <th>4580</th>\n",
       "      <td>1</td>\n",
       "      <td>27</td>\n",
       "      <td>37300.0</td>\n",
       "      <td>0</td>\n",
       "      <td>0</td>\n",
       "      <td>8.124038</td>\n",
       "    </tr>\n",
       "    <tr>\n",
       "      <th>168</th>\n",
       "      <td>0</td>\n",
       "      <td>30</td>\n",
       "      <td>37300.0</td>\n",
       "      <td>0</td>\n",
       "      <td>0</td>\n",
       "      <td>11.045361</td>\n",
       "    </tr>\n",
       "  </tbody>\n",
       "</table>\n",
       "</div>"
      ],
      "text/plain": [
       "      gender  age   income  family_members  insurance_benefits   distance\n",
       "100        0   19  37300.0               1                   0   0.000000\n",
       "4278       1   19  37300.0               2                   0   1.414214\n",
       "1831       0   20  37300.0               2                   0   1.414214\n",
       "2624       1   19  37300.0               0                   0   1.414214\n",
       "1086       0   22  37300.0               3                   0   3.605551\n",
       "1806       1   23  37300.0               0                   0   4.242641\n",
       "3447       1   25  37300.0               0                   0   6.164414\n",
       "568        1   27  37300.0               0                   0   8.124038\n",
       "4580       1   27  37300.0               0                   0   8.124038\n",
       "168        0   30  37300.0               0                   0  11.045361"
      ]
     },
     "execution_count": 17,
     "metadata": {},
     "output_type": "execute_result"
    }
   ],
   "source": [
    "# hasil KNN menggunakan dataset asli\n",
    "without_scale = get_knn(df=df,n=100,k=10,metric='euclidean')\n",
    "without_scale"
   ]
  },
  {
   "cell_type": "code",
   "execution_count": 18,
   "metadata": {},
   "outputs": [
    {
     "data": {
      "text/plain": [
       "1.414214     3\n",
       "8.124038     2\n",
       "0.000000     1\n",
       "4.242641     1\n",
       "3.605551     1\n",
       "6.164414     1\n",
       "11.045361    1\n",
       "Name: distance, dtype: int64"
      ]
     },
     "execution_count": 18,
     "metadata": {},
     "output_type": "execute_result"
    }
   ],
   "source": [
    "#melihat variasi jarak\n",
    "without_scale['distance'].value_counts()"
   ]
  },
  {
   "cell_type": "markdown",
   "metadata": {},
   "source": [
    "terlihat bahwa tanpa skala variasi `distance` berada sangat jauh antara 1 sama lain dan beberapa kali terdapat pengulangan."
   ]
  },
  {
   "cell_type": "code",
   "execution_count": 19,
   "metadata": {},
   "outputs": [
    {
     "data": {
      "text/html": [
       "<div>\n",
       "<style scoped>\n",
       "    .dataframe tbody tr th:only-of-type {\n",
       "        vertical-align: middle;\n",
       "    }\n",
       "\n",
       "    .dataframe tbody tr th {\n",
       "        vertical-align: top;\n",
       "    }\n",
       "\n",
       "    .dataframe thead th {\n",
       "        text-align: right;\n",
       "    }\n",
       "</style>\n",
       "<table border=\"1\" class=\"dataframe\">\n",
       "  <thead>\n",
       "    <tr style=\"text-align: right;\">\n",
       "      <th></th>\n",
       "      <th>gender</th>\n",
       "      <th>age</th>\n",
       "      <th>income</th>\n",
       "      <th>family_members</th>\n",
       "      <th>insurance_benefits</th>\n",
       "      <th>distance</th>\n",
       "    </tr>\n",
       "  </thead>\n",
       "  <tbody>\n",
       "    <tr>\n",
       "      <th>100</th>\n",
       "      <td>0.0</td>\n",
       "      <td>0.292308</td>\n",
       "      <td>0.472152</td>\n",
       "      <td>0.166667</td>\n",
       "      <td>0</td>\n",
       "      <td>0.000000</td>\n",
       "    </tr>\n",
       "    <tr>\n",
       "      <th>4915</th>\n",
       "      <td>0.0</td>\n",
       "      <td>0.292308</td>\n",
       "      <td>0.477215</td>\n",
       "      <td>0.166667</td>\n",
       "      <td>0</td>\n",
       "      <td>0.005063</td>\n",
       "    </tr>\n",
       "    <tr>\n",
       "      <th>243</th>\n",
       "      <td>0.0</td>\n",
       "      <td>0.292308</td>\n",
       "      <td>0.467089</td>\n",
       "      <td>0.166667</td>\n",
       "      <td>0</td>\n",
       "      <td>0.005063</td>\n",
       "    </tr>\n",
       "    <tr>\n",
       "      <th>1323</th>\n",
       "      <td>0.0</td>\n",
       "      <td>0.292308</td>\n",
       "      <td>0.456962</td>\n",
       "      <td>0.166667</td>\n",
       "      <td>0</td>\n",
       "      <td>0.015190</td>\n",
       "    </tr>\n",
       "    <tr>\n",
       "      <th>811</th>\n",
       "      <td>0.0</td>\n",
       "      <td>0.307692</td>\n",
       "      <td>0.470886</td>\n",
       "      <td>0.166667</td>\n",
       "      <td>0</td>\n",
       "      <td>0.015437</td>\n",
       "    </tr>\n",
       "    <tr>\n",
       "      <th>4843</th>\n",
       "      <td>0.0</td>\n",
       "      <td>0.307692</td>\n",
       "      <td>0.469620</td>\n",
       "      <td>0.166667</td>\n",
       "      <td>0</td>\n",
       "      <td>0.015592</td>\n",
       "    </tr>\n",
       "    <tr>\n",
       "      <th>4524</th>\n",
       "      <td>0.0</td>\n",
       "      <td>0.276923</td>\n",
       "      <td>0.467089</td>\n",
       "      <td>0.166667</td>\n",
       "      <td>0</td>\n",
       "      <td>0.016196</td>\n",
       "    </tr>\n",
       "    <tr>\n",
       "      <th>1648</th>\n",
       "      <td>0.0</td>\n",
       "      <td>0.276923</td>\n",
       "      <td>0.465823</td>\n",
       "      <td>0.166667</td>\n",
       "      <td>0</td>\n",
       "      <td>0.016636</td>\n",
       "    </tr>\n",
       "    <tr>\n",
       "      <th>3060</th>\n",
       "      <td>0.0</td>\n",
       "      <td>0.307692</td>\n",
       "      <td>0.463291</td>\n",
       "      <td>0.166667</td>\n",
       "      <td>0</td>\n",
       "      <td>0.017754</td>\n",
       "    </tr>\n",
       "    <tr>\n",
       "      <th>2795</th>\n",
       "      <td>0.0</td>\n",
       "      <td>0.276923</td>\n",
       "      <td>0.482278</td>\n",
       "      <td>0.166667</td>\n",
       "      <td>0</td>\n",
       "      <td>0.018418</td>\n",
       "    </tr>\n",
       "  </tbody>\n",
       "</table>\n",
       "</div>"
      ],
      "text/plain": [
       "      gender       age    income  family_members  insurance_benefits  distance\n",
       "100      0.0  0.292308  0.472152        0.166667                   0  0.000000\n",
       "4915     0.0  0.292308  0.477215        0.166667                   0  0.005063\n",
       "243      0.0  0.292308  0.467089        0.166667                   0  0.005063\n",
       "1323     0.0  0.292308  0.456962        0.166667                   0  0.015190\n",
       "811      0.0  0.307692  0.470886        0.166667                   0  0.015437\n",
       "4843     0.0  0.307692  0.469620        0.166667                   0  0.015592\n",
       "4524     0.0  0.276923  0.467089        0.166667                   0  0.016196\n",
       "1648     0.0  0.276923  0.465823        0.166667                   0  0.016636\n",
       "3060     0.0  0.307692  0.463291        0.166667                   0  0.017754\n",
       "2795     0.0  0.276923  0.482278        0.166667                   0  0.018418"
      ]
     },
     "execution_count": 19,
     "metadata": {},
     "output_type": "execute_result"
    }
   ],
   "source": [
    "# hasil KNN menggunakan dataset skala\n",
    "with_scale = get_knn(df=df_scaled,n=100,k=10,metric='euclidean')\n",
    "with_scale"
   ]
  },
  {
   "cell_type": "code",
   "execution_count": 20,
   "metadata": {},
   "outputs": [
    {
     "data": {
      "text/plain": [
       "0.000000    1\n",
       "0.005063    1\n",
       "0.005063    1\n",
       "0.015190    1\n",
       "0.018418    1\n",
       "0.016196    1\n",
       "0.017754    1\n",
       "0.015592    1\n",
       "0.016636    1\n",
       "0.015437    1\n",
       "Name: distance, dtype: int64"
      ]
     },
     "execution_count": 20,
     "metadata": {},
     "output_type": "execute_result"
    }
   ],
   "source": [
    "#melihat variasi jarak\n",
    "with_scale['distance'].value_counts()"
   ]
  },
  {
   "cell_type": "markdown",
   "metadata": {},
   "source": [
    "terlihat bahwa dengan skala, variasi `distance` menjadi lebih dekat tidak sejauh saat tanpa menggunakan skala"
   ]
  },
  {
   "cell_type": "code",
   "execution_count": 21,
   "metadata": {},
   "outputs": [
    {
     "data": {
      "image/png": "[encoded data removed]",
      "text/plain": [
       "<Figure size 800x800 with 1 Axes>"
      ]
     },
     "metadata": {},
     "output_type": "display_data"
    }
   ],
   "source": [
    "# visualisasi bentuk k-nearest neighbor untuk dataset original dan dataset scaled\n",
    "k = 5\n",
    "n = 50\n",
    "graph_ori = kneighbors_graph(df.head(n).to_numpy(),n_neighbors=k,mode='distance')\n",
    "graph_scale = kneighbors_graph(df_scaled.head(n).to_numpy(),n_neighbors=k,mode='distance')\n",
    "plt.figure(figsize=(8, 8))\n",
    "plt.spy(graph_ori, markersize=10,c='g',label='original')\n",
    "plt.spy(graph_scale, markersize=10,c='blue',label='scaled')\n",
    "plt.title(f'K-Neighbors Graph (k={k})')\n",
    "plt.xlabel('Sampel')\n",
    "plt.ylabel('Sampel')\n",
    "plt.legend()\n",
    "plt.xlim(-5,n)\n",
    "plt.show()"
   ]
  },
  {
   "cell_type": "markdown",
   "metadata": {},
   "source": [
    "**Apakah data yang tidak berskala memengaruhi algoritme kNN? Jika berpengaruh, lalu bagaimanakah bentuknya?** \n",
    "Dari hasil perhitungan menggunakan metric `euklides` antara dataset original dan dataset scaling, bahwa pada dataset scaling memberikan jarak yang lebih dekat jika dibandingkan dengan dataset original. Visualiasi juga mendukung dimana untuk dataset scaling, data lebih sering berkumpul dan jaraknya pendek jika dibandingkan dengan dataset original."
   ]
  },
  {
   "cell_type": "markdown",
   "metadata": {},
   "source": [
    "### Membandingkan Hasil KNN Menggunakan Metrik Euklides dan Manhattan"
   ]
  },
  {
   "cell_type": "code",
   "execution_count": 22,
   "metadata": {},
   "outputs": [
    {
     "data": {
      "text/html": [
       "<div>\n",
       "<style scoped>\n",
       "    .dataframe tbody tr th:only-of-type {\n",
       "        vertical-align: middle;\n",
       "    }\n",
       "\n",
       "    .dataframe tbody tr th {\n",
       "        vertical-align: top;\n",
       "    }\n",
       "\n",
       "    .dataframe thead th {\n",
       "        text-align: right;\n",
       "    }\n",
       "</style>\n",
       "<table border=\"1\" class=\"dataframe\">\n",
       "  <thead>\n",
       "    <tr style=\"text-align: right;\">\n",
       "      <th></th>\n",
       "      <th>gender</th>\n",
       "      <th>age</th>\n",
       "      <th>income</th>\n",
       "      <th>family_members</th>\n",
       "      <th>insurance_benefits</th>\n",
       "      <th>distance</th>\n",
       "    </tr>\n",
       "  </thead>\n",
       "  <tbody>\n",
       "    <tr>\n",
       "      <th>100</th>\n",
       "      <td>0</td>\n",
       "      <td>19</td>\n",
       "      <td>37300.0</td>\n",
       "      <td>1</td>\n",
       "      <td>0</td>\n",
       "      <td>0.0</td>\n",
       "    </tr>\n",
       "    <tr>\n",
       "      <th>2624</th>\n",
       "      <td>1</td>\n",
       "      <td>19</td>\n",
       "      <td>37300.0</td>\n",
       "      <td>0</td>\n",
       "      <td>0</td>\n",
       "      <td>2.0</td>\n",
       "    </tr>\n",
       "    <tr>\n",
       "      <th>1831</th>\n",
       "      <td>0</td>\n",
       "      <td>20</td>\n",
       "      <td>37300.0</td>\n",
       "      <td>2</td>\n",
       "      <td>0</td>\n",
       "      <td>2.0</td>\n",
       "    </tr>\n",
       "    <tr>\n",
       "      <th>4278</th>\n",
       "      <td>1</td>\n",
       "      <td>19</td>\n",
       "      <td>37300.0</td>\n",
       "      <td>2</td>\n",
       "      <td>0</td>\n",
       "      <td>2.0</td>\n",
       "    </tr>\n",
       "    <tr>\n",
       "      <th>1086</th>\n",
       "      <td>0</td>\n",
       "      <td>22</td>\n",
       "      <td>37300.0</td>\n",
       "      <td>3</td>\n",
       "      <td>0</td>\n",
       "      <td>5.0</td>\n",
       "    </tr>\n",
       "    <tr>\n",
       "      <th>1806</th>\n",
       "      <td>1</td>\n",
       "      <td>23</td>\n",
       "      <td>37300.0</td>\n",
       "      <td>0</td>\n",
       "      <td>0</td>\n",
       "      <td>6.0</td>\n",
       "    </tr>\n",
       "    <tr>\n",
       "      <th>3447</th>\n",
       "      <td>1</td>\n",
       "      <td>25</td>\n",
       "      <td>37300.0</td>\n",
       "      <td>0</td>\n",
       "      <td>0</td>\n",
       "      <td>8.0</td>\n",
       "    </tr>\n",
       "    <tr>\n",
       "      <th>4580</th>\n",
       "      <td>1</td>\n",
       "      <td>27</td>\n",
       "      <td>37300.0</td>\n",
       "      <td>0</td>\n",
       "      <td>0</td>\n",
       "      <td>10.0</td>\n",
       "    </tr>\n",
       "    <tr>\n",
       "      <th>568</th>\n",
       "      <td>1</td>\n",
       "      <td>27</td>\n",
       "      <td>37300.0</td>\n",
       "      <td>0</td>\n",
       "      <td>0</td>\n",
       "      <td>10.0</td>\n",
       "    </tr>\n",
       "    <tr>\n",
       "      <th>168</th>\n",
       "      <td>0</td>\n",
       "      <td>30</td>\n",
       "      <td>37300.0</td>\n",
       "      <td>0</td>\n",
       "      <td>0</td>\n",
       "      <td>12.0</td>\n",
       "    </tr>\n",
       "  </tbody>\n",
       "</table>\n",
       "</div>"
      ],
      "text/plain": [
       "      gender  age   income  family_members  insurance_benefits  distance\n",
       "100        0   19  37300.0               1                   0       0.0\n",
       "2624       1   19  37300.0               0                   0       2.0\n",
       "1831       0   20  37300.0               2                   0       2.0\n",
       "4278       1   19  37300.0               2                   0       2.0\n",
       "1086       0   22  37300.0               3                   0       5.0\n",
       "1806       1   23  37300.0               0                   0       6.0\n",
       "3447       1   25  37300.0               0                   0       8.0\n",
       "4580       1   27  37300.0               0                   0      10.0\n",
       "568        1   27  37300.0               0                   0      10.0\n",
       "168        0   30  37300.0               0                   0      12.0"
      ]
     },
     "execution_count": 22,
     "metadata": {},
     "output_type": "execute_result"
    }
   ],
   "source": [
    "# KNN menggunakan metrik `manhattan` tanpa skala\n",
    "manh_nonscale = get_knn(df=df,n=100,k=10,metric='manhattan')\n",
    "manh_nonscale"
   ]
  },
  {
   "cell_type": "code",
   "execution_count": 23,
   "metadata": {},
   "outputs": [
    {
     "data": {
      "text/plain": [
       "2.0     3\n",
       "10.0    2\n",
       "0.0     1\n",
       "6.0     1\n",
       "8.0     1\n",
       "12.0    1\n",
       "5.0     1\n",
       "Name: distance, dtype: int64"
      ]
     },
     "execution_count": 23,
     "metadata": {},
     "output_type": "execute_result"
    }
   ],
   "source": [
    "#melihat variasi jarak\n",
    "manh_nonscale['distance'].value_counts()"
   ]
  },
  {
   "cell_type": "markdown",
   "metadata": {},
   "source": [
    "terlihat bahwa kolom `distance` memiliki nilai yang sangat jauh pada rentang 0-12."
   ]
  },
  {
   "cell_type": "code",
   "execution_count": 24,
   "metadata": {},
   "outputs": [
    {
     "data": {
      "text/html": [
       "<div>\n",
       "<style scoped>\n",
       "    .dataframe tbody tr th:only-of-type {\n",
       "        vertical-align: middle;\n",
       "    }\n",
       "\n",
       "    .dataframe tbody tr th {\n",
       "        vertical-align: top;\n",
       "    }\n",
       "\n",
       "    .dataframe thead th {\n",
       "        text-align: right;\n",
       "    }\n",
       "</style>\n",
       "<table border=\"1\" class=\"dataframe\">\n",
       "  <thead>\n",
       "    <tr style=\"text-align: right;\">\n",
       "      <th></th>\n",
       "      <th>gender</th>\n",
       "      <th>age</th>\n",
       "      <th>income</th>\n",
       "      <th>family_members</th>\n",
       "      <th>insurance_benefits</th>\n",
       "      <th>distance</th>\n",
       "    </tr>\n",
       "  </thead>\n",
       "  <tbody>\n",
       "    <tr>\n",
       "      <th>100</th>\n",
       "      <td>0.0</td>\n",
       "      <td>0.292308</td>\n",
       "      <td>0.472152</td>\n",
       "      <td>0.166667</td>\n",
       "      <td>0</td>\n",
       "      <td>0.000000</td>\n",
       "    </tr>\n",
       "    <tr>\n",
       "      <th>4915</th>\n",
       "      <td>0.0</td>\n",
       "      <td>0.292308</td>\n",
       "      <td>0.477215</td>\n",
       "      <td>0.166667</td>\n",
       "      <td>0</td>\n",
       "      <td>0.005063</td>\n",
       "    </tr>\n",
       "    <tr>\n",
       "      <th>243</th>\n",
       "      <td>0.0</td>\n",
       "      <td>0.292308</td>\n",
       "      <td>0.467089</td>\n",
       "      <td>0.166667</td>\n",
       "      <td>0</td>\n",
       "      <td>0.005063</td>\n",
       "    </tr>\n",
       "    <tr>\n",
       "      <th>1323</th>\n",
       "      <td>0.0</td>\n",
       "      <td>0.292308</td>\n",
       "      <td>0.456962</td>\n",
       "      <td>0.166667</td>\n",
       "      <td>0</td>\n",
       "      <td>0.015190</td>\n",
       "    </tr>\n",
       "    <tr>\n",
       "      <th>811</th>\n",
       "      <td>0.0</td>\n",
       "      <td>0.307692</td>\n",
       "      <td>0.470886</td>\n",
       "      <td>0.166667</td>\n",
       "      <td>0</td>\n",
       "      <td>0.016650</td>\n",
       "    </tr>\n",
       "    <tr>\n",
       "      <th>4843</th>\n",
       "      <td>0.0</td>\n",
       "      <td>0.307692</td>\n",
       "      <td>0.469620</td>\n",
       "      <td>0.166667</td>\n",
       "      <td>0</td>\n",
       "      <td>0.017916</td>\n",
       "    </tr>\n",
       "    <tr>\n",
       "      <th>4524</th>\n",
       "      <td>0.0</td>\n",
       "      <td>0.276923</td>\n",
       "      <td>0.467089</td>\n",
       "      <td>0.166667</td>\n",
       "      <td>0</td>\n",
       "      <td>0.020448</td>\n",
       "    </tr>\n",
       "    <tr>\n",
       "      <th>4630</th>\n",
       "      <td>0.0</td>\n",
       "      <td>0.292308</td>\n",
       "      <td>0.450633</td>\n",
       "      <td>0.166667</td>\n",
       "      <td>0</td>\n",
       "      <td>0.021519</td>\n",
       "    </tr>\n",
       "    <tr>\n",
       "      <th>1648</th>\n",
       "      <td>0.0</td>\n",
       "      <td>0.276923</td>\n",
       "      <td>0.465823</td>\n",
       "      <td>0.166667</td>\n",
       "      <td>0</td>\n",
       "      <td>0.021714</td>\n",
       "    </tr>\n",
       "    <tr>\n",
       "      <th>3060</th>\n",
       "      <td>0.0</td>\n",
       "      <td>0.307692</td>\n",
       "      <td>0.463291</td>\n",
       "      <td>0.166667</td>\n",
       "      <td>0</td>\n",
       "      <td>0.024245</td>\n",
       "    </tr>\n",
       "  </tbody>\n",
       "</table>\n",
       "</div>"
      ],
      "text/plain": [
       "      gender       age    income  family_members  insurance_benefits  distance\n",
       "100      0.0  0.292308  0.472152        0.166667                   0  0.000000\n",
       "4915     0.0  0.292308  0.477215        0.166667                   0  0.005063\n",
       "243      0.0  0.292308  0.467089        0.166667                   0  0.005063\n",
       "1323     0.0  0.292308  0.456962        0.166667                   0  0.015190\n",
       "811      0.0  0.307692  0.470886        0.166667                   0  0.016650\n",
       "4843     0.0  0.307692  0.469620        0.166667                   0  0.017916\n",
       "4524     0.0  0.276923  0.467089        0.166667                   0  0.020448\n",
       "4630     0.0  0.292308  0.450633        0.166667                   0  0.021519\n",
       "1648     0.0  0.276923  0.465823        0.166667                   0  0.021714\n",
       "3060     0.0  0.307692  0.463291        0.166667                   0  0.024245"
      ]
     },
     "execution_count": 24,
     "metadata": {},
     "output_type": "execute_result"
    }
   ],
   "source": [
    "# KNN menggunakan metrik `manhattan` menggunakan skala\n",
    "manhattan = get_knn(df=df_scaled,n=100,k=10,metric='manhattan')\n",
    "manhattan"
   ]
  },
  {
   "cell_type": "code",
   "execution_count": 25,
   "metadata": {},
   "outputs": [
    {
     "data": {
      "text/plain": [
       "0.000000    1\n",
       "0.005063    1\n",
       "0.005063    1\n",
       "0.015190    1\n",
       "0.024245    1\n",
       "0.020448    1\n",
       "0.016650    1\n",
       "0.017916    1\n",
       "0.021519    1\n",
       "0.021714    1\n",
       "Name: distance, dtype: int64"
      ]
     },
     "execution_count": 25,
     "metadata": {},
     "output_type": "execute_result"
    }
   ],
   "source": [
    "#melihat variasi jarak\n",
    "manhattan['distance'].value_counts()"
   ]
  },
  {
   "cell_type": "markdown",
   "metadata": {},
   "source": [
    "terlihat bahwa kolom `distance` saat ini sudah memiliki nilai dengan rentang yang tidak jauh berbeda, untuk membandingkan dengan metrik eucladean mari kita keluarkan lagi nilainya."
   ]
  },
  {
   "cell_type": "code",
   "execution_count": 26,
   "metadata": {},
   "outputs": [
    {
     "data": {
      "text/plain": [
       "0.000000    1\n",
       "0.005063    1\n",
       "0.005063    1\n",
       "0.015190    1\n",
       "0.018418    1\n",
       "0.016196    1\n",
       "0.017754    1\n",
       "0.015592    1\n",
       "0.016636    1\n",
       "0.015437    1\n",
       "Name: distance, dtype: int64"
      ]
     },
     "execution_count": 26,
     "metadata": {},
     "output_type": "execute_result"
    }
   ],
   "source": [
    "#melihat kembali nilai distances pada metrik eucladean\n",
    "with_scale['distance'].value_counts()"
   ]
  },
  {
   "cell_type": "markdown",
   "metadata": {},
   "source": [
    "**Seberapa mirip hasil yang Anda dapatkan dari metrik Euklides dengan saat Anda menggunakan metrik jarak Manhattan (abaikan ada atau tidaknya skala)?** \n",
    "\n",
    "terlihat hasil yang didapatkan setelah melakukan skala memiliki rentang yang cukup dekat, sedangkan saat tidak lakukan skala maka jaraknya akan cukup besar. metrik eucladean dan manhattan memiliki nilai yang berbeda akan tetapi tidak sangat jauh berbeda, nilai pada metrik eucladean cenderung lebih rendah dibandingkan dengan nilai pada metrik manhattan"
   ]
  },
  {
   "cell_type": "markdown",
   "metadata": {},
   "source": [
    "## Tugas 2. Apakah klien kemungkinan menerima klaim asuransi?"
   ]
  },
  {
   "cell_type": "markdown",
   "metadata": {},
   "source": [
    "Dalam konteks *machine learning*, tugas ini sama seperti tugas klasifikasi biner."
   ]
  },
  {
   "cell_type": "markdown",
   "metadata": {},
   "source": [
    "Dengan target insurance_benefits yang lebih dari nol, coba evaluasi apakah model klasifikasi kNN merupakan pendekatan yang lebih baik daripada model *dummy*.\n",
    "\n",
    "Instruksi:\n",
    "- Buat pengklasifikasi berbasis KNN dan ukur kualitasnya dengan metrik F1 untuk k=1..10 bagi data asli dan data yang diskalakan. Akan menarik untuk melihat bagaimana k dapat memengaruhi metrik evaluasi, dan apakah penskalaan data membuat hasilnya berbeda. Gunakan implementasi algoritme klasifikasi kNN yang tersedia di Scikit-learn (periksa [tautan ini](https://scikit-learn.org/stable/modules/generated/sklearn.neighbors.KNeighborsClassifier.html)) atau gunakan milik Anda sendiri.\n",
    "- Buat model *dummy* yang acak untuk kasus ini. Model tersebut harusnya menampilkan \"1\" dengan beberapa probabilitas. Mari kita uji model dengan empat nilai probabilitas: 0, probabilitas membayar benefit asuransi apa pun; 0,5; 1.\n",
    "\n",
    "Probabilitas membayar klaim asuransi dapat didefinisikan sebagai\n",
    "\n",
    "$$\n",
    "P\\{\\text{klaim asuransi yang diterima}\\}=\\frac{\\text{jumlah klien yang menerima klaim asuransi}}{\\text{jumlah klien secara keseluruhan}}.\n",
    "$$\n",
    "\n",
    "Pisahkan keseluruhan data menjadi 70:30 untuk proporsi *training* dan *test set*."
   ]
  },
  {
   "cell_type": "code",
   "execution_count": 27,
   "metadata": {},
   "outputs": [
    {
     "data": {
      "text/plain": [
       "0    4436\n",
       "1     423\n",
       "2     115\n",
       "3      18\n",
       "4       7\n",
       "5       1\n",
       "Name: insurance_benefits, dtype: int64"
      ]
     },
     "execution_count": 27,
     "metadata": {},
     "output_type": "execute_result"
    }
   ],
   "source": [
    "#memeriksa kolom `insurance_benefit`\n",
    "df['insurance_benefits'].value_counts()"
   ]
  },
  {
   "cell_type": "markdown",
   "metadata": {},
   "source": [
    "terlihat bahwa kolom `insurance_benefit` memiliki nilai yang variatif, untuk memudahkan pada proses selanjutnya, kita akan mengganti nilai selain 0 menjadi 1"
   ]
  },
  {
   "cell_type": "code",
   "execution_count": 28,
   "metadata": {},
   "outputs": [],
   "source": [
    "# Hitung tagetnya\n",
    "# Menambahkan kolom target baru dengan nilai hanya 0 untuk 0 dan 1 untuk nilai selain 0\n",
    "df['insurance_benefits_received'] = df.insurance_benefits.where(df.insurance_benefits == 0, 1)"
   ]
  },
  {
   "cell_type": "code",
   "execution_count": 29,
   "metadata": {},
   "outputs": [
    {
     "data": {
      "text/plain": [
       "0    4436\n",
       "1     564\n",
       "Name: insurance_benefits_received, dtype: int64"
      ]
     },
     "execution_count": 29,
     "metadata": {},
     "output_type": "execute_result"
    }
   ],
   "source": [
    "# periksa ketidakseimbangan kelas dengan value_counts()\n",
    "# < ketik kode program Anda di sini >\n",
    "df['insurance_benefits_received'].value_counts()"
   ]
  },
  {
   "cell_type": "markdown",
   "metadata": {},
   "source": [
    "sekarang kolom `benefit_insurance` hanya terdiri dari nilai 0 dan 1"
   ]
  },
  {
   "cell_type": "code",
   "execution_count": 30,
   "metadata": {},
   "outputs": [],
   "source": [
    "def eval_classifier(y_true, y_pred):\n",
    "    \n",
    "    f1_score = sklearn.metrics.f1_score(y_true, y_pred)\n",
    "    print(f'F1: {f1_score:.2f}')\n",
    "    \n",
    "# jika Anda memiliki masalah dengan baris berikut, muat ulang kernel dan jalankan notebook kembali\n",
    "    cm = sklearn.metrics.confusion_matrix(y_true, y_pred, normalize='all')\n",
    "    print('Matriks Kesalahan')\n",
    "    print(cm)"
   ]
  },
  {
   "cell_type": "code",
   "execution_count": 31,
   "metadata": {},
   "outputs": [],
   "source": [
    "# menghasilkan output dari model acak\n",
    "\n",
    "def rnd_model_predict(P, size, seed=42):\n",
    "\n",
    "    rng = np.random.default_rng(seed=seed)\n",
    "    return rng.binomial(n=1, p=P, size=size)"
   ]
  },
  {
   "cell_type": "markdown",
   "metadata": {},
   "source": [
    "### Random Generator"
   ]
  },
  {
   "cell_type": "code",
   "execution_count": 32,
   "metadata": {},
   "outputs": [
    {
     "name": "stdout",
     "output_type": "stream",
     "text": [
      "Probabilitasnya: 0.00\n",
      "F1: 0.00\n",
      "Matriks Kesalahan\n",
      "[[0.8872 0.    ]\n",
      " [0.1128 0.    ]]\n",
      "\n",
      "Probabilitasnya: 0.11\n",
      "F1: 0.12\n",
      "Matriks Kesalahan\n",
      "[[0.7914 0.0958]\n",
      " [0.0994 0.0134]]\n",
      "\n",
      "Probabilitasnya: 0.50\n",
      "F1: 0.20\n",
      "Matriks Kesalahan\n",
      "[[0.456  0.4312]\n",
      " [0.053  0.0598]]\n",
      "\n",
      "Probabilitasnya: 1.00\n",
      "F1: 0.20\n",
      "Matriks Kesalahan\n",
      "[[0.     0.8872]\n",
      " [0.     0.1128]]\n",
      "\n"
     ]
    }
   ],
   "source": [
    "for P in [0, df['insurance_benefits_received'].sum() / len(df), 0.5, 1]:\n",
    "\n",
    "    print(f'Probabilitasnya: {P:.2f}')\n",
    "    y_pred_rnd = rnd_model_predict(P,size=len(df))# < ketik kode program Anda di sini > \n",
    "        \n",
    "    eval_classifier(df['insurance_benefits_received'], y_pred_rnd)\n",
    "    \n",
    "    print()"
   ]
  },
  {
   "cell_type": "markdown",
   "metadata": {},
   "source": [
    "terlihat bahwa dengan probabilitas 0 ataupun 1 menghasilkan matriks kesalahan yang sama hanya berbeda letak aja, dan memiliki nilai F1 yang berbeda. untuk nilai antara 0-1 memiliki metrik kesalahan yang merata kiri kanannya. meskipun dengan nilai F1 yang sama tapi dengan probabilitas yang berbeda, matriks kesalahan tetap memiliki nilai yang berbeda"
   ]
  },
  {
   "cell_type": "markdown",
   "metadata": {},
   "source": [
    "### KKN dengan data asli"
   ]
  },
  {
   "cell_type": "code",
   "execution_count": 33,
   "metadata": {},
   "outputs": [],
   "source": [
    "# membagi dataset menjadi train dan test beserta porsinya\n",
    "X1 = df.drop('insurance_benefits_received',axis=1)\n",
    "y1 = df.insurance_benefits_received\n",
    "X1_train, X1_test, y1_train, y1_test = train_test_split(X1,y1, stratify=y1, test_size=0.3)"
   ]
  },
  {
   "cell_type": "code",
   "execution_count": 34,
   "metadata": {},
   "outputs": [
    {
     "name": "stdout",
     "output_type": "stream",
     "text": [
      "                            Evaluasi Model KNN Tanpa Penskalaan -> K = 1                            \n",
      "----------------------------------------------------------------------------------------------------\n",
      "F1: 0.64\n",
      "Matriks Kesalahan\n",
      "[[0.86933333 0.018     ]\n",
      " [0.05066667 0.062     ]]\n",
      "====================================================================================================\n",
      "                            Evaluasi Model KNN Tanpa Penskalaan -> K = 2                            \n",
      "----------------------------------------------------------------------------------------------------\n",
      "F1: 0.34\n",
      "Matriks Kesalahan\n",
      "[[0.884      0.00333333]\n",
      " [0.08866667 0.024     ]]\n",
      "====================================================================================================\n",
      "                            Evaluasi Model KNN Tanpa Penskalaan -> K = 3                            \n",
      "----------------------------------------------------------------------------------------------------\n",
      "F1: 0.35\n",
      "Matriks Kesalahan\n",
      "[[0.87466667 0.01266667]\n",
      " [0.086      0.02666667]]\n",
      "====================================================================================================\n",
      "                            Evaluasi Model KNN Tanpa Penskalaan -> K = 4                            \n",
      "----------------------------------------------------------------------------------------------------\n",
      "F1: 0.17\n",
      "Matriks Kesalahan\n",
      "[[0.886      0.00133333]\n",
      " [0.102      0.01066667]]\n",
      "====================================================================================================\n",
      "                            Evaluasi Model KNN Tanpa Penskalaan -> K = 5                            \n",
      "----------------------------------------------------------------------------------------------------\n",
      "F1: 0.18\n",
      "Matriks Kesalahan\n",
      "[[0.882      0.00533333]\n",
      " [0.10133333 0.01133333]]\n",
      "====================================================================================================\n",
      "                            Evaluasi Model KNN Tanpa Penskalaan -> K = 6                            \n",
      "----------------------------------------------------------------------------------------------------\n",
      "F1: 0.10\n",
      "Matriks Kesalahan\n",
      "[[0.886      0.00133333]\n",
      " [0.10666667 0.006     ]]\n",
      "====================================================================================================\n"
     ]
    }
   ],
   "source": [
    "for k in range(1, 7):\n",
    "    knn = sklearn.neighbors.KNeighborsClassifier(n_neighbors=k)\n",
    "    knn.fit(X1_train,y1_train)\n",
    "    y_pred_knn = knn.predict(X1_test)\n",
    "    print(f'Evaluasi Model KNN Tanpa Penskalaan -> K = {k}'.center(100,' '))\n",
    "    print(100*'-')\n",
    "    eval_classifier(y1_test, y_pred_knn)\n",
    "    print(100*'=')"
   ]
  },
  {
   "cell_type": "markdown",
   "metadata": {},
   "source": [
    "terlihat bahwa nilai `k` mempengaruhi nilai F1 dan matriks kesalahan yang dihasilkan. "
   ]
  },
  {
   "cell_type": "markdown",
   "metadata": {},
   "source": [
    "### KKN dengan data skala"
   ]
  },
  {
   "cell_type": "code",
   "execution_count": 35,
   "metadata": {},
   "outputs": [],
   "source": [
    "# membagi dataset menjadi train dan test beserta porsinya\n",
    "df_scaled['insurance_benefits_received'] = df_scaled['insurance_benefits'].apply(lambda x: 1 if x > 0 else 0)\n",
    "X2 = df_scaled.drop('insurance_benefits_received',axis=1)\n",
    "y2 = df_scaled.insurance_benefits_received\n",
    "X2_train, X2_test, y2_train, y2_test = train_test_split(X2,y2, stratify=y2, test_size=0.3)"
   ]
  },
  {
   "cell_type": "code",
   "execution_count": 36,
   "metadata": {},
   "outputs": [
    {
     "name": "stdout",
     "output_type": "stream",
     "text": [
      "                           Evaluasi Model KNN dengan Penskalaan -> K = 1                            \n",
      "----------------------------------------------------------------------------------------------------\n",
      "F1: 1.00\n",
      "Matriks Kesalahan\n",
      "[[0.88733333 0.        ]\n",
      " [0.         0.11266667]]\n",
      "====================================================================================================\n",
      "                           Evaluasi Model KNN dengan Penskalaan -> K = 2                            \n",
      "----------------------------------------------------------------------------------------------------\n",
      "F1: 1.00\n",
      "Matriks Kesalahan\n",
      "[[0.88733333 0.        ]\n",
      " [0.         0.11266667]]\n",
      "====================================================================================================\n",
      "                           Evaluasi Model KNN dengan Penskalaan -> K = 3                            \n",
      "----------------------------------------------------------------------------------------------------\n",
      "F1: 1.00\n",
      "Matriks Kesalahan\n",
      "[[0.88733333 0.        ]\n",
      " [0.         0.11266667]]\n",
      "====================================================================================================\n",
      "                           Evaluasi Model KNN dengan Penskalaan -> K = 4                            \n",
      "----------------------------------------------------------------------------------------------------\n",
      "F1: 1.00\n",
      "Matriks Kesalahan\n",
      "[[0.88733333 0.        ]\n",
      " [0.         0.11266667]]\n",
      "====================================================================================================\n",
      "                           Evaluasi Model KNN dengan Penskalaan -> K = 5                            \n",
      "----------------------------------------------------------------------------------------------------\n",
      "F1: 1.00\n",
      "Matriks Kesalahan\n",
      "[[0.88733333 0.        ]\n",
      " [0.         0.11266667]]\n",
      "====================================================================================================\n",
      "                           Evaluasi Model KNN dengan Penskalaan -> K = 6                            \n",
      "----------------------------------------------------------------------------------------------------\n",
      "F1: 1.00\n",
      "Matriks Kesalahan\n",
      "[[0.88733333 0.        ]\n",
      " [0.         0.11266667]]\n",
      "====================================================================================================\n"
     ]
    }
   ],
   "source": [
    "# menghitung F1 Skor dan confusion matrix dengan k[1~10]\n",
    "for k in range(1,7):\n",
    "    knn = sklearn.neighbors.KNeighborsClassifier(n_neighbors=10,weights='distance')\n",
    "    knn.fit(X2_train,y2_train)\n",
    "    y_pred_knn = knn.predict(X2_test)\n",
    "    print(f'Evaluasi Model KNN dengan Penskalaan -> K = {k}'.center(100,' '))\n",
    "    print(100*'-')\n",
    "    eval_classifier(y2_test, y_pred_knn)\n",
    "    print(100*'=')"
   ]
  },
  {
   "cell_type": "markdown",
   "metadata": {},
   "source": [
    "dengan penskalaan dapat dilihat bahwa nilai f1 dan matriks kesalahan tidak terpengaruh dengan nilai `k` yang dimasukkan"
   ]
  },
  {
   "cell_type": "markdown",
   "metadata": {},
   "source": [
    "**Kesimpulan:**\n",
    "* Model KNN Classifier memberikan hasil F1 Score yang lebih baik jika dibandingkan dengan menggunakan model dummy.\n",
    "* Dataset scaling memberikan hasil F1 Score yang lebih baik dibandingkan dengan dataset original.\n",
    "* Semakin banyak jumlah k-neighbors semakin rendah F1 Score pada dataset original sedangkan pada dataset scaling tidak berpengaruh terhadap jumlah k-neighbors."
   ]
  },
  {
   "cell_type": "markdown",
   "metadata": {},
   "source": [
    "## Tugas 3. Regresi (dengan Regresi Linear)"
   ]
  },
  {
   "cell_type": "markdown",
   "metadata": {},
   "source": [
    "Dengan `insurance_benefit` sebagai target, evaluasi berapa RMSE untuk model Regresi Linear."
   ]
  },
  {
   "cell_type": "markdown",
   "metadata": {},
   "source": [
    "Buat implementasi LR Anda sendiri. Untuk itu, coba ingat-ingat kembali bagaimana solusi tugas regresi linear dirumuskan dalam bentuk LA. Periksa RMSE untuk data asli maupun data yang telah diskalakan. Bisakah Anda melihat perbedaan RMSE di antara kedua kasus ini?\n",
    "\n",
    "Tunjukkan\n",
    "- $X$ — matriks fitur, satu baris merepresentasikan satu kasus, tiap kolom adalah fitur, kolom pertama terdiri dari satuan\n",
    "- $y$ — target (vektor)\n",
    "- $\\hat{y}$ — estimasi target (vektor)\n",
    "- $w$ — bobot vektor\n",
    "\n",
    "Matriks untuk regresi linear dapat dirumuskan sebagai\n",
    "\n",
    "$$\n",
    "y = Xw\n",
    "$$\n",
    "\n",
    "Tujuan pelatihan untuk menemukan $w$ yang akan meminimalkan jarak L2 (MSE) antara $Xw$ dan $y$:\n",
    "\n",
    "$$\n",
    "\\min_w d_2(Xw, y) \\quad \\text{atau} \\quad \\min_w \\text{MSE}(Xw, y)\n",
    "$$\n",
    "\n",
    "Sepertinya ada solusi analitis untuk masalah di atas:\n",
    "\n",
    "$$\n",
    "w = (X^T X)^{-1} X^T y\n",
    "$$\n",
    "\n",
    "Rumus di atas bisa digunakan untuk menemukan bobot $w$ dan yang terakhir dapat digunakan untuk menghitung nilai prediksi\n",
    "\n",
    "$$\n",
    "\\hat{y} = X_{val}w\n",
    "$$"
   ]
  },
  {
   "cell_type": "markdown",
   "metadata": {},
   "source": [
    "Pisahkan keseluruhan data menjadi *training set* dan *validation set* dengan proporsi 70:30. Gunakan metrik RMSE untuk evaluasi model."
   ]
  },
  {
   "cell_type": "code",
   "execution_count": 37,
   "metadata": {},
   "outputs": [],
   "source": [
    "class MyLinearRegression:\n",
    "    \n",
    "    def __init__(self):\n",
    "        \n",
    "        self.weights = None\n",
    "    \n",
    "    def fit(self, X, y):\n",
    "        \n",
    "        # menambahkan satuan\n",
    "        X2 = np.append(np.ones([len(X), 1]), X, axis=1)\n",
    "        w = np.linalg.inv(X2.T.dot(X2)).dot(X2.T).dot(y)\n",
    "        self.weights = w[1:]# < ketik kode program Anda di sini >\n",
    "        self.weights_0 = w[0]\n",
    "\n",
    "    def predict(self, X):\n",
    "        \n",
    "        # menambahkan satuan\n",
    "        X2 = X # < ketik kode program Anda di sini >\n",
    "        y_pred = X2.dot(self.weights) + self.weights_0# < ketik kode program Anda di sini >\n",
    "        \n",
    "        return y_pred"
   ]
  },
  {
   "cell_type": "code",
   "execution_count": 38,
   "metadata": {},
   "outputs": [],
   "source": [
    "def eval_regressor(y_true, y_pred):\n",
    "    \n",
    "    rmse = math.sqrt(sklearn.metrics.mean_squared_error(y_true, y_pred))\n",
    "    print(f'RMSE: {rmse:.2f}')\n",
    "    \n",
    "    r2_score = math.sqrt(sklearn.metrics.r2_score(y_true, y_pred))\n",
    "    print(f'R2: {r2_score:.2f}')    "
   ]
  },
  {
   "cell_type": "markdown",
   "metadata": {},
   "source": [
    "### Regresi Linear menggunakan data asli"
   ]
  },
  {
   "cell_type": "code",
   "execution_count": 39,
   "metadata": {},
   "outputs": [
    {
     "name": "stdout",
     "output_type": "stream",
     "text": [
      "[ 3.57495491e-02  1.64272726e-02 -2.60743659e-07 -1.16902127e-02]\n",
      "RMSE: 0.34\n",
      "R2: 0.66\n"
     ]
    }
   ],
   "source": [
    "# menghitung skor RMSE dan R2 menggunakan dataset asli\n",
    "X = df[['age', 'gender', 'income', 'family_members']].to_numpy()\n",
    "y = df['insurance_benefits'].to_numpy()\n",
    "\n",
    "X_train, X_test, y_train, y_test = train_test_split(X, y, test_size=0.3, random_state=12345)\n",
    "\n",
    "lr = MyLinearRegression()\n",
    "\n",
    "lr.fit(X_train, y_train)\n",
    "print(lr.weights)\n",
    "\n",
    "y_test_pred = lr.predict(X_test)\n",
    "eval_regressor(y_test, y_test_pred)"
   ]
  },
  {
   "cell_type": "markdown",
   "metadata": {},
   "source": [
    "terlihat bahwa nilai RSME cukup rendah yaitu `0.34` dengan R2 `0.66`"
   ]
  },
  {
   "cell_type": "markdown",
   "metadata": {},
   "source": [
    "### Regresi Linear menggunakan dataset skala"
   ]
  },
  {
   "cell_type": "code",
   "execution_count": 40,
   "metadata": {},
   "outputs": [
    {
     "name": "stdout",
     "output_type": "stream",
     "text": [
      "[ 2.32372069  0.01642727 -0.02059875 -0.07014128]\n",
      "RMSE: 0.34\n",
      "R2: 0.66\n"
     ]
    }
   ],
   "source": [
    "# menghitung skor RMSE dan R2 menggunakan dataset skala\n",
    "X = df_scaled[['age', 'gender', 'income', 'family_members']].to_numpy()\n",
    "y = df_scaled['insurance_benefits'].to_numpy()\n",
    "\n",
    "X_train, X_test, y_train, y_test = train_test_split(X, y, test_size=0.3, random_state=12345)\n",
    "\n",
    "lr = MyLinearRegression()\n",
    "\n",
    "lr.fit(X_train, y_train)\n",
    "print(lr.weights)\n",
    "\n",
    "y_test_pred = lr.predict(X_test)\n",
    "eval_regressor(y_test, y_test_pred)"
   ]
  },
  {
   "cell_type": "markdown",
   "metadata": {},
   "source": [
    "terlihat bahwa nilai RSME dan R2 sama dengan data sebelum di skala"
   ]
  },
  {
   "cell_type": "markdown",
   "metadata": {},
   "source": [
    "**Kesimpulan:** tidak terlihat ada perbedaan untuk nilai RSME dan R2 pada data yang sudah di skalasi maupun belum. akan tetapi memiliki nilai bobot yang berbeda"
   ]
  },
  {
   "cell_type": "markdown",
   "metadata": {},
   "source": [
    "# Tugas 4. Pengaburan Data"
   ]
  },
  {
   "cell_type": "markdown",
   "metadata": {},
   "source": [
    "Cara terbaik untuk mengaburkan data adalah dengan mengalikan fitur-fitur numerik (ingat bahwa fitur-fitur tersebut bisa di lihat di matriks $X$) dengan matriks yang dapat dibalik (*invertible*) $P$. \n",
    "\n",
    "$$\n",
    "X' = X \\times P\n",
    "$$\n",
    "\n",
    "Coba lakukan itu dan periksa bagaimana nilai fitur akan terlihat setelah transformasi. Sifat *invertible* sangat penting pada kasus ini, jadi pastikan $P$ bahwa $P$ bersifat *invertible*.\n",
    "\n",
    "Anda mungkin ingin meninjau kembali pelajaran 'Matriks dan Operasi Matriks -> Perkalian Matriks' untuk mengingat aturan perkalian matriks dan implementasinya dengan NumPy."
   ]
  },
  {
   "cell_type": "code",
   "execution_count": 41,
   "metadata": {},
   "outputs": [],
   "source": [
    "personal_info_column_list = ['gender', 'age', 'income', 'family_members']\n",
    "df_pn = df[personal_info_column_list]"
   ]
  },
  {
   "cell_type": "code",
   "execution_count": 42,
   "metadata": {},
   "outputs": [],
   "source": [
    "X = df_pn.to_numpy()"
   ]
  },
  {
   "cell_type": "markdown",
   "metadata": {},
   "source": [
    "Membuat matriks acak $P$."
   ]
  },
  {
   "cell_type": "code",
   "execution_count": 43,
   "metadata": {},
   "outputs": [
    {
     "data": {
      "text/plain": [
       "array([[0.77395605, 0.43887844, 0.85859792, 0.69736803],\n",
       "       [0.09417735, 0.97562235, 0.7611397 , 0.78606431],\n",
       "       [0.12811363, 0.45038594, 0.37079802, 0.92676499],\n",
       "       [0.64386512, 0.82276161, 0.4434142 , 0.22723872]])"
      ]
     },
     "execution_count": 43,
     "metadata": {},
     "output_type": "execute_result"
    }
   ],
   "source": [
    "# membuat matriks acak P\n",
    "rng = np.random.default_rng(seed=42)\n",
    "P = rng.random(size=(X.shape[1], X.shape[1]))\n",
    "P"
   ]
  },
  {
   "cell_type": "markdown",
   "metadata": {},
   "source": [
    "Memeriksa apakah matriks $P$ *invertible*"
   ]
  },
  {
   "cell_type": "code",
   "execution_count": 44,
   "metadata": {},
   "outputs": [
    {
     "data": {
      "text/plain": [
       "array([[ 1., -0., -0., -0.],\n",
       "       [-0.,  1., -0.,  0.],\n",
       "       [-0., -0.,  1.,  0.],\n",
       "       [-0., -0.,  0.,  1.]])"
      ]
     },
     "execution_count": 44,
     "metadata": {},
     "output_type": "execute_result"
    }
   ],
   "source": [
    "# memeriksa matriks P invertible atau tidak\n",
    "inv_P = np.linalg.inv(P)\n",
    "I = np.around(P.dot(inv_P))\n",
    "I"
   ]
  },
  {
   "cell_type": "code",
   "execution_count": 45,
   "metadata": {},
   "outputs": [
    {
     "data": {
      "text/plain": [
       "True"
      ]
     },
     "execution_count": 45,
     "metadata": {},
     "output_type": "execute_result"
    }
   ],
   "source": [
    "np.allclose(np.dot(P, np.linalg.inv(P)), np.dot(np.linalg.inv(P), P))"
   ]
  },
  {
   "cell_type": "markdown",
   "metadata": {},
   "source": [
    "terlihat bahwa matriks yang dihasilkan adalah matriks identitas, yang mana nilai 1 mengisi matriks secara diagonal. dan invertibel"
   ]
  },
  {
   "cell_type": "markdown",
   "metadata": {},
   "source": [
    "Bisakah Anda menebak usia klien atau pendapatannya setelah dilakukan transformasi?"
   ]
  },
  {
   "cell_type": "code",
   "execution_count": 46,
   "metadata": {},
   "outputs": [
    {
     "data": {
      "text/html": [
       "<div>\n",
       "<style scoped>\n",
       "    .dataframe tbody tr th:only-of-type {\n",
       "        vertical-align: middle;\n",
       "    }\n",
       "\n",
       "    .dataframe tbody tr th {\n",
       "        vertical-align: top;\n",
       "    }\n",
       "\n",
       "    .dataframe thead th {\n",
       "        text-align: right;\n",
       "    }\n",
       "</style>\n",
       "<table border=\"1\" class=\"dataframe\">\n",
       "  <thead>\n",
       "    <tr style=\"text-align: right;\">\n",
       "      <th></th>\n",
       "      <th>gender</th>\n",
       "      <th>age</th>\n",
       "      <th>income</th>\n",
       "      <th>family_members</th>\n",
       "    </tr>\n",
       "  </thead>\n",
       "  <tbody>\n",
       "    <tr>\n",
       "      <th>0</th>\n",
       "      <td>1.0</td>\n",
       "      <td>41.0</td>\n",
       "      <td>49600.0</td>\n",
       "      <td>1.0</td>\n",
       "    </tr>\n",
       "  </tbody>\n",
       "</table>\n",
       "</div>"
      ],
      "text/plain": [
       "   gender   age   income  family_members\n",
       "0     1.0  41.0  49600.0             1.0"
      ]
     },
     "execution_count": 46,
     "metadata": {},
     "output_type": "execute_result"
    }
   ],
   "source": [
    "# mengambil sampel dataset\n",
    "client = df.iloc[0,:-2].to_numpy().reshape(1,-1)\n",
    "pd.DataFrame(client,columns=personal_info_column_list).head()"
   ]
  },
  {
   "cell_type": "code",
   "execution_count": 47,
   "metadata": {},
   "outputs": [
    {
     "data": {
      "text/html": [
       "<div>\n",
       "<style scoped>\n",
       "    .dataframe tbody tr th:only-of-type {\n",
       "        vertical-align: middle;\n",
       "    }\n",
       "\n",
       "    .dataframe tbody tr th {\n",
       "        vertical-align: top;\n",
       "    }\n",
       "\n",
       "    .dataframe thead th {\n",
       "        text-align: right;\n",
       "    }\n",
       "</style>\n",
       "<table border=\"1\" class=\"dataframe\">\n",
       "  <thead>\n",
       "    <tr style=\"text-align: right;\">\n",
       "      <th></th>\n",
       "      <th>gender</th>\n",
       "      <th>age</th>\n",
       "      <th>income</th>\n",
       "      <th>family_members</th>\n",
       "    </tr>\n",
       "  </thead>\n",
       "  <tbody>\n",
       "    <tr>\n",
       "      <th>0</th>\n",
       "      <td>6359.715273</td>\n",
       "      <td>22380.404676</td>\n",
       "      <td>18424.090742</td>\n",
       "      <td>46000.69669</td>\n",
       "    </tr>\n",
       "  </tbody>\n",
       "</table>\n",
       "</div>"
      ],
      "text/plain": [
       "        gender           age        income  family_members\n",
       "0  6359.715273  22380.404676  18424.090742     46000.69669"
      ]
     },
     "execution_count": 47,
     "metadata": {},
     "output_type": "execute_result"
    }
   ],
   "source": [
    "# mentransformasikan dataset menggunakan matriks P\n",
    "client_transform = client.dot(P)\n",
    "pd.DataFrame(client_transform,columns=personal_info_column_list).head()"
   ]
  },
  {
   "cell_type": "markdown",
   "metadata": {},
   "source": [
    "terlihat bahwa sangat sulit menentukan usia atau pendapatan client "
   ]
  },
  {
   "cell_type": "markdown",
   "metadata": {},
   "source": [
    "Bisakah Anda memulihkan data asli dari $X'$ jika $P$ sudah diketahui? Coba periksa hal tersebut melalui perhitungan dengan memindahkan $P$ dari sisi kanan rumus di atas ke sisi kiri. Aturan perkalian matriks sangat berguna di sini."
   ]
  },
  {
   "cell_type": "code",
   "execution_count": 48,
   "metadata": {},
   "outputs": [
    {
     "data": {
      "text/html": [
       "<div>\n",
       "<style scoped>\n",
       "    .dataframe tbody tr th:only-of-type {\n",
       "        vertical-align: middle;\n",
       "    }\n",
       "\n",
       "    .dataframe tbody tr th {\n",
       "        vertical-align: top;\n",
       "    }\n",
       "\n",
       "    .dataframe thead th {\n",
       "        text-align: right;\n",
       "    }\n",
       "</style>\n",
       "<table border=\"1\" class=\"dataframe\">\n",
       "  <thead>\n",
       "    <tr style=\"text-align: right;\">\n",
       "      <th></th>\n",
       "      <th>gender</th>\n",
       "      <th>age</th>\n",
       "      <th>income</th>\n",
       "      <th>family_members</th>\n",
       "    </tr>\n",
       "  </thead>\n",
       "  <tbody>\n",
       "    <tr>\n",
       "      <th>0</th>\n",
       "      <td>1.0</td>\n",
       "      <td>41.0</td>\n",
       "      <td>49600.0</td>\n",
       "      <td>1.0</td>\n",
       "    </tr>\n",
       "  </tbody>\n",
       "</table>\n",
       "</div>"
      ],
      "text/plain": [
       "   gender   age   income  family_members\n",
       "0     1.0  41.0  49600.0             1.0"
      ]
     },
     "execution_count": 48,
     "metadata": {},
     "output_type": "execute_result"
    }
   ],
   "source": [
    "# mengembalikan nilai semula dari hasil transformasi\n",
    "client_reverse = client_transform.dot(inv_P)\n",
    "pd.DataFrame(client_reverse,columns=personal_info_column_list).head()"
   ]
  },
  {
   "cell_type": "markdown",
   "metadata": {},
   "source": [
    "Tampilkan ketiga kasus untuk beberapa klien\n",
    "- Data asli\n",
    "- Data yang sudah ditransformasikan\n",
    "- Data yang telah dipulihkan ke semula"
   ]
  },
  {
   "cell_type": "code",
   "execution_count": 49,
   "metadata": {},
   "outputs": [
    {
     "data": {
      "text/html": [
       "<div>\n",
       "<style scoped>\n",
       "    .dataframe tbody tr th:only-of-type {\n",
       "        vertical-align: middle;\n",
       "    }\n",
       "\n",
       "    .dataframe tbody tr th {\n",
       "        vertical-align: top;\n",
       "    }\n",
       "\n",
       "    .dataframe thead th {\n",
       "        text-align: right;\n",
       "    }\n",
       "</style>\n",
       "<table border=\"1\" class=\"dataframe\">\n",
       "  <thead>\n",
       "    <tr style=\"text-align: right;\">\n",
       "      <th></th>\n",
       "      <th>gender</th>\n",
       "      <th>age</th>\n",
       "      <th>income</th>\n",
       "      <th>family_members</th>\n",
       "    </tr>\n",
       "  </thead>\n",
       "  <tbody>\n",
       "    <tr>\n",
       "      <th>0</th>\n",
       "      <td>1.0</td>\n",
       "      <td>41.0</td>\n",
       "      <td>49600.0</td>\n",
       "      <td>1.0</td>\n",
       "    </tr>\n",
       "    <tr>\n",
       "      <th>1</th>\n",
       "      <td>0.0</td>\n",
       "      <td>46.0</td>\n",
       "      <td>38000.0</td>\n",
       "      <td>1.0</td>\n",
       "    </tr>\n",
       "    <tr>\n",
       "      <th>2</th>\n",
       "      <td>0.0</td>\n",
       "      <td>29.0</td>\n",
       "      <td>21000.0</td>\n",
       "      <td>0.0</td>\n",
       "    </tr>\n",
       "    <tr>\n",
       "      <th>3</th>\n",
       "      <td>0.0</td>\n",
       "      <td>21.0</td>\n",
       "      <td>41700.0</td>\n",
       "      <td>2.0</td>\n",
       "    </tr>\n",
       "    <tr>\n",
       "      <th>4</th>\n",
       "      <td>1.0</td>\n",
       "      <td>28.0</td>\n",
       "      <td>26100.0</td>\n",
       "      <td>0.0</td>\n",
       "    </tr>\n",
       "  </tbody>\n",
       "</table>\n",
       "</div>"
      ],
      "text/plain": [
       "   gender   age   income  family_members\n",
       "0     1.0  41.0  49600.0             1.0\n",
       "1     0.0  46.0  38000.0             1.0\n",
       "2     0.0  29.0  21000.0             0.0\n",
       "3     0.0  21.0  41700.0             2.0\n",
       "4     1.0  28.0  26100.0             0.0"
      ]
     },
     "execution_count": 49,
     "metadata": {},
     "output_type": "execute_result"
    }
   ],
   "source": [
    "# mengambil beberapa sampel dataset\n",
    "pd.DataFrame(X,columns=personal_info_column_list).head()"
   ]
  },
  {
   "cell_type": "code",
   "execution_count": 50,
   "metadata": {},
   "outputs": [
    {
     "data": {
      "text/html": [
       "<div>\n",
       "<style scoped>\n",
       "    .dataframe tbody tr th:only-of-type {\n",
       "        vertical-align: middle;\n",
       "    }\n",
       "\n",
       "    .dataframe tbody tr th {\n",
       "        vertical-align: top;\n",
       "    }\n",
       "\n",
       "    .dataframe thead th {\n",
       "        text-align: right;\n",
       "    }\n",
       "</style>\n",
       "<table border=\"1\" class=\"dataframe\">\n",
       "  <thead>\n",
       "    <tr style=\"text-align: right;\">\n",
       "      <th></th>\n",
       "      <th>gender</th>\n",
       "      <th>age</th>\n",
       "      <th>income</th>\n",
       "      <th>family_members</th>\n",
       "    </tr>\n",
       "  </thead>\n",
       "  <tbody>\n",
       "    <tr>\n",
       "      <th>0</th>\n",
       "      <td>6359.715273</td>\n",
       "      <td>22380.404676</td>\n",
       "      <td>18424.090742</td>\n",
       "      <td>46000.696690</td>\n",
       "    </tr>\n",
       "    <tr>\n",
       "      <th>1</th>\n",
       "      <td>4873.294065</td>\n",
       "      <td>17160.367030</td>\n",
       "      <td>14125.780761</td>\n",
       "      <td>35253.455773</td>\n",
       "    </tr>\n",
       "    <tr>\n",
       "      <th>2</th>\n",
       "      <td>2693.117429</td>\n",
       "      <td>9486.397744</td>\n",
       "      <td>7808.831560</td>\n",
       "      <td>19484.860631</td>\n",
       "    </tr>\n",
       "    <tr>\n",
       "      <th>3</th>\n",
       "      <td>5345.603937</td>\n",
       "      <td>18803.227203</td>\n",
       "      <td>15479.148373</td>\n",
       "      <td>38663.061863</td>\n",
       "    </tr>\n",
       "    <tr>\n",
       "      <th>4</th>\n",
       "      <td>3347.176735</td>\n",
       "      <td>11782.829283</td>\n",
       "      <td>9699.998942</td>\n",
       "      <td>24211.273378</td>\n",
       "    </tr>\n",
       "  </tbody>\n",
       "</table>\n",
       "</div>"
      ],
      "text/plain": [
       "        gender           age        income  family_members\n",
       "0  6359.715273  22380.404676  18424.090742    46000.696690\n",
       "1  4873.294065  17160.367030  14125.780761    35253.455773\n",
       "2  2693.117429   9486.397744   7808.831560    19484.860631\n",
       "3  5345.603937  18803.227203  15479.148373    38663.061863\n",
       "4  3347.176735  11782.829283   9699.998942    24211.273378"
      ]
     },
     "execution_count": 50,
     "metadata": {},
     "output_type": "execute_result"
    }
   ],
   "source": [
    "# mentransformasikan dataset menggunakan matriks P\n",
    "X_trans = X.dot(P)\n",
    "pd.DataFrame(X_trans,columns=personal_info_column_list).head()"
   ]
  },
  {
   "cell_type": "code",
   "execution_count": 51,
   "metadata": {},
   "outputs": [
    {
     "data": {
      "text/html": [
       "<div>\n",
       "<style scoped>\n",
       "    .dataframe tbody tr th:only-of-type {\n",
       "        vertical-align: middle;\n",
       "    }\n",
       "\n",
       "    .dataframe tbody tr th {\n",
       "        vertical-align: top;\n",
       "    }\n",
       "\n",
       "    .dataframe thead th {\n",
       "        text-align: right;\n",
       "    }\n",
       "</style>\n",
       "<table border=\"1\" class=\"dataframe\">\n",
       "  <thead>\n",
       "    <tr style=\"text-align: right;\">\n",
       "      <th></th>\n",
       "      <th>gender</th>\n",
       "      <th>age</th>\n",
       "      <th>income</th>\n",
       "      <th>family_members</th>\n",
       "    </tr>\n",
       "  </thead>\n",
       "  <tbody>\n",
       "    <tr>\n",
       "      <th>0</th>\n",
       "      <td>1.000000e+00</td>\n",
       "      <td>41.0</td>\n",
       "      <td>49600.0</td>\n",
       "      <td>1.000000e+00</td>\n",
       "    </tr>\n",
       "    <tr>\n",
       "      <th>1</th>\n",
       "      <td>-4.473636e-12</td>\n",
       "      <td>46.0</td>\n",
       "      <td>38000.0</td>\n",
       "      <td>1.000000e+00</td>\n",
       "    </tr>\n",
       "    <tr>\n",
       "      <th>2</th>\n",
       "      <td>-2.515869e-12</td>\n",
       "      <td>29.0</td>\n",
       "      <td>21000.0</td>\n",
       "      <td>9.524523e-13</td>\n",
       "    </tr>\n",
       "    <tr>\n",
       "      <th>3</th>\n",
       "      <td>-4.844982e-12</td>\n",
       "      <td>21.0</td>\n",
       "      <td>41700.0</td>\n",
       "      <td>2.000000e+00</td>\n",
       "    </tr>\n",
       "    <tr>\n",
       "      <th>4</th>\n",
       "      <td>1.000000e+00</td>\n",
       "      <td>28.0</td>\n",
       "      <td>26100.0</td>\n",
       "      <td>-1.019907e-13</td>\n",
       "    </tr>\n",
       "  </tbody>\n",
       "</table>\n",
       "</div>"
      ],
      "text/plain": [
       "         gender   age   income  family_members\n",
       "0  1.000000e+00  41.0  49600.0    1.000000e+00\n",
       "1 -4.473636e-12  46.0  38000.0    1.000000e+00\n",
       "2 -2.515869e-12  29.0  21000.0    9.524523e-13\n",
       "3 -4.844982e-12  21.0  41700.0    2.000000e+00\n",
       "4  1.000000e+00  28.0  26100.0   -1.019907e-13"
      ]
     },
     "execution_count": 51,
     "metadata": {},
     "output_type": "execute_result"
    }
   ],
   "source": [
    "# mengembalikan nilai semula dari hasil transformasi\n",
    "X_reverse = X_trans.dot(inv_P)\n",
    "pd.DataFrame(X_reverse,columns=personal_info_column_list).head()"
   ]
  },
  {
   "cell_type": "code",
   "execution_count": 52,
   "metadata": {},
   "outputs": [
    {
     "name": "stdout",
     "output_type": "stream",
     "text": [
      "                                             Data Asli                                              \n",
      "----------------------------------------------------------------------------------------------------\n",
      "[[1.00e+00 4.10e+01 4.96e+04 1.00e+00]\n",
      " [0.00e+00 4.60e+01 3.80e+04 1.00e+00]]\n",
      "====================================================================================================\n",
      "                                         Data Transformasi                                          \n",
      "----------------------------------------------------------------------------------------------------\n",
      "[[ 6359.71527314 22380.40467609 18424.09074184 46000.69669016]\n",
      " [ 4873.29406479 17160.36702982 14125.78076133 35253.45577301]]\n",
      "====================================================================================================\n",
      "                                            Data Inverse                                            \n",
      "----------------------------------------------------------------------------------------------------\n",
      "[[ 1.00000000e+00  4.10000000e+01  4.96000000e+04  1.00000000e+00]\n",
      " [-4.47363596e-12  4.60000000e+01  3.80000000e+04  1.00000000e+00]]\n",
      "====================================================================================================\n"
     ]
    }
   ],
   "source": [
    "for i, data in zip(['Asli','Transformasi','Inverse'], [X, X_trans, X_reverse]):\n",
    "    print(f\"Data {i}\".center(100))\n",
    "    print(100*'-')\n",
    "    print(data[:2])\n",
    "    print(100*'=')"
   ]
  },
  {
   "cell_type": "markdown",
   "metadata": {},
   "source": [
    "Mungkin Anda bisa melihat bahwa terdapat beberapa nilai yang tidak benar-benar sama dengan data sebelum ditransformasi. Kenapa bisa begitu?"
   ]
  },
  {
   "cell_type": "markdown",
   "metadata": {},
   "source": [
    "terlihat bahwa data asli tampilannya tidak sama dengan data awal karena data dikonversi ke dalam bentuk numpy array. dikarenakan invers $P$ menghasilkan bilangan pecahan yang sangat kecil."
   ]
  },
  {
   "cell_type": "markdown",
   "metadata": {},
   "source": [
    "##  Buktikan Bahwa Pengaburan Data Bisa Bekerja dengan LR"
   ]
  },
  {
   "cell_type": "markdown",
   "metadata": {},
   "source": [
    "Tugas regresi pada proyek ini telah diselesaikan dengan regresi linear. Tugas selanjutnya adalah untuk membuktikan secara analitis bahwa metode pengaburan data tertentu tidak akan memengaruhi prediksi nilai regresi linear - nilai-nilai prediksi tersebut tidak akan berubah dari hasil awalnya. Apakah Anda yakin Anda bisa melakukannya?? Anda tidak harus yakin sekarang, tetapi Anda harus membuktikannya!"
   ]
  },
  {
   "cell_type": "markdown",
   "metadata": {},
   "source": [
    "Jadi, data yang ada telah dikaburkan dan sekarang terdapat $X \\times P$ alih-alih hanya $X$. Akibatnya, ada bobot lain $w_P$ sebagai\n",
    "$$\n",
    "w = (X^T X)^{-1} X^T y \\quad \\Rightarrow \\quad w_P = [(XP)^T XP]^{-1} (XP)^T y\n",
    "$$\n",
    "\n",
    "Bagaimana menghubungkan $w$ dan $w_P$ jika Anda menyederhanakan rumus untuk wP di atas?\n",
    "\n",
    "Nilai apa yang akan $w_P$ prediksi? \n",
    "\n",
    "Apa artinya bagi kualitas regresi linier jika Anda mengukurnya dengan RMSE?\n",
    "\n",
    "Periksa lampiran B (Sifat-sifat Matriks) di bagian *notebook*. Tersedia beberapa rumus yang berguna di sana!\n",
    "\n",
    "Tidak ada kode yang begitu penting di sesi ini, hanya penjelasan analitis!"
   ]
  },
  {
   "cell_type": "markdown",
   "metadata": {},
   "source": [
    "**Jawaban**"
   ]
  },
  {
   "cell_type": "markdown",
   "metadata": {},
   "source": [
    "Ada 2 persamaan yaitu w dan wp. Untuk melihat hubungannya, persamaan wp harus diuraikan atau dijabarkan sehingga akan terlihat hubungannya dengan w. \n",
    "\n",
    "$$ \n",
    "w = (X^T X)^-1 X^T y \n",
    "$$\n",
    "\n",
    "$$ \n",
    "w_P = [(XP)^T XP]^{-1} (XP)^T y \n",
    "$$\n",
    "\n",
    "- Menguraikan persamaan wp dan disusun: \n",
    "\n",
    "$$ \n",
    "w_P = [(XP)^T XP]^{-1} (XP)^T y \n",
    "$$\n",
    "\n",
    "$$ \n",
    "w_p = (X^T P^T XP)^{-1} X^T P^T y   \n",
    "$$\n",
    "\n",
    "Persamaan di atas dirubah susunannya menjadi persamaan di bawah\n",
    "\n",
    "$$ \n",
    "w_p = ((X^T X) P^T P)^{-1} X^T P^T y \n",
    "$$\n",
    "\n",
    "$$ \n",
    "w_p = (X^T X) P^T P)^{-1} X^T P^T y = (X^T X)^{-1} (P^T P)^{-1} X^T P^T y\n",
    "$$\n",
    "\n",
    "$$ \n",
    "w_p = (X^T X)^{-1} X^T y P^{-T} P^{-1} P^T = (X^T X)^{-1} X^T y P^{-T} P^T P^{-1}\n",
    "$$\n",
    "\n",
    "\n",
    "Dari persamaan tsb terlihat bahwa:\n",
    "\n",
    "$$ \n",
    "w = (X^T X]^-1 X^T y \n",
    "$$                   \n",
    "\n",
    "dan \n",
    "\n",
    "perkalian antara matrik\n",
    "$$\n",
    "P^{-T} . P^T = P^T . P^{-T} \n",
    "$$\n",
    "\n",
    "hasilnya adalah metrik identitas atau sama dengan 1, sehingga setelah diganti, yang tersisa adalah P^(-1)\n",
    "\n",
    "Dengan demikian, maka:\n",
    "\n",
    "$$ \n",
    "wp = w  P^{-1}\n",
    "$$\n"
   ]
  },
  {
   "cell_type": "markdown",
   "metadata": {},
   "source": [
    "**Bukti analitis**"
   ]
  },
  {
   "cell_type": "markdown",
   "metadata": {},
   "source": [
    "Nilai apa yang akan  𝑤𝑃 prediksi?\n",
    "\n",
    "- Mengingat bahwa :  $a = Xw$\n",
    "\n",
    "- menyerupai persamaan : $a' = X'w_p$\n",
    "\n",
    "- dimana jika dengan contoh kasus diatas : $X' = XP$\n",
    "\n",
    "- jika kita masukkan dalam persamaan $w_p = w P^{-1}$\n",
    "\n",
    "- dan mengganti nilai $a'$ sehingga kita mempunyai persamaan :\n",
    "\n",
    "$$\\begin{align*}\n",
    "    a' &= XP.w P^{-1} = XP P^{-1} w = XIw \\\\\n",
    "    \\therefore a' &= Xw = a\n",
    "\\end{align*}$$\n",
    "\n"
   ]
  },
  {
   "cell_type": "markdown",
   "metadata": {},
   "source": [
    "Arti kualitas regresi linier jika mengukurnya dengan RMSE?\n",
    "\n",
    "\n",
    "Karena $a'$ sama dengan $a$, maka dapat diasumsikan bahwa RMSE yang dihitung untuk kumpulan data asli dan dengan penskalaan menjadi sama sehingga kualitas model regresi linier yang diukur menggunakan RMSE akan juga akan menghasilkan hasil yang sama."
   ]
  },
  {
   "cell_type": "markdown",
   "metadata": {},
   "source": []
  },
  {
   "cell_type": "markdown",
   "metadata": {},
   "source": [
    "## Uji Regresi Linear dengan Pengaburan Data"
   ]
  },
  {
   "cell_type": "markdown",
   "metadata": {},
   "source": [
    "Sekarang, mari kita buktikan kalau Regresi Linear dapat bekerja secara komputasi dengan transformasi pengaburan yang dipilih.\n",
    "\n",
    "Buat prosedur atau kelas yang menjalankan regresi linear dengan pengaburan data. Anda bisa menggunakan regresi linear yang tersedia di scikit-learn atau milik Anda sendiri.\n",
    "\n",
    "Jalankan regresi linear terhadap data asli dan data yang disamarkan, bandingkan nilai prediksi dan RMSE, serta nilai metrik $R^2$. Apakah ada perbedaan?"
   ]
  },
  {
   "cell_type": "markdown",
   "metadata": {},
   "source": [
    "**Prosedur**\n",
    "\n",
    "- Buat matriks persegi $P$ dari angka acak.\n",
    "- Periksa apakah matriks tersebut *invertible*. Jika tidak, ulangi dari langkah pertama sampai kita mendapatkan matriks yang bisa dibalik (*invertible*).\n",
    "- <! ketik komentar Anda di sini !>\n",
    "- Gunakan $XP$ sebagai matriks fitur baru "
   ]
  },
  {
   "cell_type": "markdown",
   "metadata": {},
   "source": [
    "### Membuat matriks persegi dari angka acak"
   ]
  },
  {
   "cell_type": "code",
   "execution_count": 53,
   "metadata": {},
   "outputs": [
    {
     "data": {
      "text/plain": [
       "array([[ 9,  3, 19,  4],\n",
       "       [13,  9, 15,  2],\n",
       "       [ 2,  2,  3,  5],\n",
       "       [16, 19,  3, 12]])"
      ]
     },
     "execution_count": 53,
     "metadata": {},
     "output_type": "execute_result"
    }
   ],
   "source": [
    "# membuat matriks acak\n",
    "P_new = np.random.randint(1,20,(X.shape[1], X.shape[1]))\n",
    "P_new"
   ]
  },
  {
   "cell_type": "code",
   "execution_count": 54,
   "metadata": {},
   "outputs": [
    {
     "data": {
      "text/plain": [
       "array([[ 1., -0., -0.,  0.],\n",
       "       [-0.,  1.,  0., -0.],\n",
       "       [-0.,  0.,  1., -0.],\n",
       "       [ 0., -0.,  0.,  1.]])"
      ]
     },
     "execution_count": 54,
     "metadata": {},
     "output_type": "execute_result"
    }
   ],
   "source": [
    "# pengujian matriks acak apakah invertible atau tidak\n",
    "inv_P_new = np.linalg.inv(P_new)\n",
    "I = np.around(P_new.dot(inv_P_new))\n",
    "I"
   ]
  },
  {
   "cell_type": "code",
   "execution_count": 55,
   "metadata": {},
   "outputs": [
    {
     "data": {
      "text/plain": [
       "True"
      ]
     },
     "execution_count": 55,
     "metadata": {},
     "output_type": "execute_result"
    }
   ],
   "source": [
    "np.allclose(np.dot(P_new, np.linalg.inv(P_new)), np.dot(np.linalg.inv(P_new), P_new))"
   ]
  },
  {
   "cell_type": "markdown",
   "metadata": {},
   "source": [
    "sudah di dapatkan $P_{\\text{new}}$ yang memiliki matriks inversible"
   ]
  },
  {
   "cell_type": "markdown",
   "metadata": {},
   "source": [
    "### Skor RMSE dan R2 Menggunakan Fitur Asli"
   ]
  },
  {
   "cell_type": "code",
   "execution_count": 56,
   "metadata": {},
   "outputs": [
    {
     "name": "stdout",
     "output_type": "stream",
     "text": [
      "[ 3.57495491e-02  1.64272726e-02 -2.60743659e-07 -1.16902127e-02]\n",
      "RMSE: 0.34\n",
      "R2: 0.66\n"
     ]
    }
   ],
   "source": [
    "# menghitung skor RMSE dan R2 menggunakan fitur asli\n",
    "X = df[['age', 'gender', 'income', 'family_members']].to_numpy()\n",
    "y = df['insurance_benefits'].to_numpy()\n",
    "\n",
    "X_train, X_test, y_train, y_test = train_test_split(X, y, test_size=0.3, random_state=12345)\n",
    "\n",
    "lr = MyLinearRegression()\n",
    "\n",
    "lr.fit(X_train, y_train)\n",
    "print(lr.weights)\n",
    "\n",
    "y_test_pred = lr.predict(X_test)\n",
    "eval_regressor(y_test, y_test_pred)"
   ]
  },
  {
   "cell_type": "markdown",
   "metadata": {},
   "source": [
    "seperti yang sudah didapatkan sebelumnya nilai RSME `0.34` dan R2 `0.66`"
   ]
  },
  {
   "cell_type": "markdown",
   "metadata": {},
   "source": [
    "### Skor RMSE dan R2 Menggunakan Fitur Transformasi"
   ]
  },
  {
   "cell_type": "code",
   "execution_count": 57,
   "metadata": {},
   "outputs": [
    {
     "data": {
      "text/plain": [
       "array([[ 99598.,  99351., 149597., 248178.],\n",
       "       [ 76430.,  76157., 114877., 190196.],\n",
       "       [ 42261.,  42087.,  63551., 105116.],\n",
       "       ...,\n",
       "       [ 68012.,  67898., 102086., 169604.],\n",
       "       [ 65659.,  65532.,  98542., 163626.],\n",
       "       [ 81481.,  81312., 122350., 203126.]])"
      ]
     },
     "execution_count": 57,
     "metadata": {},
     "output_type": "execute_result"
    }
   ],
   "source": [
    "# transformasi fitur\n",
    "X_transform = X.dot(P_new)\n",
    "X_transform"
   ]
  },
  {
   "cell_type": "code",
   "execution_count": 58,
   "metadata": {},
   "outputs": [
    {
     "name": "stdout",
     "output_type": "stream",
     "text": [
      "[ 0.04424657 -0.03992303 -0.01420377  0.00679279]\n",
      "RMSE: 0.34\n",
      "R2: 0.66\n"
     ]
    }
   ],
   "source": [
    "# menghitung skor RMSE dan R2 menggunakan fitur transformasi\n",
    "X_train, X_test, y_train, y_test = train_test_split(X_transform, y, test_size=0.3, random_state=12345)\n",
    "\n",
    "lr = MyLinearRegression()\n",
    "\n",
    "lr.fit(X_train, y_train)\n",
    "print(lr.weights)\n",
    "\n",
    "y_test_pred = lr.predict(X_test)\n",
    "eval_regressor(y_test, y_test_pred)"
   ]
  },
  {
   "cell_type": "markdown",
   "metadata": {},
   "source": [
    "setelah melakukan transform dengan matriks barupun nilai RSME dan R2 tidak berubah."
   ]
  },
  {
   "cell_type": "markdown",
   "metadata": {},
   "source": [
    "**Kesimpulan:** nilai `RSME` dan `R2` tidak berubah mempertahankan nilai `0.34` dan `0.66` meskipun telah dilakukan transformasi"
   ]
  },
  {
   "cell_type": "markdown",
   "metadata": {},
   "source": [
    "# Kesimpulan"
   ]
  },
  {
   "cell_type": "markdown",
   "metadata": {},
   "source": [
    "1. Dari hasil perhitungan menggunakan metric `euklides` antara dataset original dan dataset scaling, bahwa pada dataset scaling memberikan jarak yang lebih dekat jika dibandingkan dengan dataset original. Visualiasi juga mendukung dimana untuk dataset scaling, data lebih sering berkumpul dan jaraknya pendek jika dibandingkan dengan dataset original.\n",
    "2. hasil yang didapatkan setelah melakukan skala memiliki rentang yang cukup dekat, sedangkan saat tidak lakukan skala maka jaraknya akan cukup besar. metrik eucladean dan manhattan memiliki nilai yang berbeda akan tetapi tidak  jauh berbeda, nilai pada metrik eucladean cenderung lebih rendah dibandingkan dengan nilai pada metrik Manhattan\n",
    "3. Model KNN Classifier memberikan hasil F1 Score yang lebih baik jika dibandingkan dengan menggunakan model dummy.\n",
    "4. Dataset scaling memberikan hasil F1 Score yang lebih baik dibandingkan dengan dataset original.\n",
    "5. Semakin banyak jumlah k-neighbors semakin rendah F1 Score pada dataset original sedangkan pada dataset scaling tidak berpengaruh terhadap jumlah k-neighbors.\n",
    "6. nilai RSME dan R2 pada data yang sudah di skalasi maupun belum memiliki nilai yang sama. akan tetapi memiliki nilai bobot yang berbeda\n",
    "7. terlihat bahwa data asli tampilannya tidak sama dengan data awal karena data dikonversi ke dalam bentuk numpy array. dikarenakan invers $P$ menghasilkan bilangan pecahan yang sangat kecil.\n",
    "8. nilai `RSME` dan `R2` tidak berubah mempertahankan nilai `0.34` dan `0.66` meskipun telah dilakukan transformasi\n"
   ]
  },
  {
   "cell_type": "markdown",
   "metadata": {},
   "source": [
    "# Temuan"
   ]
  },
  {
   "cell_type": "markdown",
   "metadata": {},
   "source": [
    "1. terdapat kolom `age` yang memiliki tipe data kurang tepat, sehingga harus diganti terlebih dahulu\n",
    "2. terdapat beberapa data yang terduplikasi akan tetapi tidak bisa dipastikan penyebabnya karena tidak ada kode unik, sehingga diputuskan untuk dibiarkan\n",
    "3. nilai RSME dan R2 tidak dipengaruhi tranformasi dan skalasi\n"
   ]
  },
  {
   "cell_type": "markdown",
   "metadata": {},
   "source": [
    "# Rekomendasi"
   ]
  },
  {
   "cell_type": "markdown",
   "metadata": {},
   "source": [
    "1. Pencarian Klien Mirip: Gunakan algoritma clustering seperti K-Means atau DBSCAN untuk mengidentifikasi klien yang mirip berdasarkan atribut tertentu. Ini akan memudahkan perusahaan dalam melakukan pemasaran yang lebih efektif.\n",
    "2. Prediksi Pengambilan Klaim Asuransi: Model KNN Classifier tampaknya memberikan hasil yang lebih baik daripada model dummy. Disarankan untuk menggunakan model ini untuk prediksi pengambilan klaim asuransi pada klien baru.\n",
    "3. Prediksi Besaran Klaim Asuransi: Model regresi linear dapat digunakan untuk memprediksi besaran klaim asuransi yang mungkin diterima oleh klien baru. Pastikan untuk melakukan preprocessing data yang sesuai dan evaluasi yang komprehensif terhadap model ini.\n",
    "4. Perlindungan Data Pribadi: Untuk melindungi data pribadi klien tanpa merusak kualitas model, Anda dapat mengembangkan algoritme transformasi data yang dapat mencegah penyalahgunaan informasi pribadi klien. Contoh metode yang dapat digunakan adalah teknik penyandian atau pengaburan data dengan mempertahankan karakteristik penting data tetapi tidak mengungkapkan informasi pribadi secara langsung.\n",
    "5. Pertimbangkan Teknik Skala Data: Evaluasi menunjukkan bahwa dataset scaling memberikan hasil yang lebih baik dalam beberapa metrik evaluasi. Pertimbangkan untuk menggunakan teknik skala data pada tahap preprocessing data untuk meningkatkan kinerja model.\n",
    "6. Analisis Perubahan Bobot Model: Perhatikan bahwa meskipun nilai RSME dan R2 tetap stabil setelah transformasi, bobot model bisa berubah. Pastikan untuk memahami implikasi ini terhadap interpretasi model dan kinerja prediksi.\n",
    "\n",
    "Dengan menerapkan rekomendasi ini, perusahaan \"Sure Tomorrow\" dapat meningkatkan efektivitas strategi pemasaran, prediksi klaim asuransi, dan perlindungan data pribadi klien tanpa mengorbankan kualitas model machine learning."
   ]
  }
 ],
 "metadata": {
  "ExecuteTimeLog": [
   {
    "duration": 4923,
    "start_time": "2024-06-08T09:33:28.027Z"
   },
   {
    "duration": 5296,
    "start_time": "2024-06-08T09:33:32.955Z"
   },
   {
    "duration": 17,
    "start_time": "2024-06-08T09:33:38.256Z"
   },
   {
    "duration": 5,
    "start_time": "2024-06-08T09:33:38.277Z"
   },
   {
    "duration": 39,
    "start_time": "2024-06-08T09:33:38.289Z"
   },
   {
    "duration": 16,
    "start_time": "2024-06-08T09:33:38.330Z"
   },
   {
    "duration": 6,
    "start_time": "2024-06-08T09:33:38.349Z"
   },
   {
    "duration": 3,
    "start_time": "2024-06-08T09:33:38.358Z"
   },
   {
    "duration": 4,
    "start_time": "2024-06-08T09:33:38.364Z"
   },
   {
    "duration": 4095,
    "start_time": "2024-06-08T09:33:48.230Z"
   },
   {
    "duration": 1663,
    "start_time": "2024-06-08T09:33:52.329Z"
   },
   {
    "duration": 11,
    "start_time": "2024-06-08T09:33:53.995Z"
   },
   {
    "duration": 15,
    "start_time": "2024-06-08T09:33:54.009Z"
   },
   {
    "duration": 20,
    "start_time": "2024-06-08T09:33:54.030Z"
   },
   {
    "duration": 17,
    "start_time": "2024-06-08T09:33:54.053Z"
   },
   {
    "duration": 4,
    "start_time": "2024-06-08T09:33:54.074Z"
   },
   {
    "duration": 3,
    "start_time": "2024-06-08T09:33:54.125Z"
   },
   {
    "duration": 4,
    "start_time": "2024-06-08T09:33:54.132Z"
   },
   {
    "duration": 5221,
    "start_time": "2024-06-08T09:33:54.139Z"
   },
   {
    "duration": 4,
    "start_time": "2024-06-08T09:33:59.362Z"
   },
   {
    "duration": 9,
    "start_time": "2024-06-08T09:33:59.370Z"
   },
   {
    "duration": 0,
    "start_time": "2024-06-08T09:33:59.383Z"
   },
   {
    "duration": 0,
    "start_time": "2024-06-08T09:33:59.384Z"
   },
   {
    "duration": 0,
    "start_time": "2024-06-08T09:33:59.387Z"
   },
   {
    "duration": 0,
    "start_time": "2024-06-08T09:33:59.389Z"
   },
   {
    "duration": 0,
    "start_time": "2024-06-08T09:33:59.392Z"
   },
   {
    "duration": 0,
    "start_time": "2024-06-08T09:33:59.423Z"
   },
   {
    "duration": 0,
    "start_time": "2024-06-08T09:33:59.426Z"
   },
   {
    "duration": 0,
    "start_time": "2024-06-08T09:33:59.429Z"
   },
   {
    "duration": 0,
    "start_time": "2024-06-08T09:33:59.432Z"
   },
   {
    "duration": 0,
    "start_time": "2024-06-08T09:33:59.435Z"
   },
   {
    "duration": 0,
    "start_time": "2024-06-08T09:33:59.437Z"
   },
   {
    "duration": 0,
    "start_time": "2024-06-08T09:33:59.441Z"
   },
   {
    "duration": 0,
    "start_time": "2024-06-08T09:33:59.444Z"
   },
   {
    "duration": 4493,
    "start_time": "2024-06-08T10:37:16.900Z"
   },
   {
    "duration": 5727,
    "start_time": "2024-06-08T10:37:21.396Z"
   },
   {
    "duration": 89,
    "start_time": "2024-06-08T10:37:27.126Z"
   },
   {
    "duration": 6,
    "start_time": "2024-06-08T10:37:27.225Z"
   },
   {
    "duration": 25,
    "start_time": "2024-06-08T10:37:27.235Z"
   },
   {
    "duration": 60,
    "start_time": "2024-06-08T10:37:27.264Z"
   },
   {
    "duration": 514,
    "start_time": "2024-06-08T10:37:27.327Z"
   },
   {
    "duration": 0,
    "start_time": "2024-06-08T10:37:27.848Z"
   },
   {
    "duration": 0,
    "start_time": "2024-06-08T10:37:27.851Z"
   },
   {
    "duration": 0,
    "start_time": "2024-06-08T10:37:27.854Z"
   },
   {
    "duration": 0,
    "start_time": "2024-06-08T10:37:27.857Z"
   },
   {
    "duration": 0,
    "start_time": "2024-06-08T10:37:27.861Z"
   },
   {
    "duration": 0,
    "start_time": "2024-06-08T10:37:27.863Z"
   },
   {
    "duration": 1,
    "start_time": "2024-06-08T10:37:27.865Z"
   },
   {
    "duration": 0,
    "start_time": "2024-06-08T10:37:27.868Z"
   },
   {
    "duration": 0,
    "start_time": "2024-06-08T10:37:27.872Z"
   },
   {
    "duration": 0,
    "start_time": "2024-06-08T10:37:27.874Z"
   },
   {
    "duration": 0,
    "start_time": "2024-06-08T10:37:27.877Z"
   },
   {
    "duration": 0,
    "start_time": "2024-06-08T10:37:27.880Z"
   },
   {
    "duration": 0,
    "start_time": "2024-06-08T10:37:27.925Z"
   },
   {
    "duration": 1,
    "start_time": "2024-06-08T10:37:27.927Z"
   },
   {
    "duration": 0,
    "start_time": "2024-06-08T10:37:27.930Z"
   },
   {
    "duration": 0,
    "start_time": "2024-06-08T10:37:27.933Z"
   },
   {
    "duration": 0,
    "start_time": "2024-06-08T10:37:27.937Z"
   },
   {
    "duration": 0,
    "start_time": "2024-06-08T10:37:27.939Z"
   },
   {
    "duration": 916,
    "start_time": "2024-06-08T10:37:37.190Z"
   },
   {
    "duration": 5,
    "start_time": "2024-06-08T10:37:45.943Z"
   },
   {
    "duration": 7,
    "start_time": "2024-06-08T10:37:49.019Z"
   },
   {
    "duration": 28,
    "start_time": "2024-06-08T10:38:13.500Z"
   },
   {
    "duration": 10,
    "start_time": "2024-06-08T10:38:41.530Z"
   },
   {
    "duration": 5346,
    "start_time": "2024-06-08T10:43:16.041Z"
   },
   {
    "duration": 27,
    "start_time": "2024-06-08T10:44:28.842Z"
   },
   {
    "duration": 5,
    "start_time": "2024-06-08T10:44:56.511Z"
   },
   {
    "duration": 497,
    "start_time": "2024-06-08T10:45:01.061Z"
   },
   {
    "duration": 5,
    "start_time": "2024-06-08T10:46:18.774Z"
   },
   {
    "duration": 10,
    "start_time": "2024-06-08T10:46:27.998Z"
   },
   {
    "duration": 6,
    "start_time": "2024-06-08T10:46:47.858Z"
   },
   {
    "duration": 15,
    "start_time": "2024-06-08T10:47:19.771Z"
   },
   {
    "duration": 14,
    "start_time": "2024-06-08T10:47:22.688Z"
   },
   {
    "duration": 6,
    "start_time": "2024-06-08T10:52:40.790Z"
   },
   {
    "duration": 517,
    "start_time": "2024-06-08T10:53:22.060Z"
   },
   {
    "duration": 274,
    "start_time": "2024-06-08T10:54:58.072Z"
   },
   {
    "duration": 401,
    "start_time": "2024-06-08T10:55:58.930Z"
   },
   {
    "duration": 6,
    "start_time": "2024-06-08T10:57:51.028Z"
   },
   {
    "duration": 15,
    "start_time": "2024-06-08T10:57:56.222Z"
   },
   {
    "duration": 15,
    "start_time": "2024-06-08T10:57:58.641Z"
   },
   {
    "duration": 26,
    "start_time": "2024-06-08T10:58:01.670Z"
   },
   {
    "duration": 39,
    "start_time": "2024-06-08T10:58:57.903Z"
   },
   {
    "duration": 35,
    "start_time": "2024-06-08T10:59:48.440Z"
   },
   {
    "duration": 5,
    "start_time": "2024-06-08T11:01:14.780Z"
   },
   {
    "duration": 4105,
    "start_time": "2024-06-08T11:01:17.891Z"
   },
   {
    "duration": 6,
    "start_time": "2024-06-08T11:01:22.000Z"
   },
   {
    "duration": 12,
    "start_time": "2024-06-08T11:01:22.011Z"
   },
   {
    "duration": 6,
    "start_time": "2024-06-08T11:01:22.027Z"
   },
   {
    "duration": 16,
    "start_time": "2024-06-08T11:01:22.036Z"
   },
   {
    "duration": 16,
    "start_time": "2024-06-08T11:01:22.055Z"
   },
   {
    "duration": 5,
    "start_time": "2024-06-08T11:01:22.074Z"
   },
   {
    "duration": 7,
    "start_time": "2024-06-08T11:01:22.122Z"
   },
   {
    "duration": 31,
    "start_time": "2024-06-08T11:01:22.133Z"
   },
   {
    "duration": 9,
    "start_time": "2024-06-08T11:01:22.170Z"
   },
   {
    "duration": 5495,
    "start_time": "2024-06-08T11:01:22.181Z"
   },
   {
    "duration": 530,
    "start_time": "2024-06-08T11:01:27.679Z"
   },
   {
    "duration": 10,
    "start_time": "2024-06-08T11:01:28.213Z"
   },
   {
    "duration": 7,
    "start_time": "2024-06-08T11:01:28.227Z"
   },
   {
    "duration": 16,
    "start_time": "2024-06-08T11:01:28.238Z"
   },
   {
    "duration": 25,
    "start_time": "2024-06-08T11:01:28.257Z"
   },
   {
    "duration": 61,
    "start_time": "2024-06-08T11:01:28.286Z"
   },
   {
    "duration": 45,
    "start_time": "2024-06-08T11:01:28.350Z"
   },
   {
    "duration": 547,
    "start_time": "2024-06-08T11:01:28.424Z"
   },
   {
    "duration": 6,
    "start_time": "2024-06-08T11:01:28.973Z"
   },
   {
    "duration": 0,
    "start_time": "2024-06-08T11:01:28.983Z"
   },
   {
    "duration": 0,
    "start_time": "2024-06-08T11:01:28.984Z"
   },
   {
    "duration": 0,
    "start_time": "2024-06-08T11:01:28.986Z"
   },
   {
    "duration": 0,
    "start_time": "2024-06-08T11:01:28.990Z"
   },
   {
    "duration": 0,
    "start_time": "2024-06-08T11:01:28.992Z"
   },
   {
    "duration": 0,
    "start_time": "2024-06-08T11:01:28.994Z"
   },
   {
    "duration": 0,
    "start_time": "2024-06-08T11:01:29.023Z"
   },
   {
    "duration": 0,
    "start_time": "2024-06-08T11:01:29.027Z"
   },
   {
    "duration": 0,
    "start_time": "2024-06-08T11:01:29.029Z"
   },
   {
    "duration": 0,
    "start_time": "2024-06-08T11:01:29.031Z"
   },
   {
    "duration": 780,
    "start_time": "2024-06-08T11:05:27.350Z"
   },
   {
    "duration": 487,
    "start_time": "2024-06-08T11:06:21.922Z"
   },
   {
    "duration": 102,
    "start_time": "2024-06-08T11:14:09.560Z"
   },
   {
    "duration": 9,
    "start_time": "2024-06-08T11:14:18.153Z"
   },
   {
    "duration": 8,
    "start_time": "2024-06-08T11:14:51.725Z"
   },
   {
    "duration": 25,
    "start_time": "2024-06-08T11:15:44.483Z"
   },
   {
    "duration": 11,
    "start_time": "2024-06-08T11:15:56.730Z"
   },
   {
    "duration": 40,
    "start_time": "2024-06-08T11:16:05.958Z"
   },
   {
    "duration": 8,
    "start_time": "2024-06-08T11:16:09.952Z"
   },
   {
    "duration": 18,
    "start_time": "2024-06-08T11:23:35.830Z"
   },
   {
    "duration": 39,
    "start_time": "2024-06-08T11:23:58.040Z"
   },
   {
    "duration": 41,
    "start_time": "2024-06-08T11:24:02.650Z"
   },
   {
    "duration": 10,
    "start_time": "2024-06-08T11:24:30.750Z"
   },
   {
    "duration": 25,
    "start_time": "2024-06-08T11:26:02.150Z"
   },
   {
    "duration": 8,
    "start_time": "2024-06-08T11:26:39.110Z"
   },
   {
    "duration": 8,
    "start_time": "2024-06-08T11:29:15.165Z"
   },
   {
    "duration": 41,
    "start_time": "2024-06-08T11:35:18.071Z"
   },
   {
    "duration": 8,
    "start_time": "2024-06-08T11:36:02.178Z"
   },
   {
    "duration": 13,
    "start_time": "2024-06-08T11:37:35.104Z"
   },
   {
    "duration": 4211,
    "start_time": "2024-06-08T11:39:08.930Z"
   },
   {
    "duration": 6,
    "start_time": "2024-06-08T11:39:13.145Z"
   },
   {
    "duration": 13,
    "start_time": "2024-06-08T11:39:13.155Z"
   },
   {
    "duration": 5,
    "start_time": "2024-06-08T11:39:13.172Z"
   },
   {
    "duration": 17,
    "start_time": "2024-06-08T11:39:13.181Z"
   },
   {
    "duration": 16,
    "start_time": "2024-06-08T11:39:13.224Z"
   },
   {
    "duration": 4,
    "start_time": "2024-06-08T11:39:13.244Z"
   },
   {
    "duration": 6,
    "start_time": "2024-06-08T11:39:13.252Z"
   },
   {
    "duration": 78,
    "start_time": "2024-06-08T11:39:13.261Z"
   },
   {
    "duration": 9,
    "start_time": "2024-06-08T11:39:13.347Z"
   },
   {
    "duration": 5489,
    "start_time": "2024-06-08T11:39:13.359Z"
   },
   {
    "duration": 540,
    "start_time": "2024-06-08T11:39:18.855Z"
   },
   {
    "duration": 4,
    "start_time": "2024-06-08T11:39:19.401Z"
   },
   {
    "duration": 9,
    "start_time": "2024-06-08T11:39:19.422Z"
   },
   {
    "duration": 19,
    "start_time": "2024-06-08T11:39:19.435Z"
   },
   {
    "duration": 19,
    "start_time": "2024-06-08T11:39:19.458Z"
   },
   {
    "duration": 65,
    "start_time": "2024-06-08T11:39:19.481Z"
   },
   {
    "duration": 10,
    "start_time": "2024-06-08T11:39:19.550Z"
   },
   {
    "duration": 86,
    "start_time": "2024-06-08T11:39:19.565Z"
   },
   {
    "duration": 10,
    "start_time": "2024-06-08T11:39:19.658Z"
   },
   {
    "duration": 704,
    "start_time": "2024-06-08T11:39:19.672Z"
   },
   {
    "duration": 48,
    "start_time": "2024-06-08T11:39:20.380Z"
   },
   {
    "duration": 11,
    "start_time": "2024-06-08T11:39:20.432Z"
   },
   {
    "duration": 85,
    "start_time": "2024-06-08T11:39:20.447Z"
   },
   {
    "duration": 11,
    "start_time": "2024-06-08T11:39:20.536Z"
   },
   {
    "duration": 11,
    "start_time": "2024-06-08T11:39:20.551Z"
   },
   {
    "duration": 11,
    "start_time": "2024-06-08T11:39:20.567Z"
   },
   {
    "duration": 13,
    "start_time": "2024-06-08T11:39:20.630Z"
   },
   {
    "duration": 10,
    "start_time": "2024-06-08T11:39:20.647Z"
   },
   {
    "duration": 6,
    "start_time": "2024-06-08T11:39:20.661Z"
   },
   {
    "duration": 52,
    "start_time": "2024-06-08T11:39:20.671Z"
   },
   {
    "duration": 7,
    "start_time": "2024-06-08T11:39:20.728Z"
   },
   {
    "duration": 0,
    "start_time": "2024-06-08T11:39:20.739Z"
   },
   {
    "duration": 0,
    "start_time": "2024-06-08T11:39:20.742Z"
   },
   {
    "duration": 0,
    "start_time": "2024-06-08T11:39:20.745Z"
   },
   {
    "duration": 0,
    "start_time": "2024-06-08T11:39:20.747Z"
   },
   {
    "duration": 0,
    "start_time": "2024-06-08T11:39:20.750Z"
   },
   {
    "duration": 0,
    "start_time": "2024-06-08T11:39:20.753Z"
   },
   {
    "duration": 37,
    "start_time": "2024-06-08T11:39:46.220Z"
   },
   {
    "duration": 12,
    "start_time": "2024-06-08T11:40:59.501Z"
   },
   {
    "duration": 42,
    "start_time": "2024-06-08T11:41:01.253Z"
   },
   {
    "duration": 37,
    "start_time": "2024-06-08T11:43:00.162Z"
   },
   {
    "duration": 468,
    "start_time": "2024-06-08T11:43:08.921Z"
   },
   {
    "duration": 31,
    "start_time": "2024-06-08T11:45:30.632Z"
   },
   {
    "duration": 15,
    "start_time": "2024-06-08T11:45:36.850Z"
   },
   {
    "duration": 551,
    "start_time": "2024-06-08T11:45:39.892Z"
   },
   {
    "duration": 325,
    "start_time": "2024-06-08T12:20:49.205Z"
   },
   {
    "duration": 7,
    "start_time": "2024-06-08T12:25:02.260Z"
   },
   {
    "duration": 9,
    "start_time": "2024-06-08T12:25:14.925Z"
   },
   {
    "duration": 69,
    "start_time": "2024-06-08T12:25:32.064Z"
   },
   {
    "duration": 58,
    "start_time": "2024-06-08T12:26:13.182Z"
   },
   {
    "duration": 9,
    "start_time": "2024-06-08T12:26:55.043Z"
   },
   {
    "duration": 5,
    "start_time": "2024-06-08T12:26:57.776Z"
   },
   {
    "duration": 59,
    "start_time": "2024-06-08T12:27:00.950Z"
   },
   {
    "duration": 21,
    "start_time": "2024-06-08T12:27:24.396Z"
   },
   {
    "duration": 25,
    "start_time": "2024-06-08T12:27:28.049Z"
   },
   {
    "duration": 243,
    "start_time": "2024-06-08T12:27:30.073Z"
   },
   {
    "duration": 7,
    "start_time": "2024-06-08T12:28:18.915Z"
   },
   {
    "duration": 5220,
    "start_time": "2024-06-08T12:28:21.757Z"
   },
   {
    "duration": 8,
    "start_time": "2024-06-08T12:28:26.981Z"
   },
   {
    "duration": 15,
    "start_time": "2024-06-08T12:28:26.992Z"
   },
   {
    "duration": 6,
    "start_time": "2024-06-08T12:28:27.012Z"
   },
   {
    "duration": 20,
    "start_time": "2024-06-08T12:28:27.022Z"
   },
   {
    "duration": 19,
    "start_time": "2024-06-08T12:28:27.046Z"
   },
   {
    "duration": 6,
    "start_time": "2024-06-08T12:28:27.069Z"
   },
   {
    "duration": 12,
    "start_time": "2024-06-08T12:28:27.082Z"
   },
   {
    "duration": 47,
    "start_time": "2024-06-08T12:28:27.123Z"
   },
   {
    "duration": 43,
    "start_time": "2024-06-08T12:28:27.187Z"
   },
   {
    "duration": 7456,
    "start_time": "2024-06-08T12:28:27.234Z"
   },
   {
    "duration": 645,
    "start_time": "2024-06-08T12:28:34.701Z"
   },
   {
    "duration": 6,
    "start_time": "2024-06-08T12:28:35.357Z"
   },
   {
    "duration": 11,
    "start_time": "2024-06-08T12:28:35.373Z"
   },
   {
    "duration": 20,
    "start_time": "2024-06-08T12:28:35.396Z"
   },
   {
    "duration": 20,
    "start_time": "2024-06-08T12:28:35.420Z"
   },
   {
    "duration": 48,
    "start_time": "2024-06-08T12:28:35.444Z"
   },
   {
    "duration": 20,
    "start_time": "2024-06-08T12:28:35.504Z"
   },
   {
    "duration": 126,
    "start_time": "2024-06-08T12:28:35.530Z"
   },
   {
    "duration": 37,
    "start_time": "2024-06-08T12:28:35.670Z"
   },
   {
    "duration": 744,
    "start_time": "2024-06-08T12:28:35.716Z"
   },
   {
    "duration": 38,
    "start_time": "2024-06-08T12:28:36.463Z"
   },
   {
    "duration": 20,
    "start_time": "2024-06-08T12:28:36.504Z"
   },
   {
    "duration": 47,
    "start_time": "2024-06-08T12:28:36.530Z"
   },
   {
    "duration": 13,
    "start_time": "2024-06-08T12:28:36.583Z"
   },
   {
    "duration": 25,
    "start_time": "2024-06-08T12:28:36.600Z"
   },
   {
    "duration": 7,
    "start_time": "2024-06-08T12:28:36.628Z"
   },
   {
    "duration": 7,
    "start_time": "2024-06-08T12:28:36.643Z"
   },
   {
    "duration": 9,
    "start_time": "2024-06-08T12:28:36.654Z"
   },
   {
    "duration": 6,
    "start_time": "2024-06-08T12:28:36.667Z"
   },
   {
    "duration": 49,
    "start_time": "2024-06-08T12:28:36.677Z"
   },
   {
    "duration": 45,
    "start_time": "2024-06-08T12:28:36.731Z"
   },
   {
    "duration": 13,
    "start_time": "2024-06-08T12:28:36.780Z"
   },
   {
    "duration": 636,
    "start_time": "2024-06-08T12:28:36.796Z"
   },
   {
    "duration": 24,
    "start_time": "2024-06-08T12:28:37.435Z"
   },
   {
    "duration": 439,
    "start_time": "2024-06-08T12:28:37.462Z"
   },
   {
    "duration": 11,
    "start_time": "2024-06-08T12:28:37.905Z"
   },
   {
    "duration": 15,
    "start_time": "2024-06-08T12:28:37.924Z"
   },
   {
    "duration": 39,
    "start_time": "2024-06-08T12:28:37.946Z"
   },
   {
    "duration": 11,
    "start_time": "2024-06-08T12:28:38.023Z"
   },
   {
    "duration": 6,
    "start_time": "2024-06-08T12:28:38.037Z"
   },
   {
    "duration": 10,
    "start_time": "2024-06-08T12:28:38.046Z"
   },
   {
    "duration": 4465,
    "start_time": "2024-06-08T12:31:05.329Z"
   },
   {
    "duration": 7,
    "start_time": "2024-06-08T12:31:09.799Z"
   },
   {
    "duration": 17,
    "start_time": "2024-06-08T12:31:09.810Z"
   },
   {
    "duration": 7,
    "start_time": "2024-06-08T12:31:09.837Z"
   },
   {
    "duration": 17,
    "start_time": "2024-06-08T12:31:09.850Z"
   },
   {
    "duration": 20,
    "start_time": "2024-06-08T12:31:09.871Z"
   },
   {
    "duration": 12,
    "start_time": "2024-06-08T12:31:09.923Z"
   },
   {
    "duration": 11,
    "start_time": "2024-06-08T12:31:09.939Z"
   },
   {
    "duration": 35,
    "start_time": "2024-06-08T12:31:09.954Z"
   },
   {
    "duration": 40,
    "start_time": "2024-06-08T12:31:09.992Z"
   },
   {
    "duration": 6676,
    "start_time": "2024-06-08T12:31:10.037Z"
   },
   {
    "duration": 498,
    "start_time": "2024-06-08T12:31:16.718Z"
   },
   {
    "duration": 4,
    "start_time": "2024-06-08T12:31:17.227Z"
   },
   {
    "duration": 9,
    "start_time": "2024-06-08T12:31:17.239Z"
   },
   {
    "duration": 16,
    "start_time": "2024-06-08T12:31:17.252Z"
   },
   {
    "duration": 55,
    "start_time": "2024-06-08T12:31:17.272Z"
   },
   {
    "duration": 29,
    "start_time": "2024-06-08T12:31:17.331Z"
   },
   {
    "duration": 23,
    "start_time": "2024-06-08T12:31:17.363Z"
   },
   {
    "duration": 64,
    "start_time": "2024-06-08T12:31:17.390Z"
   },
   {
    "duration": 9,
    "start_time": "2024-06-08T12:31:17.459Z"
   },
   {
    "duration": 653,
    "start_time": "2024-06-08T12:31:17.473Z"
   },
   {
    "duration": 27,
    "start_time": "2024-06-08T12:31:18.129Z"
   },
   {
    "duration": 10,
    "start_time": "2024-06-08T12:31:18.160Z"
   },
   {
    "duration": 74,
    "start_time": "2024-06-08T12:31:18.180Z"
   },
   {
    "duration": 9,
    "start_time": "2024-06-08T12:31:18.257Z"
   },
   {
    "duration": 11,
    "start_time": "2024-06-08T12:31:18.269Z"
   },
   {
    "duration": 46,
    "start_time": "2024-06-08T12:31:18.283Z"
   },
   {
    "duration": 7,
    "start_time": "2024-06-08T12:31:18.333Z"
   },
   {
    "duration": 11,
    "start_time": "2024-06-08T12:31:18.344Z"
   },
   {
    "duration": 8,
    "start_time": "2024-06-08T12:31:18.358Z"
   },
   {
    "duration": 53,
    "start_time": "2024-06-08T12:31:18.371Z"
   },
   {
    "duration": 43,
    "start_time": "2024-06-08T12:31:18.427Z"
   },
   {
    "duration": 18,
    "start_time": "2024-06-08T12:31:18.472Z"
   },
   {
    "duration": 541,
    "start_time": "2024-06-08T12:31:18.496Z"
   },
   {
    "duration": 23,
    "start_time": "2024-06-08T12:31:19.041Z"
   },
   {
    "duration": 395,
    "start_time": "2024-06-08T12:31:19.069Z"
   },
   {
    "duration": 11,
    "start_time": "2024-06-08T12:31:19.468Z"
   },
   {
    "duration": 6,
    "start_time": "2024-06-08T12:31:19.484Z"
   },
   {
    "duration": 20,
    "start_time": "2024-06-08T12:31:19.522Z"
   },
   {
    "duration": 6,
    "start_time": "2024-06-08T12:31:19.545Z"
   },
   {
    "duration": 65,
    "start_time": "2024-06-08T12:31:19.560Z"
   },
   {
    "duration": 8,
    "start_time": "2024-06-08T12:31:19.628Z"
   },
   {
    "duration": 4124,
    "start_time": "2024-06-08T12:35:40.218Z"
   },
   {
    "duration": 1643,
    "start_time": "2024-06-08T12:35:44.346Z"
   },
   {
    "duration": 12,
    "start_time": "2024-06-08T12:35:45.993Z"
   },
   {
    "duration": 5,
    "start_time": "2024-06-08T12:35:46.024Z"
   },
   {
    "duration": 21,
    "start_time": "2024-06-08T12:35:46.032Z"
   },
   {
    "duration": 17,
    "start_time": "2024-06-08T12:35:46.056Z"
   },
   {
    "duration": 46,
    "start_time": "2024-06-08T12:35:46.077Z"
   },
   {
    "duration": 6,
    "start_time": "2024-06-08T12:35:46.126Z"
   },
   {
    "duration": 33,
    "start_time": "2024-06-08T12:35:46.137Z"
   },
   {
    "duration": 48,
    "start_time": "2024-06-08T12:35:46.176Z"
   },
   {
    "duration": 5212,
    "start_time": "2024-06-08T12:35:46.227Z"
   },
   {
    "duration": 470,
    "start_time": "2024-06-08T12:35:51.442Z"
   },
   {
    "duration": 8,
    "start_time": "2024-06-08T12:35:51.915Z"
   },
   {
    "duration": 7,
    "start_time": "2024-06-08T12:35:51.926Z"
   },
   {
    "duration": 14,
    "start_time": "2024-06-08T12:35:51.937Z"
   },
   {
    "duration": 14,
    "start_time": "2024-06-08T12:35:51.954Z"
   },
   {
    "duration": 66,
    "start_time": "2024-06-08T12:35:51.971Z"
   },
   {
    "duration": 8,
    "start_time": "2024-06-08T12:35:52.040Z"
   },
   {
    "duration": 41,
    "start_time": "2024-06-08T12:35:52.051Z"
   },
   {
    "duration": 8,
    "start_time": "2024-06-08T12:35:52.124Z"
   },
   {
    "duration": 561,
    "start_time": "2024-06-08T12:35:52.136Z"
   },
   {
    "duration": 37,
    "start_time": "2024-06-08T12:35:52.700Z"
   },
   {
    "duration": 8,
    "start_time": "2024-06-08T12:35:52.740Z"
   },
   {
    "duration": 40,
    "start_time": "2024-06-08T12:35:52.752Z"
   },
   {
    "duration": 8,
    "start_time": "2024-06-08T12:35:52.822Z"
   },
   {
    "duration": 9,
    "start_time": "2024-06-08T12:35:52.834Z"
   },
   {
    "duration": 9,
    "start_time": "2024-06-08T12:35:52.846Z"
   },
   {
    "duration": 5,
    "start_time": "2024-06-08T12:35:52.863Z"
   },
   {
    "duration": 57,
    "start_time": "2024-06-08T12:35:52.872Z"
   },
   {
    "duration": 6,
    "start_time": "2024-06-08T12:35:52.933Z"
   },
   {
    "duration": 5,
    "start_time": "2024-06-08T12:35:52.942Z"
   },
   {
    "duration": 77,
    "start_time": "2024-06-08T12:35:52.951Z"
   },
   {
    "duration": 12,
    "start_time": "2024-06-08T12:35:53.032Z"
   },
   {
    "duration": 662,
    "start_time": "2024-06-08T12:35:53.047Z"
   },
   {
    "duration": 15,
    "start_time": "2024-06-08T12:35:53.722Z"
   },
   {
    "duration": 348,
    "start_time": "2024-06-08T12:35:53.741Z"
   },
   {
    "duration": 7,
    "start_time": "2024-06-08T12:35:54.091Z"
   },
   {
    "duration": 5,
    "start_time": "2024-06-08T12:35:54.101Z"
   },
   {
    "duration": 15,
    "start_time": "2024-06-08T12:35:54.124Z"
   },
   {
    "duration": 5,
    "start_time": "2024-06-08T12:35:54.141Z"
   },
   {
    "duration": 4,
    "start_time": "2024-06-08T12:35:54.149Z"
   },
   {
    "duration": 9,
    "start_time": "2024-06-08T12:35:54.224Z"
   },
   {
    "duration": 19,
    "start_time": "2024-06-08T12:39:01.738Z"
   },
   {
    "duration": 8,
    "start_time": "2024-06-08T12:44:33.645Z"
   },
   {
    "duration": 11,
    "start_time": "2024-06-08T12:44:48.173Z"
   },
   {
    "duration": 7,
    "start_time": "2024-06-08T12:46:56.780Z"
   },
   {
    "duration": 14,
    "start_time": "2024-06-08T12:51:19.557Z"
   },
   {
    "duration": 11,
    "start_time": "2024-06-08T12:51:34.323Z"
   },
   {
    "duration": 11,
    "start_time": "2024-06-08T12:52:56.206Z"
   },
   {
    "duration": 12,
    "start_time": "2024-06-08T12:55:00.786Z"
   },
   {
    "duration": 13,
    "start_time": "2024-06-08T12:55:14.856Z"
   },
   {
    "duration": 23,
    "start_time": "2024-06-08T12:55:25.254Z"
   },
   {
    "duration": 8,
    "start_time": "2024-06-08T12:55:48.071Z"
   },
   {
    "duration": 7,
    "start_time": "2024-06-08T13:48:33.888Z"
   },
   {
    "duration": 6,
    "start_time": "2024-06-08T13:49:23.386Z"
   },
   {
    "duration": 6,
    "start_time": "2024-06-08T13:50:20.634Z"
   },
   {
    "duration": 11,
    "start_time": "2024-06-08T13:50:47.914Z"
   },
   {
    "duration": 6,
    "start_time": "2024-06-08T13:51:32.431Z"
   },
   {
    "duration": 15,
    "start_time": "2024-06-08T13:51:35.424Z"
   },
   {
    "duration": 4156,
    "start_time": "2024-06-08T13:56:23.418Z"
   },
   {
    "duration": 1666,
    "start_time": "2024-06-08T13:56:27.578Z"
   },
   {
    "duration": 12,
    "start_time": "2024-06-08T13:56:29.247Z"
   },
   {
    "duration": 6,
    "start_time": "2024-06-08T13:56:29.263Z"
   },
   {
    "duration": 20,
    "start_time": "2024-06-08T13:56:29.272Z"
   },
   {
    "duration": 15,
    "start_time": "2024-06-08T13:56:29.324Z"
   },
   {
    "duration": 5,
    "start_time": "2024-06-08T13:56:29.343Z"
   },
   {
    "duration": 6,
    "start_time": "2024-06-08T13:56:29.351Z"
   },
   {
    "duration": 69,
    "start_time": "2024-06-08T13:56:29.360Z"
   },
   {
    "duration": 9,
    "start_time": "2024-06-08T13:56:29.436Z"
   },
   {
    "duration": 5176,
    "start_time": "2024-06-08T13:56:29.448Z"
   },
   {
    "duration": 466,
    "start_time": "2024-06-08T13:56:34.627Z"
   },
   {
    "duration": 5,
    "start_time": "2024-06-08T13:56:35.096Z"
   },
   {
    "duration": 7,
    "start_time": "2024-06-08T13:56:35.122Z"
   },
   {
    "duration": 16,
    "start_time": "2024-06-08T13:56:35.133Z"
   },
   {
    "duration": 16,
    "start_time": "2024-06-08T13:56:35.151Z"
   },
   {
    "duration": 62,
    "start_time": "2024-06-08T13:56:35.169Z"
   },
   {
    "duration": 9,
    "start_time": "2024-06-08T13:56:35.235Z"
   },
   {
    "duration": 42,
    "start_time": "2024-06-08T13:56:35.247Z"
   },
   {
    "duration": 10,
    "start_time": "2024-06-08T13:56:35.322Z"
   },
   {
    "duration": 574,
    "start_time": "2024-06-08T13:56:35.337Z"
   },
   {
    "duration": 30,
    "start_time": "2024-06-08T13:56:35.914Z"
   },
   {
    "duration": 8,
    "start_time": "2024-06-08T13:56:35.947Z"
   },
   {
    "duration": 77,
    "start_time": "2024-06-08T13:56:35.958Z"
   },
   {
    "duration": 13,
    "start_time": "2024-06-08T13:56:36.038Z"
   },
   {
    "duration": 11,
    "start_time": "2024-06-08T13:56:36.055Z"
   },
   {
    "duration": 10,
    "start_time": "2024-06-08T13:56:36.070Z"
   },
   {
    "duration": 6,
    "start_time": "2024-06-08T13:56:36.123Z"
   },
   {
    "duration": 8,
    "start_time": "2024-06-08T13:56:36.133Z"
   },
   {
    "duration": 8,
    "start_time": "2024-06-08T13:56:36.144Z"
   },
   {
    "duration": 4,
    "start_time": "2024-06-08T13:56:36.155Z"
   },
   {
    "duration": 77,
    "start_time": "2024-06-08T13:56:36.163Z"
   },
   {
    "duration": 11,
    "start_time": "2024-06-08T13:56:36.244Z"
   },
   {
    "duration": 611,
    "start_time": "2024-06-08T13:56:36.257Z"
   },
   {
    "duration": 16,
    "start_time": "2024-06-08T13:56:36.871Z"
   },
   {
    "duration": 349,
    "start_time": "2024-06-08T13:56:36.890Z"
   },
   {
    "duration": 7,
    "start_time": "2024-06-08T13:56:37.242Z"
   },
   {
    "duration": 6,
    "start_time": "2024-06-08T13:56:37.252Z"
   },
   {
    "duration": 14,
    "start_time": "2024-06-08T13:56:37.261Z"
   },
   {
    "duration": 12,
    "start_time": "2024-06-08T13:56:37.323Z"
   },
   {
    "duration": 6,
    "start_time": "2024-06-08T13:56:37.339Z"
   },
   {
    "duration": 3,
    "start_time": "2024-06-08T13:56:37.424Z"
   },
   {
    "duration": 8,
    "start_time": "2024-06-08T13:56:37.430Z"
   },
   {
    "duration": 81,
    "start_time": "2024-06-08T13:56:37.441Z"
   },
   {
    "duration": 28,
    "start_time": "2024-06-08T13:56:37.525Z"
   },
   {
    "duration": 75,
    "start_time": "2024-06-08T13:56:37.560Z"
   },
   {
    "duration": 87,
    "start_time": "2024-06-08T13:56:37.638Z"
   },
   {
    "duration": 14,
    "start_time": "2024-06-08T13:56:37.729Z"
   },
   {
    "duration": 16,
    "start_time": "2024-06-08T13:56:37.746Z"
   },
   {
    "duration": 59,
    "start_time": "2024-06-08T13:56:37.765Z"
   },
   {
    "duration": 14,
    "start_time": "2024-06-08T13:56:37.827Z"
   },
   {
    "duration": 7,
    "start_time": "2024-06-08T13:56:37.844Z"
   },
   {
    "duration": 8,
    "start_time": "2024-06-08T13:56:37.854Z"
   },
   {
    "duration": 64,
    "start_time": "2024-06-08T13:56:37.865Z"
   },
   {
    "duration": 11,
    "start_time": "2024-06-08T13:56:37.933Z"
   },
   {
    "duration": 87,
    "start_time": "2024-06-08T13:56:37.948Z"
   },
   {
    "duration": 11,
    "start_time": "2024-06-08T13:56:38.039Z"
   },
   {
    "duration": 82,
    "start_time": "2024-06-08T13:56:38.053Z"
   },
   {
    "duration": 4542,
    "start_time": "2024-06-08T14:53:38.424Z"
   },
   {
    "duration": 1703,
    "start_time": "2024-06-08T14:53:42.970Z"
   },
   {
    "duration": 16,
    "start_time": "2024-06-08T14:53:44.676Z"
   },
   {
    "duration": 5,
    "start_time": "2024-06-08T14:53:44.697Z"
   },
   {
    "duration": 38,
    "start_time": "2024-06-08T14:53:44.705Z"
   },
   {
    "duration": 20,
    "start_time": "2024-06-08T14:53:44.747Z"
   },
   {
    "duration": 6,
    "start_time": "2024-06-08T14:53:44.770Z"
   },
   {
    "duration": 45,
    "start_time": "2024-06-08T14:53:44.779Z"
   },
   {
    "duration": 40,
    "start_time": "2024-06-08T14:53:44.828Z"
   },
   {
    "duration": 10,
    "start_time": "2024-06-08T14:53:44.875Z"
   },
   {
    "duration": 5812,
    "start_time": "2024-06-08T14:53:44.888Z"
   },
   {
    "duration": 535,
    "start_time": "2024-06-08T14:53:50.704Z"
   },
   {
    "duration": 5,
    "start_time": "2024-06-08T14:53:51.243Z"
   },
   {
    "duration": 8,
    "start_time": "2024-06-08T14:53:51.251Z"
   },
   {
    "duration": 17,
    "start_time": "2024-06-08T14:53:51.264Z"
   },
   {
    "duration": 54,
    "start_time": "2024-06-08T14:53:51.285Z"
   },
   {
    "duration": 33,
    "start_time": "2024-06-08T14:53:51.342Z"
   },
   {
    "duration": 9,
    "start_time": "2024-06-08T14:53:51.379Z"
   },
   {
    "duration": 50,
    "start_time": "2024-06-08T14:53:51.424Z"
   },
   {
    "duration": 19,
    "start_time": "2024-06-08T14:53:51.478Z"
   },
   {
    "duration": 584,
    "start_time": "2024-06-08T14:53:51.522Z"
   },
   {
    "duration": 39,
    "start_time": "2024-06-08T14:53:52.112Z"
   },
   {
    "duration": 11,
    "start_time": "2024-06-08T14:53:52.155Z"
   },
   {
    "duration": 73,
    "start_time": "2024-06-08T14:53:52.170Z"
   },
   {
    "duration": 8,
    "start_time": "2024-06-08T14:53:52.247Z"
   },
   {
    "duration": 14,
    "start_time": "2024-06-08T14:53:52.257Z"
   },
   {
    "duration": 48,
    "start_time": "2024-06-08T14:53:52.275Z"
   },
   {
    "duration": 7,
    "start_time": "2024-06-08T14:53:52.334Z"
   },
   {
    "duration": 10,
    "start_time": "2024-06-08T14:53:52.345Z"
   },
   {
    "duration": 6,
    "start_time": "2024-06-08T14:53:52.358Z"
   },
   {
    "duration": 6,
    "start_time": "2024-06-08T14:53:52.368Z"
   },
   {
    "duration": 84,
    "start_time": "2024-06-08T14:53:52.378Z"
   },
   {
    "duration": 15,
    "start_time": "2024-06-08T14:53:52.466Z"
   },
   {
    "duration": 542,
    "start_time": "2024-06-08T14:53:52.484Z"
   },
   {
    "duration": 18,
    "start_time": "2024-06-08T14:53:53.032Z"
   },
   {
    "duration": 361,
    "start_time": "2024-06-08T14:53:53.054Z"
   },
   {
    "duration": 14,
    "start_time": "2024-06-08T14:53:53.424Z"
   },
   {
    "duration": 7,
    "start_time": "2024-06-08T14:53:53.441Z"
   },
   {
    "duration": 21,
    "start_time": "2024-06-08T14:53:53.453Z"
   },
   {
    "duration": 16,
    "start_time": "2024-06-08T14:53:53.524Z"
   },
   {
    "duration": 6,
    "start_time": "2024-06-08T14:53:53.544Z"
   },
   {
    "duration": 4,
    "start_time": "2024-06-08T14:53:53.622Z"
   },
   {
    "duration": 13,
    "start_time": "2024-06-08T14:53:53.631Z"
   },
   {
    "duration": 80,
    "start_time": "2024-06-08T14:53:53.649Z"
   },
   {
    "duration": 22,
    "start_time": "2024-06-08T14:53:53.734Z"
   },
   {
    "duration": 17,
    "start_time": "2024-06-08T14:53:53.824Z"
   },
   {
    "duration": 81,
    "start_time": "2024-06-08T14:53:53.845Z"
   },
   {
    "duration": 14,
    "start_time": "2024-06-08T14:53:53.930Z"
   },
   {
    "duration": 19,
    "start_time": "2024-06-08T14:53:53.949Z"
   },
   {
    "duration": 53,
    "start_time": "2024-06-08T14:53:53.974Z"
   },
   {
    "duration": 21,
    "start_time": "2024-06-08T14:53:54.030Z"
   },
   {
    "duration": 9,
    "start_time": "2024-06-08T14:53:54.055Z"
   },
   {
    "duration": 54,
    "start_time": "2024-06-08T14:53:54.068Z"
   },
   {
    "duration": 20,
    "start_time": "2024-06-08T14:53:54.130Z"
   },
   {
    "duration": 9,
    "start_time": "2024-06-08T14:53:54.154Z"
   },
   {
    "duration": 22,
    "start_time": "2024-06-08T14:53:54.225Z"
   },
   {
    "duration": 77,
    "start_time": "2024-06-08T14:53:54.251Z"
   },
   {
    "duration": 16,
    "start_time": "2024-06-08T14:53:54.332Z"
   }
  ],
  "kernelspec": {
   "display_name": "Python 3 (ipykernel)",
   "language": "python",
   "name": "python3"
  },
  "language_info": {
   "codemirror_mode": {
    "name": "ipython",
    "version": 3
   },
   "file_extension": ".py",
   "mimetype": "text/x-python",
   "name": "python",
   "nbconvert_exporter": "python",
   "pygments_lexer": "ipython3",
   "version": "3.9.19"
  },
  "toc": {
   "base_numbering": 1,
   "nav_menu": {},
   "number_sections": true,
   "sideBar": true,
   "skip_h1_title": true,
   "title_cell": "Table of Contents",
   "title_sidebar": "Contents",
   "toc_cell": false,
   "toc_position": {},
   "toc_section_display": true,
   "toc_window_display": false
  }
 },
 "nbformat": 4,
 "nbformat_minor": 4
}
