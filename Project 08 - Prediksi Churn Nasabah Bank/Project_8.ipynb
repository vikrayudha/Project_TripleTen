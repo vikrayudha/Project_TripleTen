{
 "cells": [
  {
   "cell_type": "markdown",
   "metadata": {},
   "source": [
    "# Prediksi Churn Nasabah Bank Beta Menggunakan Machine Learning"
   ]
  },
  {
   "cell_type": "markdown",
   "metadata": {},
   "source": [
    "## Konten<a id='back'></a>\n",
    "\n",
    "* [Pendahuluan](#intro)\n",
    "* [Tahap 1. Inisialisasi data](#inisial)\n",
    "* [Tahap 2. Mempersiapkan data data](#prepare)\n",
    "* [Tahap 3. Persiapan model machine learning](#machineprep)\n",
    "* [Tahap 4. Kualitas model](#quality)\n",
    "* [Tahap 5. Pengujian terakhir](#finale)\n",
    "* [Kesimpulan Umum](#conclusion)\n",
    "    * [Temuan](#end)\n",
    "    * [Rekomendasi](#recom)"
   ]
  },
  {
   "cell_type": "markdown",
   "metadata": {},
   "source": [
    "## Pendahuluan<a id='intro'></a>"
   ]
  },
  {
   "cell_type": "markdown",
   "metadata": {},
   "source": [
    "Nasabah Bank Beta pergi meninggalkan perusahaan: sedikit demi sedikit, jumlah mereka berkurang setiap bulannya. Para pegawai bank menyadari bahwa akan lebih menghemat biaya jika perusahaan fokus untuk mempertahankan nasabah lama mereka yang setia daripada menarik nasabah baru.\n",
    "\n",
    "Pada kasus ini, tugas kita adalah untuk memprediksi apakah seorang nasabah akan segera meninggalkan bank atau tidak. Kamu memiliki data terkait perilaku para klien di masa lalu dan riwayat pemutusan kontrak mereka dengan bank.\n",
    "\n",
    "Buat sebuah model dengan skor F1 semaksimal mungkin. Untuk bisa dinyatakan lulus dari peninjauan, kamu memerlukan skor F1 minimal `0,59` untuk test dataset.\n",
    "\n",
    "Setelah itu, kamu akan membuat perubahan yang diperlukan pada pekerjaanmu dan mengirimkannya kembali untuk tinjauan kedua.\n",
    "\n",
    "Selain itu, ukur metrik `AUC-ROC` dan bandingkan metrik tersebut dengan skor F1.\n",
    "\n",
    "Instruksi proyek\n",
    "1. Unduh dan siapkan datanya. \n",
    "2. Periksa keseimbangan setiap kelas (class balance).  \n",
    "3. Tingkatkan kualitas model. Pastikan bahwa kamu menggunakan setidaknya dua pendekatan untuk memperbaiki ketidakseimbangan kelas (imbalance class).\n",
    "4. Gunakan training dan validation set untuk menemukan model terbaik serta kumpulan parameter terbaik. Jelaskan temuanmu secara singkat. \n",
    "5. Gunakan training set untuk memilih parameter terbaik. Tingkatkan kualitas model dengan memperhatikan ketidakseimbangan kelas (imbalance class) Latih beberapa model yang berbeda dan temukan yang terbaik.\n",
    "6. Jalankan pengujian terakhir.\n",
    "\n",
    "Deskripsi data\n",
    "Data yang kamu butuhkan bisa ditemukan di file `/datasets/Churn.csv`.\n",
    "\n",
    "Fitur-fitur\n",
    "1. `RowNumber` — indeks string data\n",
    "2. `CustomerId` — ID pelanggan\n",
    "3. `Surname` — nama belakang\n",
    "4. `CreditScore` — skor kredit\n",
    "5. `Geography` — negara domisili\n",
    "6. `Gender` — gender\n",
    "7. `Age` — umur\n",
    "8. `Tenure` — jangka waktu jatuh tempo untuk deposito tetap nasabah (tahun)\n",
    "9. `Balance` — saldo rekening\n",
    "10. `NumOfProducts` — jumlah produk bank yang digunakan oleh nasabah\n",
    "11. `HasCrCard` — apakah nasabah memiliki kartu kredit (1 - jika ya; 0 - jika tidak)\n",
    "12. `IsActiveMember` — tingkat keaktifan nasabah (1 - jika ya; 0 - jika tidak)\n",
    "13. `EstimatedSalary` — estimasi gaji\n",
    "\n",
    "Target\n",
    "* `Exited` — apakah nasabah telah berhenti (1 - jika ya; 0 - jika tidak)"
   ]
  },
  {
   "cell_type": "markdown",
   "metadata": {},
   "source": [
    "## Inisialisasi Data<a id='inisial'></a>"
   ]
  },
  {
   "cell_type": "code",
   "execution_count": 77,
   "metadata": {},
   "outputs": [],
   "source": [
    "import pandas as pd\n",
    "import numpy as np\n",
    "import seaborn as sns\n",
    "import matplotlib.pyplot as plt\n",
    "from joblib import dump, load\n",
    "from sklearn.model_selection import train_test_split, GridSearchCV\n",
    "from sklearn.preprocessing import StandardScaler, OrdinalEncoder\n",
    "from sklearn.tree import DecisionTreeClassifier\n",
    "from sklearn.linear_model import LinearRegression, LogisticRegression\n",
    "from sklearn.ensemble import RandomForestClassifier, RandomForestRegressor\n",
    "from sklearn.metrics import (accuracy_score, mean_squared_error, confusion_matrix, \n",
    "                             precision_score, recall_score, f1_score, \n",
    "                             classification_report, roc_curve, roc_auc_score, \n",
    "                             r2_score, mean_absolute_error, precision_recall_curve)\n",
    "from sklearn.utils import resample, shuffle\n",
    "\n",
    "# set tema seaborn\n",
    "sns.set_theme(palette='bright')\n"
   ]
  },
  {
   "cell_type": "markdown",
   "metadata": {},
   "source": [
    "## Mempersiapkan Data<a id='prepare'></a>"
   ]
  },
  {
   "cell_type": "code",
   "execution_count": 78,
   "metadata": {},
   "outputs": [
    {
     "data": {
      "text/html": [
       "<div>\n",
       "<style scoped>\n",
       "    .dataframe tbody tr th:only-of-type {\n",
       "        vertical-align: middle;\n",
       "    }\n",
       "\n",
       "    .dataframe tbody tr th {\n",
       "        vertical-align: top;\n",
       "    }\n",
       "\n",
       "    .dataframe thead th {\n",
       "        text-align: right;\n",
       "    }\n",
       "</style>\n",
       "<table border=\"1\" class=\"dataframe\">\n",
       "  <thead>\n",
       "    <tr style=\"text-align: right;\">\n",
       "      <th></th>\n",
       "      <th>RowNumber</th>\n",
       "      <th>CustomerId</th>\n",
       "      <th>Surname</th>\n",
       "      <th>CreditScore</th>\n",
       "      <th>Geography</th>\n",
       "      <th>Gender</th>\n",
       "      <th>Age</th>\n",
       "      <th>Tenure</th>\n",
       "      <th>Balance</th>\n",
       "      <th>NumOfProducts</th>\n",
       "      <th>HasCrCard</th>\n",
       "      <th>IsActiveMember</th>\n",
       "      <th>EstimatedSalary</th>\n",
       "      <th>Exited</th>\n",
       "    </tr>\n",
       "  </thead>\n",
       "  <tbody>\n",
       "    <tr>\n",
       "      <th>0</th>\n",
       "      <td>1</td>\n",
       "      <td>15634602</td>\n",
       "      <td>Hargrave</td>\n",
       "      <td>619</td>\n",
       "      <td>France</td>\n",
       "      <td>Female</td>\n",
       "      <td>42</td>\n",
       "      <td>2.0</td>\n",
       "      <td>0.00</td>\n",
       "      <td>1</td>\n",
       "      <td>1</td>\n",
       "      <td>1</td>\n",
       "      <td>101348.88</td>\n",
       "      <td>1</td>\n",
       "    </tr>\n",
       "    <tr>\n",
       "      <th>1</th>\n",
       "      <td>2</td>\n",
       "      <td>15647311</td>\n",
       "      <td>Hill</td>\n",
       "      <td>608</td>\n",
       "      <td>Spain</td>\n",
       "      <td>Female</td>\n",
       "      <td>41</td>\n",
       "      <td>1.0</td>\n",
       "      <td>83807.86</td>\n",
       "      <td>1</td>\n",
       "      <td>0</td>\n",
       "      <td>1</td>\n",
       "      <td>112542.58</td>\n",
       "      <td>0</td>\n",
       "    </tr>\n",
       "    <tr>\n",
       "      <th>2</th>\n",
       "      <td>3</td>\n",
       "      <td>15619304</td>\n",
       "      <td>Onio</td>\n",
       "      <td>502</td>\n",
       "      <td>France</td>\n",
       "      <td>Female</td>\n",
       "      <td>42</td>\n",
       "      <td>8.0</td>\n",
       "      <td>159660.80</td>\n",
       "      <td>3</td>\n",
       "      <td>1</td>\n",
       "      <td>0</td>\n",
       "      <td>113931.57</td>\n",
       "      <td>1</td>\n",
       "    </tr>\n",
       "    <tr>\n",
       "      <th>3</th>\n",
       "      <td>4</td>\n",
       "      <td>15701354</td>\n",
       "      <td>Boni</td>\n",
       "      <td>699</td>\n",
       "      <td>France</td>\n",
       "      <td>Female</td>\n",
       "      <td>39</td>\n",
       "      <td>1.0</td>\n",
       "      <td>0.00</td>\n",
       "      <td>2</td>\n",
       "      <td>0</td>\n",
       "      <td>0</td>\n",
       "      <td>93826.63</td>\n",
       "      <td>0</td>\n",
       "    </tr>\n",
       "    <tr>\n",
       "      <th>4</th>\n",
       "      <td>5</td>\n",
       "      <td>15737888</td>\n",
       "      <td>Mitchell</td>\n",
       "      <td>850</td>\n",
       "      <td>Spain</td>\n",
       "      <td>Female</td>\n",
       "      <td>43</td>\n",
       "      <td>2.0</td>\n",
       "      <td>125510.82</td>\n",
       "      <td>1</td>\n",
       "      <td>1</td>\n",
       "      <td>1</td>\n",
       "      <td>79084.10</td>\n",
       "      <td>0</td>\n",
       "    </tr>\n",
       "    <tr>\n",
       "      <th>5</th>\n",
       "      <td>6</td>\n",
       "      <td>15574012</td>\n",
       "      <td>Chu</td>\n",
       "      <td>645</td>\n",
       "      <td>Spain</td>\n",
       "      <td>Male</td>\n",
       "      <td>44</td>\n",
       "      <td>8.0</td>\n",
       "      <td>113755.78</td>\n",
       "      <td>2</td>\n",
       "      <td>1</td>\n",
       "      <td>0</td>\n",
       "      <td>149756.71</td>\n",
       "      <td>1</td>\n",
       "    </tr>\n",
       "    <tr>\n",
       "      <th>6</th>\n",
       "      <td>7</td>\n",
       "      <td>15592531</td>\n",
       "      <td>Bartlett</td>\n",
       "      <td>822</td>\n",
       "      <td>France</td>\n",
       "      <td>Male</td>\n",
       "      <td>50</td>\n",
       "      <td>7.0</td>\n",
       "      <td>0.00</td>\n",
       "      <td>2</td>\n",
       "      <td>1</td>\n",
       "      <td>1</td>\n",
       "      <td>10062.80</td>\n",
       "      <td>0</td>\n",
       "    </tr>\n",
       "    <tr>\n",
       "      <th>7</th>\n",
       "      <td>8</td>\n",
       "      <td>15656148</td>\n",
       "      <td>Obinna</td>\n",
       "      <td>376</td>\n",
       "      <td>Germany</td>\n",
       "      <td>Female</td>\n",
       "      <td>29</td>\n",
       "      <td>4.0</td>\n",
       "      <td>115046.74</td>\n",
       "      <td>4</td>\n",
       "      <td>1</td>\n",
       "      <td>0</td>\n",
       "      <td>119346.88</td>\n",
       "      <td>1</td>\n",
       "    </tr>\n",
       "    <tr>\n",
       "      <th>8</th>\n",
       "      <td>9</td>\n",
       "      <td>15792365</td>\n",
       "      <td>He</td>\n",
       "      <td>501</td>\n",
       "      <td>France</td>\n",
       "      <td>Male</td>\n",
       "      <td>44</td>\n",
       "      <td>4.0</td>\n",
       "      <td>142051.07</td>\n",
       "      <td>2</td>\n",
       "      <td>0</td>\n",
       "      <td>1</td>\n",
       "      <td>74940.50</td>\n",
       "      <td>0</td>\n",
       "    </tr>\n",
       "    <tr>\n",
       "      <th>9</th>\n",
       "      <td>10</td>\n",
       "      <td>15592389</td>\n",
       "      <td>H?</td>\n",
       "      <td>684</td>\n",
       "      <td>France</td>\n",
       "      <td>Male</td>\n",
       "      <td>27</td>\n",
       "      <td>2.0</td>\n",
       "      <td>134603.88</td>\n",
       "      <td>1</td>\n",
       "      <td>1</td>\n",
       "      <td>1</td>\n",
       "      <td>71725.73</td>\n",
       "      <td>0</td>\n",
       "    </tr>\n",
       "  </tbody>\n",
       "</table>\n",
       "</div>"
      ],
      "text/plain": [
       "   RowNumber  CustomerId   Surname  CreditScore Geography  Gender  Age  \\\n",
       "0          1    15634602  Hargrave          619    France  Female   42   \n",
       "1          2    15647311      Hill          608     Spain  Female   41   \n",
       "2          3    15619304      Onio          502    France  Female   42   \n",
       "3          4    15701354      Boni          699    France  Female   39   \n",
       "4          5    15737888  Mitchell          850     Spain  Female   43   \n",
       "5          6    15574012       Chu          645     Spain    Male   44   \n",
       "6          7    15592531  Bartlett          822    France    Male   50   \n",
       "7          8    15656148    Obinna          376   Germany  Female   29   \n",
       "8          9    15792365        He          501    France    Male   44   \n",
       "9         10    15592389        H?          684    France    Male   27   \n",
       "\n",
       "   Tenure    Balance  NumOfProducts  HasCrCard  IsActiveMember  \\\n",
       "0     2.0       0.00              1          1               1   \n",
       "1     1.0   83807.86              1          0               1   \n",
       "2     8.0  159660.80              3          1               0   \n",
       "3     1.0       0.00              2          0               0   \n",
       "4     2.0  125510.82              1          1               1   \n",
       "5     8.0  113755.78              2          1               0   \n",
       "6     7.0       0.00              2          1               1   \n",
       "7     4.0  115046.74              4          1               0   \n",
       "8     4.0  142051.07              2          0               1   \n",
       "9     2.0  134603.88              1          1               1   \n",
       "\n",
       "   EstimatedSalary  Exited  \n",
       "0        101348.88       1  \n",
       "1        112542.58       0  \n",
       "2        113931.57       1  \n",
       "3         93826.63       0  \n",
       "4         79084.10       0  \n",
       "5        149756.71       1  \n",
       "6         10062.80       0  \n",
       "7        119346.88       1  \n",
       "8         74940.50       0  \n",
       "9         71725.73       0  "
      ]
     },
     "execution_count": 78,
     "metadata": {},
     "output_type": "execute_result"
    }
   ],
   "source": [
    "# Mengunduh dan memeriksa data\n",
    "beta = pd.read_csv('/datasets/Churn.csv')\n",
    "beta.head(10)"
   ]
  },
  {
   "cell_type": "code",
   "execution_count": 79,
   "metadata": {},
   "outputs": [
    {
     "name": "stdout",
     "output_type": "stream",
     "text": [
      "<class 'pandas.core.frame.DataFrame'>\n",
      "RangeIndex: 10000 entries, 0 to 9999\n",
      "Data columns (total 14 columns):\n",
      " #   Column           Non-Null Count  Dtype  \n",
      "---  ------           --------------  -----  \n",
      " 0   RowNumber        10000 non-null  int64  \n",
      " 1   CustomerId       10000 non-null  int64  \n",
      " 2   Surname          10000 non-null  object \n",
      " 3   CreditScore      10000 non-null  int64  \n",
      " 4   Geography        10000 non-null  object \n",
      " 5   Gender           10000 non-null  object \n",
      " 6   Age              10000 non-null  int64  \n",
      " 7   Tenure           9091 non-null   float64\n",
      " 8   Balance          10000 non-null  float64\n",
      " 9   NumOfProducts    10000 non-null  int64  \n",
      " 10  HasCrCard        10000 non-null  int64  \n",
      " 11  IsActiveMember   10000 non-null  int64  \n",
      " 12  EstimatedSalary  10000 non-null  float64\n",
      " 13  Exited           10000 non-null  int64  \n",
      "dtypes: float64(3), int64(8), object(3)\n",
      "memory usage: 1.1+ MB\n"
     ]
    }
   ],
   "source": [
    "#informasi umum\n",
    "beta.info()"
   ]
  },
  {
   "cell_type": "code",
   "execution_count": 80,
   "metadata": {},
   "outputs": [
    {
     "data": {
      "text/plain": [
       "RowNumber            0\n",
       "CustomerId           0\n",
       "Surname              0\n",
       "CreditScore          0\n",
       "Geography            0\n",
       "Gender               0\n",
       "Age                  0\n",
       "Tenure             909\n",
       "Balance              0\n",
       "NumOfProducts        0\n",
       "HasCrCard            0\n",
       "IsActiveMember       0\n",
       "EstimatedSalary      0\n",
       "Exited               0\n",
       "dtype: int64"
      ]
     },
     "execution_count": 80,
     "metadata": {},
     "output_type": "execute_result"
    }
   ],
   "source": [
    "# mengecek nilai yang hilang pada dataset\n",
    "beta.isna().sum()"
   ]
  },
  {
   "cell_type": "code",
   "execution_count": 81,
   "metadata": {},
   "outputs": [
    {
     "data": {
      "text/plain": [
       "0"
      ]
     },
     "execution_count": 81,
     "metadata": {},
     "output_type": "execute_result"
    }
   ],
   "source": [
    "# mengecek duplikasi pada dataset\n",
    "beta.duplicated().sum()"
   ]
  },
  {
   "cell_type": "markdown",
   "metadata": {},
   "source": [
    "**Kesimpulan Sementara:**\n",
    "1. terlihat bahwa data berisi 14 kolom, dengan jumlah data 10000\n",
    "2. kolom memiliki judul yang besar kecil sehingga harus diperbaiki\n",
    "3. terlihat bahwa ada nilai hilang pada kolom `Tenure`\n",
    "4. kolom `Tenure` memiliki tipe data yang salah\n",
    "5. tidak ada data yang terduplikasi"
   ]
  },
  {
   "cell_type": "code",
   "execution_count": 82,
   "metadata": {},
   "outputs": [
    {
     "data": {
      "text/html": [
       "<div>\n",
       "<style scoped>\n",
       "    .dataframe tbody tr th:only-of-type {\n",
       "        vertical-align: middle;\n",
       "    }\n",
       "\n",
       "    .dataframe tbody tr th {\n",
       "        vertical-align: top;\n",
       "    }\n",
       "\n",
       "    .dataframe thead th {\n",
       "        text-align: right;\n",
       "    }\n",
       "</style>\n",
       "<table border=\"1\" class=\"dataframe\">\n",
       "  <thead>\n",
       "    <tr style=\"text-align: right;\">\n",
       "      <th></th>\n",
       "      <th>rownumber</th>\n",
       "      <th>customerid</th>\n",
       "      <th>surname</th>\n",
       "      <th>creditscore</th>\n",
       "      <th>geography</th>\n",
       "      <th>gender</th>\n",
       "      <th>age</th>\n",
       "      <th>tenure</th>\n",
       "      <th>balance</th>\n",
       "      <th>numofproducts</th>\n",
       "      <th>hascrcard</th>\n",
       "      <th>isactivemember</th>\n",
       "      <th>estimatedsalary</th>\n",
       "      <th>exited</th>\n",
       "    </tr>\n",
       "  </thead>\n",
       "  <tbody>\n",
       "    <tr>\n",
       "      <th>0</th>\n",
       "      <td>1</td>\n",
       "      <td>15634602</td>\n",
       "      <td>Hargrave</td>\n",
       "      <td>619</td>\n",
       "      <td>France</td>\n",
       "      <td>Female</td>\n",
       "      <td>42</td>\n",
       "      <td>2.0</td>\n",
       "      <td>0.00</td>\n",
       "      <td>1</td>\n",
       "      <td>1</td>\n",
       "      <td>1</td>\n",
       "      <td>101348.88</td>\n",
       "      <td>1</td>\n",
       "    </tr>\n",
       "    <tr>\n",
       "      <th>1</th>\n",
       "      <td>2</td>\n",
       "      <td>15647311</td>\n",
       "      <td>Hill</td>\n",
       "      <td>608</td>\n",
       "      <td>Spain</td>\n",
       "      <td>Female</td>\n",
       "      <td>41</td>\n",
       "      <td>1.0</td>\n",
       "      <td>83807.86</td>\n",
       "      <td>1</td>\n",
       "      <td>0</td>\n",
       "      <td>1</td>\n",
       "      <td>112542.58</td>\n",
       "      <td>0</td>\n",
       "    </tr>\n",
       "    <tr>\n",
       "      <th>2</th>\n",
       "      <td>3</td>\n",
       "      <td>15619304</td>\n",
       "      <td>Onio</td>\n",
       "      <td>502</td>\n",
       "      <td>France</td>\n",
       "      <td>Female</td>\n",
       "      <td>42</td>\n",
       "      <td>8.0</td>\n",
       "      <td>159660.80</td>\n",
       "      <td>3</td>\n",
       "      <td>1</td>\n",
       "      <td>0</td>\n",
       "      <td>113931.57</td>\n",
       "      <td>1</td>\n",
       "    </tr>\n",
       "    <tr>\n",
       "      <th>3</th>\n",
       "      <td>4</td>\n",
       "      <td>15701354</td>\n",
       "      <td>Boni</td>\n",
       "      <td>699</td>\n",
       "      <td>France</td>\n",
       "      <td>Female</td>\n",
       "      <td>39</td>\n",
       "      <td>1.0</td>\n",
       "      <td>0.00</td>\n",
       "      <td>2</td>\n",
       "      <td>0</td>\n",
       "      <td>0</td>\n",
       "      <td>93826.63</td>\n",
       "      <td>0</td>\n",
       "    </tr>\n",
       "    <tr>\n",
       "      <th>4</th>\n",
       "      <td>5</td>\n",
       "      <td>15737888</td>\n",
       "      <td>Mitchell</td>\n",
       "      <td>850</td>\n",
       "      <td>Spain</td>\n",
       "      <td>Female</td>\n",
       "      <td>43</td>\n",
       "      <td>2.0</td>\n",
       "      <td>125510.82</td>\n",
       "      <td>1</td>\n",
       "      <td>1</td>\n",
       "      <td>1</td>\n",
       "      <td>79084.10</td>\n",
       "      <td>0</td>\n",
       "    </tr>\n",
       "    <tr>\n",
       "      <th>...</th>\n",
       "      <td>...</td>\n",
       "      <td>...</td>\n",
       "      <td>...</td>\n",
       "      <td>...</td>\n",
       "      <td>...</td>\n",
       "      <td>...</td>\n",
       "      <td>...</td>\n",
       "      <td>...</td>\n",
       "      <td>...</td>\n",
       "      <td>...</td>\n",
       "      <td>...</td>\n",
       "      <td>...</td>\n",
       "      <td>...</td>\n",
       "      <td>...</td>\n",
       "    </tr>\n",
       "    <tr>\n",
       "      <th>9995</th>\n",
       "      <td>9996</td>\n",
       "      <td>15606229</td>\n",
       "      <td>Obijiaku</td>\n",
       "      <td>771</td>\n",
       "      <td>France</td>\n",
       "      <td>Male</td>\n",
       "      <td>39</td>\n",
       "      <td>5.0</td>\n",
       "      <td>0.00</td>\n",
       "      <td>2</td>\n",
       "      <td>1</td>\n",
       "      <td>0</td>\n",
       "      <td>96270.64</td>\n",
       "      <td>0</td>\n",
       "    </tr>\n",
       "    <tr>\n",
       "      <th>9996</th>\n",
       "      <td>9997</td>\n",
       "      <td>15569892</td>\n",
       "      <td>Johnstone</td>\n",
       "      <td>516</td>\n",
       "      <td>France</td>\n",
       "      <td>Male</td>\n",
       "      <td>35</td>\n",
       "      <td>10.0</td>\n",
       "      <td>57369.61</td>\n",
       "      <td>1</td>\n",
       "      <td>1</td>\n",
       "      <td>1</td>\n",
       "      <td>101699.77</td>\n",
       "      <td>0</td>\n",
       "    </tr>\n",
       "    <tr>\n",
       "      <th>9997</th>\n",
       "      <td>9998</td>\n",
       "      <td>15584532</td>\n",
       "      <td>Liu</td>\n",
       "      <td>709</td>\n",
       "      <td>France</td>\n",
       "      <td>Female</td>\n",
       "      <td>36</td>\n",
       "      <td>7.0</td>\n",
       "      <td>0.00</td>\n",
       "      <td>1</td>\n",
       "      <td>0</td>\n",
       "      <td>1</td>\n",
       "      <td>42085.58</td>\n",
       "      <td>1</td>\n",
       "    </tr>\n",
       "    <tr>\n",
       "      <th>9998</th>\n",
       "      <td>9999</td>\n",
       "      <td>15682355</td>\n",
       "      <td>Sabbatini</td>\n",
       "      <td>772</td>\n",
       "      <td>Germany</td>\n",
       "      <td>Male</td>\n",
       "      <td>42</td>\n",
       "      <td>3.0</td>\n",
       "      <td>75075.31</td>\n",
       "      <td>2</td>\n",
       "      <td>1</td>\n",
       "      <td>0</td>\n",
       "      <td>92888.52</td>\n",
       "      <td>1</td>\n",
       "    </tr>\n",
       "    <tr>\n",
       "      <th>9999</th>\n",
       "      <td>10000</td>\n",
       "      <td>15628319</td>\n",
       "      <td>Walker</td>\n",
       "      <td>792</td>\n",
       "      <td>France</td>\n",
       "      <td>Female</td>\n",
       "      <td>28</td>\n",
       "      <td>NaN</td>\n",
       "      <td>130142.79</td>\n",
       "      <td>1</td>\n",
       "      <td>1</td>\n",
       "      <td>0</td>\n",
       "      <td>38190.78</td>\n",
       "      <td>0</td>\n",
       "    </tr>\n",
       "  </tbody>\n",
       "</table>\n",
       "<p>10000 rows × 14 columns</p>\n",
       "</div>"
      ],
      "text/plain": [
       "      rownumber  customerid    surname  creditscore geography  gender  age  \\\n",
       "0             1    15634602   Hargrave          619    France  Female   42   \n",
       "1             2    15647311       Hill          608     Spain  Female   41   \n",
       "2             3    15619304       Onio          502    France  Female   42   \n",
       "3             4    15701354       Boni          699    France  Female   39   \n",
       "4             5    15737888   Mitchell          850     Spain  Female   43   \n",
       "...         ...         ...        ...          ...       ...     ...  ...   \n",
       "9995       9996    15606229   Obijiaku          771    France    Male   39   \n",
       "9996       9997    15569892  Johnstone          516    France    Male   35   \n",
       "9997       9998    15584532        Liu          709    France  Female   36   \n",
       "9998       9999    15682355  Sabbatini          772   Germany    Male   42   \n",
       "9999      10000    15628319     Walker          792    France  Female   28   \n",
       "\n",
       "      tenure    balance  numofproducts  hascrcard  isactivemember  \\\n",
       "0        2.0       0.00              1          1               1   \n",
       "1        1.0   83807.86              1          0               1   \n",
       "2        8.0  159660.80              3          1               0   \n",
       "3        1.0       0.00              2          0               0   \n",
       "4        2.0  125510.82              1          1               1   \n",
       "...      ...        ...            ...        ...             ...   \n",
       "9995     5.0       0.00              2          1               0   \n",
       "9996    10.0   57369.61              1          1               1   \n",
       "9997     7.0       0.00              1          0               1   \n",
       "9998     3.0   75075.31              2          1               0   \n",
       "9999     NaN  130142.79              1          1               0   \n",
       "\n",
       "      estimatedsalary  exited  \n",
       "0           101348.88       1  \n",
       "1           112542.58       0  \n",
       "2           113931.57       1  \n",
       "3            93826.63       0  \n",
       "4            79084.10       0  \n",
       "...               ...     ...  \n",
       "9995         96270.64       0  \n",
       "9996        101699.77       0  \n",
       "9997         42085.58       1  \n",
       "9998         92888.52       1  \n",
       "9999         38190.78       0  \n",
       "\n",
       "[10000 rows x 14 columns]"
      ]
     },
     "execution_count": 82,
     "metadata": {},
     "output_type": "execute_result"
    }
   ],
   "source": [
    "#mengubah kolom menjadi kecil semua\n",
    "beta.columns = beta.columns.str.lower()\n",
    "\n",
    "#menampilkan data baru\n",
    "beta"
   ]
  },
  {
   "cell_type": "markdown",
   "metadata": {},
   "source": [
    "sekarang judul kolom sudah menjadi kecil semua"
   ]
  },
  {
   "cell_type": "code",
   "execution_count": 83,
   "metadata": {},
   "outputs": [
    {
     "data": {
      "image/png": "[encoded data removed]",
      "text/plain": [
       "<Figure size 500x600 with 1 Axes>"
      ]
     },
     "metadata": {},
     "output_type": "display_data"
    }
   ],
   "source": [
    "# mengecek distribusi kolom 'Tenure' dengan boxplot\n",
    "plt.figure(figsize=(5,6))\n",
    "sns.boxplot(data=beta, y='tenure', color='yellow')\n",
    "\n",
    "# menambahkan atribut pada grafik\n",
    "plt.title('Tenure Distribution Data')\n",
    "plt.ylabel('Year')\n",
    "plt.xlabel('Tenure')\n",
    "\n",
    "# menampilkan grafik\n",
    "plt.show()"
   ]
  },
  {
   "cell_type": "markdown",
   "metadata": {},
   "source": [
    "Bisa dilihiat bahwa data pada kolom ini tidak memilki outliers, sehingga bisa kita isi dengan menggunakan nilai `mean`."
   ]
  },
  {
   "cell_type": "code",
   "execution_count": 84,
   "metadata": {},
   "outputs": [
    {
     "data": {
      "text/plain": [
       "0"
      ]
     },
     "execution_count": 84,
     "metadata": {},
     "output_type": "execute_result"
    }
   ],
   "source": [
    "# rata-rata tenure\n",
    "mean_tenure = round(beta['tenure'].mean())\n",
    "\n",
    "# mengisi nilai yang hilang pada kolom 'Tenure'\n",
    "beta['tenure'].fillna(mean_tenure, inplace=True)\n",
    "\n",
    "# mengecek nilai yang hilang pada kolom 'Tenure'\n",
    "beta['tenure'].isna().sum()"
   ]
  },
  {
   "cell_type": "code",
   "execution_count": 85,
   "metadata": {},
   "outputs": [
    {
     "name": "stdout",
     "output_type": "stream",
     "text": [
      "<class 'pandas.core.frame.DataFrame'>\n",
      "RangeIndex: 10000 entries, 0 to 9999\n",
      "Data columns (total 14 columns):\n",
      " #   Column           Non-Null Count  Dtype  \n",
      "---  ------           --------------  -----  \n",
      " 0   rownumber        10000 non-null  int64  \n",
      " 1   customerid       10000 non-null  int64  \n",
      " 2   surname          10000 non-null  object \n",
      " 3   creditscore      10000 non-null  int64  \n",
      " 4   geography        10000 non-null  object \n",
      " 5   gender           10000 non-null  object \n",
      " 6   age              10000 non-null  int64  \n",
      " 7   tenure           10000 non-null  int64  \n",
      " 8   balance          10000 non-null  float64\n",
      " 9   numofproducts    10000 non-null  int64  \n",
      " 10  hascrcard        10000 non-null  int64  \n",
      " 11  isactivemember   10000 non-null  int64  \n",
      " 12  estimatedsalary  10000 non-null  float64\n",
      " 13  exited           10000 non-null  int64  \n",
      "dtypes: float64(2), int64(9), object(3)\n",
      "memory usage: 1.1+ MB\n"
     ]
    }
   ],
   "source": [
    "#Mengubah tipe data pada kolom tenure\n",
    "beta['tenure'] = beta['tenure'].astype('int64')\n",
    "\n",
    "#memeriksa informasi umum\n",
    "beta.info()"
   ]
  },
  {
   "cell_type": "code",
   "execution_count": 86,
   "metadata": {},
   "outputs": [
    {
     "data": {
      "text/html": [
       "<div>\n",
       "<style scoped>\n",
       "    .dataframe tbody tr th:only-of-type {\n",
       "        vertical-align: middle;\n",
       "    }\n",
       "\n",
       "    .dataframe tbody tr th {\n",
       "        vertical-align: top;\n",
       "    }\n",
       "\n",
       "    .dataframe thead th {\n",
       "        text-align: right;\n",
       "    }\n",
       "</style>\n",
       "<table border=\"1\" class=\"dataframe\">\n",
       "  <thead>\n",
       "    <tr style=\"text-align: right;\">\n",
       "      <th></th>\n",
       "      <th>rownumber</th>\n",
       "      <th>customerid</th>\n",
       "      <th>creditscore</th>\n",
       "      <th>age</th>\n",
       "      <th>tenure</th>\n",
       "      <th>balance</th>\n",
       "      <th>numofproducts</th>\n",
       "      <th>hascrcard</th>\n",
       "      <th>isactivemember</th>\n",
       "      <th>estimatedsalary</th>\n",
       "      <th>exited</th>\n",
       "    </tr>\n",
       "  </thead>\n",
       "  <tbody>\n",
       "    <tr>\n",
       "      <th>count</th>\n",
       "      <td>10000.00000</td>\n",
       "      <td>1.000000e+04</td>\n",
       "      <td>10000.000000</td>\n",
       "      <td>10000.000000</td>\n",
       "      <td>10000.00000</td>\n",
       "      <td>10000.000000</td>\n",
       "      <td>10000.000000</td>\n",
       "      <td>10000.00000</td>\n",
       "      <td>10000.000000</td>\n",
       "      <td>10000.000000</td>\n",
       "      <td>10000.000000</td>\n",
       "    </tr>\n",
       "    <tr>\n",
       "      <th>mean</th>\n",
       "      <td>5000.50000</td>\n",
       "      <td>1.569094e+07</td>\n",
       "      <td>650.528800</td>\n",
       "      <td>38.921800</td>\n",
       "      <td>4.99790</td>\n",
       "      <td>76485.889288</td>\n",
       "      <td>1.530200</td>\n",
       "      <td>0.70550</td>\n",
       "      <td>0.515100</td>\n",
       "      <td>100090.239881</td>\n",
       "      <td>0.203700</td>\n",
       "    </tr>\n",
       "    <tr>\n",
       "      <th>std</th>\n",
       "      <td>2886.89568</td>\n",
       "      <td>7.193619e+04</td>\n",
       "      <td>96.653299</td>\n",
       "      <td>10.487806</td>\n",
       "      <td>2.76001</td>\n",
       "      <td>62397.405202</td>\n",
       "      <td>0.581654</td>\n",
       "      <td>0.45584</td>\n",
       "      <td>0.499797</td>\n",
       "      <td>57510.492818</td>\n",
       "      <td>0.402769</td>\n",
       "    </tr>\n",
       "    <tr>\n",
       "      <th>min</th>\n",
       "      <td>1.00000</td>\n",
       "      <td>1.556570e+07</td>\n",
       "      <td>350.000000</td>\n",
       "      <td>18.000000</td>\n",
       "      <td>0.00000</td>\n",
       "      <td>0.000000</td>\n",
       "      <td>1.000000</td>\n",
       "      <td>0.00000</td>\n",
       "      <td>0.000000</td>\n",
       "      <td>11.580000</td>\n",
       "      <td>0.000000</td>\n",
       "    </tr>\n",
       "    <tr>\n",
       "      <th>25%</th>\n",
       "      <td>2500.75000</td>\n",
       "      <td>1.562853e+07</td>\n",
       "      <td>584.000000</td>\n",
       "      <td>32.000000</td>\n",
       "      <td>3.00000</td>\n",
       "      <td>0.000000</td>\n",
       "      <td>1.000000</td>\n",
       "      <td>0.00000</td>\n",
       "      <td>0.000000</td>\n",
       "      <td>51002.110000</td>\n",
       "      <td>0.000000</td>\n",
       "    </tr>\n",
       "    <tr>\n",
       "      <th>50%</th>\n",
       "      <td>5000.50000</td>\n",
       "      <td>1.569074e+07</td>\n",
       "      <td>652.000000</td>\n",
       "      <td>37.000000</td>\n",
       "      <td>5.00000</td>\n",
       "      <td>97198.540000</td>\n",
       "      <td>1.000000</td>\n",
       "      <td>1.00000</td>\n",
       "      <td>1.000000</td>\n",
       "      <td>100193.915000</td>\n",
       "      <td>0.000000</td>\n",
       "    </tr>\n",
       "    <tr>\n",
       "      <th>75%</th>\n",
       "      <td>7500.25000</td>\n",
       "      <td>1.575323e+07</td>\n",
       "      <td>718.000000</td>\n",
       "      <td>44.000000</td>\n",
       "      <td>7.00000</td>\n",
       "      <td>127644.240000</td>\n",
       "      <td>2.000000</td>\n",
       "      <td>1.00000</td>\n",
       "      <td>1.000000</td>\n",
       "      <td>149388.247500</td>\n",
       "      <td>0.000000</td>\n",
       "    </tr>\n",
       "    <tr>\n",
       "      <th>max</th>\n",
       "      <td>10000.00000</td>\n",
       "      <td>1.581569e+07</td>\n",
       "      <td>850.000000</td>\n",
       "      <td>92.000000</td>\n",
       "      <td>10.00000</td>\n",
       "      <td>250898.090000</td>\n",
       "      <td>4.000000</td>\n",
       "      <td>1.00000</td>\n",
       "      <td>1.000000</td>\n",
       "      <td>199992.480000</td>\n",
       "      <td>1.000000</td>\n",
       "    </tr>\n",
       "  </tbody>\n",
       "</table>\n",
       "</div>"
      ],
      "text/plain": [
       "         rownumber    customerid   creditscore           age       tenure  \\\n",
       "count  10000.00000  1.000000e+04  10000.000000  10000.000000  10000.00000   \n",
       "mean    5000.50000  1.569094e+07    650.528800     38.921800      4.99790   \n",
       "std     2886.89568  7.193619e+04     96.653299     10.487806      2.76001   \n",
       "min        1.00000  1.556570e+07    350.000000     18.000000      0.00000   \n",
       "25%     2500.75000  1.562853e+07    584.000000     32.000000      3.00000   \n",
       "50%     5000.50000  1.569074e+07    652.000000     37.000000      5.00000   \n",
       "75%     7500.25000  1.575323e+07    718.000000     44.000000      7.00000   \n",
       "max    10000.00000  1.581569e+07    850.000000     92.000000     10.00000   \n",
       "\n",
       "             balance  numofproducts    hascrcard  isactivemember  \\\n",
       "count   10000.000000   10000.000000  10000.00000    10000.000000   \n",
       "mean    76485.889288       1.530200      0.70550        0.515100   \n",
       "std     62397.405202       0.581654      0.45584        0.499797   \n",
       "min         0.000000       1.000000      0.00000        0.000000   \n",
       "25%         0.000000       1.000000      0.00000        0.000000   \n",
       "50%     97198.540000       1.000000      1.00000        1.000000   \n",
       "75%    127644.240000       2.000000      1.00000        1.000000   \n",
       "max    250898.090000       4.000000      1.00000        1.000000   \n",
       "\n",
       "       estimatedsalary        exited  \n",
       "count     10000.000000  10000.000000  \n",
       "mean     100090.239881      0.203700  \n",
       "std       57510.492818      0.402769  \n",
       "min          11.580000      0.000000  \n",
       "25%       51002.110000      0.000000  \n",
       "50%      100193.915000      0.000000  \n",
       "75%      149388.247500      0.000000  \n",
       "max      199992.480000      1.000000  "
      ]
     },
     "execution_count": 86,
     "metadata": {},
     "output_type": "execute_result"
    }
   ],
   "source": [
    "#informasi umum tambahan\n",
    "beta.describe()"
   ]
  },
  {
   "cell_type": "markdown",
   "metadata": {},
   "source": [
    "sekarang dataset sudah memiliki informasi yang lengkap."
   ]
  },
  {
   "cell_type": "markdown",
   "metadata": {},
   "source": [
    "## Persiapan Model Machine Learning<a id='machineprep'></a>"
   ]
  },
  {
   "cell_type": "markdown",
   "metadata": {},
   "source": [
    "### Membuat One Hot Encoding (OHE)"
   ]
  },
  {
   "cell_type": "markdown",
   "metadata": {},
   "source": [
    "Pada dataset terdapat fitur/kolom yang berisi kelas kategorik seperti pada kolom `Geography` dan `Gender`. Kita cek apakah kolom tersebut cocok untuk diterapkan One Hot Encoding (OHE)."
   ]
  },
  {
   "cell_type": "code",
   "execution_count": 87,
   "metadata": {},
   "outputs": [
    {
     "name": "stdout",
     "output_type": "stream",
     "text": [
      "Geography\n",
      "France     5014\n",
      "Germany    2509\n",
      "Spain      2477\n",
      "Name: geography, dtype: int64\n",
      "\n",
      "Gender\n",
      "Male      5457\n",
      "Female    4543\n",
      "Name: gender, dtype: int64\n"
     ]
    }
   ],
   "source": [
    "# mengecek data kategorik\n",
    "# menampilkan kolom geografi\n",
    "print('Geography')\n",
    "print(beta['geography'].value_counts())\n",
    "\n",
    "# menampilkan kolom jenis kelamin\n",
    "print('\\nGender')\n",
    "print(beta['gender'].value_counts())"
   ]
  },
  {
   "cell_type": "markdown",
   "metadata": {},
   "source": []
  },
  {
   "cell_type": "code",
   "execution_count": 88,
   "metadata": {},
   "outputs": [
    {
     "data": {
      "text/html": [
       "<div>\n",
       "<style scoped>\n",
       "    .dataframe tbody tr th:only-of-type {\n",
       "        vertical-align: middle;\n",
       "    }\n",
       "\n",
       "    .dataframe tbody tr th {\n",
       "        vertical-align: top;\n",
       "    }\n",
       "\n",
       "    .dataframe thead th {\n",
       "        text-align: right;\n",
       "    }\n",
       "</style>\n",
       "<table border=\"1\" class=\"dataframe\">\n",
       "  <thead>\n",
       "    <tr style=\"text-align: right;\">\n",
       "      <th></th>\n",
       "      <th>rownumber</th>\n",
       "      <th>customerid</th>\n",
       "      <th>surname</th>\n",
       "      <th>creditscore</th>\n",
       "      <th>geography</th>\n",
       "      <th>gender</th>\n",
       "      <th>age</th>\n",
       "      <th>tenure</th>\n",
       "      <th>balance</th>\n",
       "      <th>numofproducts</th>\n",
       "      <th>hascrcard</th>\n",
       "      <th>isactivemember</th>\n",
       "      <th>estimatedsalary</th>\n",
       "      <th>exited</th>\n",
       "    </tr>\n",
       "  </thead>\n",
       "  <tbody>\n",
       "    <tr>\n",
       "      <th>0</th>\n",
       "      <td>1</td>\n",
       "      <td>15634602</td>\n",
       "      <td>Hargrave</td>\n",
       "      <td>619</td>\n",
       "      <td>France</td>\n",
       "      <td>Female</td>\n",
       "      <td>42</td>\n",
       "      <td>2</td>\n",
       "      <td>0.00</td>\n",
       "      <td>1</td>\n",
       "      <td>1</td>\n",
       "      <td>1</td>\n",
       "      <td>101348.88</td>\n",
       "      <td>1</td>\n",
       "    </tr>\n",
       "    <tr>\n",
       "      <th>1</th>\n",
       "      <td>2</td>\n",
       "      <td>15647311</td>\n",
       "      <td>Hill</td>\n",
       "      <td>608</td>\n",
       "      <td>Spain</td>\n",
       "      <td>Female</td>\n",
       "      <td>41</td>\n",
       "      <td>1</td>\n",
       "      <td>83807.86</td>\n",
       "      <td>1</td>\n",
       "      <td>0</td>\n",
       "      <td>1</td>\n",
       "      <td>112542.58</td>\n",
       "      <td>0</td>\n",
       "    </tr>\n",
       "    <tr>\n",
       "      <th>2</th>\n",
       "      <td>3</td>\n",
       "      <td>15619304</td>\n",
       "      <td>Onio</td>\n",
       "      <td>502</td>\n",
       "      <td>France</td>\n",
       "      <td>Female</td>\n",
       "      <td>42</td>\n",
       "      <td>8</td>\n",
       "      <td>159660.80</td>\n",
       "      <td>3</td>\n",
       "      <td>1</td>\n",
       "      <td>0</td>\n",
       "      <td>113931.57</td>\n",
       "      <td>1</td>\n",
       "    </tr>\n",
       "    <tr>\n",
       "      <th>3</th>\n",
       "      <td>4</td>\n",
       "      <td>15701354</td>\n",
       "      <td>Boni</td>\n",
       "      <td>699</td>\n",
       "      <td>France</td>\n",
       "      <td>Female</td>\n",
       "      <td>39</td>\n",
       "      <td>1</td>\n",
       "      <td>0.00</td>\n",
       "      <td>2</td>\n",
       "      <td>0</td>\n",
       "      <td>0</td>\n",
       "      <td>93826.63</td>\n",
       "      <td>0</td>\n",
       "    </tr>\n",
       "    <tr>\n",
       "      <th>4</th>\n",
       "      <td>5</td>\n",
       "      <td>15737888</td>\n",
       "      <td>Mitchell</td>\n",
       "      <td>850</td>\n",
       "      <td>Spain</td>\n",
       "      <td>Female</td>\n",
       "      <td>43</td>\n",
       "      <td>2</td>\n",
       "      <td>125510.82</td>\n",
       "      <td>1</td>\n",
       "      <td>1</td>\n",
       "      <td>1</td>\n",
       "      <td>79084.10</td>\n",
       "      <td>0</td>\n",
       "    </tr>\n",
       "    <tr>\n",
       "      <th>5</th>\n",
       "      <td>6</td>\n",
       "      <td>15574012</td>\n",
       "      <td>Chu</td>\n",
       "      <td>645</td>\n",
       "      <td>Spain</td>\n",
       "      <td>Male</td>\n",
       "      <td>44</td>\n",
       "      <td>8</td>\n",
       "      <td>113755.78</td>\n",
       "      <td>2</td>\n",
       "      <td>1</td>\n",
       "      <td>0</td>\n",
       "      <td>149756.71</td>\n",
       "      <td>1</td>\n",
       "    </tr>\n",
       "    <tr>\n",
       "      <th>6</th>\n",
       "      <td>7</td>\n",
       "      <td>15592531</td>\n",
       "      <td>Bartlett</td>\n",
       "      <td>822</td>\n",
       "      <td>France</td>\n",
       "      <td>Male</td>\n",
       "      <td>50</td>\n",
       "      <td>7</td>\n",
       "      <td>0.00</td>\n",
       "      <td>2</td>\n",
       "      <td>1</td>\n",
       "      <td>1</td>\n",
       "      <td>10062.80</td>\n",
       "      <td>0</td>\n",
       "    </tr>\n",
       "    <tr>\n",
       "      <th>7</th>\n",
       "      <td>8</td>\n",
       "      <td>15656148</td>\n",
       "      <td>Obinna</td>\n",
       "      <td>376</td>\n",
       "      <td>Germany</td>\n",
       "      <td>Female</td>\n",
       "      <td>29</td>\n",
       "      <td>4</td>\n",
       "      <td>115046.74</td>\n",
       "      <td>4</td>\n",
       "      <td>1</td>\n",
       "      <td>0</td>\n",
       "      <td>119346.88</td>\n",
       "      <td>1</td>\n",
       "    </tr>\n",
       "    <tr>\n",
       "      <th>8</th>\n",
       "      <td>9</td>\n",
       "      <td>15792365</td>\n",
       "      <td>He</td>\n",
       "      <td>501</td>\n",
       "      <td>France</td>\n",
       "      <td>Male</td>\n",
       "      <td>44</td>\n",
       "      <td>4</td>\n",
       "      <td>142051.07</td>\n",
       "      <td>2</td>\n",
       "      <td>0</td>\n",
       "      <td>1</td>\n",
       "      <td>74940.50</td>\n",
       "      <td>0</td>\n",
       "    </tr>\n",
       "    <tr>\n",
       "      <th>9</th>\n",
       "      <td>10</td>\n",
       "      <td>15592389</td>\n",
       "      <td>H?</td>\n",
       "      <td>684</td>\n",
       "      <td>France</td>\n",
       "      <td>Male</td>\n",
       "      <td>27</td>\n",
       "      <td>2</td>\n",
       "      <td>134603.88</td>\n",
       "      <td>1</td>\n",
       "      <td>1</td>\n",
       "      <td>1</td>\n",
       "      <td>71725.73</td>\n",
       "      <td>0</td>\n",
       "    </tr>\n",
       "  </tbody>\n",
       "</table>\n",
       "</div>"
      ],
      "text/plain": [
       "   rownumber  customerid   surname  creditscore geography  gender  age  \\\n",
       "0          1    15634602  Hargrave          619    France  Female   42   \n",
       "1          2    15647311      Hill          608     Spain  Female   41   \n",
       "2          3    15619304      Onio          502    France  Female   42   \n",
       "3          4    15701354      Boni          699    France  Female   39   \n",
       "4          5    15737888  Mitchell          850     Spain  Female   43   \n",
       "5          6    15574012       Chu          645     Spain    Male   44   \n",
       "6          7    15592531  Bartlett          822    France    Male   50   \n",
       "7          8    15656148    Obinna          376   Germany  Female   29   \n",
       "8          9    15792365        He          501    France    Male   44   \n",
       "9         10    15592389        H?          684    France    Male   27   \n",
       "\n",
       "   tenure    balance  numofproducts  hascrcard  isactivemember  \\\n",
       "0       2       0.00              1          1               1   \n",
       "1       1   83807.86              1          0               1   \n",
       "2       8  159660.80              3          1               0   \n",
       "3       1       0.00              2          0               0   \n",
       "4       2  125510.82              1          1               1   \n",
       "5       8  113755.78              2          1               0   \n",
       "6       7       0.00              2          1               1   \n",
       "7       4  115046.74              4          1               0   \n",
       "8       4  142051.07              2          0               1   \n",
       "9       2  134603.88              1          1               1   \n",
       "\n",
       "   estimatedsalary  exited  \n",
       "0        101348.88       1  \n",
       "1        112542.58       0  \n",
       "2        113931.57       1  \n",
       "3         93826.63       0  \n",
       "4         79084.10       0  \n",
       "5        149756.71       1  \n",
       "6         10062.80       0  \n",
       "7        119346.88       1  \n",
       "8         74940.50       0  \n",
       "9         71725.73       0  "
      ]
     },
     "execution_count": 88,
     "metadata": {},
     "output_type": "execute_result"
    }
   ],
   "source": [
    "#menampilkan sample data\n",
    "beta.head(10)"
   ]
  },
  {
   "cell_type": "code",
   "execution_count": 89,
   "metadata": {},
   "outputs": [
    {
     "data": {
      "text/html": [
       "<div>\n",
       "<style scoped>\n",
       "    .dataframe tbody tr th:only-of-type {\n",
       "        vertical-align: middle;\n",
       "    }\n",
       "\n",
       "    .dataframe tbody tr th {\n",
       "        vertical-align: top;\n",
       "    }\n",
       "\n",
       "    .dataframe thead th {\n",
       "        text-align: right;\n",
       "    }\n",
       "</style>\n",
       "<table border=\"1\" class=\"dataframe\">\n",
       "  <thead>\n",
       "    <tr style=\"text-align: right;\">\n",
       "      <th></th>\n",
       "      <th>rownumber</th>\n",
       "      <th>customerid</th>\n",
       "      <th>surname</th>\n",
       "      <th>creditscore</th>\n",
       "      <th>geography</th>\n",
       "      <th>gender</th>\n",
       "      <th>age</th>\n",
       "      <th>tenure</th>\n",
       "      <th>balance</th>\n",
       "      <th>numofproducts</th>\n",
       "      <th>hascrcard</th>\n",
       "      <th>isactivemember</th>\n",
       "      <th>estimatedsalary</th>\n",
       "      <th>exited</th>\n",
       "    </tr>\n",
       "  </thead>\n",
       "  <tbody>\n",
       "    <tr>\n",
       "      <th>0</th>\n",
       "      <td>1</td>\n",
       "      <td>15634602</td>\n",
       "      <td>Hargrave</td>\n",
       "      <td>619</td>\n",
       "      <td>0</td>\n",
       "      <td>0</td>\n",
       "      <td>42</td>\n",
       "      <td>2</td>\n",
       "      <td>0.00</td>\n",
       "      <td>1</td>\n",
       "      <td>1</td>\n",
       "      <td>1</td>\n",
       "      <td>101348.88</td>\n",
       "      <td>1</td>\n",
       "    </tr>\n",
       "    <tr>\n",
       "      <th>1</th>\n",
       "      <td>2</td>\n",
       "      <td>15647311</td>\n",
       "      <td>Hill</td>\n",
       "      <td>608</td>\n",
       "      <td>0</td>\n",
       "      <td>0</td>\n",
       "      <td>41</td>\n",
       "      <td>1</td>\n",
       "      <td>83807.86</td>\n",
       "      <td>1</td>\n",
       "      <td>0</td>\n",
       "      <td>1</td>\n",
       "      <td>112542.58</td>\n",
       "      <td>0</td>\n",
       "    </tr>\n",
       "    <tr>\n",
       "      <th>2</th>\n",
       "      <td>3</td>\n",
       "      <td>15619304</td>\n",
       "      <td>Onio</td>\n",
       "      <td>502</td>\n",
       "      <td>0</td>\n",
       "      <td>0</td>\n",
       "      <td>42</td>\n",
       "      <td>8</td>\n",
       "      <td>159660.80</td>\n",
       "      <td>3</td>\n",
       "      <td>1</td>\n",
       "      <td>0</td>\n",
       "      <td>113931.57</td>\n",
       "      <td>1</td>\n",
       "    </tr>\n",
       "    <tr>\n",
       "      <th>3</th>\n",
       "      <td>4</td>\n",
       "      <td>15701354</td>\n",
       "      <td>Boni</td>\n",
       "      <td>699</td>\n",
       "      <td>0</td>\n",
       "      <td>0</td>\n",
       "      <td>39</td>\n",
       "      <td>1</td>\n",
       "      <td>0.00</td>\n",
       "      <td>2</td>\n",
       "      <td>0</td>\n",
       "      <td>0</td>\n",
       "      <td>93826.63</td>\n",
       "      <td>0</td>\n",
       "    </tr>\n",
       "    <tr>\n",
       "      <th>4</th>\n",
       "      <td>5</td>\n",
       "      <td>15737888</td>\n",
       "      <td>Mitchell</td>\n",
       "      <td>850</td>\n",
       "      <td>0</td>\n",
       "      <td>0</td>\n",
       "      <td>43</td>\n",
       "      <td>2</td>\n",
       "      <td>125510.82</td>\n",
       "      <td>1</td>\n",
       "      <td>1</td>\n",
       "      <td>1</td>\n",
       "      <td>79084.10</td>\n",
       "      <td>0</td>\n",
       "    </tr>\n",
       "    <tr>\n",
       "      <th>5</th>\n",
       "      <td>6</td>\n",
       "      <td>15574012</td>\n",
       "      <td>Chu</td>\n",
       "      <td>645</td>\n",
       "      <td>0</td>\n",
       "      <td>1</td>\n",
       "      <td>44</td>\n",
       "      <td>8</td>\n",
       "      <td>113755.78</td>\n",
       "      <td>2</td>\n",
       "      <td>1</td>\n",
       "      <td>0</td>\n",
       "      <td>149756.71</td>\n",
       "      <td>1</td>\n",
       "    </tr>\n",
       "    <tr>\n",
       "      <th>6</th>\n",
       "      <td>7</td>\n",
       "      <td>15592531</td>\n",
       "      <td>Bartlett</td>\n",
       "      <td>822</td>\n",
       "      <td>0</td>\n",
       "      <td>1</td>\n",
       "      <td>50</td>\n",
       "      <td>7</td>\n",
       "      <td>0.00</td>\n",
       "      <td>2</td>\n",
       "      <td>1</td>\n",
       "      <td>1</td>\n",
       "      <td>10062.80</td>\n",
       "      <td>0</td>\n",
       "    </tr>\n",
       "    <tr>\n",
       "      <th>7</th>\n",
       "      <td>8</td>\n",
       "      <td>15656148</td>\n",
       "      <td>Obinna</td>\n",
       "      <td>376</td>\n",
       "      <td>1</td>\n",
       "      <td>0</td>\n",
       "      <td>29</td>\n",
       "      <td>4</td>\n",
       "      <td>115046.74</td>\n",
       "      <td>4</td>\n",
       "      <td>1</td>\n",
       "      <td>0</td>\n",
       "      <td>119346.88</td>\n",
       "      <td>1</td>\n",
       "    </tr>\n",
       "    <tr>\n",
       "      <th>8</th>\n",
       "      <td>9</td>\n",
       "      <td>15792365</td>\n",
       "      <td>He</td>\n",
       "      <td>501</td>\n",
       "      <td>0</td>\n",
       "      <td>1</td>\n",
       "      <td>44</td>\n",
       "      <td>4</td>\n",
       "      <td>142051.07</td>\n",
       "      <td>2</td>\n",
       "      <td>0</td>\n",
       "      <td>1</td>\n",
       "      <td>74940.50</td>\n",
       "      <td>0</td>\n",
       "    </tr>\n",
       "    <tr>\n",
       "      <th>9</th>\n",
       "      <td>10</td>\n",
       "      <td>15592389</td>\n",
       "      <td>H?</td>\n",
       "      <td>684</td>\n",
       "      <td>0</td>\n",
       "      <td>1</td>\n",
       "      <td>27</td>\n",
       "      <td>2</td>\n",
       "      <td>134603.88</td>\n",
       "      <td>1</td>\n",
       "      <td>1</td>\n",
       "      <td>1</td>\n",
       "      <td>71725.73</td>\n",
       "      <td>0</td>\n",
       "    </tr>\n",
       "  </tbody>\n",
       "</table>\n",
       "</div>"
      ],
      "text/plain": [
       "   rownumber  customerid   surname  creditscore  geography  gender  age  \\\n",
       "0          1    15634602  Hargrave          619          0       0   42   \n",
       "1          2    15647311      Hill          608          0       0   41   \n",
       "2          3    15619304      Onio          502          0       0   42   \n",
       "3          4    15701354      Boni          699          0       0   39   \n",
       "4          5    15737888  Mitchell          850          0       0   43   \n",
       "5          6    15574012       Chu          645          0       1   44   \n",
       "6          7    15592531  Bartlett          822          0       1   50   \n",
       "7          8    15656148    Obinna          376          1       0   29   \n",
       "8          9    15792365        He          501          0       1   44   \n",
       "9         10    15592389        H?          684          0       1   27   \n",
       "\n",
       "   tenure    balance  numofproducts  hascrcard  isactivemember  \\\n",
       "0       2       0.00              1          1               1   \n",
       "1       1   83807.86              1          0               1   \n",
       "2       8  159660.80              3          1               0   \n",
       "3       1       0.00              2          0               0   \n",
       "4       2  125510.82              1          1               1   \n",
       "5       8  113755.78              2          1               0   \n",
       "6       7       0.00              2          1               1   \n",
       "7       4  115046.74              4          1               0   \n",
       "8       4  142051.07              2          0               1   \n",
       "9       2  134603.88              1          1               1   \n",
       "\n",
       "   estimatedsalary  exited  \n",
       "0        101348.88       1  \n",
       "1        112542.58       0  \n",
       "2        113931.57       1  \n",
       "3         93826.63       0  \n",
       "4         79084.10       0  \n",
       "5        149756.71       1  \n",
       "6         10062.80       0  \n",
       "7        119346.88       1  \n",
       "8         74940.50       0  \n",
       "9         71725.73       0  "
      ]
     },
     "execution_count": 89,
     "metadata": {},
     "output_type": "execute_result"
    }
   ],
   "source": [
    "#Mengencode kolom data yang kategorik\n",
    "# Untuk kolom gender\n",
    "beta['gender'] = pd.get_dummies(beta['gender'], drop_first=True)\n",
    "\n",
    "# Untuk kolom Geography\n",
    "beta['geography'] = pd.get_dummies(beta['geography'], drop_first=True)\n",
    "\n",
    "#menampilkan sample data\n",
    "beta.head(10)"
   ]
  },
  {
   "cell_type": "markdown",
   "metadata": {},
   "source": [
    "sekarang kita sudah mengubah nilainya:\n",
    "1. kolom `gender` berisikan data `female` diganti menjadi `0` dan `male` menjadi `1`\n",
    "2. kolom `geography` berisikan data `france` dan `spain` diganti menjadi `0` dan `germany` menjadi `1`"
   ]
  },
  {
   "cell_type": "markdown",
   "metadata": {},
   "source": [
    "### Memisahkan fitur dari target dataset"
   ]
  },
  {
   "cell_type": "code",
   "execution_count": 90,
   "metadata": {},
   "outputs": [
    {
     "name": "stdout",
     "output_type": "stream",
     "text": [
      "Features --> (10000, 12)\n",
      "Target --> (10000,)\n"
     ]
    }
   ],
   "source": [
    "# memisahkan fitur dan target dari dataset\n",
    "#fitur kecuali data kolom `exited` dan `surname`\n",
    "features = beta.drop(['exited', 'surname'],axis=1)\n",
    "#target hanya data kolom `exited`\n",
    "target = beta['exited']\n",
    "\n",
    "print('Features -->', features.shape)\n",
    "print('Target -->', target.shape)"
   ]
  },
  {
   "cell_type": "code",
   "execution_count": 91,
   "metadata": {},
   "outputs": [
    {
     "name": "stdout",
     "output_type": "stream",
     "text": [
      "Training set: (6000, 12) (6000,)\n",
      "Validation set: (2000, 12) (2000,)\n",
      "Testing set: (2000, 12) (2000,)\n"
     ]
    }
   ],
   "source": [
    "# Membagi data menjadi training set dan testing set\n",
    "features_train_full, features_test, target_train_full, target_test = train_test_split(features, target, test_size=0.2, random_state=42)\n",
    "\n",
    "# Membagi training set menjadi training set dan validation set\n",
    "features_train, features_valid, target_train, target_valid = train_test_split(features_train_full, target_train_full, test_size=0.25, random_state=42)\n",
    "\n",
    "print('Training set:', features_train.shape, target_train.shape)\n",
    "print('Validation set:', features_valid.shape, target_valid.shape)\n",
    "print('Testing set:', features_test.shape, target_test.shape)"
   ]
  },
  {
   "cell_type": "markdown",
   "metadata": {},
   "source": [
    "sekarang data sudah terbagi menjadi `training set`, `validation set` dan `testing set` dengan perbandingan `60:20:20`"
   ]
  },
  {
   "cell_type": "markdown",
   "metadata": {},
   "source": [
    "### Memeriksa kesetimbangan"
   ]
  },
  {
   "cell_type": "code",
   "execution_count": 92,
   "metadata": {},
   "outputs": [
    {
     "data": {
      "image/png": "[encoded data removed]",
      "text/plain": [
       "<Figure size 640x480 with 1 Axes>"
      ]
     },
     "metadata": {},
     "output_type": "display_data"
    },
    {
     "name": "stdout",
     "output_type": "stream",
     "text": [
      "0    0.794833\n",
      "1    0.205167\n",
      "Name: exited, dtype: float64\n"
     ]
    }
   ],
   "source": [
    "# Pemeriksaan keseimbangan kelas\n",
    "sns.countplot(x=target_train)\n",
    "plt.title('Distribusi Kelas pada Training Set')\n",
    "plt.show()\n",
    "\n",
    "# Rasio kelas\n",
    "ratio = target_train.value_counts(normalize=True)\n",
    "print(ratio)\n"
   ]
  },
  {
   "cell_type": "markdown",
   "metadata": {},
   "source": [
    "terlihat bahwa data sangat tidak setimbang antara `0` dan `1`"
   ]
  },
  {
   "cell_type": "markdown",
   "metadata": {},
   "source": [
    "### Menskalasi fitur"
   ]
  },
  {
   "cell_type": "markdown",
   "metadata": {},
   "source": [
    "kita akan melihat kolom-kolom yang berisi nilai numeric. Beberapa fitur numerik yang besar seperti pada `creditscore`, `age`, `balance`, dan `estimatedsalary`, namun untuk `tenure` dan `numofproducts` kita akan meninjaunya."
   ]
  },
  {
   "cell_type": "code",
   "execution_count": 93,
   "metadata": {},
   "outputs": [
    {
     "name": "stdout",
     "output_type": "stream",
     "text": [
      "Tenure: [ 2  1  8  7  4  6  3 10  5  9  0]\n",
      "NumOfProducts:  [1 3 2 4]\n"
     ]
    }
   ],
   "source": [
    "# nilai unik pada kolom 'Tenure' dan 'NumOfProducts'\n",
    "print('Tenure:',features['tenure'].unique())\n",
    "print('NumOfProducts: ',features['numofproducts'].unique())"
   ]
  },
  {
   "cell_type": "markdown",
   "metadata": {},
   "source": [
    "terlihat bahwa skalanya sudah jelas dan tidak terlalu jauh `tenure` berisikan data dengan skala `0-10` sedangkan `numofproducts` berisikan skala `1-4`"
   ]
  },
  {
   "cell_type": "markdown",
   "metadata": {},
   "source": [
    "selanjutnya kita lakukan scaling untuk fitur `creditscore`, `age`, `balance` dan `estimatedsalary`."
   ]
  },
  {
   "cell_type": "code",
   "execution_count": 94,
   "metadata": {},
   "outputs": [
    {
     "data": {
      "text/html": [
       "<div>\n",
       "<style scoped>\n",
       "    .dataframe tbody tr th:only-of-type {\n",
       "        vertical-align: middle;\n",
       "    }\n",
       "\n",
       "    .dataframe tbody tr th {\n",
       "        vertical-align: top;\n",
       "    }\n",
       "\n",
       "    .dataframe thead th {\n",
       "        text-align: right;\n",
       "    }\n",
       "</style>\n",
       "<table border=\"1\" class=\"dataframe\">\n",
       "  <thead>\n",
       "    <tr style=\"text-align: right;\">\n",
       "      <th></th>\n",
       "      <th>rownumber</th>\n",
       "      <th>customerid</th>\n",
       "      <th>creditscore</th>\n",
       "      <th>geography</th>\n",
       "      <th>gender</th>\n",
       "      <th>age</th>\n",
       "      <th>tenure</th>\n",
       "      <th>balance</th>\n",
       "      <th>numofproducts</th>\n",
       "      <th>hascrcard</th>\n",
       "      <th>isactivemember</th>\n",
       "      <th>estimatedsalary</th>\n",
       "    </tr>\n",
       "  </thead>\n",
       "  <tbody>\n",
       "    <tr>\n",
       "      <th>0</th>\n",
       "      <td>1</td>\n",
       "      <td>15634602</td>\n",
       "      <td>-0.326221</td>\n",
       "      <td>0</td>\n",
       "      <td>0</td>\n",
       "      <td>0.293517</td>\n",
       "      <td>2</td>\n",
       "      <td>-1.225848</td>\n",
       "      <td>1</td>\n",
       "      <td>1</td>\n",
       "      <td>1</td>\n",
       "      <td>0.021886</td>\n",
       "    </tr>\n",
       "    <tr>\n",
       "      <th>1</th>\n",
       "      <td>2</td>\n",
       "      <td>15647311</td>\n",
       "      <td>-0.440036</td>\n",
       "      <td>0</td>\n",
       "      <td>0</td>\n",
       "      <td>0.198164</td>\n",
       "      <td>1</td>\n",
       "      <td>0.117350</td>\n",
       "      <td>1</td>\n",
       "      <td>0</td>\n",
       "      <td>1</td>\n",
       "      <td>0.216534</td>\n",
       "    </tr>\n",
       "    <tr>\n",
       "      <th>2</th>\n",
       "      <td>3</td>\n",
       "      <td>15619304</td>\n",
       "      <td>-1.536794</td>\n",
       "      <td>0</td>\n",
       "      <td>0</td>\n",
       "      <td>0.293517</td>\n",
       "      <td>8</td>\n",
       "      <td>1.333053</td>\n",
       "      <td>3</td>\n",
       "      <td>1</td>\n",
       "      <td>0</td>\n",
       "      <td>0.240687</td>\n",
       "    </tr>\n",
       "    <tr>\n",
       "      <th>3</th>\n",
       "      <td>4</td>\n",
       "      <td>15701354</td>\n",
       "      <td>0.501521</td>\n",
       "      <td>0</td>\n",
       "      <td>0</td>\n",
       "      <td>0.007457</td>\n",
       "      <td>1</td>\n",
       "      <td>-1.225848</td>\n",
       "      <td>2</td>\n",
       "      <td>0</td>\n",
       "      <td>0</td>\n",
       "      <td>-0.108918</td>\n",
       "    </tr>\n",
       "    <tr>\n",
       "      <th>4</th>\n",
       "      <td>5</td>\n",
       "      <td>15737888</td>\n",
       "      <td>2.063884</td>\n",
       "      <td>0</td>\n",
       "      <td>0</td>\n",
       "      <td>0.388871</td>\n",
       "      <td>2</td>\n",
       "      <td>0.785728</td>\n",
       "      <td>1</td>\n",
       "      <td>1</td>\n",
       "      <td>1</td>\n",
       "      <td>-0.365276</td>\n",
       "    </tr>\n",
       "  </tbody>\n",
       "</table>\n",
       "</div>"
      ],
      "text/plain": [
       "   rownumber  customerid  creditscore  geography  gender       age  tenure  \\\n",
       "0          1    15634602    -0.326221          0       0  0.293517       2   \n",
       "1          2    15647311    -0.440036          0       0  0.198164       1   \n",
       "2          3    15619304    -1.536794          0       0  0.293517       8   \n",
       "3          4    15701354     0.501521          0       0  0.007457       1   \n",
       "4          5    15737888     2.063884          0       0  0.388871       2   \n",
       "\n",
       "    balance  numofproducts  hascrcard  isactivemember  estimatedsalary  \n",
       "0 -1.225848              1          1               1         0.021886  \n",
       "1  0.117350              1          0               1         0.216534  \n",
       "2  1.333053              3          1               0         0.240687  \n",
       "3 -1.225848              2          0               0        -0.108918  \n",
       "4  0.785728              1          1               1        -0.365276  "
      ]
     },
     "execution_count": 94,
     "metadata": {},
     "output_type": "execute_result"
    }
   ],
   "source": [
    "# menskalakan fitur menggunakan 'StandardScaler'\n",
    "numeric = ['creditscore','age','balance','estimatedsalary']\n",
    "features[numeric] = StandardScaler().fit_transform(features[numeric])\n",
    "\n",
    "# menampilkan sampel fitur\n",
    "features.head()"
   ]
  },
  {
   "cell_type": "markdown",
   "metadata": {},
   "source": [
    "sekarang kita sudah melakukan scaling untuk fitur `creditscore`, `age`, `balance` dan `estimatedsalary`."
   ]
  },
  {
   "cell_type": "markdown",
   "metadata": {},
   "source": [
    "## Meningkatkan kualitas model<a id='quality'></a>"
   ]
  },
  {
   "cell_type": "markdown",
   "metadata": {},
   "source": [
    "Untuk meningkatkan kualitas model, upsampling atau downsampling bisa dilakukan untuk menyeimbangkan dataset dengan meningkatkan atau menurunkan ukuran sampel. sebelum itu perlu dicoba berbagai pemodelan machine learning, sehingga didapatkan dataset baru yang seimbang dapat diambil untuk pemodelan lebih lanjut."
   ]
  },
  {
   "cell_type": "markdown",
   "metadata": {},
   "source": [
    "### Model Decision Tree"
   ]
  },
  {
   "cell_type": "code",
   "execution_count": 95,
   "metadata": {},
   "outputs": [
    {
     "name": "stdout",
     "output_type": "stream",
     "text": [
      "Model Terbaik (Decision Tree)\n",
      "Depth --> 5\n",
      "F1 Score --> 0.5722801788375559\n",
      "AUC_ROC --> 0.8317656625945372\n"
     ]
    }
   ],
   "source": [
    "# pecobaan algoritma decision tree\n",
    "\n",
    "# membuat temporary variabel\n",
    "f1_best = 0\n",
    "AUC_ROC_best = 0\n",
    "depth_best = 0\n",
    "\n",
    "# pengujian kedalaman model decision tree (depth -> 1 ~ 50)\n",
    "for depth in range(1, 51):\n",
    "\t# membuat model decision tree\n",
    "\tmodel = DecisionTreeClassifier(random_state=12345, max_depth=depth) \n",
    "\t# melatih model menggunakan features dan target train\n",
    "\tmodel.fit(features_train, target_train)\n",
    "\t# prediksi model\n",
    "\tpredict = model.predict(features_valid)\n",
    "\tpredict_proba = model.predict_proba(features_valid)\n",
    "\tpredict_one_valid = predict_proba[:,1]\n",
    "\t# menghitung F1 dan AUC_ROC menggunakan features dan target validation\n",
    "\tf1 = f1_score(target_valid,predict)\n",
    "\tAUC_ROC = roc_auc_score(target_valid,predict_one_valid)\n",
    "\n",
    "\tif f1 > f1_best and AUC_ROC > AUC_ROC_best:\n",
    "\t\tf1_best = f1\n",
    "\t\tAUC_ROC_best = AUC_ROC\n",
    "\t\tdepth_best = depth\n",
    "\n",
    "# menampilkan output        \n",
    "print(\"Model Terbaik (Decision Tree)\")\n",
    "print('Depth -->', depth_best)\n",
    "print('F1 Score -->', f1_best)\n",
    "print('AUC_ROC -->', AUC_ROC_best)"
   ]
  },
  {
   "cell_type": "markdown",
   "metadata": {},
   "source": [
    "Berdasarkan hasil yang didapatkan:\n",
    "* Depth --> 5: Kedalaman terbaik dari Decision Tree adalah 5.\n",
    "* F1 Score --> 0.5722801788375559: Kombinasi presisi dan recall dari model cukup baik, tetapi tidak sangat tinggi.\n",
    "* AUC-ROC --> 0.8317656625945372: Model memiliki performa yang baik dalam memisahkan kelas positif dan negatif."
   ]
  },
  {
   "cell_type": "markdown",
   "metadata": {},
   "source": [
    "### Model Random Forest"
   ]
  },
  {
   "cell_type": "code",
   "execution_count": 96,
   "metadata": {},
   "outputs": [
    {
     "name": "stdout",
     "output_type": "stream",
     "text": [
      "Model Terbaik (Random Forest)\n",
      "Depth --> 10\n",
      "Trees --> 41\n",
      "F1 Score --> 0.5878693623639192\n",
      "AUC_ROC --> 0.8629985459949253\n"
     ]
    }
   ],
   "source": [
    "# pecobaan algoritma random forest\n",
    "# kedalaman pohon: depth -> 1 ~ 20\n",
    "# jumlah pohon: n_estimators -> 1 ~ 60 {increment 10}\n",
    "\n",
    "# membuat temporary\n",
    "f1_best = 0\n",
    "AUC_ROC_best = 0\n",
    "depth_best = 0\n",
    "estimators_best = 0\n",
    "\n",
    "# pengujian kedalaman model dan jumlah pohon\n",
    "# pengaturan jumlah pohon\n",
    "for est in range(1, 61, 10):\n",
    "    # pengaturan jumlah kedalaman pohon\n",
    "    for depth in range (1, 21):\n",
    "        # membuat model random forest classifier\n",
    "        model = RandomForestClassifier(random_state=12345, n_estimators=est, max_depth=depth)\n",
    "        # melatih model menggunakan features dan target train\n",
    "        model.fit(features_train, target_train)\n",
    "        predict = model.predict(features_valid)\n",
    "        predict_proba = model.predict_proba(features_valid)\n",
    "        predict_one_valid = predict_proba[:,1]\n",
    "        # menghitung F1 dan AUC_ROC menggunakan features dan target validation\n",
    "        f1 = f1_score(target_valid,predict)\n",
    "        AUC_ROC = roc_auc_score(target_valid,predict_one_valid)\n",
    "\n",
    "        if f1 > f1_best and AUC_ROC > AUC_ROC_best:\n",
    "            f1_best = f1\n",
    "            AUC_ROC_best = AUC_ROC\n",
    "            depth_best = depth\n",
    "            estimators_best = est\n",
    "\n",
    "# menampilkan output        \n",
    "print(\"Model Terbaik (Random Forest)\")\n",
    "print('Depth -->', depth_best)\n",
    "print('Trees -->', estimators_best)\n",
    "print('F1 Score -->', f1_best)\n",
    "print('AUC_ROC -->', AUC_ROC_best)"
   ]
  },
  {
   "cell_type": "markdown",
   "metadata": {},
   "source": [
    "Berdasarkan hasil yang didapatkan:\n",
    "* Depth --> 10: Kedalaman terbaik dari model adalah 10.\n",
    "* Trees --> 41: Jumlah pohon yang paling baik adalah 41\n",
    "* F1 Score --> 0.5878693623639192: Kombinasi presisi dan recall dari model cukup baik, tetapi tidak sangat tinggi.\n",
    "* AUC-ROC --> 0.8629985459949253: Model memiliki performa yang baik dalam memisahkan kelas positif dan negatif."
   ]
  },
  {
   "cell_type": "markdown",
   "metadata": {},
   "source": [
    "### Model regresi logistik"
   ]
  },
  {
   "cell_type": "code",
   "execution_count": 97,
   "metadata": {},
   "outputs": [
    {
     "name": "stdout",
     "output_type": "stream",
     "text": [
      "Model Regresi Logistik\n",
      "F1 Score --> 0.0\n",
      "AUC_ROC --> 0.5826166293629688\n"
     ]
    }
   ],
   "source": [
    "# pecobaan algoritma regresi logistik\n",
    "\n",
    "# membuat model regresi logistik\n",
    "model = LogisticRegression(random_state=12345, solver='liblinear') \n",
    "\n",
    "# melatih model menggunakan features dan target train\n",
    "model.fit(features_train, target_train)\n",
    "\n",
    "# menghitung akurasi menggunakan features dan target validation\n",
    "predict = model.predict(features_valid)\n",
    "predict_proba = model.predict_proba(features_valid)\n",
    "predict_one_valid = predict_proba[:,1]\n",
    "\n",
    "# menghitung F1 Skor dan AUC_ROC\n",
    "f1 = f1_score(target_valid,predict)\n",
    "AUC_ROC = roc_auc_score(target_valid,predict_one_valid)\n",
    "\n",
    "# menampilkan output        \n",
    "print(\"Model Regresi Logistik\")\n",
    "print('F1 Score -->', f1)\n",
    "print('AUC_ROC -->', AUC_ROC)"
   ]
  },
  {
   "cell_type": "markdown",
   "metadata": {},
   "source": [
    "Berdasarkan hasil yang didapatkan:\n",
    "* F1 Score --> 0.0: Kombinasi presisi dan recall dari model tidak baik, sehingga tidak dianjurkan untuk melanjutkan dengan model ini.\n",
    "* AUC-ROC --> 0.5826166293629688: Model memiliki performa yang cukup baik dalam memisahkan kelas positif dan negatif."
   ]
  },
  {
   "cell_type": "markdown",
   "metadata": {},
   "source": [
    "darisini diputuskan untuk menggunakan model `random forest` dengan `f1 score` `0.587` dan `AUC_ROC` `0.862`."
   ]
  },
  {
   "cell_type": "markdown",
   "metadata": {},
   "source": [
    "### Mengatasi Kelas yang Tidak Seimbang (Imbalance)"
   ]
  },
  {
   "cell_type": "markdown",
   "metadata": {},
   "source": [
    "Metode yang akan kita gunakan untuk menyeimbangkan dataset yaitu teknik upsampling, downsampling pada dataset dan juga mengaktifkan `class_weight = 'balanced'` pada model.\n",
    "\n",
    "Kelas 0 memiliki jumlah yang jauh lebih banyak dibandingkan dengan Kelas 1, sehingga kita akan menggandakan Kelas 1 dan mereduksi Kelas 0. Mari kita buat fungsinya."
   ]
  },
  {
   "cell_type": "code",
   "execution_count": 98,
   "metadata": {},
   "outputs": [],
   "source": [
    "# melakukan upsampling dan downsampling pada dataset\n",
    "\n",
    "def up_down(feature,target,repeat,fraction):\n",
    "    features_zero = feature[target == 0]\n",
    "    feature_one = feature[target == 1]\n",
    "    target_zero = target[target == 0]\n",
    "    target_one = target[target == 1]\n",
    "\n",
    "    # downsampling dataset\n",
    "    down_1 = features_zero.sample(frac=fraction,random_state=12345)\n",
    "    down_2 = target_zero.sample(frac=fraction,random_state=12345)\n",
    "\n",
    "    # upsampling dataset\n",
    "    temp_1 = pd.concat([down_1] + [feature_one]*repeat)\n",
    "    temp_2 = pd.concat([down_2] + [target_one]*repeat)\n",
    "\n",
    "    # mengacak data\n",
    "    features_new, target_new = shuffle(temp_1, temp_2, random_state=12345)\n",
    "\n",
    "    return features_new, target_new"
   ]
  },
  {
   "cell_type": "markdown",
   "metadata": {},
   "source": [
    "Selanjutnya mari kita buat fitur dan target yang baru. Agar seimbang mari kita gandakan Kelas 1 sebanyak 2x dan kita reduksi 50% pada Kelas 0."
   ]
  },
  {
   "cell_type": "code",
   "execution_count": 99,
   "metadata": {},
   "outputs": [
    {
     "data": {
      "text/plain": [
       "1    0.508048\n",
       "0    0.491952\n",
       "Name: exited, dtype: float64"
      ]
     },
     "execution_count": 99,
     "metadata": {},
     "output_type": "execute_result"
    }
   ],
   "source": [
    "# menerapkan ke dalam fungsi yang sudah dibuat repeat=2, fraksi=50%\n",
    "features_updown, target_updown = up_down(features_train, target_train, 2, 0.5)\n",
    "\n",
    "# cek kembali keseimbangan dataset pada target\n",
    "target_updown.value_counts(normalize=True)"
   ]
  },
  {
   "cell_type": "markdown",
   "metadata": {},
   "source": [
    "Sudah terlihat bahwa Kelas 1 dan Kelas 0 yang baru hampir mendekati seimbang (balance)."
   ]
  },
  {
   "cell_type": "markdown",
   "metadata": {},
   "source": [
    "## Pengujian terakhir<a id='finale'></a>"
   ]
  },
  {
   "cell_type": "code",
   "execution_count": 100,
   "metadata": {},
   "outputs": [
    {
     "data": {
      "text/plain": [
       "RandomForestClassifier(class_weight='balanced', max_depth=10, n_estimators=41,\n",
       "                       random_state=12345)"
      ]
     },
     "execution_count": 100,
     "metadata": {},
     "output_type": "execute_result"
    }
   ],
   "source": [
    "# membuat model random forest dengan balancing weight \n",
    "# n_estimators = 41\n",
    "# depth = 10\n",
    "\n",
    "model = RandomForestClassifier(\n",
    "    random_state = 12345, \n",
    "    n_estimators = 41, \n",
    "    max_depth = 10,\n",
    "    class_weight = 'balanced'\n",
    "    )\n",
    "\n",
    "# melatih model menggunakan dataset yang baru\n",
    "model.fit(features_updown, target_updown)"
   ]
  },
  {
   "cell_type": "code",
   "execution_count": 101,
   "metadata": {},
   "outputs": [
    {
     "name": "stdout",
     "output_type": "stream",
     "text": [
      "Model dengan Upsampling dan Downsampling (Random Forest)\n",
      "F1 Score --> 0.6169772256728779\n",
      "AUC_ROC --> 0.8640421341071752\n",
      "Precision --> 0.538878842676311\n",
      "Recall --> 0.7215496368038741\n"
     ]
    }
   ],
   "source": [
    "# Melakukan prediksi pada validation set\n",
    "predict_valid = model.predict(features_valid)\n",
    "predict_proba_valid = model.predict_proba(features_valid)\n",
    "predict_one_valid = predict_proba_valid[:, 1]\n",
    "\n",
    "# Menghitung metrik evaluasi\n",
    "f1 = f1_score(target_valid, predict_valid)\n",
    "AUC_ROC = roc_auc_score(target_valid, predict_one_valid)\n",
    "precision = precision_score(target_valid, predict_valid)\n",
    "recall = recall_score(target_valid, predict_valid)\n",
    "\n",
    "# Menampilkan output\n",
    "print(\"Model dengan Upsampling dan Downsampling (Random Forest)\")\n",
    "print('F1 Score -->', f1)\n",
    "print('AUC_ROC -->', AUC_ROC)\n",
    "print('Precision -->', precision)\n",
    "print('Recall -->', recall)\n"
   ]
  },
  {
   "cell_type": "markdown",
   "metadata": {},
   "source": [
    "* Keseimbangan antara Precision dan Recall: Dengan F1 Score yang cukup baik (0.617) dan nilai recall yang tinggi (0.722), model ini lebih cenderung menangkap nasabah yang akan meninggalkan bank meskipun dengan mengorbankan sedikit precision (banyak false positives). dan telah memenuhi minimal 0.59 untuk nilai F1\n",
    "* Kemampuan Diskriminasi: Nilai AUC-ROC yang tinggi (0.864) menunjukkan bahwa model ini secara umum sangat baik dalam membedakan antara kelas positif dan negatif."
   ]
  },
  {
   "cell_type": "markdown",
   "metadata": {},
   "source": [
    "## Kesimpulan<a id='conclusion'></a>"
   ]
  },
  {
   "cell_type": "markdown",
   "metadata": {},
   "source": [
    "1. model `decision tree` mendapatkan nilai `F1 Score` cukup baik yaitu `0.572` dan nilai `AUC_ROC` juga cukup tinggi yaitu `0.831`\n",
    "2. model `random forest` mendapatkan nilai `F1 Score` cukup baik yaitu `0.587` dan nilai `AUC_ROC` juga cukup tinggi yaitu `0.862`. nilai ini lebih tinggi dibandingkan dengan model `decision tree`\n",
    "3. model `regresi logistik` mendapatkan nilai `F1 Score` yang tidak baik yaitu `0.0` dan nilai `AUC_ROC` rendahi yaitu `0.582`. sehingga model ini sangat tidak dianjurkan untuk dilanjutkan\n",
    "4. model `random forest` yang sudah di upsampling dan di downsampling dengan `n_estimators` : `41` dan kedalaman `10` dihasilkan nilai `F1 Score` yang baik yaitu `0.616` ini memenuhi syarat inimal nilai `f1` `0.59` dan nilai `AUC_ROC` juga lebih tinggi yaitu `0.864`. serta dibuktikan dengan nilai `precision` `0.538` dan `recall` `0.721`"
   ]
  },
  {
   "cell_type": "markdown",
   "metadata": {},
   "source": [
    "### Temuan<a id='end'></a>"
   ]
  },
  {
   "cell_type": "markdown",
   "metadata": {},
   "source": [
    "1. kolom masih berisikan dengan judul dengan huruf besar kecil sehingga harus diubah menjadi kecil semua\n",
    "2. kolom `tenure` berisikan tipe data yang salah dan banyak nilai hilang\n",
    "3. kolom `tenure` diisi dengan nilai rata-rata karena tidak memiliki outlier\n",
    "4. kolom yang berisi data kategorik bisa diselesaikan menggunakan OHE\n",
    "5. data pada kolom `exited` tidak seimbang sehingga diperlukan penanganan lanjutan\n",
    "6. perlu dilakukan skalasi fitur untuk kolom numeric `creditscore`, `age`, `balance`, dan `estimatedsalary` akan tetapi kolom `tenure` dan `numofproducts` tidak perlu diskalasi karena rentangnya tidak terlalu jauh\n",
    "7. untuk mengatasi ketidak seimbangan digunakan upsampling dan downsampling pada dataset dengan cara gandakan Kelas 1 sebanyak 2x dan reduksi 50% pada Kelas 0.\n"
   ]
  },
  {
   "cell_type": "markdown",
   "metadata": {},
   "source": [
    "### Rekomendasi<a id='recom'></a>"
   ]
  },
  {
   "cell_type": "markdown",
   "metadata": {},
   "source": [
    "1. Menggunakan Model Random Forest yang Sudah Di-upsampling dan Downsampling: Model ini memberikan keseimbangan yang baik antara precision dan recall, serta memiliki performa yang lebih baik dibandingkan model lainnya berdasarkan metrik evaluasi yang telah dihitung.\n",
    "2. Tuning Hyperparameters Lebih Lanjut: Untuk lebih meningkatkan performa, pertimbangkan untuk melakukan tuning hyperparameters lebih lanjut. Misalnya, coba berbagai nilai untuk n_estimators, max_depth, dan parameter lainnya menggunakan grid search atau random search.\n",
    "3. Cross-Validation: Lakukan cross-validation untuk memastikan bahwa hasil yang diperoleh konsisten dan model tidak overfitting pada validation set.\n",
    "4. Analisis Confusion Matrix: Gunakan confusion matrix untuk memahami lebih dalam tentang distribusi prediksi model (true positives, false positives, true negatives, false negatives) dan untuk mengidentifikasi area perbaikan lebih lanjut.\n",
    "5. Monitoring dan Pembaruan Berkala: Setelah model di-deploy, lakukan monitoring berkala terhadap performa model dan lakukan pembaruan data serta retraining model secara periodik untuk memastikan model tetap up-to-date dan relevan dengan perubahan pola data.\n",
    "\n",
    "Dengan rekomendasi ini, diharapkan model yang diterapkan dapat membantu bank mempertahankan nasabah dengan lebih baik, sekaligus memberikan informasi yang lebih akurat mengenai nasabah yang kemungkinan besar akan meninggalkan bank.\n",
    "\n",
    "Model Random Forest yang Sudah Di-upsampling dan Downsampling, model ini siap digunakan untuk memprediksi apakah seorang nasabah akan segera meninggalkan bank atau tidak, membantu bank untuk mempertahankan nasabah lama mereka yang setia."
   ]
  },
  {
   "cell_type": "markdown",
   "metadata": {},
   "source": [
    "[Kembali](#back)"
   ]
  },
  {
   "cell_type": "code",
   "execution_count": null,
   "metadata": {},
   "outputs": [],
   "source": []
  }
 ],
 "metadata": {
  "ExecuteTimeLog": [
   {
    "duration": 432,
    "start_time": "2024-06-03T03:09:19.520Z"
   },
   {
    "duration": 5673,
    "start_time": "2024-06-03T03:09:25.749Z"
   },
   {
    "duration": 133,
    "start_time": "2024-06-03T03:09:36.631Z"
   },
   {
    "duration": 16,
    "start_time": "2024-06-03T03:09:59.838Z"
   },
   {
    "duration": 5215,
    "start_time": "2024-06-03T03:50:01.428Z"
   },
   {
    "duration": 59,
    "start_time": "2024-06-03T03:50:14.634Z"
   },
   {
    "duration": 20,
    "start_time": "2024-06-03T03:50:26.916Z"
   },
   {
    "duration": 10,
    "start_time": "2024-06-03T03:50:56.644Z"
   },
   {
    "duration": 490,
    "start_time": "2024-06-03T03:51:28.305Z"
   },
   {
    "duration": 22,
    "start_time": "2024-06-03T03:51:33.014Z"
   },
   {
    "duration": 30,
    "start_time": "2024-06-03T03:53:52.171Z"
   },
   {
    "duration": 33,
    "start_time": "2024-06-03T03:55:54.011Z"
   },
   {
    "duration": 213,
    "start_time": "2024-06-03T03:56:06.313Z"
   },
   {
    "duration": 894,
    "start_time": "2024-06-03T04:00:55.615Z"
   },
   {
    "duration": 10,
    "start_time": "2024-06-03T04:01:19.675Z"
   },
   {
    "duration": 25,
    "start_time": "2024-06-03T04:02:56.283Z"
   },
   {
    "duration": 16,
    "start_time": "2024-06-03T04:03:02.495Z"
   },
   {
    "duration": 18,
    "start_time": "2024-06-03T04:03:23.289Z"
   },
   {
    "duration": 52,
    "start_time": "2024-06-03T04:04:50.225Z"
   },
   {
    "duration": 10,
    "start_time": "2024-06-03T04:05:03.973Z"
   },
   {
    "duration": 51,
    "start_time": "2024-06-03T04:05:03.989Z"
   },
   {
    "duration": 18,
    "start_time": "2024-06-03T04:05:04.044Z"
   },
   {
    "duration": 12,
    "start_time": "2024-06-03T04:05:04.066Z"
   },
   {
    "duration": 16,
    "start_time": "2024-06-03T04:05:04.112Z"
   },
   {
    "duration": 32,
    "start_time": "2024-06-03T04:05:04.131Z"
   },
   {
    "duration": 195,
    "start_time": "2024-06-03T04:05:04.167Z"
   },
   {
    "duration": 9,
    "start_time": "2024-06-03T04:05:04.364Z"
   },
   {
    "duration": 41,
    "start_time": "2024-06-03T04:05:04.376Z"
   },
   {
    "duration": 52,
    "start_time": "2024-06-03T04:05:04.420Z"
   },
   {
    "duration": 28,
    "start_time": "2024-06-03T04:11:33.415Z"
   },
   {
    "duration": 84,
    "start_time": "2024-06-03T04:12:17.895Z"
   },
   {
    "duration": 7,
    "start_time": "2024-06-03T04:12:26.885Z"
   },
   {
    "duration": 9,
    "start_time": "2024-06-03T04:14:03.782Z"
   },
   {
    "duration": 8,
    "start_time": "2024-06-03T04:14:39.364Z"
   },
   {
    "duration": 12,
    "start_time": "2024-06-03T04:15:10.344Z"
   },
   {
    "duration": 8,
    "start_time": "2024-06-03T04:15:47.536Z"
   },
   {
    "duration": 16,
    "start_time": "2024-06-03T04:18:48.595Z"
   },
   {
    "duration": 17,
    "start_time": "2024-06-03T04:18:54.727Z"
   },
   {
    "duration": 16,
    "start_time": "2024-06-03T04:19:05.184Z"
   },
   {
    "duration": 19,
    "start_time": "2024-06-03T04:19:18.746Z"
   },
   {
    "duration": 29,
    "start_time": "2024-06-03T04:22:02.997Z"
   },
   {
    "duration": 25,
    "start_time": "2024-06-03T04:24:48.660Z"
   },
   {
    "duration": 735,
    "start_time": "2024-06-03T04:24:57.054Z"
   },
   {
    "duration": 7,
    "start_time": "2024-06-03T04:25:08.354Z"
   },
   {
    "duration": 327,
    "start_time": "2024-06-04T01:07:11.560Z"
   },
   {
    "duration": 5274,
    "start_time": "2024-06-04T01:07:16.694Z"
   },
   {
    "duration": 64,
    "start_time": "2024-06-04T01:07:21.972Z"
   },
   {
    "duration": 25,
    "start_time": "2024-06-04T01:07:22.039Z"
   },
   {
    "duration": 10,
    "start_time": "2024-06-04T01:07:22.073Z"
   },
   {
    "duration": 44,
    "start_time": "2024-06-04T01:07:22.088Z"
   },
   {
    "duration": 31,
    "start_time": "2024-06-04T01:07:22.135Z"
   },
   {
    "duration": 210,
    "start_time": "2024-06-04T01:07:22.170Z"
   },
   {
    "duration": 10,
    "start_time": "2024-06-04T01:07:22.383Z"
   },
   {
    "duration": 48,
    "start_time": "2024-06-04T01:07:22.396Z"
   },
   {
    "duration": 52,
    "start_time": "2024-06-04T01:07:22.446Z"
   },
   {
    "duration": 30,
    "start_time": "2024-06-04T01:07:22.501Z"
   },
   {
    "duration": 21,
    "start_time": "2024-06-04T01:07:22.534Z"
   },
   {
    "duration": 25,
    "start_time": "2024-06-04T01:07:22.559Z"
   },
   {
    "duration": 46,
    "start_time": "2024-06-04T01:07:22.590Z"
   },
   {
    "duration": 10,
    "start_time": "2024-06-04T01:20:51.310Z"
   },
   {
    "duration": 9,
    "start_time": "2024-06-04T01:22:04.292Z"
   },
   {
    "duration": 19,
    "start_time": "2024-06-04T01:22:51.186Z"
   },
   {
    "duration": 18,
    "start_time": "2024-06-04T01:30:38.215Z"
   },
   {
    "duration": 9,
    "start_time": "2024-06-04T01:31:19.424Z"
   },
   {
    "duration": 43,
    "start_time": "2024-06-04T01:31:19.437Z"
   },
   {
    "duration": 17,
    "start_time": "2024-06-04T01:31:19.482Z"
   },
   {
    "duration": 11,
    "start_time": "2024-06-04T01:31:19.531Z"
   },
   {
    "duration": 15,
    "start_time": "2024-06-04T01:31:19.545Z"
   },
   {
    "duration": 69,
    "start_time": "2024-06-04T01:31:19.562Z"
   },
   {
    "duration": 168,
    "start_time": "2024-06-04T01:31:19.634Z"
   },
   {
    "duration": 24,
    "start_time": "2024-06-04T01:31:19.806Z"
   },
   {
    "duration": 17,
    "start_time": "2024-06-04T01:31:19.833Z"
   },
   {
    "duration": 49,
    "start_time": "2024-06-04T01:31:19.853Z"
   },
   {
    "duration": 34,
    "start_time": "2024-06-04T01:31:19.904Z"
   },
   {
    "duration": 19,
    "start_time": "2024-06-04T01:31:19.941Z"
   },
   {
    "duration": 23,
    "start_time": "2024-06-04T01:31:19.963Z"
   },
   {
    "duration": 44,
    "start_time": "2024-06-04T01:31:19.990Z"
   },
   {
    "duration": 22,
    "start_time": "2024-06-04T01:31:20.037Z"
   },
   {
    "duration": 173,
    "start_time": "2024-06-04T01:31:20.063Z"
   },
   {
    "duration": 9,
    "start_time": "2024-06-04T01:31:31.760Z"
   },
   {
    "duration": 56,
    "start_time": "2024-06-04T01:31:31.773Z"
   },
   {
    "duration": 16,
    "start_time": "2024-06-04T01:31:31.832Z"
   },
   {
    "duration": 10,
    "start_time": "2024-06-04T01:31:31.852Z"
   },
   {
    "duration": 15,
    "start_time": "2024-06-04T01:31:31.865Z"
   },
   {
    "duration": 74,
    "start_time": "2024-06-04T01:31:31.883Z"
   },
   {
    "duration": 200,
    "start_time": "2024-06-04T01:31:31.960Z"
   },
   {
    "duration": 10,
    "start_time": "2024-06-04T01:31:32.163Z"
   },
   {
    "duration": 20,
    "start_time": "2024-06-04T01:31:32.177Z"
   },
   {
    "duration": 49,
    "start_time": "2024-06-04T01:31:32.234Z"
   },
   {
    "duration": 10,
    "start_time": "2024-06-04T01:31:32.285Z"
   },
   {
    "duration": 43,
    "start_time": "2024-06-04T01:31:32.298Z"
   },
   {
    "duration": 24,
    "start_time": "2024-06-04T01:31:32.344Z"
   },
   {
    "duration": 8,
    "start_time": "2024-06-04T01:31:32.371Z"
   },
   {
    "duration": 62,
    "start_time": "2024-06-04T01:31:32.382Z"
   },
   {
    "duration": 10,
    "start_time": "2024-06-04T01:41:21.931Z"
   },
   {
    "duration": 13,
    "start_time": "2024-06-04T01:43:38.721Z"
   },
   {
    "duration": 204,
    "start_time": "2024-06-04T01:44:32.294Z"
   },
   {
    "duration": 758,
    "start_time": "2024-06-04T01:48:52.496Z"
   },
   {
    "duration": 31,
    "start_time": "2024-06-04T01:50:46.973Z"
   },
   {
    "duration": 583,
    "start_time": "2024-06-04T01:54:24.553Z"
   },
   {
    "duration": 118,
    "start_time": "2024-06-04T01:54:35.486Z"
   },
   {
    "duration": 6,
    "start_time": "2024-06-04T01:54:46.614Z"
   },
   {
    "duration": 7,
    "start_time": "2024-06-04T01:54:55.162Z"
   },
   {
    "duration": 39,
    "start_time": "2024-06-04T02:00:50.174Z"
   },
   {
    "duration": 9,
    "start_time": "2024-06-04T02:07:04.010Z"
   },
   {
    "duration": 43,
    "start_time": "2024-06-04T02:07:04.023Z"
   },
   {
    "duration": 17,
    "start_time": "2024-06-04T02:07:04.070Z"
   },
   {
    "duration": 42,
    "start_time": "2024-06-04T02:07:04.090Z"
   },
   {
    "duration": 42,
    "start_time": "2024-06-04T02:07:04.140Z"
   },
   {
    "duration": 45,
    "start_time": "2024-06-04T02:07:04.192Z"
   },
   {
    "duration": 235,
    "start_time": "2024-06-04T02:07:04.241Z"
   },
   {
    "duration": 11,
    "start_time": "2024-06-04T02:07:04.480Z"
   },
   {
    "duration": 42,
    "start_time": "2024-06-04T02:07:04.494Z"
   },
   {
    "duration": 108,
    "start_time": "2024-06-04T02:07:04.541Z"
   },
   {
    "duration": 24,
    "start_time": "2024-06-04T02:07:04.656Z"
   },
   {
    "duration": 50,
    "start_time": "2024-06-04T02:07:04.684Z"
   },
   {
    "duration": 24,
    "start_time": "2024-06-04T02:07:04.738Z"
   },
   {
    "duration": 9,
    "start_time": "2024-06-04T02:07:04.766Z"
   },
   {
    "duration": 62,
    "start_time": "2024-06-04T02:07:04.780Z"
   },
   {
    "duration": 237,
    "start_time": "2024-06-04T02:07:04.846Z"
   },
   {
    "duration": 7,
    "start_time": "2024-06-04T02:07:05.087Z"
   },
   {
    "duration": 54,
    "start_time": "2024-06-04T02:07:05.097Z"
   },
   {
    "duration": 5256,
    "start_time": "2024-06-04T05:29:37.304Z"
   },
   {
    "duration": 60,
    "start_time": "2024-06-04T05:29:42.563Z"
   },
   {
    "duration": 20,
    "start_time": "2024-06-04T05:29:42.626Z"
   },
   {
    "duration": 11,
    "start_time": "2024-06-04T05:29:42.649Z"
   },
   {
    "duration": 14,
    "start_time": "2024-06-04T05:29:42.664Z"
   },
   {
    "duration": 62,
    "start_time": "2024-06-04T05:29:42.681Z"
   },
   {
    "duration": 188,
    "start_time": "2024-06-04T05:29:42.746Z"
   },
   {
    "duration": 10,
    "start_time": "2024-06-04T05:29:42.937Z"
   },
   {
    "duration": 17,
    "start_time": "2024-06-04T05:29:42.952Z"
   },
   {
    "duration": 81,
    "start_time": "2024-06-04T05:29:42.972Z"
   },
   {
    "duration": 9,
    "start_time": "2024-06-04T05:29:43.056Z"
   },
   {
    "duration": 19,
    "start_time": "2024-06-04T05:29:43.068Z"
   },
   {
    "duration": 52,
    "start_time": "2024-06-04T05:29:43.090Z"
   },
   {
    "duration": 6,
    "start_time": "2024-06-04T05:29:43.149Z"
   },
   {
    "duration": 13,
    "start_time": "2024-06-04T05:29:43.159Z"
   },
   {
    "duration": 241,
    "start_time": "2024-06-04T05:29:43.175Z"
   },
   {
    "duration": 15,
    "start_time": "2024-06-04T05:29:43.420Z"
   },
   {
    "duration": 31,
    "start_time": "2024-06-04T05:29:43.439Z"
   },
   {
    "duration": 510,
    "start_time": "2024-06-04T05:31:22.102Z"
   },
   {
    "duration": 42,
    "start_time": "2024-06-04T05:32:17.863Z"
   },
   {
    "duration": 45,
    "start_time": "2024-06-04T05:32:50.166Z"
   },
   {
    "duration": 34,
    "start_time": "2024-06-04T05:40:12.650Z"
   },
   {
    "duration": 14,
    "start_time": "2024-06-04T05:40:33.835Z"
   },
   {
    "duration": 176,
    "start_time": "2024-06-04T05:41:06.524Z"
   },
   {
    "duration": 31,
    "start_time": "2024-06-04T05:41:13.386Z"
   },
   {
    "duration": 3073,
    "start_time": "2024-06-04T05:41:17.160Z"
   },
   {
    "duration": 26,
    "start_time": "2024-06-04T05:41:25.678Z"
   },
   {
    "duration": 3063,
    "start_time": "2024-06-04T05:41:56.826Z"
   },
   {
    "duration": 34,
    "start_time": "2024-06-04T05:42:41.626Z"
   },
   {
    "duration": 135,
    "start_time": "2024-06-04T05:51:45.407Z"
   },
   {
    "duration": 9,
    "start_time": "2024-06-04T05:52:35.209Z"
   },
   {
    "duration": 9,
    "start_time": "2024-06-04T05:54:22.454Z"
   },
   {
    "duration": 79,
    "start_time": "2024-06-04T05:54:33.954Z"
   },
   {
    "duration": 67,
    "start_time": "2024-06-04T05:55:08.466Z"
   },
   {
    "duration": 86,
    "start_time": "2024-06-04T05:55:32.847Z"
   },
   {
    "duration": 59,
    "start_time": "2024-06-04T05:55:38.874Z"
   },
   {
    "duration": 25,
    "start_time": "2024-06-04T06:03:58.569Z"
   },
   {
    "duration": 323,
    "start_time": "2024-06-05T05:44:56.968Z"
   },
   {
    "duration": 5515,
    "start_time": "2024-06-05T05:45:02.357Z"
   },
   {
    "duration": 62,
    "start_time": "2024-06-05T05:45:07.876Z"
   },
   {
    "duration": 21,
    "start_time": "2024-06-05T05:45:07.942Z"
   },
   {
    "duration": 34,
    "start_time": "2024-06-05T05:45:07.967Z"
   },
   {
    "duration": 18,
    "start_time": "2024-06-05T05:45:08.007Z"
   },
   {
    "duration": 38,
    "start_time": "2024-06-05T05:45:08.028Z"
   },
   {
    "duration": 270,
    "start_time": "2024-06-05T05:45:08.070Z"
   },
   {
    "duration": 13,
    "start_time": "2024-06-05T05:45:08.347Z"
   },
   {
    "duration": 38,
    "start_time": "2024-06-05T05:45:08.364Z"
   },
   {
    "duration": 52,
    "start_time": "2024-06-05T05:45:08.405Z"
   },
   {
    "duration": 10,
    "start_time": "2024-06-05T05:45:08.461Z"
   },
   {
    "duration": 20,
    "start_time": "2024-06-05T05:45:08.502Z"
   },
   {
    "duration": 29,
    "start_time": "2024-06-05T05:45:08.526Z"
   },
   {
    "duration": 41,
    "start_time": "2024-06-05T05:45:08.562Z"
   },
   {
    "duration": 15,
    "start_time": "2024-06-05T05:45:08.606Z"
   },
   {
    "duration": 236,
    "start_time": "2024-06-05T05:45:08.624Z"
   },
   {
    "duration": 10,
    "start_time": "2024-06-05T05:45:08.863Z"
   },
   {
    "duration": 56,
    "start_time": "2024-06-05T05:45:08.876Z"
   },
   {
    "duration": 100,
    "start_time": "2024-06-05T05:45:08.935Z"
   },
   {
    "duration": 295,
    "start_time": "2024-06-05T05:45:09.038Z"
   },
   {
    "duration": 98,
    "start_time": "2024-06-05T05:45:09.406Z"
   },
   {
    "duration": 51,
    "start_time": "2024-06-05T05:46:01.806Z"
   },
   {
    "duration": 189,
    "start_time": "2024-06-05T05:48:19.079Z"
   },
   {
    "duration": 40,
    "start_time": "2024-06-05T05:48:56.603Z"
   },
   {
    "duration": 12,
    "start_time": "2024-06-05T05:49:41.562Z"
   },
   {
    "duration": 10,
    "start_time": "2024-06-05T05:50:59.050Z"
   },
   {
    "duration": 24,
    "start_time": "2024-06-05T05:51:48.201Z"
   },
   {
    "duration": 28,
    "start_time": "2024-06-05T05:52:02.066Z"
   },
   {
    "duration": 27,
    "start_time": "2024-06-05T05:53:30.679Z"
   },
   {
    "duration": 25,
    "start_time": "2024-06-05T05:55:18.062Z"
   },
   {
    "duration": 2530,
    "start_time": "2024-06-05T05:55:52.219Z"
   },
   {
    "duration": 6468,
    "start_time": "2024-06-05T11:00:43.216Z"
   },
   {
    "duration": 84,
    "start_time": "2024-06-05T11:00:49.688Z"
   },
   {
    "duration": 22,
    "start_time": "2024-06-05T11:00:49.775Z"
   },
   {
    "duration": 24,
    "start_time": "2024-06-05T11:00:49.801Z"
   },
   {
    "duration": 25,
    "start_time": "2024-06-05T11:00:49.830Z"
   },
   {
    "duration": 67,
    "start_time": "2024-06-05T11:00:49.859Z"
   },
   {
    "duration": 221,
    "start_time": "2024-06-05T11:00:49.931Z"
   },
   {
    "duration": 11,
    "start_time": "2024-06-05T11:00:50.155Z"
   },
   {
    "duration": 37,
    "start_time": "2024-06-05T11:00:50.171Z"
   },
   {
    "duration": 57,
    "start_time": "2024-06-05T11:00:50.215Z"
   },
   {
    "duration": 32,
    "start_time": "2024-06-05T11:00:50.278Z"
   },
   {
    "duration": 24,
    "start_time": "2024-06-05T11:00:50.313Z"
   },
   {
    "duration": 29,
    "start_time": "2024-06-05T11:00:50.342Z"
   },
   {
    "duration": 7,
    "start_time": "2024-06-05T11:00:50.402Z"
   },
   {
    "duration": 17,
    "start_time": "2024-06-05T11:00:50.413Z"
   },
   {
    "duration": 256,
    "start_time": "2024-06-05T11:00:50.435Z"
   },
   {
    "duration": 10,
    "start_time": "2024-06-05T11:00:50.702Z"
   },
   {
    "duration": 51,
    "start_time": "2024-06-05T11:00:50.722Z"
   },
   {
    "duration": 140,
    "start_time": "2024-06-05T11:00:50.777Z"
   },
   {
    "duration": 25,
    "start_time": "2024-06-05T11:00:50.925Z"
   },
   {
    "duration": 24,
    "start_time": "2024-06-05T11:00:50.957Z"
   },
   {
    "duration": 47,
    "start_time": "2024-06-05T11:00:51.009Z"
   },
   {
    "duration": 2975,
    "start_time": "2024-06-05T11:00:51.060Z"
   },
   {
    "duration": 74,
    "start_time": "2024-06-05T11:05:49.873Z"
   },
   {
    "duration": 265,
    "start_time": "2024-06-05T11:06:33.611Z"
   },
   {
    "duration": 24,
    "start_time": "2024-06-05T11:07:53.146Z"
   },
   {
    "duration": 22,
    "start_time": "2024-06-05T11:08:44.289Z"
   },
   {
    "duration": 9,
    "start_time": "2024-06-05T11:08:57.032Z"
   },
   {
    "duration": 32,
    "start_time": "2024-06-05T11:13:56.212Z"
   },
   {
    "duration": 280,
    "start_time": "2024-06-05T11:17:04.234Z"
   },
   {
    "duration": 35,
    "start_time": "2024-06-05T11:18:59.086Z"
   },
   {
    "duration": 88,
    "start_time": "2024-06-05T11:19:58.614Z"
   },
   {
    "duration": 201,
    "start_time": "2024-06-05T11:21:40.011Z"
   },
   {
    "duration": 436,
    "start_time": "2024-06-05T11:22:25.887Z"
   },
   {
    "duration": 369,
    "start_time": "2024-06-05T11:24:44.812Z"
   },
   {
    "duration": 10,
    "start_time": "2024-06-05T11:30:52.419Z"
   },
   {
    "duration": 3295,
    "start_time": "2024-06-05T12:02:33.979Z"
   },
   {
    "duration": 32005,
    "start_time": "2024-06-05T12:05:31.844Z"
   },
   {
    "duration": 42,
    "start_time": "2024-06-05T12:07:16.257Z"
   },
   {
    "duration": 3230,
    "start_time": "2024-06-05T12:09:36.320Z"
   },
   {
    "duration": 32053,
    "start_time": "2024-06-05T12:09:47.504Z"
   },
   {
    "duration": 73,
    "start_time": "2024-06-05T12:10:19.562Z"
   },
   {
    "duration": 518,
    "start_time": "2024-06-05T12:13:05.988Z"
   },
   {
    "duration": 6,
    "start_time": "2024-06-05T12:13:08.076Z"
   },
   {
    "duration": 23,
    "start_time": "2024-06-05T12:13:10.360Z"
   },
   {
    "duration": 197,
    "start_time": "2024-06-05T12:13:51.268Z"
   },
   {
    "duration": 30654,
    "start_time": "2024-06-05T12:29:32.579Z"
   },
   {
    "duration": 75,
    "start_time": "2024-06-05T12:30:03.236Z"
   },
   {
    "duration": 34,
    "start_time": "2024-06-05T12:54:41.686Z"
   },
   {
    "duration": 404,
    "start_time": "2024-06-05T12:55:15.189Z"
   },
   {
    "duration": 71,
    "start_time": "2024-06-05T12:56:55.286Z"
   },
   {
    "duration": 8,
    "start_time": "2024-06-05T13:00:29.982Z"
   },
   {
    "duration": 44,
    "start_time": "2024-06-05T13:00:29.994Z"
   },
   {
    "duration": 17,
    "start_time": "2024-06-05T13:00:30.041Z"
   },
   {
    "duration": 43,
    "start_time": "2024-06-05T13:00:30.063Z"
   },
   {
    "duration": 18,
    "start_time": "2024-06-05T13:00:30.109Z"
   },
   {
    "duration": 32,
    "start_time": "2024-06-05T13:00:30.130Z"
   },
   {
    "duration": 213,
    "start_time": "2024-06-05T13:00:30.165Z"
   },
   {
    "duration": 21,
    "start_time": "2024-06-05T13:00:30.382Z"
   },
   {
    "duration": 21,
    "start_time": "2024-06-05T13:00:30.406Z"
   },
   {
    "duration": 77,
    "start_time": "2024-06-05T13:00:30.433Z"
   },
   {
    "duration": 15,
    "start_time": "2024-06-05T13:00:30.513Z"
   },
   {
    "duration": 24,
    "start_time": "2024-06-05T13:00:30.531Z"
   },
   {
    "duration": 64,
    "start_time": "2024-06-05T13:00:30.559Z"
   },
   {
    "duration": 9,
    "start_time": "2024-06-05T13:00:30.626Z"
   },
   {
    "duration": 15,
    "start_time": "2024-06-05T13:00:30.640Z"
   },
   {
    "duration": 248,
    "start_time": "2024-06-05T13:00:30.659Z"
   },
   {
    "duration": 6,
    "start_time": "2024-06-05T13:00:30.910Z"
   },
   {
    "duration": 32,
    "start_time": "2024-06-05T13:00:30.920Z"
   },
   {
    "duration": 3224,
    "start_time": "2024-06-05T13:00:30.956Z"
   },
   {
    "duration": 33327,
    "start_time": "2024-06-05T13:00:34.184Z"
   },
   {
    "duration": 38,
    "start_time": "2024-06-05T13:01:07.514Z"
   },
   {
    "duration": 59,
    "start_time": "2024-06-05T13:01:07.558Z"
   },
   {
    "duration": 83,
    "start_time": "2024-06-05T13:01:07.620Z"
   },
   {
    "duration": 377,
    "start_time": "2024-06-05T13:01:07.708Z"
   },
   {
    "duration": 64,
    "start_time": "2024-06-05T13:01:08.092Z"
   },
   {
    "duration": 9,
    "start_time": "2024-06-05T13:21:38.837Z"
   },
   {
    "duration": 45,
    "start_time": "2024-06-05T13:21:38.850Z"
   },
   {
    "duration": 19,
    "start_time": "2024-06-05T13:21:38.899Z"
   },
   {
    "duration": 11,
    "start_time": "2024-06-05T13:21:38.923Z"
   },
   {
    "duration": 18,
    "start_time": "2024-06-05T13:21:38.937Z"
   },
   {
    "duration": 72,
    "start_time": "2024-06-05T13:21:38.959Z"
   },
   {
    "duration": 188,
    "start_time": "2024-06-05T13:21:39.034Z"
   },
   {
    "duration": 9,
    "start_time": "2024-06-05T13:21:39.225Z"
   },
   {
    "duration": 18,
    "start_time": "2024-06-05T13:21:39.238Z"
   },
   {
    "duration": 83,
    "start_time": "2024-06-05T13:21:39.263Z"
   },
   {
    "duration": 10,
    "start_time": "2024-06-05T13:21:39.349Z"
   },
   {
    "duration": 47,
    "start_time": "2024-06-05T13:21:39.363Z"
   },
   {
    "duration": 24,
    "start_time": "2024-06-05T13:21:39.413Z"
   },
   {
    "duration": 9,
    "start_time": "2024-06-05T13:21:39.440Z"
   },
   {
    "duration": 54,
    "start_time": "2024-06-05T13:21:39.453Z"
   },
   {
    "duration": 190,
    "start_time": "2024-06-05T13:21:39.511Z"
   },
   {
    "duration": 8,
    "start_time": "2024-06-05T13:21:39.704Z"
   },
   {
    "duration": 31,
    "start_time": "2024-06-05T13:21:39.715Z"
   },
   {
    "duration": 3124,
    "start_time": "2024-06-05T13:21:39.750Z"
   },
   {
    "duration": 30743,
    "start_time": "2024-06-05T13:21:42.877Z"
   },
   {
    "duration": 80,
    "start_time": "2024-06-05T13:22:13.623Z"
   },
   {
    "duration": 11,
    "start_time": "2024-06-05T13:22:13.707Z"
   },
   {
    "duration": 95,
    "start_time": "2024-06-05T13:22:13.721Z"
   },
   {
    "duration": 348,
    "start_time": "2024-06-05T13:22:13.819Z"
   },
   {
    "duration": 68,
    "start_time": "2024-06-05T13:22:14.171Z"
   }
  ],
  "kernelspec": {
   "display_name": "Python 3 (ipykernel)",
   "language": "python",
   "name": "python3"
  },
  "language_info": {
   "codemirror_mode": {
    "name": "ipython",
    "version": 3
   },
   "file_extension": ".py",
   "mimetype": "text/x-python",
   "name": "python",
   "nbconvert_exporter": "python",
   "pygments_lexer": "ipython3",
   "version": "3.9.19"
  },
  "toc": {
   "base_numbering": 1,
   "nav_menu": {},
   "number_sections": true,
   "sideBar": true,
   "skip_h1_title": true,
   "title_cell": "Table of Contents",
   "title_sidebar": "Contents",
   "toc_cell": false,
   "toc_position": {},
   "toc_section_display": true,
   "toc_window_display": false
  }
 },
 "nbformat": 4,
 "nbformat_minor": 2
}
