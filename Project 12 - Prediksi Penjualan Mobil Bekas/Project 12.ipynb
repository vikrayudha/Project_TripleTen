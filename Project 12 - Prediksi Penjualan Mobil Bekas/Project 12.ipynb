{
 "cells": [
  {
   "cell_type": "markdown",
   "metadata": {},
   "source": [
    "# Prediksi penjualan Perusahaan Rusty Bargain"
   ]
  },
  {
   "cell_type": "markdown",
   "metadata": {},
   "source": [
    "Rusty Bargain adalah perusahaan jual beli mobil bekas yang sedang mengembangkan sebuah aplikasi untuk menarik pembeli baru. Dalam aplikasi tersebut, kamu bisa dengan cepat mengetahui nilai pasar mobilmu. Kamu memiliki akses ke data historis, spesifikasi teknis kendaraan, versi model kendaraan, dan harga kendaraan. Tugasmu adalah membuat suatu model yang mampu menentukan nilai pasar mobil.\n",
    "Rusty Bargain tertarik pada:\n",
    "\n",
    "- kualitas prediksi;\n",
    "- kecepatan model dalam memprediksi;\n",
    "- waktu yang diperlukan untuk melatih model"
   ]
  },
  {
   "cell_type": "markdown",
   "metadata": {},
   "source": [
    "## Persiapan Data"
   ]
  },
  {
   "cell_type": "markdown",
   "metadata": {},
   "source": [
    "### Memasukkan modul library yang dibutuhkan"
   ]
  },
  {
   "cell_type": "code",
   "execution_count": 1,
   "metadata": {
    "scrolled": true
   },
   "outputs": [
    {
     "name": "stderr",
     "output_type": "stream",
     "text": [
      "Matplotlib is building the font cache; this may take a moment.\n"
     ]
    }
   ],
   "source": [
    "# Import libraries\n",
    "import pandas as pd\n",
    "import numpy as np\n",
    "import time\n",
    "import matplotlib.pyplot as plt\n",
    "import seaborn as sns\n",
    "\n",
    "# Sklearn utilities\n",
    "from sklearn.compose import ColumnTransformer\n",
    "from sklearn.pipeline import Pipeline\n",
    "from sklearn.impute import SimpleImputer\n",
    "from sklearn.preprocessing import StandardScaler, MinMaxScaler, OneHotEncoder, OrdinalEncoder, RobustScaler\n",
    "from sklearn.model_selection import train_test_split, GridSearchCV, cross_val_score, RandomizedSearchCV, KFold\n",
    "from sklearn.linear_model import LinearRegression, LogisticRegression\n",
    "from sklearn.ensemble import RandomForestRegressor, GradientBoostingRegressor, GradientBoostingClassifier, RandomForestClassifier\n",
    "from sklearn.tree import DecisionTreeRegressor, DecisionTreeClassifier\n",
    "from sklearn.metrics import mean_squared_error, r2_score, mean_absolute_error, confusion_matrix, precision_score, recall_score, f1_score, roc_curve, roc_auc_score, precision_recall_curve, make_scorer\n",
    "from sklearn.compose import TransformedTargetRegressor\n",
    "\n",
    "# Additional libraries\n",
    "from xgboost import XGBRegressor\n",
    "import lightgbm as lgb\n",
    "from catboost import CatBoostRegressor, CatBoostClassifier, Pool, cv\n",
    "\n",
    "# Visualization\n",
    "sns.set_theme(palette='bright')\n"
   ]
  },
  {
   "cell_type": "markdown",
   "metadata": {},
   "source": [
    "### Menyimpan dan memeriksa data"
   ]
  },
  {
   "cell_type": "code",
   "execution_count": 2,
   "metadata": {},
   "outputs": [
    {
     "data": {
      "text/html": [
       "<div>\n",
       "<style scoped>\n",
       "    .dataframe tbody tr th:only-of-type {\n",
       "        vertical-align: middle;\n",
       "    }\n",
       "\n",
       "    .dataframe tbody tr th {\n",
       "        vertical-align: top;\n",
       "    }\n",
       "\n",
       "    .dataframe thead th {\n",
       "        text-align: right;\n",
       "    }\n",
       "</style>\n",
       "<table border=\"1\" class=\"dataframe\">\n",
       "  <thead>\n",
       "    <tr style=\"text-align: right;\">\n",
       "      <th></th>\n",
       "      <th>DateCrawled</th>\n",
       "      <th>Price</th>\n",
       "      <th>VehicleType</th>\n",
       "      <th>RegistrationYear</th>\n",
       "      <th>Gearbox</th>\n",
       "      <th>Power</th>\n",
       "      <th>Model</th>\n",
       "      <th>Mileage</th>\n",
       "      <th>RegistrationMonth</th>\n",
       "      <th>FuelType</th>\n",
       "      <th>Brand</th>\n",
       "      <th>NotRepaired</th>\n",
       "      <th>DateCreated</th>\n",
       "      <th>NumberOfPictures</th>\n",
       "      <th>PostalCode</th>\n",
       "      <th>LastSeen</th>\n",
       "    </tr>\n",
       "  </thead>\n",
       "  <tbody>\n",
       "    <tr>\n",
       "      <th>0</th>\n",
       "      <td>24/03/2016 11:52</td>\n",
       "      <td>480</td>\n",
       "      <td>NaN</td>\n",
       "      <td>1993</td>\n",
       "      <td>manual</td>\n",
       "      <td>0</td>\n",
       "      <td>golf</td>\n",
       "      <td>150000</td>\n",
       "      <td>0</td>\n",
       "      <td>petrol</td>\n",
       "      <td>volkswagen</td>\n",
       "      <td>NaN</td>\n",
       "      <td>24/03/2016 00:00</td>\n",
       "      <td>0</td>\n",
       "      <td>70435</td>\n",
       "      <td>07/04/2016 03:16</td>\n",
       "    </tr>\n",
       "    <tr>\n",
       "      <th>1</th>\n",
       "      <td>24/03/2016 10:58</td>\n",
       "      <td>18300</td>\n",
       "      <td>coupe</td>\n",
       "      <td>2011</td>\n",
       "      <td>manual</td>\n",
       "      <td>190</td>\n",
       "      <td>NaN</td>\n",
       "      <td>125000</td>\n",
       "      <td>5</td>\n",
       "      <td>gasoline</td>\n",
       "      <td>audi</td>\n",
       "      <td>yes</td>\n",
       "      <td>24/03/2016 00:00</td>\n",
       "      <td>0</td>\n",
       "      <td>66954</td>\n",
       "      <td>07/04/2016 01:46</td>\n",
       "    </tr>\n",
       "    <tr>\n",
       "      <th>2</th>\n",
       "      <td>14/03/2016 12:52</td>\n",
       "      <td>9800</td>\n",
       "      <td>suv</td>\n",
       "      <td>2004</td>\n",
       "      <td>auto</td>\n",
       "      <td>163</td>\n",
       "      <td>grand</td>\n",
       "      <td>125000</td>\n",
       "      <td>8</td>\n",
       "      <td>gasoline</td>\n",
       "      <td>jeep</td>\n",
       "      <td>NaN</td>\n",
       "      <td>14/03/2016 00:00</td>\n",
       "      <td>0</td>\n",
       "      <td>90480</td>\n",
       "      <td>05/04/2016 12:47</td>\n",
       "    </tr>\n",
       "    <tr>\n",
       "      <th>3</th>\n",
       "      <td>17/03/2016 16:54</td>\n",
       "      <td>1500</td>\n",
       "      <td>small</td>\n",
       "      <td>2001</td>\n",
       "      <td>manual</td>\n",
       "      <td>75</td>\n",
       "      <td>golf</td>\n",
       "      <td>150000</td>\n",
       "      <td>6</td>\n",
       "      <td>petrol</td>\n",
       "      <td>volkswagen</td>\n",
       "      <td>no</td>\n",
       "      <td>17/03/2016 00:00</td>\n",
       "      <td>0</td>\n",
       "      <td>91074</td>\n",
       "      <td>17/03/2016 17:40</td>\n",
       "    </tr>\n",
       "    <tr>\n",
       "      <th>4</th>\n",
       "      <td>31/03/2016 17:25</td>\n",
       "      <td>3600</td>\n",
       "      <td>small</td>\n",
       "      <td>2008</td>\n",
       "      <td>manual</td>\n",
       "      <td>69</td>\n",
       "      <td>fabia</td>\n",
       "      <td>90000</td>\n",
       "      <td>7</td>\n",
       "      <td>gasoline</td>\n",
       "      <td>skoda</td>\n",
       "      <td>no</td>\n",
       "      <td>31/03/2016 00:00</td>\n",
       "      <td>0</td>\n",
       "      <td>60437</td>\n",
       "      <td>06/04/2016 10:17</td>\n",
       "    </tr>\n",
       "  </tbody>\n",
       "</table>\n",
       "</div>"
      ],
      "text/plain": [
       "        DateCrawled  Price VehicleType  RegistrationYear Gearbox  Power  \\\n",
       "0  24/03/2016 11:52    480         NaN              1993  manual      0   \n",
       "1  24/03/2016 10:58  18300       coupe              2011  manual    190   \n",
       "2  14/03/2016 12:52   9800         suv              2004    auto    163   \n",
       "3  17/03/2016 16:54   1500       small              2001  manual     75   \n",
       "4  31/03/2016 17:25   3600       small              2008  manual     69   \n",
       "\n",
       "   Model  Mileage  RegistrationMonth  FuelType       Brand NotRepaired  \\\n",
       "0   golf   150000                  0    petrol  volkswagen         NaN   \n",
       "1    NaN   125000                  5  gasoline        audi         yes   \n",
       "2  grand   125000                  8  gasoline        jeep         NaN   \n",
       "3   golf   150000                  6    petrol  volkswagen          no   \n",
       "4  fabia    90000                  7  gasoline       skoda          no   \n",
       "\n",
       "        DateCreated  NumberOfPictures  PostalCode          LastSeen  \n",
       "0  24/03/2016 00:00                 0       70435  07/04/2016 03:16  \n",
       "1  24/03/2016 00:00                 0       66954  07/04/2016 01:46  \n",
       "2  14/03/2016 00:00                 0       90480  05/04/2016 12:47  \n",
       "3  17/03/2016 00:00                 0       91074  17/03/2016 17:40  \n",
       "4  31/03/2016 00:00                 0       60437  06/04/2016 10:17  "
      ]
     },
     "execution_count": 2,
     "metadata": {},
     "output_type": "execute_result"
    }
   ],
   "source": [
    "# Mengunduh dan memeriksa data\n",
    "car_data = pd.read_csv('/datasets/car_data.csv')\n",
    "\n",
    "# menampilkan data\n",
    "car_data.head()"
   ]
  },
  {
   "cell_type": "code",
   "execution_count": 3,
   "metadata": {},
   "outputs": [
    {
     "name": "stdout",
     "output_type": "stream",
     "text": [
      "<class 'pandas.core.frame.DataFrame'>\n",
      "RangeIndex: 354369 entries, 0 to 354368\n",
      "Data columns (total 16 columns):\n",
      " #   Column             Non-Null Count   Dtype \n",
      "---  ------             --------------   ----- \n",
      " 0   DateCrawled        354369 non-null  object\n",
      " 1   Price              354369 non-null  int64 \n",
      " 2   VehicleType        316879 non-null  object\n",
      " 3   RegistrationYear   354369 non-null  int64 \n",
      " 4   Gearbox            334536 non-null  object\n",
      " 5   Power              354369 non-null  int64 \n",
      " 6   Model              334664 non-null  object\n",
      " 7   Mileage            354369 non-null  int64 \n",
      " 8   RegistrationMonth  354369 non-null  int64 \n",
      " 9   FuelType           321474 non-null  object\n",
      " 10  Brand              354369 non-null  object\n",
      " 11  NotRepaired        283215 non-null  object\n",
      " 12  DateCreated        354369 non-null  object\n",
      " 13  NumberOfPictures   354369 non-null  int64 \n",
      " 14  PostalCode         354369 non-null  int64 \n",
      " 15  LastSeen           354369 non-null  object\n",
      "dtypes: int64(7), object(9)\n",
      "memory usage: 43.3+ MB\n"
     ]
    }
   ],
   "source": [
    "#memeriksa informasi\n",
    "car_data.info()"
   ]
  },
  {
   "cell_type": "markdown",
   "metadata": {},
   "source": [
    "terlihat bahwa dataset berisikan `16` kolom dengan `354368` entry data, kolom memiliki judul kolom yang besar kecil sehingga harus ditangani terlebih dahulu, terdapat beberapa tipe data yang salah pada kolom `DateCrawled`, `DateCreated` dan `LastSeen` yang seharusnya dengan tipe data `datetime`. terlihat ada beberapa kolom yang memiliki nilai yang hilang."
   ]
  },
  {
   "cell_type": "markdown",
   "metadata": {},
   "source": [
    "### Mengubah judul kolom dan tipe data"
   ]
  },
  {
   "cell_type": "code",
   "execution_count": 4,
   "metadata": {},
   "outputs": [],
   "source": [
    "#mengubah kolom menjadi kecil semua\n",
    "car_data.columns = car_data.columns.str.lower()"
   ]
  },
  {
   "cell_type": "code",
   "execution_count": 5,
   "metadata": {},
   "outputs": [],
   "source": [
    "# mengubah tipe data tanggal menjadi datetime\n",
    "car_data['datecrawled'] = pd.to_datetime(car_data['datecrawled'], format='%d/%m/%Y %H:%M')\n",
    "car_data['datecreated'] = pd.to_datetime(car_data['datecreated'], format='%d/%m/%Y %H:%M')\n",
    "car_data['lastseen'] = pd.to_datetime(car_data['lastseen'], format='%d/%m/%Y %H:%M')"
   ]
  },
  {
   "cell_type": "code",
   "execution_count": 6,
   "metadata": {},
   "outputs": [
    {
     "name": "stdout",
     "output_type": "stream",
     "text": [
      "<class 'pandas.core.frame.DataFrame'>\n",
      "RangeIndex: 354369 entries, 0 to 354368\n",
      "Data columns (total 16 columns):\n",
      " #   Column             Non-Null Count   Dtype         \n",
      "---  ------             --------------   -----         \n",
      " 0   datecrawled        354369 non-null  datetime64[ns]\n",
      " 1   price              354369 non-null  int64         \n",
      " 2   vehicletype        316879 non-null  object        \n",
      " 3   registrationyear   354369 non-null  int64         \n",
      " 4   gearbox            334536 non-null  object        \n",
      " 5   power              354369 non-null  int64         \n",
      " 6   model              334664 non-null  object        \n",
      " 7   mileage            354369 non-null  int64         \n",
      " 8   registrationmonth  354369 non-null  int64         \n",
      " 9   fueltype           321474 non-null  object        \n",
      " 10  brand              354369 non-null  object        \n",
      " 11  notrepaired        283215 non-null  object        \n",
      " 12  datecreated        354369 non-null  datetime64[ns]\n",
      " 13  numberofpictures   354369 non-null  int64         \n",
      " 14  postalcode         354369 non-null  int64         \n",
      " 15  lastseen           354369 non-null  datetime64[ns]\n",
      "dtypes: datetime64[ns](3), int64(7), object(6)\n",
      "memory usage: 43.3+ MB\n"
     ]
    }
   ],
   "source": [
    "#memeriksa informasi\n",
    "car_data.info()"
   ]
  },
  {
   "cell_type": "markdown",
   "metadata": {},
   "source": [
    "sekarang tipe data yang mengandung tanggal sudah diubah menjadi datetime, dan kolom sudah menjadi kecil semua."
   ]
  },
  {
   "cell_type": "markdown",
   "metadata": {},
   "source": [
    "### Memeriksa setiap kolom numerik"
   ]
  },
  {
   "cell_type": "code",
   "execution_count": 7,
   "metadata": {},
   "outputs": [
    {
     "data": {
      "text/html": [
       "<div>\n",
       "<style scoped>\n",
       "    .dataframe tbody tr th:only-of-type {\n",
       "        vertical-align: middle;\n",
       "    }\n",
       "\n",
       "    .dataframe tbody tr th {\n",
       "        vertical-align: top;\n",
       "    }\n",
       "\n",
       "    .dataframe thead th {\n",
       "        text-align: right;\n",
       "    }\n",
       "</style>\n",
       "<table border=\"1\" class=\"dataframe\">\n",
       "  <thead>\n",
       "    <tr style=\"text-align: right;\">\n",
       "      <th></th>\n",
       "      <th>price</th>\n",
       "      <th>registrationyear</th>\n",
       "      <th>power</th>\n",
       "      <th>mileage</th>\n",
       "      <th>registrationmonth</th>\n",
       "      <th>numberofpictures</th>\n",
       "      <th>postalcode</th>\n",
       "    </tr>\n",
       "  </thead>\n",
       "  <tbody>\n",
       "    <tr>\n",
       "      <th>count</th>\n",
       "      <td>354369.000000</td>\n",
       "      <td>354369.000000</td>\n",
       "      <td>354369.000000</td>\n",
       "      <td>354369.000000</td>\n",
       "      <td>354369.000000</td>\n",
       "      <td>354369.0</td>\n",
       "      <td>354369.000000</td>\n",
       "    </tr>\n",
       "    <tr>\n",
       "      <th>mean</th>\n",
       "      <td>4416.656776</td>\n",
       "      <td>2004.234448</td>\n",
       "      <td>110.094337</td>\n",
       "      <td>128211.172535</td>\n",
       "      <td>5.714645</td>\n",
       "      <td>0.0</td>\n",
       "      <td>50508.689087</td>\n",
       "    </tr>\n",
       "    <tr>\n",
       "      <th>std</th>\n",
       "      <td>4514.158514</td>\n",
       "      <td>90.227958</td>\n",
       "      <td>189.850405</td>\n",
       "      <td>37905.341530</td>\n",
       "      <td>3.726421</td>\n",
       "      <td>0.0</td>\n",
       "      <td>25783.096248</td>\n",
       "    </tr>\n",
       "    <tr>\n",
       "      <th>min</th>\n",
       "      <td>0.000000</td>\n",
       "      <td>1000.000000</td>\n",
       "      <td>0.000000</td>\n",
       "      <td>5000.000000</td>\n",
       "      <td>0.000000</td>\n",
       "      <td>0.0</td>\n",
       "      <td>1067.000000</td>\n",
       "    </tr>\n",
       "    <tr>\n",
       "      <th>25%</th>\n",
       "      <td>1050.000000</td>\n",
       "      <td>1999.000000</td>\n",
       "      <td>69.000000</td>\n",
       "      <td>125000.000000</td>\n",
       "      <td>3.000000</td>\n",
       "      <td>0.0</td>\n",
       "      <td>30165.000000</td>\n",
       "    </tr>\n",
       "    <tr>\n",
       "      <th>50%</th>\n",
       "      <td>2700.000000</td>\n",
       "      <td>2003.000000</td>\n",
       "      <td>105.000000</td>\n",
       "      <td>150000.000000</td>\n",
       "      <td>6.000000</td>\n",
       "      <td>0.0</td>\n",
       "      <td>49413.000000</td>\n",
       "    </tr>\n",
       "    <tr>\n",
       "      <th>75%</th>\n",
       "      <td>6400.000000</td>\n",
       "      <td>2008.000000</td>\n",
       "      <td>143.000000</td>\n",
       "      <td>150000.000000</td>\n",
       "      <td>9.000000</td>\n",
       "      <td>0.0</td>\n",
       "      <td>71083.000000</td>\n",
       "    </tr>\n",
       "    <tr>\n",
       "      <th>max</th>\n",
       "      <td>20000.000000</td>\n",
       "      <td>9999.000000</td>\n",
       "      <td>20000.000000</td>\n",
       "      <td>150000.000000</td>\n",
       "      <td>12.000000</td>\n",
       "      <td>0.0</td>\n",
       "      <td>99998.000000</td>\n",
       "    </tr>\n",
       "  </tbody>\n",
       "</table>\n",
       "</div>"
      ],
      "text/plain": [
       "               price  registrationyear          power        mileage  \\\n",
       "count  354369.000000     354369.000000  354369.000000  354369.000000   \n",
       "mean     4416.656776       2004.234448     110.094337  128211.172535   \n",
       "std      4514.158514         90.227958     189.850405   37905.341530   \n",
       "min         0.000000       1000.000000       0.000000    5000.000000   \n",
       "25%      1050.000000       1999.000000      69.000000  125000.000000   \n",
       "50%      2700.000000       2003.000000     105.000000  150000.000000   \n",
       "75%      6400.000000       2008.000000     143.000000  150000.000000   \n",
       "max     20000.000000       9999.000000   20000.000000  150000.000000   \n",
       "\n",
       "       registrationmonth  numberofpictures     postalcode  \n",
       "count      354369.000000          354369.0  354369.000000  \n",
       "mean            5.714645               0.0   50508.689087  \n",
       "std             3.726421               0.0   25783.096248  \n",
       "min             0.000000               0.0    1067.000000  \n",
       "25%             3.000000               0.0   30165.000000  \n",
       "50%             6.000000               0.0   49413.000000  \n",
       "75%             9.000000               0.0   71083.000000  \n",
       "max            12.000000               0.0   99998.000000  "
      ]
     },
     "execution_count": 7,
     "metadata": {},
     "output_type": "execute_result"
    }
   ],
   "source": [
    "# melihat statistik deskriptif data numerik\n",
    "car_data.describe()"
   ]
  },
  {
   "cell_type": "markdown",
   "metadata": {},
   "source": [
    "terlihat beberapa informasi yang janggal dan tidak masuk akal seperti berikut:\n",
    "1. Kolom `price` terdapat nilai yang bernilai `nol`.\n",
    "2. Kolom `registrationyear` memiliki tahun terendah `1000` dan tertinggi `9999`. yang mana ini tidak seharusnya terjadi\n",
    "3. Kolom `power` memiliki daya terendah `0` dan tertinggi `20000`.\n",
    "4. Kolom `registrationmonth` memiliki bulan registrasi terendah `0`.\n",
    "5. Kolom `numberofpictures` semua data bernilai `nol`."
   ]
  },
  {
   "cell_type": "code",
   "execution_count": 8,
   "metadata": {},
   "outputs": [
    {
     "data": {
      "text/plain": [
       "array([1000, 1001, 1039, 1111, 1200, 1234, 1253, 1255, 1300, 1400, 1500,\n",
       "       1600, 1602, 1688, 1800, 1910, 1915, 1919, 1920, 1923, 1925, 1927,\n",
       "       1928, 1929, 1930, 1931, 1932, 1933, 1934, 1935, 1936, 1937, 1938,\n",
       "       1940, 1941, 1942, 1943, 1944, 1945, 1946, 1947, 1948, 1949, 1950,\n",
       "       1951, 1952, 1953, 1954, 1955, 1956, 1957, 1958, 1959, 1960, 1961,\n",
       "       1962, 1963, 1964, 1965, 1966, 1967, 1968, 1969, 1970, 1971, 1972,\n",
       "       1973, 1974, 1975, 1976, 1977, 1978, 1979, 1980, 1981, 1982, 1983,\n",
       "       1984, 1985, 1986, 1987, 1988, 1989, 1990, 1991, 1992, 1993, 1994,\n",
       "       1995, 1996, 1997, 1998, 1999, 2000, 2001, 2002, 2003, 2004, 2005,\n",
       "       2006, 2007, 2008, 2009, 2010, 2011, 2012, 2013, 2014, 2015, 2016,\n",
       "       2017, 2018, 2019, 2066, 2200, 2222, 2290, 2500, 2800, 2900, 3000,\n",
       "       3200, 3500, 3700, 3800, 4000, 4100, 4500, 4800, 5000, 5300, 5555,\n",
       "       5600, 5900, 5911, 6000, 6500, 7000, 7100, 7500, 7800, 8000, 8200,\n",
       "       8455, 8500, 8888, 9000, 9229, 9450, 9996, 9999])"
      ]
     },
     "execution_count": 8,
     "metadata": {},
     "output_type": "execute_result"
    }
   ],
   "source": [
    "# melihat distribusi tahun registrasi\n",
    "regisyear = car_data['registrationyear'].unique()\n",
    "np.sort(regisyear)"
   ]
  },
  {
   "cell_type": "markdown",
   "metadata": {},
   "source": [
    "terlihat bahwa banyak sekali nilai yang tidak masuk akal, seperti tahun dengan angka `1000` hingga `9999` karena ini bukan nilai hilang, diputuskan untuk menghapusnya"
   ]
  },
  {
   "cell_type": "code",
   "execution_count": 9,
   "metadata": {
    "collapsed": true
   },
   "outputs": [
    {
     "data": {
      "text/plain": [
       "array([    0,     1,     2,     3,     4,     5,     6,     7,     8,\n",
       "           9,    10,    11,    12,    13,    14,    15,    16,    17,\n",
       "          18,    19,    20,    21,    22,    23,    24,    25,    26,\n",
       "          27,    28,    29,    30,    31,    32,    33,    34,    35,\n",
       "          36,    37,    38,    39,    40,    41,    42,    43,    44,\n",
       "          45,    46,    47,    48,    49,    50,    51,    52,    53,\n",
       "          54,    55,    56,    57,    58,    59,    60,    61,    62,\n",
       "          63,    64,    65,    66,    67,    68,    69,    70,    71,\n",
       "          72,    73,    74,    75,    76,    77,    78,    79,    80,\n",
       "          81,    82,    83,    84,    85,    86,    87,    88,    89,\n",
       "          90,    91,    92,    93,    94,    95,    96,    97,    98,\n",
       "          99,   100,   101,   102,   103,   104,   105,   106,   107,\n",
       "         108,   109,   110,   111,   112,   113,   114,   115,   116,\n",
       "         117,   118,   119,   120,   121,   122,   123,   124,   125,\n",
       "         126,   127,   128,   129,   130,   131,   132,   133,   134,\n",
       "         135,   136,   137,   138,   139,   140,   141,   142,   143,\n",
       "         144,   145,   146,   147,   148,   149,   150,   151,   152,\n",
       "         153,   154,   155,   156,   157,   158,   159,   160,   161,\n",
       "         162,   163,   164,   165,   166,   167,   168,   169,   170,\n",
       "         171,   172,   173,   174,   175,   176,   177,   178,   179,\n",
       "         180,   181,   182,   183,   184,   185,   186,   187,   188,\n",
       "         189,   190,   191,   192,   193,   194,   195,   196,   197,\n",
       "         198,   199,   200,   201,   202,   203,   204,   205,   206,\n",
       "         207,   208,   209,   210,   211,   212,   213,   214,   215,\n",
       "         216,   217,   218,   219,   220,   221,   222,   223,   224,\n",
       "         225,   226,   227,   228,   229,   230,   231,   232,   233,\n",
       "         234,   235,   236,   237,   238,   239,   240,   241,   242,\n",
       "         243,   244,   245,   246,   247,   248,   249,   250,   251,\n",
       "         252,   253,   254,   255,   256,   257,   258,   259,   260,\n",
       "         261,   262,   264,   265,   266,   267,   268,   269,   270,\n",
       "         271,   272,   273,   274,   275,   276,   277,   278,   279,\n",
       "         280,   281,   282,   283,   284,   285,   286,   287,   288,\n",
       "         289,   290,   292,   293,   294,   295,   296,   297,   298,\n",
       "         299,   300,   301,   303,   304,   305,   306,   307,   308,\n",
       "         309,   310,   311,   313,   314,   315,   316,   317,   318,\n",
       "         320,   321,   322,   323,   324,   325,   326,   327,   328,\n",
       "         329,   330,   331,   332,   333,   334,   335,   336,   337,\n",
       "         338,   339,   340,   341,   343,   344,   345,   346,   347,\n",
       "         348,   349,   350,   351,   352,   353,   354,   355,   356,\n",
       "         357,   358,   360,   361,   362,   363,   364,   365,   367,\n",
       "         368,   370,   371,   374,   375,   376,   377,   379,   380,\n",
       "         381,   382,   385,   386,   387,   388,   390,   392,   394,\n",
       "         396,   398,   399,   400,   401,   402,   405,   408,   409,\n",
       "         411,   416,   420,   421,   425,   426,   428,   430,   431,\n",
       "         435,   440,   442,   445,   449,   450,   454,   457,   459,\n",
       "         460,   475,   476,   485,   487,   489,   490,   500,   504,\n",
       "         505,   507,   508,   510,   514,   515,   517,   519,   520,\n",
       "         521,   525,   530,   540,   541,   544,   550,   551,   553,\n",
       "         560,   572,   574,   579,   580,   584,   585,   599,   600,\n",
       "         601,   602,   603,   604,   606,   607,   610,   612,   620,\n",
       "         640,   645,   650,   651,   671,   678,   682,   685,   696,\n",
       "         700,   702,   703,   732,   743,   750,   751,   754,   771,\n",
       "         776,   800,   805,   808,   850,   851,   871,   900,   901,\n",
       "         902,   903,   907,   909,   923,   950,   952,   953,   960,\n",
       "         998,   999,  1000,  1001,  1002,  1003,  1004,  1005,  1011,\n",
       "        1012,  1016,  1017,  1021,  1024,  1054,  1055,  1056,  1062,\n",
       "        1079,  1082,  1090,  1100,  1102,  1103,  1105,  1111,  1115,\n",
       "        1120,  1149,  1151,  1158,  1160,  1162,  1164,  1199,  1200,\n",
       "        1202,  1221,  1223,  1230,  1239,  1240,  1241,  1250,  1252,\n",
       "        1256,  1275,  1288,  1299,  1300,  1312,  1317,  1324,  1339,\n",
       "        1351,  1360,  1362,  1363,  1367,  1390,  1394,  1398,  1399,\n",
       "        1400,  1401,  1403,  1405,  1416,  1432,  1433,  1436,  1500,\n",
       "        1501,  1502,  1503,  1506,  1521,  1548,  1595,  1596,  1597,\n",
       "        1598,  1600,  1625,  1631,  1653,  1659,  1689,  1700,  1701,\n",
       "        1703,  1704,  1707,  1753,  1771,  1779,  1780,  1781,  1783,\n",
       "        1793,  1796,  1799,  1800,  1801,  1870,  1895,  1896,  1900,\n",
       "        1910,  1920,  1922,  1933,  1937,  1968,  1986,  1988,  1992,\n",
       "        1993,  1995,  1998,  1999,  2000,  2004,  2005,  2007,  2009,\n",
       "        2016,  2017,  2018,  2172,  2200,  2201,  2331,  2340,  2389,\n",
       "        2402,  2461,  2598,  2729,  2789,  2792,  2799,  3000,  3199,\n",
       "        3454,  3500,  3750,  4400,  4507,  4700,  5000,  5411,  5420,\n",
       "        5575,  5809,  5815,  5867,  6006,  6010,  6011,  6012,  6018,\n",
       "        6045,  6062,  6226,  6512,  6920,  7508,  7511,  7512,  7515,\n",
       "        7518,  7529,  7544,  8011,  8259,  8404,  8500,  9000,  9007,\n",
       "        9010,  9011,  9012,  9013,  9710, 10000, 10110, 10218, 10311,\n",
       "       10317, 10520, 10522, 10710, 10910, 10912, 11011, 11025, 11111,\n",
       "       11509, 11530, 11635, 12012, 12510, 12512, 12684, 13616, 13636,\n",
       "       14009, 15001, 15016, 15017, 15020, 15033, 16011, 16051, 16311,\n",
       "       16312, 17011, 17019, 17410, 17700, 17932, 19208, 19211, 19312,\n",
       "       20000])"
      ]
     },
     "execution_count": 9,
     "metadata": {},
     "output_type": "execute_result"
    }
   ],
   "source": [
    "# melihat distribusi power\n",
    "power = car_data['power'].unique()\n",
    "np.sort(power)"
   ]
  },
  {
   "cell_type": "markdown",
   "metadata": {},
   "source": [
    "seperti sebelumnya nilai ini sangat tidak masuk akal sehingga harus dihilangkan"
   ]
  },
  {
   "cell_type": "code",
   "execution_count": 10,
   "metadata": {},
   "outputs": [],
   "source": [
    "# menghilangkan harga (price) yang nol\n",
    "car_data = car_data[car_data['price'] >= 500]\n",
    "\n",
    "# memfilter tahun registrasi dari 1900 hingga 2020\n",
    "car_data = car_data[(car_data['registrationyear'] >= 1900)&(car_data['registrationyear'] <= 2020)]\n",
    "\n",
    "# memfilter power dari > 0 dan kurang dari sama dengan 2000\n",
    "car_data = car_data[(car_data['power'] != 0)&(car_data['power'] <= 2000)]\n",
    "\n",
    "# memfilter registrasi bulan membuang bulan 0\n",
    "car_data = car_data[car_data['registrationmonth'] != 0]\n"
   ]
  },
  {
   "cell_type": "code",
   "execution_count": 11,
   "metadata": {},
   "outputs": [
    {
     "data": {
      "text/html": [
       "<div>\n",
       "<style scoped>\n",
       "    .dataframe tbody tr th:only-of-type {\n",
       "        vertical-align: middle;\n",
       "    }\n",
       "\n",
       "    .dataframe tbody tr th {\n",
       "        vertical-align: top;\n",
       "    }\n",
       "\n",
       "    .dataframe thead th {\n",
       "        text-align: right;\n",
       "    }\n",
       "</style>\n",
       "<table border=\"1\" class=\"dataframe\">\n",
       "  <thead>\n",
       "    <tr style=\"text-align: right;\">\n",
       "      <th></th>\n",
       "      <th>price</th>\n",
       "      <th>registrationyear</th>\n",
       "      <th>power</th>\n",
       "      <th>mileage</th>\n",
       "      <th>registrationmonth</th>\n",
       "      <th>numberofpictures</th>\n",
       "      <th>postalcode</th>\n",
       "    </tr>\n",
       "  </thead>\n",
       "  <tbody>\n",
       "    <tr>\n",
       "      <th>count</th>\n",
       "      <td>273337.000000</td>\n",
       "      <td>273337.000000</td>\n",
       "      <td>273337.000000</td>\n",
       "      <td>273337.000000</td>\n",
       "      <td>273337.000000</td>\n",
       "      <td>273337.0</td>\n",
       "      <td>273337.000000</td>\n",
       "    </tr>\n",
       "    <tr>\n",
       "      <th>mean</th>\n",
       "      <td>5211.992416</td>\n",
       "      <td>2003.617194</td>\n",
       "      <td>123.716423</td>\n",
       "      <td>127428.064989</td>\n",
       "      <td>6.396452</td>\n",
       "      <td>0.0</td>\n",
       "      <td>51478.623615</td>\n",
       "    </tr>\n",
       "    <tr>\n",
       "      <th>std</th>\n",
       "      <td>4622.035318</td>\n",
       "      <td>6.722419</td>\n",
       "      <td>62.335180</td>\n",
       "      <td>37005.460544</td>\n",
       "      <td>3.346175</td>\n",
       "      <td>0.0</td>\n",
       "      <td>25700.754631</td>\n",
       "    </tr>\n",
       "    <tr>\n",
       "      <th>min</th>\n",
       "      <td>500.000000</td>\n",
       "      <td>1910.000000</td>\n",
       "      <td>1.000000</td>\n",
       "      <td>5000.000000</td>\n",
       "      <td>1.000000</td>\n",
       "      <td>0.0</td>\n",
       "      <td>1067.000000</td>\n",
       "    </tr>\n",
       "    <tr>\n",
       "      <th>25%</th>\n",
       "      <td>1600.000000</td>\n",
       "      <td>2000.000000</td>\n",
       "      <td>82.000000</td>\n",
       "      <td>125000.000000</td>\n",
       "      <td>4.000000</td>\n",
       "      <td>0.0</td>\n",
       "      <td>31162.000000</td>\n",
       "    </tr>\n",
       "    <tr>\n",
       "      <th>50%</th>\n",
       "      <td>3550.000000</td>\n",
       "      <td>2004.000000</td>\n",
       "      <td>116.000000</td>\n",
       "      <td>150000.000000</td>\n",
       "      <td>6.000000</td>\n",
       "      <td>0.0</td>\n",
       "      <td>50739.000000</td>\n",
       "    </tr>\n",
       "    <tr>\n",
       "      <th>75%</th>\n",
       "      <td>7500.000000</td>\n",
       "      <td>2008.000000</td>\n",
       "      <td>150.000000</td>\n",
       "      <td>150000.000000</td>\n",
       "      <td>9.000000</td>\n",
       "      <td>0.0</td>\n",
       "      <td>72213.000000</td>\n",
       "    </tr>\n",
       "    <tr>\n",
       "      <th>max</th>\n",
       "      <td>20000.000000</td>\n",
       "      <td>2019.000000</td>\n",
       "      <td>2000.000000</td>\n",
       "      <td>150000.000000</td>\n",
       "      <td>12.000000</td>\n",
       "      <td>0.0</td>\n",
       "      <td>99998.000000</td>\n",
       "    </tr>\n",
       "  </tbody>\n",
       "</table>\n",
       "</div>"
      ],
      "text/plain": [
       "               price  registrationyear          power        mileage  \\\n",
       "count  273337.000000     273337.000000  273337.000000  273337.000000   \n",
       "mean     5211.992416       2003.617194     123.716423  127428.064989   \n",
       "std      4622.035318          6.722419      62.335180   37005.460544   \n",
       "min       500.000000       1910.000000       1.000000    5000.000000   \n",
       "25%      1600.000000       2000.000000      82.000000  125000.000000   \n",
       "50%      3550.000000       2004.000000     116.000000  150000.000000   \n",
       "75%      7500.000000       2008.000000     150.000000  150000.000000   \n",
       "max     20000.000000       2019.000000    2000.000000  150000.000000   \n",
       "\n",
       "       registrationmonth  numberofpictures     postalcode  \n",
       "count      273337.000000          273337.0  273337.000000  \n",
       "mean            6.396452               0.0   51478.623615  \n",
       "std             3.346175               0.0   25700.754631  \n",
       "min             1.000000               0.0    1067.000000  \n",
       "25%             4.000000               0.0   31162.000000  \n",
       "50%             6.000000               0.0   50739.000000  \n",
       "75%             9.000000               0.0   72213.000000  \n",
       "max            12.000000               0.0   99998.000000  "
      ]
     },
     "execution_count": 11,
     "metadata": {},
     "output_type": "execute_result"
    }
   ],
   "source": [
    "# menampilkan kembali statistik deskriptif untuk data numerik\n",
    "car_data.describe()"
   ]
  },
  {
   "cell_type": "markdown",
   "metadata": {},
   "source": [
    "sekarang data sudah dikurangi nilai-nilai tidak masuk akalnya"
   ]
  },
  {
   "cell_type": "markdown",
   "metadata": {},
   "source": [
    "### Memeriksa kolom Kategorik"
   ]
  },
  {
   "cell_type": "code",
   "execution_count": 12,
   "metadata": {},
   "outputs": [
    {
     "data": {
      "text/html": [
       "<div>\n",
       "<style scoped>\n",
       "    .dataframe tbody tr th:only-of-type {\n",
       "        vertical-align: middle;\n",
       "    }\n",
       "\n",
       "    .dataframe tbody tr th {\n",
       "        vertical-align: top;\n",
       "    }\n",
       "\n",
       "    .dataframe thead th {\n",
       "        text-align: right;\n",
       "    }\n",
       "</style>\n",
       "<table border=\"1\" class=\"dataframe\">\n",
       "  <thead>\n",
       "    <tr style=\"text-align: right;\">\n",
       "      <th></th>\n",
       "      <th>vehicletype</th>\n",
       "      <th>gearbox</th>\n",
       "      <th>model</th>\n",
       "      <th>fueltype</th>\n",
       "      <th>brand</th>\n",
       "      <th>notrepaired</th>\n",
       "    </tr>\n",
       "  </thead>\n",
       "  <tbody>\n",
       "    <tr>\n",
       "      <th>count</th>\n",
       "      <td>259339</td>\n",
       "      <td>269557</td>\n",
       "      <td>264340</td>\n",
       "      <td>260580</td>\n",
       "      <td>273337</td>\n",
       "      <td>240529</td>\n",
       "    </tr>\n",
       "    <tr>\n",
       "      <th>unique</th>\n",
       "      <td>8</td>\n",
       "      <td>2</td>\n",
       "      <td>249</td>\n",
       "      <td>7</td>\n",
       "      <td>40</td>\n",
       "      <td>2</td>\n",
       "    </tr>\n",
       "    <tr>\n",
       "      <th>top</th>\n",
       "      <td>sedan</td>\n",
       "      <td>manual</td>\n",
       "      <td>golf</td>\n",
       "      <td>petrol</td>\n",
       "      <td>volkswagen</td>\n",
       "      <td>no</td>\n",
       "    </tr>\n",
       "    <tr>\n",
       "      <th>freq</th>\n",
       "      <td>76697</td>\n",
       "      <td>212692</td>\n",
       "      <td>22714</td>\n",
       "      <td>169396</td>\n",
       "      <td>58842</td>\n",
       "      <td>218617</td>\n",
       "    </tr>\n",
       "  </tbody>\n",
       "</table>\n",
       "</div>"
      ],
      "text/plain": [
       "       vehicletype gearbox   model fueltype       brand notrepaired\n",
       "count       259339  269557  264340   260580      273337      240529\n",
       "unique           8       2     249        7          40           2\n",
       "top          sedan  manual    golf   petrol  volkswagen          no\n",
       "freq         76697  212692   22714   169396       58842      218617"
      ]
     },
     "execution_count": 12,
     "metadata": {},
     "output_type": "execute_result"
    }
   ],
   "source": [
    "# melihat statistik deskriptif untuk data categorik\n",
    "car_data.select_dtypes(exclude=['int','float','datetime']).describe()"
   ]
  },
  {
   "cell_type": "markdown",
   "metadata": {},
   "source": [
    "terlihat bahwa data `vehicletype` memiliki 8 unik data, dengan top `sedan`, `gearbox` memiliki 2 unik data, dan top `manual`, `fueltype` memiliki 7 unik dara dn yang paling banyak petrol, `brand` terlihat memiliki sebanyak 40 unik data, dengan top `volkswagen` dan `notrepaired` memiliki 2 unik data dengan top `no`."
   ]
  },
  {
   "cell_type": "code",
   "execution_count": 13,
   "metadata": {},
   "outputs": [
    {
     "data": {
      "text/plain": [
       "sedan          76697\n",
       "small          59728\n",
       "wagon          54293\n",
       "bus            25083\n",
       "convertible    17768\n",
       "coupe          13161\n",
       "suv            10572\n",
       "other           2037\n",
       "Name: vehicletype, dtype: int64"
      ]
     },
     "execution_count": 13,
     "metadata": {},
     "output_type": "execute_result"
    }
   ],
   "source": [
    "car_data['vehicletype'].value_counts()"
   ]
  },
  {
   "cell_type": "code",
   "execution_count": 14,
   "metadata": {
    "scrolled": true
   },
   "outputs": [
    {
     "name": "stdout",
     "output_type": "stream",
     "text": [
      "First DateCreated 2015-08-07 00:00:00\n",
      "Last DateCreated 2016-04-07 00:00:00\n",
      "First DateCrawled 2016-03-05 14:06:00\n",
      "Last DateCrawled 2016-04-07 14:36:00\n"
     ]
    }
   ],
   "source": [
    "# menampilkan informasi lain\n",
    "print('First DateCreated', min(car_data['datecreated']))\n",
    "print('Last DateCreated', max(car_data['datecreated']))\n",
    "print('First DateCrawled', min(car_data['datecrawled']))\n",
    "print('Last DateCrawled', max(car_data['datecrawled']))"
   ]
  },
  {
   "cell_type": "markdown",
   "metadata": {},
   "source": [
    "### Mengurangi `drop` kolom yang tidak dibutuhkan dan `drop` duplikasi data"
   ]
  },
  {
   "cell_type": "code",
   "execution_count": 15,
   "metadata": {},
   "outputs": [
    {
     "name": "stdout",
     "output_type": "stream",
     "text": [
      "Jumlah dataset awal 273337\n",
      "Jumlah duplikasi data 22244\n",
      "Jumlah dataset akhir 251093\n"
     ]
    }
   ],
   "source": [
    "# melakukan drop untuk semua data yang tidak dibutuhkan\n",
    "data = car_data.drop(['datecrawled','datecreated','lastseen', 'numberofpictures', 'postalcode'],axis=1)\n",
    "\n",
    "# jumlah dataset awal\n",
    "print('Jumlah dataset awal', len(car_data))\n",
    "\n",
    "# jumlah duplikasi data\n",
    "print('Jumlah duplikasi data',data.duplicated().sum())\n",
    "\n",
    "# menghilangkan duplikasi data\n",
    "data.drop_duplicates(inplace=True)\n",
    "\n",
    "# jumlah datset akhir\n",
    "print('Jumlah dataset akhir', len(data))"
   ]
  },
  {
   "cell_type": "markdown",
   "metadata": {},
   "source": [
    "dataset memiliki banyak sekali duplikasi data, karena itu diputuskan untuk menghapusnya saja. sekarang jumlah dataset adalah `251093` entry"
   ]
  },
  {
   "cell_type": "markdown",
   "metadata": {},
   "source": [
    "### Memeriksa nilai hilang"
   ]
  },
  {
   "cell_type": "code",
   "execution_count": 16,
   "metadata": {},
   "outputs": [
    {
     "data": {
      "text/plain": [
       "price                    0\n",
       "vehicletype          13421\n",
       "registrationyear         0\n",
       "gearbox               3636\n",
       "power                    0\n",
       "model                 8645\n",
       "mileage                  0\n",
       "registrationmonth        0\n",
       "fueltype             12381\n",
       "brand                    0\n",
       "notrepaired          31007\n",
       "dtype: int64"
      ]
     },
     "execution_count": 16,
     "metadata": {},
     "output_type": "execute_result"
    }
   ],
   "source": [
    "# mengecek nilai yang hilang pada dataset\n",
    "data.isna().sum()"
   ]
  },
  {
   "cell_type": "code",
   "execution_count": 17,
   "metadata": {},
   "outputs": [
    {
     "data": {
      "text/html": [
       "<div>\n",
       "<style scoped>\n",
       "    .dataframe tbody tr th:only-of-type {\n",
       "        vertical-align: middle;\n",
       "    }\n",
       "\n",
       "    .dataframe tbody tr th {\n",
       "        vertical-align: top;\n",
       "    }\n",
       "\n",
       "    .dataframe thead th {\n",
       "        text-align: right;\n",
       "    }\n",
       "</style>\n",
       "<table border=\"1\" class=\"dataframe\">\n",
       "  <thead>\n",
       "    <tr style=\"text-align: right;\">\n",
       "      <th></th>\n",
       "      <th>price</th>\n",
       "      <th>vehicletype</th>\n",
       "      <th>registrationyear</th>\n",
       "      <th>gearbox</th>\n",
       "      <th>power</th>\n",
       "      <th>model</th>\n",
       "      <th>mileage</th>\n",
       "      <th>registrationmonth</th>\n",
       "      <th>fueltype</th>\n",
       "      <th>brand</th>\n",
       "      <th>notrepaired</th>\n",
       "    </tr>\n",
       "  </thead>\n",
       "  <tbody>\n",
       "    <tr>\n",
       "      <th>1</th>\n",
       "      <td>18300</td>\n",
       "      <td>coupe</td>\n",
       "      <td>2011</td>\n",
       "      <td>manual</td>\n",
       "      <td>190</td>\n",
       "      <td>NaN</td>\n",
       "      <td>125000</td>\n",
       "      <td>5</td>\n",
       "      <td>gasoline</td>\n",
       "      <td>audi</td>\n",
       "      <td>yes</td>\n",
       "    </tr>\n",
       "    <tr>\n",
       "      <th>2</th>\n",
       "      <td>9800</td>\n",
       "      <td>suv</td>\n",
       "      <td>2004</td>\n",
       "      <td>auto</td>\n",
       "      <td>163</td>\n",
       "      <td>grand</td>\n",
       "      <td>125000</td>\n",
       "      <td>8</td>\n",
       "      <td>gasoline</td>\n",
       "      <td>jeep</td>\n",
       "      <td>NaN</td>\n",
       "    </tr>\n",
       "    <tr>\n",
       "      <th>3</th>\n",
       "      <td>1500</td>\n",
       "      <td>small</td>\n",
       "      <td>2001</td>\n",
       "      <td>manual</td>\n",
       "      <td>75</td>\n",
       "      <td>golf</td>\n",
       "      <td>150000</td>\n",
       "      <td>6</td>\n",
       "      <td>petrol</td>\n",
       "      <td>volkswagen</td>\n",
       "      <td>no</td>\n",
       "    </tr>\n",
       "    <tr>\n",
       "      <th>4</th>\n",
       "      <td>3600</td>\n",
       "      <td>small</td>\n",
       "      <td>2008</td>\n",
       "      <td>manual</td>\n",
       "      <td>69</td>\n",
       "      <td>fabia</td>\n",
       "      <td>90000</td>\n",
       "      <td>7</td>\n",
       "      <td>gasoline</td>\n",
       "      <td>skoda</td>\n",
       "      <td>no</td>\n",
       "    </tr>\n",
       "    <tr>\n",
       "      <th>5</th>\n",
       "      <td>650</td>\n",
       "      <td>sedan</td>\n",
       "      <td>1995</td>\n",
       "      <td>manual</td>\n",
       "      <td>102</td>\n",
       "      <td>3er</td>\n",
       "      <td>150000</td>\n",
       "      <td>10</td>\n",
       "      <td>petrol</td>\n",
       "      <td>bmw</td>\n",
       "      <td>yes</td>\n",
       "    </tr>\n",
       "  </tbody>\n",
       "</table>\n",
       "</div>"
      ],
      "text/plain": [
       "   price vehicletype  registrationyear gearbox  power  model  mileage  \\\n",
       "1  18300       coupe              2011  manual    190    NaN   125000   \n",
       "2   9800         suv              2004    auto    163  grand   125000   \n",
       "3   1500       small              2001  manual     75   golf   150000   \n",
       "4   3600       small              2008  manual     69  fabia    90000   \n",
       "5    650       sedan              1995  manual    102    3er   150000   \n",
       "\n",
       "   registrationmonth  fueltype       brand notrepaired  \n",
       "1                  5  gasoline        audi         yes  \n",
       "2                  8  gasoline        jeep         NaN  \n",
       "3                  6    petrol  volkswagen          no  \n",
       "4                  7  gasoline       skoda          no  \n",
       "5                 10    petrol         bmw         yes  "
      ]
     },
     "execution_count": 17,
     "metadata": {},
     "output_type": "execute_result"
    }
   ],
   "source": [
    "data.head()"
   ]
  },
  {
   "cell_type": "code",
   "execution_count": 18,
   "metadata": {
    "scrolled": true
   },
   "outputs": [
    {
     "data": {
      "text/plain": [
       "price                 0.000000\n",
       "vehicletype           5.345032\n",
       "registrationyear      0.000000\n",
       "gearbox               1.448069\n",
       "power                 0.000000\n",
       "model                 3.442947\n",
       "mileage               0.000000\n",
       "registrationmonth     0.000000\n",
       "fueltype              4.930842\n",
       "brand                 0.000000\n",
       "notrepaired          12.348811\n",
       "dtype: float64"
      ]
     },
     "execution_count": 18,
     "metadata": {},
     "output_type": "execute_result"
    }
   ],
   "source": [
    "#fungsi persentase missing values\n",
    "missing_percentage = data.isna().sum() / len(data) * 100\n",
    "missing_percentage"
   ]
  },
  {
   "cell_type": "markdown",
   "metadata": {},
   "source": [
    "terlihat banyak cukup banyak nilai hilang pada data, terutama pada data kategorik, sehingga ini tidak bisa diisi dengan mudah."
   ]
  },
  {
   "cell_type": "code",
   "execution_count": 19,
   "metadata": {
    "scrolled": true
   },
   "outputs": [
    {
     "data": {
      "image/png": "[encoded data removed]",
      "text/plain": [
       "<Figure size 800x500 with 2 Axes>"
      ]
     },
     "metadata": {},
     "output_type": "display_data"
    }
   ],
   "source": [
    "# mengecek korelasi pada dataset numerik\n",
    "plt.figure(figsize=(8,5))\n",
    "sns.heatmap(data.select_dtypes(exclude='object').corr(),annot=True,cmap='RdBu_r')\n",
    "plt.title('Correlation Table')\n",
    "plt.xticks(rotation=20)\n",
    "plt.show()"
   ]
  },
  {
   "cell_type": "markdown",
   "metadata": {},
   "source": [
    "tabel korelasi sudah menunjukkan korelasi antara kolom-kolom numerik satu sama lainnya,terlihat bahwa kolom `price` berkorelasi kuat dengan kolom `registrationyear` dan `power`"
   ]
  },
  {
   "cell_type": "code",
   "execution_count": 20,
   "metadata": {},
   "outputs": [
    {
     "name": "stdout",
     "output_type": "stream",
     "text": [
      "<class 'pandas.core.frame.DataFrame'>\n",
      "Int64Index: 251093 entries, 1 to 354368\n",
      "Data columns (total 11 columns):\n",
      " #   Column             Non-Null Count   Dtype \n",
      "---  ------             --------------   ----- \n",
      " 0   price              251093 non-null  int64 \n",
      " 1   vehicletype        237672 non-null  object\n",
      " 2   registrationyear   251093 non-null  int64 \n",
      " 3   gearbox            247457 non-null  object\n",
      " 4   power              251093 non-null  int64 \n",
      " 5   model              242448 non-null  object\n",
      " 6   mileage            251093 non-null  int64 \n",
      " 7   registrationmonth  251093 non-null  int64 \n",
      " 8   fueltype           238712 non-null  object\n",
      " 9   brand              251093 non-null  object\n",
      " 10  notrepaired        220086 non-null  object\n",
      "dtypes: int64(5), object(6)\n",
      "memory usage: 23.0+ MB\n"
     ]
    }
   ],
   "source": [
    "data.info()"
   ]
  },
  {
   "cell_type": "markdown",
   "metadata": {},
   "source": [
    "**Kesimpulan:**\n",
    "1. terlihat bahwa dataset berisikan `16` kolom dengan `354368` entry data\n",
    "2. kolom memiliki judul kolom yang besar kecil sehingga harus diperbaiki\n",
    "3. terdapat beberapa tipe data yang salah pada kolom `DateCrawled`, `DateCreated` dan `LastSeen` yang seharusnya dengan tipe data `datetime`\n",
    "4. terlihat ada beberapa kolom yang memiliki nilai yang hilang.\n",
    "5. kolom-kolom numerik berisikan nilai yang tidak masuk akal sehingga diputuskan menghapusnya\n",
    "6. terdapat banyak sekali duplikasi data sehingga diputuskan menghapusnya\n",
    "7. terdpaat kolom-kolom yang dibutuhkan diputuskan untuk menghapusnya\n",
    "\n",
    "dataset sekarang berisikan `11` kolom dengan `251093` masih terdapat nilai hilang pada kolom kategorik"
   ]
  },
  {
   "cell_type": "markdown",
   "metadata": {},
   "source": [
    "## Pelatihan Model"
   ]
  },
  {
   "cell_type": "markdown",
   "metadata": {},
   "source": [
    "sebelum memasuki langkah untuk melatih model, diputuskan terlebih dahulu untuk menangangi nilai hilang yang sebelumnya sudah dibahas, untuk mempermudah pelatihan model selanjutnya"
   ]
  },
  {
   "cell_type": "code",
   "execution_count": 21,
   "metadata": {},
   "outputs": [],
   "source": [
    "# Memisahkan fitur dan target\n",
    "features = data.drop(['price', 'model'], axis=1)\n",
    "target = data['price']\n",
    "\n",
    "# Daftar kolom numerik dan kategorik\n",
    "num_col = features.select_dtypes(include=['int', 'float']).columns\n",
    "cat_onehot_col = ['vehicletype', 'gearbox', 'fueltype', 'notrepaired']\n",
    "cat_ordinal_col = ['brand']\n",
    "\n",
    "# Transformer untuk data numerik\n",
    "numerical = Pipeline(steps=[\n",
    "    ('imputer', SimpleImputer(strategy='median')),\n",
    "    ('scaler', RobustScaler())\n",
    "])\n",
    "\n",
    "# Transformer untuk data kategorik (OneHot)\n",
    "categorical_onehot = Pipeline(steps=[\n",
    "    ('imputer', SimpleImputer(strategy='most_frequent')),\n",
    "    ('onehot', OneHotEncoder(handle_unknown='ignore'))\n",
    "])\n",
    "\n",
    "# Transformer untuk data kategorik (Ordinal)\n",
    "categorical_ordinal = Pipeline(steps=[\n",
    "    ('imputer', SimpleImputer(strategy='most_frequent')),\n",
    "    ('ordinal', OrdinalEncoder())\n",
    "])\n",
    "\n",
    "# Menggabungkan transformer numerik dan kategorik\n",
    "preprocessor = ColumnTransformer(transformers=[\n",
    "    ('num', numerical, num_col),\n",
    "    ('cat_onehot', categorical_onehot, cat_onehot_col),\n",
    "    ('cat_ordinal', categorical_ordinal, cat_ordinal_col)\n",
    "])\n",
    "\n",
    "# Memisahkan data menjadi training dan testing\n",
    "x_train, x_test, y_train, y_test = train_test_split(features, target, test_size=0.2, random_state=42)\n",
    "\n",
    "# Preprocess data\n",
    "x_train_processed = preprocessor.fit_transform(x_train)\n",
    "x_test_processed = preprocessor.transform(x_test)"
   ]
  },
  {
   "cell_type": "code",
   "execution_count": 22,
   "metadata": {
    "scrolled": true
   },
   "outputs": [
    {
     "data": {
      "text/html": [
       "<div>\n",
       "<style scoped>\n",
       "    .dataframe tbody tr th:only-of-type {\n",
       "        vertical-align: middle;\n",
       "    }\n",
       "\n",
       "    .dataframe tbody tr th {\n",
       "        vertical-align: top;\n",
       "    }\n",
       "\n",
       "    .dataframe thead th {\n",
       "        text-align: right;\n",
       "    }\n",
       "</style>\n",
       "<table border=\"1\" class=\"dataframe\">\n",
       "  <thead>\n",
       "    <tr style=\"text-align: right;\">\n",
       "      <th></th>\n",
       "      <th>vehicletype</th>\n",
       "      <th>registrationyear</th>\n",
       "      <th>gearbox</th>\n",
       "      <th>power</th>\n",
       "      <th>mileage</th>\n",
       "      <th>registrationmonth</th>\n",
       "      <th>fueltype</th>\n",
       "      <th>brand</th>\n",
       "      <th>notrepaired</th>\n",
       "    </tr>\n",
       "  </thead>\n",
       "  <tbody>\n",
       "    <tr>\n",
       "      <th>124667</th>\n",
       "      <td>suv</td>\n",
       "      <td>2006</td>\n",
       "      <td>auto</td>\n",
       "      <td>232</td>\n",
       "      <td>150000</td>\n",
       "      <td>6</td>\n",
       "      <td>gasoline</td>\n",
       "      <td>audi</td>\n",
       "      <td>yes</td>\n",
       "    </tr>\n",
       "    <tr>\n",
       "      <th>329565</th>\n",
       "      <td>wagon</td>\n",
       "      <td>2003</td>\n",
       "      <td>manual</td>\n",
       "      <td>131</td>\n",
       "      <td>150000</td>\n",
       "      <td>6</td>\n",
       "      <td>petrol</td>\n",
       "      <td>audi</td>\n",
       "      <td>no</td>\n",
       "    </tr>\n",
       "    <tr>\n",
       "      <th>143141</th>\n",
       "      <td>small</td>\n",
       "      <td>1999</td>\n",
       "      <td>manual</td>\n",
       "      <td>60</td>\n",
       "      <td>90000</td>\n",
       "      <td>9</td>\n",
       "      <td>petrol</td>\n",
       "      <td>citroen</td>\n",
       "      <td>no</td>\n",
       "    </tr>\n",
       "    <tr>\n",
       "      <th>240177</th>\n",
       "      <td>convertible</td>\n",
       "      <td>1984</td>\n",
       "      <td>manual</td>\n",
       "      <td>126</td>\n",
       "      <td>125000</td>\n",
       "      <td>5</td>\n",
       "      <td>petrol</td>\n",
       "      <td>alfa_romeo</td>\n",
       "      <td>no</td>\n",
       "    </tr>\n",
       "    <tr>\n",
       "      <th>99408</th>\n",
       "      <td>convertible</td>\n",
       "      <td>1999</td>\n",
       "      <td>auto</td>\n",
       "      <td>218</td>\n",
       "      <td>150000</td>\n",
       "      <td>1</td>\n",
       "      <td>petrol</td>\n",
       "      <td>mercedes_benz</td>\n",
       "      <td>no</td>\n",
       "    </tr>\n",
       "  </tbody>\n",
       "</table>\n",
       "</div>"
      ],
      "text/plain": [
       "        vehicletype  registrationyear gearbox  power  mileage  \\\n",
       "124667          suv              2006    auto    232   150000   \n",
       "329565        wagon              2003  manual    131   150000   \n",
       "143141        small              1999  manual     60    90000   \n",
       "240177  convertible              1984  manual    126   125000   \n",
       "99408   convertible              1999    auto    218   150000   \n",
       "\n",
       "        registrationmonth  fueltype          brand notrepaired  \n",
       "124667                  6  gasoline           audi         yes  \n",
       "329565                  6    petrol           audi          no  \n",
       "143141                  9    petrol        citroen          no  \n",
       "240177                  5    petrol     alfa_romeo          no  \n",
       "99408                   1    petrol  mercedes_benz          no  "
      ]
     },
     "execution_count": 22,
     "metadata": {},
     "output_type": "execute_result"
    }
   ],
   "source": [
    "x_train.head()"
   ]
  },
  {
   "cell_type": "markdown",
   "metadata": {},
   "source": [
    "membuat fungsi untuk digunakan sebagai pelatihan model:"
   ]
  },
  {
   "cell_type": "code",
   "execution_count": 23,
   "metadata": {},
   "outputs": [],
   "source": [
    "def train_and_evaluate_model(model, x_train, y_train, x_test, y_test, model_name):\n",
    "    # Train the model\n",
    "    time_start = time.time()\n",
    "    model.fit(x_train, y_train)\n",
    "    time_end = time.time()\n",
    "    training_time = np.round(time_end - time_start, 3)\n",
    "    \n",
    "    # Make predictions\n",
    "    predictions = model.predict(x_test)\n",
    "\n",
    "    # Calculate RMSE\n",
    "    rmse = np.sqrt(mean_squared_error(y_test, predictions))\n",
    "\n",
    "    return training_time, rmse"
   ]
  },
  {
   "cell_type": "markdown",
   "metadata": {},
   "source": [
    "fungsi ini digunakan untuk melihat waktu yang dibutuhkan dan nilai `RSME` tiap model"
   ]
  },
  {
   "cell_type": "markdown",
   "metadata": {},
   "source": [
    "### Linear regression"
   ]
  },
  {
   "cell_type": "code",
   "execution_count": 24,
   "metadata": {},
   "outputs": [
    {
     "name": "stdout",
     "output_type": "stream",
     "text": [
      "Linear Regression - Waktu Pelatihan: 0.88 detik\n",
      "Linear Regression - RMSE: 3107.3839271924276\n"
     ]
    }
   ],
   "source": [
    "#Model linear regression\n",
    "linreg = LinearRegression()\n",
    "\n",
    "# Memanggil fungsi dan menangkap hasilnya\n",
    "linreg_time, linreg_rmse = train_and_evaluate_model(linreg, x_train_processed, y_train, x_test_processed, y_test, model_name='Linear Regression')\n",
    "\n",
    "# Menampilkan hasil\n",
    "print(f'Linear Regression - Waktu Pelatihan: {linreg_time} detik')\n",
    "print(f'Linear Regression - RMSE: {linreg_rmse}')"
   ]
  },
  {
   "cell_type": "markdown",
   "metadata": {},
   "source": [
    "terlihat bahwa waktu yang dibutuhkan untuk model ini cukup singkat yaitu 0.327 detik dengan RMSE 3107, nilai RSME ini tidak terlalu baik, tapi mari kita bandingkan dengan model lainnya"
   ]
  },
  {
   "cell_type": "markdown",
   "metadata": {},
   "source": [
    "### Random Forest"
   ]
  },
  {
   "cell_type": "code",
   "execution_count": 25,
   "metadata": {},
   "outputs": [
    {
     "name": "stdout",
     "output_type": "stream",
     "text": [
      "Random Forest - Waktu Pelatihan: 39.707 detik\n",
      "Random Forest - RMSE: 1943.3301949007591\n"
     ]
    }
   ],
   "source": [
    "#model random forest\n",
    "rf = RandomForestRegressor(n_estimators=20, max_depth=10, min_samples_split=10, random_state=42)\n",
    "\n",
    "rf_time, rf_rmse = train_and_evaluate_model(rf, x_train_processed, y_train, x_test_processed, y_test, model_name='Random Forest')\n",
    "\n",
    "print(f'Random Forest - Waktu Pelatihan: {rf_time} detik')\n",
    "print(f'Random Forest - RMSE: {rf_rmse}')"
   ]
  },
  {
   "cell_type": "markdown",
   "metadata": {},
   "source": [
    "terlihat bahwa waktu yang dibutuhkan untuk model ini lebih lama yaitu 12.338 detik dengan RMSE 1943, nilai RSME ini lebih rendah daripada model sebelumnya"
   ]
  },
  {
   "cell_type": "markdown",
   "metadata": {},
   "source": [
    "### Decision tree"
   ]
  },
  {
   "cell_type": "code",
   "execution_count": 26,
   "metadata": {},
   "outputs": [
    {
     "name": "stdout",
     "output_type": "stream",
     "text": [
      "Decision Tree - Waktu Pelatihan: 3.424 detik\n",
      "Decision Tree - RMSE: 2027.2362697356696\n"
     ]
    }
   ],
   "source": [
    "dtr = DecisionTreeRegressor(max_depth=10, min_samples_split=10, random_state=42)\n",
    "\n",
    "dtr_time, dtr_rmse = train_and_evaluate_model(dtr, x_train_processed, y_train, x_test_processed, y_test, model_name='Decision Tree')\n",
    "\n",
    "print(f'Decision Tree - Waktu Pelatihan: {dtr_time} detik')\n",
    "print(f'Decision Tree - RMSE: {dtr_rmse}')"
   ]
  },
  {
   "cell_type": "markdown",
   "metadata": {},
   "source": [
    "terlihat bahwa waktu yang dibutuhkan untuk model ini cukup singkat yaitu 1.016 detik dengan RMSE 2027, nilai RSME ini berada ditengah dari 2 model sebelumnya"
   ]
  },
  {
   "cell_type": "markdown",
   "metadata": {},
   "source": [
    "### Gradient Boosting"
   ]
  },
  {
   "cell_type": "code",
   "execution_count": 27,
   "metadata": {},
   "outputs": [
    {
     "name": "stdout",
     "output_type": "stream",
     "text": [
      "Gradient Boosting - Waktu Pelatihan: 67.081 detik\n",
      "Gradient Boosting - RMSE: 1864.479495363515\n"
     ]
    }
   ],
   "source": [
    "gbr = GradientBoostingRegressor(n_estimators=20, max_depth=10, min_samples_split=10, random_state=42)\n",
    "\n",
    "gbr_time, gbr_rmse = train_and_evaluate_model(gbr, x_train_processed, y_train, x_test_processed, y_test, model_name='Gradient Boosting')\n",
    "\n",
    "print(f'Gradient Boosting - Waktu Pelatihan: {gbr_time} detik')\n",
    "print(f'Gradient Boosting - RMSE: {gbr_rmse}')"
   ]
  },
  {
   "cell_type": "markdown",
   "metadata": {},
   "source": [
    "terlihat bahwa waktu yang dibutuhkan untuk model ini lebih lama lagi dibandingkan model-model sebelumnya yaitu 20.213 detik dengan RMSE 1864, nilai RSME ini tidak terlalu buruk dibandingkan model sebelumnya"
   ]
  },
  {
   "cell_type": "markdown",
   "metadata": {},
   "source": [
    "### Light LGBM"
   ]
  },
  {
   "cell_type": "code",
   "execution_count": 28,
   "metadata": {},
   "outputs": [
    {
     "name": "stdout",
     "output_type": "stream",
     "text": [
      "LGBMRegressor - Waktu Pelatihan: 77.819 detik\n",
      "LGBMRegressor - RMSE: 2139.0420231392422\n"
     ]
    }
   ],
   "source": [
    "lgbr = lgb.LGBMRegressor(n_estimators=20, max_depth=10, learning_rate=0.1, random_state=42)\n",
    "\n",
    "lgbr_time, lgbr_rmse = train_and_evaluate_model(lgbr, x_train_processed, y_train, x_test_processed, y_test, model_name='LGBMRegressor')\n",
    "\n",
    "print(f'LGBMRegressor - Waktu Pelatihan: {lgbr_time} detik')\n",
    "print(f'LGBMRegressor - RMSE: {lgbr_rmse}')"
   ]
  },
  {
   "cell_type": "markdown",
   "metadata": {},
   "source": [
    "terlihat bahwa waktu yang dibutuhkan untuk model ini cukup cepat yaitu 1.069 detik dengan RMSE 2139, nilai RSME ini tidak terlalu buruk dibandingkan model sebelumnya"
   ]
  },
  {
   "cell_type": "markdown",
   "metadata": {},
   "source": [
    "### XGBoost Regressor"
   ]
  },
  {
   "cell_type": "code",
   "execution_count": 29,
   "metadata": {},
   "outputs": [
    {
     "name": "stdout",
     "output_type": "stream",
     "text": [
      "XGBRegressor - Waktu Pelatihan: 71.194 detik\n",
      "XGBRegressor - RMSE: 1975.9565884762521\n"
     ]
    }
   ],
   "source": [
    "xgbr = XGBRegressor(n_estimators=20, max_depth=10, learning_rate=0.1, random_state=42)\n",
    "\n",
    "xgbr_time, xgbr_rmse = train_and_evaluate_model(xgbr, x_train_processed, y_train, x_test_processed, y_test, model_name='XGBRegressor')\n",
    "\n",
    "print(f'XGBRegressor - Waktu Pelatihan: {xgbr_time} detik')\n",
    "print(f'XGBRegressor - RMSE: {xgbr_rmse}')"
   ]
  },
  {
   "cell_type": "markdown",
   "metadata": {},
   "source": [
    "terlihat bahwa waktu yang dibutuhkan untuk model ini cukup lama yaitu 19.814  detik dengan RMSE 1975, nilai RSME ini cukup baik dibandingkan model sebelumnya"
   ]
  },
  {
   "cell_type": "markdown",
   "metadata": {},
   "source": [
    "### CatBoost Regressor"
   ]
  },
  {
   "cell_type": "code",
   "execution_count": 30,
   "metadata": {},
   "outputs": [
    {
     "name": "stdout",
     "output_type": "stream",
     "text": [
      "CatBoost Regressor - Waktu Pelatihan: 14.392 detik\n",
      "CatBoost Regressor - RMSE: 2110.029743189009\n"
     ]
    }
   ],
   "source": [
    "cbr = CatBoostRegressor(n_estimators=20, max_depth=10, learning_rate=0.1, random_state=42, verbose=0)\n",
    "\n",
    "cbr_time,cbr_rmse = train_and_evaluate_model(cbr, x_train_processed, y_train, x_test_processed, y_test, model_name='CatBoost Regressor')\n",
    "\n",
    "print(f'CatBoost Regressor - Waktu Pelatihan: {cbr_time} detik')\n",
    "print(f'CatBoost Regressor - RMSE: {cbr_rmse}')"
   ]
  },
  {
   "cell_type": "markdown",
   "metadata": {},
   "source": [
    "terlihat bahwa waktu yang dibutuhkan untuk model ini cukup baik yaitu  4.715  detik dengan RMSE 2110, nilai RSME ini cukup baik dibandingkan model sebelumnya"
   ]
  },
  {
   "cell_type": "code",
   "execution_count": 31,
   "metadata": {},
   "outputs": [
    {
     "data": {
      "text/html": [
       "<div>\n",
       "<style scoped>\n",
       "    .dataframe tbody tr th:only-of-type {\n",
       "        vertical-align: middle;\n",
       "    }\n",
       "\n",
       "    .dataframe tbody tr th {\n",
       "        vertical-align: top;\n",
       "    }\n",
       "\n",
       "    .dataframe thead th {\n",
       "        text-align: right;\n",
       "    }\n",
       "</style>\n",
       "<table border=\"1\" class=\"dataframe\">\n",
       "  <thead>\n",
       "    <tr style=\"text-align: right;\">\n",
       "      <th></th>\n",
       "      <th>Model</th>\n",
       "      <th>Training Time (s)</th>\n",
       "      <th>RMSE</th>\n",
       "    </tr>\n",
       "  </thead>\n",
       "  <tbody>\n",
       "    <tr>\n",
       "      <th>0</th>\n",
       "      <td>Linear Regression</td>\n",
       "      <td>0.880</td>\n",
       "      <td>3107.383927</td>\n",
       "    </tr>\n",
       "    <tr>\n",
       "      <th>1</th>\n",
       "      <td>Random Forest</td>\n",
       "      <td>39.707</td>\n",
       "      <td>1943.330195</td>\n",
       "    </tr>\n",
       "    <tr>\n",
       "      <th>2</th>\n",
       "      <td>Decision Tree</td>\n",
       "      <td>3.424</td>\n",
       "      <td>2027.236270</td>\n",
       "    </tr>\n",
       "    <tr>\n",
       "      <th>3</th>\n",
       "      <td>Gradient Boosting</td>\n",
       "      <td>67.081</td>\n",
       "      <td>1864.479495</td>\n",
       "    </tr>\n",
       "    <tr>\n",
       "      <th>4</th>\n",
       "      <td>LightGBM</td>\n",
       "      <td>77.819</td>\n",
       "      <td>2139.042023</td>\n",
       "    </tr>\n",
       "    <tr>\n",
       "      <th>5</th>\n",
       "      <td>XGBoost</td>\n",
       "      <td>71.194</td>\n",
       "      <td>1975.956588</td>\n",
       "    </tr>\n",
       "    <tr>\n",
       "      <th>6</th>\n",
       "      <td>CatBoost</td>\n",
       "      <td>14.392</td>\n",
       "      <td>2110.029743</td>\n",
       "    </tr>\n",
       "  </tbody>\n",
       "</table>\n",
       "</div>"
      ],
      "text/plain": [
       "               Model  Training Time (s)         RMSE\n",
       "0  Linear Regression              0.880  3107.383927\n",
       "1      Random Forest             39.707  1943.330195\n",
       "2      Decision Tree              3.424  2027.236270\n",
       "3  Gradient Boosting             67.081  1864.479495\n",
       "4           LightGBM             77.819  2139.042023\n",
       "5            XGBoost             71.194  1975.956588\n",
       "6           CatBoost             14.392  2110.029743"
      ]
     },
     "execution_count": 31,
     "metadata": {},
     "output_type": "execute_result"
    }
   ],
   "source": [
    "# Menggabungkan hasil model\n",
    "results = [\n",
    "    {'Model': 'Linear Regression', 'Training Time (s)': linreg_time, 'RMSE': linreg_rmse},\n",
    "    {'Model': 'Random Forest', 'Training Time (s)': rf_time, 'RMSE': rf_rmse},\n",
    "    {'Model': 'Decision Tree', 'Training Time (s)': dtr_time, 'RMSE': dtr_rmse},\n",
    "    {'Model': 'Gradient Boosting', 'Training Time (s)': gbr_time, 'RMSE': gbr_rmse},\n",
    "    {'Model': 'LightGBM', 'Training Time (s)': lgbr_time, 'RMSE': lgbr_rmse},\n",
    "    {'Model': 'XGBoost', 'Training Time (s)': xgbr_time, 'RMSE': xgbr_rmse},\n",
    "    {'Model': 'CatBoost', 'Training Time (s)': cbr_time, 'RMSE': cbr_rmse}\n",
    "]\n",
    "\n",
    "# Mengubah hasil menjadi DataFrame\n",
    "results_df = pd.DataFrame(results)\n",
    "\n",
    "# Menampilkan tabel hasil\n",
    "results_df"
   ]
  },
  {
   "cell_type": "markdown",
   "metadata": {},
   "source": [
    "**Kesimpulan:**\n",
    "1. terlihat bahwa model yang paling cepat dalam eksekusi adalah model `linear regression` dengan waktu `0.32` detik akan tetapi memiliki nilai `rsme` yang tertinggi yaitu `3107`\n",
    "2. untuk nilai `rsme` terendah adalah dengan menggunakan `gradient boosting` dengan nilai `1864` akan tetapi model ini memiliki waktu eksekusi terlama yaitu selama `20` detik\n",
    "3. untuk model `catboost`, `lightlgbm` dan `decision tree` menghasilkan waktu eksekusi yang tidak sampai `5` detik, dengan nilai `rsme` yang tidak jauh berbeda. \n",
    "\n",
    "pada tahap ini sepertinya model terbaik untuk digunakan adalah model `decision tree` dengan waktu eksekusi `1.016` dan nilai `rsme` `2027`."
   ]
  },
  {
   "cell_type": "markdown",
   "metadata": {},
   "source": [
    "## Analisis Model"
   ]
  },
  {
   "cell_type": "markdown",
   "metadata": {},
   "source": [
    "### Linear Regression analisis"
   ]
  },
  {
   "cell_type": "code",
   "execution_count": 32,
   "metadata": {},
   "outputs": [
    {
     "name": "stdout",
     "output_type": "stream",
     "text": [
      "Waktu untuk predicting: 0.078 detik\n",
      "Total waktu linreg: 0.958 detik\n",
      "RMSE test linreg: 3107.38\n",
      "RMSE cross linreg: 3130.67\n"
     ]
    }
   ],
   "source": [
    "# Latih model \n",
    "linreg.fit(x_train_processed, y_train)\n",
    "\n",
    "# Menghitung waktu untuk prediksi \n",
    "time_start = time.time()\n",
    "predict_train_lr = linreg.predict(x_train_processed)\n",
    "predict_test_lr = linreg.predict(x_test_processed)\n",
    "time_end = time.time()\n",
    "diff_pred_linreg = np.round(time_end - time_start, 3)\n",
    "total_linreg = np.round(linreg_time + diff_pred_linreg, 3)\n",
    "print('Waktu untuk predicting:', f'{diff_pred_linreg}','detik')\n",
    "print('Total waktu linreg:', f'{total_linreg}','detik')\n",
    "\n",
    "cross_linreg = cross_val_score(linreg, preprocessor.fit_transform(features), target, cv=3, scoring='neg_mean_squared_error')\n",
    "cross_linreg = np.mean(np.sqrt(-cross_linreg)).round(2)\n",
    "\n",
    "# Menghitung RMSE pada data test\n",
    "pred_linreg = np.sqrt(mean_squared_error(y_test, predict_test_lr)).round(2)\n",
    "print('RMSE test linreg:', pred_linreg)\n",
    "print('RMSE cross linreg:', cross_linreg)"
   ]
  },
  {
   "cell_type": "markdown",
   "metadata": {},
   "source": [
    "terlihat bahwa waktu prediksi sangat singkat hanya `0.026` detik dengan nilai rsme test dan cross yang tidak jauh berbeda. total waktu yang dibutuhkan model ini adalah `0.428` detik"
   ]
  },
  {
   "cell_type": "markdown",
   "metadata": {},
   "source": [
    "### Random Forest analisis"
   ]
  },
  {
   "cell_type": "code",
   "execution_count": 33,
   "metadata": {},
   "outputs": [
    {
     "name": "stdout",
     "output_type": "stream",
     "text": [
      "Waktu untuk predicting: 1.892 detik\n",
      "Total waktu random forest: 41.599 detik\n",
      "RMSE test random forest: 1943.33\n",
      "RMSE cross random forest: 1930.2\n"
     ]
    }
   ],
   "source": [
    "# Latih model \n",
    "rf.fit(x_train_processed, y_train)\n",
    "\n",
    "# Menghitung waktu untuk prediksi \n",
    "time_start = time.time()\n",
    "predict_train_rf = rf.predict(x_train_processed)\n",
    "predict_test_rf = rf.predict(x_test_processed)\n",
    "time_end = time.time()\n",
    "diff_pred_rf = np.round(time_end - time_start, 3)\n",
    "total_rf = np.round(rf_time + diff_pred_rf, 3)\n",
    "print('Waktu untuk predicting:', f'{diff_pred_rf}','detik')\n",
    "print('Total waktu random forest:', f'{total_rf}','detik')\n",
    "\n",
    "cross_rf = cross_val_score(rf, preprocessor.fit_transform(features), target, cv=3, scoring='neg_mean_squared_error')\n",
    "cross_rf = np.mean(np.sqrt(-cross_rf)).round(2)\n",
    "\n",
    "# Menghitung RMSE pada data test\n",
    "pred_rf = np.sqrt(mean_squared_error(y_test, predict_test_rf)).round(2)\n",
    "print('RMSE test random forest:', pred_rf)\n",
    "print('RMSE cross random forest:', cross_rf)"
   ]
  },
  {
   "cell_type": "markdown",
   "metadata": {},
   "source": [
    "terlihat bahwa waktu prediksi sangat singkat hanya  `0.576` detik dengan nilai rsme test dan cross yang tidak jauh berbeda. total waktu yang dibutuhkan model ini adalah `13.973` detik"
   ]
  },
  {
   "cell_type": "markdown",
   "metadata": {},
   "source": [
    "### Decision Tree Analisis"
   ]
  },
  {
   "cell_type": "code",
   "execution_count": 34,
   "metadata": {},
   "outputs": [
    {
     "name": "stdout",
     "output_type": "stream",
     "text": [
      "Waktu untuk predicting: 0.109 detik\n",
      "Total waktu decision tree: 3.533 detik\n",
      "RMSE test decision tree: 2027.24\n",
      "RMSE cross decision tree: 2025.1\n"
     ]
    }
   ],
   "source": [
    "# Latih model \n",
    "dtr.fit(x_train_processed, y_train)\n",
    "\n",
    "# Menghitung waktu untuk prediksi \n",
    "time_start = time.time()\n",
    "predict_train_dtr = dtr.predict(x_train_processed)\n",
    "predict_test_dtr = dtr.predict(x_test_processed)\n",
    "time_end = time.time()\n",
    "diff_pred_dtr = np.round(time_end - time_start, 3)\n",
    "total_dtr = np.round(dtr_time + diff_pred_dtr, 3)\n",
    "print('Waktu untuk predicting:', f'{diff_pred_dtr}','detik')\n",
    "print('Total waktu decision tree:', f'{total_dtr}','detik')\n",
    "\n",
    "cross_dtr = cross_val_score(dtr, preprocessor.fit_transform(features), target, cv=3, scoring='neg_mean_squared_error')\n",
    "cross_dtr = np.mean(np.sqrt(-cross_dtr)).round(2)\n",
    "\n",
    "# Menghitung RMSE pada data test\n",
    "pred_dtr = np.sqrt(mean_squared_error(y_test, predict_test_dtr)).round(2)\n",
    "print('RMSE test decision tree:', pred_dtr)\n",
    "print('RMSE cross decision tree:', cross_dtr)"
   ]
  },
  {
   "cell_type": "markdown",
   "metadata": {},
   "source": [
    "terlihat bahwa waktu prediksi sangat singkat hanya  `0.04` detik dengan nilai rsme test dan cross yang tidak jauh berbeda. total waktu yang dibutuhkan model ini adalah `1.102` detik "
   ]
  },
  {
   "cell_type": "markdown",
   "metadata": {},
   "source": [
    "### Gradient Boosting Analisis"
   ]
  },
  {
   "cell_type": "markdown",
   "metadata": {},
   "source": []
  },
  {
   "cell_type": "code",
   "execution_count": 35,
   "metadata": {},
   "outputs": [
    {
     "name": "stdout",
     "output_type": "stream",
     "text": [
      "Waktu untuk predicting: 1.615 detik\n",
      "Total waktu gradient boost: 68.696 detik\n",
      "RMSE test gradient boost: 1864.48\n",
      "RMSE cross gradient boost: 1857.88\n"
     ]
    }
   ],
   "source": [
    "# Latih model\n",
    "gbr.fit(x_train_processed, y_train)\n",
    "\n",
    "# Menghitung waktu \n",
    "time_start = time.time()\n",
    "predict_train_gbr = gbr.predict(x_train_processed)\n",
    "predict_test_gbr = gbr.predict(x_test_processed)\n",
    "time_end = time.time()\n",
    "diff_pred_gbr = np.round(time_end - time_start, 3)\n",
    "total_gbr = np.round(gbr_time + diff_pred_gbr, 3)\n",
    "print('Waktu untuk predicting:', f'{diff_pred_gbr}','detik')\n",
    "print('Total waktu gradient boost:', f'{total_gbr}','detik')\n",
    "\n",
    "cross_gbr = cross_val_score(gbr, preprocessor.fit_transform(features), target, cv=3, scoring='neg_mean_squared_error')\n",
    "cross_gbr = np.mean(np.sqrt(-cross_gbr)).round(2)\n",
    "\n",
    "# Menghitung RMSE pada data test\n",
    "pred_gbr = np.sqrt(mean_squared_error(y_test, predict_test_gbr)).round(2)\n",
    "print('RMSE test gradient boost:', pred_gbr)\n",
    "print('RMSE cross gradient boost:', cross_gbr)"
   ]
  },
  {
   "cell_type": "markdown",
   "metadata": {},
   "source": [
    "terlihat bahwa waktu prediksi sangat singkat hanya  `0.52` detik dengan nilai rsme test dan cross yang tidak jauh berbeda. total waktu yang dibutuhkan model ini adalah `24.563` detik"
   ]
  },
  {
   "cell_type": "markdown",
   "metadata": {},
   "source": [
    "### LightGBM"
   ]
  },
  {
   "cell_type": "code",
   "execution_count": 36,
   "metadata": {},
   "outputs": [
    {
     "name": "stdout",
     "output_type": "stream",
     "text": [
      "Waktu untuk predicting: 0.698 detik\n",
      "Total waktu LightLGBM: 78.517 detik\n"
     ]
    }
   ],
   "source": [
    "# Latih model\n",
    "lgbr.fit(x_train_processed, y_train)\n",
    "\n",
    "# Menghitung waktu untuk prediksi \n",
    "time_start = time.time()\n",
    "predict_train_lbgr = lgbr.predict(x_train_processed)\n",
    "predict_test_lgbr = lgbr.predict(x_test_processed)\n",
    "time_end = time.time()\n",
    "diff_pred_lgbr = np.round(time_end - time_start, 3)\n",
    "total_lgbr = np.round(lgbr_time + diff_pred_lgbr, 3)\n",
    "print('Waktu untuk predicting:', f'{diff_pred_lgbr}','detik')\n",
    "print('Total waktu LightLGBM:', f'{total_lgbr}','detik')"
   ]
  },
  {
   "cell_type": "code",
   "execution_count": 37,
   "metadata": {},
   "outputs": [
    {
     "name": "stdout",
     "output_type": "stream",
     "text": [
      "RMSE test lightGBM: 2139.04\n",
      "RMSE cross lightGBM: 2130.28\n"
     ]
    }
   ],
   "source": [
    "cross_lgbr = cross_val_score(lgbr, preprocessor.fit_transform(features), target, cv=3, scoring='neg_mean_squared_error')\n",
    "cross_lgbr = np.mean(np.sqrt(-cross_lgbr)).round(2)\n",
    "\n",
    "# Menghitung RMSE pada data test\n",
    "pred_lgbr = np.sqrt(mean_squared_error(y_test, predict_test_lgbr)).round(2)\n",
    "print('RMSE test lightGBM:', pred_lgbr)\n",
    "print('RMSE cross lightGBM:', cross_lgbr)"
   ]
  },
  {
   "cell_type": "markdown",
   "metadata": {},
   "source": [
    "terlihat bahwa waktu prediksi sangat singkat hanya  `0.49` detik dengan nilai rsme test dan cross yang tidak jauh berbeda. total waktu yang dibutuhkan model ini adalah `1.626` detik"
   ]
  },
  {
   "cell_type": "markdown",
   "metadata": {},
   "source": [
    "### XGBoost"
   ]
  },
  {
   "cell_type": "code",
   "execution_count": 38,
   "metadata": {},
   "outputs": [
    {
     "name": "stdout",
     "output_type": "stream",
     "text": [
      "Waktu untuk predicting: 0.907 detik\n",
      "Total waktu XGBoost: 72.101 detik\n"
     ]
    }
   ],
   "source": [
    "# Latih model regresi linier\n",
    "xgbr.fit(x_train_processed, y_train)\n",
    "\n",
    "# Menghitung waktu untuk prediksi regresi linier\n",
    "time_start = time.time()\n",
    "predict_train_xgbr = xgbr.predict(x_train_processed)\n",
    "predict_test_xgbr = xgbr.predict(x_test_processed)\n",
    "time_end = time.time()\n",
    "diff_pred_xgbr = np.round(time_end - time_start, 3)\n",
    "total_xgbr = np.round(xgbr_time + diff_pred_xgbr, 3)\n",
    "print('Waktu untuk predicting:', f'{diff_pred_xgbr}','detik')\n",
    "print('Total waktu XGBoost:', f'{total_xgbr}','detik')"
   ]
  },
  {
   "cell_type": "code",
   "execution_count": 39,
   "metadata": {},
   "outputs": [
    {
     "name": "stdout",
     "output_type": "stream",
     "text": [
      "RMSE test XGBoost: 1975.96\n",
      "RMSE cross XGBoost: 1968.28\n"
     ]
    }
   ],
   "source": [
    "# menghitung skor RMSE untuk dataset training dan dataset test menggunakan cross validation\n",
    "params = {\n",
    "        'eval_set':[(x_train_processed, y_train),(x_test_processed, y_test)], \n",
    "        'verbose': False\n",
    "}\n",
    "\n",
    "# menjalankan cross validation\n",
    "cross_xgbr = cross_val_score(xgbr, preprocessor.fit_transform(features), target, cv=3, scoring='neg_mean_squared_error', fit_params=params)\n",
    "cross_xgbr = np.mean(np.sqrt(-cross_xgbr)).round(2)\n",
    "\n",
    "# Menghitung RMSE pada data test\n",
    "pred_xgbr = np.sqrt(mean_squared_error(y_test, predict_test_xgbr)).round(2)\n",
    "print('RMSE test XGBoost:', pred_xgbr)\n",
    "print('RMSE cross XGBoost:', cross_xgbr)"
   ]
  },
  {
   "cell_type": "markdown",
   "metadata": {},
   "source": [
    "terlihat bahwa waktu prediksi sangat singkat hanya  `0.68` detik dengan nilai rsme test dan cross yang tidak jauh berbeda. total waktu yang dibutuhkan model ini adalah `24.43` detik"
   ]
  },
  {
   "cell_type": "markdown",
   "metadata": {},
   "source": [
    "### CatBoost"
   ]
  },
  {
   "cell_type": "code",
   "execution_count": 40,
   "metadata": {},
   "outputs": [
    {
     "name": "stdout",
     "output_type": "stream",
     "text": [
      "Waktu untuk predicting: 5.066 detik\n",
      "Total waktu CatBoost: 19.458 detik\n"
     ]
    }
   ],
   "source": [
    "# Latih model regresi linier\n",
    "cbr.fit(x_train_processed, y_train)\n",
    "\n",
    "# Menghitung waktu untuk prediksi regresi linier\n",
    "time_start = time.time()\n",
    "predict_train_cbr = cbr.predict(x_train_processed)\n",
    "predict_test_cbr = cbr.predict(x_test_processed)\n",
    "time_end = time.time()\n",
    "diff_pred_cbr = np.round(time_end - time_start, 3)\n",
    "total_cbr = np.round(cbr_time + diff_pred_cbr, 3)\n",
    "print('Waktu untuk predicting:', f'{diff_pred_cbr}','detik')\n",
    "print('Total waktu CatBoost:', f'{total_cbr}','detik')"
   ]
  },
  {
   "cell_type": "code",
   "execution_count": 41,
   "metadata": {},
   "outputs": [
    {
     "name": "stdout",
     "output_type": "stream",
     "text": [
      "Training on fold [0/3]\n",
      "0:\tlearn: 5289.7343480\ttest: 5294.4901005\tbest: 5294.4901005 (0)\ttotal: 401ms\tremaining: 6m 40s\n",
      "100:\tlearn: 1698.7933430\ttest: 1722.7843563\tbest: 1722.7843563 (100)\ttotal: 19.2s\tremaining: 2m 50s\n",
      "\n",
      "bestTest = 1696.201069\n",
      "bestIteration = 156\n",
      "\n",
      "Training on fold [1/3]\n",
      "0:\tlearn: 5278.7260793\ttest: 5285.7325889\tbest: 5285.7325889 (0)\ttotal: 191ms\tremaining: 3m 10s\n",
      "100:\tlearn: 1690.7566078\ttest: 1736.5085166\tbest: 1736.5085166 (100)\ttotal: 16.4s\tremaining: 2m 26s\n",
      "200:\tlearn: 1625.1354218\ttest: 1699.4253077\tbest: 1699.4253077 (200)\ttotal: 32s\tremaining: 2m 7s\n",
      "\n",
      "bestTest = 1695.444084\n",
      "bestIteration = 222\n",
      "\n",
      "Training on fold [2/3]\n",
      "0:\tlearn: 5301.5206378\ttest: 5289.9573290\tbest: 5289.9573290 (0)\ttotal: 192ms\tremaining: 3m 12s\n",
      "100:\tlearn: 1693.2302795\ttest: 1739.5265779\tbest: 1739.5265779 (100)\ttotal: 16.1s\tremaining: 2m 23s\n",
      "\n",
      "bestTest = 1704.66971\n",
      "bestIteration = 191\n",
      "\n",
      "Mean RMSE from cross-validation: 1800.66\n"
     ]
    }
   ],
   "source": [
    "from catboost import CatBoostRegressor, Pool, cv\n",
    "import numpy as np\n",
    "import pandas as pd\n",
    "\n",
    "# Definisikan parameter cross validation\n",
    "param_cbr = {\n",
    "    'iterations': 1000,\n",
    "    'learning_rate': 0.3,\n",
    "    'loss_function': 'RMSE',\n",
    "    'eval_metric': 'RMSE',\n",
    "    'early_stopping_rounds': 3,\n",
    "    'verbose': 100\n",
    "}\n",
    "\n",
    "# Mengisi nilai NaN pada fitur kategorikal\n",
    "imputer = SimpleImputer(strategy='most_frequent')\n",
    "features[cat_onehot_col + cat_ordinal_col] = imputer.fit_transform(features[cat_onehot_col + cat_ordinal_col])\n",
    "\n",
    "# Memisahkan data menjadi training dan testing\n",
    "x_train, x_test, y_train, y_test = train_test_split(features, target, test_size=0.2, random_state=42)\n",
    "\n",
    "# Menggunakan data sebelum preprocessing\n",
    "train_pool = Pool(data=x_train, label=y_train, cat_features=cat_onehot_col + cat_ordinal_col)\n",
    "test_pool = Pool(data=x_test, label=y_test, cat_features=cat_onehot_col + cat_ordinal_col)\n",
    "\n",
    "# Menjalankan cross validation\n",
    "cv_results = cv(\n",
    "    params=param_cbr,\n",
    "    pool=train_pool,\n",
    "    fold_count=3,\n",
    "    partition_random_seed=42,\n",
    "    verbose=100\n",
    ")\n",
    "\n",
    "# Mendapatkan hasil cross-validation\n",
    "mean_rmse = np.mean(cv_results['test-RMSE-mean']).round(2)\n",
    "print(f\"Mean RMSE from cross-validation: {mean_rmse}\")\n"
   ]
  },
  {
   "cell_type": "code",
   "execution_count": 42,
   "metadata": {},
   "outputs": [
    {
     "name": "stdout",
     "output_type": "stream",
     "text": [
      "RMSE test catboost: 2110.03\n",
      "RMSE cross catboost: 1698.33\n"
     ]
    }
   ],
   "source": [
    "# menghitung skor RMSE untuk full data menggunakan cross validation\n",
    "ave_cross_cbr = np.mean([1696,1695,1704]).round(2)\n",
    "pred_cat = np.sqrt(mean_squared_error(y_test, predict_test_cbr)).round(2)\n",
    "print('RMSE test catboost:',pred_cat)\n",
    "print('RMSE cross catboost:',ave_cross_cbr)"
   ]
  },
  {
   "cell_type": "markdown",
   "metadata": {},
   "source": [
    "terlihat bahwa waktu prediksi sangat singkat hanya  `2.459` detik dengan nilai rsme test dan cross yang cukup jauh berbeda. total waktu yang dibutuhkan model ini adalah `6.873` detik"
   ]
  },
  {
   "cell_type": "markdown",
   "metadata": {},
   "source": [
    "gabungkan semuanya untuk membandingkan model"
   ]
  },
  {
   "cell_type": "code",
   "execution_count": 43,
   "metadata": {},
   "outputs": [
    {
     "data": {
      "text/html": [
       "<div>\n",
       "<style scoped>\n",
       "    .dataframe tbody tr th:only-of-type {\n",
       "        vertical-align: middle;\n",
       "    }\n",
       "\n",
       "    .dataframe tbody tr th {\n",
       "        vertical-align: top;\n",
       "    }\n",
       "\n",
       "    .dataframe thead th {\n",
       "        text-align: right;\n",
       "    }\n",
       "</style>\n",
       "<table border=\"1\" class=\"dataframe\">\n",
       "  <thead>\n",
       "    <tr style=\"text-align: right;\">\n",
       "      <th></th>\n",
       "      <th>fit time</th>\n",
       "      <th>pred time</th>\n",
       "      <th>total time</th>\n",
       "      <th>RMSE-test</th>\n",
       "      <th>RMSE-crossval</th>\n",
       "    </tr>\n",
       "  </thead>\n",
       "  <tbody>\n",
       "    <tr>\n",
       "      <th>Linear Regression</th>\n",
       "      <td>0.880</td>\n",
       "      <td>0.078</td>\n",
       "      <td>0.958</td>\n",
       "      <td>3107.38</td>\n",
       "      <td>3130.67</td>\n",
       "    </tr>\n",
       "    <tr>\n",
       "      <th>Random Forest</th>\n",
       "      <td>39.707</td>\n",
       "      <td>1.892</td>\n",
       "      <td>41.599</td>\n",
       "      <td>1943.33</td>\n",
       "      <td>1930.20</td>\n",
       "    </tr>\n",
       "    <tr>\n",
       "      <th>Decision Tree</th>\n",
       "      <td>3.424</td>\n",
       "      <td>0.109</td>\n",
       "      <td>3.533</td>\n",
       "      <td>2027.24</td>\n",
       "      <td>2025.10</td>\n",
       "    </tr>\n",
       "    <tr>\n",
       "      <th>Gradient Boosting</th>\n",
       "      <td>67.081</td>\n",
       "      <td>1.615</td>\n",
       "      <td>68.696</td>\n",
       "      <td>1864.48</td>\n",
       "      <td>1857.88</td>\n",
       "    </tr>\n",
       "    <tr>\n",
       "      <th>XGBoost</th>\n",
       "      <td>71.194</td>\n",
       "      <td>0.907</td>\n",
       "      <td>72.101</td>\n",
       "      <td>1975.96</td>\n",
       "      <td>1968.28</td>\n",
       "    </tr>\n",
       "    <tr>\n",
       "      <th>LightGBM</th>\n",
       "      <td>77.819</td>\n",
       "      <td>0.698</td>\n",
       "      <td>78.517</td>\n",
       "      <td>2139.04</td>\n",
       "      <td>2130.28</td>\n",
       "    </tr>\n",
       "    <tr>\n",
       "      <th>CatBoost</th>\n",
       "      <td>14.392</td>\n",
       "      <td>5.066</td>\n",
       "      <td>19.458</td>\n",
       "      <td>2110.03</td>\n",
       "      <td>1698.33</td>\n",
       "    </tr>\n",
       "  </tbody>\n",
       "</table>\n",
       "</div>"
      ],
      "text/plain": [
       "                   fit time  pred time  total time  RMSE-test  RMSE-crossval\n",
       "Linear Regression     0.880      0.078       0.958    3107.38        3130.67\n",
       "Random Forest        39.707      1.892      41.599    1943.33        1930.20\n",
       "Decision Tree         3.424      0.109       3.533    2027.24        2025.10\n",
       "Gradient Boosting    67.081      1.615      68.696    1864.48        1857.88\n",
       "XGBoost              71.194      0.907      72.101    1975.96        1968.28\n",
       "LightGBM             77.819      0.698      78.517    2139.04        2130.28\n",
       "CatBoost             14.392      5.066      19.458    2110.03        1698.33"
      ]
     },
     "execution_count": 43,
     "metadata": {},
     "output_type": "execute_result"
    }
   ],
   "source": [
    "# membuat tabel komparasi\n",
    "table_comp = pd.DataFrame(data = {\n",
    "    'fit time': [linreg_time, rf_time, dtr_time, gbr_time, xgbr_time, lgbr_time, cbr_time],\n",
    "    'pred time': [diff_pred_linreg, diff_pred_rf,diff_pred_dtr, diff_pred_gbr, diff_pred_xgbr, diff_pred_lgbr, diff_pred_cbr],\n",
    "    'total time': [total_linreg, total_rf, total_dtr, total_gbr, total_xgbr, total_lgbr, total_cbr],\n",
    "    'RMSE-test': [pred_linreg, pred_rf, pred_dtr, pred_gbr, pred_xgbr, pred_lgbr, pred_cat],\n",
    "    'RMSE-crossval': [cross_linreg, cross_rf, cross_dtr, cross_gbr, cross_xgbr, cross_lgbr, ave_cross_cbr]\n",
    "}, index=['Linear Regression','Random Forest','Decision Tree', 'Gradient Boosting','XGBoost','LightGBM','CatBoost'])\n",
    "\n",
    "# menampilkan tabel komparasi\n",
    "table_comp"
   ]
  },
  {
   "cell_type": "markdown",
   "metadata": {},
   "source": [
    "**Kesimpulan:**\n",
    "1. Gradient Boosting dan CatBoost adalah pilihan yang baik jika mengutamakan performa prediksi. Namun, CatBoost memiliki RMSE-crossval yang lebih rendah, menunjukkan performa yang lebih konsisten pada data yang berbeda.\n",
    "2. Linear Regression adalah pilihan yang cepat jika mengutamakan efisiensi waktu, tetapi memiliki performa prediksi yang jauh lebih rendah.\n",
    "\n",
    "akan tetapi lebih disarankan menggunakan catboost atau decision tree, karena memiliki keseluruhan nilai yang cukup baik."
   ]
  },
  {
   "cell_type": "markdown",
   "metadata": {},
   "source": [
    "## Kesimpulan"
   ]
  },
  {
   "cell_type": "markdown",
   "metadata": {},
   "source": [
    "1. terlihat bahwa model yang paling cepat dalam eksekusi adalah model `linear regression` dengan waktu `0.32` detik akan tetapi memiliki nilai `rsme` yang tertinggi yaitu `3107`\n",
    "2. untuk nilai `rsme` terendah adalah dengan menggunakan `gradient boosting` dengan nilai `1864` akan tetapi model ini memiliki waktu eksekusi terlama yaitu selama `20` detik\n",
    "3. untuk model `catboost`, `lightlgbm` dan `decision tree` menghasilkan waktu eksekusi yang tidak sampai `5` detik, dengan nilai `rsme` yang tidak jauh berbeda. \n",
    "4. Gradient Boosting dan CatBoost adalah pilihan yang baik jika mengutamakan performa prediksi. Namun, CatBoost memiliki RMSE-crossval yang lebih rendah, menunjukkan performa yang lebih konsisten pada data yang berbeda.\n",
    "5. Linear Regression adalah pilihan yang cepat jika mengutamakan efisiensi waktu, tetapi memiliki performa prediksi yang jauh lebih rendah."
   ]
  },
  {
   "cell_type": "markdown",
   "metadata": {},
   "source": [
    "### Temuan"
   ]
  },
  {
   "cell_type": "markdown",
   "metadata": {},
   "source": [
    "1. terlihat bahwa dataset berisikan `16` kolom dengan `354368` entry data\n",
    "2. kolom memiliki judul kolom yang besar kecil sehingga harus diperbaiki\n",
    "3. terdapat beberapa tipe data yang salah pada kolom yang seharusnya dengan tipe data `datetime`\n",
    "4. terlihat ada beberapa kolom yang memiliki nilai yang hilang.\n",
    "5. kolom-kolom numerik berisikan nilai yang tidak masuk akal sehingga diputuskan menghapusnya\n",
    "6. terdapat banyak sekali duplikasi data sehingga diputuskan menghapusnya\n",
    "7. terdapat kolom-kolom yang dibutuhkan diputuskan untuk menghapusnya\n",
    "8. hasil setiap kali pengkodean dapat berbeda-beda\n",
    "\n"
   ]
  },
  {
   "cell_type": "markdown",
   "metadata": {},
   "source": [
    "### Rekomendasi"
   ]
  },
  {
   "cell_type": "markdown",
   "metadata": {},
   "source": [
    "dikarenakan perusahaan lebih tertarik dengan:\n",
    "- kualitas prediksi terbaik terdapat pada `gradient boosting` akan tetapi memiliki waktu eksekusi yang lama\n",
    "- kecepatan model dalam memprediksi terdapat pada `linear regresson` akan tetapi memiliki akurasi yang kurang baik\n",
    "- waktu yang diperlukan untuk melatih model terdapat pada model `linear regression` akan tetapi dengan akurasi yang kurang baik.\n",
    "\n",
    "mempertimbangkan semua faktor secara keseluruhan:\n",
    "sebelum evaluasi disarankan untuk menggunakan adalah model `decision tree` dengan waktu eksekusi `1.016` dan nilai `rsme` `2027`.\n",
    "setelah evaluasi disarankan menggunakan `catboost` atau `decision tree`, karena memiliki keseluruhan nilai yang cukup baik. `catboost` memiliki waktu yang tidak terlalu lama dengan rsme cross yang cukup kecil sehigga cukup akurat."
   ]
  }
 ],
 "metadata": {
  "ExecuteTimeLog": [
   {
    "duration": 5282,
    "start_time": "2024-06-09T00:04:31.956Z"
   },
   {
    "duration": 850,
    "start_time": "2024-06-09T00:05:11.320Z"
   },
   {
    "duration": 910,
    "start_time": "2024-06-09T00:06:45.860Z"
   },
   {
    "duration": 748,
    "start_time": "2024-06-09T00:06:54.109Z"
   },
   {
    "duration": 163,
    "start_time": "2024-06-09T00:07:23.739Z"
   },
   {
    "duration": 137,
    "start_time": "2024-06-09T00:07:50.590Z"
   },
   {
    "duration": 5,
    "start_time": "2024-06-09T00:11:38.051Z"
   },
   {
    "duration": 138,
    "start_time": "2024-06-09T00:11:41.510Z"
   },
   {
    "duration": 511,
    "start_time": "2024-06-09T00:13:16.850Z"
   },
   {
    "duration": 2736,
    "start_time": "2024-06-09T00:13:40.580Z"
   },
   {
    "duration": 114,
    "start_time": "2024-06-09T00:14:14.331Z"
   },
   {
    "duration": 118,
    "start_time": "2024-06-09T00:17:05.161Z"
   },
   {
    "duration": 9,
    "start_time": "2024-06-09T00:29:47.704Z"
   },
   {
    "duration": 11,
    "start_time": "2024-06-09T00:31:32.040Z"
   },
   {
    "duration": 183,
    "start_time": "2024-06-09T00:33:34.534Z"
   },
   {
    "duration": 106,
    "start_time": "2024-06-09T00:34:31.646Z"
   },
   {
    "duration": 300,
    "start_time": "2024-06-09T00:34:50.549Z"
   },
   {
    "duration": 1076,
    "start_time": "2024-06-09T00:35:44.560Z"
   },
   {
    "duration": 1344,
    "start_time": "2024-06-09T00:37:48.729Z"
   },
   {
    "duration": 19,
    "start_time": "2024-06-09T00:38:12.098Z"
   },
   {
    "duration": 23,
    "start_time": "2024-06-09T00:38:26.859Z"
   },
   {
    "duration": 433,
    "start_time": "2024-06-09T00:39:23.240Z"
   },
   {
    "duration": 4,
    "start_time": "2024-06-09T00:44:11.768Z"
   },
   {
    "duration": 66,
    "start_time": "2024-06-09T00:45:47.011Z"
   },
   {
    "duration": 90,
    "start_time": "2024-06-09T00:45:57.930Z"
   },
   {
    "duration": 74,
    "start_time": "2024-06-09T00:46:04.808Z"
   },
   {
    "duration": 68,
    "start_time": "2024-06-09T00:46:15.509Z"
   },
   {
    "duration": 90,
    "start_time": "2024-06-09T00:47:02.550Z"
   },
   {
    "duration": 68,
    "start_time": "2024-06-09T00:47:15.030Z"
   },
   {
    "duration": 777,
    "start_time": "2024-06-09T00:48:14.349Z"
   },
   {
    "duration": 1809,
    "start_time": "2024-06-09T01:07:35.383Z"
   },
   {
    "duration": 770,
    "start_time": "2024-06-09T01:07:37.195Z"
   },
   {
    "duration": 161,
    "start_time": "2024-06-09T01:07:37.968Z"
   },
   {
    "duration": 5,
    "start_time": "2024-06-09T01:07:38.133Z"
   },
   {
    "duration": 2847,
    "start_time": "2024-06-09T01:07:38.141Z"
   },
   {
    "duration": 115,
    "start_time": "2024-06-09T01:07:40.991Z"
   },
   {
    "duration": 125,
    "start_time": "2024-06-09T01:07:41.109Z"
   },
   {
    "duration": 9,
    "start_time": "2024-06-09T01:07:41.237Z"
   },
   {
    "duration": 12,
    "start_time": "2024-06-09T01:07:41.249Z"
   },
   {
    "duration": 177,
    "start_time": "2024-06-09T01:07:41.267Z"
   },
   {
    "duration": 102,
    "start_time": "2024-06-09T01:07:41.447Z"
   },
   {
    "duration": 264,
    "start_time": "2024-06-09T01:07:41.552Z"
   },
   {
    "duration": 1917,
    "start_time": "2024-06-09T01:07:41.819Z"
   },
   {
    "duration": 8,
    "start_time": "2024-06-09T01:07:43.739Z"
   },
   {
    "duration": 0,
    "start_time": "2024-06-09T01:07:43.750Z"
   },
   {
    "duration": 0,
    "start_time": "2024-06-09T01:07:43.753Z"
   },
   {
    "duration": 0,
    "start_time": "2024-06-09T01:07:43.756Z"
   },
   {
    "duration": 341,
    "start_time": "2024-06-09T01:08:50.275Z"
   },
   {
    "duration": 67,
    "start_time": "2024-06-09T01:09:18.749Z"
   },
   {
    "duration": 68,
    "start_time": "2024-06-09T01:09:21.737Z"
   },
   {
    "duration": 549,
    "start_time": "2024-06-09T01:09:24.696Z"
   },
   {
    "duration": 494,
    "start_time": "2024-06-09T01:17:01.309Z"
   },
   {
    "duration": 102,
    "start_time": "2024-06-09T01:17:22.478Z"
   },
   {
    "duration": 32,
    "start_time": "2024-06-09T01:20:17.387Z"
   },
   {
    "duration": 9168,
    "start_time": "2024-06-09T01:20:53.460Z"
   },
   {
    "duration": 25,
    "start_time": "2024-06-09T01:22:08.185Z"
   },
   {
    "duration": 9608,
    "start_time": "2024-06-09T01:22:20.012Z"
   },
   {
    "duration": 5243,
    "start_time": "2024-06-09T02:47:50.961Z"
   },
   {
    "duration": 811,
    "start_time": "2024-06-09T02:47:56.208Z"
   },
   {
    "duration": 169,
    "start_time": "2024-06-09T02:47:57.022Z"
   },
   {
    "duration": 4,
    "start_time": "2024-06-09T02:47:57.194Z"
   },
   {
    "duration": 2951,
    "start_time": "2024-06-09T02:47:57.203Z"
   },
   {
    "duration": 108,
    "start_time": "2024-06-09T02:48:00.157Z"
   },
   {
    "duration": 126,
    "start_time": "2024-06-09T02:48:00.268Z"
   },
   {
    "duration": 10,
    "start_time": "2024-06-09T02:48:00.397Z"
   },
   {
    "duration": 31,
    "start_time": "2024-06-09T02:48:00.410Z"
   },
   {
    "duration": 157,
    "start_time": "2024-06-09T02:48:00.444Z"
   },
   {
    "duration": 110,
    "start_time": "2024-06-09T02:48:00.604Z"
   },
   {
    "duration": 266,
    "start_time": "2024-06-09T02:48:00.717Z"
   },
   {
    "duration": 1995,
    "start_time": "2024-06-09T02:48:00.986Z"
   },
   {
    "duration": 358,
    "start_time": "2024-06-09T02:48:02.986Z"
   },
   {
    "duration": 67,
    "start_time": "2024-06-09T02:48:03.348Z"
   },
   {
    "duration": 68,
    "start_time": "2024-06-09T02:48:03.432Z"
   },
   {
    "duration": 587,
    "start_time": "2024-06-09T02:48:03.503Z"
   },
   {
    "duration": 100,
    "start_time": "2024-06-09T02:48:04.093Z"
   },
   {
    "duration": 37,
    "start_time": "2024-06-09T02:48:04.196Z"
   },
   {
    "duration": 10699,
    "start_time": "2024-06-09T02:48:04.236Z"
   },
   {
    "duration": 8,
    "start_time": "2024-06-09T02:48:14.943Z"
   },
   {
    "duration": 9570,
    "start_time": "2024-06-09T02:48:15.032Z"
   },
   {
    "duration": 1698,
    "start_time": "2024-06-09T02:48:40.811Z"
   },
   {
    "duration": 754,
    "start_time": "2024-06-09T02:48:42.512Z"
   },
   {
    "duration": 170,
    "start_time": "2024-06-09T02:48:43.269Z"
   },
   {
    "duration": 5,
    "start_time": "2024-06-09T02:48:43.441Z"
   },
   {
    "duration": 2818,
    "start_time": "2024-06-09T02:48:43.450Z"
   },
   {
    "duration": 106,
    "start_time": "2024-06-09T02:48:46.271Z"
   },
   {
    "duration": 131,
    "start_time": "2024-06-09T02:48:46.380Z"
   },
   {
    "duration": 21,
    "start_time": "2024-06-09T02:48:46.513Z"
   },
   {
    "duration": 11,
    "start_time": "2024-06-09T02:48:46.536Z"
   },
   {
    "duration": 167,
    "start_time": "2024-06-09T02:48:46.551Z"
   },
   {
    "duration": 87,
    "start_time": "2024-06-09T02:48:46.721Z"
   },
   {
    "duration": 275,
    "start_time": "2024-06-09T02:48:46.811Z"
   },
   {
    "duration": 1866,
    "start_time": "2024-06-09T02:48:47.090Z"
   },
   {
    "duration": 358,
    "start_time": "2024-06-09T02:48:48.962Z"
   },
   {
    "duration": 111,
    "start_time": "2024-06-09T02:48:49.323Z"
   },
   {
    "duration": 69,
    "start_time": "2024-06-09T02:48:49.437Z"
   },
   {
    "duration": 569,
    "start_time": "2024-06-09T02:48:49.509Z"
   },
   {
    "duration": 506,
    "start_time": "2024-06-09T02:49:20.469Z"
   },
   {
    "duration": 126,
    "start_time": "2024-06-09T02:49:31.684Z"
   },
   {
    "duration": 22,
    "start_time": "2024-06-09T02:50:08.449Z"
   },
   {
    "duration": 70,
    "start_time": "2024-06-09T02:51:29.083Z"
   },
   {
    "duration": 17,
    "start_time": "2024-06-09T02:52:20.721Z"
   },
   {
    "duration": 142,
    "start_time": "2024-06-09T02:54:06.038Z"
   },
   {
    "duration": 110,
    "start_time": "2024-06-09T02:55:11.952Z"
   },
   {
    "duration": 9,
    "start_time": "2024-06-09T02:55:40.660Z"
   },
   {
    "duration": 64,
    "start_time": "2024-06-09T02:55:49.689Z"
   },
   {
    "duration": 59,
    "start_time": "2024-06-09T02:57:07.830Z"
   },
   {
    "duration": 34,
    "start_time": "2024-06-09T02:58:06.010Z"
   },
   {
    "duration": 1671,
    "start_time": "2024-06-09T03:07:55.430Z"
   },
   {
    "duration": 746,
    "start_time": "2024-06-09T03:07:57.105Z"
   },
   {
    "duration": 154,
    "start_time": "2024-06-09T03:07:57.854Z"
   },
   {
    "duration": 20,
    "start_time": "2024-06-09T03:07:58.014Z"
   },
   {
    "duration": 2813,
    "start_time": "2024-06-09T03:07:58.037Z"
   },
   {
    "duration": 114,
    "start_time": "2024-06-09T03:08:00.853Z"
   },
   {
    "duration": 133,
    "start_time": "2024-06-09T03:08:00.971Z"
   },
   {
    "duration": 10,
    "start_time": "2024-06-09T03:08:01.107Z"
   },
   {
    "duration": 12,
    "start_time": "2024-06-09T03:08:01.133Z"
   },
   {
    "duration": 155,
    "start_time": "2024-06-09T03:08:01.151Z"
   },
   {
    "duration": 105,
    "start_time": "2024-06-09T03:08:01.309Z"
   },
   {
    "duration": 285,
    "start_time": "2024-06-09T03:08:01.417Z"
   },
   {
    "duration": 1857,
    "start_time": "2024-06-09T03:08:01.705Z"
   },
   {
    "duration": 362,
    "start_time": "2024-06-09T03:08:03.565Z"
   },
   {
    "duration": 66,
    "start_time": "2024-06-09T03:08:03.933Z"
   },
   {
    "duration": 88,
    "start_time": "2024-06-09T03:08:04.002Z"
   },
   {
    "duration": 568,
    "start_time": "2024-06-09T03:08:04.093Z"
   },
   {
    "duration": 72,
    "start_time": "2024-06-09T03:08:04.664Z"
   },
   {
    "duration": 16,
    "start_time": "2024-06-09T03:08:04.739Z"
   },
   {
    "duration": 537,
    "start_time": "2024-06-09T03:08:04.759Z"
   },
   {
    "duration": 0,
    "start_time": "2024-06-09T03:08:05.299Z"
   },
   {
    "duration": 0,
    "start_time": "2024-06-09T03:08:05.301Z"
   },
   {
    "duration": 0,
    "start_time": "2024-06-09T03:08:05.304Z"
   },
   {
    "duration": 0,
    "start_time": "2024-06-09T03:08:05.307Z"
   },
   {
    "duration": 123,
    "start_time": "2024-06-09T03:08:16.988Z"
   },
   {
    "duration": 122,
    "start_time": "2024-06-09T03:08:19.219Z"
   },
   {
    "duration": 56,
    "start_time": "2024-06-09T03:08:23.001Z"
   },
   {
    "duration": 30,
    "start_time": "2024-06-09T03:08:26.777Z"
   },
   {
    "duration": 972,
    "start_time": "2024-06-09T03:08:42.120Z"
   },
   {
    "duration": 9,
    "start_time": "2024-06-09T03:09:33.008Z"
   },
   {
    "duration": 1749,
    "start_time": "2024-06-09T03:09:43.850Z"
   },
   {
    "duration": 726,
    "start_time": "2024-06-09T03:09:45.602Z"
   },
   {
    "duration": 155,
    "start_time": "2024-06-09T03:09:46.334Z"
   },
   {
    "duration": 5,
    "start_time": "2024-06-09T03:09:46.493Z"
   },
   {
    "duration": 2831,
    "start_time": "2024-06-09T03:09:46.501Z"
   },
   {
    "duration": 114,
    "start_time": "2024-06-09T03:09:49.335Z"
   },
   {
    "duration": 122,
    "start_time": "2024-06-09T03:09:49.453Z"
   },
   {
    "duration": 9,
    "start_time": "2024-06-09T03:09:49.578Z"
   },
   {
    "duration": 11,
    "start_time": "2024-06-09T03:09:49.591Z"
   },
   {
    "duration": 155,
    "start_time": "2024-06-09T03:09:49.634Z"
   },
   {
    "duration": 101,
    "start_time": "2024-06-09T03:09:49.792Z"
   },
   {
    "duration": 273,
    "start_time": "2024-06-09T03:09:49.896Z"
   },
   {
    "duration": 1908,
    "start_time": "2024-06-09T03:09:50.172Z"
   },
   {
    "duration": 391,
    "start_time": "2024-06-09T03:09:52.083Z"
   },
   {
    "duration": 72,
    "start_time": "2024-06-09T03:09:52.477Z"
   },
   {
    "duration": 87,
    "start_time": "2024-06-09T03:09:52.552Z"
   },
   {
    "duration": 597,
    "start_time": "2024-06-09T03:09:52.641Z"
   },
   {
    "duration": 79,
    "start_time": "2024-06-09T03:09:53.241Z"
   },
   {
    "duration": 19,
    "start_time": "2024-06-09T03:09:53.334Z"
   },
   {
    "duration": 220,
    "start_time": "2024-06-09T03:09:53.357Z"
   },
   {
    "duration": 71,
    "start_time": "2024-06-09T03:09:53.580Z"
   },
   {
    "duration": 1372,
    "start_time": "2024-06-09T03:09:53.654Z"
   },
   {
    "duration": 0,
    "start_time": "2024-06-09T03:09:55.033Z"
   },
   {
    "duration": 0,
    "start_time": "2024-06-09T03:09:55.036Z"
   },
   {
    "duration": 67,
    "start_time": "2024-06-09T03:11:36.778Z"
   },
   {
    "duration": 10,
    "start_time": "2024-06-09T13:19:41.629Z"
   },
   {
    "duration": 784,
    "start_time": "2024-06-09T13:19:41.644Z"
   },
   {
    "duration": 157,
    "start_time": "2024-06-09T13:19:42.431Z"
   },
   {
    "duration": 6,
    "start_time": "2024-06-09T13:19:42.592Z"
   },
   {
    "duration": 2971,
    "start_time": "2024-06-09T13:19:42.625Z"
   },
   {
    "duration": 111,
    "start_time": "2024-06-09T13:19:45.599Z"
   },
   {
    "duration": 135,
    "start_time": "2024-06-09T13:19:45.724Z"
   },
   {
    "duration": 11,
    "start_time": "2024-06-09T13:19:45.863Z"
   },
   {
    "duration": 12,
    "start_time": "2024-06-09T13:19:45.878Z"
   },
   {
    "duration": 142,
    "start_time": "2024-06-09T13:19:45.924Z"
   },
   {
    "duration": 106,
    "start_time": "2024-06-09T13:19:46.069Z"
   },
   {
    "duration": 278,
    "start_time": "2024-06-09T13:19:46.178Z"
   },
   {
    "duration": 2223,
    "start_time": "2024-06-09T13:19:46.460Z"
   },
   {
    "duration": 397,
    "start_time": "2024-06-09T13:19:48.690Z"
   },
   {
    "duration": 75,
    "start_time": "2024-06-09T13:19:49.090Z"
   },
   {
    "duration": 81,
    "start_time": "2024-06-09T13:19:49.168Z"
   },
   {
    "duration": 642,
    "start_time": "2024-06-09T13:19:49.252Z"
   },
   {
    "duration": 86,
    "start_time": "2024-06-09T13:19:49.896Z"
   },
   {
    "duration": 40,
    "start_time": "2024-06-09T13:19:49.986Z"
   },
   {
    "duration": 164,
    "start_time": "2024-06-09T13:19:50.032Z"
   },
   {
    "duration": 546,
    "start_time": "2024-06-09T13:27:21.698Z"
   },
   {
    "duration": 3136,
    "start_time": "2024-06-09T13:28:14.541Z"
   },
   {
    "duration": 146,
    "start_time": "2024-06-09T13:28:30.241Z"
   },
   {
    "duration": 4,
    "start_time": "2024-06-09T13:29:44.978Z"
   },
   {
    "duration": 394,
    "start_time": "2024-06-09T13:32:09.680Z"
   },
   {
    "duration": 50,
    "start_time": "2024-06-09T13:32:25.176Z"
   },
   {
    "duration": 64,
    "start_time": "2024-06-09T13:32:55.387Z"
   },
   {
    "duration": 1150,
    "start_time": "2024-06-09T13:32:57.540Z"
   },
   {
    "duration": 50,
    "start_time": "2024-06-09T13:35:37.904Z"
   },
   {
    "duration": 37,
    "start_time": "2024-06-09T13:35:40.788Z"
   },
   {
    "duration": 279,
    "start_time": "2024-06-09T13:36:00.479Z"
   },
   {
    "duration": 213,
    "start_time": "2024-06-09T13:37:05.486Z"
   },
   {
    "duration": 143,
    "start_time": "2024-06-09T13:37:18.408Z"
   },
   {
    "duration": 6,
    "start_time": "2024-06-09T13:38:09.887Z"
   },
   {
    "duration": 7,
    "start_time": "2024-06-09T13:38:28.225Z"
   },
   {
    "duration": 9,
    "start_time": "2024-06-09T13:39:34.256Z"
   },
   {
    "duration": 42,
    "start_time": "2024-06-09T13:39:41.962Z"
   },
   {
    "duration": 5028,
    "start_time": "2024-06-09T13:44:58.755Z"
   },
   {
    "duration": 799,
    "start_time": "2024-06-09T13:45:03.788Z"
   },
   {
    "duration": 163,
    "start_time": "2024-06-09T13:45:04.590Z"
   },
   {
    "duration": 4,
    "start_time": "2024-06-09T13:45:04.757Z"
   },
   {
    "duration": 2950,
    "start_time": "2024-06-09T13:45:04.768Z"
   },
   {
    "duration": 111,
    "start_time": "2024-06-09T13:45:07.720Z"
   },
   {
    "duration": 137,
    "start_time": "2024-06-09T13:45:07.834Z"
   },
   {
    "duration": 9,
    "start_time": "2024-06-09T13:45:07.974Z"
   },
   {
    "duration": 38,
    "start_time": "2024-06-09T13:45:07.986Z"
   },
   {
    "duration": 156,
    "start_time": "2024-06-09T13:45:08.028Z"
   },
   {
    "duration": 108,
    "start_time": "2024-06-09T13:45:08.187Z"
   },
   {
    "duration": 274,
    "start_time": "2024-06-09T13:45:08.298Z"
   },
   {
    "duration": 2677,
    "start_time": "2024-06-09T13:45:08.576Z"
   },
   {
    "duration": 364,
    "start_time": "2024-06-09T13:45:11.259Z"
   },
   {
    "duration": 68,
    "start_time": "2024-06-09T13:45:11.626Z"
   },
   {
    "duration": 93,
    "start_time": "2024-06-09T13:45:11.697Z"
   },
   {
    "duration": 581,
    "start_time": "2024-06-09T13:45:11.794Z"
   },
   {
    "duration": 74,
    "start_time": "2024-06-09T13:45:12.379Z"
   },
   {
    "duration": 18,
    "start_time": "2024-06-09T13:45:12.456Z"
   },
   {
    "duration": 151,
    "start_time": "2024-06-09T13:45:12.478Z"
   },
   {
    "duration": 50,
    "start_time": "2024-06-09T13:45:12.632Z"
   },
   {
    "duration": 279,
    "start_time": "2024-06-09T13:45:12.685Z"
   },
   {
    "duration": 204,
    "start_time": "2024-06-09T13:45:12.967Z"
   },
   {
    "duration": 6,
    "start_time": "2024-06-09T13:45:13.174Z"
   },
   {
    "duration": 8,
    "start_time": "2024-06-09T13:45:13.184Z"
   },
   {
    "duration": 965,
    "start_time": "2024-06-09T13:45:13.195Z"
   },
   {
    "duration": 389,
    "start_time": "2024-06-09T13:45:32.835Z"
   },
   {
    "duration": 4,
    "start_time": "2024-06-09T13:45:49.813Z"
   },
   {
    "duration": 46,
    "start_time": "2024-06-09T13:46:40.714Z"
   },
   {
    "duration": 73644,
    "start_time": "2024-06-09T13:46:44.595Z"
   },
   {
    "duration": 1322,
    "start_time": "2024-06-09T13:47:59.675Z"
   },
   {
    "duration": 46,
    "start_time": "2024-06-09T13:49:03.518Z"
   },
   {
    "duration": 32,
    "start_time": "2024-06-09T13:49:07.905Z"
   },
   {
    "duration": 156,
    "start_time": "2024-06-09T13:49:14.668Z"
   },
   {
    "duration": 32,
    "start_time": "2024-06-09T13:49:48.245Z"
   },
   {
    "duration": 1110,
    "start_time": "2024-06-09T13:49:59.814Z"
   },
   {
    "duration": 41,
    "start_time": "2024-06-09T13:55:16.890Z"
   },
   {
    "duration": 20,
    "start_time": "2024-06-09T13:56:10.909Z"
   },
   {
    "duration": 23,
    "start_time": "2024-06-09T13:56:19.681Z"
   },
   {
    "duration": 755,
    "start_time": "2024-06-09T13:56:19.712Z"
   },
   {
    "duration": 172,
    "start_time": "2024-06-09T13:56:20.470Z"
   },
   {
    "duration": 5,
    "start_time": "2024-06-09T13:56:20.647Z"
   },
   {
    "duration": 2915,
    "start_time": "2024-06-09T13:56:20.655Z"
   },
   {
    "duration": 109,
    "start_time": "2024-06-09T13:56:23.573Z"
   },
   {
    "duration": 134,
    "start_time": "2024-06-09T13:56:23.685Z"
   },
   {
    "duration": 21,
    "start_time": "2024-06-09T13:56:23.824Z"
   },
   {
    "duration": 11,
    "start_time": "2024-06-09T13:56:23.849Z"
   },
   {
    "duration": 157,
    "start_time": "2024-06-09T13:56:23.866Z"
   },
   {
    "duration": 113,
    "start_time": "2024-06-09T13:56:24.026Z"
   },
   {
    "duration": 274,
    "start_time": "2024-06-09T13:56:24.143Z"
   },
   {
    "duration": 2622,
    "start_time": "2024-06-09T13:56:24.424Z"
   },
   {
    "duration": 403,
    "start_time": "2024-06-09T13:56:27.050Z"
   },
   {
    "duration": 83,
    "start_time": "2024-06-09T13:56:27.456Z"
   },
   {
    "duration": 87,
    "start_time": "2024-06-09T13:56:27.542Z"
   },
   {
    "duration": 600,
    "start_time": "2024-06-09T13:56:27.632Z"
   },
   {
    "duration": 97,
    "start_time": "2024-06-09T13:56:28.236Z"
   },
   {
    "duration": 23,
    "start_time": "2024-06-09T13:56:28.337Z"
   },
   {
    "duration": 161,
    "start_time": "2024-06-09T13:56:28.364Z"
   },
   {
    "duration": 31,
    "start_time": "2024-06-09T13:56:28.528Z"
   },
   {
    "duration": 74,
    "start_time": "2024-06-09T13:56:28.565Z"
   },
   {
    "duration": 270,
    "start_time": "2024-06-09T13:56:28.643Z"
   },
   {
    "duration": 208,
    "start_time": "2024-06-09T13:56:28.916Z"
   },
   {
    "duration": 7,
    "start_time": "2024-06-09T13:56:29.127Z"
   },
   {
    "duration": 11,
    "start_time": "2024-06-09T13:56:29.138Z"
   },
   {
    "duration": 470,
    "start_time": "2024-06-09T13:56:29.153Z"
   },
   {
    "duration": 79117,
    "start_time": "2024-06-09T13:56:29.637Z"
   },
   {
    "duration": 1502,
    "start_time": "2024-06-09T13:57:48.759Z"
   },
   {
    "duration": 189,
    "start_time": "2024-06-09T13:57:50.264Z"
   },
   {
    "duration": 359,
    "start_time": "2024-06-09T13:57:50.456Z"
   },
   {
    "duration": 0,
    "start_time": "2024-06-09T13:57:50.824Z"
   },
   {
    "duration": 51,
    "start_time": "2024-06-09T14:00:06.350Z"
   },
   {
    "duration": 242,
    "start_time": "2024-06-09T14:02:10.882Z"
   },
   {
    "duration": 379,
    "start_time": "2024-06-09T14:02:23.940Z"
   },
   {
    "duration": 588,
    "start_time": "2024-06-09T14:02:33.545Z"
   },
   {
    "duration": 8570,
    "start_time": "2024-06-10T00:37:15.699Z"
   },
   {
    "duration": 835,
    "start_time": "2024-06-10T00:37:24.274Z"
   },
   {
    "duration": 149,
    "start_time": "2024-06-10T00:37:25.112Z"
   },
   {
    "duration": 4,
    "start_time": "2024-06-10T00:37:25.264Z"
   },
   {
    "duration": 0,
    "start_time": "2024-06-10T00:38:43.507Z"
   },
   {
    "duration": 0,
    "start_time": "2024-06-10T00:38:43.509Z"
   },
   {
    "duration": 0,
    "start_time": "2024-06-10T00:38:43.511Z"
   },
   {
    "duration": 0,
    "start_time": "2024-06-10T00:38:43.512Z"
   },
   {
    "duration": 0,
    "start_time": "2024-06-10T00:38:43.515Z"
   },
   {
    "duration": 1,
    "start_time": "2024-06-10T00:38:43.517Z"
   },
   {
    "duration": 0,
    "start_time": "2024-06-10T00:38:43.520Z"
   },
   {
    "duration": 0,
    "start_time": "2024-06-10T00:38:43.521Z"
   },
   {
    "duration": 0,
    "start_time": "2024-06-10T00:38:43.522Z"
   },
   {
    "duration": 0,
    "start_time": "2024-06-10T00:38:43.524Z"
   },
   {
    "duration": 0,
    "start_time": "2024-06-10T00:38:43.525Z"
   },
   {
    "duration": 0,
    "start_time": "2024-06-10T00:38:43.527Z"
   },
   {
    "duration": 0,
    "start_time": "2024-06-10T00:38:43.529Z"
   },
   {
    "duration": 0,
    "start_time": "2024-06-10T00:38:43.532Z"
   },
   {
    "duration": 0,
    "start_time": "2024-06-10T00:38:43.534Z"
   },
   {
    "duration": 0,
    "start_time": "2024-06-10T00:38:43.536Z"
   },
   {
    "duration": 0,
    "start_time": "2024-06-10T00:38:43.538Z"
   },
   {
    "duration": 0,
    "start_time": "2024-06-10T00:38:43.540Z"
   },
   {
    "duration": 0,
    "start_time": "2024-06-10T00:38:43.542Z"
   },
   {
    "duration": 0,
    "start_time": "2024-06-10T00:38:43.545Z"
   },
   {
    "duration": 0,
    "start_time": "2024-06-10T00:38:43.546Z"
   },
   {
    "duration": 0,
    "start_time": "2024-06-10T00:38:43.607Z"
   },
   {
    "duration": 0,
    "start_time": "2024-06-10T00:38:43.609Z"
   },
   {
    "duration": 0,
    "start_time": "2024-06-10T00:38:43.611Z"
   },
   {
    "duration": 0,
    "start_time": "2024-06-10T00:38:43.613Z"
   },
   {
    "duration": 0,
    "start_time": "2024-06-10T00:38:43.615Z"
   },
   {
    "duration": 0,
    "start_time": "2024-06-10T00:38:43.617Z"
   },
   {
    "duration": 0,
    "start_time": "2024-06-10T00:38:43.618Z"
   },
   {
    "duration": 0,
    "start_time": "2024-06-10T00:38:43.620Z"
   },
   {
    "duration": 0,
    "start_time": "2024-06-10T00:38:43.623Z"
   },
   {
    "duration": 12,
    "start_time": "2024-06-10T00:40:46.975Z"
   },
   {
    "duration": 784,
    "start_time": "2024-06-10T00:40:51.347Z"
   },
   {
    "duration": 141,
    "start_time": "2024-06-10T00:43:40.337Z"
   },
   {
    "duration": 4,
    "start_time": "2024-06-10T00:43:44.957Z"
   },
   {
    "duration": 2897,
    "start_time": "2024-06-10T00:43:47.539Z"
   },
   {
    "duration": 100,
    "start_time": "2024-06-10T00:43:52.727Z"
   },
   {
    "duration": 107,
    "start_time": "2024-06-10T00:44:27.681Z"
   },
   {
    "duration": 14,
    "start_time": "2024-06-10T00:44:34.638Z"
   },
   {
    "duration": 5,
    "start_time": "2024-06-10T00:47:30.814Z"
   },
   {
    "duration": 31,
    "start_time": "2024-06-10T00:48:09.638Z"
   },
   {
    "duration": 544,
    "start_time": "2024-06-10T00:48:17.609Z"
   },
   {
    "duration": 59,
    "start_time": "2024-06-10T00:51:09.006Z"
   },
   {
    "duration": 517,
    "start_time": "2024-06-10T00:51:31.145Z"
   },
   {
    "duration": 9,
    "start_time": "2024-06-10T00:52:07.267Z"
   },
   {
    "duration": 488,
    "start_time": "2024-06-10T00:55:27.374Z"
   },
   {
    "duration": 82,
    "start_time": "2024-06-10T00:55:31.528Z"
   },
   {
    "duration": 89,
    "start_time": "2024-06-10T00:55:58.727Z"
   },
   {
    "duration": 15,
    "start_time": "2024-06-10T00:56:23.781Z"
   },
   {
    "duration": 88,
    "start_time": "2024-06-10T01:09:10.950Z"
   },
   {
    "duration": 17,
    "start_time": "2024-06-10T01:09:14.066Z"
   },
   {
    "duration": 96,
    "start_time": "2024-06-10T01:10:51.150Z"
   },
   {
    "duration": 1227,
    "start_time": "2024-06-10T01:10:55.619Z"
   },
   {
    "duration": 6,
    "start_time": "2024-06-10T01:14:47.762Z"
   },
   {
    "duration": 6,
    "start_time": "2024-06-10T01:15:04.049Z"
   },
   {
    "duration": 111,
    "start_time": "2024-06-10T01:15:28.016Z"
   },
   {
    "duration": 328,
    "start_time": "2024-06-10T01:15:49.578Z"
   },
   {
    "duration": 1739,
    "start_time": "2024-06-10T01:16:02.248Z"
   },
   {
    "duration": 867,
    "start_time": "2024-06-10T01:16:03.991Z"
   },
   {
    "duration": 158,
    "start_time": "2024-06-10T01:16:04.862Z"
   },
   {
    "duration": 5,
    "start_time": "2024-06-10T01:16:05.024Z"
   },
   {
    "duration": 2923,
    "start_time": "2024-06-10T01:16:05.032Z"
   },
   {
    "duration": 111,
    "start_time": "2024-06-10T01:16:07.958Z"
   },
   {
    "duration": 152,
    "start_time": "2024-06-10T01:16:08.072Z"
   },
   {
    "duration": 9,
    "start_time": "2024-06-10T01:16:08.227Z"
   },
   {
    "duration": 6,
    "start_time": "2024-06-10T01:16:08.239Z"
   },
   {
    "duration": 596,
    "start_time": "2024-06-10T01:16:08.250Z"
   },
   {
    "duration": 74,
    "start_time": "2024-06-10T01:16:08.848Z"
   },
   {
    "duration": 535,
    "start_time": "2024-06-10T01:16:08.924Z"
   },
   {
    "duration": 10,
    "start_time": "2024-06-10T01:16:09.462Z"
   },
   {
    "duration": 33,
    "start_time": "2024-06-10T01:16:09.475Z"
   },
   {
    "duration": 165,
    "start_time": "2024-06-10T01:16:09.511Z"
   },
   {
    "duration": 110,
    "start_time": "2024-06-10T01:16:09.683Z"
   },
   {
    "duration": 276,
    "start_time": "2024-06-10T01:16:09.797Z"
   },
   {
    "duration": 1903,
    "start_time": "2024-06-10T01:16:10.076Z"
   },
   {
    "duration": 375,
    "start_time": "2024-06-10T01:16:11.983Z"
   },
   {
    "duration": 74,
    "start_time": "2024-06-10T01:16:12.361Z"
   },
   {
    "duration": 16,
    "start_time": "2024-06-10T01:16:12.438Z"
   },
   {
    "duration": 94,
    "start_time": "2024-06-10T01:16:12.457Z"
   },
   {
    "duration": 581,
    "start_time": "2024-06-10T01:16:12.554Z"
   },
   {
    "duration": 71,
    "start_time": "2024-06-10T01:16:13.138Z"
   },
   {
    "duration": 18,
    "start_time": "2024-06-10T01:16:13.211Z"
   },
   {
    "duration": 158,
    "start_time": "2024-06-10T01:16:13.233Z"
   },
   {
    "duration": 14,
    "start_time": "2024-06-10T01:16:13.394Z"
   },
   {
    "duration": 96244,
    "start_time": "2024-06-10T01:16:13.416Z"
   },
   {
    "duration": 8,
    "start_time": "2024-06-10T01:17:49.664Z"
   },
   {
    "duration": 447,
    "start_time": "2024-06-10T01:17:49.675Z"
   },
   {
    "duration": 0,
    "start_time": "2024-06-10T01:17:50.125Z"
   },
   {
    "duration": 0,
    "start_time": "2024-06-10T01:17:50.127Z"
   },
   {
    "duration": 0,
    "start_time": "2024-06-10T01:17:50.130Z"
   },
   {
    "duration": 0,
    "start_time": "2024-06-10T01:17:50.132Z"
   },
   {
    "duration": 32,
    "start_time": "2024-06-10T01:19:45.290Z"
   },
   {
    "duration": 34,
    "start_time": "2024-06-10T01:19:56.846Z"
   },
   {
    "duration": 84,
    "start_time": "2024-06-10T01:20:31.621Z"
   },
   {
    "duration": 41,
    "start_time": "2024-06-10T01:20:38.346Z"
   },
   {
    "duration": 11329,
    "start_time": "2024-06-10T01:20:47.859Z"
   },
   {
    "duration": 14415,
    "start_time": "2024-06-10T01:23:20.039Z"
   },
   {
    "duration": 5298,
    "start_time": "2024-06-11T01:48:03.699Z"
   },
   {
    "duration": 798,
    "start_time": "2024-06-11T01:48:09.001Z"
   },
   {
    "duration": 152,
    "start_time": "2024-06-11T01:48:09.802Z"
   },
   {
    "duration": 5,
    "start_time": "2024-06-11T01:48:09.957Z"
   },
   {
    "duration": 2803,
    "start_time": "2024-06-11T01:48:09.967Z"
   },
   {
    "duration": 110,
    "start_time": "2024-06-11T01:48:12.773Z"
   },
   {
    "duration": 139,
    "start_time": "2024-06-11T01:48:12.885Z"
   },
   {
    "duration": 20,
    "start_time": "2024-06-11T01:48:13.027Z"
   },
   {
    "duration": 5,
    "start_time": "2024-06-11T01:48:13.053Z"
   },
   {
    "duration": 12,
    "start_time": "2024-06-11T01:48:13.061Z"
   },
   {
    "duration": 179,
    "start_time": "2024-06-11T01:48:13.076Z"
   },
   {
    "duration": 106,
    "start_time": "2024-06-11T01:48:13.258Z"
   },
   {
    "duration": 294,
    "start_time": "2024-06-11T01:48:13.367Z"
   },
   {
    "duration": 1980,
    "start_time": "2024-06-11T01:48:13.668Z"
   },
   {
    "duration": 401,
    "start_time": "2024-06-11T01:48:15.652Z"
   },
   {
    "duration": 74,
    "start_time": "2024-06-11T01:48:16.057Z"
   },
   {
    "duration": 15,
    "start_time": "2024-06-11T01:48:16.134Z"
   },
   {
    "duration": 92,
    "start_time": "2024-06-11T01:48:16.153Z"
   },
   {
    "duration": 617,
    "start_time": "2024-06-11T01:48:16.248Z"
   },
   {
    "duration": 80,
    "start_time": "2024-06-11T01:48:16.869Z"
   },
   {
    "duration": 19,
    "start_time": "2024-06-11T01:48:16.952Z"
   },
   {
    "duration": 117,
    "start_time": "2024-06-11T01:48:16.974Z"
   },
   {
    "duration": 422,
    "start_time": "2024-06-11T01:48:17.094Z"
   },
   {
    "duration": 0,
    "start_time": "2024-06-11T01:48:17.519Z"
   },
   {
    "duration": 0,
    "start_time": "2024-06-11T01:48:17.520Z"
   },
   {
    "duration": 0,
    "start_time": "2024-06-11T01:48:17.522Z"
   },
   {
    "duration": 100280,
    "start_time": "2024-06-11T01:49:11.309Z"
   },
   {
    "duration": 14140,
    "start_time": "2024-06-11T01:50:51.592Z"
   },
   {
    "duration": 8,
    "start_time": "2024-06-11T01:54:35.198Z"
   },
   {
    "duration": 33415,
    "start_time": "2024-06-11T01:55:17.638Z"
   },
   {
    "duration": 13,
    "start_time": "2024-06-11T02:04:17.269Z"
   },
   {
    "duration": 54528,
    "start_time": "2024-06-11T02:04:31.002Z"
   },
   {
    "duration": 166,
    "start_time": "2024-06-11T02:16:28.780Z"
   },
   {
    "duration": 25,
    "start_time": "2024-06-11T03:12:03.278Z"
   },
   {
    "duration": 25,
    "start_time": "2024-06-11T03:12:31.357Z"
   },
   {
    "duration": 110,
    "start_time": "2024-06-11T03:12:50.469Z"
   },
   {
    "duration": 6,
    "start_time": "2024-06-11T03:17:05.399Z"
   },
   {
    "duration": 148,
    "start_time": "2024-06-11T03:17:22.279Z"
   },
   {
    "duration": 9,
    "start_time": "2024-06-11T03:26:49.566Z"
   },
   {
    "duration": 129,
    "start_time": "2024-06-11T03:27:01.759Z"
   },
   {
    "duration": 173,
    "start_time": "2024-06-11T03:29:20.352Z"
   },
   {
    "duration": 22,
    "start_time": "2024-06-11T03:30:43.587Z"
   },
   {
    "duration": 164,
    "start_time": "2024-06-11T03:30:57.238Z"
   },
   {
    "duration": 40,
    "start_time": "2024-06-11T03:31:15.428Z"
   },
   {
    "duration": 46,
    "start_time": "2024-06-11T03:31:24.915Z"
   },
   {
    "duration": 22,
    "start_time": "2024-06-11T03:32:00.230Z"
   },
   {
    "duration": 33,
    "start_time": "2024-06-11T03:32:07.904Z"
   },
   {
    "duration": 14,
    "start_time": "2024-06-11T03:35:37.328Z"
   },
   {
    "duration": 61783,
    "start_time": "2024-06-11T03:46:13.430Z"
   },
   {
    "duration": 10914,
    "start_time": "2024-06-11T03:56:16.046Z"
   },
   {
    "duration": 1689,
    "start_time": "2024-06-11T04:01:56.989Z"
   },
   {
    "duration": 740,
    "start_time": "2024-06-11T04:01:58.682Z"
   },
   {
    "duration": 159,
    "start_time": "2024-06-11T04:01:59.425Z"
   },
   {
    "duration": 4,
    "start_time": "2024-06-11T04:01:59.590Z"
   },
   {
    "duration": 2815,
    "start_time": "2024-06-11T04:01:59.597Z"
   },
   {
    "duration": 114,
    "start_time": "2024-06-11T04:02:02.415Z"
   },
   {
    "duration": 121,
    "start_time": "2024-06-11T04:02:02.533Z"
   },
   {
    "duration": 9,
    "start_time": "2024-06-11T04:02:02.657Z"
   },
   {
    "duration": 6,
    "start_time": "2024-06-11T04:02:02.669Z"
   },
   {
    "duration": 12,
    "start_time": "2024-06-11T04:02:02.711Z"
   },
   {
    "duration": 152,
    "start_time": "2024-06-11T04:02:02.726Z"
   },
   {
    "duration": 104,
    "start_time": "2024-06-11T04:02:02.880Z"
   },
   {
    "duration": 275,
    "start_time": "2024-06-11T04:02:02.987Z"
   },
   {
    "duration": 51,
    "start_time": "2024-06-11T04:02:03.266Z"
   },
   {
    "duration": 1885,
    "start_time": "2024-06-11T04:02:03.321Z"
   },
   {
    "duration": 357,
    "start_time": "2024-06-11T04:02:05.211Z"
   },
   {
    "duration": 73,
    "start_time": "2024-06-11T04:02:05.571Z"
   },
   {
    "duration": 16,
    "start_time": "2024-06-11T04:02:05.647Z"
   },
   {
    "duration": 87,
    "start_time": "2024-06-11T04:02:05.666Z"
   },
   {
    "duration": 589,
    "start_time": "2024-06-11T04:02:05.756Z"
   },
   {
    "duration": 82,
    "start_time": "2024-06-11T04:02:06.349Z"
   },
   {
    "duration": 18,
    "start_time": "2024-06-11T04:02:06.434Z"
   },
   {
    "duration": 177,
    "start_time": "2024-06-11T04:02:06.455Z"
   },
   {
    "duration": 14,
    "start_time": "2024-06-11T04:02:06.634Z"
   },
   {
    "duration": 6,
    "start_time": "2024-06-11T04:02:06.651Z"
   },
   {
    "duration": 11854,
    "start_time": "2024-06-11T04:02:06.660Z"
   },
   {
    "duration": 0,
    "start_time": "2024-06-11T04:02:18.518Z"
   },
   {
    "duration": 0,
    "start_time": "2024-06-11T04:02:18.520Z"
   },
   {
    "duration": 4,
    "start_time": "2024-06-11T04:04:34.368Z"
   },
   {
    "duration": 108,
    "start_time": "2024-06-11T04:04:36.927Z"
   },
   {
    "duration": 843,
    "start_time": "2024-06-11T04:08:12.297Z"
   },
   {
    "duration": 55537,
    "start_time": "2024-06-11T04:08:36.567Z"
   },
   {
    "duration": 55221,
    "start_time": "2024-06-11T04:10:45.935Z"
   },
   {
    "duration": 9,
    "start_time": "2024-06-11T04:12:45.022Z"
   },
   {
    "duration": 11062,
    "start_time": "2024-06-11T04:12:49.983Z"
   },
   {
    "duration": 449,
    "start_time": "2024-06-11T04:14:34.199Z"
   },
   {
    "duration": 337,
    "start_time": "2024-06-11T04:19:25.888Z"
   },
   {
    "duration": 372,
    "start_time": "2024-06-11T04:20:12.651Z"
   },
   {
    "duration": 340,
    "start_time": "2024-06-11T04:20:49.074Z"
   },
   {
    "duration": 331,
    "start_time": "2024-06-11T04:21:09.584Z"
   },
   {
    "duration": 1682,
    "start_time": "2024-06-11T04:21:29.221Z"
   },
   {
    "duration": 742,
    "start_time": "2024-06-11T04:21:30.906Z"
   },
   {
    "duration": 151,
    "start_time": "2024-06-11T04:21:31.650Z"
   },
   {
    "duration": 4,
    "start_time": "2024-06-11T04:21:31.814Z"
   },
   {
    "duration": 2864,
    "start_time": "2024-06-11T04:21:31.822Z"
   },
   {
    "duration": 113,
    "start_time": "2024-06-11T04:21:34.688Z"
   },
   {
    "duration": 128,
    "start_time": "2024-06-11T04:21:34.804Z"
   },
   {
    "duration": 10,
    "start_time": "2024-06-11T04:21:34.934Z"
   },
   {
    "duration": 6,
    "start_time": "2024-06-11T04:21:34.946Z"
   },
   {
    "duration": 13,
    "start_time": "2024-06-11T04:21:34.960Z"
   },
   {
    "duration": 154,
    "start_time": "2024-06-11T04:21:35.012Z"
   },
   {
    "duration": 98,
    "start_time": "2024-06-11T04:21:35.169Z"
   },
   {
    "duration": 270,
    "start_time": "2024-06-11T04:21:35.270Z"
   },
   {
    "duration": 34,
    "start_time": "2024-06-11T04:21:35.543Z"
   },
   {
    "duration": 1849,
    "start_time": "2024-06-11T04:21:35.580Z"
   },
   {
    "duration": 357,
    "start_time": "2024-06-11T04:21:37.432Z"
   },
   {
    "duration": 79,
    "start_time": "2024-06-11T04:21:37.791Z"
   },
   {
    "duration": 20,
    "start_time": "2024-06-11T04:21:37.874Z"
   },
   {
    "duration": 71,
    "start_time": "2024-06-11T04:21:37.912Z"
   },
   {
    "duration": 552,
    "start_time": "2024-06-11T04:21:37.985Z"
   },
   {
    "duration": 73,
    "start_time": "2024-06-11T04:21:38.540Z"
   },
   {
    "duration": 18,
    "start_time": "2024-06-11T04:21:38.616Z"
   },
   {
    "duration": 910,
    "start_time": "2024-06-11T04:21:38.637Z"
   },
   {
    "duration": 5,
    "start_time": "2024-06-11T04:21:39.552Z"
   },
   {
    "duration": 862,
    "start_time": "2024-06-11T04:21:39.561Z"
   },
   {
    "duration": 0,
    "start_time": "2024-06-11T04:21:40.426Z"
   },
   {
    "duration": 0,
    "start_time": "2024-06-11T04:21:40.428Z"
   },
   {
    "duration": 0,
    "start_time": "2024-06-11T04:21:40.430Z"
   },
   {
    "duration": 326,
    "start_time": "2024-06-11T04:22:54.987Z"
   },
   {
    "duration": 10387,
    "start_time": "2024-06-11T04:24:37.574Z"
   },
   {
    "duration": 0,
    "start_time": "2024-06-11T04:25:13.391Z"
   },
   {
    "duration": 10295,
    "start_time": "2024-06-11T04:25:47.201Z"
   },
   {
    "duration": 801,
    "start_time": "2024-06-11T04:27:17.253Z"
   },
   {
    "duration": 17727,
    "start_time": "2024-06-11T04:28:58.173Z"
   },
   {
    "duration": 1109,
    "start_time": "2024-06-11T04:30:04.213Z"
   },
   {
    "duration": 19380,
    "start_time": "2024-06-11T04:30:44.180Z"
   },
   {
    "duration": 4549,
    "start_time": "2024-06-11T04:31:41.812Z"
   },
   {
    "duration": 28,
    "start_time": "2024-06-11T04:35:23.665Z"
   },
   {
    "duration": 112,
    "start_time": "2024-06-11T04:35:30.266Z"
   },
   {
    "duration": 1655,
    "start_time": "2024-06-11T04:36:16.965Z"
   },
   {
    "duration": 751,
    "start_time": "2024-06-11T04:36:18.624Z"
   },
   {
    "duration": 152,
    "start_time": "2024-06-11T04:36:19.378Z"
   },
   {
    "duration": 4,
    "start_time": "2024-06-11T04:36:19.535Z"
   },
   {
    "duration": 2796,
    "start_time": "2024-06-11T04:36:19.542Z"
   },
   {
    "duration": 109,
    "start_time": "2024-06-11T04:36:22.341Z"
   },
   {
    "duration": 127,
    "start_time": "2024-06-11T04:36:22.452Z"
   },
   {
    "duration": 10,
    "start_time": "2024-06-11T04:36:22.582Z"
   },
   {
    "duration": 4,
    "start_time": "2024-06-11T04:36:22.612Z"
   },
   {
    "duration": 12,
    "start_time": "2024-06-11T04:36:22.622Z"
   },
   {
    "duration": 170,
    "start_time": "2024-06-11T04:36:22.636Z"
   },
   {
    "duration": 102,
    "start_time": "2024-06-11T04:36:22.809Z"
   },
   {
    "duration": 297,
    "start_time": "2024-06-11T04:36:22.914Z"
   },
   {
    "duration": 33,
    "start_time": "2024-06-11T04:36:23.214Z"
   },
   {
    "duration": 1910,
    "start_time": "2024-06-11T04:36:23.250Z"
   },
   {
    "duration": 360,
    "start_time": "2024-06-11T04:36:25.164Z"
   },
   {
    "duration": 67,
    "start_time": "2024-06-11T04:36:25.527Z"
   },
   {
    "duration": 15,
    "start_time": "2024-06-11T04:36:25.613Z"
   },
   {
    "duration": 89,
    "start_time": "2024-06-11T04:36:25.632Z"
   },
   {
    "duration": 617,
    "start_time": "2024-06-11T04:36:25.724Z"
   },
   {
    "duration": 74,
    "start_time": "2024-06-11T04:36:26.344Z"
   },
   {
    "duration": 17,
    "start_time": "2024-06-11T04:36:26.421Z"
   },
   {
    "duration": 896,
    "start_time": "2024-06-11T04:36:26.441Z"
   },
   {
    "duration": 5,
    "start_time": "2024-06-11T04:36:27.340Z"
   },
   {
    "duration": 366,
    "start_time": "2024-06-11T04:36:27.350Z"
   },
   {
    "duration": 10956,
    "start_time": "2024-06-11T04:36:27.718Z"
   },
   {
    "duration": 849,
    "start_time": "2024-06-11T04:36:38.678Z"
   },
   {
    "duration": 18352,
    "start_time": "2024-06-11T04:36:39.533Z"
   },
   {
    "duration": 1128,
    "start_time": "2024-06-11T04:36:57.888Z"
   },
   {
    "duration": 19294,
    "start_time": "2024-06-11T04:36:59.019Z"
   },
   {
    "duration": 4372,
    "start_time": "2024-06-11T04:37:18.316Z"
   },
   {
    "duration": 528,
    "start_time": "2024-06-11T04:37:22.691Z"
   },
   {
    "duration": 0,
    "start_time": "2024-06-11T04:37:23.224Z"
   },
   {
    "duration": 8,
    "start_time": "2024-06-11T04:38:59.592Z"
   },
   {
    "duration": 11,
    "start_time": "2024-06-11T04:45:51.988Z"
   },
   {
    "duration": 5,
    "start_time": "2024-06-11T04:49:26.710Z"
   },
   {
    "duration": 8,
    "start_time": "2024-06-11T04:49:33.311Z"
   },
   {
    "duration": 438,
    "start_time": "2024-06-11T04:50:13.603Z"
   },
   {
    "duration": 1050,
    "start_time": "2024-06-11T04:54:35.473Z"
   },
   {
    "duration": 1738,
    "start_time": "2024-06-11T04:55:00.939Z"
   },
   {
    "duration": 767,
    "start_time": "2024-06-11T04:55:02.680Z"
   },
   {
    "duration": 151,
    "start_time": "2024-06-11T04:55:03.453Z"
   },
   {
    "duration": 5,
    "start_time": "2024-06-11T04:55:03.614Z"
   },
   {
    "duration": 2801,
    "start_time": "2024-06-11T04:55:03.622Z"
   },
   {
    "duration": 108,
    "start_time": "2024-06-11T04:55:06.426Z"
   },
   {
    "duration": 128,
    "start_time": "2024-06-11T04:55:06.537Z"
   },
   {
    "duration": 10,
    "start_time": "2024-06-11T04:55:06.668Z"
   },
   {
    "duration": 6,
    "start_time": "2024-06-11T04:55:06.681Z"
   },
   {
    "duration": 12,
    "start_time": "2024-06-11T04:55:06.716Z"
   },
   {
    "duration": 182,
    "start_time": "2024-06-11T04:55:06.731Z"
   },
   {
    "duration": 102,
    "start_time": "2024-06-11T04:55:06.916Z"
   },
   {
    "duration": 272,
    "start_time": "2024-06-11T04:55:07.020Z"
   },
   {
    "duration": 38,
    "start_time": "2024-06-11T04:55:07.294Z"
   },
   {
    "duration": 1862,
    "start_time": "2024-06-11T04:55:07.335Z"
   },
   {
    "duration": 372,
    "start_time": "2024-06-11T04:55:09.200Z"
   },
   {
    "duration": 69,
    "start_time": "2024-06-11T04:55:09.575Z"
   },
   {
    "duration": 15,
    "start_time": "2024-06-11T04:55:09.647Z"
   },
   {
    "duration": 92,
    "start_time": "2024-06-11T04:55:09.666Z"
   },
   {
    "duration": 600,
    "start_time": "2024-06-11T04:55:09.761Z"
   },
   {
    "duration": 71,
    "start_time": "2024-06-11T04:55:10.364Z"
   },
   {
    "duration": 17,
    "start_time": "2024-06-11T04:55:10.438Z"
   },
   {
    "duration": 899,
    "start_time": "2024-06-11T04:55:10.458Z"
   },
   {
    "duration": 5,
    "start_time": "2024-06-11T04:55:11.359Z"
   },
   {
    "duration": 361,
    "start_time": "2024-06-11T04:55:11.368Z"
   },
   {
    "duration": 11221,
    "start_time": "2024-06-11T04:55:11.732Z"
   },
   {
    "duration": 926,
    "start_time": "2024-06-11T04:55:22.957Z"
   },
   {
    "duration": 18717,
    "start_time": "2024-06-11T04:55:23.890Z"
   },
   {
    "duration": 1402,
    "start_time": "2024-06-11T04:55:42.613Z"
   },
   {
    "duration": 24416,
    "start_time": "2024-06-11T04:55:44.018Z"
   },
   {
    "duration": 4468,
    "start_time": "2024-06-11T04:56:08.441Z"
   },
   {
    "duration": 19,
    "start_time": "2024-06-11T04:56:12.913Z"
   },
   {
    "duration": 5,
    "start_time": "2024-06-11T04:56:12.935Z"
   },
   {
    "duration": 9,
    "start_time": "2024-06-11T04:56:12.945Z"
   },
   {
    "duration": 1607,
    "start_time": "2024-06-11T04:56:12.957Z"
   },
   {
    "duration": 0,
    "start_time": "2024-06-11T04:56:14.568Z"
   },
   {
    "duration": 40,
    "start_time": "2024-06-11T04:59:19.396Z"
   },
   {
    "duration": 200,
    "start_time": "2024-06-11T05:00:08.214Z"
   },
   {
    "duration": 11,
    "start_time": "2024-06-11T12:42:31.281Z"
   },
   {
    "duration": 5872,
    "start_time": "2024-06-11T12:42:39.995Z"
   },
   {
    "duration": 975,
    "start_time": "2024-06-11T12:42:45.872Z"
   },
   {
    "duration": 164,
    "start_time": "2024-06-11T12:42:46.851Z"
   },
   {
    "duration": 11,
    "start_time": "2024-06-11T12:42:47.029Z"
   },
   {
    "duration": 3065,
    "start_time": "2024-06-11T12:42:47.047Z"
   },
   {
    "duration": 125,
    "start_time": "2024-06-11T12:42:50.115Z"
   },
   {
    "duration": 151,
    "start_time": "2024-06-11T12:42:50.245Z"
   },
   {
    "duration": 23,
    "start_time": "2024-06-11T12:42:50.400Z"
   },
   {
    "duration": 14,
    "start_time": "2024-06-11T12:42:50.426Z"
   },
   {
    "duration": 186,
    "start_time": "2024-06-11T12:42:50.443Z"
   },
   {
    "duration": 133,
    "start_time": "2024-06-11T12:42:50.633Z"
   },
   {
    "duration": 282,
    "start_time": "2024-06-11T12:42:50.770Z"
   },
   {
    "duration": 41,
    "start_time": "2024-06-11T12:42:51.056Z"
   },
   {
    "duration": 2240,
    "start_time": "2024-06-11T12:42:51.125Z"
   },
   {
    "duration": 423,
    "start_time": "2024-06-11T12:42:53.369Z"
   },
   {
    "duration": 89,
    "start_time": "2024-06-11T12:42:53.795Z"
   },
   {
    "duration": 36,
    "start_time": "2024-06-11T12:42:53.889Z"
   },
   {
    "duration": 72,
    "start_time": "2024-06-11T12:42:53.929Z"
   },
   {
    "duration": 683,
    "start_time": "2024-06-11T12:42:54.025Z"
   },
   {
    "duration": 74,
    "start_time": "2024-06-11T12:42:54.712Z"
   },
   {
    "duration": 964,
    "start_time": "2024-06-11T12:42:54.791Z"
   },
   {
    "duration": 11,
    "start_time": "2024-06-11T12:42:55.761Z"
   },
   {
    "duration": 10,
    "start_time": "2024-06-11T12:42:55.778Z"
   },
   {
    "duration": 0,
    "start_time": "2024-06-11T12:42:55.792Z"
   },
   {
    "duration": 0,
    "start_time": "2024-06-11T12:42:55.822Z"
   },
   {
    "duration": 0,
    "start_time": "2024-06-11T12:42:55.825Z"
   },
   {
    "duration": 0,
    "start_time": "2024-06-11T12:42:55.829Z"
   },
   {
    "duration": 0,
    "start_time": "2024-06-11T12:42:55.832Z"
   },
   {
    "duration": 0,
    "start_time": "2024-06-11T12:42:55.835Z"
   },
   {
    "duration": 0,
    "start_time": "2024-06-11T12:42:55.839Z"
   },
   {
    "duration": 0,
    "start_time": "2024-06-11T12:42:55.841Z"
   },
   {
    "duration": 0,
    "start_time": "2024-06-11T12:42:55.844Z"
   },
   {
    "duration": 0,
    "start_time": "2024-06-11T12:42:55.846Z"
   },
   {
    "duration": 1050,
    "start_time": "2024-06-11T12:43:26.688Z"
   },
   {
    "duration": 6,
    "start_time": "2024-06-11T12:43:43.273Z"
   },
   {
    "duration": 530,
    "start_time": "2024-06-11T12:43:45.412Z"
   },
   {
    "duration": 471,
    "start_time": "2024-06-11T12:44:14.584Z"
   },
   {
    "duration": 571,
    "start_time": "2024-06-11T12:44:48.464Z"
   },
   {
    "duration": 341,
    "start_time": "2024-06-11T12:46:34.298Z"
   },
   {
    "duration": 14737,
    "start_time": "2024-06-11T12:47:29.324Z"
   },
   {
    "duration": 12463,
    "start_time": "2024-06-11T12:48:36.132Z"
   },
   {
    "duration": 1029,
    "start_time": "2024-06-11T12:49:18.775Z"
   },
   {
    "duration": 20322,
    "start_time": "2024-06-11T12:54:25.164Z"
   },
   {
    "duration": 1179,
    "start_time": "2024-06-11T12:56:13.955Z"
   },
   {
    "duration": 19912,
    "start_time": "2024-06-11T12:58:00.136Z"
   },
   {
    "duration": 5225,
    "start_time": "2024-06-11T13:01:13.705Z"
   },
   {
    "duration": 35,
    "start_time": "2024-06-11T13:06:20.397Z"
   },
   {
    "duration": 20,
    "start_time": "2024-06-11T13:06:35.880Z"
   },
   {
    "duration": 37,
    "start_time": "2024-06-11T13:16:43.362Z"
   },
   {
    "duration": 28,
    "start_time": "2024-06-11T13:17:14.741Z"
   },
   {
    "duration": 27,
    "start_time": "2024-06-11T13:17:43.825Z"
   },
   {
    "duration": 348,
    "start_time": "2024-06-11T13:18:08.365Z"
   },
   {
    "duration": 4,
    "start_time": "2024-06-11T13:18:51.224Z"
   },
   {
    "duration": 7,
    "start_time": "2024-06-11T13:29:10.356Z"
   },
   {
    "duration": 29,
    "start_time": "2024-06-11T13:29:14.868Z"
   },
   {
    "duration": 441,
    "start_time": "2024-06-11T13:29:55.914Z"
   },
   {
    "duration": 7,
    "start_time": "2024-06-11T13:31:49.884Z"
   },
   {
    "duration": 140,
    "start_time": "2024-06-11T13:31:52.453Z"
   },
   {
    "duration": 31,
    "start_time": "2024-06-11T13:44:54.744Z"
   },
   {
    "duration": 36,
    "start_time": "2024-06-11T13:45:25.474Z"
   },
   {
    "duration": 1949,
    "start_time": "2024-06-11T13:49:54.465Z"
   },
   {
    "duration": 887,
    "start_time": "2024-06-11T13:49:56.424Z"
   },
   {
    "duration": 190,
    "start_time": "2024-06-11T13:49:57.315Z"
   },
   {
    "duration": 15,
    "start_time": "2024-06-11T13:49:57.509Z"
   },
   {
    "duration": 3131,
    "start_time": "2024-06-11T13:49:57.530Z"
   },
   {
    "duration": 118,
    "start_time": "2024-06-11T13:50:00.665Z"
   },
   {
    "duration": 154,
    "start_time": "2024-06-11T13:50:00.788Z"
   },
   {
    "duration": 12,
    "start_time": "2024-06-11T13:50:00.947Z"
   },
   {
    "duration": 13,
    "start_time": "2024-06-11T13:50:00.963Z"
   },
   {
    "duration": 190,
    "start_time": "2024-06-11T13:50:00.979Z"
   },
   {
    "duration": 107,
    "start_time": "2024-06-11T13:50:01.172Z"
   },
   {
    "duration": 281,
    "start_time": "2024-06-11T13:50:01.282Z"
   },
   {
    "duration": 61,
    "start_time": "2024-06-11T13:50:01.568Z"
   },
   {
    "duration": 2156,
    "start_time": "2024-06-11T13:50:01.637Z"
   },
   {
    "duration": 492,
    "start_time": "2024-06-11T13:50:03.796Z"
   },
   {
    "duration": 83,
    "start_time": "2024-06-11T13:50:04.292Z"
   },
   {
    "duration": 21,
    "start_time": "2024-06-11T13:50:04.379Z"
   },
   {
    "duration": 71,
    "start_time": "2024-06-11T13:50:04.424Z"
   },
   {
    "duration": 638,
    "start_time": "2024-06-11T13:50:04.498Z"
   },
   {
    "duration": 87,
    "start_time": "2024-06-11T13:50:05.140Z"
   },
   {
    "duration": 973,
    "start_time": "2024-06-11T13:50:05.233Z"
   },
   {
    "duration": 14,
    "start_time": "2024-06-11T13:50:06.209Z"
   },
   {
    "duration": 495,
    "start_time": "2024-06-11T13:50:06.228Z"
   },
   {
    "duration": 14347,
    "start_time": "2024-06-11T13:50:06.728Z"
   },
   {
    "duration": 1117,
    "start_time": "2024-06-11T13:50:21.079Z"
   },
   {
    "duration": 22883,
    "start_time": "2024-06-11T13:50:22.200Z"
   },
   {
    "duration": 18746,
    "start_time": "2024-06-11T13:50:45.086Z"
   },
   {
    "duration": 31319,
    "start_time": "2024-06-11T13:51:03.838Z"
   },
   {
    "duration": 5218,
    "start_time": "2024-06-11T13:51:35.161Z"
   },
   {
    "duration": 43,
    "start_time": "2024-06-11T13:51:40.383Z"
   },
   {
    "duration": 9,
    "start_time": "2024-06-11T13:51:40.431Z"
   },
   {
    "duration": 13581,
    "start_time": "2024-06-11T13:54:17.772Z"
   },
   {
    "duration": 103,
    "start_time": "2024-06-11T14:03:45.445Z"
   },
   {
    "duration": 355,
    "start_time": "2024-06-11T14:04:24.570Z"
   },
   {
    "duration": 19,
    "start_time": "2024-06-11T14:04:49.599Z"
   },
   {
    "duration": 2941,
    "start_time": "2024-06-11T14:06:51.281Z"
   },
   {
    "duration": 8,
    "start_time": "2024-06-11T14:10:58.959Z"
   },
   {
    "duration": 30,
    "start_time": "2024-06-11T14:11:30.898Z"
   },
   {
    "duration": 31,
    "start_time": "2024-06-11T14:11:38.178Z"
   },
   {
    "duration": 7,
    "start_time": "2024-06-11T14:12:02.869Z"
   },
   {
    "duration": 1882,
    "start_time": "2024-06-11T14:14:17.332Z"
   },
   {
    "duration": 884,
    "start_time": "2024-06-11T14:14:19.218Z"
   },
   {
    "duration": 156,
    "start_time": "2024-06-11T14:14:20.105Z"
   },
   {
    "duration": 5,
    "start_time": "2024-06-11T14:14:20.265Z"
   },
   {
    "duration": 2902,
    "start_time": "2024-06-11T14:14:20.273Z"
   },
   {
    "duration": 110,
    "start_time": "2024-06-11T14:14:23.178Z"
   },
   {
    "duration": 141,
    "start_time": "2024-06-11T14:14:23.291Z"
   },
   {
    "duration": 11,
    "start_time": "2024-06-11T14:14:23.436Z"
   },
   {
    "duration": 13,
    "start_time": "2024-06-11T14:14:23.450Z"
   },
   {
    "duration": 183,
    "start_time": "2024-06-11T14:14:23.470Z"
   },
   {
    "duration": 106,
    "start_time": "2024-06-11T14:14:23.656Z"
   },
   {
    "duration": 270,
    "start_time": "2024-06-11T14:14:23.765Z"
   },
   {
    "duration": 34,
    "start_time": "2024-06-11T14:14:24.038Z"
   },
   {
    "duration": 1993,
    "start_time": "2024-06-11T14:14:24.076Z"
   },
   {
    "duration": 390,
    "start_time": "2024-06-11T14:14:26.072Z"
   },
   {
    "duration": 77,
    "start_time": "2024-06-11T14:14:26.465Z"
   },
   {
    "duration": 17,
    "start_time": "2024-06-11T14:14:26.546Z"
   },
   {
    "duration": 97,
    "start_time": "2024-06-11T14:14:26.567Z"
   },
   {
    "duration": 640,
    "start_time": "2024-06-11T14:14:26.667Z"
   },
   {
    "duration": 86,
    "start_time": "2024-06-11T14:14:27.311Z"
   },
   {
    "duration": 970,
    "start_time": "2024-06-11T14:14:27.401Z"
   },
   {
    "duration": 16,
    "start_time": "2024-06-11T14:14:28.374Z"
   },
   {
    "duration": 6,
    "start_time": "2024-06-11T14:14:28.394Z"
   },
   {
    "duration": 410,
    "start_time": "2024-06-11T14:14:28.424Z"
   },
   {
    "duration": 13519,
    "start_time": "2024-06-11T14:14:28.837Z"
   },
   {
    "duration": 963,
    "start_time": "2024-06-11T14:14:42.360Z"
   },
   {
    "duration": 22369,
    "start_time": "2024-06-11T14:14:43.326Z"
   },
   {
    "duration": 1326,
    "start_time": "2024-06-11T14:15:05.703Z"
   },
   {
    "duration": 21816,
    "start_time": "2024-06-11T14:15:07.033Z"
   },
   {
    "duration": 5157,
    "start_time": "2024-06-11T14:15:28.853Z"
   },
   {
    "duration": 26,
    "start_time": "2024-06-11T14:15:34.014Z"
   },
   {
    "duration": 2879,
    "start_time": "2024-06-11T14:15:34.044Z"
   },
   {
    "duration": 48802,
    "start_time": "2024-06-11T14:19:19.124Z"
   },
   {
    "duration": 4388,
    "start_time": "2024-06-11T14:21:14.276Z"
   },
   {
    "duration": 2058,
    "start_time": "2024-06-11T14:53:58.304Z"
   },
   {
    "duration": 858,
    "start_time": "2024-06-11T14:54:00.366Z"
   },
   {
    "duration": 171,
    "start_time": "2024-06-11T14:54:01.228Z"
   },
   {
    "duration": 6,
    "start_time": "2024-06-11T14:54:01.408Z"
   },
   {
    "duration": 3153,
    "start_time": "2024-06-11T14:54:01.426Z"
   },
   {
    "duration": 126,
    "start_time": "2024-06-11T14:54:04.584Z"
   },
   {
    "duration": 158,
    "start_time": "2024-06-11T14:54:04.725Z"
   },
   {
    "duration": 12,
    "start_time": "2024-06-11T14:54:04.888Z"
   },
   {
    "duration": 13,
    "start_time": "2024-06-11T14:54:04.924Z"
   },
   {
    "duration": 187,
    "start_time": "2024-06-11T14:54:04.940Z"
   },
   {
    "duration": 129,
    "start_time": "2024-06-11T14:54:05.130Z"
   },
   {
    "duration": 290,
    "start_time": "2024-06-11T14:54:05.264Z"
   },
   {
    "duration": 35,
    "start_time": "2024-06-11T14:54:05.559Z"
   },
   {
    "duration": 2245,
    "start_time": "2024-06-11T14:54:05.603Z"
   },
   {
    "duration": 454,
    "start_time": "2024-06-11T14:54:07.852Z"
   },
   {
    "duration": 91,
    "start_time": "2024-06-11T14:54:08.309Z"
   },
   {
    "duration": 28,
    "start_time": "2024-06-11T14:54:08.404Z"
   },
   {
    "duration": 93,
    "start_time": "2024-06-11T14:54:08.437Z"
   },
   {
    "duration": 653,
    "start_time": "2024-06-11T14:54:08.534Z"
   },
   {
    "duration": 95,
    "start_time": "2024-06-11T14:54:09.192Z"
   },
   {
    "duration": 1045,
    "start_time": "2024-06-11T14:54:09.291Z"
   },
   {
    "duration": 16,
    "start_time": "2024-06-11T14:54:10.340Z"
   },
   {
    "duration": 5,
    "start_time": "2024-06-11T14:54:10.360Z"
   },
   {
    "duration": 483,
    "start_time": "2024-06-11T14:54:10.369Z"
   },
   {
    "duration": 15096,
    "start_time": "2024-06-11T14:54:10.855Z"
   },
   {
    "duration": 1082,
    "start_time": "2024-06-11T14:54:25.955Z"
   },
   {
    "duration": 24159,
    "start_time": "2024-06-11T14:54:27.043Z"
   },
   {
    "duration": 15531,
    "start_time": "2024-06-11T14:54:51.208Z"
   },
   {
    "duration": 32188,
    "start_time": "2024-06-11T14:55:06.745Z"
   },
   {
    "duration": 5442,
    "start_time": "2024-06-11T14:55:38.937Z"
   },
   {
    "duration": 19,
    "start_time": "2024-06-11T14:55:44.383Z"
   },
   {
    "duration": 3006,
    "start_time": "2024-06-11T14:55:44.424Z"
   },
   {
    "duration": 51135,
    "start_time": "2024-06-11T14:55:47.446Z"
   },
   {
    "duration": 3981,
    "start_time": "2024-06-11T14:56:38.585Z"
   },
   {
    "duration": 75137,
    "start_time": "2024-06-11T14:56:42.569Z"
   },
   {
    "duration": 6913,
    "start_time": "2024-06-11T14:57:57.711Z"
   },
   {
    "duration": 1973,
    "start_time": "2024-06-11T15:19:44.909Z"
   },
   {
    "duration": 853,
    "start_time": "2024-06-11T15:19:46.886Z"
   },
   {
    "duration": 172,
    "start_time": "2024-06-11T15:19:47.743Z"
   },
   {
    "duration": 4,
    "start_time": "2024-06-11T15:19:47.922Z"
   },
   {
    "duration": 3577,
    "start_time": "2024-06-11T15:19:47.932Z"
   },
   {
    "duration": 113,
    "start_time": "2024-06-11T15:19:51.522Z"
   },
   {
    "duration": 149,
    "start_time": "2024-06-11T15:19:51.639Z"
   },
   {
    "duration": 11,
    "start_time": "2024-06-11T15:19:51.793Z"
   },
   {
    "duration": 26,
    "start_time": "2024-06-11T15:19:51.806Z"
   },
   {
    "duration": 213,
    "start_time": "2024-06-11T15:19:51.836Z"
   },
   {
    "duration": 122,
    "start_time": "2024-06-11T15:19:52.052Z"
   },
   {
    "duration": 279,
    "start_time": "2024-06-11T15:19:52.179Z"
   },
   {
    "duration": 36,
    "start_time": "2024-06-11T15:19:52.462Z"
   },
   {
    "duration": 2263,
    "start_time": "2024-06-11T15:19:52.523Z"
   },
   {
    "duration": 451,
    "start_time": "2024-06-11T15:19:54.790Z"
   },
   {
    "duration": 84,
    "start_time": "2024-06-11T15:19:55.244Z"
   },
   {
    "duration": 20,
    "start_time": "2024-06-11T15:19:55.332Z"
   },
   {
    "duration": 115,
    "start_time": "2024-06-11T15:19:55.358Z"
   },
   {
    "duration": 647,
    "start_time": "2024-06-11T15:19:55.477Z"
   },
   {
    "duration": 95,
    "start_time": "2024-06-11T15:19:56.128Z"
   },
   {
    "duration": 1024,
    "start_time": "2024-06-11T15:19:56.227Z"
   },
   {
    "duration": 21,
    "start_time": "2024-06-11T15:19:57.254Z"
   },
   {
    "duration": 10,
    "start_time": "2024-06-11T15:19:57.279Z"
   },
   {
    "duration": 432,
    "start_time": "2024-06-11T15:19:57.324Z"
   },
   {
    "duration": 15985,
    "start_time": "2024-06-11T15:19:57.830Z"
   },
   {
    "duration": 1104,
    "start_time": "2024-06-11T15:20:13.819Z"
   },
   {
    "duration": 24874,
    "start_time": "2024-06-11T15:20:14.927Z"
   },
   {
    "duration": 17947,
    "start_time": "2024-06-11T15:20:39.807Z"
   },
   {
    "duration": 33396,
    "start_time": "2024-06-11T15:20:57.763Z"
   },
   {
    "duration": 5196,
    "start_time": "2024-06-11T15:21:31.164Z"
   },
   {
    "duration": 20,
    "start_time": "2024-06-11T15:21:36.365Z"
   },
   {
    "duration": 2858,
    "start_time": "2024-06-11T15:21:36.389Z"
   },
   {
    "duration": 52145,
    "start_time": "2024-06-11T15:21:39.257Z"
   },
   {
    "duration": 4658,
    "start_time": "2024-06-11T15:22:31.406Z"
   },
   {
    "duration": 84763,
    "start_time": "2024-06-11T15:22:36.068Z"
   },
   {
    "duration": 16402,
    "start_time": "2024-06-11T15:24:00.835Z"
   },
   {
    "duration": 35592,
    "start_time": "2024-06-11T15:24:17.241Z"
   },
   {
    "duration": 511,
    "start_time": "2024-06-11T15:24:52.836Z"
   },
   {
    "duration": 0,
    "start_time": "2024-06-11T15:24:53.352Z"
   },
   {
    "duration": 0,
    "start_time": "2024-06-11T15:24:53.355Z"
   },
   {
    "duration": 0,
    "start_time": "2024-06-11T15:24:53.359Z"
   },
   {
    "duration": 1953,
    "start_time": "2024-06-11T15:33:04.374Z"
   },
   {
    "duration": 1039,
    "start_time": "2024-06-11T15:33:06.332Z"
   },
   {
    "duration": 273,
    "start_time": "2024-06-11T15:33:07.384Z"
   },
   {
    "duration": 9,
    "start_time": "2024-06-11T15:33:07.670Z"
   },
   {
    "duration": 3750,
    "start_time": "2024-06-11T15:33:07.691Z"
   },
   {
    "duration": 168,
    "start_time": "2024-06-11T15:33:11.448Z"
   },
   {
    "duration": 231,
    "start_time": "2024-06-11T15:33:11.626Z"
   },
   {
    "duration": 17,
    "start_time": "2024-06-11T15:33:11.862Z"
   },
   {
    "duration": 28,
    "start_time": "2024-06-11T15:33:11.887Z"
   },
   {
    "duration": 209,
    "start_time": "2024-06-11T15:33:11.918Z"
   },
   {
    "duration": 129,
    "start_time": "2024-06-11T15:33:12.136Z"
   },
   {
    "duration": 370,
    "start_time": "2024-06-11T15:33:12.269Z"
   },
   {
    "duration": 43,
    "start_time": "2024-06-11T15:33:12.643Z"
   },
   {
    "duration": 2609,
    "start_time": "2024-06-11T15:33:12.695Z"
   },
   {
    "duration": 470,
    "start_time": "2024-06-11T15:33:15.308Z"
   },
   {
    "duration": 81,
    "start_time": "2024-06-11T15:33:15.782Z"
   },
   {
    "duration": 22,
    "start_time": "2024-06-11T15:33:15.867Z"
   },
   {
    "duration": 108,
    "start_time": "2024-06-11T15:33:15.893Z"
   },
   {
    "duration": 758,
    "start_time": "2024-06-11T15:33:16.025Z"
   },
   {
    "duration": 96,
    "start_time": "2024-06-11T15:33:16.790Z"
   },
   {
    "duration": 1035,
    "start_time": "2024-06-11T15:33:16.890Z"
   },
   {
    "duration": 19,
    "start_time": "2024-06-11T15:33:17.929Z"
   },
   {
    "duration": 9,
    "start_time": "2024-06-11T15:33:17.952Z"
   },
   {
    "duration": 503,
    "start_time": "2024-06-11T15:33:17.965Z"
   },
   {
    "duration": 14680,
    "start_time": "2024-06-11T15:33:18.523Z"
   },
   {
    "duration": 1169,
    "start_time": "2024-06-11T15:33:33.206Z"
   },
   {
    "duration": 24405,
    "start_time": "2024-06-11T15:33:34.379Z"
   },
   {
    "duration": 18267,
    "start_time": "2024-06-11T15:33:58.788Z"
   },
   {
    "duration": 32911,
    "start_time": "2024-06-11T15:34:17.125Z"
   },
   {
    "duration": 5232,
    "start_time": "2024-06-11T15:34:50.039Z"
   },
   {
    "duration": 27,
    "start_time": "2024-06-11T15:34:55.275Z"
   },
   {
    "duration": 2937,
    "start_time": "2024-06-11T15:34:55.305Z"
   },
   {
    "duration": 51887,
    "start_time": "2024-06-11T15:34:58.248Z"
   },
   {
    "duration": 4893,
    "start_time": "2024-06-11T15:35:50.139Z"
   },
   {
    "duration": 84357,
    "start_time": "2024-06-11T15:35:55.036Z"
   },
   {
    "duration": 9553,
    "start_time": "2024-06-11T15:37:19.397Z"
   },
   {
    "duration": 22086,
    "start_time": "2024-06-11T15:37:28.953Z"
   },
   {
    "duration": 31901,
    "start_time": "2024-06-11T15:37:51.042Z"
   },
   {
    "duration": 324,
    "start_time": "2024-06-11T15:50:56.591Z"
   },
   {
    "duration": 1843,
    "start_time": "2024-06-11T15:51:18.331Z"
   },
   {
    "duration": 855,
    "start_time": "2024-06-11T15:51:20.178Z"
   },
   {
    "duration": 169,
    "start_time": "2024-06-11T15:51:21.037Z"
   },
   {
    "duration": 14,
    "start_time": "2024-06-11T15:51:21.210Z"
   },
   {
    "duration": 2866,
    "start_time": "2024-06-11T15:51:21.227Z"
   },
   {
    "duration": 103,
    "start_time": "2024-06-11T15:51:24.096Z"
   },
   {
    "duration": 144,
    "start_time": "2024-06-11T15:51:24.202Z"
   },
   {
    "duration": 10,
    "start_time": "2024-06-11T15:51:24.349Z"
   },
   {
    "duration": 12,
    "start_time": "2024-06-11T15:51:24.362Z"
   },
   {
    "duration": 192,
    "start_time": "2024-06-11T15:51:24.381Z"
   },
   {
    "duration": 111,
    "start_time": "2024-06-11T15:51:24.577Z"
   },
   {
    "duration": 283,
    "start_time": "2024-06-11T15:51:24.691Z"
   },
   {
    "duration": 46,
    "start_time": "2024-06-11T15:51:24.977Z"
   },
   {
    "duration": 1952,
    "start_time": "2024-06-11T15:51:25.027Z"
   },
   {
    "duration": 397,
    "start_time": "2024-06-11T15:51:26.982Z"
   },
   {
    "duration": 76,
    "start_time": "2024-06-11T15:51:27.382Z"
   },
   {
    "duration": 16,
    "start_time": "2024-06-11T15:51:27.461Z"
   },
   {
    "duration": 88,
    "start_time": "2024-06-11T15:51:27.482Z"
   },
   {
    "duration": 603,
    "start_time": "2024-06-11T15:51:27.573Z"
   },
   {
    "duration": 77,
    "start_time": "2024-06-11T15:51:28.180Z"
   },
   {
    "duration": 945,
    "start_time": "2024-06-11T15:51:28.260Z"
   },
   {
    "duration": 20,
    "start_time": "2024-06-11T15:51:29.208Z"
   },
   {
    "duration": 10,
    "start_time": "2024-06-11T15:51:29.232Z"
   },
   {
    "duration": 395,
    "start_time": "2024-06-11T15:51:29.245Z"
   },
   {
    "duration": 13164,
    "start_time": "2024-06-11T15:51:29.644Z"
   },
   {
    "duration": 959,
    "start_time": "2024-06-11T15:51:42.811Z"
   },
   {
    "duration": 21516,
    "start_time": "2024-06-11T15:51:43.773Z"
   },
   {
    "duration": 1236,
    "start_time": "2024-06-11T15:52:05.297Z"
   },
   {
    "duration": 23899,
    "start_time": "2024-06-11T15:52:06.536Z"
   },
   {
    "duration": 5397,
    "start_time": "2024-06-11T15:52:30.438Z"
   },
   {
    "duration": 17,
    "start_time": "2024-06-11T15:52:35.838Z"
   },
   {
    "duration": 2690,
    "start_time": "2024-06-11T15:52:35.859Z"
   },
   {
    "duration": 46681,
    "start_time": "2024-06-11T15:52:38.624Z"
   },
   {
    "duration": 4425,
    "start_time": "2024-06-11T15:53:25.308Z"
   },
   {
    "duration": 74290,
    "start_time": "2024-06-11T15:53:29.740Z"
   },
   {
    "duration": 1701,
    "start_time": "2024-06-11T15:54:44.033Z"
   },
   {
    "duration": 4813,
    "start_time": "2024-06-11T15:54:45.738Z"
   },
   {
    "duration": 21212,
    "start_time": "2024-06-11T15:54:50.623Z"
   },
   {
    "duration": 502,
    "start_time": "2024-06-11T15:55:11.839Z"
   },
   {
    "duration": 0,
    "start_time": "2024-06-11T15:55:12.345Z"
   },
   {
    "duration": 0,
    "start_time": "2024-06-11T15:55:12.349Z"
   },
   {
    "duration": 0,
    "start_time": "2024-06-11T15:55:12.351Z"
   },
   {
    "duration": 0,
    "start_time": "2024-06-11T15:55:12.355Z"
   },
   {
    "duration": 0,
    "start_time": "2024-06-11T15:55:12.357Z"
   },
   {
    "duration": 36,
    "start_time": "2024-06-11T15:55:48.313Z"
   },
   {
    "duration": 899,
    "start_time": "2024-06-11T15:56:10.107Z"
   },
   {
    "duration": 58584,
    "start_time": "2024-06-11T16:00:52.762Z"
   },
   {
    "duration": 30,
    "start_time": "2024-06-11T16:02:56.832Z"
   },
   {
    "duration": 86808,
    "start_time": "2024-06-11T16:04:08.954Z"
   },
   {
    "duration": 7848,
    "start_time": "2024-06-11T16:07:57.904Z"
   },
   {
    "duration": 30,
    "start_time": "2024-06-11T16:09:02.955Z"
   },
   {
    "duration": 5327,
    "start_time": "2024-06-12T01:07:49.871Z"
   },
   {
    "duration": 796,
    "start_time": "2024-06-12T01:07:55.202Z"
   },
   {
    "duration": 149,
    "start_time": "2024-06-12T01:07:56.001Z"
   },
   {
    "duration": 4,
    "start_time": "2024-06-12T01:07:56.154Z"
   },
   {
    "duration": 2820,
    "start_time": "2024-06-12T01:07:56.162Z"
   },
   {
    "duration": 109,
    "start_time": "2024-06-12T01:07:58.985Z"
   },
   {
    "duration": 131,
    "start_time": "2024-06-12T01:07:59.097Z"
   },
   {
    "duration": 9,
    "start_time": "2024-06-12T01:07:59.233Z"
   },
   {
    "duration": 11,
    "start_time": "2024-06-12T01:07:59.246Z"
   },
   {
    "duration": 179,
    "start_time": "2024-06-12T01:07:59.262Z"
   },
   {
    "duration": 98,
    "start_time": "2024-06-12T01:07:59.443Z"
   },
   {
    "duration": 269,
    "start_time": "2024-06-12T01:07:59.544Z"
   },
   {
    "duration": 41,
    "start_time": "2024-06-12T01:07:59.815Z"
   },
   {
    "duration": 1921,
    "start_time": "2024-06-12T01:07:59.859Z"
   },
   {
    "duration": 367,
    "start_time": "2024-06-12T01:08:01.783Z"
   },
   {
    "duration": 81,
    "start_time": "2024-06-12T01:08:02.153Z"
   },
   {
    "duration": 17,
    "start_time": "2024-06-12T01:08:02.240Z"
   },
   {
    "duration": 82,
    "start_time": "2024-06-12T01:08:02.261Z"
   },
   {
    "duration": 611,
    "start_time": "2024-06-12T01:08:02.346Z"
   },
   {
    "duration": 81,
    "start_time": "2024-06-12T01:08:02.960Z"
   },
   {
    "duration": 814,
    "start_time": "2024-06-12T01:08:03.045Z"
   },
   {
    "duration": 14,
    "start_time": "2024-06-12T01:08:03.862Z"
   },
   {
    "duration": 5,
    "start_time": "2024-06-12T01:08:03.879Z"
   },
   {
    "duration": 366,
    "start_time": "2024-06-12T01:08:03.888Z"
   },
   {
    "duration": 11515,
    "start_time": "2024-06-12T01:08:04.334Z"
   },
   {
    "duration": 890,
    "start_time": "2024-06-12T01:08:15.851Z"
   },
   {
    "duration": 18644,
    "start_time": "2024-06-12T01:08:16.744Z"
   },
   {
    "duration": 1151,
    "start_time": "2024-06-12T01:08:35.397Z"
   },
   {
    "duration": 20490,
    "start_time": "2024-06-12T01:08:36.551Z"
   },
   {
    "duration": 4899,
    "start_time": "2024-06-12T01:08:57.044Z"
   },
   {
    "duration": 16,
    "start_time": "2024-06-12T01:09:01.947Z"
   },
   {
    "duration": 2486,
    "start_time": "2024-06-12T01:09:01.966Z"
   },
   {
    "duration": 40129,
    "start_time": "2024-06-12T01:09:04.455Z"
   },
   {
    "duration": 3687,
    "start_time": "2024-06-12T01:09:44.586Z"
   },
   {
    "duration": 66514,
    "start_time": "2024-06-12T01:09:48.276Z"
   },
   {
    "duration": 1841,
    "start_time": "2024-06-12T01:10:54.793Z"
   },
   {
    "duration": 14703,
    "start_time": "2024-06-12T01:10:56.638Z"
   },
   {
    "duration": 23708,
    "start_time": "2024-06-12T01:11:11.346Z"
   },
   {
    "duration": 59696,
    "start_time": "2024-06-12T01:11:35.057Z"
   },
   {
    "duration": 6849,
    "start_time": "2024-06-12T01:12:34.756Z"
   },
   {
    "duration": 517,
    "start_time": "2024-06-12T01:12:41.609Z"
   },
   {
    "duration": 0,
    "start_time": "2024-06-12T01:12:42.129Z"
   },
   {
    "duration": 0,
    "start_time": "2024-06-12T01:12:42.133Z"
   },
   {
    "duration": 0,
    "start_time": "2024-06-12T01:12:42.136Z"
   },
   {
    "duration": 506,
    "start_time": "2024-06-12T01:13:26.815Z"
   },
   {
    "duration": 60,
    "start_time": "2024-06-12T01:15:31.818Z"
   },
   {
    "duration": 275,
    "start_time": "2024-06-12T01:18:05.041Z"
   },
   {
    "duration": 92700,
    "start_time": "2024-06-12T01:20:00.292Z"
   },
   {
    "duration": 27,
    "start_time": "2024-06-12T01:22:32.252Z"
   },
   {
    "duration": 26,
    "start_time": "2024-06-12T01:26:46.532Z"
   },
   {
    "duration": 6,
    "start_time": "2024-06-12T01:27:01.363Z"
   },
   {
    "duration": 8,
    "start_time": "2024-06-12T01:28:23.024Z"
   },
   {
    "duration": 7,
    "start_time": "2024-06-12T01:28:40.021Z"
   },
   {
    "duration": 32,
    "start_time": "2024-06-12T01:29:01.835Z"
   },
   {
    "duration": 32,
    "start_time": "2024-06-12T01:31:25.894Z"
   },
   {
    "duration": 31,
    "start_time": "2024-06-12T01:31:54.971Z"
   },
   {
    "duration": 18,
    "start_time": "2024-06-12T01:32:03.982Z"
   },
   {
    "duration": 11,
    "start_time": "2024-06-12T01:32:50.833Z"
   },
   {
    "duration": 8742,
    "start_time": "2024-06-12T03:05:04.775Z"
   },
   {
    "duration": 1812,
    "start_time": "2024-06-12T03:05:13.570Z"
   },
   {
    "duration": 584,
    "start_time": "2024-06-12T03:05:15.386Z"
   },
   {
    "duration": 5,
    "start_time": "2024-06-12T03:05:15.975Z"
   },
   {
    "duration": 12787,
    "start_time": "2024-06-12T03:05:15.987Z"
   },
   {
    "duration": 681,
    "start_time": "2024-06-12T03:05:28.788Z"
   },
   {
    "duration": 609,
    "start_time": "2024-06-12T03:05:29.472Z"
   },
   {
    "duration": 11,
    "start_time": "2024-06-12T03:05:30.168Z"
   },
   {
    "duration": 106,
    "start_time": "2024-06-12T03:05:30.182Z"
   },
   {
    "duration": 600,
    "start_time": "2024-06-12T03:05:30.370Z"
   },
   {
    "duration": 505,
    "start_time": "2024-06-12T03:05:30.980Z"
   },
   {
    "duration": 1689,
    "start_time": "2024-06-12T03:05:31.489Z"
   },
   {
    "duration": 287,
    "start_time": "2024-06-12T03:05:33.183Z"
   },
   {
    "duration": 8396,
    "start_time": "2024-06-12T03:05:33.482Z"
   },
   {
    "duration": 1397,
    "start_time": "2024-06-12T03:05:41.881Z"
   },
   {
    "duration": 284,
    "start_time": "2024-06-12T03:05:43.283Z"
   },
   {
    "duration": 23,
    "start_time": "2024-06-12T03:05:43.570Z"
   },
   {
    "duration": 299,
    "start_time": "2024-06-12T03:05:43.596Z"
   },
   {
    "duration": 1709,
    "start_time": "2024-06-12T03:05:43.969Z"
   },
   {
    "duration": 291,
    "start_time": "2024-06-12T03:05:45.680Z"
   },
   {
    "duration": 3198,
    "start_time": "2024-06-12T03:05:45.977Z"
   },
   {
    "duration": 90,
    "start_time": "2024-06-12T03:05:49.178Z"
   },
   {
    "duration": 7,
    "start_time": "2024-06-12T03:05:49.273Z"
   },
   {
    "duration": 895,
    "start_time": "2024-06-12T03:05:49.284Z"
   },
   {
    "duration": 40105,
    "start_time": "2024-06-12T03:05:50.183Z"
   },
   {
    "duration": 3584,
    "start_time": "2024-06-12T03:06:30.298Z"
   },
   {
    "duration": 67383,
    "start_time": "2024-06-12T03:06:33.885Z"
   },
   {
    "duration": 78116,
    "start_time": "2024-06-12T03:07:41.271Z"
   },
   {
    "duration": 71479,
    "start_time": "2024-06-12T03:08:59.391Z"
   },
   {
    "duration": 16505,
    "start_time": "2024-06-12T03:10:10.873Z"
   },
   {
    "duration": 90,
    "start_time": "2024-06-12T03:10:27.382Z"
   },
   {
    "duration": 7409,
    "start_time": "2024-06-12T03:10:27.476Z"
   },
   {
    "duration": 138912,
    "start_time": "2024-06-12T03:10:34.969Z"
   },
   {
    "duration": 13202,
    "start_time": "2024-06-12T03:12:53.884Z"
   },
   {
    "duration": 168799,
    "start_time": "2024-06-12T03:13:07.089Z"
   },
   {
    "duration": 22778,
    "start_time": "2024-06-12T03:15:55.891Z"
   },
   {
    "duration": 63300,
    "start_time": "2024-06-12T03:16:18.676Z"
   },
   {
    "duration": 43116,
    "start_time": "2024-06-12T03:17:21.979Z"
   },
   {
    "duration": 125928,
    "start_time": "2024-06-12T03:18:05.167Z"
   },
   {
    "duration": 14323,
    "start_time": "2024-06-12T03:20:11.167Z"
   },
   {
    "duration": 98443,
    "start_time": "2024-06-12T03:20:25.500Z"
   },
   {
    "duration": 6,
    "start_time": "2024-06-12T03:22:03.946Z"
   },
   {
    "duration": 19,
    "start_time": "2024-06-12T03:22:03.956Z"
   }
  ],
  "kernelspec": {
   "display_name": "Python 3 (ipykernel)",
   "language": "python",
   "name": "python3"
  },
  "language_info": {
   "codemirror_mode": {
    "name": "ipython",
    "version": 3
   },
   "file_extension": ".py",
   "mimetype": "text/x-python",
   "name": "python",
   "nbconvert_exporter": "python",
   "pygments_lexer": "ipython3",
   "version": "3.9.19"
  },
  "toc": {
   "base_numbering": 1,
   "nav_menu": {},
   "number_sections": true,
   "sideBar": true,
   "skip_h1_title": true,
   "title_cell": "Table of Contents",
   "title_sidebar": "Contents",
   "toc_cell": false,
   "toc_position": {},
   "toc_section_display": true,
   "toc_window_display": false
  }
 },
 "nbformat": 4,
 "nbformat_minor": 2
}
