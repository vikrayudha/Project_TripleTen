{
 "cells": [
  {
   "cell_type": "markdown",
   "metadata": {},
   "source": [
    "# Memprediksi jumlah pesanan taksi perusahaan Sweet Lift\n",
    "\n",
    "Deskripsi tugas\n",
    "\n",
    "Perusahaan taksi bernama Sweet Lift telah mengumpulkan data historis tentang pesanan taksi di bandara. Untuk menarik lebih banyak pengemudi pada jam sibuk, perlu memprediksi jumlah pesanan taksi untuk satu jam berikutnya. Buat model untuk prediksi seperti itu.\n",
    "\n",
    "Metrik RMSE pada *test set* tidak boleh lebih dari 48.\n",
    "\n",
    "## Instruksi tugas\n",
    "\n",
    "1. Unduh data dan lakukan *resampling* dalam satu jam.\n",
    "2. Analisis datanya.\n",
    "3.  Latih model yang berbeda dengan hiperparameter yang berbeda pula. Sampel tes harus 10% dari *dataset* awal.\n",
    "4. Uji data menggunakan sampel tes dan berikan kesimpulan.\n",
    "\n",
    "## Deskripsi data\n",
    "\n",
    "Data tersimpan di file `taxi.csv`. Jumlah pesanan di kolom'*num_orders*'."
   ]
  },
  {
   "cell_type": "markdown",
   "metadata": {},
   "source": [
    "## Persiapan"
   ]
  },
  {
   "cell_type": "code",
   "execution_count": 1,
   "metadata": {},
   "outputs": [],
   "source": [
    "import pandas as pd\n",
    "import numpy as np\n",
    "import time\n",
    "import matplotlib.pyplot as plt\n",
    "import seaborn as sns\n",
    "from sklearn.model_selection import train_test_split, GridSearchCV, TimeSeriesSplit, KFold, RandomizedSearchCV\n",
    "from sklearn.linear_model import LinearRegression, LogisticRegression\n",
    "from sklearn.metrics import mean_squared_error, mean_absolute_error, make_scorer\n",
    "from sklearn.ensemble import RandomForestRegressor, RandomForestClassifier\n",
    "from sklearn.tree import DecisionTreeClassifier, DecisionTreeRegressor\n",
    "from sklearn.preprocessing import OneHotEncoder, OrdinalEncoder\n",
    "from sklearn.pipeline import Pipeline\n",
    "from sklearn.compose import ColumnTransformer\n",
    "from scipy.spatial import distance\n",
    "from IPython.display import display\n",
    "from statsmodels.graphics.tsaplots import plot_acf, plot_pacf\n",
    "from statsmodels.tsa.seasonal import seasonal_decompose\n",
    "from statsmodels.tsa.arima.model import ARIMA\n",
    "from xgboost import XGBRegressor\n",
    "import lightgbm as lgb\n",
    "from datetime import timedelta\n",
    "import warnings\n",
    "\n",
    "warnings.filterwarnings('ignore')\n",
    "pd.options.mode.chained_assignment = None\n",
    "\n",
    "# set tema untuk seaborn\n",
    "sns.set_theme(palette='bright')"
   ]
  },
  {
   "cell_type": "code",
   "execution_count": 2,
   "metadata": {},
   "outputs": [
    {
     "data": {
      "text/html": [
       "<div>\n",
       "<style scoped>\n",
       "    .dataframe tbody tr th:only-of-type {\n",
       "        vertical-align: middle;\n",
       "    }\n",
       "\n",
       "    .dataframe tbody tr th {\n",
       "        vertical-align: top;\n",
       "    }\n",
       "\n",
       "    .dataframe thead th {\n",
       "        text-align: right;\n",
       "    }\n",
       "</style>\n",
       "<table border=\"1\" class=\"dataframe\">\n",
       "  <thead>\n",
       "    <tr style=\"text-align: right;\">\n",
       "      <th></th>\n",
       "      <th>datetime</th>\n",
       "      <th>num_orders</th>\n",
       "    </tr>\n",
       "  </thead>\n",
       "  <tbody>\n",
       "    <tr>\n",
       "      <th>0</th>\n",
       "      <td>2018-03-01 00:00:00</td>\n",
       "      <td>9</td>\n",
       "    </tr>\n",
       "    <tr>\n",
       "      <th>1</th>\n",
       "      <td>2018-03-01 00:10:00</td>\n",
       "      <td>14</td>\n",
       "    </tr>\n",
       "    <tr>\n",
       "      <th>2</th>\n",
       "      <td>2018-03-01 00:20:00</td>\n",
       "      <td>28</td>\n",
       "    </tr>\n",
       "    <tr>\n",
       "      <th>3</th>\n",
       "      <td>2018-03-01 00:30:00</td>\n",
       "      <td>20</td>\n",
       "    </tr>\n",
       "    <tr>\n",
       "      <th>4</th>\n",
       "      <td>2018-03-01 00:40:00</td>\n",
       "      <td>32</td>\n",
       "    </tr>\n",
       "    <tr>\n",
       "      <th>5</th>\n",
       "      <td>2018-03-01 00:50:00</td>\n",
       "      <td>21</td>\n",
       "    </tr>\n",
       "    <tr>\n",
       "      <th>6</th>\n",
       "      <td>2018-03-01 01:00:00</td>\n",
       "      <td>7</td>\n",
       "    </tr>\n",
       "    <tr>\n",
       "      <th>7</th>\n",
       "      <td>2018-03-01 01:10:00</td>\n",
       "      <td>5</td>\n",
       "    </tr>\n",
       "    <tr>\n",
       "      <th>8</th>\n",
       "      <td>2018-03-01 01:20:00</td>\n",
       "      <td>17</td>\n",
       "    </tr>\n",
       "    <tr>\n",
       "      <th>9</th>\n",
       "      <td>2018-03-01 01:30:00</td>\n",
       "      <td>12</td>\n",
       "    </tr>\n",
       "  </tbody>\n",
       "</table>\n",
       "</div>"
      ],
      "text/plain": [
       "              datetime  num_orders\n",
       "0  2018-03-01 00:00:00           9\n",
       "1  2018-03-01 00:10:00          14\n",
       "2  2018-03-01 00:20:00          28\n",
       "3  2018-03-01 00:30:00          20\n",
       "4  2018-03-01 00:40:00          32\n",
       "5  2018-03-01 00:50:00          21\n",
       "6  2018-03-01 01:00:00           7\n",
       "7  2018-03-01 01:10:00           5\n",
       "8  2018-03-01 01:20:00          17\n",
       "9  2018-03-01 01:30:00          12"
      ]
     },
     "execution_count": 2,
     "metadata": {},
     "output_type": "execute_result"
    }
   ],
   "source": [
    "df = pd.read_csv('/datasets/taxi.csv')\n",
    "df.head(10)"
   ]
  },
  {
   "cell_type": "code",
   "execution_count": 3,
   "metadata": {},
   "outputs": [
    {
     "name": "stdout",
     "output_type": "stream",
     "text": [
      "<class 'pandas.core.frame.DataFrame'>\n",
      "RangeIndex: 26496 entries, 0 to 26495\n",
      "Data columns (total 2 columns):\n",
      " #   Column      Non-Null Count  Dtype \n",
      "---  ------      --------------  ----- \n",
      " 0   datetime    26496 non-null  object\n",
      " 1   num_orders  26496 non-null  int64 \n",
      "dtypes: int64(1), object(1)\n",
      "memory usage: 414.1+ KB\n"
     ]
    }
   ],
   "source": [
    "df.info()"
   ]
  },
  {
   "cell_type": "markdown",
   "metadata": {},
   "source": [
    "terlihat bahwa dataset berisikan 2 kolom dengan 26496 entry, tidak ada nilai hilang, akan tetapi kolom `datetime`  memiliki tipe data yang salah sehingga harus diubah terlebih dahulu"
   ]
  },
  {
   "cell_type": "code",
   "execution_count": 4,
   "metadata": {},
   "outputs": [
    {
     "data": {
      "text/plain": [
       "0"
      ]
     },
     "execution_count": 4,
     "metadata": {},
     "output_type": "execute_result"
    }
   ],
   "source": [
    "# Mengecek adanya duplikasi data\n",
    "df.duplicated().sum()"
   ]
  },
  {
   "cell_type": "markdown",
   "metadata": {},
   "source": [
    "dikarenakan kita membutuhkan kolom `datetime` sebagai index maka setelah mengubah tipe datanya kita harus menjadikannya index"
   ]
  },
  {
   "cell_type": "code",
   "execution_count": 5,
   "metadata": {
    "scrolled": true
   },
   "outputs": [
    {
     "data": {
      "text/html": [
       "<div>\n",
       "<style scoped>\n",
       "    .dataframe tbody tr th:only-of-type {\n",
       "        vertical-align: middle;\n",
       "    }\n",
       "\n",
       "    .dataframe tbody tr th {\n",
       "        vertical-align: top;\n",
       "    }\n",
       "\n",
       "    .dataframe thead th {\n",
       "        text-align: right;\n",
       "    }\n",
       "</style>\n",
       "<table border=\"1\" class=\"dataframe\">\n",
       "  <thead>\n",
       "    <tr style=\"text-align: right;\">\n",
       "      <th></th>\n",
       "      <th>num_orders</th>\n",
       "    </tr>\n",
       "    <tr>\n",
       "      <th>datetime</th>\n",
       "      <th></th>\n",
       "    </tr>\n",
       "  </thead>\n",
       "  <tbody>\n",
       "    <tr>\n",
       "      <th>2018-03-01 00:00:00</th>\n",
       "      <td>20.666667</td>\n",
       "    </tr>\n",
       "    <tr>\n",
       "      <th>2018-03-01 01:00:00</th>\n",
       "      <td>14.166667</td>\n",
       "    </tr>\n",
       "    <tr>\n",
       "      <th>2018-03-01 02:00:00</th>\n",
       "      <td>11.833333</td>\n",
       "    </tr>\n",
       "    <tr>\n",
       "      <th>2018-03-01 03:00:00</th>\n",
       "      <td>11.000000</td>\n",
       "    </tr>\n",
       "    <tr>\n",
       "      <th>2018-03-01 04:00:00</th>\n",
       "      <td>7.166667</td>\n",
       "    </tr>\n",
       "    <tr>\n",
       "      <th>...</th>\n",
       "      <td>...</td>\n",
       "    </tr>\n",
       "    <tr>\n",
       "      <th>2018-08-31 19:00:00</th>\n",
       "      <td>22.666667</td>\n",
       "    </tr>\n",
       "    <tr>\n",
       "      <th>2018-08-31 20:00:00</th>\n",
       "      <td>25.666667</td>\n",
       "    </tr>\n",
       "    <tr>\n",
       "      <th>2018-08-31 21:00:00</th>\n",
       "      <td>26.500000</td>\n",
       "    </tr>\n",
       "    <tr>\n",
       "      <th>2018-08-31 22:00:00</th>\n",
       "      <td>37.166667</td>\n",
       "    </tr>\n",
       "    <tr>\n",
       "      <th>2018-08-31 23:00:00</th>\n",
       "      <td>34.166667</td>\n",
       "    </tr>\n",
       "  </tbody>\n",
       "</table>\n",
       "<p>4416 rows × 1 columns</p>\n",
       "</div>"
      ],
      "text/plain": [
       "                     num_orders\n",
       "datetime                       \n",
       "2018-03-01 00:00:00   20.666667\n",
       "2018-03-01 01:00:00   14.166667\n",
       "2018-03-01 02:00:00   11.833333\n",
       "2018-03-01 03:00:00   11.000000\n",
       "2018-03-01 04:00:00    7.166667\n",
       "...                         ...\n",
       "2018-08-31 19:00:00   22.666667\n",
       "2018-08-31 20:00:00   25.666667\n",
       "2018-08-31 21:00:00   26.500000\n",
       "2018-08-31 22:00:00   37.166667\n",
       "2018-08-31 23:00:00   34.166667\n",
       "\n",
       "[4416 rows x 1 columns]"
      ]
     },
     "execution_count": 5,
     "metadata": {},
     "output_type": "execute_result"
    }
   ],
   "source": [
    "# Ubah kolom 'datetime' menjadi datetime object\n",
    "df['datetime'] = pd.to_datetime(df['datetime'])\n",
    "\n",
    "# Set kolom 'datetime' sebagai index\n",
    "df.set_index('datetime', inplace=True)\n",
    "\n",
    "# Membuat data resample 1H\n",
    "df = df.resample('1H').mean()\n",
    "df"
   ]
  },
  {
   "cell_type": "code",
   "execution_count": 6,
   "metadata": {},
   "outputs": [
    {
     "name": "stdout",
     "output_type": "stream",
     "text": [
      "<class 'pandas.core.frame.DataFrame'>\n",
      "DatetimeIndex: 4416 entries, 2018-03-01 00:00:00 to 2018-08-31 23:00:00\n",
      "Freq: H\n",
      "Data columns (total 1 columns):\n",
      " #   Column      Non-Null Count  Dtype  \n",
      "---  ------      --------------  -----  \n",
      " 0   num_orders  4416 non-null   float64\n",
      "dtypes: float64(1)\n",
      "memory usage: 69.0 KB\n"
     ]
    }
   ],
   "source": [
    "df.info()"
   ]
  },
  {
   "cell_type": "markdown",
   "metadata": {},
   "source": [
    "sekarang dataset sudah mengubah kolom `datetime` menjadi index"
   ]
  },
  {
   "cell_type": "code",
   "execution_count": 7,
   "metadata": {},
   "outputs": [
    {
     "data": {
      "text/html": [
       "<div>\n",
       "<style scoped>\n",
       "    .dataframe tbody tr th:only-of-type {\n",
       "        vertical-align: middle;\n",
       "    }\n",
       "\n",
       "    .dataframe tbody tr th {\n",
       "        vertical-align: top;\n",
       "    }\n",
       "\n",
       "    .dataframe thead th {\n",
       "        text-align: right;\n",
       "    }\n",
       "</style>\n",
       "<table border=\"1\" class=\"dataframe\">\n",
       "  <thead>\n",
       "    <tr style=\"text-align: right;\">\n",
       "      <th></th>\n",
       "      <th>num_orders</th>\n",
       "    </tr>\n",
       "  </thead>\n",
       "  <tbody>\n",
       "    <tr>\n",
       "      <th>count</th>\n",
       "      <td>4416.000000</td>\n",
       "    </tr>\n",
       "    <tr>\n",
       "      <th>mean</th>\n",
       "      <td>14.070463</td>\n",
       "    </tr>\n",
       "    <tr>\n",
       "      <th>std</th>\n",
       "      <td>7.503976</td>\n",
       "    </tr>\n",
       "    <tr>\n",
       "      <th>min</th>\n",
       "      <td>0.000000</td>\n",
       "    </tr>\n",
       "    <tr>\n",
       "      <th>25%</th>\n",
       "      <td>9.000000</td>\n",
       "    </tr>\n",
       "    <tr>\n",
       "      <th>50%</th>\n",
       "      <td>13.000000</td>\n",
       "    </tr>\n",
       "    <tr>\n",
       "      <th>75%</th>\n",
       "      <td>17.833333</td>\n",
       "    </tr>\n",
       "    <tr>\n",
       "      <th>max</th>\n",
       "      <td>77.000000</td>\n",
       "    </tr>\n",
       "  </tbody>\n",
       "</table>\n",
       "</div>"
      ],
      "text/plain": [
       "        num_orders\n",
       "count  4416.000000\n",
       "mean     14.070463\n",
       "std       7.503976\n",
       "min       0.000000\n",
       "25%       9.000000\n",
       "50%      13.000000\n",
       "75%      17.833333\n",
       "max      77.000000"
      ]
     },
     "execution_count": 7,
     "metadata": {},
     "output_type": "execute_result"
    }
   ],
   "source": [
    "df.describe()"
   ]
  },
  {
   "cell_type": "markdown",
   "metadata": {},
   "source": [
    "**Kesimpulan:** dataset berisikan 2 kolom dengan 26496 entry, tidak ada nilai hilang, akan tetapi kolom `datetime`  memiliki tipe data yang salah sehingga harus diubah menjadi tipe data `datetime` lalu diubah menjadi index. tidak ada nilai hilang dan duplikasi pada dataset ini."
   ]
  },
  {
   "cell_type": "markdown",
   "metadata": {},
   "source": [
    "## Analisis"
   ]
  },
  {
   "cell_type": "markdown",
   "metadata": {},
   "source": [
    "pertama lakukan `resampling` data menjadi `1H`"
   ]
  },
  {
   "cell_type": "code",
   "execution_count": 8,
   "metadata": {},
   "outputs": [],
   "source": [
    "# melakukan resampling data agar menjadi tiap jam\n",
    "df = df.resample('1H').sum()"
   ]
  },
  {
   "cell_type": "code",
   "execution_count": 9,
   "metadata": {},
   "outputs": [
    {
     "data": {
      "image/png": "[encoded data removed]",
      "text/plain": [
       "<Figure size 1000x800 with 3 Axes>"
      ]
     },
     "metadata": {},
     "output_type": "display_data"
    }
   ],
   "source": [
    "# membuat dekomposisi time series\n",
    "decomposed = seasonal_decompose(df['num_orders'])\n",
    "\n",
    "# visualisasi garis trend pada time series\n",
    "plt.figure(figsize=(10,8))\n",
    "plt.subplot(311)\n",
    "plt.title('Decomposed of Time Series Hourly')\n",
    "decomposed.trend.plot(ax=plt.gca())\n",
    "\n",
    "# visualisasi seasonal pada time series\n",
    "plt.subplot(312)\n",
    "decomposed.seasonal.plot(ax=plt.gca())\n",
    "\n",
    "# visualisasi residu pada time series\n",
    "plt.subplot(313)\n",
    "decomposed.resid.plot(ax=plt.gca())\n",
    "plt.xlabel('Month')\n",
    "plt.show()"
   ]
  },
  {
   "cell_type": "markdown",
   "metadata": {},
   "source": [
    "Bisa kita lihat untuk data trend memiliki kecenderungan meningkat sepanjang bulan dari bulan maret hingga agustus. Namun untuk data seasonal tidak begitu jelas, mari kita filter dataset untuk lebih mudah memahami seasonal. Kita ambil sampel data dari tanggal 1 mei 2018 hingga 15 mei 2018."
   ]
  },
  {
   "cell_type": "code",
   "execution_count": 10,
   "metadata": {},
   "outputs": [
    {
     "data": {
      "image/png": "[encoded data removed]",
      "text/plain": [
       "<Figure size 1000x800 with 3 Axes>"
      ]
     },
     "metadata": {},
     "output_type": "display_data"
    }
   ],
   "source": [
    "# memfilter decomposed time series dari tanggal 1 mei 2018 hingga 15 mei 2018\n",
    "plt.figure(figsize=(10,8))\n",
    "plt.subplot(311)\n",
    "plt.title('Decomposed of Time Series Hourly - Filtering')\n",
    "decomposed.trend['2018-05-01':'2018-05-15'].plot(ax=plt.gca())\n",
    "plt.subplot(312)\n",
    "decomposed.seasonal['2018-05-01':'2018-05-15'].plot(ax=plt.gca())\n",
    "plt.subplot(313)\n",
    "decomposed.resid['2018-05-01':'2018-05-15'].plot(ax=plt.gca())\n",
    "plt.xlabel('Day')\n",
    "plt.show()"
   ]
  },
  {
   "cell_type": "markdown",
   "metadata": {},
   "source": [
    "Kebalikanya, kita bisa melihat data seasonal lebih jelas, namun untuk data trend tidak begitu jelas. Nampaknya kita menemukan polanya menunjukan pola seasonal harian. Mari kita perjelas lagi dengan mem-filter dataset agar menjadi harian agar bisa terlihat perubahan perjamnya, kita ambil tanggal 1 Mei 2018."
   ]
  },
  {
   "cell_type": "code",
   "execution_count": 11,
   "metadata": {},
   "outputs": [
    {
     "data": {
      "image/png": "[encoded data removed]",
      "text/plain": [
       "<Figure size 640x480 with 1 Axes>"
      ]
     },
     "metadata": {},
     "output_type": "display_data"
    }
   ],
   "source": [
    "# memfilter seasonal pada tanggal 1 dari jam 00.00 hingga 24.00\n",
    "fil_seasonal = decomposed.seasonal['2018-05-01':'2018-05-15']\n",
    "fil_seasonal.head(25).plot()\n",
    "plt.fill_between(fil_seasonal.index, fil_seasonal.values, color='skyblue', alpha=0.7)\n",
    "plt.title('01 May 2018 Seasonality')\n",
    "plt.xlabel('Hour')\n",
    "plt.show()"
   ]
  },
  {
   "cell_type": "markdown",
   "metadata": {},
   "source": [
    "Terlihat bahwa jam-jam sibuk terjadi pada jam 00.00 atau 24.00 dimana puncak order tertinggi dan jam longgar pada jam 06.00 dimana puncak orderan terendah. "
   ]
  },
  {
   "cell_type": "code",
   "execution_count": 12,
   "metadata": {},
   "outputs": [
    {
     "data": {
      "text/plain": [
       "<AxesSubplot:xlabel='datetime'>"
      ]
     },
     "execution_count": 12,
     "metadata": {},
     "output_type": "execute_result"
    },
    {
     "data": {
      "image/png": "[encoded data removed]",
      "text/plain": [
       "<Figure size 640x480 with 1 Axes>"
      ]
     },
     "metadata": {},
     "output_type": "display_data"
    },
    {
     "data": {
      "image/png": "[encoded data removed]",
      "text/plain": [
       "<Figure size 640x480 with 1 Axes>"
      ]
     },
     "metadata": {},
     "output_type": "display_data"
    },
    {
     "data": {
      "image/png": "[encoded data removed]",
      "text/plain": [
       "<Figure size 640x480 with 1 Axes>"
      ]
     },
     "metadata": {},
     "output_type": "display_data"
    }
   ],
   "source": [
    "# Hasil grafik data resample 1H\n",
    "df.plot()\n",
    "\n",
    "# Grafik untuk data resample 1 day\n",
    "df.resample('1D').mean().plot()\n",
    "\n",
    "# Grafik untuk data resample 1 month\n",
    "df.resample('1M').mean().plot()"
   ]
  },
  {
   "cell_type": "markdown",
   "metadata": {},
   "source": [
    "untuk mempermudah kita akan membandingkan jumlah order per tanggal dan hari"
   ]
  },
  {
   "cell_type": "code",
   "execution_count": 13,
   "metadata": {},
   "outputs": [
    {
     "name": "stdout",
     "output_type": "stream",
     "text": [
      "                     num_orders  day  dayofweek\n",
      "datetime                                       \n",
      "2018-03-01 00:00:00   20.666667    1          3\n",
      "2018-03-01 01:00:00   14.166667    1          3\n",
      "2018-03-01 02:00:00   11.833333    1          3\n",
      "2018-03-01 03:00:00   11.000000    1          3\n",
      "2018-03-01 04:00:00    7.166667    1          3\n"
     ]
    },
    {
     "data": {
      "image/png": "[encoded data removed]",
      "text/plain": [
       "<Figure size 800x400 with 1 Axes>"
      ]
     },
     "metadata": {},
     "output_type": "display_data"
    },
    {
     "name": "stdout",
     "output_type": "stream",
     "text": [
      "day\n",
      "1     12.057870\n",
      "2     12.792824\n",
      "3     12.181713\n",
      "4     12.079861\n",
      "5     11.494213\n",
      "6     13.015046\n",
      "7     12.637731\n",
      "8     12.942130\n",
      "9     12.923611\n",
      "10    13.202546\n",
      "11    13.664352\n",
      "12    13.718750\n",
      "13    14.960648\n",
      "14    14.201389\n",
      "15    13.599537\n",
      "16    14.482639\n",
      "17    13.924769\n",
      "18    14.568287\n",
      "19    13.607639\n",
      "20    15.145833\n",
      "21    14.096065\n",
      "22    14.215278\n",
      "23    15.572917\n",
      "24    15.229167\n",
      "25    15.401620\n",
      "26    14.938657\n",
      "27    16.086806\n",
      "28    15.606481\n",
      "29    15.446759\n",
      "30    16.255787\n",
      "31    17.164931\n",
      "Name: num_orders, dtype: float64\n"
     ]
    },
    {
     "data": {
      "image/png": "[encoded data removed]",
      "text/plain": [
       "<Figure size 800x400 with 1 Axes>"
      ]
     },
     "metadata": {},
     "output_type": "display_data"
    },
    {
     "name": "stdout",
     "output_type": "stream",
     "text": [
      "DayName\n",
      "Monday       12.835203\n",
      "Tuesday      13.959135\n",
      "Wednesday    14.276749\n",
      "Thursday     15.190072\n",
      "Friday       13.974626\n",
      "Saturday     13.165331\n",
      "Sunday       15.041132\n",
      "Name: num_orders, dtype: float64\n"
     ]
    }
   ],
   "source": [
    "# Duplikasi dataset sementara\n",
    "temp = df.copy()\n",
    "temp['day'] = temp.index.day                # Menambahkan kolom day\n",
    "temp['dayofweek'] = temp.index.dayofweek    # Menambahkan kolom dayofweek\n",
    "\n",
    "# Memastikan ada data yang tepat\n",
    "print(temp.head())\n",
    "\n",
    "# Melakukan plot grafik jumlah order berdasarkan tanggal\n",
    "day = temp.groupby('day')['num_orders'].mean()\n",
    "plt.figure(figsize=(8,4))\n",
    "day.plot(kind='line')\n",
    "plt.fill_between(day.index, day.values, color='skyblue', alpha=0.7)\n",
    "plt.xticks(rotation=0)\n",
    "plt.title('Order Average based on Day')\n",
    "# Mengubah atau menghilangkan ylim sementara\n",
    "plt.ylim(10,18)\n",
    "plt.xlabel('Day')\n",
    "plt.ylabel('Average Number of Orders')\n",
    "plt.show()\n",
    "\n",
    "# Memastikan ada data yang tepat\n",
    "print(day)\n",
    "\n",
    "# Melakukan plot grafik jumlah order berdasarkan dayofweek\n",
    "day_list = {\n",
    "    0: 'Sunday',\n",
    "    1: 'Monday',\n",
    "    2: 'Tuesday',\n",
    "    3: 'Wednesday',\n",
    "    4: 'Thursday',\n",
    "    5: 'Friday',\n",
    "    6: 'Saturday'\n",
    "}\n",
    "temp['DayName'] = temp['dayofweek'].map(day_list)\n",
    "day_order = ['Monday', 'Tuesday', 'Wednesday', 'Thursday', 'Friday', 'Saturday', 'Sunday']\n",
    "day_of_week = temp.groupby('DayName')['num_orders'].mean()\n",
    "day_of_week = day_of_week.reindex(day_order)\n",
    "plt.figure(figsize=(8,4))\n",
    "day_of_week.plot(kind='line')\n",
    "plt.fill_between(day_of_week.index, day_of_week.values, color='skyblue', alpha=0.7)\n",
    "plt.xticks(rotation=0)\n",
    "plt.title('Order Average based on Day of the Week')\n",
    "plt.xlabel('Day of the Week')\n",
    "plt.ylabel('Average Number of Orders')\n",
    "plt.ylim(10,16)\n",
    "# Mengubah atau menghilangkan ylim sementara\n",
    "plt.show()\n",
    "\n",
    "# Memastikan ada data yang tepat\n",
    "print(day_of_week)\n"
   ]
  },
  {
   "cell_type": "markdown",
   "metadata": {},
   "source": [
    "terlihat bahwa semakin akhir bulannya semakin banyak mendapatkan order, sementara di awal bulan lebih rendah. untuk hari dengan jumlah order tertinggi adalah hari `Kamis` dan `Minggu`"
   ]
  },
  {
   "cell_type": "markdown",
   "metadata": {},
   "source": [
    "**Kesimpulan:** terlihat bahwa semakin menuju bulan agustus terlihat bahwa semakin banyak orderan yang di dapatkan, untuk tanggal pada akhir bulan orderan juga mengalami peningkatan, untuk hari lebih banyak orderan pada hari `Kamis` dan `Minggu`. untuk jam terlihat pengingkatan(1 mei 2018) pada jam 21.00-02.00, dengan orderan terendah pada jam 06.00"
   ]
  },
  {
   "cell_type": "markdown",
   "metadata": {},
   "source": [
    "## Pelatihan"
   ]
  },
  {
   "cell_type": "code",
   "execution_count": 14,
   "metadata": {},
   "outputs": [
    {
     "data": {
      "text/plain": [
       "(Timestamp('2018-08-13 14:00:00', freq='H'),\n",
       " Timestamp('2018-08-31 23:00:00', freq='H'))"
      ]
     },
     "execution_count": 14,
     "metadata": {},
     "output_type": "execute_result"
    }
   ],
   "source": [
    "df = df.resample('1H').mean()\n",
    "\n",
    "train, test = train_test_split(df, shuffle=False, test_size=0.1)\n",
    "\n",
    "train = train.dropna()\n",
    "\n",
    "train.index.min(), train.index.max()\n",
    "test.index.min(), test.index.max()"
   ]
  },
  {
   "cell_type": "code",
   "execution_count": 15,
   "metadata": {},
   "outputs": [
    {
     "name": "stdout",
     "output_type": "stream",
     "text": [
      "harian: 22.5\n",
      "MAE: 11.798642533936652\n"
     ]
    }
   ],
   "source": [
    "# Evaluasi model dengan dengan menggunakan nilai konstanta\n",
    "print('harian:', test['num_orders'].median())\n",
    "pred_median = np.ones(test.shape) * train['num_orders'].median()\n",
    "print('MAE:', mean_absolute_error(test, pred_median))"
   ]
  },
  {
   "cell_type": "code",
   "execution_count": 16,
   "metadata": {},
   "outputs": [
    {
     "name": "stdout",
     "output_type": "stream",
     "text": [
      "MAE: 7.495475113122172\n"
     ]
    }
   ],
   "source": [
    "# Evaluasi model dengan dengan menggunakan nilai sebelumnya dalam deret\n",
    "pred_previous = test.shift()\n",
    "pred_previous.iloc[0] = train.iloc[-1]\n",
    "print('MAE:', mean_absolute_error(test, pred_previous))"
   ]
  },
  {
   "cell_type": "markdown",
   "metadata": {},
   "source": [
    "pertama mari kita buat fungsi untuk fitur:"
   ]
  },
  {
   "cell_type": "code",
   "execution_count": 17,
   "metadata": {},
   "outputs": [],
   "source": [
    "# membuat fitur untuk dataset\n",
    "def make_features(data):\n",
    "    # menduplikasi dataset\n",
    "    new_df = data.copy()\n",
    "\n",
    "    # menambahkan kolom jam, tanggal dan bulan sebagai fitur\n",
    "    new_df['hour'] = new_df.index.hour\n",
    "    new_df['day'] = new_df.index.day\n",
    "    new_df['dayofweek'] = new_df.index.dayofweek\n",
    "    new_df['month'] = new_df.index.month\n",
    "\n",
    "    # membuat kolom peak hour\n",
    "    # jika puncak order tertinggi pada jam 00.00 maka 'high peak'\n",
    "    # jika puncak order terendah pada jam 06.00 maka 'low peak' \n",
    "    # selainya 'normal'\n",
    "    new_df['peak_hour'] = new_df['hour'].apply(lambda x: 'high peak' if x == 0 else 'low peak' if x == 6 else 'normal')\n",
    "\n",
    "    # membuat kolom peak day of week\n",
    "    # jika orderan tinggi pada hari kamis [4] atau minggu [0] maka 'high peak'  \n",
    "    # jika orderan rendah pada hari senin [1] atau sabtu  [6] maka 'low peak'\n",
    "    # selainya benilai 1\n",
    "    new_df['peak_dow'] = new_df['dayofweek'].apply(lambda x: 'high peak' if (x == 4) | (x == 0) else 'low peak' if (x == 1) | (x == 6) else 'normal')\n",
    "\n",
    "    # mendefinisikan akhir bulan\n",
    "    # jika akhir bulan sekitar tanggal 25 keatas maka `end month`\n",
    "    # selainya `regular`\n",
    "    new_df['peak_day'] = new_df['day'].apply(lambda x: 'end month' if x >= 25 else 'regular')\n",
    "\n",
    "    # mengembalikan dataset terbaru\n",
    "    return new_df"
   ]
  },
  {
   "cell_type": "code",
   "execution_count": 18,
   "metadata": {},
   "outputs": [
    {
     "data": {
      "text/html": [
       "<div>\n",
       "<style scoped>\n",
       "    .dataframe tbody tr th:only-of-type {\n",
       "        vertical-align: middle;\n",
       "    }\n",
       "\n",
       "    .dataframe tbody tr th {\n",
       "        vertical-align: top;\n",
       "    }\n",
       "\n",
       "    .dataframe thead th {\n",
       "        text-align: right;\n",
       "    }\n",
       "</style>\n",
       "<table border=\"1\" class=\"dataframe\">\n",
       "  <thead>\n",
       "    <tr style=\"text-align: right;\">\n",
       "      <th></th>\n",
       "      <th>num_orders</th>\n",
       "      <th>hour</th>\n",
       "      <th>day</th>\n",
       "      <th>dayofweek</th>\n",
       "      <th>month</th>\n",
       "      <th>peak_hour</th>\n",
       "      <th>peak_dow</th>\n",
       "      <th>peak_day</th>\n",
       "    </tr>\n",
       "    <tr>\n",
       "      <th>datetime</th>\n",
       "      <th></th>\n",
       "      <th></th>\n",
       "      <th></th>\n",
       "      <th></th>\n",
       "      <th></th>\n",
       "      <th></th>\n",
       "      <th></th>\n",
       "      <th></th>\n",
       "    </tr>\n",
       "  </thead>\n",
       "  <tbody>\n",
       "    <tr>\n",
       "      <th>2018-06-01 00:00:00</th>\n",
       "      <td>19.666667</td>\n",
       "      <td>0</td>\n",
       "      <td>1</td>\n",
       "      <td>4</td>\n",
       "      <td>6</td>\n",
       "      <td>high peak</td>\n",
       "      <td>high peak</td>\n",
       "      <td>regular</td>\n",
       "    </tr>\n",
       "    <tr>\n",
       "      <th>2018-05-29 18:00:00</th>\n",
       "      <td>11.166667</td>\n",
       "      <td>18</td>\n",
       "      <td>29</td>\n",
       "      <td>1</td>\n",
       "      <td>5</td>\n",
       "      <td>normal</td>\n",
       "      <td>low peak</td>\n",
       "      <td>end month</td>\n",
       "    </tr>\n",
       "    <tr>\n",
       "      <th>2018-04-11 12:00:00</th>\n",
       "      <td>8.833333</td>\n",
       "      <td>12</td>\n",
       "      <td>11</td>\n",
       "      <td>2</td>\n",
       "      <td>4</td>\n",
       "      <td>normal</td>\n",
       "      <td>normal</td>\n",
       "      <td>regular</td>\n",
       "    </tr>\n",
       "    <tr>\n",
       "      <th>2018-07-17 20:00:00</th>\n",
       "      <td>14.833333</td>\n",
       "      <td>20</td>\n",
       "      <td>17</td>\n",
       "      <td>1</td>\n",
       "      <td>7</td>\n",
       "      <td>normal</td>\n",
       "      <td>low peak</td>\n",
       "      <td>regular</td>\n",
       "    </tr>\n",
       "    <tr>\n",
       "      <th>2018-04-12 15:00:00</th>\n",
       "      <td>12.000000</td>\n",
       "      <td>15</td>\n",
       "      <td>12</td>\n",
       "      <td>3</td>\n",
       "      <td>4</td>\n",
       "      <td>normal</td>\n",
       "      <td>normal</td>\n",
       "      <td>regular</td>\n",
       "    </tr>\n",
       "  </tbody>\n",
       "</table>\n",
       "</div>"
      ],
      "text/plain": [
       "                     num_orders  hour  day  dayofweek  month  peak_hour  \\\n",
       "datetime                                                                  \n",
       "2018-06-01 00:00:00   19.666667     0    1          4      6  high peak   \n",
       "2018-05-29 18:00:00   11.166667    18   29          1      5     normal   \n",
       "2018-04-11 12:00:00    8.833333    12   11          2      4     normal   \n",
       "2018-07-17 20:00:00   14.833333    20   17          1      7     normal   \n",
       "2018-04-12 15:00:00   12.000000    15   12          3      4     normal   \n",
       "\n",
       "                      peak_dow   peak_day  \n",
       "datetime                                   \n",
       "2018-06-01 00:00:00  high peak    regular  \n",
       "2018-05-29 18:00:00   low peak  end month  \n",
       "2018-04-11 12:00:00     normal    regular  \n",
       "2018-07-17 20:00:00   low peak    regular  \n",
       "2018-04-12 15:00:00     normal    regular  "
      ]
     },
     "execution_count": 18,
     "metadata": {},
     "output_type": "execute_result"
    }
   ],
   "source": [
    "# membuat fitur untuk dataset\n",
    "new_df = make_features(df)\n",
    "\n",
    "# menampilkan sampel dataset baru\n",
    "new_df.sample(5)"
   ]
  },
  {
   "cell_type": "markdown",
   "metadata": {},
   "source": [
    "fitur sudah dibuatkan fungsi, sekarang mari kita membagi dataset"
   ]
  },
  {
   "cell_type": "code",
   "execution_count": 19,
   "metadata": {},
   "outputs": [],
   "source": [
    "train, test = train_test_split(new_df, shuffle=False, test_size=0.1)\n",
    "\n",
    "# membagi dataset untuk fitur dan target\n",
    "x = new_df.drop('num_orders',axis=1)\n",
    "y = new_df['num_orders']\n",
    "\n",
    "# mengubah kolom kategorik menjadi numerik\n",
    "x_dum = pd.get_dummies(x,drop_first=True)\n",
    "\n",
    "# membagi dataset 10% untuk test\n",
    "x_train, x_test, y_train, y_test = train_test_split(x_dum, y, test_size=0.1, shuffle=False)"
   ]
  },
  {
   "cell_type": "markdown",
   "metadata": {},
   "source": [
    "membuat fungsi untuk diaplikasikan pada model:"
   ]
  },
  {
   "cell_type": "code",
   "execution_count": 20,
   "metadata": {},
   "outputs": [],
   "source": [
    "def train_and_evaluate_model(model, x_train, y_train, x_test, y_test, model_name):\n",
    "    # Train the model\n",
    "    time_start = time.time()\n",
    "    model.fit(x_train, y_train)\n",
    "    time_end = time.time()\n",
    "    training_time = np.round(time_end - time_start, 3)\n",
    "    \n",
    "    # Make predictions\n",
    "    predictions = model.predict(x_test)\n",
    "\n",
    "    # Calculate RMSE\n",
    "    rmse = np.sqrt(mean_squared_error(y_test, predictions))\n",
    "\n",
    "    return training_time, rmse"
   ]
  },
  {
   "cell_type": "markdown",
   "metadata": {},
   "source": [
    "### Linear Regression"
   ]
  },
  {
   "cell_type": "code",
   "execution_count": 21,
   "metadata": {
    "scrolled": true
   },
   "outputs": [
    {
     "name": "stdout",
     "output_type": "stream",
     "text": [
      "Linear Regression - Waktu Pelatihan: 0.006 detik\n",
      "Linear Regression - RMSE: 9.843455154406492\n"
     ]
    }
   ],
   "source": [
    "#Model linear regression\n",
    "linreg = LinearRegression()\n",
    "\n",
    "# Memanggil fungsi dan menangkap hasilnya\n",
    "linreg_time, linreg_rmse = train_and_evaluate_model(linreg, x_train, y_train, x_test, y_test, model_name='Linear Regression')\n",
    "\n",
    "# Menampilkan hasil\n",
    "print(f'Linear Regression - Waktu Pelatihan: {linreg_time} detik')\n",
    "print(f'Linear Regression - RMSE: {linreg_rmse}')"
   ]
  },
  {
   "cell_type": "markdown",
   "metadata": {},
   "source": [
    "terlihat bahwa waktu pelatihan yang dibutuhkan sangat singkat `0.039` detik dengan nilai RSME yang cukup baik `9.843`"
   ]
  },
  {
   "cell_type": "markdown",
   "metadata": {},
   "source": [
    "### Random Forest"
   ]
  },
  {
   "cell_type": "code",
   "execution_count": 22,
   "metadata": {},
   "outputs": [
    {
     "name": "stdout",
     "output_type": "stream",
     "text": [
      "Random Forest - Waktu Pelatihan: 0.176 detik\n",
      "Random Forest - RMSE: 7.850284437573134\n"
     ]
    }
   ],
   "source": [
    "#model random forest\n",
    "rf = RandomForestRegressor(n_estimators=20, max_depth=10, min_samples_split=10, random_state=42)\n",
    "\n",
    "rf_time, rf_rmse = train_and_evaluate_model(rf, x_train, y_train, x_test, y_test, model_name='Random Forest')\n",
    "\n",
    "print(f'Random Forest - Waktu Pelatihan: {rf_time} detik')\n",
    "print(f'Random Forest - RMSE: {rf_rmse}')"
   ]
  },
  {
   "cell_type": "markdown",
   "metadata": {},
   "source": [
    "terlihat bahwa waktu pelatihan yang dibutuhkan cukup singkat `0.201` detik dengan nilai RSME yang cukup baik `7.850`"
   ]
  },
  {
   "cell_type": "markdown",
   "metadata": {},
   "source": [
    "### Decision Tree "
   ]
  },
  {
   "cell_type": "code",
   "execution_count": 23,
   "metadata": {},
   "outputs": [
    {
     "name": "stdout",
     "output_type": "stream",
     "text": [
      "Decision Tree - Waktu Pelatihan: 0.018 detik\n",
      "Decision Tree - RMSE: 8.588346061983101\n"
     ]
    }
   ],
   "source": [
    "dtr = DecisionTreeRegressor(max_depth=10, min_samples_split=10, random_state=42)\n",
    "\n",
    "dtr_time, dtr_rmse = train_and_evaluate_model(dtr, x_train, y_train, x_test, y_test, model_name='Decision Tree')\n",
    "\n",
    "print(f'Decision Tree - Waktu Pelatihan: {dtr_time} detik')\n",
    "print(f'Decision Tree - RMSE: {dtr_rmse}')"
   ]
  },
  {
   "cell_type": "markdown",
   "metadata": {},
   "source": [
    "terlihat bahwa waktu pelatihan yang dibutuhkan sangat singkat `0.011` detik dengan nilai RSME yang cukup baik `8.588`"
   ]
  },
  {
   "cell_type": "markdown",
   "metadata": {},
   "source": [
    "### LightGBM"
   ]
  },
  {
   "cell_type": "code",
   "execution_count": 24,
   "metadata": {},
   "outputs": [
    {
     "name": "stdout",
     "output_type": "stream",
     "text": [
      "LGBMRegressor - Waktu Pelatihan: 0.021 detik\n",
      "LGBMRegressor - RMSE: 8.80525424046884\n"
     ]
    }
   ],
   "source": [
    "lgbr = lgb.LGBMRegressor(n_estimators=20, max_depth=10, learning_rate=0.1, random_state=42)\n",
    "\n",
    "lgbr_time, lgbr_rmse = train_and_evaluate_model(lgbr, x_train, y_train, x_test, y_test, model_name='LGBMRegressor')\n",
    "\n",
    "print(f'LGBMRegressor - Waktu Pelatihan: {lgbr_time} detik')\n",
    "print(f'LGBMRegressor - RMSE: {lgbr_rmse}')"
   ]
  },
  {
   "cell_type": "markdown",
   "metadata": {},
   "source": [
    "terlihat bahwa waktu pelatihan yang dibutuhkan cukup singkat `0.165` detik dengan nilai RSME yang cukup baik `8.805`"
   ]
  },
  {
   "cell_type": "markdown",
   "metadata": {},
   "source": [
    "### XGBoost"
   ]
  },
  {
   "cell_type": "code",
   "execution_count": 25,
   "metadata": {
    "scrolled": true
   },
   "outputs": [
    {
     "name": "stdout",
     "output_type": "stream",
     "text": [
      "XGBRegressor - Waktu Pelatihan: 0.511 detik\n",
      "XGBRegressor - RMSE: 9.23086517232712\n"
     ]
    }
   ],
   "source": [
    "xgbr = XGBRegressor(n_estimators=20, max_depth=10, learning_rate=0.1, random_state=42)\n",
    "\n",
    "xgbr_time, xgbr_rmse = train_and_evaluate_model(xgbr, x_train, y_train, x_test, y_test, model_name='XGBRegressor')\n",
    "\n",
    "print(f'XGBRegressor - Waktu Pelatihan: {xgbr_time} detik')\n",
    "print(f'XGBRegressor - RMSE: {xgbr_rmse}')"
   ]
  },
  {
   "cell_type": "markdown",
   "metadata": {},
   "source": [
    "terlihat bahwa waktu pelatihan yang dibutuhkan cukup singkat `0.433` detik dengan nilai RSME yang cukup baik `9.230`"
   ]
  },
  {
   "cell_type": "markdown",
   "metadata": {},
   "source": [
    "### Komparasi model"
   ]
  },
  {
   "cell_type": "code",
   "execution_count": 26,
   "metadata": {},
   "outputs": [
    {
     "data": {
      "text/html": [
       "<div>\n",
       "<style scoped>\n",
       "    .dataframe tbody tr th:only-of-type {\n",
       "        vertical-align: middle;\n",
       "    }\n",
       "\n",
       "    .dataframe tbody tr th {\n",
       "        vertical-align: top;\n",
       "    }\n",
       "\n",
       "    .dataframe thead th {\n",
       "        text-align: right;\n",
       "    }\n",
       "</style>\n",
       "<table border=\"1\" class=\"dataframe\">\n",
       "  <thead>\n",
       "    <tr style=\"text-align: right;\">\n",
       "      <th></th>\n",
       "      <th>Model</th>\n",
       "      <th>Training Time (s)</th>\n",
       "      <th>RMSE</th>\n",
       "    </tr>\n",
       "  </thead>\n",
       "  <tbody>\n",
       "    <tr>\n",
       "      <th>0</th>\n",
       "      <td>Linear Regression</td>\n",
       "      <td>0.006</td>\n",
       "      <td>9.843455</td>\n",
       "    </tr>\n",
       "    <tr>\n",
       "      <th>1</th>\n",
       "      <td>Random Forest</td>\n",
       "      <td>0.176</td>\n",
       "      <td>7.850284</td>\n",
       "    </tr>\n",
       "    <tr>\n",
       "      <th>2</th>\n",
       "      <td>Decision Tree</td>\n",
       "      <td>0.018</td>\n",
       "      <td>8.588346</td>\n",
       "    </tr>\n",
       "    <tr>\n",
       "      <th>3</th>\n",
       "      <td>LightGBM</td>\n",
       "      <td>0.021</td>\n",
       "      <td>8.805254</td>\n",
       "    </tr>\n",
       "    <tr>\n",
       "      <th>4</th>\n",
       "      <td>XGBoost</td>\n",
       "      <td>0.511</td>\n",
       "      <td>9.230865</td>\n",
       "    </tr>\n",
       "  </tbody>\n",
       "</table>\n",
       "</div>"
      ],
      "text/plain": [
       "               Model  Training Time (s)      RMSE\n",
       "0  Linear Regression              0.006  9.843455\n",
       "1      Random Forest              0.176  7.850284\n",
       "2      Decision Tree              0.018  8.588346\n",
       "3           LightGBM              0.021  8.805254\n",
       "4            XGBoost              0.511  9.230865"
      ]
     },
     "execution_count": 26,
     "metadata": {},
     "output_type": "execute_result"
    }
   ],
   "source": [
    "# Menggabungkan hasil model\n",
    "results = [\n",
    "    {'Model': 'Linear Regression', 'Training Time (s)': linreg_time, 'RMSE': linreg_rmse},\n",
    "    {'Model': 'Random Forest', 'Training Time (s)': rf_time, 'RMSE': rf_rmse},\n",
    "    {'Model': 'Decision Tree', 'Training Time (s)': dtr_time, 'RMSE': dtr_rmse},\n",
    "    {'Model': 'LightGBM', 'Training Time (s)': lgbr_time, 'RMSE': lgbr_rmse},\n",
    "    {'Model': 'XGBoost', 'Training Time (s)': xgbr_time, 'RMSE': xgbr_rmse},\n",
    "]\n",
    "\n",
    "# Mengubah hasil menjadi DataFrame\n",
    "results_df = pd.DataFrame(results)\n",
    "\n",
    "# Menampilkan tabel hasil\n",
    "results_df"
   ]
  },
  {
   "cell_type": "markdown",
   "metadata": {},
   "source": [
    "**Kesimpulan:** waktu tersingkat pada model-model tersebut adalah pada model `decision tree` sedangkan nilai rsme terendah adalah pada model `random forest`. `linear regression` memiliki nilai rsme terbesar sehingga tidak direkomendasikan menggunakan model ini, sedangkan `xgboost` memiliki waktu prediksi paling lama diantara model lain meskipun terhitung cukup cepat. model `decision tree`, `random forest` dan `lightgbm` memiliki performa yang cukup baik untuk dipertimbangkan.\n",
    "\n",
    "model terbaik yang bisa disarankan untuk digunakan pada tahapan ini adalah `decision tree` dengan waktu yang tidak terlalu lama dan rsme yang cukup baik"
   ]
  },
  {
   "cell_type": "markdown",
   "metadata": {},
   "source": [
    "## Pengujian"
   ]
  },
  {
   "cell_type": "markdown",
   "metadata": {},
   "source": [
    "### Linear Regression"
   ]
  },
  {
   "cell_type": "code",
   "execution_count": 27,
   "metadata": {},
   "outputs": [
    {
     "data": {
      "text/plain": [
       "{'copy_X': True,\n",
       " 'fit_intercept': True,\n",
       " 'n_jobs': None,\n",
       " 'normalize': False,\n",
       " 'positive': False}"
      ]
     },
     "execution_count": 27,
     "metadata": {},
     "output_type": "execute_result"
    }
   ],
   "source": [
    "# membuat skor RMSE\n",
    "def RMSE(true,pred):\n",
    "    mse = mean_squared_error(true,pred)\n",
    "    return np.sqrt(mse)\n",
    "\n",
    "RMSE_score = make_scorer(RMSE)\n",
    "\n",
    "# melihat parameter model regresi linier\n",
    "linreg.get_params()"
   ]
  },
  {
   "cell_type": "markdown",
   "metadata": {},
   "source": [
    "terlihat ada beberapa parameter, kita akan memilih 2 saja untuk pengujian:"
   ]
  },
  {
   "cell_type": "code",
   "execution_count": 28,
   "metadata": {},
   "outputs": [
    {
     "name": "stdout",
     "output_type": "stream",
     "text": [
      "Best Params {'fit_intercept': True, 'positive': True}\n",
      "RMSE Best-Linreg - Train: 5.79\n",
      "RMSE Best-Linreg - Test: 10.01\n"
     ]
    }
   ],
   "source": [
    "# mendefinisikan jumlah cross validation\n",
    "cv_tmsrs = TimeSeriesSplit(n_splits=5)\n",
    "\n",
    "# mendefinisikan parameter regresi linier\n",
    "linreg_params = {\n",
    "    'fit_intercept':[True,False],\n",
    "    'positive':[True,False]\n",
    "}\n",
    "\n",
    "# membuat gridsearchCV untuk regresi linier menggunakan data full\n",
    "time_start = time.time()\n",
    "grid_linreg = GridSearchCV(linreg,param_grid=linreg_params, cv=cv_tmsrs, scoring=RMSE_score)\n",
    "grid_linreg.fit(x_dum,y)\n",
    "time_end = time.time()\n",
    "lr_grid_time = np.round(time_end - time_start,3)\n",
    "\n",
    "# memprediksi data train dan test menghitung skor RMSE\n",
    "best_model_lr = grid_linreg.best_estimator_\n",
    "linreg_pred_train = best_model_lr.predict(x_train)\n",
    "linreg_RMSE_train = np.round(mean_squared_error(y_train,linreg_pred_train,squared=False),2)\n",
    "linreg_pred_test = best_model_lr.predict(x_test)\n",
    "linreg_RMSE_test = np.round(mean_squared_error(y_test,linreg_pred_test,squared=False),2)\n",
    "\n",
    "print('Best Params', grid_linreg.best_params_)\n",
    "print('RMSE Best-Linreg - Train:', linreg_RMSE_train)\n",
    "print('RMSE Best-Linreg - Test:', linreg_RMSE_test)"
   ]
  },
  {
   "cell_type": "markdown",
   "metadata": {},
   "source": [
    "nilai rsme pada train terlihat memiliki nilai `5.79` dan test `10.01` sepertinya ini masih cukup baik, mari kita bandingkan dengan model-model lainnya"
   ]
  },
  {
   "cell_type": "markdown",
   "metadata": {},
   "source": [
    "### Random Forest"
   ]
  },
  {
   "cell_type": "code",
   "execution_count": 29,
   "metadata": {},
   "outputs": [
    {
     "data": {
      "text/plain": [
       "{'bootstrap': True,\n",
       " 'ccp_alpha': 0.0,\n",
       " 'criterion': 'mse',\n",
       " 'max_depth': 10,\n",
       " 'max_features': 'auto',\n",
       " 'max_leaf_nodes': None,\n",
       " 'max_samples': None,\n",
       " 'min_impurity_decrease': 0.0,\n",
       " 'min_impurity_split': None,\n",
       " 'min_samples_leaf': 1,\n",
       " 'min_samples_split': 10,\n",
       " 'min_weight_fraction_leaf': 0.0,\n",
       " 'n_estimators': 20,\n",
       " 'n_jobs': None,\n",
       " 'oob_score': False,\n",
       " 'random_state': 42,\n",
       " 'verbose': 0,\n",
       " 'warm_start': False}"
      ]
     },
     "execution_count": 29,
     "metadata": {},
     "output_type": "execute_result"
    }
   ],
   "source": [
    "# melihat parameter model random forest\n",
    "rf.get_params()"
   ]
  },
  {
   "cell_type": "markdown",
   "metadata": {},
   "source": [
    "kita akan memasukkan beberapa parameter saja:"
   ]
  },
  {
   "cell_type": "code",
   "execution_count": 30,
   "metadata": {},
   "outputs": [
    {
     "name": "stdout",
     "output_type": "stream",
     "text": [
      "Best Params {'max_depth': 5, 'min_samples_split': 3, 'n_estimators': 250, 'random_state': 42}\n",
      "RMSE Best-RF - Train: 4.28\n",
      "RMSE Best-RF - Test: 6.45\n"
     ]
    }
   ],
   "source": [
    "# mendefinisikan parameter random forest\n",
    "rf_params = {\n",
    "    'n_estimators':[50,100,200,250],\n",
    "    'random_state':[42],\n",
    "    'max_depth':[5,10,15],\n",
    "    'min_samples_split':[3,5,10]\n",
    "}\n",
    "\n",
    "# membuat gridsearchCV untuk random forest menggunakan data full\n",
    "time_start = time.time()\n",
    "grid_rf = GridSearchCV(rf,param_grid=rf_params, cv=cv_tmsrs, scoring=RMSE_score)\n",
    "grid_rf.fit(x_dum,y)\n",
    "time_end = time.time()\n",
    "rf_grid_time = np.round(time_end - time_start,3)\n",
    "\n",
    "# memprediksi data train dan test menghitung skor RMSE\n",
    "best_model_rf = grid_rf.best_estimator_\n",
    "rf_pred_train = best_model_rf.predict(x_train)\n",
    "rf_RMSE_train = np.round(mean_squared_error(y_train,rf_pred_train,squared=False),2)\n",
    "rf_pred_test = best_model_rf.predict(x_test)\n",
    "rf_RMSE_test = np.round(mean_squared_error(y_test,rf_pred_test,squared=False),2)\n",
    "\n",
    "print('Best Params', grid_rf.best_params_)\n",
    "print('RMSE Best-RF - Train:', rf_RMSE_train)\n",
    "print('RMSE Best-RF - Test:', rf_RMSE_test)"
   ]
  },
  {
   "cell_type": "markdown",
   "metadata": {},
   "source": [
    "nilai rsme pada train terlihat memiliki nilai `4.28` dan test `6.45` ini lebih baik daripada model sebelumnya"
   ]
  },
  {
   "cell_type": "markdown",
   "metadata": {},
   "source": [
    "### Decision tree"
   ]
  },
  {
   "cell_type": "code",
   "execution_count": 31,
   "metadata": {},
   "outputs": [
    {
     "data": {
      "text/plain": [
       "{'ccp_alpha': 0.0,\n",
       " 'criterion': 'mse',\n",
       " 'max_depth': 10,\n",
       " 'max_features': None,\n",
       " 'max_leaf_nodes': None,\n",
       " 'min_impurity_decrease': 0.0,\n",
       " 'min_impurity_split': None,\n",
       " 'min_samples_leaf': 1,\n",
       " 'min_samples_split': 10,\n",
       " 'min_weight_fraction_leaf': 0.0,\n",
       " 'random_state': 42,\n",
       " 'splitter': 'best'}"
      ]
     },
     "execution_count": 31,
     "metadata": {},
     "output_type": "execute_result"
    }
   ],
   "source": [
    "# melihat parameter model decision tree\n",
    "dtr.get_params()"
   ]
  },
  {
   "cell_type": "markdown",
   "metadata": {},
   "source": [
    "kita akan mengambil beberapa parameters saja"
   ]
  },
  {
   "cell_type": "code",
   "execution_count": 32,
   "metadata": {},
   "outputs": [
    {
     "name": "stdout",
     "output_type": "stream",
     "text": [
      "Best Params {'max_depth': 5, 'min_samples_split': 3, 'random_state': 42}\n",
      "RMSE Best-DT- Train: 4.61\n",
      "RMSE Best-DT - Test: 6.67\n"
     ]
    }
   ],
   "source": [
    "# mendefinisikan parameter decision tree\n",
    "dtr_params = {\n",
    "    'random_state':[42],\n",
    "    'max_depth':[5,10,15],\n",
    "    'min_samples_split':[3,5,10]\n",
    "}\n",
    "\n",
    "# membuat gridsearchCV untuk random forest menggunakan data full\n",
    "time_start = time.time()\n",
    "grid_dtr = GridSearchCV(dtr,param_grid=dtr_params, cv=cv_tmsrs, scoring=RMSE_score)\n",
    "grid_dtr.fit(x_dum,y)\n",
    "time_end = time.time()\n",
    "dtr_grid_time = np.round(time_end - time_start,3)\n",
    "\n",
    "# memprediksi data train dan test menghitung skor RMSE\n",
    "best_model_dtr = grid_dtr.best_estimator_\n",
    "dtr_pred_train = best_model_dtr.predict(x_train)\n",
    "dtr_RMSE_train = np.round(mean_squared_error(y_train,dtr_pred_train,squared=False),2)\n",
    "dtr_pred_test = best_model_dtr.predict(x_test)\n",
    "dtr_RMSE_test = np.round(mean_squared_error(y_test,dtr_pred_test,squared=False),2)\n",
    "\n",
    "print('Best Params', grid_dtr.best_params_)\n",
    "print('RMSE Best-DT- Train:', dtr_RMSE_train)\n",
    "print('RMSE Best-DT - Test:', dtr_RMSE_test)"
   ]
  },
  {
   "cell_type": "markdown",
   "metadata": {},
   "source": [
    "nilai rsme pada train terlihat memiliki nilai `4.61` dan test `6.67` ini cukup baik"
   ]
  },
  {
   "cell_type": "markdown",
   "metadata": {},
   "source": [
    "### LightGBM"
   ]
  },
  {
   "cell_type": "code",
   "execution_count": 33,
   "metadata": {},
   "outputs": [
    {
     "data": {
      "text/plain": [
       "{'boosting_type': 'gbdt',\n",
       " 'class_weight': None,\n",
       " 'colsample_bytree': 1.0,\n",
       " 'importance_type': 'split',\n",
       " 'learning_rate': 0.1,\n",
       " 'max_depth': 10,\n",
       " 'min_child_samples': 20,\n",
       " 'min_child_weight': 0.001,\n",
       " 'min_split_gain': 0.0,\n",
       " 'n_estimators': 20,\n",
       " 'n_jobs': -1,\n",
       " 'num_leaves': 31,\n",
       " 'objective': None,\n",
       " 'random_state': 42,\n",
       " 'reg_alpha': 0.0,\n",
       " 'reg_lambda': 0.0,\n",
       " 'silent': 'warn',\n",
       " 'subsample': 1.0,\n",
       " 'subsample_for_bin': 200000,\n",
       " 'subsample_freq': 0}"
      ]
     },
     "execution_count": 33,
     "metadata": {},
     "output_type": "execute_result"
    }
   ],
   "source": [
    "# melihat parameter model ligthGBM\n",
    "lgbr.get_params()"
   ]
  },
  {
   "cell_type": "markdown",
   "metadata": {},
   "source": [
    "kita akan menggunakan beberapa parameter saja"
   ]
  },
  {
   "cell_type": "code",
   "execution_count": 34,
   "metadata": {},
   "outputs": [
    {
     "name": "stdout",
     "output_type": "stream",
     "text": [
      "RMSE LightGBM - Train: 2.88\n",
      "RMSE LightGBM - Test: 7.12\n"
     ]
    }
   ],
   "source": [
    "# mendefinisikan parameter lgbm\n",
    "param_lgb = {\n",
    "    'objective': 'regression',\n",
    "    'metric': 'rmse',\n",
    "    'boosting_type': 'gbdt',\n",
    "    'num_leaves': 31,\n",
    "    'verbose': -1\n",
    "}\n",
    "\n",
    "# Membuat dataset LightGBM\n",
    "train_data = lgb.Dataset(data=x_train, label=y_train)\n",
    "\n",
    "# Menggunakan KFold untuk cross-validation\n",
    "kf = KFold(n_splits=5, shuffle=True, random_state=42)\n",
    "cv_results = lgb.cv(\n",
    "    params=param_lgb,\n",
    "    train_set=train_data,\n",
    "    num_boost_round=1000,\n",
    "    early_stopping_rounds=10,\n",
    "    folds=kf,\n",
    "    metrics='rmse'\n",
    ")\n",
    "\n",
    "# Melatih model dengan jumlah iterasi optimal dari cross-validation\n",
    "\n",
    "lgbm_model = lgb.train(\n",
    "    params=param_lgb,\n",
    "    train_set=train_data,\n",
    "    num_boost_round=len(cv_results['rmse-mean'])\n",
    ")\n",
    "\n",
    "# memprediksi data train dan test\n",
    "lgb_pred_train = lgbm_model.predict(x_train)\n",
    "lgb_pred_test = lgbm_model.predict(x_test)\n",
    "\n",
    "# menghitung skor RMSE untuk model LightGBM akhir\n",
    "lgb_RMSE_opt_train = np.round(mean_squared_error(y_train, lgb_pred_train, squared=False), 2)\n",
    "lgb_RMSE_opt_test = np.round(mean_squared_error(y_test, lgb_pred_test, squared=False), 2)\n",
    "\n",
    "print('RMSE LightGBM - Train:', lgb_RMSE_opt_train)\n",
    "print('RMSE LightGBM - Test:', lgb_RMSE_opt_test)"
   ]
  },
  {
   "cell_type": "markdown",
   "metadata": {},
   "source": [
    "nilai rsme pada train terlihat memiliki nilai `2.88` dan test `7.12` ini cukup baik"
   ]
  },
  {
   "cell_type": "markdown",
   "metadata": {},
   "source": [
    "### XGBoost"
   ]
  },
  {
   "cell_type": "code",
   "execution_count": 35,
   "metadata": {},
   "outputs": [
    {
     "data": {
      "text/plain": [
       "{'objective': 'reg:squarederror',\n",
       " 'base_score': 0.5,\n",
       " 'booster': 'gbtree',\n",
       " 'colsample_bylevel': 1,\n",
       " 'colsample_bynode': 1,\n",
       " 'colsample_bytree': 1,\n",
       " 'enable_categorical': False,\n",
       " 'gamma': 0,\n",
       " 'gpu_id': -1,\n",
       " 'importance_type': None,\n",
       " 'interaction_constraints': '',\n",
       " 'learning_rate': 0.1,\n",
       " 'max_delta_step': 0,\n",
       " 'max_depth': 10,\n",
       " 'min_child_weight': 1,\n",
       " 'missing': nan,\n",
       " 'monotone_constraints': '()',\n",
       " 'n_estimators': 20,\n",
       " 'n_jobs': 4,\n",
       " 'num_parallel_tree': 1,\n",
       " 'predictor': 'auto',\n",
       " 'random_state': 42,\n",
       " 'reg_alpha': 0,\n",
       " 'reg_lambda': 1,\n",
       " 'scale_pos_weight': 1,\n",
       " 'subsample': 1,\n",
       " 'tree_method': 'exact',\n",
       " 'validate_parameters': 1,\n",
       " 'verbosity': None}"
      ]
     },
     "execution_count": 35,
     "metadata": {},
     "output_type": "execute_result"
    }
   ],
   "source": [
    "# melihat parameter model xgboost\n",
    "xgbr.get_params()"
   ]
  },
  {
   "cell_type": "markdown",
   "metadata": {},
   "source": [
    "kita hanya akan menggunakan beberapa parameter saja"
   ]
  },
  {
   "cell_type": "code",
   "execution_count": 37,
   "metadata": {},
   "outputs": [
    {
     "name": "stdout",
     "output_type": "stream",
     "text": [
      "Best Params: {'random_state': 42, 'n_estimators': 500, 'max_depth': 5, 'learning_rate': 0.01}\n",
      "RMSE Best-XGB - Train: 3.24\n",
      "RMSE Best-XGB - Test: 5.1\n",
      "Search Time: 128.605 seconds\n"
     ]
    }
   ],
   "source": [
    "# Mendefinisikan parameter XGBoost\n",
    "xgb_params = {\n",
    "    'n_estimators': [250, 500],\n",
    "    'max_depth': [5, 10],\n",
    "    'learning_rate': [0.01, 0.2],\n",
    "    'random_state': [42]\n",
    "}\n",
    "\n",
    "# Membuat RandomizedSearchCV untuk XGBoost menggunakan data full\n",
    "time_start = time.time()\n",
    "\n",
    "# Menggunakan RandomizedSearchCV alih-alih GridSearchCV\n",
    "random_search_xgb = RandomizedSearchCV(xgbr, param_distributions=xgb_params, n_iter=10, cv=3, scoring='neg_root_mean_squared_error', n_jobs=-1, random_state=42)\n",
    "random_search_xgb.fit(x_dum, y)\n",
    "time_end = time.time()\n",
    "xgb_search_time = np.round(time_end - time_start, 3)\n",
    "\n",
    "# Memprediksi data train dan test, menghitung skor RMSE\n",
    "best_model_xgb = random_search_xgb.best_estimator_\n",
    "xgb_pred_train = best_model_xgb.predict(x_train)\n",
    "xgb_RMSE_train = np.round(mean_squared_error(y_train, xgb_pred_train, squared=False), 2)\n",
    "xgb_pred_test = best_model_xgb.predict(x_test)\n",
    "xgb_RMSE_test = np.round(mean_squared_error(y_test, xgb_pred_test, squared=False), 2)\n",
    "\n",
    "print('Best Params:', random_search_xgb.best_params_)\n",
    "print('RMSE Best-XGB - Train:', xgb_RMSE_train)\n",
    "print('RMSE Best-XGB - Test:', xgb_RMSE_test)\n",
    "print('Search Time:', xgb_search_time, 'seconds')"
   ]
  },
  {
   "cell_type": "markdown",
   "metadata": {},
   "source": [
    "nilai rsme pada train terlihat memiliki nilai `3.24` dan test `5.1` ini cukup baik"
   ]
  },
  {
   "cell_type": "markdown",
   "metadata": {},
   "source": [
    "### Komparasi Akhir"
   ]
  },
  {
   "cell_type": "code",
   "execution_count": 44,
   "metadata": {},
   "outputs": [
    {
     "data": {
      "text/html": [
       "<div>\n",
       "<style scoped>\n",
       "    .dataframe tbody tr th:only-of-type {\n",
       "        vertical-align: middle;\n",
       "    }\n",
       "\n",
       "    .dataframe tbody tr th {\n",
       "        vertical-align: top;\n",
       "    }\n",
       "\n",
       "    .dataframe thead th {\n",
       "        text-align: right;\n",
       "    }\n",
       "</style>\n",
       "<table border=\"1\" class=\"dataframe\">\n",
       "  <thead>\n",
       "    <tr style=\"text-align: right;\">\n",
       "      <th></th>\n",
       "      <th>RMSE Original</th>\n",
       "      <th>RMSE-Opt Train</th>\n",
       "      <th>RMSE-Opt Test</th>\n",
       "      <th>Time (Seconds)</th>\n",
       "    </tr>\n",
       "  </thead>\n",
       "  <tbody>\n",
       "    <tr>\n",
       "      <th>Linear Regression</th>\n",
       "      <td>9.843455</td>\n",
       "      <td>5.79</td>\n",
       "      <td>10.01</td>\n",
       "      <td>0.006</td>\n",
       "    </tr>\n",
       "    <tr>\n",
       "      <th>Random Forest</th>\n",
       "      <td>7.850284</td>\n",
       "      <td>4.28</td>\n",
       "      <td>6.45</td>\n",
       "      <td>0.176</td>\n",
       "    </tr>\n",
       "    <tr>\n",
       "      <th>Decision Tree</th>\n",
       "      <td>8.588346</td>\n",
       "      <td>4.61</td>\n",
       "      <td>6.67</td>\n",
       "      <td>0.018</td>\n",
       "    </tr>\n",
       "    <tr>\n",
       "      <th>LightGBM</th>\n",
       "      <td>8.805254</td>\n",
       "      <td>2.88</td>\n",
       "      <td>7.12</td>\n",
       "      <td>0.021</td>\n",
       "    </tr>\n",
       "    <tr>\n",
       "      <th>XGBoost</th>\n",
       "      <td>9.230865</td>\n",
       "      <td>3.24</td>\n",
       "      <td>5.10</td>\n",
       "      <td>0.511</td>\n",
       "    </tr>\n",
       "  </tbody>\n",
       "</table>\n",
       "</div>"
      ],
      "text/plain": [
       "                   RMSE Original  RMSE-Opt Train   RMSE-Opt Test  \\\n",
       "Linear Regression       9.843455             5.79          10.01   \n",
       "Random Forest           7.850284             4.28           6.45   \n",
       "Decision Tree           8.588346             4.61           6.67   \n",
       "LightGBM                8.805254             2.88           7.12   \n",
       "XGBoost                 9.230865             3.24           5.10   \n",
       "\n",
       "                   Time (Seconds)  \n",
       "Linear Regression           0.006  \n",
       "Random Forest               0.176  \n",
       "Decision Tree               0.018  \n",
       "LightGBM                    0.021  \n",
       "XGBoost                     0.511  "
      ]
     },
     "execution_count": 44,
     "metadata": {},
     "output_type": "execute_result"
    }
   ],
   "source": [
    "# membuat tabel komparasi\n",
    "table_comp = pd.DataFrame(data = {\n",
    "    'RMSE Original': [linreg_rmse,rf_rmse,dtr_rmse, lgbr_rmse,xgbr_rmse],\n",
    "    'RMSE-Opt Train ': [linreg_RMSE_train,rf_RMSE_train, dtr_RMSE_train, lgb_RMSE_opt_train,xgb_RMSE_train],\n",
    "    'RMSE-Opt Test': [linreg_RMSE_test,rf_RMSE_test, dtr_RMSE_test, lgb_RMSE_opt_test,xgb_RMSE_test],\n",
    "    'Time (Seconds)': [linreg_time,rf_time,dtr_time, lgbr_time,xgbr_time]\n",
    "}, index=['Linear Regression','Random Forest','Decision Tree','LightGBM','XGBoost',])\n",
    "\n",
    "# menampilkan tabel komparasi\n",
    "table_comp"
   ]
  },
  {
   "cell_type": "markdown",
   "metadata": {},
   "source": [
    "**Kesimpulan:** rmse train dan test tertinggi pada model `linear regression`, sedangkan `xgboost` yang memiliki nilai rmse original tertinggi justru rmse train dan test nya tidak terlalu tinggi, malah nilai rmse testnya justru paling rendah dibandingkan model lainnya. `random forest` memiliki nilai rmse secara keseluruhan dengan range yang cukup kecil. begitu pula dengsn `decision tree` akan tetapi waktu untuk model ini 10 kali lebih kecil daripada `random forest`. `lightlgbm` memiliki nilai rmse train paling rendah akan tetapi dengan rmse test yang cukup tinggi.\n",
    "\n",
    "rmse pada test secara keseluruhan tidak ada yang melebihi `48`\n",
    "\n",
    "jika membutuhkan waktu yang sangat cepat disarankan menggunakan model `decision tree` akan tetapi jika ingin performa yang paling baik lebih baik menggunakan `random forest`"
   ]
  },
  {
   "cell_type": "markdown",
   "metadata": {},
   "source": [
    "## Kesimpulan"
   ]
  },
  {
   "cell_type": "markdown",
   "metadata": {},
   "source": [
    "1. terlihat bahwa semakin menuju bulan agustus terlihat bahwa semakin banyak orderan yang di dapatkan, untuk tanggal pada akhir bulan orderan juga mengalami peningkatan, untuk hari lebih banyak orderan pada hari `Kamis` dan `Minggu`. untuk jam terlihat pengingkatan(1 mei 2018) pada jam 21.00-02.00, dengan orderan terendah pada jam 06.00\n",
    "2. waktu tersingkat pada model-model tersebut adalah pada model `decision tree` sedangkan nilai rsme terendah adalah pada model `random forest`. `linear regression` memiliki nilai rsme terbesar sehingga tidak direkomendasikan menggunakan model ini, sedangkan `xgboost` memiliki waktu prediksi paling lama diantara model lain meskipun terhitung cukup cepat. model `decision tree`, `random forest` dan `lightgbm` memiliki performa yang cukup baik untuk dipertimbangkan.\n",
    "3. rmse train dan test tertinggi pada model `linear regression`, sedangkan `xgboost` yang memiliki nilai rmse original tertinggi justru rmse train dan test nya tidak terlalu tinggi, malah nilai rmse testnya justru paling rendah dibandingkan model lainnya. `random forest` memiliki nilai rmse secara keseluruhan dengan range yang cukup kecil. begitu pula dengsn `decision tree` akan tetapi waktu untuk model ini 10 kali lebih kecil daripada `random forest`. `lightlgbm` memiliki nilai rmse train paling rendah akan tetapi dengan rmse test yang cukup tinggi.\n"
   ]
  },
  {
   "cell_type": "markdown",
   "metadata": {},
   "source": [
    "### Temuan"
   ]
  },
  {
   "cell_type": "markdown",
   "metadata": {},
   "source": [
    "1. dataset berisikan 2 kolom dengan 26496 entry, tidak ada nilai hilang, akan tetapi kolom datetime memiliki tipe data yang salah sehingga harus diubah menjadi tipe data datetime lalu diubah menjadi index. tidak ada nilai hilang dan duplikasi pada dataset ini.\n",
    "2. dataset memerlukan seasonal untuk pengelompokkan agar mudah dianalisa\n",
    "3. rmse pada test secara keseluruhan tidak ada yang melebihi `48`"
   ]
  },
  {
   "cell_type": "markdown",
   "metadata": {},
   "source": [
    "### Rekomendasi"
   ]
  },
  {
   "cell_type": "markdown",
   "metadata": {},
   "source": [
    "1. model terbaik yang bisa disarankan untuk digunakan pada tahapan pelatihan adalah `decision tree` dengan waktu yang tidak terlalu lama dan rsme yang cukup baik\n",
    "2. jika membutuhkan waktu yang sangat cepat disarankan menggunakan model `decision tree` akan tetapi jika ingin performa yang paling baik lebih baik menggunakan `random forest`"
   ]
  }
 ],
 "metadata": {
  "ExecuteTimeLog": [
   {
    "duration": 5458,
    "start_time": "2024-06-12T03:50:36.922Z"
   },
   {
    "duration": 49,
    "start_time": "2024-06-12T03:50:42.384Z"
   },
   {
    "duration": 30,
    "start_time": "2024-06-12T03:50:49.392Z"
   },
   {
    "duration": 16,
    "start_time": "2024-06-12T03:51:08.708Z"
   },
   {
    "duration": 17,
    "start_time": "2024-06-12T03:51:39.382Z"
   },
   {
    "duration": 1103,
    "start_time": "2024-06-12T03:52:22.005Z"
   },
   {
    "duration": 26,
    "start_time": "2024-06-12T03:55:58.864Z"
   },
   {
    "duration": 1333,
    "start_time": "2024-06-12T03:57:33.994Z"
   },
   {
    "duration": 868,
    "start_time": "2024-06-12T03:58:05.294Z"
   },
   {
    "duration": 338,
    "start_time": "2024-06-12T03:58:30.305Z"
   },
   {
    "duration": 8,
    "start_time": "2024-06-12T04:00:57.873Z"
   },
   {
    "duration": 28,
    "start_time": "2024-06-12T04:01:01.436Z"
   },
   {
    "duration": 5374,
    "start_time": "2024-06-12T10:07:37.042Z"
   },
   {
    "duration": 53,
    "start_time": "2024-06-12T10:07:42.419Z"
   },
   {
    "duration": 16,
    "start_time": "2024-06-12T10:07:42.475Z"
   },
   {
    "duration": 38,
    "start_time": "2024-06-12T10:07:42.496Z"
   },
   {
    "duration": 26,
    "start_time": "2024-06-12T10:07:42.537Z"
   },
   {
    "duration": 15,
    "start_time": "2024-06-12T10:07:42.566Z"
   },
   {
    "duration": 466,
    "start_time": "2024-06-12T10:07:42.585Z"
   },
   {
    "duration": 0,
    "start_time": "2024-06-12T10:07:43.054Z"
   },
   {
    "duration": 0,
    "start_time": "2024-06-12T10:07:43.056Z"
   },
   {
    "duration": 0,
    "start_time": "2024-06-12T10:07:43.058Z"
   },
   {
    "duration": 0,
    "start_time": "2024-06-12T10:07:43.061Z"
   },
   {
    "duration": 0,
    "start_time": "2024-06-12T10:07:43.063Z"
   },
   {
    "duration": 0,
    "start_time": "2024-06-12T10:07:43.065Z"
   },
   {
    "duration": 0,
    "start_time": "2024-06-12T10:07:43.068Z"
   },
   {
    "duration": 0,
    "start_time": "2024-06-12T10:07:43.070Z"
   },
   {
    "duration": 1735,
    "start_time": "2024-06-12T10:09:21.828Z"
   },
   {
    "duration": 35,
    "start_time": "2024-06-12T10:09:23.567Z"
   },
   {
    "duration": 32,
    "start_time": "2024-06-12T10:09:23.605Z"
   },
   {
    "duration": 16,
    "start_time": "2024-06-12T10:09:23.640Z"
   },
   {
    "duration": 30,
    "start_time": "2024-06-12T10:09:23.660Z"
   },
   {
    "duration": 47,
    "start_time": "2024-06-12T10:09:23.693Z"
   },
   {
    "duration": 12,
    "start_time": "2024-06-12T10:09:23.742Z"
   },
   {
    "duration": 10,
    "start_time": "2024-06-12T10:09:23.759Z"
   },
   {
    "duration": 11,
    "start_time": "2024-06-12T10:09:23.775Z"
   },
   {
    "duration": 478,
    "start_time": "2024-06-12T10:09:23.790Z"
   },
   {
    "duration": 0,
    "start_time": "2024-06-12T10:09:24.271Z"
   },
   {
    "duration": 0,
    "start_time": "2024-06-12T10:09:24.275Z"
   },
   {
    "duration": 0,
    "start_time": "2024-06-12T10:09:24.278Z"
   },
   {
    "duration": 0,
    "start_time": "2024-06-12T10:09:24.280Z"
   },
   {
    "duration": 0,
    "start_time": "2024-06-12T10:09:24.282Z"
   },
   {
    "duration": 26,
    "start_time": "2024-06-12T10:09:56.433Z"
   },
   {
    "duration": 1408,
    "start_time": "2024-06-12T10:09:59.609Z"
   },
   {
    "duration": 33,
    "start_time": "2024-06-12T10:11:52.593Z"
   },
   {
    "duration": 17,
    "start_time": "2024-06-12T10:12:04.294Z"
   },
   {
    "duration": 5,
    "start_time": "2024-06-12T10:12:21.169Z"
   },
   {
    "duration": 12,
    "start_time": "2024-06-12T10:13:51.982Z"
   },
   {
    "duration": 5431,
    "start_time": "2024-06-12T11:35:54.097Z"
   },
   {
    "duration": 43,
    "start_time": "2024-06-12T11:35:59.532Z"
   },
   {
    "duration": 16,
    "start_time": "2024-06-12T11:35:59.578Z"
   },
   {
    "duration": 17,
    "start_time": "2024-06-12T11:35:59.603Z"
   },
   {
    "duration": 29,
    "start_time": "2024-06-12T11:35:59.624Z"
   },
   {
    "duration": 54,
    "start_time": "2024-06-12T11:35:59.656Z"
   },
   {
    "duration": 11,
    "start_time": "2024-06-12T11:35:59.714Z"
   },
   {
    "duration": 9,
    "start_time": "2024-06-12T11:35:59.728Z"
   },
   {
    "duration": 8,
    "start_time": "2024-06-12T11:35:59.740Z"
   },
   {
    "duration": 73,
    "start_time": "2024-06-12T11:35:59.751Z"
   },
   {
    "duration": 19,
    "start_time": "2024-06-12T11:35:59.828Z"
   },
   {
    "duration": 6,
    "start_time": "2024-06-12T11:35:59.849Z"
   },
   {
    "duration": 48,
    "start_time": "2024-06-12T11:35:59.858Z"
   },
   {
    "duration": 17,
    "start_time": "2024-06-12T11:36:17.763Z"
   },
   {
    "duration": 1321,
    "start_time": "2024-06-12T11:36:52.981Z"
   },
   {
    "duration": 896,
    "start_time": "2024-06-12T11:37:12.635Z"
   },
   {
    "duration": 370,
    "start_time": "2024-06-12T11:37:36.703Z"
   },
   {
    "duration": 597,
    "start_time": "2024-06-12T11:38:17.212Z"
   },
   {
    "duration": 8,
    "start_time": "2024-06-12T11:39:14.916Z"
   },
   {
    "duration": 30,
    "start_time": "2024-06-12T11:39:14.928Z"
   },
   {
    "duration": 15,
    "start_time": "2024-06-12T11:39:14.961Z"
   },
   {
    "duration": 20,
    "start_time": "2024-06-12T11:39:15.001Z"
   },
   {
    "duration": 28,
    "start_time": "2024-06-12T11:39:15.028Z"
   },
   {
    "duration": 53,
    "start_time": "2024-06-12T11:39:15.060Z"
   },
   {
    "duration": 1301,
    "start_time": "2024-06-12T11:39:15.117Z"
   },
   {
    "duration": 942,
    "start_time": "2024-06-12T11:39:16.421Z"
   },
   {
    "duration": 361,
    "start_time": "2024-06-12T11:39:17.366Z"
   },
   {
    "duration": 527,
    "start_time": "2024-06-12T11:39:17.730Z"
   },
   {
    "duration": 18,
    "start_time": "2024-06-12T11:39:18.261Z"
   },
   {
    "duration": 25,
    "start_time": "2024-06-12T11:39:18.282Z"
   },
   {
    "duration": 10,
    "start_time": "2024-06-12T11:39:18.311Z"
   },
   {
    "duration": 7,
    "start_time": "2024-06-12T11:39:18.327Z"
   },
   {
    "duration": 26,
    "start_time": "2024-06-12T11:39:18.337Z"
   },
   {
    "duration": 19,
    "start_time": "2024-06-12T11:39:18.403Z"
   },
   {
    "duration": 6,
    "start_time": "2024-06-12T11:39:18.424Z"
   },
   {
    "duration": 14,
    "start_time": "2024-06-12T11:39:18.433Z"
   },
   {
    "duration": 7,
    "start_time": "2024-06-12T11:40:56.895Z"
   },
   {
    "duration": 31,
    "start_time": "2024-06-12T11:40:56.912Z"
   },
   {
    "duration": 17,
    "start_time": "2024-06-12T11:40:56.946Z"
   },
   {
    "duration": 50,
    "start_time": "2024-06-12T11:40:56.966Z"
   },
   {
    "duration": 26,
    "start_time": "2024-06-12T11:40:57.019Z"
   },
   {
    "duration": 51,
    "start_time": "2024-06-12T11:40:57.052Z"
   },
   {
    "duration": 17,
    "start_time": "2024-06-12T11:40:57.109Z"
   },
   {
    "duration": 1404,
    "start_time": "2024-06-12T11:40:57.129Z"
   },
   {
    "duration": 916,
    "start_time": "2024-06-12T11:40:58.537Z"
   },
   {
    "duration": 358,
    "start_time": "2024-06-12T11:40:59.457Z"
   },
   {
    "duration": 519,
    "start_time": "2024-06-12T11:40:59.818Z"
   },
   {
    "duration": 11,
    "start_time": "2024-06-12T11:41:00.341Z"
   },
   {
    "duration": 19,
    "start_time": "2024-06-12T11:41:00.356Z"
   },
   {
    "duration": 28,
    "start_time": "2024-06-12T11:41:00.379Z"
   },
   {
    "duration": 25,
    "start_time": "2024-06-12T11:41:00.413Z"
   },
   {
    "duration": 20,
    "start_time": "2024-06-12T11:41:00.441Z"
   },
   {
    "duration": 39,
    "start_time": "2024-06-12T11:41:00.463Z"
   },
   {
    "duration": 12,
    "start_time": "2024-06-12T11:41:00.506Z"
   },
   {
    "duration": 530,
    "start_time": "2024-06-12T11:43:06.262Z"
   },
   {
    "duration": 7,
    "start_time": "2024-06-12T11:46:34.299Z"
   },
   {
    "duration": 28,
    "start_time": "2024-06-12T11:46:34.310Z"
   },
   {
    "duration": 14,
    "start_time": "2024-06-12T11:46:34.342Z"
   },
   {
    "duration": 49,
    "start_time": "2024-06-12T11:46:34.360Z"
   },
   {
    "duration": 24,
    "start_time": "2024-06-12T11:46:34.412Z"
   },
   {
    "duration": 16,
    "start_time": "2024-06-12T11:46:34.440Z"
   },
   {
    "duration": 48,
    "start_time": "2024-06-12T11:46:34.458Z"
   },
   {
    "duration": 1366,
    "start_time": "2024-06-12T11:46:34.509Z"
   },
   {
    "duration": 944,
    "start_time": "2024-06-12T11:46:35.879Z"
   },
   {
    "duration": 375,
    "start_time": "2024-06-12T11:46:36.829Z"
   },
   {
    "duration": 534,
    "start_time": "2024-06-12T11:46:37.207Z"
   },
   {
    "duration": 14,
    "start_time": "2024-06-12T11:46:37.743Z"
   },
   {
    "duration": 11,
    "start_time": "2024-06-12T11:46:37.761Z"
   },
   {
    "duration": 10,
    "start_time": "2024-06-12T11:46:37.802Z"
   },
   {
    "duration": 7,
    "start_time": "2024-06-12T11:46:37.815Z"
   },
   {
    "duration": 25,
    "start_time": "2024-06-12T11:46:37.826Z"
   },
   {
    "duration": 55,
    "start_time": "2024-06-12T11:46:37.854Z"
   },
   {
    "duration": 5,
    "start_time": "2024-06-12T11:46:37.912Z"
   },
   {
    "duration": 13,
    "start_time": "2024-06-12T11:46:37.921Z"
   },
   {
    "duration": 1159,
    "start_time": "2024-06-12T11:47:41.968Z"
   },
   {
    "duration": 1693,
    "start_time": "2024-06-12T11:49:01.130Z"
   },
   {
    "duration": 35,
    "start_time": "2024-06-12T11:49:02.827Z"
   },
   {
    "duration": 36,
    "start_time": "2024-06-12T11:49:02.865Z"
   },
   {
    "duration": 18,
    "start_time": "2024-06-12T11:49:02.905Z"
   },
   {
    "duration": 28,
    "start_time": "2024-06-12T11:49:02.927Z"
   },
   {
    "duration": 51,
    "start_time": "2024-06-12T11:49:02.958Z"
   },
   {
    "duration": 8,
    "start_time": "2024-06-12T11:49:03.012Z"
   },
   {
    "duration": 1316,
    "start_time": "2024-06-12T11:49:03.022Z"
   },
   {
    "duration": 960,
    "start_time": "2024-06-12T11:49:04.341Z"
   },
   {
    "duration": 351,
    "start_time": "2024-06-12T11:49:05.304Z"
   },
   {
    "duration": 1196,
    "start_time": "2024-06-12T11:49:05.658Z"
   },
   {
    "duration": 13,
    "start_time": "2024-06-12T11:49:06.858Z"
   },
   {
    "duration": 33,
    "start_time": "2024-06-12T11:49:06.874Z"
   },
   {
    "duration": 13,
    "start_time": "2024-06-12T11:49:06.913Z"
   },
   {
    "duration": 11,
    "start_time": "2024-06-12T11:49:06.931Z"
   },
   {
    "duration": 61,
    "start_time": "2024-06-12T11:49:06.946Z"
   },
   {
    "duration": 19,
    "start_time": "2024-06-12T11:49:07.010Z"
   },
   {
    "duration": 6,
    "start_time": "2024-06-12T11:49:07.032Z"
   },
   {
    "duration": 13,
    "start_time": "2024-06-12T11:49:07.042Z"
   },
   {
    "duration": 458,
    "start_time": "2024-06-12T11:50:21.012Z"
   },
   {
    "duration": 127,
    "start_time": "2024-06-12T11:50:37.739Z"
   },
   {
    "duration": 27,
    "start_time": "2024-06-12T11:51:23.889Z"
   },
   {
    "duration": 15,
    "start_time": "2024-06-12T11:52:50.425Z"
   },
   {
    "duration": 12,
    "start_time": "2024-06-12T11:52:55.839Z"
   },
   {
    "duration": 30,
    "start_time": "2024-06-12T11:52:55.856Z"
   },
   {
    "duration": 17,
    "start_time": "2024-06-12T11:52:55.890Z"
   },
   {
    "duration": 18,
    "start_time": "2024-06-12T11:52:55.911Z"
   },
   {
    "duration": 35,
    "start_time": "2024-06-12T11:52:55.932Z"
   },
   {
    "duration": 37,
    "start_time": "2024-06-12T11:52:55.971Z"
   },
   {
    "duration": 8,
    "start_time": "2024-06-12T11:52:56.012Z"
   },
   {
    "duration": 1418,
    "start_time": "2024-06-12T11:52:56.023Z"
   },
   {
    "duration": 904,
    "start_time": "2024-06-12T11:52:57.444Z"
   },
   {
    "duration": 350,
    "start_time": "2024-06-12T11:52:58.355Z"
   },
   {
    "duration": 1173,
    "start_time": "2024-06-12T11:52:58.708Z"
   },
   {
    "duration": 22,
    "start_time": "2024-06-12T11:52:59.884Z"
   },
   {
    "duration": 10,
    "start_time": "2024-06-12T11:52:59.909Z"
   },
   {
    "duration": 10,
    "start_time": "2024-06-12T11:52:59.922Z"
   },
   {
    "duration": 10,
    "start_time": "2024-06-12T11:52:59.935Z"
   },
   {
    "duration": 70,
    "start_time": "2024-06-12T11:52:59.949Z"
   },
   {
    "duration": 18,
    "start_time": "2024-06-12T11:53:00.022Z"
   },
   {
    "duration": 6,
    "start_time": "2024-06-12T11:53:00.043Z"
   },
   {
    "duration": 47,
    "start_time": "2024-06-12T11:53:00.054Z"
   },
   {
    "duration": 186,
    "start_time": "2024-06-12T11:53:00.105Z"
   },
   {
    "duration": 23,
    "start_time": "2024-06-12T11:53:00.294Z"
   },
   {
    "duration": 12,
    "start_time": "2024-06-12T11:57:48.103Z"
   },
   {
    "duration": 17,
    "start_time": "2024-06-12T11:58:25.433Z"
   },
   {
    "duration": 511,
    "start_time": "2024-06-12T12:08:31.593Z"
   },
   {
    "duration": 537,
    "start_time": "2024-06-12T12:45:34.998Z"
   },
   {
    "duration": 528,
    "start_time": "2024-06-12T12:47:21.018Z"
   },
   {
    "duration": 662,
    "start_time": "2024-06-12T12:49:50.090Z"
   },
   {
    "duration": 518,
    "start_time": "2024-06-12T12:50:08.233Z"
   },
   {
    "duration": 553,
    "start_time": "2024-06-12T12:50:11.211Z"
   },
   {
    "duration": 599,
    "start_time": "2024-06-12T12:50:29.412Z"
   },
   {
    "duration": 527,
    "start_time": "2024-06-12T12:50:41.089Z"
   },
   {
    "duration": 541,
    "start_time": "2024-06-12T12:51:05.282Z"
   },
   {
    "duration": 558,
    "start_time": "2024-06-12T12:51:33.650Z"
   },
   {
    "duration": 555,
    "start_time": "2024-06-12T12:51:56.524Z"
   },
   {
    "duration": 547,
    "start_time": "2024-06-12T12:53:59.125Z"
   },
   {
    "duration": 37,
    "start_time": "2024-06-12T12:58:28.280Z"
   },
   {
    "duration": 32,
    "start_time": "2024-06-12T12:58:40.829Z"
   },
   {
    "duration": 425,
    "start_time": "2024-06-12T12:59:16.900Z"
   },
   {
    "duration": 26,
    "start_time": "2024-06-12T13:23:05.830Z"
   },
   {
    "duration": 7,
    "start_time": "2024-06-12T13:23:12.300Z"
   },
   {
    "duration": 216,
    "start_time": "2024-06-12T13:24:14.808Z"
   },
   {
    "duration": 24,
    "start_time": "2024-06-12T13:24:47.810Z"
   },
   {
    "duration": 6,
    "start_time": "2024-06-12T13:24:52.157Z"
   },
   {
    "duration": 105881,
    "start_time": "2024-06-12T13:25:30.837Z"
   },
   {
    "duration": 7,
    "start_time": "2024-06-12T13:28:30.709Z"
   },
   {
    "duration": 458,
    "start_time": "2024-06-12T13:29:34.229Z"
   },
   {
    "duration": 26,
    "start_time": "2024-06-12T13:30:45.890Z"
   },
   {
    "duration": 25,
    "start_time": "2024-06-12T13:30:50.834Z"
   },
   {
    "duration": 6,
    "start_time": "2024-06-12T13:31:41.980Z"
   },
   {
    "duration": 22,
    "start_time": "2024-06-12T13:32:32.251Z"
   },
   {
    "duration": 7,
    "start_time": "2024-06-12T13:33:17.734Z"
   },
   {
    "duration": 32,
    "start_time": "2024-06-12T13:36:51.079Z"
   },
   {
    "duration": 30,
    "start_time": "2024-06-12T13:37:09.636Z"
   },
   {
    "duration": 32,
    "start_time": "2024-06-12T13:39:20.529Z"
   },
   {
    "duration": 41,
    "start_time": "2024-06-12T13:41:32.148Z"
   },
   {
    "duration": 35,
    "start_time": "2024-06-12T13:41:39.203Z"
   },
   {
    "duration": 33,
    "start_time": "2024-06-12T13:42:06.758Z"
   },
   {
    "duration": 36,
    "start_time": "2024-06-12T13:42:51.548Z"
   },
   {
    "duration": 414,
    "start_time": "2024-06-12T13:43:06.338Z"
   },
   {
    "duration": 50,
    "start_time": "2024-06-12T13:45:30.670Z"
   },
   {
    "duration": 52,
    "start_time": "2024-06-12T13:46:25.003Z"
   },
   {
    "duration": 12,
    "start_time": "2024-06-12T13:47:00.601Z"
   },
   {
    "duration": 1580,
    "start_time": "2024-06-12T13:47:07.042Z"
   },
   {
    "duration": 25,
    "start_time": "2024-06-12T13:47:29.752Z"
   },
   {
    "duration": 8,
    "start_time": "2024-06-12T13:47:35.160Z"
   },
   {
    "duration": 1886,
    "start_time": "2024-06-12T13:56:24.706Z"
   },
   {
    "duration": 47,
    "start_time": "2024-06-12T13:56:26.595Z"
   },
   {
    "duration": 17,
    "start_time": "2024-06-12T13:56:26.645Z"
   },
   {
    "duration": 37,
    "start_time": "2024-06-12T13:56:26.665Z"
   },
   {
    "duration": 29,
    "start_time": "2024-06-12T13:56:26.707Z"
   },
   {
    "duration": 13,
    "start_time": "2024-06-12T13:56:26.742Z"
   },
   {
    "duration": 53,
    "start_time": "2024-06-12T13:56:26.758Z"
   },
   {
    "duration": 7,
    "start_time": "2024-06-12T13:56:26.815Z"
   },
   {
    "duration": 1333,
    "start_time": "2024-06-12T13:56:26.825Z"
   },
   {
    "duration": 1002,
    "start_time": "2024-06-12T13:56:28.162Z"
   },
   {
    "duration": 364,
    "start_time": "2024-06-12T13:56:29.168Z"
   },
   {
    "duration": 1207,
    "start_time": "2024-06-12T13:56:29.535Z"
   },
   {
    "duration": 539,
    "start_time": "2024-06-12T13:56:30.745Z"
   },
   {
    "duration": 12,
    "start_time": "2024-06-12T13:56:31.301Z"
   },
   {
    "duration": 10,
    "start_time": "2024-06-12T13:56:31.316Z"
   },
   {
    "duration": 10,
    "start_time": "2024-06-12T13:56:31.329Z"
   },
   {
    "duration": 9,
    "start_time": "2024-06-12T13:56:31.343Z"
   },
   {
    "duration": 70,
    "start_time": "2024-06-12T13:56:31.356Z"
   },
   {
    "duration": 18,
    "start_time": "2024-06-12T13:56:31.429Z"
   },
   {
    "duration": 5,
    "start_time": "2024-06-12T13:56:31.450Z"
   },
   {
    "duration": 48,
    "start_time": "2024-06-12T13:56:31.458Z"
   },
   {
    "duration": 211,
    "start_time": "2024-06-12T13:56:31.509Z"
   },
   {
    "duration": 20,
    "start_time": "2024-06-12T13:56:31.723Z"
   },
   {
    "duration": 173,
    "start_time": "2024-06-12T13:56:31.746Z"
   },
   {
    "duration": 444,
    "start_time": "2024-06-12T13:56:31.923Z"
   },
   {
    "duration": 32,
    "start_time": "2024-06-12T13:56:32.373Z"
   },
   {
    "duration": 292,
    "start_time": "2024-06-12T13:56:32.408Z"
   },
   {
    "duration": 10,
    "start_time": "2024-06-12T13:56:32.703Z"
   },
   {
    "duration": 104031,
    "start_time": "2024-06-12T13:56:32.716Z"
   },
   {
    "duration": 562,
    "start_time": "2024-06-12T13:58:16.750Z"
   },
   {
    "duration": 0,
    "start_time": "2024-06-12T13:58:17.315Z"
   },
   {
    "duration": 0,
    "start_time": "2024-06-12T13:58:17.317Z"
   },
   {
    "duration": 0,
    "start_time": "2024-06-12T13:58:17.320Z"
   },
   {
    "duration": 0,
    "start_time": "2024-06-12T13:58:17.322Z"
   },
   {
    "duration": 0,
    "start_time": "2024-06-12T13:58:17.324Z"
   },
   {
    "duration": 15,
    "start_time": "2024-06-12T14:03:12.896Z"
   },
   {
    "duration": 6,
    "start_time": "2024-06-12T14:13:38.571Z"
   },
   {
    "duration": 458,
    "start_time": "2024-06-12T14:14:02.518Z"
   },
   {
    "duration": 6,
    "start_time": "2024-06-12T14:14:41.007Z"
   },
   {
    "duration": 2545,
    "start_time": "2024-06-12T14:14:55.663Z"
   },
   {
    "duration": 9,
    "start_time": "2024-06-12T14:15:51.188Z"
   },
   {
    "duration": 368,
    "start_time": "2024-06-12T14:23:25.863Z"
   },
   {
    "duration": 1826,
    "start_time": "2024-06-12T14:23:38.197Z"
   },
   {
    "duration": 42,
    "start_time": "2024-06-12T14:23:40.027Z"
   },
   {
    "duration": 32,
    "start_time": "2024-06-12T14:23:40.071Z"
   },
   {
    "duration": 16,
    "start_time": "2024-06-12T14:23:40.106Z"
   },
   {
    "duration": 29,
    "start_time": "2024-06-12T14:23:40.126Z"
   },
   {
    "duration": 51,
    "start_time": "2024-06-12T14:23:40.158Z"
   },
   {
    "duration": 18,
    "start_time": "2024-06-12T14:23:40.213Z"
   },
   {
    "duration": 9,
    "start_time": "2024-06-12T14:23:40.234Z"
   },
   {
    "duration": 1367,
    "start_time": "2024-06-12T14:23:40.247Z"
   },
   {
    "duration": 951,
    "start_time": "2024-06-12T14:23:41.617Z"
   },
   {
    "duration": 377,
    "start_time": "2024-06-12T14:23:42.572Z"
   },
   {
    "duration": 1176,
    "start_time": "2024-06-12T14:23:42.952Z"
   },
   {
    "duration": 534,
    "start_time": "2024-06-12T14:23:44.132Z"
   },
   {
    "duration": 40,
    "start_time": "2024-06-12T14:23:44.674Z"
   },
   {
    "duration": 11,
    "start_time": "2024-06-12T14:23:44.718Z"
   },
   {
    "duration": 11,
    "start_time": "2024-06-12T14:23:44.732Z"
   },
   {
    "duration": 9,
    "start_time": "2024-06-12T14:23:44.748Z"
   },
   {
    "duration": 67,
    "start_time": "2024-06-12T14:23:44.760Z"
   },
   {
    "duration": 17,
    "start_time": "2024-06-12T14:23:44.830Z"
   },
   {
    "duration": 6,
    "start_time": "2024-06-12T14:23:44.850Z"
   },
   {
    "duration": 48,
    "start_time": "2024-06-12T14:23:44.859Z"
   },
   {
    "duration": 205,
    "start_time": "2024-06-12T14:23:44.910Z"
   },
   {
    "duration": 18,
    "start_time": "2024-06-12T14:23:45.118Z"
   },
   {
    "duration": 76,
    "start_time": "2024-06-12T14:23:45.139Z"
   },
   {
    "duration": 445,
    "start_time": "2024-06-12T14:23:45.218Z"
   },
   {
    "duration": 37,
    "start_time": "2024-06-12T14:23:45.666Z"
   },
   {
    "duration": 8,
    "start_time": "2024-06-12T14:23:45.706Z"
   },
   {
    "duration": 299,
    "start_time": "2024-06-12T14:23:45.717Z"
   },
   {
    "duration": 82,
    "start_time": "2024-06-12T14:23:46.019Z"
   },
   {
    "duration": 104131,
    "start_time": "2024-06-12T14:23:46.105Z"
   },
   {
    "duration": 7,
    "start_time": "2024-06-12T14:25:30.241Z"
   },
   {
    "duration": 490,
    "start_time": "2024-06-12T14:25:30.252Z"
   },
   {
    "duration": 7,
    "start_time": "2024-06-12T14:25:30.746Z"
   },
   {
    "duration": 1547,
    "start_time": "2024-06-12T14:25:30.756Z"
   },
   {
    "duration": 9,
    "start_time": "2024-06-12T14:25:32.305Z"
   },
   {
    "duration": 1805,
    "start_time": "2024-06-12T14:29:06.550Z"
   },
   {
    "duration": 38,
    "start_time": "2024-06-12T14:29:08.358Z"
   },
   {
    "duration": 16,
    "start_time": "2024-06-12T14:29:08.404Z"
   },
   {
    "duration": 17,
    "start_time": "2024-06-12T14:29:08.423Z"
   },
   {
    "duration": 64,
    "start_time": "2024-06-12T14:29:08.445Z"
   },
   {
    "duration": 13,
    "start_time": "2024-06-12T14:29:08.512Z"
   },
   {
    "duration": 16,
    "start_time": "2024-06-12T14:29:08.528Z"
   },
   {
    "duration": 8,
    "start_time": "2024-06-12T14:29:08.547Z"
   },
   {
    "duration": 1421,
    "start_time": "2024-06-12T14:29:08.558Z"
   },
   {
    "duration": 999,
    "start_time": "2024-06-12T14:29:09.981Z"
   },
   {
    "duration": 362,
    "start_time": "2024-06-12T14:29:10.983Z"
   },
   {
    "duration": 1202,
    "start_time": "2024-06-12T14:29:11.348Z"
   },
   {
    "duration": 596,
    "start_time": "2024-06-12T14:29:12.554Z"
   },
   {
    "duration": 15,
    "start_time": "2024-06-12T14:29:13.157Z"
   },
   {
    "duration": 12,
    "start_time": "2024-06-12T14:29:13.202Z"
   },
   {
    "duration": 11,
    "start_time": "2024-06-12T14:29:13.216Z"
   },
   {
    "duration": 8,
    "start_time": "2024-06-12T14:29:13.230Z"
   },
   {
    "duration": 67,
    "start_time": "2024-06-12T14:29:13.241Z"
   },
   {
    "duration": 18,
    "start_time": "2024-06-12T14:29:13.311Z"
   },
   {
    "duration": 6,
    "start_time": "2024-06-12T14:29:13.332Z"
   },
   {
    "duration": 14,
    "start_time": "2024-06-12T14:29:13.343Z"
   },
   {
    "duration": 185,
    "start_time": "2024-06-12T14:29:13.403Z"
   },
   {
    "duration": 25,
    "start_time": "2024-06-12T14:29:13.591Z"
   },
   {
    "duration": 87,
    "start_time": "2024-06-12T14:29:13.619Z"
   },
   {
    "duration": 521,
    "start_time": "2024-06-12T14:29:13.708Z"
   },
   {
    "duration": 14,
    "start_time": "2024-06-12T14:29:14.233Z"
   },
   {
    "duration": 7,
    "start_time": "2024-06-12T14:29:14.251Z"
   },
   {
    "duration": 260,
    "start_time": "2024-06-12T14:29:14.262Z"
   },
   {
    "duration": 75,
    "start_time": "2024-06-12T14:29:14.528Z"
   },
   {
    "duration": 104257,
    "start_time": "2024-06-12T14:29:14.606Z"
   },
   {
    "duration": 7,
    "start_time": "2024-06-12T14:30:58.866Z"
   },
   {
    "duration": 486,
    "start_time": "2024-06-12T14:30:58.876Z"
   },
   {
    "duration": 8,
    "start_time": "2024-06-12T14:30:59.368Z"
   },
   {
    "duration": 1449,
    "start_time": "2024-06-12T14:30:59.379Z"
   },
   {
    "duration": 9,
    "start_time": "2024-06-12T14:31:00.902Z"
   },
   {
    "duration": 565,
    "start_time": "2024-06-12T14:31:00.916Z"
   },
   {
    "duration": 0,
    "start_time": "2024-06-12T14:31:01.483Z"
   },
   {
    "duration": 128667,
    "start_time": "2024-06-12T14:32:34.755Z"
   },
   {
    "duration": 29,
    "start_time": "2024-06-12T14:35:03.113Z"
   },
   {
    "duration": 32,
    "start_time": "2024-06-12T14:35:14.028Z"
   },
   {
    "duration": 32,
    "start_time": "2024-06-12T14:35:22.711Z"
   },
   {
    "duration": 14,
    "start_time": "2024-06-12T14:39:46.057Z"
   },
   {
    "duration": 29,
    "start_time": "2024-06-12T14:40:24.432Z"
   },
   {
    "duration": 34,
    "start_time": "2024-06-12T14:40:31.819Z"
   },
   {
    "duration": 15,
    "start_time": "2024-06-12T14:40:38.497Z"
   }
  ],
  "kernelspec": {
   "display_name": "Python 3 (ipykernel)",
   "language": "python",
   "name": "python3"
  },
  "language_info": {
   "codemirror_mode": {
    "name": "ipython",
    "version": 3
   },
   "file_extension": ".py",
   "mimetype": "text/x-python",
   "name": "python",
   "nbconvert_exporter": "python",
   "pygments_lexer": "ipython3",
   "version": "3.9.19"
  },
  "toc": {
   "base_numbering": 1,
   "nav_menu": {},
   "number_sections": true,
   "sideBar": true,
   "skip_h1_title": true,
   "title_cell": "Table of Contents",
   "title_sidebar": "Contents",
   "toc_cell": false,
   "toc_position": {},
   "toc_section_display": true,
   "toc_window_display": false
  }
 },
 "nbformat": 4,
 "nbformat_minor": 2
}
